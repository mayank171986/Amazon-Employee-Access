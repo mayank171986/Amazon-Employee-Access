{
 "cells": [
  {
   "cell_type": "code",
   "execution_count": 1,
   "metadata": {},
   "outputs": [],
   "source": [
    "# import libraries\n",
    "import pandas as pd\n",
    "import numpy as np\n",
    "from sklearn.preprocessing import OneHotEncoder\n",
    "from scipy.sparse import hstack\n",
    "import category_encoders as ce\n",
    "from scipy import sparse\n",
    "\n",
    "from itertools import permutations\n",
    "from sklearn.decomposition import TruncatedSVD\n",
    "from sklearn.feature_extraction.text import TfidfVectorizer\n",
    "from tqdm import tqdm\n",
    "\n",
    "# import warnings\n",
    "# warnings.filterwarnings('ignore')"
   ]
  },
  {
   "cell_type": "markdown",
   "metadata": {},
   "source": [
    "# Amazon Employee Access Challenge"
   ]
  },
  {
   "cell_type": "code",
   "execution_count": 2,
   "metadata": {},
   "outputs": [],
   "source": [
    "train = pd.read_csv('data/train.csv')\n",
    "test = pd.read_csv('data/test.csv')"
   ]
  },
  {
   "cell_type": "code",
   "execution_count": 3,
   "metadata": {},
   "outputs": [
    {
     "data": {
      "text/plain": [
       "(32769, 10)"
      ]
     },
     "execution_count": 3,
     "metadata": {},
     "output_type": "execute_result"
    }
   ],
   "source": [
    "train.shape"
   ]
  },
  {
   "cell_type": "code",
   "execution_count": 4,
   "metadata": {},
   "outputs": [
    {
     "data": {
      "text/plain": [
       "(58921, 10)"
      ]
     },
     "execution_count": 4,
     "metadata": {},
     "output_type": "execute_result"
    }
   ],
   "source": [
    "test.shape"
   ]
  },
  {
   "cell_type": "markdown",
   "metadata": {},
   "source": [
    "## One Hot Encoding"
   ]
  },
  {
   "cell_type": "code",
   "execution_count": 5,
   "metadata": {},
   "outputs": [
    {
     "name": "stdout",
     "output_type": "stream",
     "text": [
      "(32769, 7518) (58921, 7518)\n"
     ]
    }
   ],
   "source": [
    "# One hot encoding of RESOURCE Feature\n",
    "ohe = OneHotEncoder(handle_unknown='ignore')\n",
    "\n",
    "ohe.fit(train['RESOURCE'].values.reshape(-1, 1))# Fit has to happen only on train data\n",
    "\n",
    "train_resource_ohe = ohe.transform(train['RESOURCE'].values.reshape(-1, 1))\n",
    "test_resource_ohe = ohe.transform(test['RESOURCE'].values.reshape(-1, 1))\n",
    "\n",
    "print(train_resource_ohe.shape, test_resource_ohe.shape)"
   ]
  },
  {
   "cell_type": "code",
   "execution_count": 6,
   "metadata": {},
   "outputs": [
    {
     "name": "stdout",
     "output_type": "stream",
     "text": [
      "(32769, 4243) (58921, 4243)\n"
     ]
    }
   ],
   "source": [
    "# One hot encoding of MGR_ID Feature\n",
    "ohe = OneHotEncoder(handle_unknown='ignore')\n",
    "\n",
    "ohe.fit(train['MGR_ID'].values.reshape(-1, 1))# Fit has to happen only on train data\n",
    "\n",
    "train_mgr_id_ohe = ohe.transform(train['MGR_ID'].values.reshape(-1, 1))\n",
    "test_mgr_id_ohe = ohe.transform(test['MGR_ID'].values.reshape(-1, 1))\n",
    "\n",
    "print(train_mgr_id_ohe.shape, test_mgr_id_ohe.shape)"
   ]
  },
  {
   "cell_type": "code",
   "execution_count": 7,
   "metadata": {},
   "outputs": [
    {
     "name": "stdout",
     "output_type": "stream",
     "text": [
      "(32769, 128) (58921, 128)\n"
     ]
    }
   ],
   "source": [
    "# One hot encoding of ROLE_ROLLUP_1 Feature\n",
    "ohe = OneHotEncoder(handle_unknown='ignore')\n",
    "\n",
    "ohe.fit(train['ROLE_ROLLUP_1'].values.reshape(-1, 1))# Fit has to happen only on train data\n",
    "\n",
    "train_role_rollup_1_ohe = ohe.transform(train['ROLE_ROLLUP_1'].values.reshape(-1, 1))\n",
    "test_role_rollup_1_ohe = ohe.transform(test['ROLE_ROLLUP_1'].values.reshape(-1, 1))\n",
    "\n",
    "print(train_role_rollup_1_ohe.shape, test_role_rollup_1_ohe.shape)"
   ]
  },
  {
   "cell_type": "code",
   "execution_count": 8,
   "metadata": {},
   "outputs": [
    {
     "name": "stdout",
     "output_type": "stream",
     "text": [
      "(32769, 177) (58921, 177)\n"
     ]
    }
   ],
   "source": [
    "# One hot encoding of ROLE_ROLLUP_2 Feature\n",
    "ohe = OneHotEncoder(handle_unknown='ignore')\n",
    "\n",
    "ohe.fit(train['ROLE_ROLLUP_2'].values.reshape(-1, 1))# Fit has to happen only on train data\n",
    "\n",
    "train_role_rollup_2_ohe = ohe.transform(train['ROLE_ROLLUP_2'].values.reshape(-1, 1))\n",
    "test_role_rollup_2_ohe = ohe.transform(test['ROLE_ROLLUP_2'].values.reshape(-1, 1))\n",
    "\n",
    "print(train_role_rollup_2_ohe.shape, test_role_rollup_2_ohe.shape)"
   ]
  },
  {
   "cell_type": "code",
   "execution_count": 9,
   "metadata": {},
   "outputs": [
    {
     "name": "stdout",
     "output_type": "stream",
     "text": [
      "(32769, 449) (58921, 449)\n"
     ]
    }
   ],
   "source": [
    "# One hot encoding of ROLE_DEPTNAME Feature\n",
    "ohe = OneHotEncoder(handle_unknown='ignore')\n",
    "\n",
    "ohe.fit(train['ROLE_DEPTNAME'].values.reshape(-1, 1))# Fit has to happen only on train data\n",
    "\n",
    "train_role_deptname_ohe = ohe.transform(train['ROLE_DEPTNAME'].values.reshape(-1, 1))\n",
    "test_role_deptname_ohe = ohe.transform(test['ROLE_DEPTNAME'].values.reshape(-1, 1))\n",
    "\n",
    "print(train_role_deptname_ohe.shape, test_role_deptname_ohe.shape)"
   ]
  },
  {
   "cell_type": "code",
   "execution_count": 10,
   "metadata": {},
   "outputs": [
    {
     "name": "stdout",
     "output_type": "stream",
     "text": [
      "(32769, 343) (58921, 343)\n"
     ]
    }
   ],
   "source": [
    "# One hot encoding of ROLE_TITLE Feature\n",
    "ohe = OneHotEncoder(handle_unknown='ignore')\n",
    "\n",
    "ohe.fit(train['ROLE_TITLE'].values.reshape(-1, 1))# Fit has to happen only on train data\n",
    "\n",
    "train_role_title_ohe = ohe.transform(train['ROLE_TITLE'].values.reshape(-1, 1))\n",
    "test_role_title_ohe = ohe.transform(test['ROLE_TITLE'].values.reshape(-1, 1))\n",
    "\n",
    "print(train_role_title_ohe.shape, test_role_title_ohe.shape)"
   ]
  },
  {
   "cell_type": "code",
   "execution_count": 11,
   "metadata": {},
   "outputs": [
    {
     "name": "stdout",
     "output_type": "stream",
     "text": [
      "(32769, 2358) (58921, 2358)\n"
     ]
    }
   ],
   "source": [
    "# One hot encoding of ROLE_FAMILY_DESC Feature\n",
    "ohe = OneHotEncoder(handle_unknown='ignore')\n",
    "\n",
    "ohe.fit(train['ROLE_FAMILY_DESC'].values.reshape(-1, 1))# Fit has to happen only on train data\n",
    "\n",
    "train_role_family_desc_ohe = ohe.transform(train['ROLE_FAMILY_DESC'].values.reshape(-1, 1))\n",
    "test_role_family_desc_ohe = ohe.transform(test['ROLE_FAMILY_DESC'].values.reshape(-1, 1))\n",
    "\n",
    "print(train_role_family_desc_ohe.shape, test_role_family_desc_ohe.shape)"
   ]
  },
  {
   "cell_type": "code",
   "execution_count": 12,
   "metadata": {},
   "outputs": [
    {
     "name": "stdout",
     "output_type": "stream",
     "text": [
      "(32769, 67) (58921, 67)\n"
     ]
    }
   ],
   "source": [
    "# One hot encoding of ROLE_FAMILY Feature\n",
    "ohe = OneHotEncoder(handle_unknown='ignore')\n",
    "\n",
    "ohe.fit(train['ROLE_FAMILY'].values.reshape(-1, 1))# Fit has to happen only on train data\n",
    "\n",
    "train_role_family_ohe = ohe.transform(train['ROLE_FAMILY'].values.reshape(-1, 1))\n",
    "test_role_family_ohe = ohe.transform(test['ROLE_FAMILY'].values.reshape(-1, 1))\n",
    "\n",
    "print(train_role_family_ohe.shape, test_role_family_ohe.shape)"
   ]
  },
  {
   "cell_type": "code",
   "execution_count": 13,
   "metadata": {},
   "outputs": [
    {
     "name": "stdout",
     "output_type": "stream",
     "text": [
      "(32769, 343) (58921, 343)\n"
     ]
    }
   ],
   "source": [
    "# One hot encoding of ROLE_CODE Feature\n",
    "ohe = OneHotEncoder(handle_unknown='ignore')\n",
    "\n",
    "ohe.fit(train['ROLE_CODE'].values.reshape(-1, 1))# Fit has to happen only on train data\n",
    "\n",
    "train_role_code_ohe = ohe.transform(train['ROLE_CODE'].values.reshape(-1, 1))\n",
    "test_role_code_ohe = ohe.transform(test['ROLE_CODE'].values.reshape(-1, 1))\n",
    "\n",
    "print(train_role_code_ohe.shape, test_role_code_ohe.shape)"
   ]
  },
  {
   "cell_type": "code",
   "execution_count": 14,
   "metadata": {},
   "outputs": [],
   "source": [
    "train_ohe = hstack((train_resource_ohe, train_mgr_id_ohe,  train_role_rollup_1_ohe, train_role_rollup_2_ohe, train_role_deptname_ohe, train_role_title_ohe, train_role_family_desc_ohe, train_role_family_ohe, train_role_code_ohe))"
   ]
  },
  {
   "cell_type": "code",
   "execution_count": 15,
   "metadata": {},
   "outputs": [],
   "source": [
    "test_ohe = hstack((test_resource_ohe, test_mgr_id_ohe, test_role_rollup_1_ohe, test_role_rollup_2_ohe, test_role_deptname_ohe, test_role_title_ohe, test_role_family_desc_ohe, test_role_family_ohe, test_role_code_ohe))"
   ]
  },
  {
   "cell_type": "code",
   "execution_count": 16,
   "metadata": {},
   "outputs": [],
   "source": [
    "y_train_ohe = train['ACTION']"
   ]
  },
  {
   "cell_type": "code",
   "execution_count": 17,
   "metadata": {},
   "outputs": [
    {
     "data": {
      "text/plain": [
       "((32769, 15626), (58921, 15626), (32769,))"
      ]
     },
     "execution_count": 17,
     "metadata": {},
     "output_type": "execute_result"
    }
   ],
   "source": [
    "train_ohe.shape, test_ohe.shape, y_train_ohe.shape"
   ]
  },
  {
   "cell_type": "markdown",
   "metadata": {},
   "source": [
    "## Frequency Encoding"
   ]
  },
  {
   "cell_type": "markdown",
   "metadata": {},
   "source": [
    "https://python-data-science.readthedocs.io/en/latest/preprocess.html"
   ]
  },
  {
   "cell_type": "code",
   "execution_count": 18,
   "metadata": {},
   "outputs": [],
   "source": [
    "### FREQUENCY ENCODING\n",
    "\n",
    "# size of each category\n",
    "# encoding = titanic.groupby('Embarked').size()\n",
    "# get frequency of each category\n",
    "# encoding = encoding/len(titanic)\n",
    "# titanic['enc'] = titanic.Embarked.map(encoding)"
   ]
  },
  {
   "cell_type": "code",
   "execution_count": 19,
   "metadata": {},
   "outputs": [
    {
     "name": "stdout",
     "output_type": "stream",
     "text": [
      "(32769,) (58921,) 0 0\n",
      "(32769,) (58921,) 0 0\n"
     ]
    }
   ],
   "source": [
    "### FREQUENCY ENCODING RESOURCE\n",
    "\n",
    "# size of each category\n",
    "encoding = train.groupby('RESOURCE').size()\n",
    "\n",
    "# get frequency of each category\n",
    "encoding = encoding/len(train)\n",
    "train_resource_fc = train.RESOURCE.map(encoding)\n",
    "test_resource_fc = test.RESOURCE.map(encoding)\n",
    "\n",
    "print(train_resource_fc.shape, test_resource_fc.shape, train_resource_fc.isna().sum(), test_resource_fc.isna().sum())\n",
    "# fill missing values\n",
    "test_resource_fc = test_resource_fc.fillna(0)\n",
    "print(train_resource_fc.shape, test_resource_fc.shape, train_resource_fc.isna().sum(), test_resource_fc.isna().sum())"
   ]
  },
  {
   "cell_type": "code",
   "execution_count": 20,
   "metadata": {},
   "outputs": [
    {
     "name": "stdout",
     "output_type": "stream",
     "text": [
      "(32769,) (58921,) 0 1627\n",
      "(32769,) (58921,) 0 0\n"
     ]
    }
   ],
   "source": [
    "### FREQUENCY ENCODING MGR_ID\n",
    "\n",
    "# size of each category\n",
    "encoding = train.groupby('MGR_ID').size()\n",
    "\n",
    "# get frequency of each category\n",
    "encoding = encoding/len(train)\n",
    "train_mgr_id_fc = train.MGR_ID.map(encoding)\n",
    "test_mgr_id_fc = test.MGR_ID.map(encoding)\n",
    "\n",
    "print(train_mgr_id_fc.shape, test_mgr_id_fc.shape, train_mgr_id_fc.isna().sum(), test_mgr_id_fc.isna().sum())\n",
    "# fill missing values\n",
    "test_mgr_id_fc = test_mgr_id_fc.fillna(0)\n",
    "print(train_mgr_id_fc.shape, test_mgr_id_fc.shape, train_mgr_id_fc.isna().sum(), test_mgr_id_fc.isna().sum())"
   ]
  },
  {
   "cell_type": "code",
   "execution_count": 21,
   "metadata": {},
   "outputs": [
    {
     "name": "stdout",
     "output_type": "stream",
     "text": [
      "(32769,) (58921,) 0 4\n",
      "(32769,) (58921,) 0 0\n"
     ]
    }
   ],
   "source": [
    "### FREQUENCY ENCODING ROLE_ROLLUP_1\n",
    "\n",
    "# size of each category\n",
    "encoding = train.groupby('ROLE_ROLLUP_1').size()\n",
    "\n",
    "# get frequency of each category\n",
    "encoding = encoding/len(train)\n",
    "train_rollup_1_fc = train.ROLE_ROLLUP_1.map(encoding)\n",
    "test_rollup_1_fc = test.ROLE_ROLLUP_1.map(encoding)\n",
    "\n",
    "print(train_rollup_1_fc.shape, test_rollup_1_fc.shape, train_rollup_1_fc.isna().sum(), test_rollup_1_fc.isna().sum())\n",
    "# fill missing values\n",
    "test_rollup_1_fc = test_rollup_1_fc.fillna(0)\n",
    "print(train_rollup_1_fc.shape, test_rollup_1_fc.shape, train_rollup_1_fc.isna().sum(), test_rollup_1_fc.isna().sum())"
   ]
  },
  {
   "cell_type": "code",
   "execution_count": 22,
   "metadata": {},
   "outputs": [
    {
     "name": "stdout",
     "output_type": "stream",
     "text": [
      "(32769,) (58921,) 0 12\n",
      "(32769,) (58921,) 0 0\n"
     ]
    }
   ],
   "source": [
    "### FREQUENCY ENCODING ROLE_ROLLUP_2\n",
    "\n",
    "# size of each category\n",
    "encoding = train.groupby('ROLE_ROLLUP_2').size()\n",
    "\n",
    "# get frequency of each category\n",
    "encoding = encoding/len(train)\n",
    "train_rollup_2_fc = train.ROLE_ROLLUP_2.map(encoding)\n",
    "test_rollup_2_fc = test.ROLE_ROLLUP_2.map(encoding)\n",
    "\n",
    "print(train_rollup_2_fc.shape, test_rollup_2_fc.shape, train_rollup_2_fc.isna().sum(), test_rollup_2_fc.isna().sum())\n",
    "# fill missing values\n",
    "test_rollup_2_fc = test_rollup_2_fc.fillna(0)\n",
    "print(train_rollup_2_fc.shape, test_rollup_2_fc.shape, train_rollup_2_fc.isna().sum(), test_rollup_2_fc.isna().sum())"
   ]
  },
  {
   "cell_type": "code",
   "execution_count": 23,
   "metadata": {},
   "outputs": [
    {
     "name": "stdout",
     "output_type": "stream",
     "text": [
      "(32769,) (58921,) 0 62\n",
      "(32769,) (58921,) 0 0\n"
     ]
    }
   ],
   "source": [
    "### FREQUENCY ENCODING ROLE_DEPTNAME\n",
    "\n",
    "# size of each category\n",
    "encoding = train.groupby('ROLE_DEPTNAME').size()\n",
    "\n",
    "# get frequency of each category\n",
    "encoding = encoding/len(train)\n",
    "train_role_deptname_fc = train.ROLE_DEPTNAME.map(encoding)\n",
    "test_role_deptname_fc = test.ROLE_DEPTNAME.map(encoding)\n",
    "\n",
    "print(train_role_deptname_fc.shape, test_role_deptname_fc.shape, train_role_deptname_fc.isna().sum(), test_role_deptname_fc.isna().sum())\n",
    "# fill missing values\n",
    "test_role_deptname_fc = test_role_deptname_fc.fillna(0)\n",
    "print(train_role_deptname_fc.shape, test_role_deptname_fc.shape, train_role_deptname_fc.isna().sum(), test_role_deptname_fc.isna().sum())"
   ]
  },
  {
   "cell_type": "code",
   "execution_count": 24,
   "metadata": {},
   "outputs": [
    {
     "name": "stdout",
     "output_type": "stream",
     "text": [
      "(32769,) (58921,) 0 30\n",
      "(32769,) (58921,) 0 0\n"
     ]
    }
   ],
   "source": [
    "### FREQUENCY ENCODING ROLE_TITLE\n",
    "\n",
    "# size of each category\n",
    "encoding = train.groupby('ROLE_TITLE').size()\n",
    "\n",
    "# get frequency of each category\n",
    "encoding = encoding/len(train)\n",
    "train_role_title_fc = train.ROLE_TITLE.map(encoding)\n",
    "test_role_title_fc = test.ROLE_TITLE.map(encoding)\n",
    "\n",
    "print(train_role_title_fc.shape, test_role_title_fc.shape, train_role_title_fc.isna().sum(), test_role_title_fc.isna().sum())\n",
    "# fill missing values\n",
    "test_role_title_fc = test_role_title_fc.fillna(0)\n",
    "print(train_role_title_fc.shape, test_role_title_fc.shape, train_role_title_fc.isna().sum(), test_role_title_fc.isna().sum())"
   ]
  },
  {
   "cell_type": "code",
   "execution_count": 25,
   "metadata": {},
   "outputs": [
    {
     "name": "stdout",
     "output_type": "stream",
     "text": [
      "(32769,) (58921,) 0 1249\n",
      "(32769,) (58921,) 0 0\n"
     ]
    }
   ],
   "source": [
    "### FREQUENCY ENCODING ROLE_FAMILY_DESC\n",
    "\n",
    "# size of each category\n",
    "encoding = train.groupby('ROLE_FAMILY_DESC').size()\n",
    "\n",
    "# get frequency of each category\n",
    "encoding = encoding/len(train)\n",
    "train_role_family_desc_fc = train.ROLE_FAMILY_DESC.map(encoding)\n",
    "test_role_family_desc_fc = test.ROLE_FAMILY_DESC.map(encoding)\n",
    "\n",
    "print(train_role_family_desc_fc.shape, test_role_family_desc_fc.shape, train_role_family_desc_fc.isna().sum(), test_role_family_desc_fc.isna().sum())\n",
    "# fill missing values\n",
    "test_role_family_desc_fc = test_role_family_desc_fc.fillna(0)\n",
    "print(train_role_family_desc_fc.shape, test_role_family_desc_fc.shape, train_role_family_desc_fc.isna().sum(), test_role_family_desc_fc.isna().sum())"
   ]
  },
  {
   "cell_type": "code",
   "execution_count": 26,
   "metadata": {},
   "outputs": [
    {
     "name": "stdout",
     "output_type": "stream",
     "text": [
      "(32769,) (58921,) 0 1\n",
      "(32769,) (58921,) 0 0\n"
     ]
    }
   ],
   "source": [
    "### FREQUENCY ENCODING ROLE_FAMILY\n",
    "\n",
    "# size of each category\n",
    "encoding = train.groupby('ROLE_FAMILY').size()\n",
    "\n",
    "# get frequency of each category\n",
    "encoding = encoding/len(train)\n",
    "train_role_family_fc = train.ROLE_FAMILY.map(encoding)\n",
    "test_role_family_fc = test.ROLE_FAMILY.map(encoding)\n",
    "\n",
    "print(train_role_family_fc.shape, test_role_family_fc.shape, train_role_family_fc.isna().sum(), test_role_family_fc.isna().sum())\n",
    "# fill missing values\n",
    "test_role_family_fc = test_role_family_fc.fillna(0)\n",
    "print(train_role_family_fc.shape, test_role_family_fc.shape, train_role_family_fc.isna().sum(), test_role_family_fc.isna().sum())"
   ]
  },
  {
   "cell_type": "code",
   "execution_count": 27,
   "metadata": {},
   "outputs": [
    {
     "name": "stdout",
     "output_type": "stream",
     "text": [
      "(32769,) (58921,) 0 30\n",
      "(32769,) (58921,) 0 0\n"
     ]
    }
   ],
   "source": [
    "### FREQUENCY ENCODING ROLE_CODE\n",
    "\n",
    "# size of each category\n",
    "encoding = train.groupby('ROLE_CODE').size()\n",
    "\n",
    "# get frequency of each category\n",
    "encoding = encoding/len(train)\n",
    "train_role_code_fc = train.ROLE_CODE.map(encoding)\n",
    "test_role_code_fc = test.ROLE_CODE.map(encoding)\n",
    "\n",
    "print(train_role_code_fc.shape, test_role_code_fc.shape, train_role_code_fc.isna().sum(), test_role_code_fc.isna().sum())\n",
    "# fill missing values\n",
    "test_role_code_fc = test_role_code_fc.fillna(0)\n",
    "print(train_role_code_fc.shape, test_role_code_fc.shape, train_role_code_fc.isna().sum(), test_role_code_fc.isna().sum())"
   ]
  },
  {
   "cell_type": "code",
   "execution_count": 28,
   "metadata": {},
   "outputs": [
    {
     "data": {
      "text/plain": [
       "pandas.core.series.Series"
      ]
     },
     "execution_count": 28,
     "metadata": {},
     "output_type": "execute_result"
    }
   ],
   "source": [
    "type(test_role_code_fc[0:10])"
   ]
  },
  {
   "cell_type": "code",
   "execution_count": 29,
   "metadata": {},
   "outputs": [],
   "source": [
    "train_df_fc = pd.DataFrame({'resource_fc':train_resource_fc, 'mgr_id_fc':train_mgr_id_fc,'rollup_1_fc':train_rollup_1_fc, 'rollup_2_fc':train_rollup_2_fc, 'role_deptname_fc':train_role_deptname_fc, 'role_title_fc':train_role_title_fc, 'role_family_desc_fc':train_role_family_desc_fc, 'role_family_fc':train_role_family_fc, 'role_code_fc':train_role_code_fc})"
   ]
  },
  {
   "cell_type": "code",
   "execution_count": 30,
   "metadata": {},
   "outputs": [],
   "source": [
    "test_df_fc = pd.DataFrame({'resource_fc':test_resource_fc, 'mgr_id_fc':test_mgr_id_fc, 'rollup_1_fc':test_rollup_1_fc, 'rollup_2_fc':test_rollup_2_fc, 'role_deptname_fc':test_role_deptname_fc, 'role_title_fc':test_role_title_fc, 'role_family_desc_fc':test_role_family_desc_fc, 'role_family_fc':test_role_family_fc, 'role_code_fc':test_role_code_fc})"
   ]
  },
  {
   "cell_type": "code",
   "execution_count": 31,
   "metadata": {},
   "outputs": [
    {
     "data": {
      "text/plain": [
       "(32769, 9)"
      ]
     },
     "execution_count": 31,
     "metadata": {},
     "output_type": "execute_result"
    }
   ],
   "source": [
    "train_df_fc.shape"
   ]
  },
  {
   "cell_type": "code",
   "execution_count": 32,
   "metadata": {},
   "outputs": [
    {
     "data": {
      "text/plain": [
       "(58921, 9)"
      ]
     },
     "execution_count": 32,
     "metadata": {},
     "output_type": "execute_result"
    }
   ],
   "source": [
    "test_df_fc.shape"
   ]
  },
  {
   "cell_type": "code",
   "execution_count": 33,
   "metadata": {},
   "outputs": [],
   "source": [
    "train_y_fc = train['ACTION'].values"
   ]
  },
  {
   "cell_type": "code",
   "execution_count": 34,
   "metadata": {},
   "outputs": [
    {
     "data": {
      "text/plain": [
       "(32769,)"
      ]
     },
     "execution_count": 34,
     "metadata": {},
     "output_type": "execute_result"
    }
   ],
   "source": [
    "train_y_fc.shape"
   ]
  },
  {
   "cell_type": "markdown",
   "metadata": {},
   "source": [
    "## Response Encoding"
   ]
  },
  {
   "cell_type": "markdown",
   "metadata": {},
   "source": [
    "https://medium.com/analytics-vidhya/types-of-categorical-data-encoding-schemes-a5bbeb4ba02b"
   ]
  },
  {
   "cell_type": "code",
   "execution_count": 35,
   "metadata": {},
   "outputs": [
    {
     "data": {
      "text/html": [
       "<div>\n",
       "<style scoped>\n",
       "    .dataframe tbody tr th:only-of-type {\n",
       "        vertical-align: middle;\n",
       "    }\n",
       "\n",
       "    .dataframe tbody tr th {\n",
       "        vertical-align: top;\n",
       "    }\n",
       "\n",
       "    .dataframe thead th {\n",
       "        text-align: right;\n",
       "    }\n",
       "</style>\n",
       "<table border=\"1\" class=\"dataframe\">\n",
       "  <thead>\n",
       "    <tr style=\"text-align: right;\">\n",
       "      <th></th>\n",
       "      <th>color</th>\n",
       "    </tr>\n",
       "  </thead>\n",
       "  <tbody>\n",
       "    <tr>\n",
       "      <th>0</th>\n",
       "      <td>1.341280</td>\n",
       "    </tr>\n",
       "    <tr>\n",
       "      <th>1</th>\n",
       "      <td>1.473106</td>\n",
       "    </tr>\n",
       "    <tr>\n",
       "      <th>2</th>\n",
       "      <td>1.473106</td>\n",
       "    </tr>\n",
       "    <tr>\n",
       "      <th>3</th>\n",
       "      <td>1.341280</td>\n",
       "    </tr>\n",
       "    <tr>\n",
       "      <th>4</th>\n",
       "      <td>1.341280</td>\n",
       "    </tr>\n",
       "  </tbody>\n",
       "</table>\n",
       "</div>"
      ],
      "text/plain": [
       "      color\n",
       "0  1.341280\n",
       "1  1.473106\n",
       "2  1.473106\n",
       "3  1.341280\n",
       "4  1.341280"
      ]
     },
     "execution_count": 35,
     "metadata": {},
     "output_type": "execute_result"
    }
   ],
   "source": [
    "# sample\n",
    "data = pd.DataFrame({\n",
    "    'color' : ['Blue', 'Black', 'Black','Blue', 'Blue'],\n",
    "    'outcome' : [1,      2,        1,     1,      2,]\n",
    "})\n",
    "# column to perform encoding\n",
    "X = data['color']\n",
    "Y = data['outcome']\n",
    "# create an object of the TargetEncoder\n",
    "ce_TE = ce.TargetEncoder(cols=['color'])\n",
    "# fit and transform and you will get the encoded data\n",
    "ce_TE.fit(X,Y)\n",
    "ce_TE.transform(X)"
   ]
  },
  {
   "cell_type": "code",
   "execution_count": 36,
   "metadata": {},
   "outputs": [
    {
     "name": "stdout",
     "output_type": "stream",
     "text": [
      "(32769, 1) (58921, 1)\n"
     ]
    }
   ],
   "source": [
    "### RESPONSE ENCODING RESOURCE\n",
    "\n",
    "# column to perform encoding\n",
    "X = train['RESOURCE']\n",
    "Y = train['ACTION']\n",
    "# create an object of the TargetEncoder\n",
    "ce_TE = ce.TargetEncoder(cols=['RESOURCE'])\n",
    "# fit and transform and you will get the encoded data\n",
    "ce_TE.fit(X,Y)\n",
    "train_resource_rc = ce_TE.transform(X)\n",
    "test_resource_rc = ce_TE.transform(test['RESOURCE'])\n",
    "\n",
    "print(train_resource_rc.shape, test_resource_rc.shape)"
   ]
  },
  {
   "cell_type": "code",
   "execution_count": 37,
   "metadata": {},
   "outputs": [
    {
     "data": {
      "text/html": [
       "<div>\n",
       "<style scoped>\n",
       "    .dataframe tbody tr th:only-of-type {\n",
       "        vertical-align: middle;\n",
       "    }\n",
       "\n",
       "    .dataframe tbody tr th {\n",
       "        vertical-align: top;\n",
       "    }\n",
       "\n",
       "    .dataframe thead th {\n",
       "        text-align: right;\n",
       "    }\n",
       "</style>\n",
       "<table border=\"1\" class=\"dataframe\">\n",
       "  <thead>\n",
       "    <tr style=\"text-align: right;\">\n",
       "      <th></th>\n",
       "      <th>RESOURCE</th>\n",
       "    </tr>\n",
       "  </thead>\n",
       "  <tbody>\n",
       "    <tr>\n",
       "      <th>0</th>\n",
       "      <td>0.993099</td>\n",
       "    </tr>\n",
       "    <tr>\n",
       "      <th>1</th>\n",
       "      <td>0.966667</td>\n",
       "    </tr>\n",
       "    <tr>\n",
       "      <th>2</th>\n",
       "      <td>0.984431</td>\n",
       "    </tr>\n",
       "    <tr>\n",
       "      <th>3</th>\n",
       "      <td>0.942110</td>\n",
       "    </tr>\n",
       "    <tr>\n",
       "      <th>4</th>\n",
       "      <td>0.999947</td>\n",
       "    </tr>\n",
       "    <tr>\n",
       "      <th>5</th>\n",
       "      <td>0.802556</td>\n",
       "    </tr>\n",
       "    <tr>\n",
       "      <th>6</th>\n",
       "      <td>0.953545</td>\n",
       "    </tr>\n",
       "    <tr>\n",
       "      <th>7</th>\n",
       "      <td>1.000000</td>\n",
       "    </tr>\n",
       "    <tr>\n",
       "      <th>8</th>\n",
       "      <td>0.997255</td>\n",
       "    </tr>\n",
       "    <tr>\n",
       "      <th>9</th>\n",
       "      <td>1.000000</td>\n",
       "    </tr>\n",
       "  </tbody>\n",
       "</table>\n",
       "</div>"
      ],
      "text/plain": [
       "   RESOURCE\n",
       "0  0.993099\n",
       "1  0.966667\n",
       "2  0.984431\n",
       "3  0.942110\n",
       "4  0.999947\n",
       "5  0.802556\n",
       "6  0.953545\n",
       "7  1.000000\n",
       "8  0.997255\n",
       "9  1.000000"
      ]
     },
     "execution_count": 37,
     "metadata": {},
     "output_type": "execute_result"
    }
   ],
   "source": [
    "train_resource_rc[:10]"
   ]
  },
  {
   "cell_type": "code",
   "execution_count": 38,
   "metadata": {},
   "outputs": [
    {
     "name": "stdout",
     "output_type": "stream",
     "text": [
      "(32769, 1) (58921, 1)\n"
     ]
    }
   ],
   "source": [
    "### RESPONSE ENCODING MGR_ID\n",
    "\n",
    "# column to perform encoding\n",
    "X = train['MGR_ID']\n",
    "Y = train['ACTION']\n",
    "# create an object of the TargetEncoder\n",
    "ce_TE = ce.TargetEncoder(cols=['MGR_ID'])\n",
    "# fit and transform and you will get the encoded data\n",
    "ce_TE.fit(X,Y)\n",
    "train_mgr_id_rc = ce_TE.transform(X)\n",
    "test_mgr_id_rc = ce_TE.transform(test['MGR_ID'])\n",
    "\n",
    "print(train_mgr_id_rc.shape, test_mgr_id_rc.shape)"
   ]
  },
  {
   "cell_type": "code",
   "execution_count": 39,
   "metadata": {},
   "outputs": [
    {
     "name": "stdout",
     "output_type": "stream",
     "text": [
      "(32769, 1) (58921, 1)\n"
     ]
    }
   ],
   "source": [
    "### RESPONSE ENCODING ROLE_ROLLUP_1\n",
    "\n",
    "# column to perform encoding\n",
    "X = train['ROLE_ROLLUP_1']\n",
    "Y = train['ACTION']\n",
    "# create an object of the TargetEncoder\n",
    "ce_TE = ce.TargetEncoder(cols=['ROLE_ROLLUP_1'])\n",
    "# fit and transform and you will get the encoded data\n",
    "ce_TE.fit(X,Y)\n",
    "train_rollup_1_rc = ce_TE.transform(X)\n",
    "test_rollup_1_rc = ce_TE.transform(test['ROLE_ROLLUP_1'])\n",
    "\n",
    "print(train_rollup_1_rc.shape, test_rollup_1_rc.shape)"
   ]
  },
  {
   "cell_type": "code",
   "execution_count": 40,
   "metadata": {},
   "outputs": [
    {
     "name": "stdout",
     "output_type": "stream",
     "text": [
      "(32769, 1) (58921, 1)\n"
     ]
    }
   ],
   "source": [
    "### RESPONSE ENCODING ROLE_ROLLUP_2\n",
    "\n",
    "# column to perform encoding\n",
    "X = train['ROLE_ROLLUP_2']\n",
    "Y = train['ACTION']\n",
    "# create an object of the TargetEncoder\n",
    "ce_TE = ce.TargetEncoder(cols=['ROLE_ROLLUP_2'])\n",
    "# fit and transform and you will get the encoded data\n",
    "ce_TE.fit(X,Y)\n",
    "train_rollup_2_rc = ce_TE.transform(X)\n",
    "test_rollup_2_rc = ce_TE.transform(test['ROLE_ROLLUP_2'])\n",
    "\n",
    "print(train_rollup_2_rc.shape, test_rollup_2_rc.shape)"
   ]
  },
  {
   "cell_type": "code",
   "execution_count": 41,
   "metadata": {},
   "outputs": [
    {
     "name": "stdout",
     "output_type": "stream",
     "text": [
      "(32769, 1) (58921, 1)\n"
     ]
    }
   ],
   "source": [
    "### RESPONSE ENCODING ROLE_DEPTNAME\n",
    "\n",
    "# column to perform encoding\n",
    "X = train['ROLE_DEPTNAME']\n",
    "Y = train['ACTION']\n",
    "# create an object of the TargetEncoder\n",
    "ce_TE = ce.TargetEncoder(cols=['ROLE_DEPTNAME'])\n",
    "# fit and transform and you will get the encoded data\n",
    "ce_TE.fit(X,Y)\n",
    "train_role_deptname_rc = ce_TE.transform(X)\n",
    "test_role_deptname_rc = ce_TE.transform(test['ROLE_DEPTNAME'])\n",
    "\n",
    "print(train_role_deptname_rc.shape, test_role_deptname_rc.shape)"
   ]
  },
  {
   "cell_type": "code",
   "execution_count": 42,
   "metadata": {},
   "outputs": [
    {
     "name": "stdout",
     "output_type": "stream",
     "text": [
      "(32769, 1) (58921, 1)\n"
     ]
    }
   ],
   "source": [
    "### RESPONSE ENCODING ROLE_TITLE\n",
    "\n",
    "# column to perform encoding\n",
    "X = train['ROLE_TITLE']\n",
    "Y = train['ACTION']\n",
    "# create an object of the TargetEncoder\n",
    "ce_TE = ce.TargetEncoder(cols=['ROLE_TITLE'])\n",
    "# fit and transform and you will get the encoded data\n",
    "ce_TE.fit(X,Y)\n",
    "train_role_title_rc = ce_TE.transform(X)\n",
    "test_role_title_rc = ce_TE.transform(test['ROLE_TITLE'])\n",
    "\n",
    "print(train_role_title_rc.shape, test_role_title_rc.shape)"
   ]
  },
  {
   "cell_type": "code",
   "execution_count": 43,
   "metadata": {},
   "outputs": [
    {
     "name": "stdout",
     "output_type": "stream",
     "text": [
      "(32769, 1) (58921, 1)\n"
     ]
    }
   ],
   "source": [
    "### RESPONSE ENCODING ROLE_FAMILY_DESC\n",
    "\n",
    "# column to perform encoding\n",
    "X = train['ROLE_FAMILY_DESC']\n",
    "Y = train['ACTION']\n",
    "# create an object of the TargetEncoder\n",
    "ce_TE = ce.TargetEncoder(cols=['ROLE_FAMILY_DESC'])\n",
    "# fit and transform and you will get the encoded data\n",
    "ce_TE.fit(X,Y)\n",
    "train_role_family_desc_rc = ce_TE.transform(X)\n",
    "test_role_family_desc_rc = ce_TE.transform(test['ROLE_FAMILY_DESC'])\n",
    "\n",
    "print(train_role_family_desc_rc.shape, test_role_family_desc_rc.shape)"
   ]
  },
  {
   "cell_type": "code",
   "execution_count": 44,
   "metadata": {},
   "outputs": [
    {
     "name": "stdout",
     "output_type": "stream",
     "text": [
      "(32769, 1) (58921, 1)\n"
     ]
    }
   ],
   "source": [
    "### RESPONSE ENCODING ROLE_FAMILY\n",
    "\n",
    "# column to perform encoding\n",
    "X = train['ROLE_FAMILY']\n",
    "Y = train['ACTION']\n",
    "# create an object of the TargetEncoder\n",
    "ce_TE = ce.TargetEncoder(cols=['ROLE_FAMILY'])\n",
    "# fit and transform and you will get the encoded data\n",
    "ce_TE.fit(X,Y)\n",
    "train_role_family_rc = ce_TE.transform(X)\n",
    "test_role_family_rc = ce_TE.transform(test['ROLE_FAMILY'])\n",
    "\n",
    "print(train_role_family_rc.shape, test_role_family_rc.shape)"
   ]
  },
  {
   "cell_type": "code",
   "execution_count": 45,
   "metadata": {},
   "outputs": [
    {
     "name": "stdout",
     "output_type": "stream",
     "text": [
      "(32769, 1) (58921, 1)\n"
     ]
    }
   ],
   "source": [
    "### RESPONSE ENCODING ROLE_CODE\n",
    "\n",
    "# column to perform encoding\n",
    "X = train['ROLE_CODE']\n",
    "Y = train['ACTION']\n",
    "# create an object of the TargetEncoder\n",
    "ce_TE = ce.TargetEncoder(cols=['ROLE_CODE'])\n",
    "# fit and transform and you will get the encoded data\n",
    "ce_TE.fit(X,Y)\n",
    "train_role_code_rc = ce_TE.transform(X)\n",
    "test_role_code_rc = ce_TE.transform(test['ROLE_CODE'])\n",
    "\n",
    "print(train_role_code_rc.shape, test_role_code_rc.shape)"
   ]
  },
  {
   "cell_type": "code",
   "execution_count": 46,
   "metadata": {},
   "outputs": [],
   "source": [
    "train_df_rc = pd.DataFrame ({'resource_rc':train_resource_rc['RESOURCE'],'mgr_id_rc':train_mgr_id_rc['MGR_ID'], 'rollup_1_rc':train_rollup_1_rc['ROLE_ROLLUP_1'],  'rollup_2_rc':train_rollup_2_rc['ROLE_ROLLUP_2'], 'role_deptname_rc':train_role_deptname_rc['ROLE_DEPTNAME'], 'role_title_rc':train_role_title_rc['ROLE_TITLE'], 'role_family_desc_rc':train_role_family_desc_rc['ROLE_FAMILY_DESC'], 'role_family_rc':train_role_family_rc['ROLE_FAMILY'], 'role_code_rc':train_role_code_rc['ROLE_CODE']})"
   ]
  },
  {
   "cell_type": "code",
   "execution_count": 47,
   "metadata": {},
   "outputs": [],
   "source": [
    "test_df_rc = pd.DataFrame ({'resource_rc':test_resource_rc['RESOURCE'],'mgr_id_rc':test_mgr_id_rc['MGR_ID'], 'rollup_1_rc':test_rollup_1_rc['ROLE_ROLLUP_1'],  'rollup_2_rc':test_rollup_2_rc['ROLE_ROLLUP_2'], 'role_deptname_rc':test_role_deptname_rc['ROLE_DEPTNAME'], 'role_title_rc':test_role_title_rc['ROLE_TITLE'], 'role_family_desc_rc':test_role_family_desc_rc['ROLE_FAMILY_DESC'], 'role_family_rc':test_role_family_rc['ROLE_FAMILY'], 'role_code_rc':test_role_code_rc['ROLE_CODE']})"
   ]
  },
  {
   "cell_type": "code",
   "execution_count": 48,
   "metadata": {},
   "outputs": [
    {
     "data": {
      "text/html": [
       "<div>\n",
       "<style scoped>\n",
       "    .dataframe tbody tr th:only-of-type {\n",
       "        vertical-align: middle;\n",
       "    }\n",
       "\n",
       "    .dataframe tbody tr th {\n",
       "        vertical-align: top;\n",
       "    }\n",
       "\n",
       "    .dataframe thead th {\n",
       "        text-align: right;\n",
       "    }\n",
       "</style>\n",
       "<table border=\"1\" class=\"dataframe\">\n",
       "  <thead>\n",
       "    <tr style=\"text-align: right;\">\n",
       "      <th></th>\n",
       "      <th>resource_rc</th>\n",
       "      <th>mgr_id_rc</th>\n",
       "      <th>rollup_1_rc</th>\n",
       "      <th>rollup_2_rc</th>\n",
       "      <th>role_deptname_rc</th>\n",
       "      <th>role_title_rc</th>\n",
       "      <th>role_family_desc_rc</th>\n",
       "      <th>role_family_rc</th>\n",
       "      <th>role_code_rc</th>\n",
       "    </tr>\n",
       "  </thead>\n",
       "  <tbody>\n",
       "    <tr>\n",
       "      <th>0</th>\n",
       "      <td>0.993099</td>\n",
       "      <td>1.000000</td>\n",
       "      <td>0.949222</td>\n",
       "      <td>0.956148</td>\n",
       "      <td>0.958333</td>\n",
       "      <td>0.967625</td>\n",
       "      <td>0.933440</td>\n",
       "      <td>0.942350</td>\n",
       "      <td>0.967625</td>\n",
       "    </tr>\n",
       "    <tr>\n",
       "      <th>1</th>\n",
       "      <td>0.966667</td>\n",
       "      <td>0.999993</td>\n",
       "      <td>0.949222</td>\n",
       "      <td>0.969075</td>\n",
       "      <td>0.893082</td>\n",
       "      <td>0.962963</td>\n",
       "      <td>0.999999</td>\n",
       "      <td>0.947941</td>\n",
       "      <td>0.962963</td>\n",
       "    </tr>\n",
       "    <tr>\n",
       "      <th>2</th>\n",
       "      <td>0.984431</td>\n",
       "      <td>0.993099</td>\n",
       "      <td>0.918478</td>\n",
       "      <td>0.918478</td>\n",
       "      <td>0.923077</td>\n",
       "      <td>0.889331</td>\n",
       "      <td>0.939394</td>\n",
       "      <td>0.907815</td>\n",
       "      <td>0.889331</td>\n",
       "    </tr>\n",
       "    <tr>\n",
       "      <th>3</th>\n",
       "      <td>0.942110</td>\n",
       "      <td>1.000000</td>\n",
       "      <td>0.949222</td>\n",
       "      <td>0.969075</td>\n",
       "      <td>0.989474</td>\n",
       "      <td>0.920413</td>\n",
       "      <td>0.955788</td>\n",
       "      <td>0.942350</td>\n",
       "      <td>0.920413</td>\n",
       "    </tr>\n",
       "    <tr>\n",
       "      <th>4</th>\n",
       "      <td>0.999947</td>\n",
       "      <td>0.999981</td>\n",
       "      <td>0.931159</td>\n",
       "      <td>0.876812</td>\n",
       "      <td>0.755556</td>\n",
       "      <td>0.866667</td>\n",
       "      <td>0.947368</td>\n",
       "      <td>0.837017</td>\n",
       "      <td>0.866667</td>\n",
       "    </tr>\n",
       "    <tr>\n",
       "      <th>...</th>\n",
       "      <td>...</td>\n",
       "      <td>...</td>\n",
       "      <td>...</td>\n",
       "      <td>...</td>\n",
       "      <td>...</td>\n",
       "      <td>...</td>\n",
       "      <td>...</td>\n",
       "      <td>...</td>\n",
       "      <td>...</td>\n",
       "    </tr>\n",
       "    <tr>\n",
       "      <th>32764</th>\n",
       "      <td>0.901961</td>\n",
       "      <td>0.965517</td>\n",
       "      <td>0.949222</td>\n",
       "      <td>0.956148</td>\n",
       "      <td>0.989474</td>\n",
       "      <td>0.920413</td>\n",
       "      <td>0.955788</td>\n",
       "      <td>0.942350</td>\n",
       "      <td>0.920413</td>\n",
       "    </tr>\n",
       "    <tr>\n",
       "      <th>32765</th>\n",
       "      <td>0.984431</td>\n",
       "      <td>0.999981</td>\n",
       "      <td>0.963939</td>\n",
       "      <td>0.963939</td>\n",
       "      <td>1.000000</td>\n",
       "      <td>1.000000</td>\n",
       "      <td>0.998959</td>\n",
       "      <td>0.977679</td>\n",
       "      <td>1.000000</td>\n",
       "    </tr>\n",
       "    <tr>\n",
       "      <th>32766</th>\n",
       "      <td>0.962733</td>\n",
       "      <td>0.998959</td>\n",
       "      <td>0.949222</td>\n",
       "      <td>0.954563</td>\n",
       "      <td>1.000000</td>\n",
       "      <td>0.993099</td>\n",
       "      <td>0.984431</td>\n",
       "      <td>0.974359</td>\n",
       "      <td>0.993099</td>\n",
       "    </tr>\n",
       "    <tr>\n",
       "      <th>32767</th>\n",
       "      <td>0.999857</td>\n",
       "      <td>0.687500</td>\n",
       "      <td>0.734545</td>\n",
       "      <td>0.719844</td>\n",
       "      <td>0.864947</td>\n",
       "      <td>0.913706</td>\n",
       "      <td>0.860656</td>\n",
       "      <td>0.862671</td>\n",
       "      <td>0.913706</td>\n",
       "    </tr>\n",
       "    <tr>\n",
       "      <th>32768</th>\n",
       "      <td>0.905512</td>\n",
       "      <td>0.999947</td>\n",
       "      <td>0.925424</td>\n",
       "      <td>0.935484</td>\n",
       "      <td>0.906198</td>\n",
       "      <td>0.925216</td>\n",
       "      <td>1.000000</td>\n",
       "      <td>0.907815</td>\n",
       "      <td>0.925216</td>\n",
       "    </tr>\n",
       "  </tbody>\n",
       "</table>\n",
       "<p>32769 rows × 9 columns</p>\n",
       "</div>"
      ],
      "text/plain": [
       "       resource_rc  mgr_id_rc  rollup_1_rc  rollup_2_rc  role_deptname_rc  \\\n",
       "0         0.993099   1.000000     0.949222     0.956148          0.958333   \n",
       "1         0.966667   0.999993     0.949222     0.969075          0.893082   \n",
       "2         0.984431   0.993099     0.918478     0.918478          0.923077   \n",
       "3         0.942110   1.000000     0.949222     0.969075          0.989474   \n",
       "4         0.999947   0.999981     0.931159     0.876812          0.755556   \n",
       "...            ...        ...          ...          ...               ...   \n",
       "32764     0.901961   0.965517     0.949222     0.956148          0.989474   \n",
       "32765     0.984431   0.999981     0.963939     0.963939          1.000000   \n",
       "32766     0.962733   0.998959     0.949222     0.954563          1.000000   \n",
       "32767     0.999857   0.687500     0.734545     0.719844          0.864947   \n",
       "32768     0.905512   0.999947     0.925424     0.935484          0.906198   \n",
       "\n",
       "       role_title_rc  role_family_desc_rc  role_family_rc  role_code_rc  \n",
       "0           0.967625             0.933440        0.942350      0.967625  \n",
       "1           0.962963             0.999999        0.947941      0.962963  \n",
       "2           0.889331             0.939394        0.907815      0.889331  \n",
       "3           0.920413             0.955788        0.942350      0.920413  \n",
       "4           0.866667             0.947368        0.837017      0.866667  \n",
       "...              ...                  ...             ...           ...  \n",
       "32764       0.920413             0.955788        0.942350      0.920413  \n",
       "32765       1.000000             0.998959        0.977679      1.000000  \n",
       "32766       0.993099             0.984431        0.974359      0.993099  \n",
       "32767       0.913706             0.860656        0.862671      0.913706  \n",
       "32768       0.925216             1.000000        0.907815      0.925216  \n",
       "\n",
       "[32769 rows x 9 columns]"
      ]
     },
     "execution_count": 48,
     "metadata": {},
     "output_type": "execute_result"
    }
   ],
   "source": [
    "train_df_rc"
   ]
  },
  {
   "cell_type": "code",
   "execution_count": 49,
   "metadata": {},
   "outputs": [
    {
     "data": {
      "text/html": [
       "<div>\n",
       "<style scoped>\n",
       "    .dataframe tbody tr th:only-of-type {\n",
       "        vertical-align: middle;\n",
       "    }\n",
       "\n",
       "    .dataframe tbody tr th {\n",
       "        vertical-align: top;\n",
       "    }\n",
       "\n",
       "    .dataframe thead th {\n",
       "        text-align: right;\n",
       "    }\n",
       "</style>\n",
       "<table border=\"1\" class=\"dataframe\">\n",
       "  <thead>\n",
       "    <tr style=\"text-align: right;\">\n",
       "      <th></th>\n",
       "      <th>resource_rc</th>\n",
       "      <th>mgr_id_rc</th>\n",
       "      <th>rollup_1_rc</th>\n",
       "      <th>rollup_2_rc</th>\n",
       "      <th>role_deptname_rc</th>\n",
       "      <th>role_title_rc</th>\n",
       "      <th>role_family_desc_rc</th>\n",
       "      <th>role_family_rc</th>\n",
       "      <th>role_code_rc</th>\n",
       "    </tr>\n",
       "  </thead>\n",
       "  <tbody>\n",
       "    <tr>\n",
       "      <th>0</th>\n",
       "      <td>1.000000</td>\n",
       "      <td>0.802556</td>\n",
       "      <td>0.809955</td>\n",
       "      <td>0.809955</td>\n",
       "      <td>0.937445</td>\n",
       "      <td>0.889331</td>\n",
       "      <td>0.719298</td>\n",
       "      <td>0.907815</td>\n",
       "      <td>0.889331</td>\n",
       "    </tr>\n",
       "    <tr>\n",
       "      <th>1</th>\n",
       "      <td>0.618902</td>\n",
       "      <td>1.000000</td>\n",
       "      <td>0.949222</td>\n",
       "      <td>0.954563</td>\n",
       "      <td>0.943820</td>\n",
       "      <td>0.991736</td>\n",
       "      <td>1.000000</td>\n",
       "      <td>0.952087</td>\n",
       "      <td>0.991736</td>\n",
       "    </tr>\n",
       "    <tr>\n",
       "      <th>2</th>\n",
       "      <td>0.999993</td>\n",
       "      <td>1.000000</td>\n",
       "      <td>0.949222</td>\n",
       "      <td>0.956148</td>\n",
       "      <td>1.000000</td>\n",
       "      <td>0.937500</td>\n",
       "      <td>0.948052</td>\n",
       "      <td>0.977679</td>\n",
       "      <td>0.937500</td>\n",
       "    </tr>\n",
       "    <tr>\n",
       "      <th>3</th>\n",
       "      <td>0.984431</td>\n",
       "      <td>0.866667</td>\n",
       "      <td>0.949222</td>\n",
       "      <td>0.957205</td>\n",
       "      <td>0.979323</td>\n",
       "      <td>0.913495</td>\n",
       "      <td>1.000000</td>\n",
       "      <td>0.941935</td>\n",
       "      <td>0.913495</td>\n",
       "    </tr>\n",
       "    <tr>\n",
       "      <th>4</th>\n",
       "      <td>0.941176</td>\n",
       "      <td>1.000000</td>\n",
       "      <td>0.949222</td>\n",
       "      <td>0.969075</td>\n",
       "      <td>0.977901</td>\n",
       "      <td>0.992021</td>\n",
       "      <td>1.000000</td>\n",
       "      <td>0.972491</td>\n",
       "      <td>0.992021</td>\n",
       "    </tr>\n",
       "    <tr>\n",
       "      <th>...</th>\n",
       "      <td>...</td>\n",
       "      <td>...</td>\n",
       "      <td>...</td>\n",
       "      <td>...</td>\n",
       "      <td>...</td>\n",
       "      <td>...</td>\n",
       "      <td>...</td>\n",
       "      <td>...</td>\n",
       "      <td>...</td>\n",
       "    </tr>\n",
       "    <tr>\n",
       "      <th>58916</th>\n",
       "      <td>0.990220</td>\n",
       "      <td>0.956522</td>\n",
       "      <td>0.949222</td>\n",
       "      <td>0.912584</td>\n",
       "      <td>0.992188</td>\n",
       "      <td>0.929458</td>\n",
       "      <td>0.933440</td>\n",
       "      <td>0.942350</td>\n",
       "      <td>0.929458</td>\n",
       "    </tr>\n",
       "    <tr>\n",
       "      <th>58917</th>\n",
       "      <td>0.946488</td>\n",
       "      <td>0.814815</td>\n",
       "      <td>0.949222</td>\n",
       "      <td>0.957205</td>\n",
       "      <td>0.891304</td>\n",
       "      <td>0.970284</td>\n",
       "      <td>0.980707</td>\n",
       "      <td>0.959167</td>\n",
       "      <td>0.970284</td>\n",
       "    </tr>\n",
       "    <tr>\n",
       "      <th>58918</th>\n",
       "      <td>0.961240</td>\n",
       "      <td>0.999613</td>\n",
       "      <td>0.949222</td>\n",
       "      <td>0.969075</td>\n",
       "      <td>0.884615</td>\n",
       "      <td>0.979592</td>\n",
       "      <td>0.984925</td>\n",
       "      <td>0.942350</td>\n",
       "      <td>0.979592</td>\n",
       "    </tr>\n",
       "    <tr>\n",
       "      <th>58919</th>\n",
       "      <td>0.882353</td>\n",
       "      <td>0.998959</td>\n",
       "      <td>0.949222</td>\n",
       "      <td>0.954563</td>\n",
       "      <td>0.884058</td>\n",
       "      <td>0.920413</td>\n",
       "      <td>0.933440</td>\n",
       "      <td>0.942350</td>\n",
       "      <td>0.920413</td>\n",
       "    </tr>\n",
       "    <tr>\n",
       "      <th>58920</th>\n",
       "      <td>0.923077</td>\n",
       "      <td>1.000000</td>\n",
       "      <td>0.949222</td>\n",
       "      <td>0.969075</td>\n",
       "      <td>0.978571</td>\n",
       "      <td>0.989950</td>\n",
       "      <td>0.993769</td>\n",
       "      <td>0.972491</td>\n",
       "      <td>0.989950</td>\n",
       "    </tr>\n",
       "  </tbody>\n",
       "</table>\n",
       "<p>58921 rows × 9 columns</p>\n",
       "</div>"
      ],
      "text/plain": [
       "       resource_rc  mgr_id_rc  rollup_1_rc  rollup_2_rc  role_deptname_rc  \\\n",
       "0         1.000000   0.802556     0.809955     0.809955          0.937445   \n",
       "1         0.618902   1.000000     0.949222     0.954563          0.943820   \n",
       "2         0.999993   1.000000     0.949222     0.956148          1.000000   \n",
       "3         0.984431   0.866667     0.949222     0.957205          0.979323   \n",
       "4         0.941176   1.000000     0.949222     0.969075          0.977901   \n",
       "...            ...        ...          ...          ...               ...   \n",
       "58916     0.990220   0.956522     0.949222     0.912584          0.992188   \n",
       "58917     0.946488   0.814815     0.949222     0.957205          0.891304   \n",
       "58918     0.961240   0.999613     0.949222     0.969075          0.884615   \n",
       "58919     0.882353   0.998959     0.949222     0.954563          0.884058   \n",
       "58920     0.923077   1.000000     0.949222     0.969075          0.978571   \n",
       "\n",
       "       role_title_rc  role_family_desc_rc  role_family_rc  role_code_rc  \n",
       "0           0.889331             0.719298        0.907815      0.889331  \n",
       "1           0.991736             1.000000        0.952087      0.991736  \n",
       "2           0.937500             0.948052        0.977679      0.937500  \n",
       "3           0.913495             1.000000        0.941935      0.913495  \n",
       "4           0.992021             1.000000        0.972491      0.992021  \n",
       "...              ...                  ...             ...           ...  \n",
       "58916       0.929458             0.933440        0.942350      0.929458  \n",
       "58917       0.970284             0.980707        0.959167      0.970284  \n",
       "58918       0.979592             0.984925        0.942350      0.979592  \n",
       "58919       0.920413             0.933440        0.942350      0.920413  \n",
       "58920       0.989950             0.993769        0.972491      0.989950  \n",
       "\n",
       "[58921 rows x 9 columns]"
      ]
     },
     "execution_count": 49,
     "metadata": {},
     "output_type": "execute_result"
    }
   ],
   "source": [
    "test_df_rc"
   ]
  },
  {
   "cell_type": "code",
   "execution_count": 50,
   "metadata": {},
   "outputs": [],
   "source": [
    "train_y_rc = train['ACTION'].values"
   ]
  },
  {
   "cell_type": "code",
   "execution_count": 51,
   "metadata": {},
   "outputs": [
    {
     "data": {
      "text/plain": [
       "(32769,)"
      ]
     },
     "execution_count": 51,
     "metadata": {},
     "output_type": "execute_result"
    }
   ],
   "source": [
    "train_y_rc.shape"
   ]
  },
  {
   "cell_type": "markdown",
   "metadata": {},
   "source": [
    "# Feature Engineering"
   ]
  },
  {
   "cell_type": "markdown",
   "metadata": {},
   "source": [
    "## Encoding with Singular Value Decomposition\n",
    "\n",
    "Here I'll use singular value decomposition (SVD) to learn encodings from pairs of categorical features. SVD is one of the more complex encodings, but it can also be very effective. We'll construct a matrix of co-occurences for each pair of categorical features. Each row corresponds to a value in feature A, while each column corresponds to a value in feature B. Each element is the count of rows where the value in A appears together with the value in B.\n",
    "\n",
    "You then use singular value decomposition to find two smaller matrices that equal the count matrix when multiplied."
   ]
  },
  {
   "cell_type": "code",
   "execution_count": 52,
   "metadata": {},
   "outputs": [],
   "source": [
    "#https://www.kaggle.com/dmitrylarko/kaggledays-sf-2-amazon-unsupervised-encoding#SVD-Encoding\n",
    "#https://www.kaggle.com/matleonard/encoding-categorical-features-with-svd"
   ]
  },
  {
   "cell_type": "code",
   "execution_count": 53,
   "metadata": {},
   "outputs": [],
   "source": [
    "train_data=train.drop(columns=['ACTION'],axis=1)"
   ]
  },
  {
   "cell_type": "code",
   "execution_count": 54,
   "metadata": {},
   "outputs": [
    {
     "data": {
      "text/plain": [
       "(32769, 9)"
      ]
     },
     "execution_count": 54,
     "metadata": {},
     "output_type": "execute_result"
    }
   ],
   "source": [
    "train_data.shape"
   ]
  },
  {
   "cell_type": "code",
   "execution_count": 55,
   "metadata": {},
   "outputs": [
    {
     "data": {
      "text/plain": [
       "RESOURCE            7518\n",
       "MGR_ID              4243\n",
       "ROLE_ROLLUP_1        128\n",
       "ROLE_ROLLUP_2        177\n",
       "ROLE_DEPTNAME        449\n",
       "ROLE_TITLE           343\n",
       "ROLE_FAMILY_DESC    2358\n",
       "ROLE_FAMILY           67\n",
       "ROLE_CODE            343\n",
       "dtype: int64"
      ]
     },
     "execution_count": 55,
     "metadata": {},
     "output_type": "execute_result"
    }
   ],
   "source": [
    "train_data.nunique()"
   ]
  },
  {
   "cell_type": "code",
   "execution_count": 56,
   "metadata": {},
   "outputs": [],
   "source": [
    "test_data=test.drop(columns=['id'],axis=1)"
   ]
  },
  {
   "cell_type": "code",
   "execution_count": 57,
   "metadata": {},
   "outputs": [
    {
     "data": {
      "text/plain": [
       "(58921, 9)"
      ]
     },
     "execution_count": 57,
     "metadata": {},
     "output_type": "execute_result"
    }
   ],
   "source": [
    "test_data.shape"
   ]
  },
  {
   "cell_type": "code",
   "execution_count": 58,
   "metadata": {},
   "outputs": [
    {
     "data": {
      "text/plain": [
       "RESOURCE            4971\n",
       "MGR_ID              4689\n",
       "ROLE_ROLLUP_1        126\n",
       "ROLE_ROLLUP_2        177\n",
       "ROLE_DEPTNAME        466\n",
       "ROLE_TITLE           351\n",
       "ROLE_FAMILY_DESC    2749\n",
       "ROLE_FAMILY           68\n",
       "ROLE_CODE            351\n",
       "dtype: int64"
      ]
     },
     "execution_count": 58,
     "metadata": {},
     "output_type": "execute_result"
    }
   ],
   "source": [
    "test_data.nunique()"
   ]
  },
  {
   "cell_type": "code",
   "execution_count": 59,
   "metadata": {},
   "outputs": [],
   "source": [
    "train_svd = pd.DataFrame()\n",
    "test_svd = pd.DataFrame()"
   ]
  },
  {
   "cell_type": "code",
   "execution_count": 60,
   "metadata": {},
   "outputs": [],
   "source": [
    "temp = train_data.groupby(['ROLE_ROLLUP_1','ROLE_ROLLUP_2'])['ROLE_ROLLUP_1'].count()\n",
    "temp=temp.unstack(fill_value=0)"
   ]
  },
  {
   "cell_type": "code",
   "execution_count": 61,
   "metadata": {},
   "outputs": [
    {
     "data": {
      "text/html": [
       "<div>\n",
       "<style scoped>\n",
       "    .dataframe tbody tr th:only-of-type {\n",
       "        vertical-align: middle;\n",
       "    }\n",
       "\n",
       "    .dataframe tbody tr th {\n",
       "        vertical-align: top;\n",
       "    }\n",
       "\n",
       "    .dataframe thead th {\n",
       "        text-align: right;\n",
       "    }\n",
       "</style>\n",
       "<table border=\"1\" class=\"dataframe\">\n",
       "  <thead>\n",
       "    <tr style=\"text-align: right;\">\n",
       "      <th>ROLE_ROLLUP_2</th>\n",
       "      <th>23779</th>\n",
       "      <th>31010</th>\n",
       "      <th>32137</th>\n",
       "      <th>117877</th>\n",
       "      <th>117883</th>\n",
       "      <th>117891</th>\n",
       "      <th>117894</th>\n",
       "      <th>117903</th>\n",
       "      <th>117911</th>\n",
       "      <th>117917</th>\n",
       "      <th>...</th>\n",
       "      <th>141176</th>\n",
       "      <th>141222</th>\n",
       "      <th>143009</th>\n",
       "      <th>145248</th>\n",
       "      <th>147237</th>\n",
       "      <th>151110</th>\n",
       "      <th>159716</th>\n",
       "      <th>176316</th>\n",
       "      <th>185842</th>\n",
       "      <th>286791</th>\n",
       "    </tr>\n",
       "    <tr>\n",
       "      <th>ROLE_ROLLUP_1</th>\n",
       "      <th></th>\n",
       "      <th></th>\n",
       "      <th></th>\n",
       "      <th></th>\n",
       "      <th></th>\n",
       "      <th></th>\n",
       "      <th></th>\n",
       "      <th></th>\n",
       "      <th></th>\n",
       "      <th></th>\n",
       "      <th></th>\n",
       "      <th></th>\n",
       "      <th></th>\n",
       "      <th></th>\n",
       "      <th></th>\n",
       "      <th></th>\n",
       "      <th></th>\n",
       "      <th></th>\n",
       "      <th></th>\n",
       "      <th></th>\n",
       "      <th></th>\n",
       "    </tr>\n",
       "  </thead>\n",
       "  <tbody>\n",
       "    <tr>\n",
       "      <th>4292</th>\n",
       "      <td>0</td>\n",
       "      <td>0</td>\n",
       "      <td>0</td>\n",
       "      <td>0</td>\n",
       "      <td>0</td>\n",
       "      <td>0</td>\n",
       "      <td>0</td>\n",
       "      <td>0</td>\n",
       "      <td>0</td>\n",
       "      <td>0</td>\n",
       "      <td>...</td>\n",
       "      <td>0</td>\n",
       "      <td>0</td>\n",
       "      <td>0</td>\n",
       "      <td>0</td>\n",
       "      <td>0</td>\n",
       "      <td>0</td>\n",
       "      <td>0</td>\n",
       "      <td>0</td>\n",
       "      <td>0</td>\n",
       "      <td>0</td>\n",
       "    </tr>\n",
       "    <tr>\n",
       "      <th>5110</th>\n",
       "      <td>0</td>\n",
       "      <td>0</td>\n",
       "      <td>0</td>\n",
       "      <td>0</td>\n",
       "      <td>0</td>\n",
       "      <td>0</td>\n",
       "      <td>0</td>\n",
       "      <td>0</td>\n",
       "      <td>0</td>\n",
       "      <td>0</td>\n",
       "      <td>...</td>\n",
       "      <td>0</td>\n",
       "      <td>0</td>\n",
       "      <td>0</td>\n",
       "      <td>0</td>\n",
       "      <td>0</td>\n",
       "      <td>0</td>\n",
       "      <td>0</td>\n",
       "      <td>0</td>\n",
       "      <td>0</td>\n",
       "      <td>0</td>\n",
       "    </tr>\n",
       "    <tr>\n",
       "      <th>11146</th>\n",
       "      <td>0</td>\n",
       "      <td>0</td>\n",
       "      <td>0</td>\n",
       "      <td>0</td>\n",
       "      <td>0</td>\n",
       "      <td>0</td>\n",
       "      <td>0</td>\n",
       "      <td>0</td>\n",
       "      <td>0</td>\n",
       "      <td>0</td>\n",
       "      <td>...</td>\n",
       "      <td>0</td>\n",
       "      <td>0</td>\n",
       "      <td>0</td>\n",
       "      <td>0</td>\n",
       "      <td>0</td>\n",
       "      <td>0</td>\n",
       "      <td>0</td>\n",
       "      <td>0</td>\n",
       "      <td>0</td>\n",
       "      <td>0</td>\n",
       "    </tr>\n",
       "    <tr>\n",
       "      <th>91261</th>\n",
       "      <td>0</td>\n",
       "      <td>0</td>\n",
       "      <td>0</td>\n",
       "      <td>0</td>\n",
       "      <td>0</td>\n",
       "      <td>0</td>\n",
       "      <td>0</td>\n",
       "      <td>0</td>\n",
       "      <td>0</td>\n",
       "      <td>0</td>\n",
       "      <td>...</td>\n",
       "      <td>0</td>\n",
       "      <td>0</td>\n",
       "      <td>0</td>\n",
       "      <td>0</td>\n",
       "      <td>0</td>\n",
       "      <td>0</td>\n",
       "      <td>0</td>\n",
       "      <td>0</td>\n",
       "      <td>0</td>\n",
       "      <td>0</td>\n",
       "    </tr>\n",
       "    <tr>\n",
       "      <th>117876</th>\n",
       "      <td>0</td>\n",
       "      <td>0</td>\n",
       "      <td>0</td>\n",
       "      <td>171</td>\n",
       "      <td>0</td>\n",
       "      <td>0</td>\n",
       "      <td>0</td>\n",
       "      <td>0</td>\n",
       "      <td>0</td>\n",
       "      <td>0</td>\n",
       "      <td>...</td>\n",
       "      <td>0</td>\n",
       "      <td>0</td>\n",
       "      <td>0</td>\n",
       "      <td>0</td>\n",
       "      <td>0</td>\n",
       "      <td>0</td>\n",
       "      <td>0</td>\n",
       "      <td>0</td>\n",
       "      <td>0</td>\n",
       "      <td>0</td>\n",
       "    </tr>\n",
       "    <tr>\n",
       "      <th>...</th>\n",
       "      <td>...</td>\n",
       "      <td>...</td>\n",
       "      <td>...</td>\n",
       "      <td>...</td>\n",
       "      <td>...</td>\n",
       "      <td>...</td>\n",
       "      <td>...</td>\n",
       "      <td>...</td>\n",
       "      <td>...</td>\n",
       "      <td>...</td>\n",
       "      <td>...</td>\n",
       "      <td>...</td>\n",
       "      <td>...</td>\n",
       "      <td>...</td>\n",
       "      <td>...</td>\n",
       "      <td>...</td>\n",
       "      <td>...</td>\n",
       "      <td>...</td>\n",
       "      <td>...</td>\n",
       "      <td>...</td>\n",
       "      <td>...</td>\n",
       "    </tr>\n",
       "    <tr>\n",
       "      <th>203209</th>\n",
       "      <td>0</td>\n",
       "      <td>0</td>\n",
       "      <td>0</td>\n",
       "      <td>0</td>\n",
       "      <td>0</td>\n",
       "      <td>0</td>\n",
       "      <td>0</td>\n",
       "      <td>0</td>\n",
       "      <td>0</td>\n",
       "      <td>0</td>\n",
       "      <td>...</td>\n",
       "      <td>0</td>\n",
       "      <td>0</td>\n",
       "      <td>0</td>\n",
       "      <td>0</td>\n",
       "      <td>0</td>\n",
       "      <td>0</td>\n",
       "      <td>0</td>\n",
       "      <td>0</td>\n",
       "      <td>0</td>\n",
       "      <td>0</td>\n",
       "    </tr>\n",
       "    <tr>\n",
       "      <th>209434</th>\n",
       "      <td>0</td>\n",
       "      <td>0</td>\n",
       "      <td>0</td>\n",
       "      <td>0</td>\n",
       "      <td>0</td>\n",
       "      <td>0</td>\n",
       "      <td>0</td>\n",
       "      <td>0</td>\n",
       "      <td>0</td>\n",
       "      <td>0</td>\n",
       "      <td>...</td>\n",
       "      <td>0</td>\n",
       "      <td>0</td>\n",
       "      <td>0</td>\n",
       "      <td>0</td>\n",
       "      <td>0</td>\n",
       "      <td>0</td>\n",
       "      <td>0</td>\n",
       "      <td>0</td>\n",
       "      <td>0</td>\n",
       "      <td>0</td>\n",
       "    </tr>\n",
       "    <tr>\n",
       "      <th>216705</th>\n",
       "      <td>0</td>\n",
       "      <td>0</td>\n",
       "      <td>0</td>\n",
       "      <td>0</td>\n",
       "      <td>0</td>\n",
       "      <td>0</td>\n",
       "      <td>0</td>\n",
       "      <td>0</td>\n",
       "      <td>0</td>\n",
       "      <td>0</td>\n",
       "      <td>...</td>\n",
       "      <td>0</td>\n",
       "      <td>0</td>\n",
       "      <td>0</td>\n",
       "      <td>0</td>\n",
       "      <td>0</td>\n",
       "      <td>0</td>\n",
       "      <td>0</td>\n",
       "      <td>0</td>\n",
       "      <td>0</td>\n",
       "      <td>0</td>\n",
       "    </tr>\n",
       "    <tr>\n",
       "      <th>247952</th>\n",
       "      <td>0</td>\n",
       "      <td>0</td>\n",
       "      <td>0</td>\n",
       "      <td>0</td>\n",
       "      <td>0</td>\n",
       "      <td>0</td>\n",
       "      <td>0</td>\n",
       "      <td>0</td>\n",
       "      <td>0</td>\n",
       "      <td>0</td>\n",
       "      <td>...</td>\n",
       "      <td>0</td>\n",
       "      <td>0</td>\n",
       "      <td>0</td>\n",
       "      <td>0</td>\n",
       "      <td>0</td>\n",
       "      <td>0</td>\n",
       "      <td>0</td>\n",
       "      <td>0</td>\n",
       "      <td>0</td>\n",
       "      <td>0</td>\n",
       "    </tr>\n",
       "    <tr>\n",
       "      <th>311178</th>\n",
       "      <td>0</td>\n",
       "      <td>0</td>\n",
       "      <td>0</td>\n",
       "      <td>0</td>\n",
       "      <td>0</td>\n",
       "      <td>0</td>\n",
       "      <td>0</td>\n",
       "      <td>0</td>\n",
       "      <td>0</td>\n",
       "      <td>0</td>\n",
       "      <td>...</td>\n",
       "      <td>0</td>\n",
       "      <td>0</td>\n",
       "      <td>0</td>\n",
       "      <td>0</td>\n",
       "      <td>0</td>\n",
       "      <td>0</td>\n",
       "      <td>0</td>\n",
       "      <td>0</td>\n",
       "      <td>0</td>\n",
       "      <td>0</td>\n",
       "    </tr>\n",
       "  </tbody>\n",
       "</table>\n",
       "<p>128 rows × 177 columns</p>\n",
       "</div>"
      ],
      "text/plain": [
       "ROLE_ROLLUP_2  23779   31010   32137   117877  117883  117891  117894  117903  \\\n",
       "ROLE_ROLLUP_1                                                                   \n",
       "4292                0       0       0       0       0       0       0       0   \n",
       "5110                0       0       0       0       0       0       0       0   \n",
       "11146               0       0       0       0       0       0       0       0   \n",
       "91261               0       0       0       0       0       0       0       0   \n",
       "117876              0       0       0     171       0       0       0       0   \n",
       "...               ...     ...     ...     ...     ...     ...     ...     ...   \n",
       "203209              0       0       0       0       0       0       0       0   \n",
       "209434              0       0       0       0       0       0       0       0   \n",
       "216705              0       0       0       0       0       0       0       0   \n",
       "247952              0       0       0       0       0       0       0       0   \n",
       "311178              0       0       0       0       0       0       0       0   \n",
       "\n",
       "ROLE_ROLLUP_2  117911  117917  ...  141176  141222  143009  145248  147237  \\\n",
       "ROLE_ROLLUP_1                  ...                                           \n",
       "4292                0       0  ...       0       0       0       0       0   \n",
       "5110                0       0  ...       0       0       0       0       0   \n",
       "11146               0       0  ...       0       0       0       0       0   \n",
       "91261               0       0  ...       0       0       0       0       0   \n",
       "117876              0       0  ...       0       0       0       0       0   \n",
       "...               ...     ...  ...     ...     ...     ...     ...     ...   \n",
       "203209              0       0  ...       0       0       0       0       0   \n",
       "209434              0       0  ...       0       0       0       0       0   \n",
       "216705              0       0  ...       0       0       0       0       0   \n",
       "247952              0       0  ...       0       0       0       0       0   \n",
       "311178              0       0  ...       0       0       0       0       0   \n",
       "\n",
       "ROLE_ROLLUP_2  151110  159716  176316  185842  286791  \n",
       "ROLE_ROLLUP_1                                          \n",
       "4292                0       0       0       0       0  \n",
       "5110                0       0       0       0       0  \n",
       "11146               0       0       0       0       0  \n",
       "91261               0       0       0       0       0  \n",
       "117876              0       0       0       0       0  \n",
       "...               ...     ...     ...     ...     ...  \n",
       "203209              0       0       0       0       0  \n",
       "209434              0       0       0       0       0  \n",
       "216705              0       0       0       0       0  \n",
       "247952              0       0       0       0       0  \n",
       "311178              0       0       0       0       0  \n",
       "\n",
       "[128 rows x 177 columns]"
      ]
     },
     "execution_count": 61,
     "metadata": {},
     "output_type": "execute_result"
    }
   ],
   "source": [
    "temp"
   ]
  },
  {
   "cell_type": "code",
   "execution_count": 62,
   "metadata": {},
   "outputs": [],
   "source": [
    "temp = train_data.groupby(['RESOURCE','MGR_ID'])['MGR_ID'].count()\n",
    "temp=temp.unstack(fill_value=0)"
   ]
  },
  {
   "cell_type": "code",
   "execution_count": 63,
   "metadata": {},
   "outputs": [
    {
     "data": {
      "text/html": [
       "<div>\n",
       "<style scoped>\n",
       "    .dataframe tbody tr th:only-of-type {\n",
       "        vertical-align: middle;\n",
       "    }\n",
       "\n",
       "    .dataframe tbody tr th {\n",
       "        vertical-align: top;\n",
       "    }\n",
       "\n",
       "    .dataframe thead th {\n",
       "        text-align: right;\n",
       "    }\n",
       "</style>\n",
       "<table border=\"1\" class=\"dataframe\">\n",
       "  <thead>\n",
       "    <tr style=\"text-align: right;\">\n",
       "      <th>MGR_ID</th>\n",
       "      <th>25</th>\n",
       "      <th>27</th>\n",
       "      <th>30</th>\n",
       "      <th>32</th>\n",
       "      <th>33</th>\n",
       "      <th>36</th>\n",
       "      <th>43</th>\n",
       "      <th>46</th>\n",
       "      <th>47</th>\n",
       "      <th>55</th>\n",
       "      <th>...</th>\n",
       "      <th>311251</th>\n",
       "      <th>311338</th>\n",
       "      <th>311355</th>\n",
       "      <th>311433</th>\n",
       "      <th>311438</th>\n",
       "      <th>311597</th>\n",
       "      <th>311651</th>\n",
       "      <th>311682</th>\n",
       "      <th>311683</th>\n",
       "      <th>311696</th>\n",
       "    </tr>\n",
       "    <tr>\n",
       "      <th>RESOURCE</th>\n",
       "      <th></th>\n",
       "      <th></th>\n",
       "      <th></th>\n",
       "      <th></th>\n",
       "      <th></th>\n",
       "      <th></th>\n",
       "      <th></th>\n",
       "      <th></th>\n",
       "      <th></th>\n",
       "      <th></th>\n",
       "      <th></th>\n",
       "      <th></th>\n",
       "      <th></th>\n",
       "      <th></th>\n",
       "      <th></th>\n",
       "      <th></th>\n",
       "      <th></th>\n",
       "      <th></th>\n",
       "      <th></th>\n",
       "      <th></th>\n",
       "      <th></th>\n",
       "    </tr>\n",
       "  </thead>\n",
       "  <tbody>\n",
       "    <tr>\n",
       "      <th>0</th>\n",
       "      <td>0</td>\n",
       "      <td>0</td>\n",
       "      <td>0</td>\n",
       "      <td>0</td>\n",
       "      <td>1</td>\n",
       "      <td>1</td>\n",
       "      <td>0</td>\n",
       "      <td>0</td>\n",
       "      <td>0</td>\n",
       "      <td>0</td>\n",
       "      <td>...</td>\n",
       "      <td>0</td>\n",
       "      <td>0</td>\n",
       "      <td>0</td>\n",
       "      <td>0</td>\n",
       "      <td>0</td>\n",
       "      <td>0</td>\n",
       "      <td>0</td>\n",
       "      <td>0</td>\n",
       "      <td>0</td>\n",
       "      <td>0</td>\n",
       "    </tr>\n",
       "    <tr>\n",
       "      <th>38</th>\n",
       "      <td>0</td>\n",
       "      <td>0</td>\n",
       "      <td>0</td>\n",
       "      <td>0</td>\n",
       "      <td>0</td>\n",
       "      <td>0</td>\n",
       "      <td>0</td>\n",
       "      <td>0</td>\n",
       "      <td>1</td>\n",
       "      <td>0</td>\n",
       "      <td>...</td>\n",
       "      <td>0</td>\n",
       "      <td>0</td>\n",
       "      <td>0</td>\n",
       "      <td>0</td>\n",
       "      <td>0</td>\n",
       "      <td>0</td>\n",
       "      <td>0</td>\n",
       "      <td>0</td>\n",
       "      <td>0</td>\n",
       "      <td>0</td>\n",
       "    </tr>\n",
       "    <tr>\n",
       "      <th>136</th>\n",
       "      <td>0</td>\n",
       "      <td>0</td>\n",
       "      <td>0</td>\n",
       "      <td>0</td>\n",
       "      <td>0</td>\n",
       "      <td>0</td>\n",
       "      <td>0</td>\n",
       "      <td>0</td>\n",
       "      <td>0</td>\n",
       "      <td>0</td>\n",
       "      <td>...</td>\n",
       "      <td>0</td>\n",
       "      <td>0</td>\n",
       "      <td>0</td>\n",
       "      <td>0</td>\n",
       "      <td>0</td>\n",
       "      <td>0</td>\n",
       "      <td>0</td>\n",
       "      <td>0</td>\n",
       "      <td>0</td>\n",
       "      <td>0</td>\n",
       "    </tr>\n",
       "    <tr>\n",
       "      <th>138</th>\n",
       "      <td>0</td>\n",
       "      <td>0</td>\n",
       "      <td>0</td>\n",
       "      <td>0</td>\n",
       "      <td>0</td>\n",
       "      <td>0</td>\n",
       "      <td>0</td>\n",
       "      <td>0</td>\n",
       "      <td>0</td>\n",
       "      <td>0</td>\n",
       "      <td>...</td>\n",
       "      <td>0</td>\n",
       "      <td>0</td>\n",
       "      <td>0</td>\n",
       "      <td>0</td>\n",
       "      <td>0</td>\n",
       "      <td>0</td>\n",
       "      <td>0</td>\n",
       "      <td>0</td>\n",
       "      <td>0</td>\n",
       "      <td>0</td>\n",
       "    </tr>\n",
       "    <tr>\n",
       "      <th>153</th>\n",
       "      <td>0</td>\n",
       "      <td>0</td>\n",
       "      <td>0</td>\n",
       "      <td>0</td>\n",
       "      <td>0</td>\n",
       "      <td>0</td>\n",
       "      <td>0</td>\n",
       "      <td>0</td>\n",
       "      <td>0</td>\n",
       "      <td>0</td>\n",
       "      <td>...</td>\n",
       "      <td>0</td>\n",
       "      <td>0</td>\n",
       "      <td>0</td>\n",
       "      <td>0</td>\n",
       "      <td>0</td>\n",
       "      <td>0</td>\n",
       "      <td>0</td>\n",
       "      <td>0</td>\n",
       "      <td>0</td>\n",
       "      <td>0</td>\n",
       "    </tr>\n",
       "    <tr>\n",
       "      <th>...</th>\n",
       "      <td>...</td>\n",
       "      <td>...</td>\n",
       "      <td>...</td>\n",
       "      <td>...</td>\n",
       "      <td>...</td>\n",
       "      <td>...</td>\n",
       "      <td>...</td>\n",
       "      <td>...</td>\n",
       "      <td>...</td>\n",
       "      <td>...</td>\n",
       "      <td>...</td>\n",
       "      <td>...</td>\n",
       "      <td>...</td>\n",
       "      <td>...</td>\n",
       "      <td>...</td>\n",
       "      <td>...</td>\n",
       "      <td>...</td>\n",
       "      <td>...</td>\n",
       "      <td>...</td>\n",
       "      <td>...</td>\n",
       "      <td>...</td>\n",
       "    </tr>\n",
       "    <tr>\n",
       "      <th>312136</th>\n",
       "      <td>0</td>\n",
       "      <td>0</td>\n",
       "      <td>0</td>\n",
       "      <td>0</td>\n",
       "      <td>0</td>\n",
       "      <td>0</td>\n",
       "      <td>0</td>\n",
       "      <td>0</td>\n",
       "      <td>0</td>\n",
       "      <td>0</td>\n",
       "      <td>...</td>\n",
       "      <td>0</td>\n",
       "      <td>0</td>\n",
       "      <td>0</td>\n",
       "      <td>0</td>\n",
       "      <td>0</td>\n",
       "      <td>0</td>\n",
       "      <td>0</td>\n",
       "      <td>0</td>\n",
       "      <td>0</td>\n",
       "      <td>0</td>\n",
       "    </tr>\n",
       "    <tr>\n",
       "      <th>312139</th>\n",
       "      <td>0</td>\n",
       "      <td>0</td>\n",
       "      <td>0</td>\n",
       "      <td>0</td>\n",
       "      <td>0</td>\n",
       "      <td>0</td>\n",
       "      <td>0</td>\n",
       "      <td>0</td>\n",
       "      <td>0</td>\n",
       "      <td>0</td>\n",
       "      <td>...</td>\n",
       "      <td>0</td>\n",
       "      <td>0</td>\n",
       "      <td>0</td>\n",
       "      <td>0</td>\n",
       "      <td>0</td>\n",
       "      <td>0</td>\n",
       "      <td>0</td>\n",
       "      <td>0</td>\n",
       "      <td>0</td>\n",
       "      <td>0</td>\n",
       "    </tr>\n",
       "    <tr>\n",
       "      <th>312140</th>\n",
       "      <td>0</td>\n",
       "      <td>0</td>\n",
       "      <td>0</td>\n",
       "      <td>0</td>\n",
       "      <td>0</td>\n",
       "      <td>0</td>\n",
       "      <td>0</td>\n",
       "      <td>0</td>\n",
       "      <td>0</td>\n",
       "      <td>0</td>\n",
       "      <td>...</td>\n",
       "      <td>0</td>\n",
       "      <td>0</td>\n",
       "      <td>0</td>\n",
       "      <td>0</td>\n",
       "      <td>0</td>\n",
       "      <td>0</td>\n",
       "      <td>0</td>\n",
       "      <td>0</td>\n",
       "      <td>0</td>\n",
       "      <td>0</td>\n",
       "    </tr>\n",
       "    <tr>\n",
       "      <th>312152</th>\n",
       "      <td>0</td>\n",
       "      <td>0</td>\n",
       "      <td>0</td>\n",
       "      <td>0</td>\n",
       "      <td>0</td>\n",
       "      <td>0</td>\n",
       "      <td>0</td>\n",
       "      <td>0</td>\n",
       "      <td>0</td>\n",
       "      <td>0</td>\n",
       "      <td>...</td>\n",
       "      <td>0</td>\n",
       "      <td>0</td>\n",
       "      <td>0</td>\n",
       "      <td>0</td>\n",
       "      <td>0</td>\n",
       "      <td>0</td>\n",
       "      <td>0</td>\n",
       "      <td>0</td>\n",
       "      <td>0</td>\n",
       "      <td>0</td>\n",
       "    </tr>\n",
       "    <tr>\n",
       "      <th>312153</th>\n",
       "      <td>0</td>\n",
       "      <td>0</td>\n",
       "      <td>0</td>\n",
       "      <td>0</td>\n",
       "      <td>0</td>\n",
       "      <td>0</td>\n",
       "      <td>0</td>\n",
       "      <td>0</td>\n",
       "      <td>0</td>\n",
       "      <td>0</td>\n",
       "      <td>...</td>\n",
       "      <td>0</td>\n",
       "      <td>0</td>\n",
       "      <td>0</td>\n",
       "      <td>0</td>\n",
       "      <td>0</td>\n",
       "      <td>0</td>\n",
       "      <td>0</td>\n",
       "      <td>0</td>\n",
       "      <td>0</td>\n",
       "      <td>0</td>\n",
       "    </tr>\n",
       "  </tbody>\n",
       "</table>\n",
       "<p>7518 rows × 4243 columns</p>\n",
       "</div>"
      ],
      "text/plain": [
       "MGR_ID    25      27      30      32      33      36      43      46      \\\n",
       "RESOURCE                                                                   \n",
       "0              0       0       0       0       1       1       0       0   \n",
       "38             0       0       0       0       0       0       0       0   \n",
       "136            0       0       0       0       0       0       0       0   \n",
       "138            0       0       0       0       0       0       0       0   \n",
       "153            0       0       0       0       0       0       0       0   \n",
       "...          ...     ...     ...     ...     ...     ...     ...     ...   \n",
       "312136         0       0       0       0       0       0       0       0   \n",
       "312139         0       0       0       0       0       0       0       0   \n",
       "312140         0       0       0       0       0       0       0       0   \n",
       "312152         0       0       0       0       0       0       0       0   \n",
       "312153         0       0       0       0       0       0       0       0   \n",
       "\n",
       "MGR_ID    47      55      ...  311251  311338  311355  311433  311438  311597  \\\n",
       "RESOURCE                  ...                                                   \n",
       "0              0       0  ...       0       0       0       0       0       0   \n",
       "38             1       0  ...       0       0       0       0       0       0   \n",
       "136            0       0  ...       0       0       0       0       0       0   \n",
       "138            0       0  ...       0       0       0       0       0       0   \n",
       "153            0       0  ...       0       0       0       0       0       0   \n",
       "...          ...     ...  ...     ...     ...     ...     ...     ...     ...   \n",
       "312136         0       0  ...       0       0       0       0       0       0   \n",
       "312139         0       0  ...       0       0       0       0       0       0   \n",
       "312140         0       0  ...       0       0       0       0       0       0   \n",
       "312152         0       0  ...       0       0       0       0       0       0   \n",
       "312153         0       0  ...       0       0       0       0       0       0   \n",
       "\n",
       "MGR_ID    311651  311682  311683  311696  \n",
       "RESOURCE                                  \n",
       "0              0       0       0       0  \n",
       "38             0       0       0       0  \n",
       "136            0       0       0       0  \n",
       "138            0       0       0       0  \n",
       "153            0       0       0       0  \n",
       "...          ...     ...     ...     ...  \n",
       "312136         0       0       0       0  \n",
       "312139         0       0       0       0  \n",
       "312140         0       0       0       0  \n",
       "312152         0       0       0       0  \n",
       "312153         0       0       0       0  \n",
       "\n",
       "[7518 rows x 4243 columns]"
      ]
     },
     "execution_count": 63,
     "metadata": {},
     "output_type": "execute_result"
    }
   ],
   "source": [
    "temp"
   ]
  },
  {
   "cell_type": "code",
   "execution_count": 64,
   "metadata": {},
   "outputs": [
    {
     "data": {
      "text/plain": [
       "Index(['RESOURCE', 'MGR_ID', 'ROLE_ROLLUP_1', 'ROLE_ROLLUP_2', 'ROLE_DEPTNAME',\n",
       "       'ROLE_TITLE', 'ROLE_FAMILY_DESC', 'ROLE_FAMILY', 'ROLE_CODE'],\n",
       "      dtype='object')"
      ]
     },
     "execution_count": 64,
     "metadata": {},
     "output_type": "execute_result"
    }
   ],
   "source": [
    "train_data.columns"
   ]
  },
  {
   "cell_type": "code",
   "execution_count": 65,
   "metadata": {},
   "outputs": [
    {
     "name": "stderr",
     "output_type": "stream",
     "text": [
      "72it [00:23,  3.06it/s]\n"
     ]
    }
   ],
   "source": [
    "for col1,col2 in tqdm(permutations(train_data.columns,2)):\n",
    "    res_train=(train_data.groupby([col1,col2])[col2].count()) \n",
    "    res_train=res_train.unstack(fill_value=0)\n",
    "\n",
    "    svd=TruncatedSVD(n_components=1,random_state=42,).fit(res_train)\n",
    "    val_train=svd.transform(res_train)\n",
    "    val_train = pd.DataFrame(val_train)\n",
    "    val_train = val_train.set_index(res_train.index)\n",
    "    \n",
    "    train_svd[col1+'_'+col2]=train[col1].map(val_train.iloc[:,0])\n",
    "    test_svd[col1+'_'+col2]=test[col1].map(val_train.iloc[:,0])"
   ]
  },
  {
   "cell_type": "code",
   "execution_count": 66,
   "metadata": {},
   "outputs": [
    {
     "data": {
      "text/plain": [
       "((32769, 72), (58921, 72))"
      ]
     },
     "execution_count": 66,
     "metadata": {},
     "output_type": "execute_result"
    }
   ],
   "source": [
    "train_svd.shape,test_svd.shape"
   ]
  },
  {
   "cell_type": "code",
   "execution_count": 67,
   "metadata": {},
   "outputs": [
    {
     "name": "stdout",
     "output_type": "stream",
     "text": [
      "[0 0 0 0 0 0 0 0 0 0 0 0 0 0 0 0 0 0 0 0 0 0 0 0 0 0 0 0 0 0 0 0 0 0 0 0 0\n",
      " 0 0 0 0 0 0 0 0 0 0 0 0 0 0 0 0 0 0 0 0 0 0 0 0 0 0 0 0 0 0 0 0 0 0 0]\n",
      "[0 0 0 0 0 0 0 0 0 0 0 0 0 0 0 0 0 0 0 0 0 0 0 0 0 0 0 0 0 0 0 0 0 0 0 0 0\n",
      " 0 0 0 0 0 0 0 0 0 0 0 0 0 0 0 0 0 0 0 0 0 0 0 0 0 0 0 0 0 0 0 0 0 0 0]\n"
     ]
    }
   ],
   "source": [
    "train_svd.fillna(0,inplace=True)\n",
    "test_svd.fillna(0,inplace=True)\n",
    "print(train_svd.isna().sum().values)\n",
    "print(test_svd.isna().sum().values)"
   ]
  },
  {
   "cell_type": "code",
   "execution_count": 68,
   "metadata": {},
   "outputs": [
    {
     "data": {
      "text/html": [
       "<div>\n",
       "<style scoped>\n",
       "    .dataframe tbody tr th:only-of-type {\n",
       "        vertical-align: middle;\n",
       "    }\n",
       "\n",
       "    .dataframe tbody tr th {\n",
       "        vertical-align: top;\n",
       "    }\n",
       "\n",
       "    .dataframe thead th {\n",
       "        text-align: right;\n",
       "    }\n",
       "</style>\n",
       "<table border=\"1\" class=\"dataframe\">\n",
       "  <thead>\n",
       "    <tr style=\"text-align: right;\">\n",
       "      <th></th>\n",
       "      <th>RESOURCE_MGR_ID</th>\n",
       "      <th>RESOURCE_ROLE_ROLLUP_1</th>\n",
       "      <th>RESOURCE_ROLE_ROLLUP_2</th>\n",
       "      <th>RESOURCE_ROLE_DEPTNAME</th>\n",
       "      <th>RESOURCE_ROLE_TITLE</th>\n",
       "      <th>RESOURCE_ROLE_FAMILY_DESC</th>\n",
       "      <th>RESOURCE_ROLE_FAMILY</th>\n",
       "      <th>RESOURCE_ROLE_CODE</th>\n",
       "      <th>MGR_ID_RESOURCE</th>\n",
       "      <th>MGR_ID_ROLE_ROLLUP_1</th>\n",
       "      <th>...</th>\n",
       "      <th>ROLE_FAMILY_ROLE_FAMILY_DESC</th>\n",
       "      <th>ROLE_FAMILY_ROLE_CODE</th>\n",
       "      <th>ROLE_CODE_RESOURCE</th>\n",
       "      <th>ROLE_CODE_MGR_ID</th>\n",
       "      <th>ROLE_CODE_ROLE_ROLLUP_1</th>\n",
       "      <th>ROLE_CODE_ROLE_ROLLUP_2</th>\n",
       "      <th>ROLE_CODE_ROLE_DEPTNAME</th>\n",
       "      <th>ROLE_CODE_ROLE_TITLE</th>\n",
       "      <th>ROLE_CODE_ROLE_FAMILY_DESC</th>\n",
       "      <th>ROLE_CODE_ROLE_FAMILY</th>\n",
       "    </tr>\n",
       "  </thead>\n",
       "  <tbody>\n",
       "    <tr>\n",
       "      <th>0</th>\n",
       "      <td>0.088724</td>\n",
       "      <td>2.995769</td>\n",
       "      <td>1.810303</td>\n",
       "      <td>0.070125</td>\n",
       "      <td>1.593630</td>\n",
       "      <td>2.919560</td>\n",
       "      <td>2.934431</td>\n",
       "      <td>1.593630</td>\n",
       "      <td>1.416749</td>\n",
       "      <td>5.499993e+01</td>\n",
       "      <td>...</td>\n",
       "      <td>6975.313331</td>\n",
       "      <td>6.146289e+03</td>\n",
       "      <td>288.345856</td>\n",
       "      <td>164.386849</td>\n",
       "      <td>2930.072697</td>\n",
       "      <td>1055.973092</td>\n",
       "      <td>1.816763</td>\n",
       "      <td>6.276052e-13</td>\n",
       "      <td>2.671720e+03</td>\n",
       "      <td>3.583000e+03</td>\n",
       "    </tr>\n",
       "    <tr>\n",
       "      <th>1</th>\n",
       "      <td>0.559935</td>\n",
       "      <td>25.998514</td>\n",
       "      <td>13.247680</td>\n",
       "      <td>1.084496</td>\n",
       "      <td>4.285689</td>\n",
       "      <td>4.534700</td>\n",
       "      <td>8.583779</td>\n",
       "      <td>4.285689</td>\n",
       "      <td>0.560297</td>\n",
       "      <td>9.999987e+00</td>\n",
       "      <td>...</td>\n",
       "      <td>0.101858</td>\n",
       "      <td>1.215882e-16</td>\n",
       "      <td>5.964018</td>\n",
       "      <td>0.288915</td>\n",
       "      <td>80.895295</td>\n",
       "      <td>25.034824</td>\n",
       "      <td>0.024511</td>\n",
       "      <td>-5.095220e-21</td>\n",
       "      <td>7.123211e-04</td>\n",
       "      <td>1.602276e-18</td>\n",
       "    </tr>\n",
       "    <tr>\n",
       "      <th>2</th>\n",
       "      <td>0.000108</td>\n",
       "      <td>0.007828</td>\n",
       "      <td>0.022128</td>\n",
       "      <td>0.509533</td>\n",
       "      <td>0.049782</td>\n",
       "      <td>0.007275</td>\n",
       "      <td>0.058700</td>\n",
       "      <td>0.049782</td>\n",
       "      <td>0.000724</td>\n",
       "      <td>5.493129e-10</td>\n",
       "      <td>...</td>\n",
       "      <td>0.024495</td>\n",
       "      <td>3.378811e-12</td>\n",
       "      <td>10.862651</td>\n",
       "      <td>0.000037</td>\n",
       "      <td>0.255356</td>\n",
       "      <td>0.160767</td>\n",
       "      <td>617.679185</td>\n",
       "      <td>-1.968758e-13</td>\n",
       "      <td>5.953084e-04</td>\n",
       "      <td>1.010753e-11</td>\n",
       "    </tr>\n",
       "    <tr>\n",
       "      <th>3</th>\n",
       "      <td>0.044904</td>\n",
       "      <td>0.998590</td>\n",
       "      <td>0.597128</td>\n",
       "      <td>0.018862</td>\n",
       "      <td>0.669129</td>\n",
       "      <td>0.164492</td>\n",
       "      <td>0.978144</td>\n",
       "      <td>0.669129</td>\n",
       "      <td>2.151085</td>\n",
       "      <td>6.199992e+01</td>\n",
       "      <td>...</td>\n",
       "      <td>6975.313331</td>\n",
       "      <td>6.146289e+03</td>\n",
       "      <td>292.012416</td>\n",
       "      <td>244.185412</td>\n",
       "      <td>4102.019163</td>\n",
       "      <td>1488.847285</td>\n",
       "      <td>2.455416</td>\n",
       "      <td>4.649000e+03</td>\n",
       "      <td>3.538719e+03</td>\n",
       "      <td>4.649000e+03</td>\n",
       "    </tr>\n",
       "    <tr>\n",
       "      <th>4</th>\n",
       "      <td>0.059410</td>\n",
       "      <td>2.022416</td>\n",
       "      <td>0.320066</td>\n",
       "      <td>0.804351</td>\n",
       "      <td>0.689633</td>\n",
       "      <td>0.175200</td>\n",
       "      <td>2.033620</td>\n",
       "      <td>0.689633</td>\n",
       "      <td>0.013122</td>\n",
       "      <td>1.490441e-04</td>\n",
       "      <td>...</td>\n",
       "      <td>0.000022</td>\n",
       "      <td>-7.200891e-18</td>\n",
       "      <td>0.267473</td>\n",
       "      <td>0.000104</td>\n",
       "      <td>0.010027</td>\n",
       "      <td>0.005174</td>\n",
       "      <td>8.969635</td>\n",
       "      <td>-9.548687e-22</td>\n",
       "      <td>1.778875e-10</td>\n",
       "      <td>-8.786878e-20</td>\n",
       "    </tr>\n",
       "  </tbody>\n",
       "</table>\n",
       "<p>5 rows × 72 columns</p>\n",
       "</div>"
      ],
      "text/plain": [
       "   RESOURCE_MGR_ID  RESOURCE_ROLE_ROLLUP_1  RESOURCE_ROLE_ROLLUP_2  \\\n",
       "0         0.088724                2.995769                1.810303   \n",
       "1         0.559935               25.998514               13.247680   \n",
       "2         0.000108                0.007828                0.022128   \n",
       "3         0.044904                0.998590                0.597128   \n",
       "4         0.059410                2.022416                0.320066   \n",
       "\n",
       "   RESOURCE_ROLE_DEPTNAME  RESOURCE_ROLE_TITLE  RESOURCE_ROLE_FAMILY_DESC  \\\n",
       "0                0.070125             1.593630                   2.919560   \n",
       "1                1.084496             4.285689                   4.534700   \n",
       "2                0.509533             0.049782                   0.007275   \n",
       "3                0.018862             0.669129                   0.164492   \n",
       "4                0.804351             0.689633                   0.175200   \n",
       "\n",
       "   RESOURCE_ROLE_FAMILY  RESOURCE_ROLE_CODE  MGR_ID_RESOURCE  \\\n",
       "0              2.934431            1.593630         1.416749   \n",
       "1              8.583779            4.285689         0.560297   \n",
       "2              0.058700            0.049782         0.000724   \n",
       "3              0.978144            0.669129         2.151085   \n",
       "4              2.033620            0.689633         0.013122   \n",
       "\n",
       "   MGR_ID_ROLE_ROLLUP_1  ...  ROLE_FAMILY_ROLE_FAMILY_DESC  \\\n",
       "0          5.499993e+01  ...                   6975.313331   \n",
       "1          9.999987e+00  ...                      0.101858   \n",
       "2          5.493129e-10  ...                      0.024495   \n",
       "3          6.199992e+01  ...                   6975.313331   \n",
       "4          1.490441e-04  ...                      0.000022   \n",
       "\n",
       "   ROLE_FAMILY_ROLE_CODE  ROLE_CODE_RESOURCE  ROLE_CODE_MGR_ID  \\\n",
       "0           6.146289e+03          288.345856        164.386849   \n",
       "1           1.215882e-16            5.964018          0.288915   \n",
       "2           3.378811e-12           10.862651          0.000037   \n",
       "3           6.146289e+03          292.012416        244.185412   \n",
       "4          -7.200891e-18            0.267473          0.000104   \n",
       "\n",
       "   ROLE_CODE_ROLE_ROLLUP_1  ROLE_CODE_ROLE_ROLLUP_2  ROLE_CODE_ROLE_DEPTNAME  \\\n",
       "0              2930.072697              1055.973092                 1.816763   \n",
       "1                80.895295                25.034824                 0.024511   \n",
       "2                 0.255356                 0.160767               617.679185   \n",
       "3              4102.019163              1488.847285                 2.455416   \n",
       "4                 0.010027                 0.005174                 8.969635   \n",
       "\n",
       "   ROLE_CODE_ROLE_TITLE  ROLE_CODE_ROLE_FAMILY_DESC  ROLE_CODE_ROLE_FAMILY  \n",
       "0          6.276052e-13                2.671720e+03           3.583000e+03  \n",
       "1         -5.095220e-21                7.123211e-04           1.602276e-18  \n",
       "2         -1.968758e-13                5.953084e-04           1.010753e-11  \n",
       "3          4.649000e+03                3.538719e+03           4.649000e+03  \n",
       "4         -9.548687e-22                1.778875e-10          -8.786878e-20  \n",
       "\n",
       "[5 rows x 72 columns]"
      ]
     },
     "execution_count": 68,
     "metadata": {},
     "output_type": "execute_result"
    }
   ],
   "source": [
    "train_svd.head()"
   ]
  },
  {
   "cell_type": "markdown",
   "metadata": {},
   "source": [
    "### Normalizing the data"
   ]
  },
  {
   "cell_type": "code",
   "execution_count": 69,
   "metadata": {},
   "outputs": [],
   "source": [
    "from sklearn.preprocessing import Normalizer\n",
    "columns = (train_svd.columns)\n",
    "x_vals1=train_svd[columns]\n",
    "x_vals2=test_svd[columns]\n",
    "n=Normalizer()\n",
    "n.fit(x_vals1)\n",
    "x_vals1 = n.transform(x_vals1)\n",
    "train_svd = pd.DataFrame(x_vals1,columns=columns)\n",
    "x_vals2 = n.transform(x_vals2)\n",
    "test_svd = pd.DataFrame(x_vals2,columns=columns)"
   ]
  },
  {
   "cell_type": "code",
   "execution_count": 70,
   "metadata": {},
   "outputs": [
    {
     "data": {
      "text/plain": [
       "((32769, 72), (58921, 72))"
      ]
     },
     "execution_count": 70,
     "metadata": {},
     "output_type": "execute_result"
    }
   ],
   "source": [
    "train_svd.shape,test_svd.shape"
   ]
  },
  {
   "cell_type": "code",
   "execution_count": 71,
   "metadata": {},
   "outputs": [
    {
     "data": {
      "text/html": [
       "<div>\n",
       "<style scoped>\n",
       "    .dataframe tbody tr th:only-of-type {\n",
       "        vertical-align: middle;\n",
       "    }\n",
       "\n",
       "    .dataframe tbody tr th {\n",
       "        vertical-align: top;\n",
       "    }\n",
       "\n",
       "    .dataframe thead th {\n",
       "        text-align: right;\n",
       "    }\n",
       "</style>\n",
       "<table border=\"1\" class=\"dataframe\">\n",
       "  <thead>\n",
       "    <tr style=\"text-align: right;\">\n",
       "      <th></th>\n",
       "      <th>RESOURCE_MGR_ID</th>\n",
       "      <th>RESOURCE_ROLE_ROLLUP_1</th>\n",
       "      <th>RESOURCE_ROLE_ROLLUP_2</th>\n",
       "      <th>RESOURCE_ROLE_DEPTNAME</th>\n",
       "      <th>RESOURCE_ROLE_TITLE</th>\n",
       "      <th>RESOURCE_ROLE_FAMILY_DESC</th>\n",
       "      <th>RESOURCE_ROLE_FAMILY</th>\n",
       "      <th>RESOURCE_ROLE_CODE</th>\n",
       "      <th>MGR_ID_RESOURCE</th>\n",
       "      <th>MGR_ID_ROLE_ROLLUP_1</th>\n",
       "      <th>...</th>\n",
       "      <th>ROLE_FAMILY_ROLE_FAMILY_DESC</th>\n",
       "      <th>ROLE_FAMILY_ROLE_CODE</th>\n",
       "      <th>ROLE_CODE_RESOURCE</th>\n",
       "      <th>ROLE_CODE_MGR_ID</th>\n",
       "      <th>ROLE_CODE_ROLE_ROLLUP_1</th>\n",
       "      <th>ROLE_CODE_ROLE_ROLLUP_2</th>\n",
       "      <th>ROLE_CODE_ROLE_DEPTNAME</th>\n",
       "      <th>ROLE_CODE_ROLE_TITLE</th>\n",
       "      <th>ROLE_CODE_ROLE_FAMILY_DESC</th>\n",
       "      <th>ROLE_CODE_ROLE_FAMILY</th>\n",
       "    </tr>\n",
       "  </thead>\n",
       "  <tbody>\n",
       "    <tr>\n",
       "      <th>0</th>\n",
       "      <td>3.338246e-06</td>\n",
       "      <td>0.000113</td>\n",
       "      <td>0.000068</td>\n",
       "      <td>2.638468e-06</td>\n",
       "      <td>0.000060</td>\n",
       "      <td>0.000110</td>\n",
       "      <td>0.000110</td>\n",
       "      <td>0.000060</td>\n",
       "      <td>5.330531e-05</td>\n",
       "      <td>2.069377e-03</td>\n",
       "      <td>...</td>\n",
       "      <td>2.624468e-01</td>\n",
       "      <td>2.312547e-01</td>\n",
       "      <td>0.010849</td>\n",
       "      <td>6.185070e-03</td>\n",
       "      <td>0.110244</td>\n",
       "      <td>0.039731</td>\n",
       "      <td>0.000068</td>\n",
       "      <td>2.361370e-17</td>\n",
       "      <td>1.005237e-01</td>\n",
       "      <td>1.348107e-01</td>\n",
       "    </tr>\n",
       "    <tr>\n",
       "      <th>1</th>\n",
       "      <td>3.290961e-05</td>\n",
       "      <td>0.001528</td>\n",
       "      <td>0.000779</td>\n",
       "      <td>6.374011e-05</td>\n",
       "      <td>0.000252</td>\n",
       "      <td>0.000267</td>\n",
       "      <td>0.000505</td>\n",
       "      <td>0.000252</td>\n",
       "      <td>3.293088e-05</td>\n",
       "      <td>5.877389e-04</td>\n",
       "      <td>...</td>\n",
       "      <td>5.986619e-06</td>\n",
       "      <td>7.146218e-21</td>\n",
       "      <td>0.000351</td>\n",
       "      <td>1.698070e-05</td>\n",
       "      <td>0.004755</td>\n",
       "      <td>0.001471</td>\n",
       "      <td>0.000001</td>\n",
       "      <td>-2.994663e-25</td>\n",
       "      <td>4.186593e-08</td>\n",
       "      <td>9.417210e-23</td>\n",
       "    </tr>\n",
       "    <tr>\n",
       "      <th>2</th>\n",
       "      <td>1.122108e-07</td>\n",
       "      <td>0.000008</td>\n",
       "      <td>0.000023</td>\n",
       "      <td>5.280569e-04</td>\n",
       "      <td>0.000052</td>\n",
       "      <td>0.000008</td>\n",
       "      <td>0.000061</td>\n",
       "      <td>0.000052</td>\n",
       "      <td>7.499907e-07</td>\n",
       "      <td>5.692832e-13</td>\n",
       "      <td>...</td>\n",
       "      <td>2.538523e-05</td>\n",
       "      <td>3.501648e-15</td>\n",
       "      <td>0.011258</td>\n",
       "      <td>3.821987e-08</td>\n",
       "      <td>0.000265</td>\n",
       "      <td>0.000167</td>\n",
       "      <td>0.640135</td>\n",
       "      <td>-2.040332e-16</td>\n",
       "      <td>6.169509e-07</td>\n",
       "      <td>1.047499e-14</td>\n",
       "    </tr>\n",
       "    <tr>\n",
       "      <th>3</th>\n",
       "      <td>1.733916e-06</td>\n",
       "      <td>0.000039</td>\n",
       "      <td>0.000023</td>\n",
       "      <td>7.283213e-07</td>\n",
       "      <td>0.000026</td>\n",
       "      <td>0.000006</td>\n",
       "      <td>0.000038</td>\n",
       "      <td>0.000026</td>\n",
       "      <td>8.306181e-05</td>\n",
       "      <td>2.394060e-03</td>\n",
       "      <td>...</td>\n",
       "      <td>2.693442e-01</td>\n",
       "      <td>2.373323e-01</td>\n",
       "      <td>0.011276</td>\n",
       "      <td>9.428956e-03</td>\n",
       "      <td>0.158395</td>\n",
       "      <td>0.057490</td>\n",
       "      <td>0.000095</td>\n",
       "      <td>1.795161e-01</td>\n",
       "      <td>1.366438e-01</td>\n",
       "      <td>1.795161e-01</td>\n",
       "    </tr>\n",
       "    <tr>\n",
       "      <th>4</th>\n",
       "      <td>4.072207e-04</td>\n",
       "      <td>0.013863</td>\n",
       "      <td>0.002194</td>\n",
       "      <td>5.513384e-03</td>\n",
       "      <td>0.004727</td>\n",
       "      <td>0.001201</td>\n",
       "      <td>0.013939</td>\n",
       "      <td>0.004727</td>\n",
       "      <td>8.994073e-05</td>\n",
       "      <td>1.021616e-06</td>\n",
       "      <td>...</td>\n",
       "      <td>1.516644e-07</td>\n",
       "      <td>-4.935814e-20</td>\n",
       "      <td>0.001833</td>\n",
       "      <td>7.149129e-07</td>\n",
       "      <td>0.000069</td>\n",
       "      <td>0.000035</td>\n",
       "      <td>0.061482</td>\n",
       "      <td>-6.545099e-24</td>\n",
       "      <td>1.219321e-12</td>\n",
       "      <td>-6.022921e-22</td>\n",
       "    </tr>\n",
       "  </tbody>\n",
       "</table>\n",
       "<p>5 rows × 72 columns</p>\n",
       "</div>"
      ],
      "text/plain": [
       "   RESOURCE_MGR_ID  RESOURCE_ROLE_ROLLUP_1  RESOURCE_ROLE_ROLLUP_2  \\\n",
       "0     3.338246e-06                0.000113                0.000068   \n",
       "1     3.290961e-05                0.001528                0.000779   \n",
       "2     1.122108e-07                0.000008                0.000023   \n",
       "3     1.733916e-06                0.000039                0.000023   \n",
       "4     4.072207e-04                0.013863                0.002194   \n",
       "\n",
       "   RESOURCE_ROLE_DEPTNAME  RESOURCE_ROLE_TITLE  RESOURCE_ROLE_FAMILY_DESC  \\\n",
       "0            2.638468e-06             0.000060                   0.000110   \n",
       "1            6.374011e-05             0.000252                   0.000267   \n",
       "2            5.280569e-04             0.000052                   0.000008   \n",
       "3            7.283213e-07             0.000026                   0.000006   \n",
       "4            5.513384e-03             0.004727                   0.001201   \n",
       "\n",
       "   RESOURCE_ROLE_FAMILY  RESOURCE_ROLE_CODE  MGR_ID_RESOURCE  \\\n",
       "0              0.000110            0.000060     5.330531e-05   \n",
       "1              0.000505            0.000252     3.293088e-05   \n",
       "2              0.000061            0.000052     7.499907e-07   \n",
       "3              0.000038            0.000026     8.306181e-05   \n",
       "4              0.013939            0.004727     8.994073e-05   \n",
       "\n",
       "   MGR_ID_ROLE_ROLLUP_1  ...  ROLE_FAMILY_ROLE_FAMILY_DESC  \\\n",
       "0          2.069377e-03  ...                  2.624468e-01   \n",
       "1          5.877389e-04  ...                  5.986619e-06   \n",
       "2          5.692832e-13  ...                  2.538523e-05   \n",
       "3          2.394060e-03  ...                  2.693442e-01   \n",
       "4          1.021616e-06  ...                  1.516644e-07   \n",
       "\n",
       "   ROLE_FAMILY_ROLE_CODE  ROLE_CODE_RESOURCE  ROLE_CODE_MGR_ID  \\\n",
       "0           2.312547e-01            0.010849      6.185070e-03   \n",
       "1           7.146218e-21            0.000351      1.698070e-05   \n",
       "2           3.501648e-15            0.011258      3.821987e-08   \n",
       "3           2.373323e-01            0.011276      9.428956e-03   \n",
       "4          -4.935814e-20            0.001833      7.149129e-07   \n",
       "\n",
       "   ROLE_CODE_ROLE_ROLLUP_1  ROLE_CODE_ROLE_ROLLUP_2  ROLE_CODE_ROLE_DEPTNAME  \\\n",
       "0                 0.110244                 0.039731                 0.000068   \n",
       "1                 0.004755                 0.001471                 0.000001   \n",
       "2                 0.000265                 0.000167                 0.640135   \n",
       "3                 0.158395                 0.057490                 0.000095   \n",
       "4                 0.000069                 0.000035                 0.061482   \n",
       "\n",
       "   ROLE_CODE_ROLE_TITLE  ROLE_CODE_ROLE_FAMILY_DESC  ROLE_CODE_ROLE_FAMILY  \n",
       "0          2.361370e-17                1.005237e-01           1.348107e-01  \n",
       "1         -2.994663e-25                4.186593e-08           9.417210e-23  \n",
       "2         -2.040332e-16                6.169509e-07           1.047499e-14  \n",
       "3          1.795161e-01                1.366438e-01           1.795161e-01  \n",
       "4         -6.545099e-24                1.219321e-12          -6.022921e-22  \n",
       "\n",
       "[5 rows x 72 columns]"
      ]
     },
     "execution_count": 71,
     "metadata": {},
     "output_type": "execute_result"
    }
   ],
   "source": [
    "train_svd.head()"
   ]
  },
  {
   "cell_type": "code",
   "execution_count": 72,
   "metadata": {},
   "outputs": [
    {
     "data": {
      "text/html": [
       "<div>\n",
       "<style scoped>\n",
       "    .dataframe tbody tr th:only-of-type {\n",
       "        vertical-align: middle;\n",
       "    }\n",
       "\n",
       "    .dataframe tbody tr th {\n",
       "        vertical-align: top;\n",
       "    }\n",
       "\n",
       "    .dataframe thead th {\n",
       "        text-align: right;\n",
       "    }\n",
       "</style>\n",
       "<table border=\"1\" class=\"dataframe\">\n",
       "  <thead>\n",
       "    <tr style=\"text-align: right;\">\n",
       "      <th></th>\n",
       "      <th>RESOURCE_MGR_ID</th>\n",
       "      <th>RESOURCE_ROLE_ROLLUP_1</th>\n",
       "      <th>RESOURCE_ROLE_ROLLUP_2</th>\n",
       "      <th>RESOURCE_ROLE_DEPTNAME</th>\n",
       "      <th>RESOURCE_ROLE_TITLE</th>\n",
       "      <th>RESOURCE_ROLE_FAMILY_DESC</th>\n",
       "      <th>RESOURCE_ROLE_FAMILY</th>\n",
       "      <th>RESOURCE_ROLE_CODE</th>\n",
       "      <th>MGR_ID_RESOURCE</th>\n",
       "      <th>MGR_ID_ROLE_ROLLUP_1</th>\n",
       "      <th>...</th>\n",
       "      <th>ROLE_FAMILY_ROLE_FAMILY_DESC</th>\n",
       "      <th>ROLE_FAMILY_ROLE_CODE</th>\n",
       "      <th>ROLE_CODE_RESOURCE</th>\n",
       "      <th>ROLE_CODE_MGR_ID</th>\n",
       "      <th>ROLE_CODE_ROLE_ROLLUP_1</th>\n",
       "      <th>ROLE_CODE_ROLE_ROLLUP_2</th>\n",
       "      <th>ROLE_CODE_ROLE_DEPTNAME</th>\n",
       "      <th>ROLE_CODE_ROLE_TITLE</th>\n",
       "      <th>ROLE_CODE_ROLE_FAMILY_DESC</th>\n",
       "      <th>ROLE_CODE_ROLE_FAMILY</th>\n",
       "    </tr>\n",
       "  </thead>\n",
       "  <tbody>\n",
       "    <tr>\n",
       "      <th>0</th>\n",
       "      <td>1.748205e-06</td>\n",
       "      <td>0.000014</td>\n",
       "      <td>0.000033</td>\n",
       "      <td>0.006349</td>\n",
       "      <td>0.000224</td>\n",
       "      <td>9.368598e-06</td>\n",
       "      <td>0.000464</td>\n",
       "      <td>0.000224</td>\n",
       "      <td>0.000001</td>\n",
       "      <td>5.576306e-20</td>\n",
       "      <td>...</td>\n",
       "      <td>2.057914e-05</td>\n",
       "      <td>2.838695e-15</td>\n",
       "      <td>0.009126</td>\n",
       "      <td>3.098385e-08</td>\n",
       "      <td>0.000215</td>\n",
       "      <td>0.000135</td>\n",
       "      <td>5.189408e-01</td>\n",
       "      <td>-1.654044e-16</td>\n",
       "      <td>5.001461e-07</td>\n",
       "      <td>8.491806e-15</td>\n",
       "    </tr>\n",
       "    <tr>\n",
       "      <th>1</th>\n",
       "      <td>4.757212e-07</td>\n",
       "      <td>0.000061</td>\n",
       "      <td>0.000016</td>\n",
       "      <td>0.000002</td>\n",
       "      <td>0.000040</td>\n",
       "      <td>5.865678e-05</td>\n",
       "      <td>0.000061</td>\n",
       "      <td>0.000040</td>\n",
       "      <td>0.000003</td>\n",
       "      <td>1.024593e-03</td>\n",
       "      <td>...</td>\n",
       "      <td>1.792938e-05</td>\n",
       "      <td>-1.951387e-18</td>\n",
       "      <td>0.000030</td>\n",
       "      <td>2.341034e-07</td>\n",
       "      <td>0.002751</td>\n",
       "      <td>0.000949</td>\n",
       "      <td>4.818718e-05</td>\n",
       "      <td>1.195552e-22</td>\n",
       "      <td>1.502169e-09</td>\n",
       "      <td>-3.841632e-20</td>\n",
       "    </tr>\n",
       "    <tr>\n",
       "      <th>2</th>\n",
       "      <td>1.895173e-05</td>\n",
       "      <td>0.000584</td>\n",
       "      <td>0.000352</td>\n",
       "      <td>0.000030</td>\n",
       "      <td>0.000014</td>\n",
       "      <td>8.070228e-07</td>\n",
       "      <td>0.000055</td>\n",
       "      <td>0.000014</td>\n",
       "      <td>0.000193</td>\n",
       "      <td>3.042470e-03</td>\n",
       "      <td>...</td>\n",
       "      <td>9.018517e-10</td>\n",
       "      <td>7.429734e-24</td>\n",
       "      <td>0.000134</td>\n",
       "      <td>3.147750e-07</td>\n",
       "      <td>0.000996</td>\n",
       "      <td>0.000530</td>\n",
       "      <td>4.060167e-07</td>\n",
       "      <td>3.080197e-26</td>\n",
       "      <td>5.827259e-14</td>\n",
       "      <td>7.736424e-26</td>\n",
       "    </tr>\n",
       "    <tr>\n",
       "      <th>3</th>\n",
       "      <td>3.237126e-06</td>\n",
       "      <td>0.000120</td>\n",
       "      <td>0.000032</td>\n",
       "      <td>0.000013</td>\n",
       "      <td>0.000080</td>\n",
       "      <td>1.984018e-05</td>\n",
       "      <td>0.000118</td>\n",
       "      <td>0.000080</td>\n",
       "      <td>0.000123</td>\n",
       "      <td>2.713827e-03</td>\n",
       "      <td>...</td>\n",
       "      <td>7.910264e-08</td>\n",
       "      <td>4.375788e-17</td>\n",
       "      <td>0.000589</td>\n",
       "      <td>3.272294e-04</td>\n",
       "      <td>0.015867</td>\n",
       "      <td>0.004973</td>\n",
       "      <td>5.197746e-06</td>\n",
       "      <td>-4.463996e-17</td>\n",
       "      <td>1.437485e-08</td>\n",
       "      <td>2.057506e-18</td>\n",
       "    </tr>\n",
       "    <tr>\n",
       "      <th>4</th>\n",
       "      <td>3.102218e-04</td>\n",
       "      <td>0.008945</td>\n",
       "      <td>0.004305</td>\n",
       "      <td>0.000712</td>\n",
       "      <td>0.001083</td>\n",
       "      <td>1.242129e-03</td>\n",
       "      <td>0.002395</td>\n",
       "      <td>0.001083</td>\n",
       "      <td>0.000075</td>\n",
       "      <td>1.109102e-03</td>\n",
       "      <td>...</td>\n",
       "      <td>3.883922e-08</td>\n",
       "      <td>2.827920e-20</td>\n",
       "      <td>0.000550</td>\n",
       "      <td>9.799353e-07</td>\n",
       "      <td>0.013715</td>\n",
       "      <td>0.007055</td>\n",
       "      <td>3.575300e-06</td>\n",
       "      <td>2.960214e-16</td>\n",
       "      <td>-1.035395e-17</td>\n",
       "      <td>1.729560e-21</td>\n",
       "    </tr>\n",
       "  </tbody>\n",
       "</table>\n",
       "<p>5 rows × 72 columns</p>\n",
       "</div>"
      ],
      "text/plain": [
       "   RESOURCE_MGR_ID  RESOURCE_ROLE_ROLLUP_1  RESOURCE_ROLE_ROLLUP_2  \\\n",
       "0     1.748205e-06                0.000014                0.000033   \n",
       "1     4.757212e-07                0.000061                0.000016   \n",
       "2     1.895173e-05                0.000584                0.000352   \n",
       "3     3.237126e-06                0.000120                0.000032   \n",
       "4     3.102218e-04                0.008945                0.004305   \n",
       "\n",
       "   RESOURCE_ROLE_DEPTNAME  RESOURCE_ROLE_TITLE  RESOURCE_ROLE_FAMILY_DESC  \\\n",
       "0                0.006349             0.000224               9.368598e-06   \n",
       "1                0.000002             0.000040               5.865678e-05   \n",
       "2                0.000030             0.000014               8.070228e-07   \n",
       "3                0.000013             0.000080               1.984018e-05   \n",
       "4                0.000712             0.001083               1.242129e-03   \n",
       "\n",
       "   RESOURCE_ROLE_FAMILY  RESOURCE_ROLE_CODE  MGR_ID_RESOURCE  \\\n",
       "0              0.000464            0.000224         0.000001   \n",
       "1              0.000061            0.000040         0.000003   \n",
       "2              0.000055            0.000014         0.000193   \n",
       "3              0.000118            0.000080         0.000123   \n",
       "4              0.002395            0.001083         0.000075   \n",
       "\n",
       "   MGR_ID_ROLE_ROLLUP_1  ...  ROLE_FAMILY_ROLE_FAMILY_DESC  \\\n",
       "0          5.576306e-20  ...                  2.057914e-05   \n",
       "1          1.024593e-03  ...                  1.792938e-05   \n",
       "2          3.042470e-03  ...                  9.018517e-10   \n",
       "3          2.713827e-03  ...                  7.910264e-08   \n",
       "4          1.109102e-03  ...                  3.883922e-08   \n",
       "\n",
       "   ROLE_FAMILY_ROLE_CODE  ROLE_CODE_RESOURCE  ROLE_CODE_MGR_ID  \\\n",
       "0           2.838695e-15            0.009126      3.098385e-08   \n",
       "1          -1.951387e-18            0.000030      2.341034e-07   \n",
       "2           7.429734e-24            0.000134      3.147750e-07   \n",
       "3           4.375788e-17            0.000589      3.272294e-04   \n",
       "4           2.827920e-20            0.000550      9.799353e-07   \n",
       "\n",
       "   ROLE_CODE_ROLE_ROLLUP_1  ROLE_CODE_ROLE_ROLLUP_2  ROLE_CODE_ROLE_DEPTNAME  \\\n",
       "0                 0.000215                 0.000135             5.189408e-01   \n",
       "1                 0.002751                 0.000949             4.818718e-05   \n",
       "2                 0.000996                 0.000530             4.060167e-07   \n",
       "3                 0.015867                 0.004973             5.197746e-06   \n",
       "4                 0.013715                 0.007055             3.575300e-06   \n",
       "\n",
       "   ROLE_CODE_ROLE_TITLE  ROLE_CODE_ROLE_FAMILY_DESC  ROLE_CODE_ROLE_FAMILY  \n",
       "0         -1.654044e-16                5.001461e-07           8.491806e-15  \n",
       "1          1.195552e-22                1.502169e-09          -3.841632e-20  \n",
       "2          3.080197e-26                5.827259e-14           7.736424e-26  \n",
       "3         -4.463996e-17                1.437485e-08           2.057506e-18  \n",
       "4          2.960214e-16               -1.035395e-17           1.729560e-21  \n",
       "\n",
       "[5 rows x 72 columns]"
      ]
     },
     "execution_count": 72,
     "metadata": {},
     "output_type": "execute_result"
    }
   ],
   "source": [
    "test_svd.head()"
   ]
  },
  {
   "cell_type": "code",
   "execution_count": 73,
   "metadata": {},
   "outputs": [],
   "source": [
    "# Save data into csv files"
   ]
  },
  {
   "cell_type": "code",
   "execution_count": 74,
   "metadata": {},
   "outputs": [],
   "source": [
    "train_df_fc.to_csv('data/train_df_fc.csv', index=False)\n",
    "test_df_fc.to_csv('data/test_df_fc.csv', index=False)\n",
    "\n",
    "train_df_rc.to_csv('data/train_df_rc.csv', index=False)\n",
    "test_df_rc.to_csv('data/test_df_rc.csv', index=False)\n",
    "\n",
    "train_svd.to_csv('data/train_svd.csv', index=False)\n",
    "test_svd.to_csv('data/test_svd.csv', index=False)"
   ]
  },
  {
   "cell_type": "code",
   "execution_count": 75,
   "metadata": {},
   "outputs": [
    {
     "data": {
      "text/plain": [
       "((32769, 15626), (58921, 15626), (32769,))"
      ]
     },
     "execution_count": 75,
     "metadata": {},
     "output_type": "execute_result"
    }
   ],
   "source": [
    "# feature selection for one hot encoding\n",
    "train_ohe.shape, test_ohe.shape, y_train_ohe.shape"
   ]
  },
  {
   "cell_type": "code",
   "execution_count": 76,
   "metadata": {},
   "outputs": [],
   "source": [
    "from sklearn.feature_selection import SelectKBest,chi2\n",
    "ktop = SelectKBest(chi2,k=4500).fit(train_ohe,y_train_ohe)\n",
    "train_ohe=ktop.transform(train_ohe)\n",
    "test_ohe=ktop.transform(test_ohe)"
   ]
  },
  {
   "cell_type": "code",
   "execution_count": 77,
   "metadata": {},
   "outputs": [
    {
     "data": {
      "text/plain": [
       "((32769, 4500), (58921, 4500), (32769,))"
      ]
     },
     "execution_count": 77,
     "metadata": {},
     "output_type": "execute_result"
    }
   ],
   "source": [
    "train_ohe.shape, test_ohe.shape, y_train_ohe.shape"
   ]
  },
  {
   "cell_type": "code",
   "execution_count": 78,
   "metadata": {},
   "outputs": [],
   "source": [
    "sparse.save_npz('data/train_ohe.npz', train_ohe)\n",
    "sparse.save_npz('data/test_ohe.npz', test_ohe)"
   ]
  },
  {
   "cell_type": "code",
   "execution_count": null,
   "metadata": {},
   "outputs": [],
   "source": []
  }
 ],
 "metadata": {
  "kernelspec": {
   "display_name": "Python 3",
   "language": "python",
   "name": "python3"
  },
  "language_info": {
   "codemirror_mode": {
    "name": "ipython",
    "version": 3
   },
   "file_extension": ".py",
   "mimetype": "text/x-python",
   "name": "python",
   "nbconvert_exporter": "python",
   "pygments_lexer": "ipython3",
   "version": "3.6.9"
  }
 },
 "nbformat": 4,
 "nbformat_minor": 4
}
