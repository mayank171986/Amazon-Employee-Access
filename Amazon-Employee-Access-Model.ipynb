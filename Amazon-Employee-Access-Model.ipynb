{
 "cells": [
  {
   "cell_type": "code",
   "execution_count": 2,
   "metadata": {},
   "outputs": [],
   "source": [
    "# import warnings\n",
    "# warnings.filterwarnings('ignore')"
   ]
  },
  {
   "cell_type": "code",
   "execution_count": 18,
   "metadata": {},
   "outputs": [],
   "source": [
    "# import libraries\n",
    "import pandas as pd\n",
    "import numpy as np\n",
    "import seaborn as sns\n",
    "import matplotlib.pyplot as plt\n",
    "from scipy import sparse\n",
    "%matplotlib inline\n",
    "\n",
    "from sklearn.model_selection import RandomizedSearchCV\n",
    "from scipy.stats import uniform\n",
    "from sklearn.neighbors import KNeighborsClassifier\n",
    "from sklearn.svm import LinearSVC\n",
    "from sklearn.calibration import CalibratedClassifierCV\n",
    "from sklearn.linear_model import LogisticRegression\n",
    "from sklearn.ensemble import RandomForestClassifier\n",
    "from xgboost import XGBClassifier"
   ]
  },
  {
   "cell_type": "markdown",
   "metadata": {},
   "source": [
    "# Amazon Employee Access Challenge"
   ]
  },
  {
   "cell_type": "code",
   "execution_count": 4,
   "metadata": {},
   "outputs": [],
   "source": [
    "train = pd.read_csv('data/train.csv')\n",
    "test = pd.read_csv('data/test.csv')"
   ]
  },
  {
   "cell_type": "code",
   "execution_count": 5,
   "metadata": {},
   "outputs": [
    {
     "data": {
      "text/plain": [
       "(32769, 10)"
      ]
     },
     "execution_count": 5,
     "metadata": {},
     "output_type": "execute_result"
    }
   ],
   "source": [
    "train.shape"
   ]
  },
  {
   "cell_type": "code",
   "execution_count": 6,
   "metadata": {},
   "outputs": [
    {
     "data": {
      "text/plain": [
       "(58921, 10)"
      ]
     },
     "execution_count": 6,
     "metadata": {},
     "output_type": "execute_result"
    }
   ],
   "source": [
    "test.shape"
   ]
  },
  {
   "cell_type": "code",
   "execution_count": 7,
   "metadata": {},
   "outputs": [],
   "source": [
    "y_train = train['ACTION']"
   ]
  },
  {
   "cell_type": "code",
   "execution_count": 8,
   "metadata": {},
   "outputs": [
    {
     "data": {
      "text/plain": [
       "(32769,)"
      ]
     },
     "execution_count": 8,
     "metadata": {},
     "output_type": "execute_result"
    }
   ],
   "source": [
    "y_train.shape"
   ]
  },
  {
   "cell_type": "code",
   "execution_count": 9,
   "metadata": {},
   "outputs": [
    {
     "data": {
      "text/plain": [
       "(32769, 9)"
      ]
     },
     "execution_count": 9,
     "metadata": {},
     "output_type": "execute_result"
    }
   ],
   "source": [
    "train_data = train.drop('ACTION', axis=1)\n",
    "train_data.shape"
   ]
  },
  {
   "cell_type": "code",
   "execution_count": 10,
   "metadata": {},
   "outputs": [
    {
     "data": {
      "text/plain": [
       "(58921, 9)"
      ]
     },
     "execution_count": 10,
     "metadata": {},
     "output_type": "execute_result"
    }
   ],
   "source": [
    "test_data = test.drop('id', axis=1)\n",
    "test_data.shape"
   ]
  },
  {
   "cell_type": "markdown",
   "metadata": {},
   "source": [
    "## Common Variables"
   ]
  },
  {
   "cell_type": "code",
   "execution_count": 11,
   "metadata": {},
   "outputs": [],
   "source": [
    "# define variables\n",
    "random_state = 42\n",
    "cv = 5\n",
    "scoring = 'roc_auc'\n",
    "verbose=2"
   ]
  },
  {
   "cell_type": "markdown",
   "metadata": {},
   "source": [
    "## Common functions"
   ]
  },
  {
   "cell_type": "code",
   "execution_count": 12,
   "metadata": {},
   "outputs": [],
   "source": [
    "def save_submission(predictions, filename):\n",
    "    global test\n",
    "    submission = pd.DataFrame()\n",
    "    submission[\"Id\"] = test[\"id\"]\n",
    "    submission[\"ACTION\"] = predictions\n",
    "    filepath = \"result/sampleSubmission_\"+filename\n",
    "    submission.to_csv(filepath, index = False)"
   ]
  },
  {
   "cell_type": "code",
   "execution_count": 13,
   "metadata": {},
   "outputs": [],
   "source": [
    "def print_graph(results, param1, param2, xlabel, ylabel, title='Plot showing the ROC_AUC score for various hyper parameter values'):\n",
    "    plt.plot(results[param1],results[param2]);\n",
    "    plt.grid();\n",
    "    plt.xlabel(xlabel);\n",
    "    plt.ylabel(ylabel);\n",
    "    plt.title(title);  "
   ]
  },
  {
   "cell_type": "code",
   "execution_count": 14,
   "metadata": {},
   "outputs": [],
   "source": [
    "def get_rf_params():\n",
    "    params = {\n",
    "         'n_estimators':[10,20,50,100,200,500,700,1000],\n",
    "         'max_depth':[1,2,5,10,12,15,20,25],\n",
    "         'max_features':[1,2,3,4,5],\n",
    "         'min_samples_split':[2,5,7,10,20]\n",
    "    }\n",
    "\n",
    "    return params"
   ]
  },
  {
   "cell_type": "code",
   "execution_count": 15,
   "metadata": {},
   "outputs": [],
   "source": [
    "def get_xgb_params():\n",
    "    params = {\n",
    "        'n_estimators': [10,20,50,100,200,500,750,1000],\n",
    "        'learning_rate': uniform(0.01, 0.6),\n",
    "        'subsample': uniform(),\n",
    "        'max_depth': [3, 4, 5, 6, 7, 8, 9],\n",
    "        'colsample_bytree': uniform(),\n",
    "        'min_child_weight': [1, 2, 3, 4]\n",
    "    }\n",
    "    \n",
    "    return params"
   ]
  },
  {
   "cell_type": "markdown",
   "metadata": {},
   "source": [
    "### We will try following models\n",
    "\n",
    "1. KNN\n",
    "2. SVM\n",
    "3. Logistic Regression\n",
    "4. Random Forest\n",
    "5. Xgboost"
   ]
  },
  {
   "cell_type": "markdown",
   "metadata": {},
   "source": [
    "## Build Models on the raw data"
   ]
  },
  {
   "cell_type": "markdown",
   "metadata": {},
   "source": [
    "## 1.1 KNN with raw features"
   ]
  },
  {
   "cell_type": "code",
   "execution_count": 15,
   "metadata": {},
   "outputs": [
    {
     "name": "stdout",
     "output_type": "stream",
     "text": [
      "Fitting 5 folds for each of 10 candidates, totalling 50 fits\n"
     ]
    },
    {
     "name": "stderr",
     "output_type": "stream",
     "text": [
      "[Parallel(n_jobs=-1)]: Using backend LokyBackend with 8 concurrent workers.\n",
      "[Parallel(n_jobs=-1)]: Done  25 tasks      | elapsed:    5.9s\n",
      "[Parallel(n_jobs=-1)]: Done  50 out of  50 | elapsed:   10.3s finished\n"
     ]
    }
   ],
   "source": [
    "parameters={'n_neighbors':np.arange(1,100, 5)}\n",
    "clf = RandomizedSearchCV(KNeighborsClassifier(n_jobs=-1),parameters,random_state=random_state,cv=cv,verbose=verbose,scoring=scoring,n_jobs=-1)\n",
    "best_model = clf.fit(train_data,y_train)"
   ]
  },
  {
   "cell_type": "code",
   "execution_count": 16,
   "metadata": {},
   "outputs": [
    {
     "data": {
      "text/html": [
       "<div>\n",
       "<style scoped>\n",
       "    .dataframe tbody tr th:only-of-type {\n",
       "        vertical-align: middle;\n",
       "    }\n",
       "\n",
       "    .dataframe tbody tr th {\n",
       "        vertical-align: top;\n",
       "    }\n",
       "\n",
       "    .dataframe thead th {\n",
       "        text-align: right;\n",
       "    }\n",
       "</style>\n",
       "<table border=\"1\" class=\"dataframe\">\n",
       "  <thead>\n",
       "    <tr style=\"text-align: right;\">\n",
       "      <th></th>\n",
       "      <th>mean_fit_time</th>\n",
       "      <th>std_fit_time</th>\n",
       "      <th>mean_score_time</th>\n",
       "      <th>std_score_time</th>\n",
       "      <th>param_n_neighbors</th>\n",
       "      <th>params</th>\n",
       "      <th>split0_test_score</th>\n",
       "      <th>split1_test_score</th>\n",
       "      <th>split2_test_score</th>\n",
       "      <th>split3_test_score</th>\n",
       "      <th>split4_test_score</th>\n",
       "      <th>mean_test_score</th>\n",
       "      <th>std_test_score</th>\n",
       "      <th>rank_test_score</th>\n",
       "    </tr>\n",
       "  </thead>\n",
       "  <tbody>\n",
       "    <tr>\n",
       "      <th>0</th>\n",
       "      <td>0.096635</td>\n",
       "      <td>0.021398</td>\n",
       "      <td>0.281362</td>\n",
       "      <td>0.049282</td>\n",
       "      <td>1</td>\n",
       "      <td>{'n_neighbors': 1}</td>\n",
       "      <td>0.613536</td>\n",
       "      <td>0.648565</td>\n",
       "      <td>0.631839</td>\n",
       "      <td>0.616312</td>\n",
       "      <td>0.612884</td>\n",
       "      <td>0.624627</td>\n",
       "      <td>0.013821</td>\n",
       "      <td>10</td>\n",
       "    </tr>\n",
       "    <tr>\n",
       "      <th>3</th>\n",
       "      <td>0.164077</td>\n",
       "      <td>0.032630</td>\n",
       "      <td>0.494310</td>\n",
       "      <td>0.086655</td>\n",
       "      <td>6</td>\n",
       "      <td>{'n_neighbors': 6}</td>\n",
       "      <td>0.685658</td>\n",
       "      <td>0.705307</td>\n",
       "      <td>0.671377</td>\n",
       "      <td>0.682735</td>\n",
       "      <td>0.677139</td>\n",
       "      <td>0.684443</td>\n",
       "      <td>0.011522</td>\n",
       "      <td>1</td>\n",
       "    </tr>\n",
       "    <tr>\n",
       "      <th>7</th>\n",
       "      <td>0.225862</td>\n",
       "      <td>0.222115</td>\n",
       "      <td>0.760298</td>\n",
       "      <td>0.201853</td>\n",
       "      <td>16</td>\n",
       "      <td>{'n_neighbors': 16}</td>\n",
       "      <td>0.682882</td>\n",
       "      <td>0.704267</td>\n",
       "      <td>0.671898</td>\n",
       "      <td>0.671661</td>\n",
       "      <td>0.688662</td>\n",
       "      <td>0.683874</td>\n",
       "      <td>0.012103</td>\n",
       "      <td>3</td>\n",
       "    </tr>\n",
       "    <tr>\n",
       "      <th>5</th>\n",
       "      <td>0.346801</td>\n",
       "      <td>0.212358</td>\n",
       "      <td>1.137279</td>\n",
       "      <td>0.157552</td>\n",
       "      <td>26</td>\n",
       "      <td>{'n_neighbors': 26}</td>\n",
       "      <td>0.680836</td>\n",
       "      <td>0.702799</td>\n",
       "      <td>0.657414</td>\n",
       "      <td>0.686912</td>\n",
       "      <td>0.692020</td>\n",
       "      <td>0.683996</td>\n",
       "      <td>0.015120</td>\n",
       "      <td>2</td>\n",
       "    </tr>\n",
       "    <tr>\n",
       "      <th>4</th>\n",
       "      <td>0.200851</td>\n",
       "      <td>0.073359</td>\n",
       "      <td>1.428773</td>\n",
       "      <td>0.144754</td>\n",
       "      <td>41</td>\n",
       "      <td>{'n_neighbors': 41}</td>\n",
       "      <td>0.679090</td>\n",
       "      <td>0.686315</td>\n",
       "      <td>0.660415</td>\n",
       "      <td>0.675779</td>\n",
       "      <td>0.679274</td>\n",
       "      <td>0.676175</td>\n",
       "      <td>0.008596</td>\n",
       "      <td>4</td>\n",
       "    </tr>\n",
       "    <tr>\n",
       "      <th>6</th>\n",
       "      <td>0.365463</td>\n",
       "      <td>0.173309</td>\n",
       "      <td>1.247004</td>\n",
       "      <td>0.159561</td>\n",
       "      <td>56</td>\n",
       "      <td>{'n_neighbors': 56}</td>\n",
       "      <td>0.669826</td>\n",
       "      <td>0.680233</td>\n",
       "      <td>0.649829</td>\n",
       "      <td>0.677367</td>\n",
       "      <td>0.678156</td>\n",
       "      <td>0.671082</td>\n",
       "      <td>0.011194</td>\n",
       "      <td>5</td>\n",
       "    </tr>\n",
       "    <tr>\n",
       "      <th>2</th>\n",
       "      <td>0.410920</td>\n",
       "      <td>0.255036</td>\n",
       "      <td>1.443410</td>\n",
       "      <td>0.575523</td>\n",
       "      <td>76</td>\n",
       "      <td>{'n_neighbors': 76}</td>\n",
       "      <td>0.661127</td>\n",
       "      <td>0.666859</td>\n",
       "      <td>0.647729</td>\n",
       "      <td>0.665512</td>\n",
       "      <td>0.667682</td>\n",
       "      <td>0.661782</td>\n",
       "      <td>0.007381</td>\n",
       "      <td>6</td>\n",
       "    </tr>\n",
       "    <tr>\n",
       "      <th>9</th>\n",
       "      <td>0.415716</td>\n",
       "      <td>0.077988</td>\n",
       "      <td>1.224522</td>\n",
       "      <td>0.280867</td>\n",
       "      <td>81</td>\n",
       "      <td>{'n_neighbors': 81}</td>\n",
       "      <td>0.659469</td>\n",
       "      <td>0.661851</td>\n",
       "      <td>0.645727</td>\n",
       "      <td>0.664603</td>\n",
       "      <td>0.666253</td>\n",
       "      <td>0.659580</td>\n",
       "      <td>0.007305</td>\n",
       "      <td>7</td>\n",
       "    </tr>\n",
       "    <tr>\n",
       "      <th>1</th>\n",
       "      <td>0.159084</td>\n",
       "      <td>0.057097</td>\n",
       "      <td>1.449365</td>\n",
       "      <td>0.526592</td>\n",
       "      <td>86</td>\n",
       "      <td>{'n_neighbors': 86}</td>\n",
       "      <td>0.660093</td>\n",
       "      <td>0.657713</td>\n",
       "      <td>0.645470</td>\n",
       "      <td>0.665596</td>\n",
       "      <td>0.662302</td>\n",
       "      <td>0.658235</td>\n",
       "      <td>0.006890</td>\n",
       "      <td>8</td>\n",
       "    </tr>\n",
       "    <tr>\n",
       "      <th>8</th>\n",
       "      <td>0.209846</td>\n",
       "      <td>0.161618</td>\n",
       "      <td>1.380716</td>\n",
       "      <td>0.146376</td>\n",
       "      <td>91</td>\n",
       "      <td>{'n_neighbors': 91}</td>\n",
       "      <td>0.658300</td>\n",
       "      <td>0.655825</td>\n",
       "      <td>0.644015</td>\n",
       "      <td>0.663598</td>\n",
       "      <td>0.660646</td>\n",
       "      <td>0.656477</td>\n",
       "      <td>0.006740</td>\n",
       "      <td>9</td>\n",
       "    </tr>\n",
       "  </tbody>\n",
       "</table>\n",
       "</div>"
      ],
      "text/plain": [
       "   mean_fit_time  std_fit_time  mean_score_time  std_score_time  \\\n",
       "0       0.096635      0.021398         0.281362        0.049282   \n",
       "3       0.164077      0.032630         0.494310        0.086655   \n",
       "7       0.225862      0.222115         0.760298        0.201853   \n",
       "5       0.346801      0.212358         1.137279        0.157552   \n",
       "4       0.200851      0.073359         1.428773        0.144754   \n",
       "6       0.365463      0.173309         1.247004        0.159561   \n",
       "2       0.410920      0.255036         1.443410        0.575523   \n",
       "9       0.415716      0.077988         1.224522        0.280867   \n",
       "1       0.159084      0.057097         1.449365        0.526592   \n",
       "8       0.209846      0.161618         1.380716        0.146376   \n",
       "\n",
       "  param_n_neighbors               params  split0_test_score  \\\n",
       "0                 1   {'n_neighbors': 1}           0.613536   \n",
       "3                 6   {'n_neighbors': 6}           0.685658   \n",
       "7                16  {'n_neighbors': 16}           0.682882   \n",
       "5                26  {'n_neighbors': 26}           0.680836   \n",
       "4                41  {'n_neighbors': 41}           0.679090   \n",
       "6                56  {'n_neighbors': 56}           0.669826   \n",
       "2                76  {'n_neighbors': 76}           0.661127   \n",
       "9                81  {'n_neighbors': 81}           0.659469   \n",
       "1                86  {'n_neighbors': 86}           0.660093   \n",
       "8                91  {'n_neighbors': 91}           0.658300   \n",
       "\n",
       "   split1_test_score  split2_test_score  split3_test_score  split4_test_score  \\\n",
       "0           0.648565           0.631839           0.616312           0.612884   \n",
       "3           0.705307           0.671377           0.682735           0.677139   \n",
       "7           0.704267           0.671898           0.671661           0.688662   \n",
       "5           0.702799           0.657414           0.686912           0.692020   \n",
       "4           0.686315           0.660415           0.675779           0.679274   \n",
       "6           0.680233           0.649829           0.677367           0.678156   \n",
       "2           0.666859           0.647729           0.665512           0.667682   \n",
       "9           0.661851           0.645727           0.664603           0.666253   \n",
       "1           0.657713           0.645470           0.665596           0.662302   \n",
       "8           0.655825           0.644015           0.663598           0.660646   \n",
       "\n",
       "   mean_test_score  std_test_score  rank_test_score  \n",
       "0         0.624627        0.013821               10  \n",
       "3         0.684443        0.011522                1  \n",
       "7         0.683874        0.012103                3  \n",
       "5         0.683996        0.015120                2  \n",
       "4         0.676175        0.008596                4  \n",
       "6         0.671082        0.011194                5  \n",
       "2         0.661782        0.007381                6  \n",
       "9         0.659580        0.007305                7  \n",
       "1         0.658235        0.006890                8  \n",
       "8         0.656477        0.006740                9  "
      ]
     },
     "execution_count": 16,
     "metadata": {},
     "output_type": "execute_result"
    }
   ],
   "source": [
    "results = pd.DataFrame.from_dict(best_model.cv_results_)\n",
    "results=results.sort_values('param_n_neighbors')\n",
    "results"
   ]
  },
  {
   "cell_type": "code",
   "execution_count": 17,
   "metadata": {},
   "outputs": [
    {
     "data": {
      "image/png": "[encoded data removed]",
      "text/plain": [
       "<Figure size 432x288 with 1 Axes>"
      ]
     },
     "metadata": {
      "needs_background": "light"
     },
     "output_type": "display_data"
    }
   ],
   "source": [
    "print_graph(results, 'param_n_neighbors', 'mean_test_score', 'Hyperparameter - No. of neighbors', 'Test score')  "
   ]
  },
  {
   "cell_type": "code",
   "execution_count": 18,
   "metadata": {},
   "outputs": [
    {
     "data": {
      "text/plain": [
       "6"
      ]
     },
     "execution_count": 18,
     "metadata": {},
     "output_type": "execute_result"
    }
   ],
   "source": [
    "best_c=best_model.best_params_['n_neighbors']\n",
    "best_c"
   ]
  },
  {
   "cell_type": "code",
   "execution_count": 19,
   "metadata": {},
   "outputs": [
    {
     "data": {
      "text/plain": [
       "KNeighborsClassifier(n_jobs=-1, n_neighbors=6)"
      ]
     },
     "execution_count": 19,
     "metadata": {},
     "output_type": "execute_result"
    }
   ],
   "source": [
    "model = KNeighborsClassifier(n_neighbors=best_c,n_jobs=-1)\n",
    "model.fit(train_data,y_train)"
   ]
  },
  {
   "cell_type": "code",
   "execution_count": 20,
   "metadata": {},
   "outputs": [],
   "source": [
    "predictions = model.predict_proba(test_data)[:,1]\n",
    "save_submission(predictions, \"knn_raw.csv\")"
   ]
  },
  {
   "cell_type": "code",
   "execution_count": null,
   "metadata": {},
   "outputs": [],
   "source": []
  },
  {
   "cell_type": "markdown",
   "metadata": {},
   "source": [
    "## 1.2 SVM with raw feature"
   ]
  },
  {
   "cell_type": "code",
   "execution_count": 21,
   "metadata": {},
   "outputs": [
    {
     "name": "stdout",
     "output_type": "stream",
     "text": [
      "Fitting 5 folds for each of 10 candidates, totalling 50 fits\n"
     ]
    },
    {
     "name": "stderr",
     "output_type": "stream",
     "text": [
      "[Parallel(n_jobs=-1)]: Using backend LokyBackend with 8 concurrent workers.\n",
      "[Parallel(n_jobs=-1)]: Done  25 tasks      | elapsed:  1.4min\n",
      "[Parallel(n_jobs=-1)]: Done  50 out of  50 | elapsed:  2.2min finished\n"
     ]
    },
    {
     "name": "stdout",
     "output_type": "stream",
     "text": [
      "[LibLinear]"
     ]
    },
    {
     "name": "stderr",
     "output_type": "stream",
     "text": [
      "/home/auw-mayank/.local/lib/python3.6/site-packages/sklearn/svm/_base.py:977: ConvergenceWarning: Liblinear failed to converge, increase the number of iterations.\n",
      "  \"the number of iterations.\", ConvergenceWarning)\n"
     ]
    }
   ],
   "source": [
    "C_val = uniform(loc=0, scale=4)\n",
    "model= LinearSVC(verbose=verbose,random_state=random_state,class_weight='balanced',max_iter=2000)\n",
    "parameters={'C':C_val}\n",
    "clf = RandomizedSearchCV(model,parameters,random_state=random_state,cv=cv,verbose=verbose,scoring=scoring,n_jobs=-1)\n",
    "best_model = clf.fit(train_data,y_train)"
   ]
  },
  {
   "cell_type": "code",
   "execution_count": 22,
   "metadata": {},
   "outputs": [
    {
     "data": {
      "text/plain": [
       "1.49816047538945"
      ]
     },
     "execution_count": 22,
     "metadata": {},
     "output_type": "execute_result"
    }
   ],
   "source": [
    "best_c=best_model.best_params_['C']\n",
    "best_c"
   ]
  },
  {
   "cell_type": "code",
   "execution_count": 23,
   "metadata": {},
   "outputs": [
    {
     "data": {
      "text/html": [
       "<div>\n",
       "<style scoped>\n",
       "    .dataframe tbody tr th:only-of-type {\n",
       "        vertical-align: middle;\n",
       "    }\n",
       "\n",
       "    .dataframe tbody tr th {\n",
       "        vertical-align: top;\n",
       "    }\n",
       "\n",
       "    .dataframe thead th {\n",
       "        text-align: right;\n",
       "    }\n",
       "</style>\n",
       "<table border=\"1\" class=\"dataframe\">\n",
       "  <thead>\n",
       "    <tr style=\"text-align: right;\">\n",
       "      <th></th>\n",
       "      <th>mean_fit_time</th>\n",
       "      <th>std_fit_time</th>\n",
       "      <th>mean_score_time</th>\n",
       "      <th>std_score_time</th>\n",
       "      <th>param_C</th>\n",
       "      <th>params</th>\n",
       "      <th>split0_test_score</th>\n",
       "      <th>split1_test_score</th>\n",
       "      <th>split2_test_score</th>\n",
       "      <th>split3_test_score</th>\n",
       "      <th>split4_test_score</th>\n",
       "      <th>mean_test_score</th>\n",
       "      <th>std_test_score</th>\n",
       "      <th>rank_test_score</th>\n",
       "    </tr>\n",
       "  </thead>\n",
       "  <tbody>\n",
       "    <tr>\n",
       "      <th>6</th>\n",
       "      <td>20.734650</td>\n",
       "      <td>0.347827</td>\n",
       "      <td>0.009492</td>\n",
       "      <td>0.000308</td>\n",
       "      <td>0.232334</td>\n",
       "      <td>{'C': 0.23233444867279784}</td>\n",
       "      <td>0.521784</td>\n",
       "      <td>0.511453</td>\n",
       "      <td>0.513316</td>\n",
       "      <td>0.491307</td>\n",
       "      <td>0.518961</td>\n",
       "      <td>0.511364</td>\n",
       "      <td>0.010699</td>\n",
       "      <td>1</td>\n",
       "    </tr>\n",
       "    <tr>\n",
       "      <th>5</th>\n",
       "      <td>20.873183</td>\n",
       "      <td>0.386479</td>\n",
       "      <td>0.009743</td>\n",
       "      <td>0.000470</td>\n",
       "      <td>0.623978</td>\n",
       "      <td>{'C': 0.6239780813448106}</td>\n",
       "      <td>0.521784</td>\n",
       "      <td>0.511453</td>\n",
       "      <td>0.513316</td>\n",
       "      <td>0.491307</td>\n",
       "      <td>0.518961</td>\n",
       "      <td>0.511364</td>\n",
       "      <td>0.010699</td>\n",
       "      <td>1</td>\n",
       "    </tr>\n",
       "    <tr>\n",
       "      <th>4</th>\n",
       "      <td>20.387018</td>\n",
       "      <td>0.315729</td>\n",
       "      <td>0.009394</td>\n",
       "      <td>0.000485</td>\n",
       "      <td>0.624075</td>\n",
       "      <td>{'C': 0.6240745617697461}</td>\n",
       "      <td>0.521784</td>\n",
       "      <td>0.511453</td>\n",
       "      <td>0.513316</td>\n",
       "      <td>0.491307</td>\n",
       "      <td>0.518961</td>\n",
       "      <td>0.511364</td>\n",
       "      <td>0.010699</td>\n",
       "      <td>1</td>\n",
       "    </tr>\n",
       "    <tr>\n",
       "      <th>0</th>\n",
       "      <td>23.225106</td>\n",
       "      <td>0.465509</td>\n",
       "      <td>0.009646</td>\n",
       "      <td>0.000506</td>\n",
       "      <td>1.49816</td>\n",
       "      <td>{'C': 1.49816047538945}</td>\n",
       "      <td>0.521784</td>\n",
       "      <td>0.511453</td>\n",
       "      <td>0.513316</td>\n",
       "      <td>0.491307</td>\n",
       "      <td>0.518961</td>\n",
       "      <td>0.511364</td>\n",
       "      <td>0.010699</td>\n",
       "      <td>1</td>\n",
       "    </tr>\n",
       "    <tr>\n",
       "      <th>3</th>\n",
       "      <td>20.659377</td>\n",
       "      <td>0.743686</td>\n",
       "      <td>0.009721</td>\n",
       "      <td>0.000884</td>\n",
       "      <td>2.39463</td>\n",
       "      <td>{'C': 2.3946339367881464}</td>\n",
       "      <td>0.521784</td>\n",
       "      <td>0.511453</td>\n",
       "      <td>0.513316</td>\n",
       "      <td>0.491307</td>\n",
       "      <td>0.518961</td>\n",
       "      <td>0.511364</td>\n",
       "      <td>0.010699</td>\n",
       "      <td>1</td>\n",
       "    </tr>\n",
       "    <tr>\n",
       "      <th>8</th>\n",
       "      <td>21.443917</td>\n",
       "      <td>0.555311</td>\n",
       "      <td>0.009146</td>\n",
       "      <td>0.000541</td>\n",
       "      <td>2.40446</td>\n",
       "      <td>{'C': 2.404460046972835}</td>\n",
       "      <td>0.521784</td>\n",
       "      <td>0.511453</td>\n",
       "      <td>0.513316</td>\n",
       "      <td>0.491307</td>\n",
       "      <td>0.518961</td>\n",
       "      <td>0.511364</td>\n",
       "      <td>0.010699</td>\n",
       "      <td>1</td>\n",
       "    </tr>\n",
       "    <tr>\n",
       "      <th>9</th>\n",
       "      <td>15.863019</td>\n",
       "      <td>6.075852</td>\n",
       "      <td>0.006511</td>\n",
       "      <td>0.001712</td>\n",
       "      <td>2.83229</td>\n",
       "      <td>{'C': 2.832290311184182}</td>\n",
       "      <td>0.521784</td>\n",
       "      <td>0.511453</td>\n",
       "      <td>0.513316</td>\n",
       "      <td>0.491307</td>\n",
       "      <td>0.518961</td>\n",
       "      <td>0.511364</td>\n",
       "      <td>0.010699</td>\n",
       "      <td>1</td>\n",
       "    </tr>\n",
       "    <tr>\n",
       "      <th>2</th>\n",
       "      <td>20.339319</td>\n",
       "      <td>0.350078</td>\n",
       "      <td>0.009859</td>\n",
       "      <td>0.002029</td>\n",
       "      <td>2.92798</td>\n",
       "      <td>{'C': 2.9279757672456204}</td>\n",
       "      <td>0.521784</td>\n",
       "      <td>0.511453</td>\n",
       "      <td>0.513316</td>\n",
       "      <td>0.491307</td>\n",
       "      <td>0.518961</td>\n",
       "      <td>0.511364</td>\n",
       "      <td>0.010699</td>\n",
       "      <td>1</td>\n",
       "    </tr>\n",
       "    <tr>\n",
       "      <th>7</th>\n",
       "      <td>20.729889</td>\n",
       "      <td>0.605134</td>\n",
       "      <td>0.009491</td>\n",
       "      <td>0.000308</td>\n",
       "      <td>3.4647</td>\n",
       "      <td>{'C': 3.4647045830997407}</td>\n",
       "      <td>0.521784</td>\n",
       "      <td>0.511453</td>\n",
       "      <td>0.513316</td>\n",
       "      <td>0.491307</td>\n",
       "      <td>0.518961</td>\n",
       "      <td>0.511364</td>\n",
       "      <td>0.010699</td>\n",
       "      <td>1</td>\n",
       "    </tr>\n",
       "    <tr>\n",
       "      <th>1</th>\n",
       "      <td>22.079217</td>\n",
       "      <td>1.212271</td>\n",
       "      <td>0.009619</td>\n",
       "      <td>0.000485</td>\n",
       "      <td>3.80286</td>\n",
       "      <td>{'C': 3.8028572256396647}</td>\n",
       "      <td>0.521784</td>\n",
       "      <td>0.511453</td>\n",
       "      <td>0.513316</td>\n",
       "      <td>0.491307</td>\n",
       "      <td>0.518961</td>\n",
       "      <td>0.511364</td>\n",
       "      <td>0.010699</td>\n",
       "      <td>1</td>\n",
       "    </tr>\n",
       "  </tbody>\n",
       "</table>\n",
       "</div>"
      ],
      "text/plain": [
       "   mean_fit_time  std_fit_time  mean_score_time  std_score_time   param_C  \\\n",
       "6      20.734650      0.347827         0.009492        0.000308  0.232334   \n",
       "5      20.873183      0.386479         0.009743        0.000470  0.623978   \n",
       "4      20.387018      0.315729         0.009394        0.000485  0.624075   \n",
       "0      23.225106      0.465509         0.009646        0.000506   1.49816   \n",
       "3      20.659377      0.743686         0.009721        0.000884   2.39463   \n",
       "8      21.443917      0.555311         0.009146        0.000541   2.40446   \n",
       "9      15.863019      6.075852         0.006511        0.001712   2.83229   \n",
       "2      20.339319      0.350078         0.009859        0.002029   2.92798   \n",
       "7      20.729889      0.605134         0.009491        0.000308    3.4647   \n",
       "1      22.079217      1.212271         0.009619        0.000485   3.80286   \n",
       "\n",
       "                       params  split0_test_score  split1_test_score  \\\n",
       "6  {'C': 0.23233444867279784}           0.521784           0.511453   \n",
       "5   {'C': 0.6239780813448106}           0.521784           0.511453   \n",
       "4   {'C': 0.6240745617697461}           0.521784           0.511453   \n",
       "0     {'C': 1.49816047538945}           0.521784           0.511453   \n",
       "3   {'C': 2.3946339367881464}           0.521784           0.511453   \n",
       "8    {'C': 2.404460046972835}           0.521784           0.511453   \n",
       "9    {'C': 2.832290311184182}           0.521784           0.511453   \n",
       "2   {'C': 2.9279757672456204}           0.521784           0.511453   \n",
       "7   {'C': 3.4647045830997407}           0.521784           0.511453   \n",
       "1   {'C': 3.8028572256396647}           0.521784           0.511453   \n",
       "\n",
       "   split2_test_score  split3_test_score  split4_test_score  mean_test_score  \\\n",
       "6           0.513316           0.491307           0.518961         0.511364   \n",
       "5           0.513316           0.491307           0.518961         0.511364   \n",
       "4           0.513316           0.491307           0.518961         0.511364   \n",
       "0           0.513316           0.491307           0.518961         0.511364   \n",
       "3           0.513316           0.491307           0.518961         0.511364   \n",
       "8           0.513316           0.491307           0.518961         0.511364   \n",
       "9           0.513316           0.491307           0.518961         0.511364   \n",
       "2           0.513316           0.491307           0.518961         0.511364   \n",
       "7           0.513316           0.491307           0.518961         0.511364   \n",
       "1           0.513316           0.491307           0.518961         0.511364   \n",
       "\n",
       "   std_test_score  rank_test_score  \n",
       "6        0.010699                1  \n",
       "5        0.010699                1  \n",
       "4        0.010699                1  \n",
       "0        0.010699                1  \n",
       "3        0.010699                1  \n",
       "8        0.010699                1  \n",
       "9        0.010699                1  \n",
       "2        0.010699                1  \n",
       "7        0.010699                1  \n",
       "1        0.010699                1  "
      ]
     },
     "execution_count": 23,
     "metadata": {},
     "output_type": "execute_result"
    }
   ],
   "source": [
    "results = pd.DataFrame.from_dict(best_model.cv_results_)\n",
    "results=results.sort_values('param_C')\n",
    "results"
   ]
  },
  {
   "cell_type": "code",
   "execution_count": 24,
   "metadata": {},
   "outputs": [
    {
     "data": {
      "image/png": "[encoded data removed]",
      "text/plain": [
       "<Figure size 432x288 with 1 Axes>"
      ]
     },
     "metadata": {
      "needs_background": "light"
     },
     "output_type": "display_data"
    }
   ],
   "source": [
    "print_graph(results, 'param_C', 'mean_test_score', 'Hyperparameter - C', 'Test score')"
   ]
  },
  {
   "cell_type": "code",
   "execution_count": 25,
   "metadata": {},
   "outputs": [
    {
     "name": "stdout",
     "output_type": "stream",
     "text": [
      "[LibLinear]"
     ]
    },
    {
     "name": "stderr",
     "output_type": "stream",
     "text": [
      "/home/auw-mayank/.local/lib/python3.6/site-packages/sklearn/svm/_base.py:977: ConvergenceWarning: Liblinear failed to converge, increase the number of iterations.\n",
      "  \"the number of iterations.\", ConvergenceWarning)\n"
     ]
    },
    {
     "name": "stdout",
     "output_type": "stream",
     "text": [
      "[LibLinear]"
     ]
    },
    {
     "name": "stderr",
     "output_type": "stream",
     "text": [
      "/home/auw-mayank/.local/lib/python3.6/site-packages/sklearn/svm/_base.py:977: ConvergenceWarning: Liblinear failed to converge, increase the number of iterations.\n",
      "  \"the number of iterations.\", ConvergenceWarning)\n"
     ]
    },
    {
     "name": "stdout",
     "output_type": "stream",
     "text": [
      "[LibLinear]"
     ]
    },
    {
     "name": "stderr",
     "output_type": "stream",
     "text": [
      "/home/auw-mayank/.local/lib/python3.6/site-packages/sklearn/svm/_base.py:977: ConvergenceWarning: Liblinear failed to converge, increase the number of iterations.\n",
      "  \"the number of iterations.\", ConvergenceWarning)\n"
     ]
    },
    {
     "name": "stdout",
     "output_type": "stream",
     "text": [
      "[LibLinear]"
     ]
    },
    {
     "name": "stderr",
     "output_type": "stream",
     "text": [
      "/home/auw-mayank/.local/lib/python3.6/site-packages/sklearn/svm/_base.py:977: ConvergenceWarning: Liblinear failed to converge, increase the number of iterations.\n",
      "  \"the number of iterations.\", ConvergenceWarning)\n"
     ]
    },
    {
     "name": "stdout",
     "output_type": "stream",
     "text": [
      "[LibLinear]"
     ]
    },
    {
     "name": "stderr",
     "output_type": "stream",
     "text": [
      "/home/auw-mayank/.local/lib/python3.6/site-packages/sklearn/svm/_base.py:977: ConvergenceWarning: Liblinear failed to converge, increase the number of iterations.\n",
      "  \"the number of iterations.\", ConvergenceWarning)\n"
     ]
    },
    {
     "data": {
      "text/plain": [
       "CalibratedClassifierCV(base_estimator=LinearSVC(C=1.49816047538945,\n",
       "                                                class_weight='balanced',\n",
       "                                                max_iter=2000, random_state=42,\n",
       "                                                verbose=2))"
      ]
     },
     "execution_count": 25,
     "metadata": {},
     "output_type": "execute_result"
    }
   ],
   "source": [
    "#https://stackoverflow.com/questions/26478000/converting-linearsvcs-decision-function-to-probabilities-scikit-learn-python\n",
    "model = LinearSVC(C=best_c,verbose=verbose,random_state=random_state,class_weight='balanced',max_iter=2000)\n",
    "model = CalibratedClassifierCV(model)\n",
    "model.fit(train_data,y_train)"
   ]
  },
  {
   "cell_type": "code",
   "execution_count": 26,
   "metadata": {},
   "outputs": [],
   "source": [
    "predictions = model.predict_proba(test_data)[:,1]\n",
    "save_submission(predictions, 'svm_raw.csv')"
   ]
  },
  {
   "cell_type": "code",
   "execution_count": null,
   "metadata": {},
   "outputs": [],
   "source": []
  },
  {
   "cell_type": "markdown",
   "metadata": {},
   "source": [
    "## 1.3 Logistic Regression with Raw Feature"
   ]
  },
  {
   "cell_type": "code",
   "execution_count": 27,
   "metadata": {},
   "outputs": [
    {
     "name": "stdout",
     "output_type": "stream",
     "text": [
      "Fitting 5 folds for each of 100 candidates, totalling 500 fits\n"
     ]
    },
    {
     "name": "stderr",
     "output_type": "stream",
     "text": [
      "[Parallel(n_jobs=-1)]: Using backend LokyBackend with 8 concurrent workers.\n",
      "[Parallel(n_jobs=-1)]: Done  25 tasks      | elapsed:    1.3s\n",
      "[Parallel(n_jobs=-1)]: Done 146 tasks      | elapsed:    6.3s\n",
      "[Parallel(n_jobs=-1)]: Done 349 tasks      | elapsed:   15.0s\n",
      "[Parallel(n_jobs=-1)]: Done 500 out of 500 | elapsed:   21.3s finished\n",
      "[Parallel(n_jobs=-1)]: Using backend LokyBackend with 8 concurrent workers.\n",
      "[Parallel(n_jobs=-1)]: Done   1 out of   1 | elapsed:    0.3s finished\n"
     ]
    }
   ],
   "source": [
    "C_val = uniform(loc=0, scale=4)\n",
    "lr= LogisticRegression(verbose=verbose,random_state=random_state,class_weight='balanced',solver='lbfgs',max_iter=500,n_jobs=-1)\n",
    "parameters={'C':C_val}\n",
    "clf = RandomizedSearchCV(lr,parameters,random_state=random_state,cv=cv,verbose=verbose,n_iter=100,scoring=scoring,n_jobs=-1)\n",
    "best_model = clf.fit(train_data,y_train)"
   ]
  },
  {
   "cell_type": "code",
   "execution_count": 28,
   "metadata": {},
   "outputs": [
    {
     "data": {
      "text/plain": [
       "1.49816047538945"
      ]
     },
     "execution_count": 28,
     "metadata": {},
     "output_type": "execute_result"
    }
   ],
   "source": [
    "best_c=best_model.best_params_['C']\n",
    "best_c"
   ]
  },
  {
   "cell_type": "code",
   "execution_count": 29,
   "metadata": {},
   "outputs": [
    {
     "data": {
      "text/html": [
       "<div>\n",
       "<style scoped>\n",
       "    .dataframe tbody tr th:only-of-type {\n",
       "        vertical-align: middle;\n",
       "    }\n",
       "\n",
       "    .dataframe tbody tr th {\n",
       "        vertical-align: top;\n",
       "    }\n",
       "\n",
       "    .dataframe thead th {\n",
       "        text-align: right;\n",
       "    }\n",
       "</style>\n",
       "<table border=\"1\" class=\"dataframe\">\n",
       "  <thead>\n",
       "    <tr style=\"text-align: right;\">\n",
       "      <th></th>\n",
       "      <th>mean_fit_time</th>\n",
       "      <th>std_fit_time</th>\n",
       "      <th>mean_score_time</th>\n",
       "      <th>std_score_time</th>\n",
       "      <th>param_C</th>\n",
       "      <th>params</th>\n",
       "      <th>split0_test_score</th>\n",
       "      <th>split1_test_score</th>\n",
       "      <th>split2_test_score</th>\n",
       "      <th>split3_test_score</th>\n",
       "      <th>split4_test_score</th>\n",
       "      <th>mean_test_score</th>\n",
       "      <th>std_test_score</th>\n",
       "      <th>rank_test_score</th>\n",
       "    </tr>\n",
       "  </thead>\n",
       "  <tbody>\n",
       "    <tr>\n",
       "      <th>72</th>\n",
       "      <td>0.288207</td>\n",
       "      <td>0.049340</td>\n",
       "      <td>0.009709</td>\n",
       "      <td>0.001088</td>\n",
       "      <td>0.0220885</td>\n",
       "      <td>{'C': 0.022088468494409597}</td>\n",
       "      <td>0.519329</td>\n",
       "      <td>0.548037</td>\n",
       "      <td>0.516881</td>\n",
       "      <td>0.53325</td>\n",
       "      <td>0.498591</td>\n",
       "      <td>0.523217</td>\n",
       "      <td>0.016604</td>\n",
       "      <td>1</td>\n",
       "    </tr>\n",
       "    <tr>\n",
       "      <th>10</th>\n",
       "      <td>0.308069</td>\n",
       "      <td>0.038586</td>\n",
       "      <td>0.008474</td>\n",
       "      <td>0.000245</td>\n",
       "      <td>0.082338</td>\n",
       "      <td>{'C': 0.08233797718320979}</td>\n",
       "      <td>0.519328</td>\n",
       "      <td>0.548037</td>\n",
       "      <td>0.516881</td>\n",
       "      <td>0.53325</td>\n",
       "      <td>0.498591</td>\n",
       "      <td>0.523217</td>\n",
       "      <td>0.016604</td>\n",
       "      <td>99</td>\n",
       "    </tr>\n",
       "    <tr>\n",
       "      <th>98</th>\n",
       "      <td>0.296427</td>\n",
       "      <td>0.044889</td>\n",
       "      <td>0.007660</td>\n",
       "      <td>0.001223</td>\n",
       "      <td>0.101677</td>\n",
       "      <td>{'C': 0.10167650697638075}</td>\n",
       "      <td>0.519328</td>\n",
       "      <td>0.548037</td>\n",
       "      <td>0.516881</td>\n",
       "      <td>0.53325</td>\n",
       "      <td>0.498591</td>\n",
       "      <td>0.523217</td>\n",
       "      <td>0.016604</td>\n",
       "      <td>99</td>\n",
       "    </tr>\n",
       "    <tr>\n",
       "      <th>42</th>\n",
       "      <td>0.327696</td>\n",
       "      <td>0.038082</td>\n",
       "      <td>0.009636</td>\n",
       "      <td>0.001287</td>\n",
       "      <td>0.137554</td>\n",
       "      <td>{'C': 0.13755408446087358}</td>\n",
       "      <td>0.519329</td>\n",
       "      <td>0.548037</td>\n",
       "      <td>0.516881</td>\n",
       "      <td>0.53325</td>\n",
       "      <td>0.498591</td>\n",
       "      <td>0.523217</td>\n",
       "      <td>0.016604</td>\n",
       "      <td>1</td>\n",
       "    </tr>\n",
       "    <tr>\n",
       "      <th>58</th>\n",
       "      <td>0.326322</td>\n",
       "      <td>0.043709</td>\n",
       "      <td>0.009740</td>\n",
       "      <td>0.001623</td>\n",
       "      <td>0.180909</td>\n",
       "      <td>{'C': 0.18090915564215226}</td>\n",
       "      <td>0.519329</td>\n",
       "      <td>0.548037</td>\n",
       "      <td>0.516881</td>\n",
       "      <td>0.53325</td>\n",
       "      <td>0.498591</td>\n",
       "      <td>0.523217</td>\n",
       "      <td>0.016604</td>\n",
       "      <td>1</td>\n",
       "    </tr>\n",
       "    <tr>\n",
       "      <th>...</th>\n",
       "      <td>...</td>\n",
       "      <td>...</td>\n",
       "      <td>...</td>\n",
       "      <td>...</td>\n",
       "      <td>...</td>\n",
       "      <td>...</td>\n",
       "      <td>...</td>\n",
       "      <td>...</td>\n",
       "      <td>...</td>\n",
       "      <td>...</td>\n",
       "      <td>...</td>\n",
       "      <td>...</td>\n",
       "      <td>...</td>\n",
       "      <td>...</td>\n",
       "    </tr>\n",
       "    <tr>\n",
       "      <th>1</th>\n",
       "      <td>0.366390</td>\n",
       "      <td>0.056284</td>\n",
       "      <td>0.012254</td>\n",
       "      <td>0.002800</td>\n",
       "      <td>3.80286</td>\n",
       "      <td>{'C': 3.8028572256396647}</td>\n",
       "      <td>0.519329</td>\n",
       "      <td>0.548037</td>\n",
       "      <td>0.516881</td>\n",
       "      <td>0.53325</td>\n",
       "      <td>0.498591</td>\n",
       "      <td>0.523217</td>\n",
       "      <td>0.016604</td>\n",
       "      <td>1</td>\n",
       "    </tr>\n",
       "    <tr>\n",
       "      <th>34</th>\n",
       "      <td>0.330722</td>\n",
       "      <td>0.064558</td>\n",
       "      <td>0.009515</td>\n",
       "      <td>0.001008</td>\n",
       "      <td>3.86253</td>\n",
       "      <td>{'C': 3.8625281322982374}</td>\n",
       "      <td>0.519329</td>\n",
       "      <td>0.548037</td>\n",
       "      <td>0.516881</td>\n",
       "      <td>0.53325</td>\n",
       "      <td>0.498591</td>\n",
       "      <td>0.523217</td>\n",
       "      <td>0.016604</td>\n",
       "      <td>1</td>\n",
       "    </tr>\n",
       "    <tr>\n",
       "      <th>50</th>\n",
       "      <td>0.289553</td>\n",
       "      <td>0.048755</td>\n",
       "      <td>0.008182</td>\n",
       "      <td>0.001069</td>\n",
       "      <td>3.87834</td>\n",
       "      <td>{'C': 3.8783385110582342}</td>\n",
       "      <td>0.519329</td>\n",
       "      <td>0.548037</td>\n",
       "      <td>0.516881</td>\n",
       "      <td>0.53325</td>\n",
       "      <td>0.498591</td>\n",
       "      <td>0.523217</td>\n",
       "      <td>0.016604</td>\n",
       "      <td>1</td>\n",
       "    </tr>\n",
       "    <tr>\n",
       "      <th>11</th>\n",
       "      <td>0.275883</td>\n",
       "      <td>0.051927</td>\n",
       "      <td>0.009324</td>\n",
       "      <td>0.001304</td>\n",
       "      <td>3.87964</td>\n",
       "      <td>{'C': 3.8796394086479773}</td>\n",
       "      <td>0.519329</td>\n",
       "      <td>0.548037</td>\n",
       "      <td>0.516881</td>\n",
       "      <td>0.53325</td>\n",
       "      <td>0.498591</td>\n",
       "      <td>0.523217</td>\n",
       "      <td>0.016604</td>\n",
       "      <td>1</td>\n",
       "    </tr>\n",
       "    <tr>\n",
       "      <th>69</th>\n",
       "      <td>0.315237</td>\n",
       "      <td>0.034407</td>\n",
       "      <td>0.009079</td>\n",
       "      <td>0.002059</td>\n",
       "      <td>3.94755</td>\n",
       "      <td>{'C': 3.947547746402069}</td>\n",
       "      <td>0.519329</td>\n",
       "      <td>0.548037</td>\n",
       "      <td>0.516881</td>\n",
       "      <td>0.53325</td>\n",
       "      <td>0.498591</td>\n",
       "      <td>0.523217</td>\n",
       "      <td>0.016604</td>\n",
       "      <td>1</td>\n",
       "    </tr>\n",
       "  </tbody>\n",
       "</table>\n",
       "<p>100 rows × 14 columns</p>\n",
       "</div>"
      ],
      "text/plain": [
       "    mean_fit_time  std_fit_time  mean_score_time  std_score_time    param_C  \\\n",
       "72       0.288207      0.049340         0.009709        0.001088  0.0220885   \n",
       "10       0.308069      0.038586         0.008474        0.000245   0.082338   \n",
       "98       0.296427      0.044889         0.007660        0.001223   0.101677   \n",
       "42       0.327696      0.038082         0.009636        0.001287   0.137554   \n",
       "58       0.326322      0.043709         0.009740        0.001623   0.180909   \n",
       "..            ...           ...              ...             ...        ...   \n",
       "1        0.366390      0.056284         0.012254        0.002800    3.80286   \n",
       "34       0.330722      0.064558         0.009515        0.001008    3.86253   \n",
       "50       0.289553      0.048755         0.008182        0.001069    3.87834   \n",
       "11       0.275883      0.051927         0.009324        0.001304    3.87964   \n",
       "69       0.315237      0.034407         0.009079        0.002059    3.94755   \n",
       "\n",
       "                         params  split0_test_score  split1_test_score  \\\n",
       "72  {'C': 0.022088468494409597}           0.519329           0.548037   \n",
       "10   {'C': 0.08233797718320979}           0.519328           0.548037   \n",
       "98   {'C': 0.10167650697638075}           0.519328           0.548037   \n",
       "42   {'C': 0.13755408446087358}           0.519329           0.548037   \n",
       "58   {'C': 0.18090915564215226}           0.519329           0.548037   \n",
       "..                          ...                ...                ...   \n",
       "1     {'C': 3.8028572256396647}           0.519329           0.548037   \n",
       "34    {'C': 3.8625281322982374}           0.519329           0.548037   \n",
       "50    {'C': 3.8783385110582342}           0.519329           0.548037   \n",
       "11    {'C': 3.8796394086479773}           0.519329           0.548037   \n",
       "69     {'C': 3.947547746402069}           0.519329           0.548037   \n",
       "\n",
       "    split2_test_score  split3_test_score  split4_test_score  mean_test_score  \\\n",
       "72           0.516881            0.53325           0.498591         0.523217   \n",
       "10           0.516881            0.53325           0.498591         0.523217   \n",
       "98           0.516881            0.53325           0.498591         0.523217   \n",
       "42           0.516881            0.53325           0.498591         0.523217   \n",
       "58           0.516881            0.53325           0.498591         0.523217   \n",
       "..                ...                ...                ...              ...   \n",
       "1            0.516881            0.53325           0.498591         0.523217   \n",
       "34           0.516881            0.53325           0.498591         0.523217   \n",
       "50           0.516881            0.53325           0.498591         0.523217   \n",
       "11           0.516881            0.53325           0.498591         0.523217   \n",
       "69           0.516881            0.53325           0.498591         0.523217   \n",
       "\n",
       "    std_test_score  rank_test_score  \n",
       "72        0.016604                1  \n",
       "10        0.016604               99  \n",
       "98        0.016604               99  \n",
       "42        0.016604                1  \n",
       "58        0.016604                1  \n",
       "..             ...              ...  \n",
       "1         0.016604                1  \n",
       "34        0.016604                1  \n",
       "50        0.016604                1  \n",
       "11        0.016604                1  \n",
       "69        0.016604                1  \n",
       "\n",
       "[100 rows x 14 columns]"
      ]
     },
     "execution_count": 29,
     "metadata": {},
     "output_type": "execute_result"
    }
   ],
   "source": [
    "results = pd.DataFrame.from_dict(best_model.cv_results_)\n",
    "results=results.sort_values('param_C')\n",
    "results"
   ]
  },
  {
   "cell_type": "code",
   "execution_count": 30,
   "metadata": {},
   "outputs": [
    {
     "data": {
      "image/png": "[encoded data removed]",
      "text/plain": [
       "<Figure size 432x288 with 1 Axes>"
      ]
     },
     "metadata": {
      "needs_background": "light"
     },
     "output_type": "display_data"
    }
   ],
   "source": [
    "print_graph(results, 'param_C', 'mean_test_score', 'Hyperparameter - C', 'Test score')"
   ]
  },
  {
   "cell_type": "code",
   "execution_count": 31,
   "metadata": {},
   "outputs": [
    {
     "name": "stderr",
     "output_type": "stream",
     "text": [
      "[Parallel(n_jobs=-1)]: Using backend LokyBackend with 8 concurrent workers.\n",
      "[Parallel(n_jobs=-1)]: Done   1 out of   1 | elapsed:    0.3s finished\n"
     ]
    },
    {
     "data": {
      "text/plain": [
       "LogisticRegression(C=1.49816047538945, class_weight='balanced', n_jobs=-1,\n",
       "                   random_state=42, verbose=2)"
      ]
     },
     "execution_count": 31,
     "metadata": {},
     "output_type": "execute_result"
    }
   ],
   "source": [
    "model = LogisticRegression(C=best_c,verbose=verbose,n_jobs=-1,random_state=random_state,class_weight='balanced',solver='lbfgs')\n",
    "model.fit(train_data,y_train)"
   ]
  },
  {
   "cell_type": "code",
   "execution_count": 32,
   "metadata": {},
   "outputs": [],
   "source": [
    "predictions = model.predict_proba(test_data)[:,1]\n",
    "save_submission(predictions, 'lr_raw.csv')"
   ]
  },
  {
   "cell_type": "code",
   "execution_count": null,
   "metadata": {},
   "outputs": [],
   "source": []
  },
  {
   "cell_type": "markdown",
   "metadata": {},
   "source": [
    "## 1.4 Random Forest with Raw Feature"
   ]
  },
  {
   "cell_type": "code",
   "execution_count": 33,
   "metadata": {},
   "outputs": [
    {
     "name": "stdout",
     "output_type": "stream",
     "text": [
      "Fitting 5 folds for each of 100 candidates, totalling 500 fits\n"
     ]
    },
    {
     "name": "stderr",
     "output_type": "stream",
     "text": [
      "[Parallel(n_jobs=-1)]: Using backend LokyBackend with 8 concurrent workers.\n",
      "[Parallel(n_jobs=-1)]: Done  25 tasks      | elapsed:   24.2s\n",
      "/home/auw-mayank/.local/lib/python3.6/site-packages/joblib/externals/loky/process_executor.py:691: UserWarning: A worker stopped while some jobs were given to the executor. This can be caused by a too short worker timeout or by a memory leak.\n",
      "  \"timeout or by a memory leak.\", UserWarning\n",
      "[Parallel(n_jobs=-1)]: Done 146 tasks      | elapsed:  4.5min\n",
      "[Parallel(n_jobs=-1)]: Done 349 tasks      | elapsed: 10.7min\n",
      "[Parallel(n_jobs=-1)]: Done 500 out of 500 | elapsed: 15.5min finished\n"
     ]
    }
   ],
   "source": [
    "rfc = RandomForestClassifier(random_state=random_state,class_weight='balanced',n_jobs=-1)\n",
    "clf = RandomizedSearchCV(rfc,get_rf_params(),random_state=random_state,cv=cv,verbose=verbose,n_iter=100,scoring=scoring,n_jobs=-1)\n",
    "best_model = clf.fit(train_data,y_train)"
   ]
  },
  {
   "cell_type": "code",
   "execution_count": 35,
   "metadata": {},
   "outputs": [
    {
     "data": {
      "text/html": [
       "<div>\n",
       "<style scoped>\n",
       "    .dataframe tbody tr th:only-of-type {\n",
       "        vertical-align: middle;\n",
       "    }\n",
       "\n",
       "    .dataframe tbody tr th {\n",
       "        vertical-align: top;\n",
       "    }\n",
       "\n",
       "    .dataframe thead th {\n",
       "        text-align: right;\n",
       "    }\n",
       "</style>\n",
       "<table border=\"1\" class=\"dataframe\">\n",
       "  <thead>\n",
       "    <tr style=\"text-align: right;\">\n",
       "      <th></th>\n",
       "      <th>param_n_estimators</th>\n",
       "      <th>param_max_depth</th>\n",
       "      <th>param_max_features</th>\n",
       "      <th>param_min_samples_split</th>\n",
       "      <th>mean_test_score</th>\n",
       "    </tr>\n",
       "  </thead>\n",
       "  <tbody>\n",
       "    <tr>\n",
       "      <th>78</th>\n",
       "      <td>700</td>\n",
       "      <td>25</td>\n",
       "      <td>2</td>\n",
       "      <td>7</td>\n",
       "      <td>0.864035</td>\n",
       "    </tr>\n",
       "    <tr>\n",
       "      <th>62</th>\n",
       "      <td>500</td>\n",
       "      <td>25</td>\n",
       "      <td>3</td>\n",
       "      <td>5</td>\n",
       "      <td>0.862868</td>\n",
       "    </tr>\n",
       "    <tr>\n",
       "      <th>79</th>\n",
       "      <td>500</td>\n",
       "      <td>25</td>\n",
       "      <td>1</td>\n",
       "      <td>10</td>\n",
       "      <td>0.861580</td>\n",
       "    </tr>\n",
       "    <tr>\n",
       "      <th>55</th>\n",
       "      <td>200</td>\n",
       "      <td>25</td>\n",
       "      <td>2</td>\n",
       "      <td>5</td>\n",
       "      <td>0.860777</td>\n",
       "    </tr>\n",
       "    <tr>\n",
       "      <th>22</th>\n",
       "      <td>200</td>\n",
       "      <td>25</td>\n",
       "      <td>4</td>\n",
       "      <td>10</td>\n",
       "      <td>0.860643</td>\n",
       "    </tr>\n",
       "    <tr>\n",
       "      <th>20</th>\n",
       "      <td>1000</td>\n",
       "      <td>25</td>\n",
       "      <td>3</td>\n",
       "      <td>2</td>\n",
       "      <td>0.860467</td>\n",
       "    </tr>\n",
       "    <tr>\n",
       "      <th>85</th>\n",
       "      <td>1000</td>\n",
       "      <td>20</td>\n",
       "      <td>3</td>\n",
       "      <td>7</td>\n",
       "      <td>0.860057</td>\n",
       "    </tr>\n",
       "    <tr>\n",
       "      <th>33</th>\n",
       "      <td>700</td>\n",
       "      <td>25</td>\n",
       "      <td>4</td>\n",
       "      <td>2</td>\n",
       "      <td>0.859027</td>\n",
       "    </tr>\n",
       "    <tr>\n",
       "      <th>84</th>\n",
       "      <td>1000</td>\n",
       "      <td>25</td>\n",
       "      <td>5</td>\n",
       "      <td>2</td>\n",
       "      <td>0.858752</td>\n",
       "    </tr>\n",
       "    <tr>\n",
       "      <th>27</th>\n",
       "      <td>50</td>\n",
       "      <td>25</td>\n",
       "      <td>2</td>\n",
       "      <td>10</td>\n",
       "      <td>0.858280</td>\n",
       "    </tr>\n",
       "  </tbody>\n",
       "</table>\n",
       "</div>"
      ],
      "text/plain": [
       "   param_n_estimators param_max_depth param_max_features  \\\n",
       "78                700              25                  2   \n",
       "62                500              25                  3   \n",
       "79                500              25                  1   \n",
       "55                200              25                  2   \n",
       "22                200              25                  4   \n",
       "20               1000              25                  3   \n",
       "85               1000              20                  3   \n",
       "33                700              25                  4   \n",
       "84               1000              25                  5   \n",
       "27                 50              25                  2   \n",
       "\n",
       "   param_min_samples_split  mean_test_score  \n",
       "78                       7         0.864035  \n",
       "62                       5         0.862868  \n",
       "79                      10         0.861580  \n",
       "55                       5         0.860777  \n",
       "22                      10         0.860643  \n",
       "20                       2         0.860467  \n",
       "85                       7         0.860057  \n",
       "33                       2         0.859027  \n",
       "84                       2         0.858752  \n",
       "27                      10         0.858280  "
      ]
     },
     "execution_count": 35,
     "metadata": {},
     "output_type": "execute_result"
    }
   ],
   "source": [
    "results = pd.DataFrame(best_model.cv_results_)\n",
    "results.sort_values('mean_test_score',ascending=False,inplace=True)\n",
    "param_keys=['param_'+str(each) for each in get_rf_params().keys()]\n",
    "param_keys.append('mean_test_score')\n",
    "results[param_keys].head(10)"
   ]
  },
  {
   "cell_type": "code",
   "execution_count": 36,
   "metadata": {},
   "outputs": [
    {
     "data": {
      "text/plain": [
       "(700, 2, 25, 7)"
      ]
     },
     "execution_count": 36,
     "metadata": {},
     "output_type": "execute_result"
    }
   ],
   "source": [
    "n_estimators=clf.best_params_['n_estimators']\n",
    "max_features=clf.best_params_['max_features']\n",
    "max_depth=clf.best_params_['max_depth']\n",
    "min_samples_split=clf.best_params_['min_samples_split']\n",
    "n_estimators,max_features,max_depth,min_samples_split"
   ]
  },
  {
   "cell_type": "code",
   "execution_count": 37,
   "metadata": {},
   "outputs": [
    {
     "data": {
      "text/plain": [
       "RandomForestClassifier(class_weight='balanced', max_depth=25, max_features=2,\n",
       "                       min_samples_split=7, n_estimators=700, n_jobs=-1,\n",
       "                       random_state=42)"
      ]
     },
     "execution_count": 37,
     "metadata": {},
     "output_type": "execute_result"
    }
   ],
   "source": [
    "model=RandomForestClassifier(n_estimators=n_estimators,max_depth=max_depth,max_features=max_features,\n",
    "                             min_samples_split=min_samples_split,\n",
    "                             random_state=random_state,class_weight='balanced',n_jobs=-1)\n",
    "\n",
    "model.fit(train_data,y_train)"
   ]
  },
  {
   "cell_type": "code",
   "execution_count": 40,
   "metadata": {},
   "outputs": [
    {
     "data": {
      "image/png": "[encoded data removed]",
      "text/plain": [
       "<Figure size 432x288 with 1 Axes>"
      ]
     },
     "metadata": {
      "needs_background": "light"
     },
     "output_type": "display_data"
    }
   ],
   "source": [
    "features=train_data.columns\n",
    "importance=model.feature_importances_\n",
    "features=pd.DataFrame({'features':features,'value':importance})\n",
    "features=features.sort_values('value',ascending=False)\n",
    "sns.barplot('value','features',data=features);\n",
    "plt.title('Feature Importance');"
   ]
  },
  {
   "cell_type": "code",
   "execution_count": 41,
   "metadata": {},
   "outputs": [],
   "source": [
    "predictions = model.predict_proba(test_data)[:,1]\n",
    "save_submission(predictions, 'rf_raw.csv')"
   ]
  },
  {
   "cell_type": "code",
   "execution_count": null,
   "metadata": {},
   "outputs": [],
   "source": []
  },
  {
   "cell_type": "markdown",
   "metadata": {},
   "source": [
    "## 1.5 Xgboost with Raw Feature"
   ]
  },
  {
   "cell_type": "code",
   "execution_count": 45,
   "metadata": {},
   "outputs": [
    {
     "name": "stdout",
     "output_type": "stream",
     "text": [
      "Fitting 5 folds for each of 100 candidates, totalling 500 fits\n"
     ]
    },
    {
     "name": "stderr",
     "output_type": "stream",
     "text": [
      "[Parallel(n_jobs=-1)]: Using backend LokyBackend with 8 concurrent workers.\n",
      "[Parallel(n_jobs=-1)]: Done  25 tasks      | elapsed:    7.0s\n",
      "[Parallel(n_jobs=-1)]: Done 146 tasks      | elapsed:  1.4min\n",
      "[Parallel(n_jobs=-1)]: Done 349 tasks      | elapsed:  4.3min\n",
      "[Parallel(n_jobs=-1)]: Done 500 out of 500 | elapsed:  7.0min finished\n"
     ]
    }
   ],
   "source": [
    "xgb = XGBClassifier()\n",
    "clf = RandomizedSearchCV(xgb,get_xgb_params(),random_state=random_state,cv=cv,verbose=verbose,n_iter=100,scoring=scoring,n_jobs=-1)\n",
    "best_model=clf.fit(train_data,y_train)"
   ]
  },
  {
   "cell_type": "code",
   "execution_count": 48,
   "metadata": {},
   "outputs": [
    {
     "data": {
      "text/html": [
       "<div>\n",
       "<style scoped>\n",
       "    .dataframe tbody tr th:only-of-type {\n",
       "        vertical-align: middle;\n",
       "    }\n",
       "\n",
       "    .dataframe tbody tr th {\n",
       "        vertical-align: top;\n",
       "    }\n",
       "\n",
       "    .dataframe thead th {\n",
       "        text-align: right;\n",
       "    }\n",
       "</style>\n",
       "<table border=\"1\" class=\"dataframe\">\n",
       "  <thead>\n",
       "    <tr style=\"text-align: right;\">\n",
       "      <th></th>\n",
       "      <th>param_n_estimators</th>\n",
       "      <th>param_learning_rate</th>\n",
       "      <th>param_subsample</th>\n",
       "      <th>param_max_depth</th>\n",
       "      <th>param_colsample_bytree</th>\n",
       "      <th>param_min_child_weight</th>\n",
       "      <th>mean_test_score</th>\n",
       "    </tr>\n",
       "  </thead>\n",
       "  <tbody>\n",
       "    <tr>\n",
       "      <th>18</th>\n",
       "      <td>1000</td>\n",
       "      <td>0.048135</td>\n",
       "      <td>0.665922</td>\n",
       "      <td>9</td>\n",
       "      <td>0.330898</td>\n",
       "      <td>2</td>\n",
       "      <td>0.859879</td>\n",
       "    </tr>\n",
       "    <tr>\n",
       "      <th>44</th>\n",
       "      <td>1000</td>\n",
       "      <td>0.060484</td>\n",
       "      <td>0.606429</td>\n",
       "      <td>6</td>\n",
       "      <td>0.642032</td>\n",
       "      <td>2</td>\n",
       "      <td>0.855594</td>\n",
       "    </tr>\n",
       "    <tr>\n",
       "      <th>97</th>\n",
       "      <td>750</td>\n",
       "      <td>0.232385</td>\n",
       "      <td>0.907694</td>\n",
       "      <td>6</td>\n",
       "      <td>0.374271</td>\n",
       "      <td>1</td>\n",
       "      <td>0.855062</td>\n",
       "    </tr>\n",
       "    <tr>\n",
       "      <th>96</th>\n",
       "      <td>500</td>\n",
       "      <td>0.0979629</td>\n",
       "      <td>0.98664</td>\n",
       "      <td>7</td>\n",
       "      <td>0.891897</td>\n",
       "      <td>1</td>\n",
       "      <td>0.854603</td>\n",
       "    </tr>\n",
       "    <tr>\n",
       "      <th>62</th>\n",
       "      <td>500</td>\n",
       "      <td>0.0663892</td>\n",
       "      <td>0.328153</td>\n",
       "      <td>9</td>\n",
       "      <td>0.375583</td>\n",
       "      <td>3</td>\n",
       "      <td>0.851305</td>\n",
       "    </tr>\n",
       "    <tr>\n",
       "      <th>49</th>\n",
       "      <td>500</td>\n",
       "      <td>0.160277</td>\n",
       "      <td>0.393098</td>\n",
       "      <td>8</td>\n",
       "      <td>0.636333</td>\n",
       "      <td>2</td>\n",
       "      <td>0.851109</td>\n",
       "    </tr>\n",
       "    <tr>\n",
       "      <th>84</th>\n",
       "      <td>200</td>\n",
       "      <td>0.571989</td>\n",
       "      <td>0.967581</td>\n",
       "      <td>6</td>\n",
       "      <td>0.348337</td>\n",
       "      <td>1</td>\n",
       "      <td>0.850137</td>\n",
       "    </tr>\n",
       "    <tr>\n",
       "      <th>53</th>\n",
       "      <td>200</td>\n",
       "      <td>0.540096</td>\n",
       "      <td>0.928319</td>\n",
       "      <td>6</td>\n",
       "      <td>0.27956</td>\n",
       "      <td>1</td>\n",
       "      <td>0.849858</td>\n",
       "    </tr>\n",
       "    <tr>\n",
       "      <th>86</th>\n",
       "      <td>1000</td>\n",
       "      <td>0.475848</td>\n",
       "      <td>0.858413</td>\n",
       "      <td>9</td>\n",
       "      <td>0.372018</td>\n",
       "      <td>2</td>\n",
       "      <td>0.849704</td>\n",
       "    </tr>\n",
       "    <tr>\n",
       "      <th>8</th>\n",
       "      <td>750</td>\n",
       "      <td>0.0686033</td>\n",
       "      <td>0.683264</td>\n",
       "      <td>6</td>\n",
       "      <td>0.304614</td>\n",
       "      <td>4</td>\n",
       "      <td>0.846364</td>\n",
       "    </tr>\n",
       "  </tbody>\n",
       "</table>\n",
       "</div>"
      ],
      "text/plain": [
       "   param_n_estimators param_learning_rate param_subsample param_max_depth  \\\n",
       "18               1000            0.048135        0.665922               9   \n",
       "44               1000            0.060484        0.606429               6   \n",
       "97                750            0.232385        0.907694               6   \n",
       "96                500           0.0979629         0.98664               7   \n",
       "62                500           0.0663892        0.328153               9   \n",
       "49                500            0.160277        0.393098               8   \n",
       "84                200            0.571989        0.967581               6   \n",
       "53                200            0.540096        0.928319               6   \n",
       "86               1000            0.475848        0.858413               9   \n",
       "8                 750           0.0686033        0.683264               6   \n",
       "\n",
       "   param_colsample_bytree param_min_child_weight  mean_test_score  \n",
       "18               0.330898                      2         0.859879  \n",
       "44               0.642032                      2         0.855594  \n",
       "97               0.374271                      1         0.855062  \n",
       "96               0.891897                      1         0.854603  \n",
       "62               0.375583                      3         0.851305  \n",
       "49               0.636333                      2         0.851109  \n",
       "84               0.348337                      1         0.850137  \n",
       "53                0.27956                      1         0.849858  \n",
       "86               0.372018                      2         0.849704  \n",
       "8                0.304614                      4         0.846364  "
      ]
     },
     "execution_count": 48,
     "metadata": {},
     "output_type": "execute_result"
    }
   ],
   "source": [
    "results = pd.DataFrame(best_model.cv_results_)\n",
    "results.sort_values('mean_test_score',ascending=False,inplace=True)\n",
    "param_keys=['param_'+str(each) for each in get_xgb_params().keys()]\n",
    "param_keys.append('mean_test_score')\n",
    "results[param_keys].head(10)"
   ]
  },
  {
   "cell_type": "code",
   "execution_count": 50,
   "metadata": {},
   "outputs": [
    {
     "data": {
      "text/plain": [
       "(0.3308980248526492, 0.04813501017161418, 9, 2, 1000, 0.6659223566174967)"
      ]
     },
     "execution_count": 50,
     "metadata": {},
     "output_type": "execute_result"
    }
   ],
   "source": [
    "colsample_bytree = clf.best_params_['colsample_bytree']\n",
    "learning_rate=clf.best_params_['learning_rate']\n",
    "max_depth=clf.best_params_['max_depth']\n",
    "min_child_weight=clf.best_params_['min_child_weight']\n",
    "n_estimators=clf.best_params_['n_estimators']\n",
    "subsample=clf.best_params_['subsample']\n",
    "colsample_bytree,learning_rate,max_depth,min_child_weight,n_estimators,subsample"
   ]
  },
  {
   "cell_type": "code",
   "execution_count": 51,
   "metadata": {},
   "outputs": [
    {
     "data": {
      "text/plain": [
       "XGBClassifier(base_score=0.5, booster='gbtree', colsample_bylevel=1,\n",
       "              colsample_bynode=1, colsample_bytree=0.3308980248526492, gamma=0,\n",
       "              gpu_id=-1, importance_type='gain', interaction_constraints='',\n",
       "              learning_rate=0.04813501017161418, max_delta_step=0, max_depth=9,\n",
       "              min_child_weight=2, missing=nan, monotone_constraints='()',\n",
       "              n_estimators=1000, n_jobs=-1, num_parallel_tree=1, random_state=0,\n",
       "              reg_alpha=0, reg_lambda=1, scale_pos_weight=1,\n",
       "              subsample=0.6659223566174967, tree_method='exact',\n",
       "              validate_parameters=1, verbosity=None)"
      ]
     },
     "execution_count": 51,
     "metadata": {},
     "output_type": "execute_result"
    }
   ],
   "source": [
    "model = XGBClassifier(colsample_bytree=colsample_bytree,learning_rate=learning_rate,max_depth=max_depth,\n",
    "                     min_child_weight=min_child_weight,n_estimators=n_estimators,subsample=subsample,n_jobs=-1)\n",
    "\n",
    "model.fit(train_data,y_train)"
   ]
  },
  {
   "cell_type": "code",
   "execution_count": 53,
   "metadata": {},
   "outputs": [
    {
     "data": {
      "image/png": "[encoded data removed]",
      "text/plain": [
       "<Figure size 432x288 with 1 Axes>"
      ]
     },
     "metadata": {
      "needs_background": "light"
     },
     "output_type": "display_data"
    }
   ],
   "source": [
    "features=train_data.columns\n",
    "importance=model.feature_importances_\n",
    "features=pd.DataFrame({'features':features,'value':importance})\n",
    "features=features.sort_values('value',ascending=False)\n",
    "sns.barplot('value','features',data=features);\n",
    "plt.title('Feature Importance');"
   ]
  },
  {
   "cell_type": "code",
   "execution_count": 54,
   "metadata": {},
   "outputs": [],
   "source": [
    "predictions = model.predict_proba(test_data)[:,1]\n",
    "save_submission(predictions, 'xgb_raw.csv')"
   ]
  },
  {
   "cell_type": "code",
   "execution_count": null,
   "metadata": {},
   "outputs": [],
   "source": []
  },
  {
   "cell_type": "code",
   "execution_count": null,
   "metadata": {},
   "outputs": [],
   "source": []
  },
  {
   "cell_type": "markdown",
   "metadata": {},
   "source": [
    "## Build model on one hot encoded features"
   ]
  },
  {
   "cell_type": "markdown",
   "metadata": {},
   "source": [
    "### 2.1 KNN with one hot encoded features"
   ]
  },
  {
   "cell_type": "code",
   "execution_count": 19,
   "metadata": {},
   "outputs": [
    {
     "data": {
      "text/plain": [
       "((32769, 4500), (58921, 4500), (32769,))"
      ]
     },
     "execution_count": 19,
     "metadata": {},
     "output_type": "execute_result"
    }
   ],
   "source": [
    "train_ohe = sparse.load_npz('data/train_ohe.npz')\n",
    "test_ohe = sparse.load_npz('data/test_ohe.npz')\n",
    "\n",
    "train_ohe.shape, test_ohe.shape, y_train.shape"
   ]
  },
  {
   "cell_type": "code",
   "execution_count": 20,
   "metadata": {},
   "outputs": [
    {
     "name": "stdout",
     "output_type": "stream",
     "text": [
      "Fitting 5 folds for each of 10 candidates, totalling 50 fits\n"
     ]
    },
    {
     "name": "stderr",
     "output_type": "stream",
     "text": [
      "[Parallel(n_jobs=4)]: Using backend LokyBackend with 4 concurrent workers.\n",
      "[Parallel(n_jobs=4)]: Done  33 tasks      | elapsed:  1.7min\n",
      "[Parallel(n_jobs=4)]: Done  50 out of  50 | elapsed:  2.4min finished\n"
     ]
    }
   ],
   "source": [
    "parameters={'n_neighbors':np.arange(1,100, 5)}\n",
    "clf = RandomizedSearchCV(KNeighborsClassifier(n_jobs=-1),parameters,random_state=random_state,cv=cv,verbose=verbose,scoring=scoring,n_jobs=4)\n",
    "best_model = clf.fit(train_ohe,y_train)"
   ]
  },
  {
   "cell_type": "code",
   "execution_count": 21,
   "metadata": {},
   "outputs": [
    {
     "data": {
      "text/html": [
       "<div>\n",
       "<style scoped>\n",
       "    .dataframe tbody tr th:only-of-type {\n",
       "        vertical-align: middle;\n",
       "    }\n",
       "\n",
       "    .dataframe tbody tr th {\n",
       "        vertical-align: top;\n",
       "    }\n",
       "\n",
       "    .dataframe thead th {\n",
       "        text-align: right;\n",
       "    }\n",
       "</style>\n",
       "<table border=\"1\" class=\"dataframe\">\n",
       "  <thead>\n",
       "    <tr style=\"text-align: right;\">\n",
       "      <th></th>\n",
       "      <th>mean_fit_time</th>\n",
       "      <th>std_fit_time</th>\n",
       "      <th>mean_score_time</th>\n",
       "      <th>std_score_time</th>\n",
       "      <th>param_n_neighbors</th>\n",
       "      <th>params</th>\n",
       "      <th>split0_test_score</th>\n",
       "      <th>split1_test_score</th>\n",
       "      <th>split2_test_score</th>\n",
       "      <th>split3_test_score</th>\n",
       "      <th>split4_test_score</th>\n",
       "      <th>mean_test_score</th>\n",
       "      <th>std_test_score</th>\n",
       "      <th>rank_test_score</th>\n",
       "    </tr>\n",
       "  </thead>\n",
       "  <tbody>\n",
       "    <tr>\n",
       "      <th>0</th>\n",
       "      <td>0.006555</td>\n",
       "      <td>0.000700</td>\n",
       "      <td>10.645058</td>\n",
       "      <td>0.929198</td>\n",
       "      <td>1</td>\n",
       "      <td>{'n_neighbors': 1}</td>\n",
       "      <td>0.637669</td>\n",
       "      <td>0.648976</td>\n",
       "      <td>0.623238</td>\n",
       "      <td>0.636597</td>\n",
       "      <td>0.657423</td>\n",
       "      <td>0.640781</td>\n",
       "      <td>0.011654</td>\n",
       "      <td>10</td>\n",
       "    </tr>\n",
       "    <tr>\n",
       "      <th>3</th>\n",
       "      <td>0.016959</td>\n",
       "      <td>0.004260</td>\n",
       "      <td>10.951772</td>\n",
       "      <td>0.202645</td>\n",
       "      <td>6</td>\n",
       "      <td>{'n_neighbors': 6}</td>\n",
       "      <td>0.772541</td>\n",
       "      <td>0.817724</td>\n",
       "      <td>0.780078</td>\n",
       "      <td>0.764374</td>\n",
       "      <td>0.793066</td>\n",
       "      <td>0.785556</td>\n",
       "      <td>0.018651</td>\n",
       "      <td>7</td>\n",
       "    </tr>\n",
       "    <tr>\n",
       "      <th>7</th>\n",
       "      <td>0.009756</td>\n",
       "      <td>0.002644</td>\n",
       "      <td>10.934812</td>\n",
       "      <td>0.238815</td>\n",
       "      <td>16</td>\n",
       "      <td>{'n_neighbors': 16}</td>\n",
       "      <td>0.799350</td>\n",
       "      <td>0.826579</td>\n",
       "      <td>0.798793</td>\n",
       "      <td>0.807640</td>\n",
       "      <td>0.819408</td>\n",
       "      <td>0.810354</td>\n",
       "      <td>0.011021</td>\n",
       "      <td>1</td>\n",
       "    </tr>\n",
       "    <tr>\n",
       "      <th>5</th>\n",
       "      <td>0.012228</td>\n",
       "      <td>0.004394</td>\n",
       "      <td>11.793501</td>\n",
       "      <td>0.161717</td>\n",
       "      <td>26</td>\n",
       "      <td>{'n_neighbors': 26}</td>\n",
       "      <td>0.797242</td>\n",
       "      <td>0.823686</td>\n",
       "      <td>0.803639</td>\n",
       "      <td>0.801732</td>\n",
       "      <td>0.815795</td>\n",
       "      <td>0.808419</td>\n",
       "      <td>0.009798</td>\n",
       "      <td>2</td>\n",
       "    </tr>\n",
       "    <tr>\n",
       "      <th>4</th>\n",
       "      <td>0.009644</td>\n",
       "      <td>0.001508</td>\n",
       "      <td>11.796731</td>\n",
       "      <td>0.637320</td>\n",
       "      <td>41</td>\n",
       "      <td>{'n_neighbors': 41}</td>\n",
       "      <td>0.793851</td>\n",
       "      <td>0.818524</td>\n",
       "      <td>0.801002</td>\n",
       "      <td>0.788353</td>\n",
       "      <td>0.802746</td>\n",
       "      <td>0.800895</td>\n",
       "      <td>0.010209</td>\n",
       "      <td>3</td>\n",
       "    </tr>\n",
       "    <tr>\n",
       "      <th>6</th>\n",
       "      <td>0.008616</td>\n",
       "      <td>0.001666</td>\n",
       "      <td>11.293223</td>\n",
       "      <td>0.298707</td>\n",
       "      <td>56</td>\n",
       "      <td>{'n_neighbors': 56}</td>\n",
       "      <td>0.786070</td>\n",
       "      <td>0.817701</td>\n",
       "      <td>0.795020</td>\n",
       "      <td>0.780427</td>\n",
       "      <td>0.797255</td>\n",
       "      <td>0.795294</td>\n",
       "      <td>0.012744</td>\n",
       "      <td>4</td>\n",
       "    </tr>\n",
       "    <tr>\n",
       "      <th>2</th>\n",
       "      <td>0.008984</td>\n",
       "      <td>0.001381</td>\n",
       "      <td>11.413321</td>\n",
       "      <td>0.929274</td>\n",
       "      <td>76</td>\n",
       "      <td>{'n_neighbors': 76}</td>\n",
       "      <td>0.787624</td>\n",
       "      <td>0.812770</td>\n",
       "      <td>0.781610</td>\n",
       "      <td>0.774486</td>\n",
       "      <td>0.792079</td>\n",
       "      <td>0.789714</td>\n",
       "      <td>0.012955</td>\n",
       "      <td>5</td>\n",
       "    </tr>\n",
       "    <tr>\n",
       "      <th>9</th>\n",
       "      <td>0.016020</td>\n",
       "      <td>0.009590</td>\n",
       "      <td>9.739804</td>\n",
       "      <td>2.040784</td>\n",
       "      <td>81</td>\n",
       "      <td>{'n_neighbors': 81}</td>\n",
       "      <td>0.784840</td>\n",
       "      <td>0.807796</td>\n",
       "      <td>0.781348</td>\n",
       "      <td>0.773990</td>\n",
       "      <td>0.789062</td>\n",
       "      <td>0.787407</td>\n",
       "      <td>0.011329</td>\n",
       "      <td>6</td>\n",
       "    </tr>\n",
       "    <tr>\n",
       "      <th>1</th>\n",
       "      <td>0.009150</td>\n",
       "      <td>0.001799</td>\n",
       "      <td>12.091294</td>\n",
       "      <td>0.740555</td>\n",
       "      <td>86</td>\n",
       "      <td>{'n_neighbors': 86}</td>\n",
       "      <td>0.781589</td>\n",
       "      <td>0.804704</td>\n",
       "      <td>0.778055</td>\n",
       "      <td>0.770839</td>\n",
       "      <td>0.784661</td>\n",
       "      <td>0.783969</td>\n",
       "      <td>0.011344</td>\n",
       "      <td>8</td>\n",
       "    </tr>\n",
       "    <tr>\n",
       "      <th>8</th>\n",
       "      <td>0.009462</td>\n",
       "      <td>0.001561</td>\n",
       "      <td>11.527709</td>\n",
       "      <td>0.549754</td>\n",
       "      <td>91</td>\n",
       "      <td>{'n_neighbors': 91}</td>\n",
       "      <td>0.776625</td>\n",
       "      <td>0.803739</td>\n",
       "      <td>0.776098</td>\n",
       "      <td>0.768254</td>\n",
       "      <td>0.785209</td>\n",
       "      <td>0.781985</td>\n",
       "      <td>0.012129</td>\n",
       "      <td>9</td>\n",
       "    </tr>\n",
       "  </tbody>\n",
       "</table>\n",
       "</div>"
      ],
      "text/plain": [
       "   mean_fit_time  std_fit_time  mean_score_time  std_score_time  \\\n",
       "0       0.006555      0.000700        10.645058        0.929198   \n",
       "3       0.016959      0.004260        10.951772        0.202645   \n",
       "7       0.009756      0.002644        10.934812        0.238815   \n",
       "5       0.012228      0.004394        11.793501        0.161717   \n",
       "4       0.009644      0.001508        11.796731        0.637320   \n",
       "6       0.008616      0.001666        11.293223        0.298707   \n",
       "2       0.008984      0.001381        11.413321        0.929274   \n",
       "9       0.016020      0.009590         9.739804        2.040784   \n",
       "1       0.009150      0.001799        12.091294        0.740555   \n",
       "8       0.009462      0.001561        11.527709        0.549754   \n",
       "\n",
       "  param_n_neighbors               params  split0_test_score  \\\n",
       "0                 1   {'n_neighbors': 1}           0.637669   \n",
       "3                 6   {'n_neighbors': 6}           0.772541   \n",
       "7                16  {'n_neighbors': 16}           0.799350   \n",
       "5                26  {'n_neighbors': 26}           0.797242   \n",
       "4                41  {'n_neighbors': 41}           0.793851   \n",
       "6                56  {'n_neighbors': 56}           0.786070   \n",
       "2                76  {'n_neighbors': 76}           0.787624   \n",
       "9                81  {'n_neighbors': 81}           0.784840   \n",
       "1                86  {'n_neighbors': 86}           0.781589   \n",
       "8                91  {'n_neighbors': 91}           0.776625   \n",
       "\n",
       "   split1_test_score  split2_test_score  split3_test_score  split4_test_score  \\\n",
       "0           0.648976           0.623238           0.636597           0.657423   \n",
       "3           0.817724           0.780078           0.764374           0.793066   \n",
       "7           0.826579           0.798793           0.807640           0.819408   \n",
       "5           0.823686           0.803639           0.801732           0.815795   \n",
       "4           0.818524           0.801002           0.788353           0.802746   \n",
       "6           0.817701           0.795020           0.780427           0.797255   \n",
       "2           0.812770           0.781610           0.774486           0.792079   \n",
       "9           0.807796           0.781348           0.773990           0.789062   \n",
       "1           0.804704           0.778055           0.770839           0.784661   \n",
       "8           0.803739           0.776098           0.768254           0.785209   \n",
       "\n",
       "   mean_test_score  std_test_score  rank_test_score  \n",
       "0         0.640781        0.011654               10  \n",
       "3         0.785556        0.018651                7  \n",
       "7         0.810354        0.011021                1  \n",
       "5         0.808419        0.009798                2  \n",
       "4         0.800895        0.010209                3  \n",
       "6         0.795294        0.012744                4  \n",
       "2         0.789714        0.012955                5  \n",
       "9         0.787407        0.011329                6  \n",
       "1         0.783969        0.011344                8  \n",
       "8         0.781985        0.012129                9  "
      ]
     },
     "execution_count": 21,
     "metadata": {},
     "output_type": "execute_result"
    }
   ],
   "source": [
    "results = pd.DataFrame.from_dict(best_model.cv_results_)\n",
    "results=results.sort_values('param_n_neighbors')\n",
    "results"
   ]
  },
  {
   "cell_type": "code",
   "execution_count": 22,
   "metadata": {},
   "outputs": [
    {
     "data": {
      "image/png": "[encoded data removed]",
      "text/plain": [
       "<Figure size 432x288 with 1 Axes>"
      ]
     },
     "metadata": {
      "needs_background": "light"
     },
     "output_type": "display_data"
    }
   ],
   "source": [
    "print_graph(results, 'param_n_neighbors', 'mean_test_score', 'Hyperparameter - No. of neighbors', 'Test score')  "
   ]
  },
  {
   "cell_type": "code",
   "execution_count": 23,
   "metadata": {},
   "outputs": [
    {
     "data": {
      "text/plain": [
       "16"
      ]
     },
     "execution_count": 23,
     "metadata": {},
     "output_type": "execute_result"
    }
   ],
   "source": [
    "best_c=best_model.best_params_['n_neighbors']\n",
    "best_c"
   ]
  },
  {
   "cell_type": "code",
   "execution_count": 24,
   "metadata": {},
   "outputs": [
    {
     "data": {
      "text/plain": [
       "KNeighborsClassifier(n_jobs=-1, n_neighbors=16)"
      ]
     },
     "execution_count": 24,
     "metadata": {},
     "output_type": "execute_result"
    }
   ],
   "source": [
    "model = KNeighborsClassifier(n_neighbors=best_c,n_jobs=-1)\n",
    "model.fit(train_ohe,y_train)"
   ]
  },
  {
   "cell_type": "code",
   "execution_count": 25,
   "metadata": {},
   "outputs": [],
   "source": [
    "predictions = model.predict_proba(test_ohe)[:,1]\n",
    "save_submission(predictions, \"knn_ohe.csv\")"
   ]
  },
  {
   "cell_type": "code",
   "execution_count": null,
   "metadata": {},
   "outputs": [],
   "source": []
  },
  {
   "cell_type": "markdown",
   "metadata": {},
   "source": [
    "## 2.2 SVM with one hot encoded features"
   ]
  },
  {
   "cell_type": "code",
   "execution_count": 26,
   "metadata": {},
   "outputs": [
    {
     "name": "stdout",
     "output_type": "stream",
     "text": [
      "Fitting 5 folds for each of 10 candidates, totalling 50 fits\n"
     ]
    },
    {
     "name": "stderr",
     "output_type": "stream",
     "text": [
      "[Parallel(n_jobs=-1)]: Using backend LokyBackend with 8 concurrent workers.\n",
      "[Parallel(n_jobs=-1)]: Done  25 tasks      | elapsed:   17.1s\n",
      "[Parallel(n_jobs=-1)]: Done  50 out of  50 | elapsed:   27.4s finished\n"
     ]
    },
    {
     "name": "stdout",
     "output_type": "stream",
     "text": [
      "[LibLinear]"
     ]
    }
   ],
   "source": [
    "C_val = uniform(loc=0, scale=4)\n",
    "model= LinearSVC(verbose=verbose,random_state=random_state,class_weight='balanced',max_iter=2000)\n",
    "parameters={'C':C_val}\n",
    "clf = RandomizedSearchCV(model,parameters,random_state=random_state,cv=cv,verbose=verbose,scoring=scoring,n_jobs=-1)\n",
    "best_model = clf.fit(train_ohe,y_train)"
   ]
  },
  {
   "cell_type": "code",
   "execution_count": 27,
   "metadata": {},
   "outputs": [
    {
     "data": {
      "text/plain": [
       "0.23233444867279784"
      ]
     },
     "execution_count": 27,
     "metadata": {},
     "output_type": "execute_result"
    }
   ],
   "source": [
    "best_c=best_model.best_params_['C']\n",
    "best_c"
   ]
  },
  {
   "cell_type": "code",
   "execution_count": 28,
   "metadata": {},
   "outputs": [
    {
     "data": {
      "text/html": [
       "<div>\n",
       "<style scoped>\n",
       "    .dataframe tbody tr th:only-of-type {\n",
       "        vertical-align: middle;\n",
       "    }\n",
       "\n",
       "    .dataframe tbody tr th {\n",
       "        vertical-align: top;\n",
       "    }\n",
       "\n",
       "    .dataframe thead th {\n",
       "        text-align: right;\n",
       "    }\n",
       "</style>\n",
       "<table border=\"1\" class=\"dataframe\">\n",
       "  <thead>\n",
       "    <tr style=\"text-align: right;\">\n",
       "      <th></th>\n",
       "      <th>mean_fit_time</th>\n",
       "      <th>std_fit_time</th>\n",
       "      <th>mean_score_time</th>\n",
       "      <th>std_score_time</th>\n",
       "      <th>param_C</th>\n",
       "      <th>params</th>\n",
       "      <th>split0_test_score</th>\n",
       "      <th>split1_test_score</th>\n",
       "      <th>split2_test_score</th>\n",
       "      <th>split3_test_score</th>\n",
       "      <th>split4_test_score</th>\n",
       "      <th>mean_test_score</th>\n",
       "      <th>std_test_score</th>\n",
       "      <th>rank_test_score</th>\n",
       "    </tr>\n",
       "  </thead>\n",
       "  <tbody>\n",
       "    <tr>\n",
       "      <th>6</th>\n",
       "      <td>1.665692</td>\n",
       "      <td>0.108757</td>\n",
       "      <td>0.006313</td>\n",
       "      <td>0.001323</td>\n",
       "      <td>0.232334</td>\n",
       "      <td>{'C': 0.23233444867279784}</td>\n",
       "      <td>0.875975</td>\n",
       "      <td>0.877388</td>\n",
       "      <td>0.868423</td>\n",
       "      <td>0.854196</td>\n",
       "      <td>0.876759</td>\n",
       "      <td>0.870548</td>\n",
       "      <td>0.008795</td>\n",
       "      <td>1</td>\n",
       "    </tr>\n",
       "    <tr>\n",
       "      <th>5</th>\n",
       "      <td>3.346733</td>\n",
       "      <td>0.146270</td>\n",
       "      <td>0.006011</td>\n",
       "      <td>0.000766</td>\n",
       "      <td>0.623978</td>\n",
       "      <td>{'C': 0.6239780813448106}</td>\n",
       "      <td>0.863449</td>\n",
       "      <td>0.867204</td>\n",
       "      <td>0.859359</td>\n",
       "      <td>0.839469</td>\n",
       "      <td>0.866949</td>\n",
       "      <td>0.859286</td>\n",
       "      <td>0.010310</td>\n",
       "      <td>2</td>\n",
       "    </tr>\n",
       "    <tr>\n",
       "      <th>4</th>\n",
       "      <td>3.379395</td>\n",
       "      <td>0.230067</td>\n",
       "      <td>0.005820</td>\n",
       "      <td>0.000426</td>\n",
       "      <td>0.624075</td>\n",
       "      <td>{'C': 0.6240745617697461}</td>\n",
       "      <td>0.863445</td>\n",
       "      <td>0.867202</td>\n",
       "      <td>0.859356</td>\n",
       "      <td>0.839466</td>\n",
       "      <td>0.866949</td>\n",
       "      <td>0.859284</td>\n",
       "      <td>0.010310</td>\n",
       "      <td>3</td>\n",
       "    </tr>\n",
       "    <tr>\n",
       "      <th>0</th>\n",
       "      <td>5.286501</td>\n",
       "      <td>0.285730</td>\n",
       "      <td>0.006386</td>\n",
       "      <td>0.000235</td>\n",
       "      <td>1.49816</td>\n",
       "      <td>{'C': 1.49816047538945}</td>\n",
       "      <td>0.853168</td>\n",
       "      <td>0.859763</td>\n",
       "      <td>0.849378</td>\n",
       "      <td>0.826701</td>\n",
       "      <td>0.858361</td>\n",
       "      <td>0.849474</td>\n",
       "      <td>0.011976</td>\n",
       "      <td>4</td>\n",
       "    </tr>\n",
       "    <tr>\n",
       "      <th>3</th>\n",
       "      <td>4.842430</td>\n",
       "      <td>0.183511</td>\n",
       "      <td>0.005510</td>\n",
       "      <td>0.000145</td>\n",
       "      <td>2.39463</td>\n",
       "      <td>{'C': 2.3946339367881464}</td>\n",
       "      <td>0.847499</td>\n",
       "      <td>0.855500</td>\n",
       "      <td>0.843579</td>\n",
       "      <td>0.820130</td>\n",
       "      <td>0.854114</td>\n",
       "      <td>0.844165</td>\n",
       "      <td>0.012780</td>\n",
       "      <td>5</td>\n",
       "    </tr>\n",
       "    <tr>\n",
       "      <th>8</th>\n",
       "      <td>4.411906</td>\n",
       "      <td>0.514393</td>\n",
       "      <td>0.005908</td>\n",
       "      <td>0.001863</td>\n",
       "      <td>2.40446</td>\n",
       "      <td>{'C': 2.404460046972835}</td>\n",
       "      <td>0.847479</td>\n",
       "      <td>0.855422</td>\n",
       "      <td>0.843511</td>\n",
       "      <td>0.820026</td>\n",
       "      <td>0.854117</td>\n",
       "      <td>0.844111</td>\n",
       "      <td>0.012805</td>\n",
       "      <td>6</td>\n",
       "    </tr>\n",
       "    <tr>\n",
       "      <th>9</th>\n",
       "      <td>3.920161</td>\n",
       "      <td>0.269418</td>\n",
       "      <td>0.003479</td>\n",
       "      <td>0.000145</td>\n",
       "      <td>2.83229</td>\n",
       "      <td>{'C': 2.832290311184182}</td>\n",
       "      <td>0.845397</td>\n",
       "      <td>0.853960</td>\n",
       "      <td>0.841066</td>\n",
       "      <td>0.817675</td>\n",
       "      <td>0.852844</td>\n",
       "      <td>0.842189</td>\n",
       "      <td>0.013150</td>\n",
       "      <td>7</td>\n",
       "    </tr>\n",
       "    <tr>\n",
       "      <th>2</th>\n",
       "      <td>4.567836</td>\n",
       "      <td>0.304712</td>\n",
       "      <td>0.005663</td>\n",
       "      <td>0.000212</td>\n",
       "      <td>2.92798</td>\n",
       "      <td>{'C': 2.9279757672456204}</td>\n",
       "      <td>0.845317</td>\n",
       "      <td>0.853648</td>\n",
       "      <td>0.840564</td>\n",
       "      <td>0.817211</td>\n",
       "      <td>0.852536</td>\n",
       "      <td>0.841855</td>\n",
       "      <td>0.013222</td>\n",
       "      <td>8</td>\n",
       "    </tr>\n",
       "    <tr>\n",
       "      <th>7</th>\n",
       "      <td>4.717893</td>\n",
       "      <td>0.223145</td>\n",
       "      <td>0.005428</td>\n",
       "      <td>0.000025</td>\n",
       "      <td>3.4647</td>\n",
       "      <td>{'C': 3.4647045830997407}</td>\n",
       "      <td>0.843165</td>\n",
       "      <td>0.852070</td>\n",
       "      <td>0.838012</td>\n",
       "      <td>0.815041</td>\n",
       "      <td>0.851000</td>\n",
       "      <td>0.839857</td>\n",
       "      <td>0.013443</td>\n",
       "      <td>9</td>\n",
       "    </tr>\n",
       "    <tr>\n",
       "      <th>1</th>\n",
       "      <td>4.484730</td>\n",
       "      <td>0.265796</td>\n",
       "      <td>0.006122</td>\n",
       "      <td>0.000613</td>\n",
       "      <td>3.80286</td>\n",
       "      <td>{'C': 3.8028572256396647}</td>\n",
       "      <td>0.841944</td>\n",
       "      <td>0.851182</td>\n",
       "      <td>0.836607</td>\n",
       "      <td>0.813757</td>\n",
       "      <td>0.850197</td>\n",
       "      <td>0.838738</td>\n",
       "      <td>0.013602</td>\n",
       "      <td>10</td>\n",
       "    </tr>\n",
       "  </tbody>\n",
       "</table>\n",
       "</div>"
      ],
      "text/plain": [
       "   mean_fit_time  std_fit_time  mean_score_time  std_score_time   param_C  \\\n",
       "6       1.665692      0.108757         0.006313        0.001323  0.232334   \n",
       "5       3.346733      0.146270         0.006011        0.000766  0.623978   \n",
       "4       3.379395      0.230067         0.005820        0.000426  0.624075   \n",
       "0       5.286501      0.285730         0.006386        0.000235   1.49816   \n",
       "3       4.842430      0.183511         0.005510        0.000145   2.39463   \n",
       "8       4.411906      0.514393         0.005908        0.001863   2.40446   \n",
       "9       3.920161      0.269418         0.003479        0.000145   2.83229   \n",
       "2       4.567836      0.304712         0.005663        0.000212   2.92798   \n",
       "7       4.717893      0.223145         0.005428        0.000025    3.4647   \n",
       "1       4.484730      0.265796         0.006122        0.000613   3.80286   \n",
       "\n",
       "                       params  split0_test_score  split1_test_score  \\\n",
       "6  {'C': 0.23233444867279784}           0.875975           0.877388   \n",
       "5   {'C': 0.6239780813448106}           0.863449           0.867204   \n",
       "4   {'C': 0.6240745617697461}           0.863445           0.867202   \n",
       "0     {'C': 1.49816047538945}           0.853168           0.859763   \n",
       "3   {'C': 2.3946339367881464}           0.847499           0.855500   \n",
       "8    {'C': 2.404460046972835}           0.847479           0.855422   \n",
       "9    {'C': 2.832290311184182}           0.845397           0.853960   \n",
       "2   {'C': 2.9279757672456204}           0.845317           0.853648   \n",
       "7   {'C': 3.4647045830997407}           0.843165           0.852070   \n",
       "1   {'C': 3.8028572256396647}           0.841944           0.851182   \n",
       "\n",
       "   split2_test_score  split3_test_score  split4_test_score  mean_test_score  \\\n",
       "6           0.868423           0.854196           0.876759         0.870548   \n",
       "5           0.859359           0.839469           0.866949         0.859286   \n",
       "4           0.859356           0.839466           0.866949         0.859284   \n",
       "0           0.849378           0.826701           0.858361         0.849474   \n",
       "3           0.843579           0.820130           0.854114         0.844165   \n",
       "8           0.843511           0.820026           0.854117         0.844111   \n",
       "9           0.841066           0.817675           0.852844         0.842189   \n",
       "2           0.840564           0.817211           0.852536         0.841855   \n",
       "7           0.838012           0.815041           0.851000         0.839857   \n",
       "1           0.836607           0.813757           0.850197         0.838738   \n",
       "\n",
       "   std_test_score  rank_test_score  \n",
       "6        0.008795                1  \n",
       "5        0.010310                2  \n",
       "4        0.010310                3  \n",
       "0        0.011976                4  \n",
       "3        0.012780                5  \n",
       "8        0.012805                6  \n",
       "9        0.013150                7  \n",
       "2        0.013222                8  \n",
       "7        0.013443                9  \n",
       "1        0.013602               10  "
      ]
     },
     "execution_count": 28,
     "metadata": {},
     "output_type": "execute_result"
    }
   ],
   "source": [
    "results = pd.DataFrame.from_dict(best_model.cv_results_)\n",
    "results=results.sort_values('param_C')\n",
    "results"
   ]
  },
  {
   "cell_type": "code",
   "execution_count": 29,
   "metadata": {},
   "outputs": [
    {
     "data": {
      "image/png": "[encoded data removed]",
      "text/plain": [
       "<Figure size 432x288 with 1 Axes>"
      ]
     },
     "metadata": {
      "needs_background": "light"
     },
     "output_type": "display_data"
    }
   ],
   "source": [
    "print_graph(results, 'param_C', 'mean_test_score', 'Hyperparameter - C', 'Test score')"
   ]
  },
  {
   "cell_type": "code",
   "execution_count": 30,
   "metadata": {},
   "outputs": [
    {
     "name": "stdout",
     "output_type": "stream",
     "text": [
      "[LibLinear][LibLinear][LibLinear][LibLinear][LibLinear]"
     ]
    },
    {
     "data": {
      "text/plain": [
       "CalibratedClassifierCV(base_estimator=LinearSVC(C=0.23233444867279784,\n",
       "                                                class_weight='balanced',\n",
       "                                                max_iter=2000, random_state=42,\n",
       "                                                verbose=2))"
      ]
     },
     "execution_count": 30,
     "metadata": {},
     "output_type": "execute_result"
    }
   ],
   "source": [
    "#https://stackoverflow.com/questions/26478000/converting-linearsvcs-decision-function-to-probabilities-scikit-learn-python\n",
    "model = LinearSVC(C=best_c,verbose=verbose,random_state=random_state,class_weight='balanced',max_iter=2000)\n",
    "model = CalibratedClassifierCV(model)\n",
    "model.fit(train_ohe,y_train)"
   ]
  },
  {
   "cell_type": "code",
   "execution_count": 31,
   "metadata": {},
   "outputs": [],
   "source": [
    "predictions = model.predict_proba(test_ohe)[:,1]\n",
    "save_submission(predictions, 'svm_ohe.csv')"
   ]
  },
  {
   "cell_type": "code",
   "execution_count": null,
   "metadata": {},
   "outputs": [],
   "source": []
  },
  {
   "cell_type": "markdown",
   "metadata": {},
   "source": [
    "## 2.3 Logistic Regression with one hot encoded features"
   ]
  },
  {
   "cell_type": "code",
   "execution_count": 32,
   "metadata": {},
   "outputs": [
    {
     "name": "stdout",
     "output_type": "stream",
     "text": [
      "Fitting 5 folds for each of 100 candidates, totalling 500 fits\n"
     ]
    },
    {
     "name": "stderr",
     "output_type": "stream",
     "text": [
      "[Parallel(n_jobs=-1)]: Using backend LokyBackend with 8 concurrent workers.\n",
      "[Parallel(n_jobs=-1)]: Done  25 tasks      | elapsed:    6.5s\n",
      "[Parallel(n_jobs=-1)]: Done 146 tasks      | elapsed:   30.8s\n",
      "[Parallel(n_jobs=-1)]: Done 349 tasks      | elapsed:  1.3min\n",
      "[Parallel(n_jobs=-1)]: Done 500 out of 500 | elapsed:  1.9min finished\n",
      "[Parallel(n_jobs=-1)]: Using backend LokyBackend with 8 concurrent workers.\n",
      "[Parallel(n_jobs=-1)]: Done   1 out of   1 | elapsed:    0.8s finished\n"
     ]
    }
   ],
   "source": [
    "C_val = uniform(loc=0, scale=4)\n",
    "lr= LogisticRegression(verbose=verbose,random_state=random_state,class_weight='balanced',solver='lbfgs',max_iter=500,n_jobs=-1)\n",
    "parameters={'C':C_val}\n",
    "clf = RandomizedSearchCV(lr,parameters,random_state=random_state,cv=cv,verbose=verbose,n_iter=100,scoring=scoring,n_jobs=-1)\n",
    "best_model = clf.fit(train_ohe,y_train)"
   ]
  },
  {
   "cell_type": "code",
   "execution_count": 33,
   "metadata": {},
   "outputs": [
    {
     "data": {
      "text/plain": [
       "0.6820964947491661"
      ]
     },
     "execution_count": 33,
     "metadata": {},
     "output_type": "execute_result"
    }
   ],
   "source": [
    "best_c=best_model.best_params_['C']\n",
    "best_c"
   ]
  },
  {
   "cell_type": "code",
   "execution_count": 34,
   "metadata": {},
   "outputs": [
    {
     "data": {
      "text/html": [
       "<div>\n",
       "<style scoped>\n",
       "    .dataframe tbody tr th:only-of-type {\n",
       "        vertical-align: middle;\n",
       "    }\n",
       "\n",
       "    .dataframe tbody tr th {\n",
       "        vertical-align: top;\n",
       "    }\n",
       "\n",
       "    .dataframe thead th {\n",
       "        text-align: right;\n",
       "    }\n",
       "</style>\n",
       "<table border=\"1\" class=\"dataframe\">\n",
       "  <thead>\n",
       "    <tr style=\"text-align: right;\">\n",
       "      <th></th>\n",
       "      <th>mean_fit_time</th>\n",
       "      <th>std_fit_time</th>\n",
       "      <th>mean_score_time</th>\n",
       "      <th>std_score_time</th>\n",
       "      <th>param_C</th>\n",
       "      <th>params</th>\n",
       "      <th>split0_test_score</th>\n",
       "      <th>split1_test_score</th>\n",
       "      <th>split2_test_score</th>\n",
       "      <th>split3_test_score</th>\n",
       "      <th>split4_test_score</th>\n",
       "      <th>mean_test_score</th>\n",
       "      <th>std_test_score</th>\n",
       "      <th>rank_test_score</th>\n",
       "    </tr>\n",
       "  </thead>\n",
       "  <tbody>\n",
       "    <tr>\n",
       "      <th>72</th>\n",
       "      <td>0.402010</td>\n",
       "      <td>0.039785</td>\n",
       "      <td>0.007355</td>\n",
       "      <td>0.001598</td>\n",
       "      <td>0.0220885</td>\n",
       "      <td>{'C': 0.022088468494409597}</td>\n",
       "      <td>0.829685</td>\n",
       "      <td>0.826673</td>\n",
       "      <td>0.806216</td>\n",
       "      <td>0.819296</td>\n",
       "      <td>0.846943</td>\n",
       "      <td>0.825763</td>\n",
       "      <td>0.013332</td>\n",
       "      <td>100</td>\n",
       "    </tr>\n",
       "    <tr>\n",
       "      <th>10</th>\n",
       "      <td>0.614088</td>\n",
       "      <td>0.059061</td>\n",
       "      <td>0.007151</td>\n",
       "      <td>0.001726</td>\n",
       "      <td>0.082338</td>\n",
       "      <td>{'C': 0.08233797718320979}</td>\n",
       "      <td>0.865434</td>\n",
       "      <td>0.864914</td>\n",
       "      <td>0.844665</td>\n",
       "      <td>0.850616</td>\n",
       "      <td>0.871585</td>\n",
       "      <td>0.859443</td>\n",
       "      <td>0.010095</td>\n",
       "      <td>99</td>\n",
       "    </tr>\n",
       "    <tr>\n",
       "      <th>98</th>\n",
       "      <td>0.813808</td>\n",
       "      <td>0.043571</td>\n",
       "      <td>0.010610</td>\n",
       "      <td>0.005761</td>\n",
       "      <td>0.101677</td>\n",
       "      <td>{'C': 0.10167650697638075}</td>\n",
       "      <td>0.869131</td>\n",
       "      <td>0.868748</td>\n",
       "      <td>0.848990</td>\n",
       "      <td>0.854158</td>\n",
       "      <td>0.874163</td>\n",
       "      <td>0.863038</td>\n",
       "      <td>0.009692</td>\n",
       "      <td>98</td>\n",
       "    </tr>\n",
       "    <tr>\n",
       "      <th>42</th>\n",
       "      <td>0.772666</td>\n",
       "      <td>0.046637</td>\n",
       "      <td>0.015021</td>\n",
       "      <td>0.005916</td>\n",
       "      <td>0.137554</td>\n",
       "      <td>{'C': 0.13755408446087358}</td>\n",
       "      <td>0.873619</td>\n",
       "      <td>0.873387</td>\n",
       "      <td>0.854562</td>\n",
       "      <td>0.858294</td>\n",
       "      <td>0.877240</td>\n",
       "      <td>0.867420</td>\n",
       "      <td>0.009155</td>\n",
       "      <td>97</td>\n",
       "    </tr>\n",
       "    <tr>\n",
       "      <th>58</th>\n",
       "      <td>0.912758</td>\n",
       "      <td>0.067513</td>\n",
       "      <td>0.007433</td>\n",
       "      <td>0.000250</td>\n",
       "      <td>0.180909</td>\n",
       "      <td>{'C': 0.18090915564215226}</td>\n",
       "      <td>0.876668</td>\n",
       "      <td>0.876799</td>\n",
       "      <td>0.858603</td>\n",
       "      <td>0.861092</td>\n",
       "      <td>0.879451</td>\n",
       "      <td>0.870523</td>\n",
       "      <td>0.008808</td>\n",
       "      <td>88</td>\n",
       "    </tr>\n",
       "    <tr>\n",
       "      <th>...</th>\n",
       "      <td>...</td>\n",
       "      <td>...</td>\n",
       "      <td>...</td>\n",
       "      <td>...</td>\n",
       "      <td>...</td>\n",
       "      <td>...</td>\n",
       "      <td>...</td>\n",
       "      <td>...</td>\n",
       "      <td>...</td>\n",
       "      <td>...</td>\n",
       "      <td>...</td>\n",
       "      <td>...</td>\n",
       "      <td>...</td>\n",
       "      <td>...</td>\n",
       "    </tr>\n",
       "    <tr>\n",
       "      <th>1</th>\n",
       "      <td>2.179010</td>\n",
       "      <td>0.046898</td>\n",
       "      <td>0.006497</td>\n",
       "      <td>0.000748</td>\n",
       "      <td>3.80286</td>\n",
       "      <td>{'C': 3.8028572256396647}</td>\n",
       "      <td>0.875063</td>\n",
       "      <td>0.877224</td>\n",
       "      <td>0.867324</td>\n",
       "      <td>0.852923</td>\n",
       "      <td>0.878666</td>\n",
       "      <td>0.870240</td>\n",
       "      <td>0.009502</td>\n",
       "      <td>92</td>\n",
       "    </tr>\n",
       "    <tr>\n",
       "      <th>34</th>\n",
       "      <td>2.533670</td>\n",
       "      <td>0.089338</td>\n",
       "      <td>0.006896</td>\n",
       "      <td>0.000663</td>\n",
       "      <td>3.86253</td>\n",
       "      <td>{'C': 3.8625281322982374}</td>\n",
       "      <td>0.874952</td>\n",
       "      <td>0.877128</td>\n",
       "      <td>0.867242</td>\n",
       "      <td>0.852755</td>\n",
       "      <td>0.878560</td>\n",
       "      <td>0.870127</td>\n",
       "      <td>0.009524</td>\n",
       "      <td>93</td>\n",
       "    </tr>\n",
       "    <tr>\n",
       "      <th>50</th>\n",
       "      <td>2.387026</td>\n",
       "      <td>0.082491</td>\n",
       "      <td>0.007058</td>\n",
       "      <td>0.001786</td>\n",
       "      <td>3.87834</td>\n",
       "      <td>{'C': 3.8783385110582342}</td>\n",
       "      <td>0.874918</td>\n",
       "      <td>0.877105</td>\n",
       "      <td>0.867222</td>\n",
       "      <td>0.852722</td>\n",
       "      <td>0.878531</td>\n",
       "      <td>0.870099</td>\n",
       "      <td>0.009525</td>\n",
       "      <td>94</td>\n",
       "    </tr>\n",
       "    <tr>\n",
       "      <th>11</th>\n",
       "      <td>2.207417</td>\n",
       "      <td>0.122827</td>\n",
       "      <td>0.005258</td>\n",
       "      <td>0.000889</td>\n",
       "      <td>3.87964</td>\n",
       "      <td>{'C': 3.8796394086479773}</td>\n",
       "      <td>0.874916</td>\n",
       "      <td>0.877106</td>\n",
       "      <td>0.867214</td>\n",
       "      <td>0.852707</td>\n",
       "      <td>0.878524</td>\n",
       "      <td>0.870093</td>\n",
       "      <td>0.009530</td>\n",
       "      <td>95</td>\n",
       "    </tr>\n",
       "    <tr>\n",
       "      <th>69</th>\n",
       "      <td>2.775831</td>\n",
       "      <td>0.243438</td>\n",
       "      <td>0.007928</td>\n",
       "      <td>0.001827</td>\n",
       "      <td>3.94755</td>\n",
       "      <td>{'C': 3.947547746402069}</td>\n",
       "      <td>0.874764</td>\n",
       "      <td>0.876979</td>\n",
       "      <td>0.867087</td>\n",
       "      <td>0.852542</td>\n",
       "      <td>0.878435</td>\n",
       "      <td>0.869961</td>\n",
       "      <td>0.009548</td>\n",
       "      <td>96</td>\n",
       "    </tr>\n",
       "  </tbody>\n",
       "</table>\n",
       "<p>100 rows × 14 columns</p>\n",
       "</div>"
      ],
      "text/plain": [
       "    mean_fit_time  std_fit_time  mean_score_time  std_score_time    param_C  \\\n",
       "72       0.402010      0.039785         0.007355        0.001598  0.0220885   \n",
       "10       0.614088      0.059061         0.007151        0.001726   0.082338   \n",
       "98       0.813808      0.043571         0.010610        0.005761   0.101677   \n",
       "42       0.772666      0.046637         0.015021        0.005916   0.137554   \n",
       "58       0.912758      0.067513         0.007433        0.000250   0.180909   \n",
       "..            ...           ...              ...             ...        ...   \n",
       "1        2.179010      0.046898         0.006497        0.000748    3.80286   \n",
       "34       2.533670      0.089338         0.006896        0.000663    3.86253   \n",
       "50       2.387026      0.082491         0.007058        0.001786    3.87834   \n",
       "11       2.207417      0.122827         0.005258        0.000889    3.87964   \n",
       "69       2.775831      0.243438         0.007928        0.001827    3.94755   \n",
       "\n",
       "                         params  split0_test_score  split1_test_score  \\\n",
       "72  {'C': 0.022088468494409597}           0.829685           0.826673   \n",
       "10   {'C': 0.08233797718320979}           0.865434           0.864914   \n",
       "98   {'C': 0.10167650697638075}           0.869131           0.868748   \n",
       "42   {'C': 0.13755408446087358}           0.873619           0.873387   \n",
       "58   {'C': 0.18090915564215226}           0.876668           0.876799   \n",
       "..                          ...                ...                ...   \n",
       "1     {'C': 3.8028572256396647}           0.875063           0.877224   \n",
       "34    {'C': 3.8625281322982374}           0.874952           0.877128   \n",
       "50    {'C': 3.8783385110582342}           0.874918           0.877105   \n",
       "11    {'C': 3.8796394086479773}           0.874916           0.877106   \n",
       "69     {'C': 3.947547746402069}           0.874764           0.876979   \n",
       "\n",
       "    split2_test_score  split3_test_score  split4_test_score  mean_test_score  \\\n",
       "72           0.806216           0.819296           0.846943         0.825763   \n",
       "10           0.844665           0.850616           0.871585         0.859443   \n",
       "98           0.848990           0.854158           0.874163         0.863038   \n",
       "42           0.854562           0.858294           0.877240         0.867420   \n",
       "58           0.858603           0.861092           0.879451         0.870523   \n",
       "..                ...                ...                ...              ...   \n",
       "1            0.867324           0.852923           0.878666         0.870240   \n",
       "34           0.867242           0.852755           0.878560         0.870127   \n",
       "50           0.867222           0.852722           0.878531         0.870099   \n",
       "11           0.867214           0.852707           0.878524         0.870093   \n",
       "69           0.867087           0.852542           0.878435         0.869961   \n",
       "\n",
       "    std_test_score  rank_test_score  \n",
       "72        0.013332              100  \n",
       "10        0.010095               99  \n",
       "98        0.009692               98  \n",
       "42        0.009155               97  \n",
       "58        0.008808               88  \n",
       "..             ...              ...  \n",
       "1         0.009502               92  \n",
       "34        0.009524               93  \n",
       "50        0.009525               94  \n",
       "11        0.009530               95  \n",
       "69        0.009548               96  \n",
       "\n",
       "[100 rows x 14 columns]"
      ]
     },
     "execution_count": 34,
     "metadata": {},
     "output_type": "execute_result"
    }
   ],
   "source": [
    "results = pd.DataFrame.from_dict(best_model.cv_results_)\n",
    "results=results.sort_values('param_C')\n",
    "results"
   ]
  },
  {
   "cell_type": "code",
   "execution_count": 35,
   "metadata": {},
   "outputs": [
    {
     "data": {
      "image/png": "[encoded data removed]",
      "text/plain": [
       "<Figure size 432x288 with 1 Axes>"
      ]
     },
     "metadata": {
      "needs_background": "light"
     },
     "output_type": "display_data"
    }
   ],
   "source": [
    "print_graph(results, 'param_C', 'mean_test_score', 'Hyperparameter - C', 'Test score')"
   ]
  },
  {
   "cell_type": "code",
   "execution_count": 36,
   "metadata": {},
   "outputs": [
    {
     "name": "stderr",
     "output_type": "stream",
     "text": [
      "[Parallel(n_jobs=-1)]: Using backend LokyBackend with 8 concurrent workers.\n",
      "[Parallel(n_jobs=-1)]: Done   1 out of   1 | elapsed:    0.5s finished\n"
     ]
    },
    {
     "data": {
      "text/plain": [
       "LogisticRegression(C=0.6820964947491661, class_weight='balanced', n_jobs=-1,\n",
       "                   random_state=42, verbose=2)"
      ]
     },
     "execution_count": 36,
     "metadata": {},
     "output_type": "execute_result"
    }
   ],
   "source": [
    "model = LogisticRegression(C=best_c,verbose=verbose,n_jobs=-1,random_state=random_state,class_weight='balanced',solver='lbfgs')\n",
    "model.fit(train_ohe,y_train)"
   ]
  },
  {
   "cell_type": "code",
   "execution_count": 37,
   "metadata": {},
   "outputs": [],
   "source": [
    "predictions = model.predict_proba(test_ohe)[:,1]\n",
    "save_submission(predictions, 'lr_ohe.csv')"
   ]
  },
  {
   "cell_type": "code",
   "execution_count": null,
   "metadata": {},
   "outputs": [],
   "source": []
  },
  {
   "cell_type": "markdown",
   "metadata": {},
   "source": [
    "## 2.4 Random Forest with one hot encoded features"
   ]
  },
  {
   "cell_type": "code",
   "execution_count": 38,
   "metadata": {},
   "outputs": [
    {
     "name": "stdout",
     "output_type": "stream",
     "text": [
      "Fitting 5 folds for each of 100 candidates, totalling 500 fits\n"
     ]
    },
    {
     "name": "stderr",
     "output_type": "stream",
     "text": [
      "[Parallel(n_jobs=-1)]: Using backend LokyBackend with 8 concurrent workers.\n",
      "[Parallel(n_jobs=-1)]: Done  25 tasks      | elapsed:    9.7s\n",
      "[Parallel(n_jobs=-1)]: Done 146 tasks      | elapsed:  1.7min\n",
      "[Parallel(n_jobs=-1)]: Done 349 tasks      | elapsed:  3.8min\n",
      "[Parallel(n_jobs=-1)]: Done 500 out of 500 | elapsed:  5.6min finished\n"
     ]
    }
   ],
   "source": [
    "rfc = RandomForestClassifier(random_state=random_state,class_weight='balanced',n_jobs=-1)\n",
    "clf = RandomizedSearchCV(rfc,get_rf_params(),random_state=random_state,cv=cv,verbose=verbose,n_iter=100,scoring=scoring,n_jobs=-1)\n",
    "best_model = clf.fit(train_ohe,y_train)"
   ]
  },
  {
   "cell_type": "code",
   "execution_count": 39,
   "metadata": {},
   "outputs": [
    {
     "data": {
      "text/html": [
       "<div>\n",
       "<style scoped>\n",
       "    .dataframe tbody tr th:only-of-type {\n",
       "        vertical-align: middle;\n",
       "    }\n",
       "\n",
       "    .dataframe tbody tr th {\n",
       "        vertical-align: top;\n",
       "    }\n",
       "\n",
       "    .dataframe thead th {\n",
       "        text-align: right;\n",
       "    }\n",
       "</style>\n",
       "<table border=\"1\" class=\"dataframe\">\n",
       "  <thead>\n",
       "    <tr style=\"text-align: right;\">\n",
       "      <th></th>\n",
       "      <th>param_n_estimators</th>\n",
       "      <th>param_max_depth</th>\n",
       "      <th>param_max_features</th>\n",
       "      <th>param_min_samples_split</th>\n",
       "      <th>mean_test_score</th>\n",
       "    </tr>\n",
       "  </thead>\n",
       "  <tbody>\n",
       "    <tr>\n",
       "      <th>78</th>\n",
       "      <td>700</td>\n",
       "      <td>25</td>\n",
       "      <td>2</td>\n",
       "      <td>7</td>\n",
       "      <td>0.860722</td>\n",
       "    </tr>\n",
       "    <tr>\n",
       "      <th>85</th>\n",
       "      <td>1000</td>\n",
       "      <td>20</td>\n",
       "      <td>3</td>\n",
       "      <td>7</td>\n",
       "      <td>0.855874</td>\n",
       "    </tr>\n",
       "    <tr>\n",
       "      <th>62</th>\n",
       "      <td>500</td>\n",
       "      <td>25</td>\n",
       "      <td>3</td>\n",
       "      <td>5</td>\n",
       "      <td>0.851481</td>\n",
       "    </tr>\n",
       "    <tr>\n",
       "      <th>6</th>\n",
       "      <td>500</td>\n",
       "      <td>20</td>\n",
       "      <td>2</td>\n",
       "      <td>5</td>\n",
       "      <td>0.850966</td>\n",
       "    </tr>\n",
       "    <tr>\n",
       "      <th>11</th>\n",
       "      <td>1000</td>\n",
       "      <td>15</td>\n",
       "      <td>3</td>\n",
       "      <td>7</td>\n",
       "      <td>0.849860</td>\n",
       "    </tr>\n",
       "    <tr>\n",
       "      <th>25</th>\n",
       "      <td>700</td>\n",
       "      <td>15</td>\n",
       "      <td>4</td>\n",
       "      <td>7</td>\n",
       "      <td>0.842645</td>\n",
       "    </tr>\n",
       "    <tr>\n",
       "      <th>19</th>\n",
       "      <td>700</td>\n",
       "      <td>15</td>\n",
       "      <td>4</td>\n",
       "      <td>5</td>\n",
       "      <td>0.841873</td>\n",
       "    </tr>\n",
       "    <tr>\n",
       "      <th>22</th>\n",
       "      <td>200</td>\n",
       "      <td>25</td>\n",
       "      <td>4</td>\n",
       "      <td>10</td>\n",
       "      <td>0.840912</td>\n",
       "    </tr>\n",
       "    <tr>\n",
       "      <th>79</th>\n",
       "      <td>500</td>\n",
       "      <td>25</td>\n",
       "      <td>1</td>\n",
       "      <td>10</td>\n",
       "      <td>0.840153</td>\n",
       "    </tr>\n",
       "    <tr>\n",
       "      <th>82</th>\n",
       "      <td>700</td>\n",
       "      <td>20</td>\n",
       "      <td>5</td>\n",
       "      <td>20</td>\n",
       "      <td>0.839475</td>\n",
       "    </tr>\n",
       "  </tbody>\n",
       "</table>\n",
       "</div>"
      ],
      "text/plain": [
       "   param_n_estimators param_max_depth param_max_features  \\\n",
       "78                700              25                  2   \n",
       "85               1000              20                  3   \n",
       "62                500              25                  3   \n",
       "6                 500              20                  2   \n",
       "11               1000              15                  3   \n",
       "25                700              15                  4   \n",
       "19                700              15                  4   \n",
       "22                200              25                  4   \n",
       "79                500              25                  1   \n",
       "82                700              20                  5   \n",
       "\n",
       "   param_min_samples_split  mean_test_score  \n",
       "78                       7         0.860722  \n",
       "85                       7         0.855874  \n",
       "62                       5         0.851481  \n",
       "6                        5         0.850966  \n",
       "11                       7         0.849860  \n",
       "25                       7         0.842645  \n",
       "19                       5         0.841873  \n",
       "22                      10         0.840912  \n",
       "79                      10         0.840153  \n",
       "82                      20         0.839475  "
      ]
     },
     "execution_count": 39,
     "metadata": {},
     "output_type": "execute_result"
    }
   ],
   "source": [
    "results = pd.DataFrame(best_model.cv_results_)\n",
    "results.sort_values('mean_test_score',ascending=False,inplace=True)\n",
    "param_keys=['param_'+str(each) for each in get_rf_params().keys()]\n",
    "param_keys.append('mean_test_score')\n",
    "results[param_keys].head(10)"
   ]
  },
  {
   "cell_type": "code",
   "execution_count": 40,
   "metadata": {},
   "outputs": [
    {
     "data": {
      "text/plain": [
       "(700, 2, 25, 7)"
      ]
     },
     "execution_count": 40,
     "metadata": {},
     "output_type": "execute_result"
    }
   ],
   "source": [
    "n_estimators=clf.best_params_['n_estimators']\n",
    "max_features=clf.best_params_['max_features']\n",
    "max_depth=clf.best_params_['max_depth']\n",
    "min_samples_split=clf.best_params_['min_samples_split']\n",
    "n_estimators,max_features,max_depth,min_samples_split"
   ]
  },
  {
   "cell_type": "code",
   "execution_count": 41,
   "metadata": {},
   "outputs": [
    {
     "data": {
      "text/plain": [
       "RandomForestClassifier(class_weight='balanced', max_depth=25, max_features=2,\n",
       "                       min_samples_split=7, n_estimators=700, n_jobs=-1,\n",
       "                       random_state=42)"
      ]
     },
     "execution_count": 41,
     "metadata": {},
     "output_type": "execute_result"
    }
   ],
   "source": [
    "model=RandomForestClassifier(n_estimators=n_estimators,max_depth=max_depth,max_features=max_features,\n",
    "                             min_samples_split=min_samples_split,\n",
    "                             random_state=random_state,class_weight='balanced',n_jobs=-1)\n",
    "\n",
    "model.fit(train_ohe,y_train)"
   ]
  },
  {
   "cell_type": "code",
   "execution_count": 44,
   "metadata": {},
   "outputs": [],
   "source": [
    "# features=train_ohe.columns\n",
    "# importance=model.feature_importances_\n",
    "# features=pd.DataFrame({'features':features,'value':importance})\n",
    "# features=features.sort_values('value',ascending=False)\n",
    "# sns.barplot('value','features',data=features);\n",
    "# plt.title('Feature Importance');"
   ]
  },
  {
   "cell_type": "code",
   "execution_count": 45,
   "metadata": {},
   "outputs": [],
   "source": [
    "predictions = model.predict_proba(test_ohe)[:,1]\n",
    "save_submission(predictions, 'rf_ohe.csv')"
   ]
  },
  {
   "cell_type": "code",
   "execution_count": null,
   "metadata": {},
   "outputs": [],
   "source": []
  },
  {
   "cell_type": "markdown",
   "metadata": {},
   "source": [
    "## 2.5 Xgboost with one hot encoded features"
   ]
  },
  {
   "cell_type": "code",
   "execution_count": 46,
   "metadata": {},
   "outputs": [
    {
     "name": "stdout",
     "output_type": "stream",
     "text": [
      "Fitting 5 folds for each of 100 candidates, totalling 500 fits\n"
     ]
    },
    {
     "name": "stderr",
     "output_type": "stream",
     "text": [
      "[Parallel(n_jobs=-1)]: Using backend LokyBackend with 8 concurrent workers.\n",
      "[Parallel(n_jobs=-1)]: Done  25 tasks      | elapsed:    7.3s\n",
      "[Parallel(n_jobs=-1)]: Done 146 tasks      | elapsed:  1.6min\n",
      "[Parallel(n_jobs=-1)]: Done 349 tasks      | elapsed:  4.5min\n",
      "[Parallel(n_jobs=-1)]: Done 500 out of 500 | elapsed:  7.5min finished\n"
     ]
    }
   ],
   "source": [
    "xgb = XGBClassifier()\n",
    "clf = RandomizedSearchCV(xgb,get_xgb_params(),random_state=random_state,cv=cv,verbose=verbose,n_iter=100,scoring=scoring,n_jobs=-1)\n",
    "best_model=clf.fit(train_ohe,y_train)"
   ]
  },
  {
   "cell_type": "code",
   "execution_count": 47,
   "metadata": {},
   "outputs": [
    {
     "data": {
      "text/html": [
       "<div>\n",
       "<style scoped>\n",
       "    .dataframe tbody tr th:only-of-type {\n",
       "        vertical-align: middle;\n",
       "    }\n",
       "\n",
       "    .dataframe tbody tr th {\n",
       "        vertical-align: top;\n",
       "    }\n",
       "\n",
       "    .dataframe thead th {\n",
       "        text-align: right;\n",
       "    }\n",
       "</style>\n",
       "<table border=\"1\" class=\"dataframe\">\n",
       "  <thead>\n",
       "    <tr style=\"text-align: right;\">\n",
       "      <th></th>\n",
       "      <th>param_n_estimators</th>\n",
       "      <th>param_learning_rate</th>\n",
       "      <th>param_subsample</th>\n",
       "      <th>param_max_depth</th>\n",
       "      <th>param_colsample_bytree</th>\n",
       "      <th>param_min_child_weight</th>\n",
       "      <th>mean_test_score</th>\n",
       "    </tr>\n",
       "  </thead>\n",
       "  <tbody>\n",
       "    <tr>\n",
       "      <th>97</th>\n",
       "      <td>750</td>\n",
       "      <td>0.232385</td>\n",
       "      <td>0.907694</td>\n",
       "      <td>6</td>\n",
       "      <td>0.374271</td>\n",
       "      <td>1</td>\n",
       "      <td>0.846718</td>\n",
       "    </tr>\n",
       "    <tr>\n",
       "      <th>80</th>\n",
       "      <td>1000</td>\n",
       "      <td>0.385564</td>\n",
       "      <td>0.905351</td>\n",
       "      <td>3</td>\n",
       "      <td>0.820639</td>\n",
       "      <td>1</td>\n",
       "      <td>0.845197</td>\n",
       "    </tr>\n",
       "    <tr>\n",
       "      <th>86</th>\n",
       "      <td>1000</td>\n",
       "      <td>0.475848</td>\n",
       "      <td>0.858413</td>\n",
       "      <td>9</td>\n",
       "      <td>0.372018</td>\n",
       "      <td>2</td>\n",
       "      <td>0.843883</td>\n",
       "    </tr>\n",
       "    <tr>\n",
       "      <th>84</th>\n",
       "      <td>200</td>\n",
       "      <td>0.571989</td>\n",
       "      <td>0.967581</td>\n",
       "      <td>6</td>\n",
       "      <td>0.348337</td>\n",
       "      <td>1</td>\n",
       "      <td>0.841967</td>\n",
       "    </tr>\n",
       "    <tr>\n",
       "      <th>14</th>\n",
       "      <td>200</td>\n",
       "      <td>0.374221</td>\n",
       "      <td>0.802197</td>\n",
       "      <td>7</td>\n",
       "      <td>0.965255</td>\n",
       "      <td>1</td>\n",
       "      <td>0.841475</td>\n",
       "    </tr>\n",
       "    <tr>\n",
       "      <th>50</th>\n",
       "      <td>500</td>\n",
       "      <td>0.388683</td>\n",
       "      <td>0.645103</td>\n",
       "      <td>4</td>\n",
       "      <td>0.892047</td>\n",
       "      <td>1</td>\n",
       "      <td>0.837885</td>\n",
       "    </tr>\n",
       "    <tr>\n",
       "      <th>53</th>\n",
       "      <td>200</td>\n",
       "      <td>0.540096</td>\n",
       "      <td>0.928319</td>\n",
       "      <td>6</td>\n",
       "      <td>0.27956</td>\n",
       "      <td>1</td>\n",
       "      <td>0.836996</td>\n",
       "    </tr>\n",
       "    <tr>\n",
       "      <th>92</th>\n",
       "      <td>200</td>\n",
       "      <td>0.478778</td>\n",
       "      <td>0.49442</td>\n",
       "      <td>9</td>\n",
       "      <td>0.946195</td>\n",
       "      <td>1</td>\n",
       "      <td>0.835709</td>\n",
       "    </tr>\n",
       "    <tr>\n",
       "      <th>96</th>\n",
       "      <td>500</td>\n",
       "      <td>0.0979629</td>\n",
       "      <td>0.98664</td>\n",
       "      <td>7</td>\n",
       "      <td>0.891897</td>\n",
       "      <td>1</td>\n",
       "      <td>0.835223</td>\n",
       "    </tr>\n",
       "    <tr>\n",
       "      <th>22</th>\n",
       "      <td>1000</td>\n",
       "      <td>0.391846</td>\n",
       "      <td>0.695516</td>\n",
       "      <td>6</td>\n",
       "      <td>0.0314292</td>\n",
       "      <td>1</td>\n",
       "      <td>0.833849</td>\n",
       "    </tr>\n",
       "  </tbody>\n",
       "</table>\n",
       "</div>"
      ],
      "text/plain": [
       "   param_n_estimators param_learning_rate param_subsample param_max_depth  \\\n",
       "97                750            0.232385        0.907694               6   \n",
       "80               1000            0.385564        0.905351               3   \n",
       "86               1000            0.475848        0.858413               9   \n",
       "84                200            0.571989        0.967581               6   \n",
       "14                200            0.374221        0.802197               7   \n",
       "50                500            0.388683        0.645103               4   \n",
       "53                200            0.540096        0.928319               6   \n",
       "92                200            0.478778         0.49442               9   \n",
       "96                500           0.0979629         0.98664               7   \n",
       "22               1000            0.391846        0.695516               6   \n",
       "\n",
       "   param_colsample_bytree param_min_child_weight  mean_test_score  \n",
       "97               0.374271                      1         0.846718  \n",
       "80               0.820639                      1         0.845197  \n",
       "86               0.372018                      2         0.843883  \n",
       "84               0.348337                      1         0.841967  \n",
       "14               0.965255                      1         0.841475  \n",
       "50               0.892047                      1         0.837885  \n",
       "53                0.27956                      1         0.836996  \n",
       "92               0.946195                      1         0.835709  \n",
       "96               0.891897                      1         0.835223  \n",
       "22              0.0314292                      1         0.833849  "
      ]
     },
     "execution_count": 47,
     "metadata": {},
     "output_type": "execute_result"
    }
   ],
   "source": [
    "results = pd.DataFrame(best_model.cv_results_)\n",
    "results.sort_values('mean_test_score',ascending=False,inplace=True)\n",
    "param_keys=['param_'+str(each) for each in get_xgb_params().keys()]\n",
    "param_keys.append('mean_test_score')\n",
    "results[param_keys].head(10)"
   ]
  },
  {
   "cell_type": "code",
   "execution_count": 48,
   "metadata": {},
   "outputs": [
    {
     "data": {
      "text/plain": [
       "(0.3742707957561203, 0.23238528824013455, 6, 1, 750, 0.9076937063485463)"
      ]
     },
     "execution_count": 48,
     "metadata": {},
     "output_type": "execute_result"
    }
   ],
   "source": [
    "colsample_bytree = clf.best_params_['colsample_bytree']\n",
    "learning_rate=clf.best_params_['learning_rate']\n",
    "max_depth=clf.best_params_['max_depth']\n",
    "min_child_weight=clf.best_params_['min_child_weight']\n",
    "n_estimators=clf.best_params_['n_estimators']\n",
    "subsample=clf.best_params_['subsample']\n",
    "colsample_bytree,learning_rate,max_depth,min_child_weight,n_estimators,subsample"
   ]
  },
  {
   "cell_type": "code",
   "execution_count": 49,
   "metadata": {},
   "outputs": [
    {
     "data": {
      "text/plain": [
       "XGBClassifier(base_score=0.5, booster='gbtree', colsample_bylevel=1,\n",
       "              colsample_bynode=1, colsample_bytree=0.3742707957561203, gamma=0,\n",
       "              gpu_id=-1, importance_type='gain', interaction_constraints='',\n",
       "              learning_rate=0.23238528824013455, max_delta_step=0, max_depth=6,\n",
       "              min_child_weight=1, missing=nan, monotone_constraints='()',\n",
       "              n_estimators=750, n_jobs=-1, num_parallel_tree=1, random_state=0,\n",
       "              reg_alpha=0, reg_lambda=1, scale_pos_weight=1,\n",
       "              subsample=0.9076937063485463, tree_method='exact',\n",
       "              validate_parameters=1, verbosity=None)"
      ]
     },
     "execution_count": 49,
     "metadata": {},
     "output_type": "execute_result"
    }
   ],
   "source": [
    "model = XGBClassifier(colsample_bytree=colsample_bytree,learning_rate=learning_rate,max_depth=max_depth,\n",
    "                     min_child_weight=min_child_weight,n_estimators=n_estimators,subsample=subsample,n_jobs=-1)\n",
    "\n",
    "model.fit(train_ohe,y_train)"
   ]
  },
  {
   "cell_type": "code",
   "execution_count": 51,
   "metadata": {},
   "outputs": [],
   "source": [
    "# features=train_ohe.columns\n",
    "# importance=model.feature_importances_\n",
    "# features=pd.DataFrame({'features':features,'value':importance})\n",
    "# features=features.sort_values('value',ascending=False)\n",
    "# sns.barplot('value','features',data=features);\n",
    "# plt.title('Feature Importance');"
   ]
  },
  {
   "cell_type": "code",
   "execution_count": 52,
   "metadata": {},
   "outputs": [],
   "source": [
    "predictions = model.predict_proba(test_ohe)[:,1]\n",
    "save_submission(predictions, 'xgb_ohe.csv')"
   ]
  },
  {
   "cell_type": "code",
   "execution_count": null,
   "metadata": {},
   "outputs": [],
   "source": []
  },
  {
   "cell_type": "markdown",
   "metadata": {},
   "source": [
    "# 3 Build Model on frequency encoding feature"
   ]
  },
  {
   "cell_type": "markdown",
   "metadata": {},
   "source": [
    "## 3.1 KNN with frequency encoding"
   ]
  },
  {
   "cell_type": "code",
   "execution_count": 56,
   "metadata": {},
   "outputs": [],
   "source": [
    "train_df_fc = pd.read_csv('data/train_df_fc.csv')\n",
    "test_df_fc = pd.read_csv('data/test_df_fc.csv')"
   ]
  },
  {
   "cell_type": "code",
   "execution_count": 58,
   "metadata": {},
   "outputs": [
    {
     "data": {
      "text/plain": [
       "((32769, 9), (58921, 9), (32769,))"
      ]
     },
     "execution_count": 58,
     "metadata": {},
     "output_type": "execute_result"
    }
   ],
   "source": [
    "train_df_fc.shape, test_df_fc.shape, y_train.shape"
   ]
  },
  {
   "cell_type": "code",
   "execution_count": 59,
   "metadata": {},
   "outputs": [
    {
     "name": "stdout",
     "output_type": "stream",
     "text": [
      "Fitting 5 folds for each of 10 candidates, totalling 50 fits\n"
     ]
    },
    {
     "name": "stderr",
     "output_type": "stream",
     "text": [
      "[Parallel(n_jobs=-1)]: Using backend LokyBackend with 8 concurrent workers.\n",
      "[Parallel(n_jobs=-1)]: Done  25 tasks      | elapsed:    5.5s\n",
      "[Parallel(n_jobs=-1)]: Done  50 out of  50 | elapsed:    9.9s finished\n"
     ]
    }
   ],
   "source": [
    "parameters={'n_neighbors':np.arange(1,100, 5)}\n",
    "clf = RandomizedSearchCV(KNeighborsClassifier(n_jobs=-1),parameters,random_state=random_state,cv=cv,verbose=verbose,scoring=scoring,n_jobs=-1)\n",
    "best_model = clf.fit(train_df_fc,y_train)"
   ]
  },
  {
   "cell_type": "code",
   "execution_count": 60,
   "metadata": {},
   "outputs": [
    {
     "data": {
      "text/html": [
       "<div>\n",
       "<style scoped>\n",
       "    .dataframe tbody tr th:only-of-type {\n",
       "        vertical-align: middle;\n",
       "    }\n",
       "\n",
       "    .dataframe tbody tr th {\n",
       "        vertical-align: top;\n",
       "    }\n",
       "\n",
       "    .dataframe thead th {\n",
       "        text-align: right;\n",
       "    }\n",
       "</style>\n",
       "<table border=\"1\" class=\"dataframe\">\n",
       "  <thead>\n",
       "    <tr style=\"text-align: right;\">\n",
       "      <th></th>\n",
       "      <th>mean_fit_time</th>\n",
       "      <th>std_fit_time</th>\n",
       "      <th>mean_score_time</th>\n",
       "      <th>std_score_time</th>\n",
       "      <th>param_n_neighbors</th>\n",
       "      <th>params</th>\n",
       "      <th>split0_test_score</th>\n",
       "      <th>split1_test_score</th>\n",
       "      <th>split2_test_score</th>\n",
       "      <th>split3_test_score</th>\n",
       "      <th>split4_test_score</th>\n",
       "      <th>mean_test_score</th>\n",
       "      <th>std_test_score</th>\n",
       "      <th>rank_test_score</th>\n",
       "    </tr>\n",
       "  </thead>\n",
       "  <tbody>\n",
       "    <tr>\n",
       "      <th>0</th>\n",
       "      <td>0.991111</td>\n",
       "      <td>0.183696</td>\n",
       "      <td>0.397176</td>\n",
       "      <td>0.059816</td>\n",
       "      <td>1</td>\n",
       "      <td>{'n_neighbors': 1}</td>\n",
       "      <td>0.689830</td>\n",
       "      <td>0.699702</td>\n",
       "      <td>0.672487</td>\n",
       "      <td>0.691981</td>\n",
       "      <td>0.683082</td>\n",
       "      <td>0.687416</td>\n",
       "      <td>0.009157</td>\n",
       "      <td>10</td>\n",
       "    </tr>\n",
       "    <tr>\n",
       "      <th>3</th>\n",
       "      <td>0.879315</td>\n",
       "      <td>0.135934</td>\n",
       "      <td>0.458961</td>\n",
       "      <td>0.077771</td>\n",
       "      <td>6</td>\n",
       "      <td>{'n_neighbors': 6}</td>\n",
       "      <td>0.782603</td>\n",
       "      <td>0.801378</td>\n",
       "      <td>0.779351</td>\n",
       "      <td>0.785807</td>\n",
       "      <td>0.789640</td>\n",
       "      <td>0.787756</td>\n",
       "      <td>0.007617</td>\n",
       "      <td>2</td>\n",
       "    </tr>\n",
       "    <tr>\n",
       "      <th>7</th>\n",
       "      <td>0.884993</td>\n",
       "      <td>0.122899</td>\n",
       "      <td>0.551275</td>\n",
       "      <td>0.019701</td>\n",
       "      <td>16</td>\n",
       "      <td>{'n_neighbors': 16}</td>\n",
       "      <td>0.780617</td>\n",
       "      <td>0.810798</td>\n",
       "      <td>0.788244</td>\n",
       "      <td>0.793029</td>\n",
       "      <td>0.784501</td>\n",
       "      <td>0.791438</td>\n",
       "      <td>0.010514</td>\n",
       "      <td>1</td>\n",
       "    </tr>\n",
       "    <tr>\n",
       "      <th>5</th>\n",
       "      <td>0.835931</td>\n",
       "      <td>0.085821</td>\n",
       "      <td>0.602055</td>\n",
       "      <td>0.034525</td>\n",
       "      <td>26</td>\n",
       "      <td>{'n_neighbors': 26}</td>\n",
       "      <td>0.784436</td>\n",
       "      <td>0.799879</td>\n",
       "      <td>0.773578</td>\n",
       "      <td>0.792340</td>\n",
       "      <td>0.781795</td>\n",
       "      <td>0.786406</td>\n",
       "      <td>0.009016</td>\n",
       "      <td>3</td>\n",
       "    </tr>\n",
       "    <tr>\n",
       "      <th>4</th>\n",
       "      <td>0.843408</td>\n",
       "      <td>0.175449</td>\n",
       "      <td>0.541291</td>\n",
       "      <td>0.046475</td>\n",
       "      <td>41</td>\n",
       "      <td>{'n_neighbors': 41}</td>\n",
       "      <td>0.764873</td>\n",
       "      <td>0.782251</td>\n",
       "      <td>0.762178</td>\n",
       "      <td>0.783043</td>\n",
       "      <td>0.763852</td>\n",
       "      <td>0.771240</td>\n",
       "      <td>0.009357</td>\n",
       "      <td>4</td>\n",
       "    </tr>\n",
       "    <tr>\n",
       "      <th>6</th>\n",
       "      <td>0.777994</td>\n",
       "      <td>0.179328</td>\n",
       "      <td>0.703416</td>\n",
       "      <td>0.074496</td>\n",
       "      <td>56</td>\n",
       "      <td>{'n_neighbors': 56}</td>\n",
       "      <td>0.749887</td>\n",
       "      <td>0.769348</td>\n",
       "      <td>0.757223</td>\n",
       "      <td>0.767120</td>\n",
       "      <td>0.757640</td>\n",
       "      <td>0.760244</td>\n",
       "      <td>0.007118</td>\n",
       "      <td>5</td>\n",
       "    </tr>\n",
       "    <tr>\n",
       "      <th>2</th>\n",
       "      <td>0.873574</td>\n",
       "      <td>0.084183</td>\n",
       "      <td>0.783552</td>\n",
       "      <td>0.094332</td>\n",
       "      <td>76</td>\n",
       "      <td>{'n_neighbors': 76}</td>\n",
       "      <td>0.735012</td>\n",
       "      <td>0.749768</td>\n",
       "      <td>0.748032</td>\n",
       "      <td>0.750562</td>\n",
       "      <td>0.756848</td>\n",
       "      <td>0.748045</td>\n",
       "      <td>0.007165</td>\n",
       "      <td>6</td>\n",
       "    </tr>\n",
       "    <tr>\n",
       "      <th>9</th>\n",
       "      <td>0.859934</td>\n",
       "      <td>0.169601</td>\n",
       "      <td>0.597329</td>\n",
       "      <td>0.176583</td>\n",
       "      <td>81</td>\n",
       "      <td>{'n_neighbors': 81}</td>\n",
       "      <td>0.733258</td>\n",
       "      <td>0.745024</td>\n",
       "      <td>0.744657</td>\n",
       "      <td>0.746431</td>\n",
       "      <td>0.756481</td>\n",
       "      <td>0.745170</td>\n",
       "      <td>0.007372</td>\n",
       "      <td>7</td>\n",
       "    </tr>\n",
       "    <tr>\n",
       "      <th>1</th>\n",
       "      <td>0.945682</td>\n",
       "      <td>0.208584</td>\n",
       "      <td>0.812918</td>\n",
       "      <td>0.093525</td>\n",
       "      <td>86</td>\n",
       "      <td>{'n_neighbors': 86}</td>\n",
       "      <td>0.731535</td>\n",
       "      <td>0.740285</td>\n",
       "      <td>0.741123</td>\n",
       "      <td>0.741903</td>\n",
       "      <td>0.755343</td>\n",
       "      <td>0.742038</td>\n",
       "      <td>0.007632</td>\n",
       "      <td>8</td>\n",
       "    </tr>\n",
       "    <tr>\n",
       "      <th>8</th>\n",
       "      <td>0.742842</td>\n",
       "      <td>0.139272</td>\n",
       "      <td>0.847516</td>\n",
       "      <td>0.096580</td>\n",
       "      <td>91</td>\n",
       "      <td>{'n_neighbors': 91}</td>\n",
       "      <td>0.730638</td>\n",
       "      <td>0.735961</td>\n",
       "      <td>0.738581</td>\n",
       "      <td>0.739851</td>\n",
       "      <td>0.753802</td>\n",
       "      <td>0.739767</td>\n",
       "      <td>0.007697</td>\n",
       "      <td>9</td>\n",
       "    </tr>\n",
       "  </tbody>\n",
       "</table>\n",
       "</div>"
      ],
      "text/plain": [
       "   mean_fit_time  std_fit_time  mean_score_time  std_score_time  \\\n",
       "0       0.991111      0.183696         0.397176        0.059816   \n",
       "3       0.879315      0.135934         0.458961        0.077771   \n",
       "7       0.884993      0.122899         0.551275        0.019701   \n",
       "5       0.835931      0.085821         0.602055        0.034525   \n",
       "4       0.843408      0.175449         0.541291        0.046475   \n",
       "6       0.777994      0.179328         0.703416        0.074496   \n",
       "2       0.873574      0.084183         0.783552        0.094332   \n",
       "9       0.859934      0.169601         0.597329        0.176583   \n",
       "1       0.945682      0.208584         0.812918        0.093525   \n",
       "8       0.742842      0.139272         0.847516        0.096580   \n",
       "\n",
       "  param_n_neighbors               params  split0_test_score  \\\n",
       "0                 1   {'n_neighbors': 1}           0.689830   \n",
       "3                 6   {'n_neighbors': 6}           0.782603   \n",
       "7                16  {'n_neighbors': 16}           0.780617   \n",
       "5                26  {'n_neighbors': 26}           0.784436   \n",
       "4                41  {'n_neighbors': 41}           0.764873   \n",
       "6                56  {'n_neighbors': 56}           0.749887   \n",
       "2                76  {'n_neighbors': 76}           0.735012   \n",
       "9                81  {'n_neighbors': 81}           0.733258   \n",
       "1                86  {'n_neighbors': 86}           0.731535   \n",
       "8                91  {'n_neighbors': 91}           0.730638   \n",
       "\n",
       "   split1_test_score  split2_test_score  split3_test_score  split4_test_score  \\\n",
       "0           0.699702           0.672487           0.691981           0.683082   \n",
       "3           0.801378           0.779351           0.785807           0.789640   \n",
       "7           0.810798           0.788244           0.793029           0.784501   \n",
       "5           0.799879           0.773578           0.792340           0.781795   \n",
       "4           0.782251           0.762178           0.783043           0.763852   \n",
       "6           0.769348           0.757223           0.767120           0.757640   \n",
       "2           0.749768           0.748032           0.750562           0.756848   \n",
       "9           0.745024           0.744657           0.746431           0.756481   \n",
       "1           0.740285           0.741123           0.741903           0.755343   \n",
       "8           0.735961           0.738581           0.739851           0.753802   \n",
       "\n",
       "   mean_test_score  std_test_score  rank_test_score  \n",
       "0         0.687416        0.009157               10  \n",
       "3         0.787756        0.007617                2  \n",
       "7         0.791438        0.010514                1  \n",
       "5         0.786406        0.009016                3  \n",
       "4         0.771240        0.009357                4  \n",
       "6         0.760244        0.007118                5  \n",
       "2         0.748045        0.007165                6  \n",
       "9         0.745170        0.007372                7  \n",
       "1         0.742038        0.007632                8  \n",
       "8         0.739767        0.007697                9  "
      ]
     },
     "execution_count": 60,
     "metadata": {},
     "output_type": "execute_result"
    }
   ],
   "source": [
    "results = pd.DataFrame.from_dict(best_model.cv_results_)\n",
    "results=results.sort_values('param_n_neighbors')\n",
    "results"
   ]
  },
  {
   "cell_type": "code",
   "execution_count": 61,
   "metadata": {},
   "outputs": [
    {
     "data": {
      "image/png": "[encoded data removed]",
      "text/plain": [
       "<Figure size 432x288 with 1 Axes>"
      ]
     },
     "metadata": {
      "needs_background": "light"
     },
     "output_type": "display_data"
    }
   ],
   "source": [
    "print_graph(results, 'param_n_neighbors', 'mean_test_score', 'Hyperparameter - No. of neighbors', 'Test score')  "
   ]
  },
  {
   "cell_type": "code",
   "execution_count": 62,
   "metadata": {},
   "outputs": [
    {
     "data": {
      "text/plain": [
       "16"
      ]
     },
     "execution_count": 62,
     "metadata": {},
     "output_type": "execute_result"
    }
   ],
   "source": [
    "best_c=best_model.best_params_['n_neighbors']\n",
    "best_c"
   ]
  },
  {
   "cell_type": "code",
   "execution_count": 63,
   "metadata": {},
   "outputs": [
    {
     "data": {
      "text/plain": [
       "KNeighborsClassifier(n_jobs=-1, n_neighbors=16)"
      ]
     },
     "execution_count": 63,
     "metadata": {},
     "output_type": "execute_result"
    }
   ],
   "source": [
    "model = KNeighborsClassifier(n_neighbors=best_c,n_jobs=-1)\n",
    "model.fit(train_df_fc,y_train)"
   ]
  },
  {
   "cell_type": "code",
   "execution_count": 64,
   "metadata": {},
   "outputs": [],
   "source": [
    "predictions = model.predict_proba(test_df_fc)[:,1]\n",
    "save_submission(predictions, \"knn_fc.csv\")"
   ]
  },
  {
   "cell_type": "code",
   "execution_count": null,
   "metadata": {},
   "outputs": [],
   "source": []
  },
  {
   "cell_type": "markdown",
   "metadata": {},
   "source": [
    "## 3.2 SVM with frequency encoding"
   ]
  },
  {
   "cell_type": "code",
   "execution_count": 65,
   "metadata": {},
   "outputs": [
    {
     "name": "stdout",
     "output_type": "stream",
     "text": [
      "Fitting 5 folds for each of 10 candidates, totalling 50 fits\n"
     ]
    },
    {
     "name": "stderr",
     "output_type": "stream",
     "text": [
      "[Parallel(n_jobs=-1)]: Using backend LokyBackend with 8 concurrent workers.\n",
      "[Parallel(n_jobs=-1)]: Done  25 tasks      | elapsed:   17.3s\n",
      "[Parallel(n_jobs=-1)]: Done  50 out of  50 | elapsed:   31.1s finished\n"
     ]
    },
    {
     "name": "stdout",
     "output_type": "stream",
     "text": [
      "[LibLinear]"
     ]
    }
   ],
   "source": [
    "C_val = uniform(loc=0, scale=4)\n",
    "model= LinearSVC(verbose=verbose,random_state=random_state,class_weight='balanced',max_iter=2000)\n",
    "parameters={'C':C_val}\n",
    "clf = RandomizedSearchCV(model,parameters,random_state=random_state,cv=cv,verbose=verbose,scoring=scoring,n_jobs=-1)\n",
    "best_model = clf.fit(train_df_fc,y_train)"
   ]
  },
  {
   "cell_type": "code",
   "execution_count": 66,
   "metadata": {},
   "outputs": [
    {
     "data": {
      "text/plain": [
       "3.4647045830997407"
      ]
     },
     "execution_count": 66,
     "metadata": {},
     "output_type": "execute_result"
    }
   ],
   "source": [
    "best_c=best_model.best_params_['C']\n",
    "best_c"
   ]
  },
  {
   "cell_type": "code",
   "execution_count": 67,
   "metadata": {},
   "outputs": [
    {
     "data": {
      "text/html": [
       "<div>\n",
       "<style scoped>\n",
       "    .dataframe tbody tr th:only-of-type {\n",
       "        vertical-align: middle;\n",
       "    }\n",
       "\n",
       "    .dataframe tbody tr th {\n",
       "        vertical-align: top;\n",
       "    }\n",
       "\n",
       "    .dataframe thead th {\n",
       "        text-align: right;\n",
       "    }\n",
       "</style>\n",
       "<table border=\"1\" class=\"dataframe\">\n",
       "  <thead>\n",
       "    <tr style=\"text-align: right;\">\n",
       "      <th></th>\n",
       "      <th>mean_fit_time</th>\n",
       "      <th>std_fit_time</th>\n",
       "      <th>mean_score_time</th>\n",
       "      <th>std_score_time</th>\n",
       "      <th>param_C</th>\n",
       "      <th>params</th>\n",
       "      <th>split0_test_score</th>\n",
       "      <th>split1_test_score</th>\n",
       "      <th>split2_test_score</th>\n",
       "      <th>split3_test_score</th>\n",
       "      <th>split4_test_score</th>\n",
       "      <th>mean_test_score</th>\n",
       "      <th>std_test_score</th>\n",
       "      <th>rank_test_score</th>\n",
       "    </tr>\n",
       "  </thead>\n",
       "  <tbody>\n",
       "    <tr>\n",
       "      <th>6</th>\n",
       "      <td>0.660086</td>\n",
       "      <td>0.017374</td>\n",
       "      <td>0.008614</td>\n",
       "      <td>0.000488</td>\n",
       "      <td>0.232334</td>\n",
       "      <td>{'C': 0.23233444867279784}</td>\n",
       "      <td>0.596242</td>\n",
       "      <td>0.592806</td>\n",
       "      <td>0.589267</td>\n",
       "      <td>0.589870</td>\n",
       "      <td>0.616262</td>\n",
       "      <td>0.596889</td>\n",
       "      <td>0.009998</td>\n",
       "      <td>10</td>\n",
       "    </tr>\n",
       "    <tr>\n",
       "      <th>5</th>\n",
       "      <td>1.545461</td>\n",
       "      <td>0.046888</td>\n",
       "      <td>0.008634</td>\n",
       "      <td>0.000531</td>\n",
       "      <td>0.623978</td>\n",
       "      <td>{'C': 0.6239780813448106}</td>\n",
       "      <td>0.598835</td>\n",
       "      <td>0.598629</td>\n",
       "      <td>0.594103</td>\n",
       "      <td>0.590754</td>\n",
       "      <td>0.618887</td>\n",
       "      <td>0.600242</td>\n",
       "      <td>0.009797</td>\n",
       "      <td>8</td>\n",
       "    </tr>\n",
       "    <tr>\n",
       "      <th>4</th>\n",
       "      <td>1.520200</td>\n",
       "      <td>0.027312</td>\n",
       "      <td>0.008497</td>\n",
       "      <td>0.000279</td>\n",
       "      <td>0.624075</td>\n",
       "      <td>{'C': 0.6240745617697461}</td>\n",
       "      <td>0.598836</td>\n",
       "      <td>0.598628</td>\n",
       "      <td>0.594102</td>\n",
       "      <td>0.590755</td>\n",
       "      <td>0.618887</td>\n",
       "      <td>0.600242</td>\n",
       "      <td>0.009797</td>\n",
       "      <td>9</td>\n",
       "    </tr>\n",
       "    <tr>\n",
       "      <th>0</th>\n",
       "      <td>3.399906</td>\n",
       "      <td>0.065053</td>\n",
       "      <td>0.008735</td>\n",
       "      <td>0.000205</td>\n",
       "      <td>1.49816</td>\n",
       "      <td>{'C': 1.49816047538945}</td>\n",
       "      <td>0.599720</td>\n",
       "      <td>0.603314</td>\n",
       "      <td>0.596806</td>\n",
       "      <td>0.590896</td>\n",
       "      <td>0.619533</td>\n",
       "      <td>0.602054</td>\n",
       "      <td>0.009639</td>\n",
       "      <td>7</td>\n",
       "    </tr>\n",
       "    <tr>\n",
       "      <th>3</th>\n",
       "      <td>5.481297</td>\n",
       "      <td>0.139391</td>\n",
       "      <td>0.008909</td>\n",
       "      <td>0.001057</td>\n",
       "      <td>2.39463</td>\n",
       "      <td>{'C': 2.3946339367881464}</td>\n",
       "      <td>0.599911</td>\n",
       "      <td>0.604767</td>\n",
       "      <td>0.597368</td>\n",
       "      <td>0.590228</td>\n",
       "      <td>0.619655</td>\n",
       "      <td>0.602386</td>\n",
       "      <td>0.009829</td>\n",
       "      <td>5</td>\n",
       "    </tr>\n",
       "    <tr>\n",
       "      <th>8</th>\n",
       "      <td>5.338629</td>\n",
       "      <td>0.086250</td>\n",
       "      <td>0.009277</td>\n",
       "      <td>0.001996</td>\n",
       "      <td>2.40446</td>\n",
       "      <td>{'C': 2.404460046972835}</td>\n",
       "      <td>0.599903</td>\n",
       "      <td>0.604776</td>\n",
       "      <td>0.597367</td>\n",
       "      <td>0.590224</td>\n",
       "      <td>0.619659</td>\n",
       "      <td>0.602386</td>\n",
       "      <td>0.009832</td>\n",
       "      <td>6</td>\n",
       "    </tr>\n",
       "    <tr>\n",
       "      <th>9</th>\n",
       "      <td>5.073023</td>\n",
       "      <td>0.532082</td>\n",
       "      <td>0.005769</td>\n",
       "      <td>0.001041</td>\n",
       "      <td>2.83229</td>\n",
       "      <td>{'C': 2.832290311184182}</td>\n",
       "      <td>0.600041</td>\n",
       "      <td>0.605195</td>\n",
       "      <td>0.597402</td>\n",
       "      <td>0.590054</td>\n",
       "      <td>0.619668</td>\n",
       "      <td>0.602472</td>\n",
       "      <td>0.009889</td>\n",
       "      <td>4</td>\n",
       "    </tr>\n",
       "    <tr>\n",
       "      <th>2</th>\n",
       "      <td>6.768211</td>\n",
       "      <td>0.148776</td>\n",
       "      <td>0.008396</td>\n",
       "      <td>0.000148</td>\n",
       "      <td>2.92798</td>\n",
       "      <td>{'C': 2.9279757672456204}</td>\n",
       "      <td>0.600091</td>\n",
       "      <td>0.605287</td>\n",
       "      <td>0.597393</td>\n",
       "      <td>0.590013</td>\n",
       "      <td>0.619653</td>\n",
       "      <td>0.602487</td>\n",
       "      <td>0.009897</td>\n",
       "      <td>3</td>\n",
       "    </tr>\n",
       "    <tr>\n",
       "      <th>7</th>\n",
       "      <td>8.421839</td>\n",
       "      <td>0.690331</td>\n",
       "      <td>0.011411</td>\n",
       "      <td>0.006144</td>\n",
       "      <td>3.4647</td>\n",
       "      <td>{'C': 3.4647045830997407}</td>\n",
       "      <td>0.600137</td>\n",
       "      <td>0.605531</td>\n",
       "      <td>0.597598</td>\n",
       "      <td>0.589721</td>\n",
       "      <td>0.619510</td>\n",
       "      <td>0.602500</td>\n",
       "      <td>0.009914</td>\n",
       "      <td>1</td>\n",
       "    </tr>\n",
       "    <tr>\n",
       "      <th>1</th>\n",
       "      <td>9.505879</td>\n",
       "      <td>0.670729</td>\n",
       "      <td>0.008447</td>\n",
       "      <td>0.000100</td>\n",
       "      <td>3.80286</td>\n",
       "      <td>{'C': 3.8028572256396647}</td>\n",
       "      <td>0.600128</td>\n",
       "      <td>0.605674</td>\n",
       "      <td>0.597598</td>\n",
       "      <td>0.589540</td>\n",
       "      <td>0.619514</td>\n",
       "      <td>0.602491</td>\n",
       "      <td>0.009972</td>\n",
       "      <td>2</td>\n",
       "    </tr>\n",
       "  </tbody>\n",
       "</table>\n",
       "</div>"
      ],
      "text/plain": [
       "   mean_fit_time  std_fit_time  mean_score_time  std_score_time   param_C  \\\n",
       "6       0.660086      0.017374         0.008614        0.000488  0.232334   \n",
       "5       1.545461      0.046888         0.008634        0.000531  0.623978   \n",
       "4       1.520200      0.027312         0.008497        0.000279  0.624075   \n",
       "0       3.399906      0.065053         0.008735        0.000205   1.49816   \n",
       "3       5.481297      0.139391         0.008909        0.001057   2.39463   \n",
       "8       5.338629      0.086250         0.009277        0.001996   2.40446   \n",
       "9       5.073023      0.532082         0.005769        0.001041   2.83229   \n",
       "2       6.768211      0.148776         0.008396        0.000148   2.92798   \n",
       "7       8.421839      0.690331         0.011411        0.006144    3.4647   \n",
       "1       9.505879      0.670729         0.008447        0.000100   3.80286   \n",
       "\n",
       "                       params  split0_test_score  split1_test_score  \\\n",
       "6  {'C': 0.23233444867279784}           0.596242           0.592806   \n",
       "5   {'C': 0.6239780813448106}           0.598835           0.598629   \n",
       "4   {'C': 0.6240745617697461}           0.598836           0.598628   \n",
       "0     {'C': 1.49816047538945}           0.599720           0.603314   \n",
       "3   {'C': 2.3946339367881464}           0.599911           0.604767   \n",
       "8    {'C': 2.404460046972835}           0.599903           0.604776   \n",
       "9    {'C': 2.832290311184182}           0.600041           0.605195   \n",
       "2   {'C': 2.9279757672456204}           0.600091           0.605287   \n",
       "7   {'C': 3.4647045830997407}           0.600137           0.605531   \n",
       "1   {'C': 3.8028572256396647}           0.600128           0.605674   \n",
       "\n",
       "   split2_test_score  split3_test_score  split4_test_score  mean_test_score  \\\n",
       "6           0.589267           0.589870           0.616262         0.596889   \n",
       "5           0.594103           0.590754           0.618887         0.600242   \n",
       "4           0.594102           0.590755           0.618887         0.600242   \n",
       "0           0.596806           0.590896           0.619533         0.602054   \n",
       "3           0.597368           0.590228           0.619655         0.602386   \n",
       "8           0.597367           0.590224           0.619659         0.602386   \n",
       "9           0.597402           0.590054           0.619668         0.602472   \n",
       "2           0.597393           0.590013           0.619653         0.602487   \n",
       "7           0.597598           0.589721           0.619510         0.602500   \n",
       "1           0.597598           0.589540           0.619514         0.602491   \n",
       "\n",
       "   std_test_score  rank_test_score  \n",
       "6        0.009998               10  \n",
       "5        0.009797                8  \n",
       "4        0.009797                9  \n",
       "0        0.009639                7  \n",
       "3        0.009829                5  \n",
       "8        0.009832                6  \n",
       "9        0.009889                4  \n",
       "2        0.009897                3  \n",
       "7        0.009914                1  \n",
       "1        0.009972                2  "
      ]
     },
     "execution_count": 67,
     "metadata": {},
     "output_type": "execute_result"
    }
   ],
   "source": [
    "results = pd.DataFrame.from_dict(best_model.cv_results_)\n",
    "results=results.sort_values('param_C')\n",
    "results"
   ]
  },
  {
   "cell_type": "code",
   "execution_count": 68,
   "metadata": {},
   "outputs": [
    {
     "data": {
      "image/png": "[encoded data removed]",
      "text/plain": [
       "<Figure size 432x288 with 1 Axes>"
      ]
     },
     "metadata": {
      "needs_background": "light"
     },
     "output_type": "display_data"
    }
   ],
   "source": [
    "print_graph(results, 'param_C', 'mean_test_score', 'Hyperparameter - C', 'Test score')"
   ]
  },
  {
   "cell_type": "code",
   "execution_count": 69,
   "metadata": {},
   "outputs": [
    {
     "name": "stdout",
     "output_type": "stream",
     "text": [
      "[LibLinear][LibLinear][LibLinear][LibLinear][LibLinear]"
     ]
    },
    {
     "data": {
      "text/plain": [
       "CalibratedClassifierCV(base_estimator=LinearSVC(C=3.4647045830997407,\n",
       "                                                class_weight='balanced',\n",
       "                                                max_iter=2000, random_state=42,\n",
       "                                                verbose=2))"
      ]
     },
     "execution_count": 69,
     "metadata": {},
     "output_type": "execute_result"
    }
   ],
   "source": [
    "#https://stackoverflow.com/questions/26478000/converting-linearsvcs-decision-function-to-probabilities-scikit-learn-python\n",
    "model = LinearSVC(C=best_c,verbose=verbose,random_state=random_state,class_weight='balanced',max_iter=2000)\n",
    "model = CalibratedClassifierCV(model)\n",
    "model.fit(train_df_fc,y_train)"
   ]
  },
  {
   "cell_type": "code",
   "execution_count": 70,
   "metadata": {},
   "outputs": [],
   "source": [
    "predictions = model.predict_proba(test_df_fc)[:,1]\n",
    "save_submission(predictions, 'svm_fc.csv')"
   ]
  },
  {
   "cell_type": "code",
   "execution_count": null,
   "metadata": {},
   "outputs": [],
   "source": []
  },
  {
   "cell_type": "markdown",
   "metadata": {},
   "source": [
    "## 3.3 Logistic Regression with frequency encoding"
   ]
  },
  {
   "cell_type": "code",
   "execution_count": 71,
   "metadata": {},
   "outputs": [
    {
     "name": "stdout",
     "output_type": "stream",
     "text": [
      "Fitting 5 folds for each of 100 candidates, totalling 500 fits\n"
     ]
    },
    {
     "name": "stderr",
     "output_type": "stream",
     "text": [
      "[Parallel(n_jobs=-1)]: Using backend LokyBackend with 8 concurrent workers.\n",
      "[Parallel(n_jobs=-1)]: Done  25 tasks      | elapsed:    1.6s\n",
      "[Parallel(n_jobs=-1)]: Done 146 tasks      | elapsed:    7.7s\n",
      "[Parallel(n_jobs=-1)]: Done 349 tasks      | elapsed:   18.9s\n",
      "[Parallel(n_jobs=-1)]: Done 500 out of 500 | elapsed:   27.5s finished\n",
      "[Parallel(n_jobs=-1)]: Using backend LokyBackend with 8 concurrent workers.\n",
      "[Parallel(n_jobs=-1)]: Done   1 out of   1 | elapsed:    0.4s finished\n"
     ]
    }
   ],
   "source": [
    "C_val = uniform(loc=0, scale=4)\n",
    "lr= LogisticRegression(verbose=verbose,random_state=random_state,class_weight='balanced',solver='lbfgs',max_iter=500,n_jobs=-1)\n",
    "parameters={'C':C_val}\n",
    "clf = RandomizedSearchCV(lr,parameters,random_state=random_state,cv=cv,verbose=verbose,n_iter=100,scoring=scoring,n_jobs=-1)\n",
    "best_model = clf.fit(train_df_fc,y_train)"
   ]
  },
  {
   "cell_type": "code",
   "execution_count": 72,
   "metadata": {},
   "outputs": [
    {
     "data": {
      "text/plain": [
       "3.947547746402069"
      ]
     },
     "execution_count": 72,
     "metadata": {},
     "output_type": "execute_result"
    }
   ],
   "source": [
    "best_c=best_model.best_params_['C']\n",
    "best_c"
   ]
  },
  {
   "cell_type": "code",
   "execution_count": 73,
   "metadata": {},
   "outputs": [
    {
     "data": {
      "text/html": [
       "<div>\n",
       "<style scoped>\n",
       "    .dataframe tbody tr th:only-of-type {\n",
       "        vertical-align: middle;\n",
       "    }\n",
       "\n",
       "    .dataframe tbody tr th {\n",
       "        vertical-align: top;\n",
       "    }\n",
       "\n",
       "    .dataframe thead th {\n",
       "        text-align: right;\n",
       "    }\n",
       "</style>\n",
       "<table border=\"1\" class=\"dataframe\">\n",
       "  <thead>\n",
       "    <tr style=\"text-align: right;\">\n",
       "      <th></th>\n",
       "      <th>mean_fit_time</th>\n",
       "      <th>std_fit_time</th>\n",
       "      <th>mean_score_time</th>\n",
       "      <th>std_score_time</th>\n",
       "      <th>param_C</th>\n",
       "      <th>params</th>\n",
       "      <th>split0_test_score</th>\n",
       "      <th>split1_test_score</th>\n",
       "      <th>split2_test_score</th>\n",
       "      <th>split3_test_score</th>\n",
       "      <th>split4_test_score</th>\n",
       "      <th>mean_test_score</th>\n",
       "      <th>std_test_score</th>\n",
       "      <th>rank_test_score</th>\n",
       "    </tr>\n",
       "  </thead>\n",
       "  <tbody>\n",
       "    <tr>\n",
       "      <th>72</th>\n",
       "      <td>0.228973</td>\n",
       "      <td>0.004824</td>\n",
       "      <td>0.010685</td>\n",
       "      <td>0.001596</td>\n",
       "      <td>0.0220885</td>\n",
       "      <td>{'C': 0.022088468494409597}</td>\n",
       "      <td>0.572784</td>\n",
       "      <td>0.564601</td>\n",
       "      <td>0.561810</td>\n",
       "      <td>0.579600</td>\n",
       "      <td>0.592248</td>\n",
       "      <td>0.574209</td>\n",
       "      <td>0.010978</td>\n",
       "      <td>100</td>\n",
       "    </tr>\n",
       "    <tr>\n",
       "      <th>10</th>\n",
       "      <td>0.234010</td>\n",
       "      <td>0.017427</td>\n",
       "      <td>0.007461</td>\n",
       "      <td>0.002247</td>\n",
       "      <td>0.082338</td>\n",
       "      <td>{'C': 0.08233797718320979}</td>\n",
       "      <td>0.576081</td>\n",
       "      <td>0.570211</td>\n",
       "      <td>0.569417</td>\n",
       "      <td>0.584004</td>\n",
       "      <td>0.590101</td>\n",
       "      <td>0.577963</td>\n",
       "      <td>0.008006</td>\n",
       "      <td>99</td>\n",
       "    </tr>\n",
       "    <tr>\n",
       "      <th>98</th>\n",
       "      <td>0.229021</td>\n",
       "      <td>0.005651</td>\n",
       "      <td>0.009482</td>\n",
       "      <td>0.001367</td>\n",
       "      <td>0.101677</td>\n",
       "      <td>{'C': 0.10167650697638075}</td>\n",
       "      <td>0.578311</td>\n",
       "      <td>0.571484</td>\n",
       "      <td>0.571928</td>\n",
       "      <td>0.586633</td>\n",
       "      <td>0.590390</td>\n",
       "      <td>0.579749</td>\n",
       "      <td>0.007644</td>\n",
       "      <td>98</td>\n",
       "    </tr>\n",
       "    <tr>\n",
       "      <th>42</th>\n",
       "      <td>0.229497</td>\n",
       "      <td>0.003935</td>\n",
       "      <td>0.009067</td>\n",
       "      <td>0.001537</td>\n",
       "      <td>0.137554</td>\n",
       "      <td>{'C': 0.13755408446087358}</td>\n",
       "      <td>0.581972</td>\n",
       "      <td>0.574516</td>\n",
       "      <td>0.576192</td>\n",
       "      <td>0.590778</td>\n",
       "      <td>0.591770</td>\n",
       "      <td>0.583046</td>\n",
       "      <td>0.007166</td>\n",
       "      <td>97</td>\n",
       "    </tr>\n",
       "    <tr>\n",
       "      <th>58</th>\n",
       "      <td>0.279884</td>\n",
       "      <td>0.048332</td>\n",
       "      <td>0.010730</td>\n",
       "      <td>0.002777</td>\n",
       "      <td>0.180909</td>\n",
       "      <td>{'C': 0.18090915564215226}</td>\n",
       "      <td>0.586059</td>\n",
       "      <td>0.577597</td>\n",
       "      <td>0.579853</td>\n",
       "      <td>0.593481</td>\n",
       "      <td>0.593861</td>\n",
       "      <td>0.586170</td>\n",
       "      <td>0.006723</td>\n",
       "      <td>96</td>\n",
       "    </tr>\n",
       "    <tr>\n",
       "      <th>...</th>\n",
       "      <td>...</td>\n",
       "      <td>...</td>\n",
       "      <td>...</td>\n",
       "      <td>...</td>\n",
       "      <td>...</td>\n",
       "      <td>...</td>\n",
       "      <td>...</td>\n",
       "      <td>...</td>\n",
       "      <td>...</td>\n",
       "      <td>...</td>\n",
       "      <td>...</td>\n",
       "      <td>...</td>\n",
       "      <td>...</td>\n",
       "      <td>...</td>\n",
       "    </tr>\n",
       "    <tr>\n",
       "      <th>1</th>\n",
       "      <td>0.463957</td>\n",
       "      <td>0.082331</td>\n",
       "      <td>0.011337</td>\n",
       "      <td>0.004639</td>\n",
       "      <td>3.80286</td>\n",
       "      <td>{'C': 3.8028572256396647}</td>\n",
       "      <td>0.597920</td>\n",
       "      <td>0.597220</td>\n",
       "      <td>0.592827</td>\n",
       "      <td>0.590501</td>\n",
       "      <td>0.618289</td>\n",
       "      <td>0.599351</td>\n",
       "      <td>0.009860</td>\n",
       "      <td>5</td>\n",
       "    </tr>\n",
       "    <tr>\n",
       "      <th>34</th>\n",
       "      <td>0.464361</td>\n",
       "      <td>0.038105</td>\n",
       "      <td>0.008287</td>\n",
       "      <td>0.001417</td>\n",
       "      <td>3.86253</td>\n",
       "      <td>{'C': 3.8625281322982374}</td>\n",
       "      <td>0.597984</td>\n",
       "      <td>0.597303</td>\n",
       "      <td>0.592888</td>\n",
       "      <td>0.590481</td>\n",
       "      <td>0.618319</td>\n",
       "      <td>0.599395</td>\n",
       "      <td>0.009862</td>\n",
       "      <td>4</td>\n",
       "    </tr>\n",
       "    <tr>\n",
       "      <th>50</th>\n",
       "      <td>0.552498</td>\n",
       "      <td>0.041888</td>\n",
       "      <td>0.013899</td>\n",
       "      <td>0.005771</td>\n",
       "      <td>3.87834</td>\n",
       "      <td>{'C': 3.8783385110582342}</td>\n",
       "      <td>0.597974</td>\n",
       "      <td>0.597336</td>\n",
       "      <td>0.592937</td>\n",
       "      <td>0.590487</td>\n",
       "      <td>0.618339</td>\n",
       "      <td>0.599415</td>\n",
       "      <td>0.009861</td>\n",
       "      <td>3</td>\n",
       "    </tr>\n",
       "    <tr>\n",
       "      <th>11</th>\n",
       "      <td>0.447006</td>\n",
       "      <td>0.048351</td>\n",
       "      <td>0.010926</td>\n",
       "      <td>0.002407</td>\n",
       "      <td>3.87964</td>\n",
       "      <td>{'C': 3.8796394086479773}</td>\n",
       "      <td>0.598001</td>\n",
       "      <td>0.597354</td>\n",
       "      <td>0.592944</td>\n",
       "      <td>0.590463</td>\n",
       "      <td>0.618329</td>\n",
       "      <td>0.599418</td>\n",
       "      <td>0.009859</td>\n",
       "      <td>2</td>\n",
       "    </tr>\n",
       "    <tr>\n",
       "      <th>69</th>\n",
       "      <td>0.551972</td>\n",
       "      <td>0.081401</td>\n",
       "      <td>0.014330</td>\n",
       "      <td>0.005463</td>\n",
       "      <td>3.94755</td>\n",
       "      <td>{'C': 3.947547746402069}</td>\n",
       "      <td>0.598011</td>\n",
       "      <td>0.597441</td>\n",
       "      <td>0.593020</td>\n",
       "      <td>0.590436</td>\n",
       "      <td>0.618358</td>\n",
       "      <td>0.599453</td>\n",
       "      <td>0.009861</td>\n",
       "      <td>1</td>\n",
       "    </tr>\n",
       "  </tbody>\n",
       "</table>\n",
       "<p>100 rows × 14 columns</p>\n",
       "</div>"
      ],
      "text/plain": [
       "    mean_fit_time  std_fit_time  mean_score_time  std_score_time    param_C  \\\n",
       "72       0.228973      0.004824         0.010685        0.001596  0.0220885   \n",
       "10       0.234010      0.017427         0.007461        0.002247   0.082338   \n",
       "98       0.229021      0.005651         0.009482        0.001367   0.101677   \n",
       "42       0.229497      0.003935         0.009067        0.001537   0.137554   \n",
       "58       0.279884      0.048332         0.010730        0.002777   0.180909   \n",
       "..            ...           ...              ...             ...        ...   \n",
       "1        0.463957      0.082331         0.011337        0.004639    3.80286   \n",
       "34       0.464361      0.038105         0.008287        0.001417    3.86253   \n",
       "50       0.552498      0.041888         0.013899        0.005771    3.87834   \n",
       "11       0.447006      0.048351         0.010926        0.002407    3.87964   \n",
       "69       0.551972      0.081401         0.014330        0.005463    3.94755   \n",
       "\n",
       "                         params  split0_test_score  split1_test_score  \\\n",
       "72  {'C': 0.022088468494409597}           0.572784           0.564601   \n",
       "10   {'C': 0.08233797718320979}           0.576081           0.570211   \n",
       "98   {'C': 0.10167650697638075}           0.578311           0.571484   \n",
       "42   {'C': 0.13755408446087358}           0.581972           0.574516   \n",
       "58   {'C': 0.18090915564215226}           0.586059           0.577597   \n",
       "..                          ...                ...                ...   \n",
       "1     {'C': 3.8028572256396647}           0.597920           0.597220   \n",
       "34    {'C': 3.8625281322982374}           0.597984           0.597303   \n",
       "50    {'C': 3.8783385110582342}           0.597974           0.597336   \n",
       "11    {'C': 3.8796394086479773}           0.598001           0.597354   \n",
       "69     {'C': 3.947547746402069}           0.598011           0.597441   \n",
       "\n",
       "    split2_test_score  split3_test_score  split4_test_score  mean_test_score  \\\n",
       "72           0.561810           0.579600           0.592248         0.574209   \n",
       "10           0.569417           0.584004           0.590101         0.577963   \n",
       "98           0.571928           0.586633           0.590390         0.579749   \n",
       "42           0.576192           0.590778           0.591770         0.583046   \n",
       "58           0.579853           0.593481           0.593861         0.586170   \n",
       "..                ...                ...                ...              ...   \n",
       "1            0.592827           0.590501           0.618289         0.599351   \n",
       "34           0.592888           0.590481           0.618319         0.599395   \n",
       "50           0.592937           0.590487           0.618339         0.599415   \n",
       "11           0.592944           0.590463           0.618329         0.599418   \n",
       "69           0.593020           0.590436           0.618358         0.599453   \n",
       "\n",
       "    std_test_score  rank_test_score  \n",
       "72        0.010978              100  \n",
       "10        0.008006               99  \n",
       "98        0.007644               98  \n",
       "42        0.007166               97  \n",
       "58        0.006723               96  \n",
       "..             ...              ...  \n",
       "1         0.009860                5  \n",
       "34        0.009862                4  \n",
       "50        0.009861                3  \n",
       "11        0.009859                2  \n",
       "69        0.009861                1  \n",
       "\n",
       "[100 rows x 14 columns]"
      ]
     },
     "execution_count": 73,
     "metadata": {},
     "output_type": "execute_result"
    }
   ],
   "source": [
    "results = pd.DataFrame.from_dict(best_model.cv_results_)\n",
    "results=results.sort_values('param_C')\n",
    "results"
   ]
  },
  {
   "cell_type": "code",
   "execution_count": 74,
   "metadata": {},
   "outputs": [
    {
     "data": {
      "image/png": "[encoded data removed]",
      "text/plain": [
       "<Figure size 432x288 with 1 Axes>"
      ]
     },
     "metadata": {
      "needs_background": "light"
     },
     "output_type": "display_data"
    }
   ],
   "source": [
    "print_graph(results, 'param_C', 'mean_test_score', 'Hyperparameter - C', 'Test score')"
   ]
  },
  {
   "cell_type": "code",
   "execution_count": 75,
   "metadata": {},
   "outputs": [
    {
     "name": "stderr",
     "output_type": "stream",
     "text": [
      "[Parallel(n_jobs=-1)]: Using backend LokyBackend with 8 concurrent workers.\n",
      "[Parallel(n_jobs=-1)]: Done   1 out of   1 | elapsed:    0.4s finished\n"
     ]
    },
    {
     "data": {
      "text/plain": [
       "LogisticRegression(C=3.947547746402069, class_weight='balanced', n_jobs=-1,\n",
       "                   random_state=42, verbose=2)"
      ]
     },
     "execution_count": 75,
     "metadata": {},
     "output_type": "execute_result"
    }
   ],
   "source": [
    "model = LogisticRegression(C=best_c,verbose=verbose,n_jobs=-1,random_state=random_state,class_weight='balanced',solver='lbfgs')\n",
    "model.fit(train_df_fc,y_train)"
   ]
  },
  {
   "cell_type": "code",
   "execution_count": 76,
   "metadata": {},
   "outputs": [],
   "source": [
    "predictions = model.predict_proba(test_df_fc)[:,1]\n",
    "save_submission(predictions, 'lr_fc.csv')"
   ]
  },
  {
   "cell_type": "code",
   "execution_count": null,
   "metadata": {},
   "outputs": [],
   "source": []
  },
  {
   "cell_type": "markdown",
   "metadata": {},
   "source": [
    "## 3.4 Random Forest with frequency encoding"
   ]
  },
  {
   "cell_type": "code",
   "execution_count": 77,
   "metadata": {},
   "outputs": [
    {
     "name": "stdout",
     "output_type": "stream",
     "text": [
      "Fitting 5 folds for each of 100 candidates, totalling 500 fits\n"
     ]
    },
    {
     "name": "stderr",
     "output_type": "stream",
     "text": [
      "[Parallel(n_jobs=-1)]: Using backend LokyBackend with 8 concurrent workers.\n",
      "[Parallel(n_jobs=-1)]: Done  25 tasks      | elapsed:   18.3s\n",
      "[Parallel(n_jobs=-1)]: Done 146 tasks      | elapsed:  3.5min\n",
      "[Parallel(n_jobs=-1)]: Done 349 tasks      | elapsed:  8.7min\n",
      "/home/auw-mayank/.local/lib/python3.6/site-packages/joblib/externals/loky/process_executor.py:691: UserWarning: A worker stopped while some jobs were given to the executor. This can be caused by a too short worker timeout or by a memory leak.\n",
      "  \"timeout or by a memory leak.\", UserWarning\n",
      "[Parallel(n_jobs=-1)]: Done 500 out of 500 | elapsed: 12.9min finished\n"
     ]
    }
   ],
   "source": [
    "rfc = RandomForestClassifier(random_state=random_state,class_weight='balanced',n_jobs=-1)\n",
    "clf = RandomizedSearchCV(rfc,get_rf_params(),random_state=random_state,cv=cv,verbose=verbose,n_iter=100,scoring=scoring,n_jobs=-1)\n",
    "best_model = clf.fit(train_df_fc,y_train)"
   ]
  },
  {
   "cell_type": "code",
   "execution_count": 78,
   "metadata": {},
   "outputs": [
    {
     "data": {
      "text/html": [
       "<div>\n",
       "<style scoped>\n",
       "    .dataframe tbody tr th:only-of-type {\n",
       "        vertical-align: middle;\n",
       "    }\n",
       "\n",
       "    .dataframe tbody tr th {\n",
       "        vertical-align: top;\n",
       "    }\n",
       "\n",
       "    .dataframe thead th {\n",
       "        text-align: right;\n",
       "    }\n",
       "</style>\n",
       "<table border=\"1\" class=\"dataframe\">\n",
       "  <thead>\n",
       "    <tr style=\"text-align: right;\">\n",
       "      <th></th>\n",
       "      <th>param_n_estimators</th>\n",
       "      <th>param_max_depth</th>\n",
       "      <th>param_max_features</th>\n",
       "      <th>param_min_samples_split</th>\n",
       "      <th>mean_test_score</th>\n",
       "    </tr>\n",
       "  </thead>\n",
       "  <tbody>\n",
       "    <tr>\n",
       "      <th>78</th>\n",
       "      <td>700</td>\n",
       "      <td>25</td>\n",
       "      <td>2</td>\n",
       "      <td>7</td>\n",
       "      <td>0.865455</td>\n",
       "    </tr>\n",
       "    <tr>\n",
       "      <th>79</th>\n",
       "      <td>500</td>\n",
       "      <td>25</td>\n",
       "      <td>1</td>\n",
       "      <td>10</td>\n",
       "      <td>0.863705</td>\n",
       "    </tr>\n",
       "    <tr>\n",
       "      <th>85</th>\n",
       "      <td>1000</td>\n",
       "      <td>20</td>\n",
       "      <td>3</td>\n",
       "      <td>7</td>\n",
       "      <td>0.863124</td>\n",
       "    </tr>\n",
       "    <tr>\n",
       "      <th>55</th>\n",
       "      <td>200</td>\n",
       "      <td>25</td>\n",
       "      <td>2</td>\n",
       "      <td>5</td>\n",
       "      <td>0.862767</td>\n",
       "    </tr>\n",
       "    <tr>\n",
       "      <th>27</th>\n",
       "      <td>50</td>\n",
       "      <td>25</td>\n",
       "      <td>2</td>\n",
       "      <td>10</td>\n",
       "      <td>0.862615</td>\n",
       "    </tr>\n",
       "    <tr>\n",
       "      <th>62</th>\n",
       "      <td>500</td>\n",
       "      <td>25</td>\n",
       "      <td>3</td>\n",
       "      <td>5</td>\n",
       "      <td>0.862305</td>\n",
       "    </tr>\n",
       "    <tr>\n",
       "      <th>22</th>\n",
       "      <td>200</td>\n",
       "      <td>25</td>\n",
       "      <td>4</td>\n",
       "      <td>10</td>\n",
       "      <td>0.862143</td>\n",
       "    </tr>\n",
       "    <tr>\n",
       "      <th>6</th>\n",
       "      <td>500</td>\n",
       "      <td>20</td>\n",
       "      <td>2</td>\n",
       "      <td>5</td>\n",
       "      <td>0.860599</td>\n",
       "    </tr>\n",
       "    <tr>\n",
       "      <th>76</th>\n",
       "      <td>50</td>\n",
       "      <td>25</td>\n",
       "      <td>1</td>\n",
       "      <td>5</td>\n",
       "      <td>0.859855</td>\n",
       "    </tr>\n",
       "    <tr>\n",
       "      <th>84</th>\n",
       "      <td>1000</td>\n",
       "      <td>25</td>\n",
       "      <td>5</td>\n",
       "      <td>2</td>\n",
       "      <td>0.859026</td>\n",
       "    </tr>\n",
       "  </tbody>\n",
       "</table>\n",
       "</div>"
      ],
      "text/plain": [
       "   param_n_estimators param_max_depth param_max_features  \\\n",
       "78                700              25                  2   \n",
       "79                500              25                  1   \n",
       "85               1000              20                  3   \n",
       "55                200              25                  2   \n",
       "27                 50              25                  2   \n",
       "62                500              25                  3   \n",
       "22                200              25                  4   \n",
       "6                 500              20                  2   \n",
       "76                 50              25                  1   \n",
       "84               1000              25                  5   \n",
       "\n",
       "   param_min_samples_split  mean_test_score  \n",
       "78                       7         0.865455  \n",
       "79                      10         0.863705  \n",
       "85                       7         0.863124  \n",
       "55                       5         0.862767  \n",
       "27                      10         0.862615  \n",
       "62                       5         0.862305  \n",
       "22                      10         0.862143  \n",
       "6                        5         0.860599  \n",
       "76                       5         0.859855  \n",
       "84                       2         0.859026  "
      ]
     },
     "execution_count": 78,
     "metadata": {},
     "output_type": "execute_result"
    }
   ],
   "source": [
    "results = pd.DataFrame(best_model.cv_results_)\n",
    "results.sort_values('mean_test_score',ascending=False,inplace=True)\n",
    "param_keys=['param_'+str(each) for each in get_rf_params().keys()]\n",
    "param_keys.append('mean_test_score')\n",
    "results[param_keys].head(10)"
   ]
  },
  {
   "cell_type": "code",
   "execution_count": 79,
   "metadata": {},
   "outputs": [
    {
     "data": {
      "text/plain": [
       "(700, 2, 25, 7)"
      ]
     },
     "execution_count": 79,
     "metadata": {},
     "output_type": "execute_result"
    }
   ],
   "source": [
    "n_estimators=clf.best_params_['n_estimators']\n",
    "max_features=clf.best_params_['max_features']\n",
    "max_depth=clf.best_params_['max_depth']\n",
    "min_samples_split=clf.best_params_['min_samples_split']\n",
    "n_estimators,max_features,max_depth,min_samples_split"
   ]
  },
  {
   "cell_type": "code",
   "execution_count": 80,
   "metadata": {},
   "outputs": [
    {
     "data": {
      "text/plain": [
       "RandomForestClassifier(class_weight='balanced', max_depth=25, max_features=2,\n",
       "                       min_samples_split=7, n_estimators=700, n_jobs=-1,\n",
       "                       random_state=42)"
      ]
     },
     "execution_count": 80,
     "metadata": {},
     "output_type": "execute_result"
    }
   ],
   "source": [
    "model=RandomForestClassifier(n_estimators=n_estimators,max_depth=max_depth,max_features=max_features,\n",
    "                             min_samples_split=min_samples_split,\n",
    "                             random_state=random_state,class_weight='balanced',n_jobs=-1)\n",
    "\n",
    "model.fit(train_df_fc,y_train)"
   ]
  },
  {
   "cell_type": "code",
   "execution_count": 81,
   "metadata": {},
   "outputs": [
    {
     "data": {
      "image/png": "[encoded data removed]",
      "text/plain": [
       "<Figure size 432x288 with 1 Axes>"
      ]
     },
     "metadata": {
      "needs_background": "light"
     },
     "output_type": "display_data"
    }
   ],
   "source": [
    "features=train_df_rc.columns\n",
    "importance=model.feature_importances_\n",
    "features=pd.DataFrame({'features':features,'value':importance})\n",
    "features=features.sort_values('value',ascending=False)\n",
    "sns.barplot('value','features',data=features);\n",
    "plt.title('Feature Importance');"
   ]
  },
  {
   "cell_type": "code",
   "execution_count": 82,
   "metadata": {},
   "outputs": [],
   "source": [
    "predictions = model.predict_proba(test_df_fc)[:,1]\n",
    "save_submission(predictions, 'rf_fc.csv')"
   ]
  },
  {
   "cell_type": "code",
   "execution_count": null,
   "metadata": {},
   "outputs": [],
   "source": []
  },
  {
   "cell_type": "markdown",
   "metadata": {},
   "source": [
    "## 3.5 Xgboost with frequency encoding"
   ]
  },
  {
   "cell_type": "code",
   "execution_count": 83,
   "metadata": {},
   "outputs": [
    {
     "name": "stdout",
     "output_type": "stream",
     "text": [
      "Fitting 5 folds for each of 100 candidates, totalling 500 fits\n"
     ]
    },
    {
     "name": "stderr",
     "output_type": "stream",
     "text": [
      "[Parallel(n_jobs=-1)]: Using backend LokyBackend with 8 concurrent workers.\n",
      "[Parallel(n_jobs=-1)]: Done  25 tasks      | elapsed:    7.3s\n",
      "[Parallel(n_jobs=-1)]: Done 146 tasks      | elapsed:  1.5min\n",
      "[Parallel(n_jobs=-1)]: Done 349 tasks      | elapsed:  4.2min\n",
      "[Parallel(n_jobs=-1)]: Done 500 out of 500 | elapsed:  7.0min finished\n"
     ]
    }
   ],
   "source": [
    "xgb = XGBClassifier()\n",
    "clf = RandomizedSearchCV(xgb,get_xgb_params(),random_state=random_state,cv=cv,verbose=verbose,n_iter=100,scoring=scoring,n_jobs=-1)\n",
    "best_model=clf.fit(train_df_fc,y_train)"
   ]
  },
  {
   "cell_type": "code",
   "execution_count": 84,
   "metadata": {},
   "outputs": [
    {
     "data": {
      "text/html": [
       "<div>\n",
       "<style scoped>\n",
       "    .dataframe tbody tr th:only-of-type {\n",
       "        vertical-align: middle;\n",
       "    }\n",
       "\n",
       "    .dataframe tbody tr th {\n",
       "        vertical-align: top;\n",
       "    }\n",
       "\n",
       "    .dataframe thead th {\n",
       "        text-align: right;\n",
       "    }\n",
       "</style>\n",
       "<table border=\"1\" class=\"dataframe\">\n",
       "  <thead>\n",
       "    <tr style=\"text-align: right;\">\n",
       "      <th></th>\n",
       "      <th>param_n_estimators</th>\n",
       "      <th>param_learning_rate</th>\n",
       "      <th>param_subsample</th>\n",
       "      <th>param_max_depth</th>\n",
       "      <th>param_colsample_bytree</th>\n",
       "      <th>param_min_child_weight</th>\n",
       "      <th>mean_test_score</th>\n",
       "    </tr>\n",
       "  </thead>\n",
       "  <tbody>\n",
       "    <tr>\n",
       "      <th>18</th>\n",
       "      <td>1000</td>\n",
       "      <td>0.048135</td>\n",
       "      <td>0.665922</td>\n",
       "      <td>9</td>\n",
       "      <td>0.330898</td>\n",
       "      <td>2</td>\n",
       "      <td>0.858830</td>\n",
       "    </tr>\n",
       "    <tr>\n",
       "      <th>96</th>\n",
       "      <td>500</td>\n",
       "      <td>0.0979629</td>\n",
       "      <td>0.98664</td>\n",
       "      <td>7</td>\n",
       "      <td>0.891897</td>\n",
       "      <td>1</td>\n",
       "      <td>0.857160</td>\n",
       "    </tr>\n",
       "    <tr>\n",
       "      <th>44</th>\n",
       "      <td>1000</td>\n",
       "      <td>0.060484</td>\n",
       "      <td>0.606429</td>\n",
       "      <td>6</td>\n",
       "      <td>0.642032</td>\n",
       "      <td>2</td>\n",
       "      <td>0.854864</td>\n",
       "    </tr>\n",
       "    <tr>\n",
       "      <th>97</th>\n",
       "      <td>750</td>\n",
       "      <td>0.232385</td>\n",
       "      <td>0.907694</td>\n",
       "      <td>6</td>\n",
       "      <td>0.374271</td>\n",
       "      <td>1</td>\n",
       "      <td>0.854471</td>\n",
       "    </tr>\n",
       "    <tr>\n",
       "      <th>86</th>\n",
       "      <td>1000</td>\n",
       "      <td>0.475848</td>\n",
       "      <td>0.858413</td>\n",
       "      <td>9</td>\n",
       "      <td>0.372018</td>\n",
       "      <td>2</td>\n",
       "      <td>0.852575</td>\n",
       "    </tr>\n",
       "    <tr>\n",
       "      <th>53</th>\n",
       "      <td>200</td>\n",
       "      <td>0.540096</td>\n",
       "      <td>0.928319</td>\n",
       "      <td>6</td>\n",
       "      <td>0.27956</td>\n",
       "      <td>1</td>\n",
       "      <td>0.851643</td>\n",
       "    </tr>\n",
       "    <tr>\n",
       "      <th>84</th>\n",
       "      <td>200</td>\n",
       "      <td>0.571989</td>\n",
       "      <td>0.967581</td>\n",
       "      <td>6</td>\n",
       "      <td>0.348337</td>\n",
       "      <td>1</td>\n",
       "      <td>0.850900</td>\n",
       "    </tr>\n",
       "    <tr>\n",
       "      <th>49</th>\n",
       "      <td>500</td>\n",
       "      <td>0.160277</td>\n",
       "      <td>0.393098</td>\n",
       "      <td>8</td>\n",
       "      <td>0.636333</td>\n",
       "      <td>2</td>\n",
       "      <td>0.850151</td>\n",
       "    </tr>\n",
       "    <tr>\n",
       "      <th>62</th>\n",
       "      <td>500</td>\n",
       "      <td>0.0663892</td>\n",
       "      <td>0.328153</td>\n",
       "      <td>9</td>\n",
       "      <td>0.375583</td>\n",
       "      <td>3</td>\n",
       "      <td>0.848839</td>\n",
       "    </tr>\n",
       "    <tr>\n",
       "      <th>14</th>\n",
       "      <td>200</td>\n",
       "      <td>0.374221</td>\n",
       "      <td>0.802197</td>\n",
       "      <td>7</td>\n",
       "      <td>0.965255</td>\n",
       "      <td>1</td>\n",
       "      <td>0.846264</td>\n",
       "    </tr>\n",
       "  </tbody>\n",
       "</table>\n",
       "</div>"
      ],
      "text/plain": [
       "   param_n_estimators param_learning_rate param_subsample param_max_depth  \\\n",
       "18               1000            0.048135        0.665922               9   \n",
       "96                500           0.0979629         0.98664               7   \n",
       "44               1000            0.060484        0.606429               6   \n",
       "97                750            0.232385        0.907694               6   \n",
       "86               1000            0.475848        0.858413               9   \n",
       "53                200            0.540096        0.928319               6   \n",
       "84                200            0.571989        0.967581               6   \n",
       "49                500            0.160277        0.393098               8   \n",
       "62                500           0.0663892        0.328153               9   \n",
       "14                200            0.374221        0.802197               7   \n",
       "\n",
       "   param_colsample_bytree param_min_child_weight  mean_test_score  \n",
       "18               0.330898                      2         0.858830  \n",
       "96               0.891897                      1         0.857160  \n",
       "44               0.642032                      2         0.854864  \n",
       "97               0.374271                      1         0.854471  \n",
       "86               0.372018                      2         0.852575  \n",
       "53                0.27956                      1         0.851643  \n",
       "84               0.348337                      1         0.850900  \n",
       "49               0.636333                      2         0.850151  \n",
       "62               0.375583                      3         0.848839  \n",
       "14               0.965255                      1         0.846264  "
      ]
     },
     "execution_count": 84,
     "metadata": {},
     "output_type": "execute_result"
    }
   ],
   "source": [
    "results = pd.DataFrame(best_model.cv_results_)\n",
    "results.sort_values('mean_test_score',ascending=False,inplace=True)\n",
    "param_keys=['param_'+str(each) for each in get_xgb_params().keys()]\n",
    "param_keys.append('mean_test_score')\n",
    "results[param_keys].head(10)"
   ]
  },
  {
   "cell_type": "code",
   "execution_count": 85,
   "metadata": {},
   "outputs": [
    {
     "data": {
      "text/plain": [
       "(0.3308980248526492, 0.04813501017161418, 9, 2, 1000, 0.6659223566174967)"
      ]
     },
     "execution_count": 85,
     "metadata": {},
     "output_type": "execute_result"
    }
   ],
   "source": [
    "colsample_bytree = clf.best_params_['colsample_bytree']\n",
    "learning_rate=clf.best_params_['learning_rate']\n",
    "max_depth=clf.best_params_['max_depth']\n",
    "min_child_weight=clf.best_params_['min_child_weight']\n",
    "n_estimators=clf.best_params_['n_estimators']\n",
    "subsample=clf.best_params_['subsample']\n",
    "colsample_bytree,learning_rate,max_depth,min_child_weight,n_estimators,subsample"
   ]
  },
  {
   "cell_type": "code",
   "execution_count": 86,
   "metadata": {},
   "outputs": [
    {
     "data": {
      "text/plain": [
       "XGBClassifier(base_score=0.5, booster='gbtree', colsample_bylevel=1,\n",
       "              colsample_bynode=1, colsample_bytree=0.3308980248526492, gamma=0,\n",
       "              gpu_id=-1, importance_type='gain', interaction_constraints='',\n",
       "              learning_rate=0.04813501017161418, max_delta_step=0, max_depth=9,\n",
       "              min_child_weight=2, missing=nan, monotone_constraints='()',\n",
       "              n_estimators=1000, n_jobs=-1, num_parallel_tree=1, random_state=0,\n",
       "              reg_alpha=0, reg_lambda=1, scale_pos_weight=1,\n",
       "              subsample=0.6659223566174967, tree_method='exact',\n",
       "              validate_parameters=1, verbosity=None)"
      ]
     },
     "execution_count": 86,
     "metadata": {},
     "output_type": "execute_result"
    }
   ],
   "source": [
    "model = XGBClassifier(colsample_bytree=colsample_bytree,learning_rate=learning_rate,max_depth=max_depth,\n",
    "                     min_child_weight=min_child_weight,n_estimators=n_estimators,subsample=subsample,n_jobs=-1)\n",
    "\n",
    "model.fit(train_df_fc,y_train)"
   ]
  },
  {
   "cell_type": "code",
   "execution_count": 87,
   "metadata": {},
   "outputs": [
    {
     "data": {
      "image/png": "[encoded data removed]",
      "text/plain": [
       "<Figure size 432x288 with 1 Axes>"
      ]
     },
     "metadata": {
      "needs_background": "light"
     },
     "output_type": "display_data"
    }
   ],
   "source": [
    "features=train_df_rc.columns\n",
    "importance=model.feature_importances_\n",
    "features=pd.DataFrame({'features':features,'value':importance})\n",
    "features=features.sort_values('value',ascending=False)\n",
    "sns.barplot('value','features',data=features);\n",
    "plt.title('Feature Importance');"
   ]
  },
  {
   "cell_type": "code",
   "execution_count": 88,
   "metadata": {},
   "outputs": [],
   "source": [
    "predictions = model.predict_proba(test_df_fc)[:,1]\n",
    "save_submission(predictions, 'xgb_fc.csv')"
   ]
  },
  {
   "cell_type": "code",
   "execution_count": null,
   "metadata": {},
   "outputs": [],
   "source": []
  },
  {
   "cell_type": "markdown",
   "metadata": {},
   "source": [
    "# 4 Build Model using response encoding feature"
   ]
  },
  {
   "cell_type": "code",
   "execution_count": 89,
   "metadata": {},
   "outputs": [],
   "source": [
    "train_df_rc = pd.read_csv('data/train_df_rc.csv')\n",
    "test_df_rc = pd.read_csv('data/test_df_rc.csv')"
   ]
  },
  {
   "cell_type": "code",
   "execution_count": 90,
   "metadata": {},
   "outputs": [
    {
     "data": {
      "text/plain": [
       "((32769, 9), (58921, 9), (32769,))"
      ]
     },
     "execution_count": 90,
     "metadata": {},
     "output_type": "execute_result"
    }
   ],
   "source": [
    "train_df_rc.shape, test_df_rc.shape, y_train.shape"
   ]
  },
  {
   "cell_type": "markdown",
   "metadata": {},
   "source": [
    "## 4.1 KNN with response encoding"
   ]
  },
  {
   "cell_type": "code",
   "execution_count": 91,
   "metadata": {},
   "outputs": [
    {
     "name": "stdout",
     "output_type": "stream",
     "text": [
      "Fitting 5 folds for each of 10 candidates, totalling 50 fits\n"
     ]
    },
    {
     "name": "stderr",
     "output_type": "stream",
     "text": [
      "[Parallel(n_jobs=-1)]: Using backend LokyBackend with 8 concurrent workers.\n",
      "[Parallel(n_jobs=-1)]: Done  25 tasks      | elapsed:    5.0s\n",
      "[Parallel(n_jobs=-1)]: Done  50 out of  50 | elapsed:    9.9s finished\n"
     ]
    }
   ],
   "source": [
    "parameters={'n_neighbors':np.arange(1,100, 5)}\n",
    "clf = RandomizedSearchCV(KNeighborsClassifier(n_jobs=-1),parameters,random_state=random_state,cv=cv,verbose=verbose,scoring=scoring,n_jobs=-1)\n",
    "best_model = clf.fit(train_df_rc,y_train)"
   ]
  },
  {
   "cell_type": "code",
   "execution_count": 92,
   "metadata": {},
   "outputs": [
    {
     "data": {
      "text/html": [
       "<div>\n",
       "<style scoped>\n",
       "    .dataframe tbody tr th:only-of-type {\n",
       "        vertical-align: middle;\n",
       "    }\n",
       "\n",
       "    .dataframe tbody tr th {\n",
       "        vertical-align: top;\n",
       "    }\n",
       "\n",
       "    .dataframe thead th {\n",
       "        text-align: right;\n",
       "    }\n",
       "</style>\n",
       "<table border=\"1\" class=\"dataframe\">\n",
       "  <thead>\n",
       "    <tr style=\"text-align: right;\">\n",
       "      <th></th>\n",
       "      <th>mean_fit_time</th>\n",
       "      <th>std_fit_time</th>\n",
       "      <th>mean_score_time</th>\n",
       "      <th>std_score_time</th>\n",
       "      <th>param_n_neighbors</th>\n",
       "      <th>params</th>\n",
       "      <th>split0_test_score</th>\n",
       "      <th>split1_test_score</th>\n",
       "      <th>split2_test_score</th>\n",
       "      <th>split3_test_score</th>\n",
       "      <th>split4_test_score</th>\n",
       "      <th>mean_test_score</th>\n",
       "      <th>std_test_score</th>\n",
       "      <th>rank_test_score</th>\n",
       "    </tr>\n",
       "  </thead>\n",
       "  <tbody>\n",
       "    <tr>\n",
       "      <th>0</th>\n",
       "      <td>0.086230</td>\n",
       "      <td>0.005424</td>\n",
       "      <td>0.344790</td>\n",
       "      <td>0.070813</td>\n",
       "      <td>1</td>\n",
       "      <td>{'n_neighbors': 1}</td>\n",
       "      <td>0.785764</td>\n",
       "      <td>0.803724</td>\n",
       "      <td>0.775463</td>\n",
       "      <td>0.779148</td>\n",
       "      <td>0.764597</td>\n",
       "      <td>0.781739</td>\n",
       "      <td>0.012958</td>\n",
       "      <td>10</td>\n",
       "    </tr>\n",
       "    <tr>\n",
       "      <th>3</th>\n",
       "      <td>0.213144</td>\n",
       "      <td>0.076467</td>\n",
       "      <td>0.614406</td>\n",
       "      <td>0.058540</td>\n",
       "      <td>6</td>\n",
       "      <td>{'n_neighbors': 6}</td>\n",
       "      <td>0.913267</td>\n",
       "      <td>0.929281</td>\n",
       "      <td>0.912042</td>\n",
       "      <td>0.938589</td>\n",
       "      <td>0.930850</td>\n",
       "      <td>0.924806</td>\n",
       "      <td>0.010417</td>\n",
       "      <td>9</td>\n",
       "    </tr>\n",
       "    <tr>\n",
       "      <th>7</th>\n",
       "      <td>0.310182</td>\n",
       "      <td>0.147531</td>\n",
       "      <td>0.762474</td>\n",
       "      <td>0.161863</td>\n",
       "      <td>16</td>\n",
       "      <td>{'n_neighbors': 16}</td>\n",
       "      <td>0.947662</td>\n",
       "      <td>0.957579</td>\n",
       "      <td>0.950075</td>\n",
       "      <td>0.960931</td>\n",
       "      <td>0.948791</td>\n",
       "      <td>0.953008</td>\n",
       "      <td>0.005266</td>\n",
       "      <td>8</td>\n",
       "    </tr>\n",
       "    <tr>\n",
       "      <th>5</th>\n",
       "      <td>0.331806</td>\n",
       "      <td>0.120254</td>\n",
       "      <td>0.966461</td>\n",
       "      <td>0.082860</td>\n",
       "      <td>26</td>\n",
       "      <td>{'n_neighbors': 26}</td>\n",
       "      <td>0.960510</td>\n",
       "      <td>0.965995</td>\n",
       "      <td>0.956449</td>\n",
       "      <td>0.965414</td>\n",
       "      <td>0.956676</td>\n",
       "      <td>0.961009</td>\n",
       "      <td>0.004101</td>\n",
       "      <td>7</td>\n",
       "    </tr>\n",
       "    <tr>\n",
       "      <th>4</th>\n",
       "      <td>0.232953</td>\n",
       "      <td>0.077137</td>\n",
       "      <td>1.056732</td>\n",
       "      <td>0.093508</td>\n",
       "      <td>41</td>\n",
       "      <td>{'n_neighbors': 41}</td>\n",
       "      <td>0.967694</td>\n",
       "      <td>0.970531</td>\n",
       "      <td>0.961577</td>\n",
       "      <td>0.970235</td>\n",
       "      <td>0.962889</td>\n",
       "      <td>0.966585</td>\n",
       "      <td>0.003711</td>\n",
       "      <td>6</td>\n",
       "    </tr>\n",
       "    <tr>\n",
       "      <th>6</th>\n",
       "      <td>0.229306</td>\n",
       "      <td>0.095399</td>\n",
       "      <td>1.410068</td>\n",
       "      <td>0.127344</td>\n",
       "      <td>56</td>\n",
       "      <td>{'n_neighbors': 56}</td>\n",
       "      <td>0.968329</td>\n",
       "      <td>0.971504</td>\n",
       "      <td>0.963187</td>\n",
       "      <td>0.970208</td>\n",
       "      <td>0.966776</td>\n",
       "      <td>0.968001</td>\n",
       "      <td>0.002896</td>\n",
       "      <td>5</td>\n",
       "    </tr>\n",
       "    <tr>\n",
       "      <th>2</th>\n",
       "      <td>0.274036</td>\n",
       "      <td>0.120750</td>\n",
       "      <td>1.699503</td>\n",
       "      <td>0.340801</td>\n",
       "      <td>76</td>\n",
       "      <td>{'n_neighbors': 76}</td>\n",
       "      <td>0.969092</td>\n",
       "      <td>0.970238</td>\n",
       "      <td>0.965122</td>\n",
       "      <td>0.970237</td>\n",
       "      <td>0.968003</td>\n",
       "      <td>0.968538</td>\n",
       "      <td>0.001900</td>\n",
       "      <td>3</td>\n",
       "    </tr>\n",
       "    <tr>\n",
       "      <th>9</th>\n",
       "      <td>0.296290</td>\n",
       "      <td>0.185593</td>\n",
       "      <td>1.379694</td>\n",
       "      <td>0.639957</td>\n",
       "      <td>81</td>\n",
       "      <td>{'n_neighbors': 81}</td>\n",
       "      <td>0.969085</td>\n",
       "      <td>0.970350</td>\n",
       "      <td>0.964951</td>\n",
       "      <td>0.969905</td>\n",
       "      <td>0.967942</td>\n",
       "      <td>0.968447</td>\n",
       "      <td>0.001930</td>\n",
       "      <td>4</td>\n",
       "    </tr>\n",
       "    <tr>\n",
       "      <th>1</th>\n",
       "      <td>0.173163</td>\n",
       "      <td>0.121023</td>\n",
       "      <td>1.987021</td>\n",
       "      <td>0.248016</td>\n",
       "      <td>86</td>\n",
       "      <td>{'n_neighbors': 86}</td>\n",
       "      <td>0.968902</td>\n",
       "      <td>0.971091</td>\n",
       "      <td>0.965033</td>\n",
       "      <td>0.969832</td>\n",
       "      <td>0.967886</td>\n",
       "      <td>0.968549</td>\n",
       "      <td>0.002051</td>\n",
       "      <td>2</td>\n",
       "    </tr>\n",
       "    <tr>\n",
       "      <th>8</th>\n",
       "      <td>0.191794</td>\n",
       "      <td>0.042695</td>\n",
       "      <td>2.263545</td>\n",
       "      <td>0.085086</td>\n",
       "      <td>91</td>\n",
       "      <td>{'n_neighbors': 91}</td>\n",
       "      <td>0.968775</td>\n",
       "      <td>0.970906</td>\n",
       "      <td>0.964625</td>\n",
       "      <td>0.970507</td>\n",
       "      <td>0.968111</td>\n",
       "      <td>0.968585</td>\n",
       "      <td>0.002237</td>\n",
       "      <td>1</td>\n",
       "    </tr>\n",
       "  </tbody>\n",
       "</table>\n",
       "</div>"
      ],
      "text/plain": [
       "   mean_fit_time  std_fit_time  mean_score_time  std_score_time  \\\n",
       "0       0.086230      0.005424         0.344790        0.070813   \n",
       "3       0.213144      0.076467         0.614406        0.058540   \n",
       "7       0.310182      0.147531         0.762474        0.161863   \n",
       "5       0.331806      0.120254         0.966461        0.082860   \n",
       "4       0.232953      0.077137         1.056732        0.093508   \n",
       "6       0.229306      0.095399         1.410068        0.127344   \n",
       "2       0.274036      0.120750         1.699503        0.340801   \n",
       "9       0.296290      0.185593         1.379694        0.639957   \n",
       "1       0.173163      0.121023         1.987021        0.248016   \n",
       "8       0.191794      0.042695         2.263545        0.085086   \n",
       "\n",
       "  param_n_neighbors               params  split0_test_score  \\\n",
       "0                 1   {'n_neighbors': 1}           0.785764   \n",
       "3                 6   {'n_neighbors': 6}           0.913267   \n",
       "7                16  {'n_neighbors': 16}           0.947662   \n",
       "5                26  {'n_neighbors': 26}           0.960510   \n",
       "4                41  {'n_neighbors': 41}           0.967694   \n",
       "6                56  {'n_neighbors': 56}           0.968329   \n",
       "2                76  {'n_neighbors': 76}           0.969092   \n",
       "9                81  {'n_neighbors': 81}           0.969085   \n",
       "1                86  {'n_neighbors': 86}           0.968902   \n",
       "8                91  {'n_neighbors': 91}           0.968775   \n",
       "\n",
       "   split1_test_score  split2_test_score  split3_test_score  split4_test_score  \\\n",
       "0           0.803724           0.775463           0.779148           0.764597   \n",
       "3           0.929281           0.912042           0.938589           0.930850   \n",
       "7           0.957579           0.950075           0.960931           0.948791   \n",
       "5           0.965995           0.956449           0.965414           0.956676   \n",
       "4           0.970531           0.961577           0.970235           0.962889   \n",
       "6           0.971504           0.963187           0.970208           0.966776   \n",
       "2           0.970238           0.965122           0.970237           0.968003   \n",
       "9           0.970350           0.964951           0.969905           0.967942   \n",
       "1           0.971091           0.965033           0.969832           0.967886   \n",
       "8           0.970906           0.964625           0.970507           0.968111   \n",
       "\n",
       "   mean_test_score  std_test_score  rank_test_score  \n",
       "0         0.781739        0.012958               10  \n",
       "3         0.924806        0.010417                9  \n",
       "7         0.953008        0.005266                8  \n",
       "5         0.961009        0.004101                7  \n",
       "4         0.966585        0.003711                6  \n",
       "6         0.968001        0.002896                5  \n",
       "2         0.968538        0.001900                3  \n",
       "9         0.968447        0.001930                4  \n",
       "1         0.968549        0.002051                2  \n",
       "8         0.968585        0.002237                1  "
      ]
     },
     "execution_count": 92,
     "metadata": {},
     "output_type": "execute_result"
    }
   ],
   "source": [
    "results = pd.DataFrame.from_dict(best_model.cv_results_)\n",
    "results=results.sort_values('param_n_neighbors')\n",
    "results"
   ]
  },
  {
   "cell_type": "code",
   "execution_count": 93,
   "metadata": {},
   "outputs": [
    {
     "data": {
      "image/png": "[encoded data removed]",
      "text/plain": [
       "<Figure size 432x288 with 1 Axes>"
      ]
     },
     "metadata": {
      "needs_background": "light"
     },
     "output_type": "display_data"
    }
   ],
   "source": [
    "print_graph(results, 'param_n_neighbors', 'mean_test_score', 'Hyperparameter - No. of neighbors', 'Test score')  "
   ]
  },
  {
   "cell_type": "code",
   "execution_count": 94,
   "metadata": {},
   "outputs": [
    {
     "data": {
      "text/plain": [
       "91"
      ]
     },
     "execution_count": 94,
     "metadata": {},
     "output_type": "execute_result"
    }
   ],
   "source": [
    "best_c=best_model.best_params_['n_neighbors']\n",
    "best_c"
   ]
  },
  {
   "cell_type": "code",
   "execution_count": 95,
   "metadata": {},
   "outputs": [
    {
     "data": {
      "text/plain": [
       "KNeighborsClassifier(n_jobs=-1, n_neighbors=91)"
      ]
     },
     "execution_count": 95,
     "metadata": {},
     "output_type": "execute_result"
    }
   ],
   "source": [
    "model = KNeighborsClassifier(n_neighbors=best_c,n_jobs=-1)\n",
    "model.fit(train_df_rc,y_train)"
   ]
  },
  {
   "cell_type": "code",
   "execution_count": 96,
   "metadata": {},
   "outputs": [],
   "source": [
    "predictions = model.predict_proba(test_df_rc)[:,1]\n",
    "save_submission(predictions, \"knn_rc.csv\")"
   ]
  },
  {
   "cell_type": "code",
   "execution_count": null,
   "metadata": {},
   "outputs": [],
   "source": []
  },
  {
   "cell_type": "markdown",
   "metadata": {},
   "source": [
    "## 4.2 SVM with response encoding"
   ]
  },
  {
   "cell_type": "code",
   "execution_count": 97,
   "metadata": {},
   "outputs": [
    {
     "name": "stdout",
     "output_type": "stream",
     "text": [
      "Fitting 5 folds for each of 10 candidates, totalling 50 fits\n"
     ]
    },
    {
     "name": "stderr",
     "output_type": "stream",
     "text": [
      "[Parallel(n_jobs=-1)]: Using backend LokyBackend with 8 concurrent workers.\n",
      "[Parallel(n_jobs=-1)]: Done  25 tasks      | elapsed:   53.2s\n",
      "[Parallel(n_jobs=-1)]: Done  50 out of  50 | elapsed:  1.5min finished\n"
     ]
    },
    {
     "name": "stdout",
     "output_type": "stream",
     "text": [
      "[LibLinear]"
     ]
    }
   ],
   "source": [
    "C_val = uniform(loc=0, scale=4)\n",
    "model= LinearSVC(verbose=verbose,random_state=random_state,class_weight='balanced',max_iter=2000)\n",
    "parameters={'C':C_val}\n",
    "clf = RandomizedSearchCV(model,parameters,random_state=random_state,cv=cv,verbose=verbose,scoring=scoring,n_jobs=-1)\n",
    "best_model = clf.fit(train_df_rc,y_train)"
   ]
  },
  {
   "cell_type": "code",
   "execution_count": 98,
   "metadata": {},
   "outputs": [
    {
     "data": {
      "text/plain": [
       "0.23233444867279784"
      ]
     },
     "execution_count": 98,
     "metadata": {},
     "output_type": "execute_result"
    }
   ],
   "source": [
    "best_c=best_model.best_params_['C']\n",
    "best_c"
   ]
  },
  {
   "cell_type": "code",
   "execution_count": 99,
   "metadata": {},
   "outputs": [
    {
     "data": {
      "text/html": [
       "<div>\n",
       "<style scoped>\n",
       "    .dataframe tbody tr th:only-of-type {\n",
       "        vertical-align: middle;\n",
       "    }\n",
       "\n",
       "    .dataframe tbody tr th {\n",
       "        vertical-align: top;\n",
       "    }\n",
       "\n",
       "    .dataframe thead th {\n",
       "        text-align: right;\n",
       "    }\n",
       "</style>\n",
       "<table border=\"1\" class=\"dataframe\">\n",
       "  <thead>\n",
       "    <tr style=\"text-align: right;\">\n",
       "      <th></th>\n",
       "      <th>mean_fit_time</th>\n",
       "      <th>std_fit_time</th>\n",
       "      <th>mean_score_time</th>\n",
       "      <th>std_score_time</th>\n",
       "      <th>param_C</th>\n",
       "      <th>params</th>\n",
       "      <th>split0_test_score</th>\n",
       "      <th>split1_test_score</th>\n",
       "      <th>split2_test_score</th>\n",
       "      <th>split3_test_score</th>\n",
       "      <th>split4_test_score</th>\n",
       "      <th>mean_test_score</th>\n",
       "      <th>std_test_score</th>\n",
       "      <th>rank_test_score</th>\n",
       "    </tr>\n",
       "  </thead>\n",
       "  <tbody>\n",
       "    <tr>\n",
       "      <th>6</th>\n",
       "      <td>3.183277</td>\n",
       "      <td>0.033934</td>\n",
       "      <td>0.009042</td>\n",
       "      <td>0.000496</td>\n",
       "      <td>0.232334</td>\n",
       "      <td>{'C': 0.23233444867279784}</td>\n",
       "      <td>0.962693</td>\n",
       "      <td>0.968227</td>\n",
       "      <td>0.956840</td>\n",
       "      <td>0.961949</td>\n",
       "      <td>0.960551</td>\n",
       "      <td>0.962052</td>\n",
       "      <td>0.003687</td>\n",
       "      <td>1</td>\n",
       "    </tr>\n",
       "    <tr>\n",
       "      <th>5</th>\n",
       "      <td>8.848153</td>\n",
       "      <td>0.747037</td>\n",
       "      <td>0.008727</td>\n",
       "      <td>0.000209</td>\n",
       "      <td>0.623978</td>\n",
       "      <td>{'C': 0.6239780813448106}</td>\n",
       "      <td>0.962731</td>\n",
       "      <td>0.968228</td>\n",
       "      <td>0.956767</td>\n",
       "      <td>0.961982</td>\n",
       "      <td>0.960510</td>\n",
       "      <td>0.962044</td>\n",
       "      <td>0.003713</td>\n",
       "      <td>3</td>\n",
       "    </tr>\n",
       "    <tr>\n",
       "      <th>4</th>\n",
       "      <td>8.912073</td>\n",
       "      <td>0.494012</td>\n",
       "      <td>0.009330</td>\n",
       "      <td>0.001017</td>\n",
       "      <td>0.624075</td>\n",
       "      <td>{'C': 0.6240745617697461}</td>\n",
       "      <td>0.962731</td>\n",
       "      <td>0.968228</td>\n",
       "      <td>0.956767</td>\n",
       "      <td>0.961982</td>\n",
       "      <td>0.960510</td>\n",
       "      <td>0.962044</td>\n",
       "      <td>0.003713</td>\n",
       "      <td>2</td>\n",
       "    </tr>\n",
       "    <tr>\n",
       "      <th>0</th>\n",
       "      <td>17.408767</td>\n",
       "      <td>0.154881</td>\n",
       "      <td>0.009085</td>\n",
       "      <td>0.000893</td>\n",
       "      <td>1.49816</td>\n",
       "      <td>{'C': 1.49816047538945}</td>\n",
       "      <td>0.962746</td>\n",
       "      <td>0.968237</td>\n",
       "      <td>0.956698</td>\n",
       "      <td>0.962003</td>\n",
       "      <td>0.960470</td>\n",
       "      <td>0.962031</td>\n",
       "      <td>0.003739</td>\n",
       "      <td>5</td>\n",
       "    </tr>\n",
       "    <tr>\n",
       "      <th>3</th>\n",
       "      <td>17.469577</td>\n",
       "      <td>0.150116</td>\n",
       "      <td>0.009678</td>\n",
       "      <td>0.001768</td>\n",
       "      <td>2.39463</td>\n",
       "      <td>{'C': 2.3946339367881464}</td>\n",
       "      <td>0.962758</td>\n",
       "      <td>0.968233</td>\n",
       "      <td>0.956696</td>\n",
       "      <td>0.962007</td>\n",
       "      <td>0.960461</td>\n",
       "      <td>0.962031</td>\n",
       "      <td>0.003739</td>\n",
       "      <td>4</td>\n",
       "    </tr>\n",
       "    <tr>\n",
       "      <th>8</th>\n",
       "      <td>16.938676</td>\n",
       "      <td>1.437584</td>\n",
       "      <td>0.008894</td>\n",
       "      <td>0.001664</td>\n",
       "      <td>2.40446</td>\n",
       "      <td>{'C': 2.404460046972835}</td>\n",
       "      <td>0.962758</td>\n",
       "      <td>0.968232</td>\n",
       "      <td>0.956696</td>\n",
       "      <td>0.962007</td>\n",
       "      <td>0.960461</td>\n",
       "      <td>0.962031</td>\n",
       "      <td>0.003739</td>\n",
       "      <td>6</td>\n",
       "    </tr>\n",
       "    <tr>\n",
       "      <th>9</th>\n",
       "      <td>14.780462</td>\n",
       "      <td>1.392490</td>\n",
       "      <td>0.005426</td>\n",
       "      <td>0.000718</td>\n",
       "      <td>2.83229</td>\n",
       "      <td>{'C': 2.832290311184182}</td>\n",
       "      <td>0.962760</td>\n",
       "      <td>0.968226</td>\n",
       "      <td>0.956688</td>\n",
       "      <td>0.962006</td>\n",
       "      <td>0.960461</td>\n",
       "      <td>0.962028</td>\n",
       "      <td>0.003740</td>\n",
       "      <td>7</td>\n",
       "    </tr>\n",
       "    <tr>\n",
       "      <th>2</th>\n",
       "      <td>18.095028</td>\n",
       "      <td>0.436138</td>\n",
       "      <td>0.009675</td>\n",
       "      <td>0.002155</td>\n",
       "      <td>2.92798</td>\n",
       "      <td>{'C': 2.9279757672456204}</td>\n",
       "      <td>0.962761</td>\n",
       "      <td>0.968228</td>\n",
       "      <td>0.956687</td>\n",
       "      <td>0.962003</td>\n",
       "      <td>0.960458</td>\n",
       "      <td>0.962027</td>\n",
       "      <td>0.003741</td>\n",
       "      <td>9</td>\n",
       "    </tr>\n",
       "    <tr>\n",
       "      <th>7</th>\n",
       "      <td>18.129031</td>\n",
       "      <td>0.448210</td>\n",
       "      <td>0.009041</td>\n",
       "      <td>0.000252</td>\n",
       "      <td>3.4647</td>\n",
       "      <td>{'C': 3.4647045830997407}</td>\n",
       "      <td>0.962761</td>\n",
       "      <td>0.968228</td>\n",
       "      <td>0.956687</td>\n",
       "      <td>0.962009</td>\n",
       "      <td>0.960453</td>\n",
       "      <td>0.962028</td>\n",
       "      <td>0.003741</td>\n",
       "      <td>8</td>\n",
       "    </tr>\n",
       "    <tr>\n",
       "      <th>1</th>\n",
       "      <td>18.158810</td>\n",
       "      <td>0.237538</td>\n",
       "      <td>0.008929</td>\n",
       "      <td>0.000369</td>\n",
       "      <td>3.80286</td>\n",
       "      <td>{'C': 3.8028572256396647}</td>\n",
       "      <td>0.962760</td>\n",
       "      <td>0.968227</td>\n",
       "      <td>0.956680</td>\n",
       "      <td>0.962013</td>\n",
       "      <td>0.960450</td>\n",
       "      <td>0.962026</td>\n",
       "      <td>0.003743</td>\n",
       "      <td>10</td>\n",
       "    </tr>\n",
       "  </tbody>\n",
       "</table>\n",
       "</div>"
      ],
      "text/plain": [
       "   mean_fit_time  std_fit_time  mean_score_time  std_score_time   param_C  \\\n",
       "6       3.183277      0.033934         0.009042        0.000496  0.232334   \n",
       "5       8.848153      0.747037         0.008727        0.000209  0.623978   \n",
       "4       8.912073      0.494012         0.009330        0.001017  0.624075   \n",
       "0      17.408767      0.154881         0.009085        0.000893   1.49816   \n",
       "3      17.469577      0.150116         0.009678        0.001768   2.39463   \n",
       "8      16.938676      1.437584         0.008894        0.001664   2.40446   \n",
       "9      14.780462      1.392490         0.005426        0.000718   2.83229   \n",
       "2      18.095028      0.436138         0.009675        0.002155   2.92798   \n",
       "7      18.129031      0.448210         0.009041        0.000252    3.4647   \n",
       "1      18.158810      0.237538         0.008929        0.000369   3.80286   \n",
       "\n",
       "                       params  split0_test_score  split1_test_score  \\\n",
       "6  {'C': 0.23233444867279784}           0.962693           0.968227   \n",
       "5   {'C': 0.6239780813448106}           0.962731           0.968228   \n",
       "4   {'C': 0.6240745617697461}           0.962731           0.968228   \n",
       "0     {'C': 1.49816047538945}           0.962746           0.968237   \n",
       "3   {'C': 2.3946339367881464}           0.962758           0.968233   \n",
       "8    {'C': 2.404460046972835}           0.962758           0.968232   \n",
       "9    {'C': 2.832290311184182}           0.962760           0.968226   \n",
       "2   {'C': 2.9279757672456204}           0.962761           0.968228   \n",
       "7   {'C': 3.4647045830997407}           0.962761           0.968228   \n",
       "1   {'C': 3.8028572256396647}           0.962760           0.968227   \n",
       "\n",
       "   split2_test_score  split3_test_score  split4_test_score  mean_test_score  \\\n",
       "6           0.956840           0.961949           0.960551         0.962052   \n",
       "5           0.956767           0.961982           0.960510         0.962044   \n",
       "4           0.956767           0.961982           0.960510         0.962044   \n",
       "0           0.956698           0.962003           0.960470         0.962031   \n",
       "3           0.956696           0.962007           0.960461         0.962031   \n",
       "8           0.956696           0.962007           0.960461         0.962031   \n",
       "9           0.956688           0.962006           0.960461         0.962028   \n",
       "2           0.956687           0.962003           0.960458         0.962027   \n",
       "7           0.956687           0.962009           0.960453         0.962028   \n",
       "1           0.956680           0.962013           0.960450         0.962026   \n",
       "\n",
       "   std_test_score  rank_test_score  \n",
       "6        0.003687                1  \n",
       "5        0.003713                3  \n",
       "4        0.003713                2  \n",
       "0        0.003739                5  \n",
       "3        0.003739                4  \n",
       "8        0.003739                6  \n",
       "9        0.003740                7  \n",
       "2        0.003741                9  \n",
       "7        0.003741                8  \n",
       "1        0.003743               10  "
      ]
     },
     "execution_count": 99,
     "metadata": {},
     "output_type": "execute_result"
    }
   ],
   "source": [
    "results = pd.DataFrame.from_dict(best_model.cv_results_)\n",
    "results=results.sort_values('param_C')\n",
    "results"
   ]
  },
  {
   "cell_type": "code",
   "execution_count": 100,
   "metadata": {},
   "outputs": [
    {
     "data": {
      "image/png": "[encoded data removed]",
      "text/plain": [
       "<Figure size 432x288 with 1 Axes>"
      ]
     },
     "metadata": {
      "needs_background": "light"
     },
     "output_type": "display_data"
    }
   ],
   "source": [
    "print_graph(results, 'param_C', 'mean_test_score', 'Hyperparameter - C', 'Test score')"
   ]
  },
  {
   "cell_type": "code",
   "execution_count": 101,
   "metadata": {},
   "outputs": [
    {
     "name": "stdout",
     "output_type": "stream",
     "text": [
      "[LibLinear][LibLinear][LibLinear][LibLinear][LibLinear]"
     ]
    },
    {
     "data": {
      "text/plain": [
       "CalibratedClassifierCV(base_estimator=LinearSVC(C=0.23233444867279784,\n",
       "                                                class_weight='balanced',\n",
       "                                                max_iter=2000, random_state=42,\n",
       "                                                verbose=2))"
      ]
     },
     "execution_count": 101,
     "metadata": {},
     "output_type": "execute_result"
    }
   ],
   "source": [
    "#https://stackoverflow.com/questions/26478000/converting-linearsvcs-decision-function-to-probabilities-scikit-learn-python\n",
    "model = LinearSVC(C=best_c,verbose=verbose,random_state=random_state,class_weight='balanced',max_iter=2000)\n",
    "model = CalibratedClassifierCV(model)\n",
    "model.fit(train_df_rc,y_train)"
   ]
  },
  {
   "cell_type": "code",
   "execution_count": 102,
   "metadata": {},
   "outputs": [],
   "source": [
    "predictions = model.predict_proba(test_df_rc)[:,1]\n",
    "save_submission(predictions, 'svm_rc.csv')"
   ]
  },
  {
   "cell_type": "code",
   "execution_count": null,
   "metadata": {},
   "outputs": [],
   "source": []
  },
  {
   "cell_type": "markdown",
   "metadata": {},
   "source": [
    "## 4.3 Logistic Regression with response encoding"
   ]
  },
  {
   "cell_type": "code",
   "execution_count": 103,
   "metadata": {},
   "outputs": [
    {
     "name": "stdout",
     "output_type": "stream",
     "text": [
      "Fitting 5 folds for each of 100 candidates, totalling 500 fits\n"
     ]
    },
    {
     "name": "stderr",
     "output_type": "stream",
     "text": [
      "[Parallel(n_jobs=-1)]: Using backend LokyBackend with 8 concurrent workers.\n",
      "[Parallel(n_jobs=-1)]: Done  25 tasks      | elapsed:    1.9s\n",
      "[Parallel(n_jobs=-1)]: Done 146 tasks      | elapsed:   10.2s\n",
      "[Parallel(n_jobs=-1)]: Done 349 tasks      | elapsed:   23.8s\n",
      "[Parallel(n_jobs=-1)]: Done 500 out of 500 | elapsed:   33.8s finished\n",
      "[Parallel(n_jobs=-1)]: Using backend LokyBackend with 8 concurrent workers.\n",
      "[Parallel(n_jobs=-1)]: Done   1 out of   1 | elapsed:    0.5s finished\n"
     ]
    }
   ],
   "source": [
    "C_val = uniform(loc=0, scale=4)\n",
    "lr= LogisticRegression(verbose=verbose,random_state=random_state,class_weight='balanced',solver='lbfgs',max_iter=500,n_jobs=-1)\n",
    "parameters={'C':C_val}\n",
    "clf = RandomizedSearchCV(lr,parameters,random_state=random_state,cv=cv,verbose=verbose,n_iter=100,scoring=scoring,n_jobs=-1)\n",
    "best_model = clf.fit(train_df_rc,y_train)"
   ]
  },
  {
   "cell_type": "code",
   "execution_count": 104,
   "metadata": {},
   "outputs": [
    {
     "data": {
      "text/plain": [
       "3.8783385110582342"
      ]
     },
     "execution_count": 104,
     "metadata": {},
     "output_type": "execute_result"
    }
   ],
   "source": [
    "best_c=best_model.best_params_['C']\n",
    "best_c"
   ]
  },
  {
   "cell_type": "code",
   "execution_count": 105,
   "metadata": {},
   "outputs": [
    {
     "data": {
      "text/html": [
       "<div>\n",
       "<style scoped>\n",
       "    .dataframe tbody tr th:only-of-type {\n",
       "        vertical-align: middle;\n",
       "    }\n",
       "\n",
       "    .dataframe tbody tr th {\n",
       "        vertical-align: top;\n",
       "    }\n",
       "\n",
       "    .dataframe thead th {\n",
       "        text-align: right;\n",
       "    }\n",
       "</style>\n",
       "<table border=\"1\" class=\"dataframe\">\n",
       "  <thead>\n",
       "    <tr style=\"text-align: right;\">\n",
       "      <th></th>\n",
       "      <th>mean_fit_time</th>\n",
       "      <th>std_fit_time</th>\n",
       "      <th>mean_score_time</th>\n",
       "      <th>std_score_time</th>\n",
       "      <th>param_C</th>\n",
       "      <th>params</th>\n",
       "      <th>split0_test_score</th>\n",
       "      <th>split1_test_score</th>\n",
       "      <th>split2_test_score</th>\n",
       "      <th>split3_test_score</th>\n",
       "      <th>split4_test_score</th>\n",
       "      <th>mean_test_score</th>\n",
       "      <th>std_test_score</th>\n",
       "      <th>rank_test_score</th>\n",
       "    </tr>\n",
       "  </thead>\n",
       "  <tbody>\n",
       "    <tr>\n",
       "      <th>72</th>\n",
       "      <td>0.327374</td>\n",
       "      <td>0.006836</td>\n",
       "      <td>0.011249</td>\n",
       "      <td>0.002206</td>\n",
       "      <td>0.0220885</td>\n",
       "      <td>{'C': 0.022088468494409597}</td>\n",
       "      <td>0.961174</td>\n",
       "      <td>0.966541</td>\n",
       "      <td>0.953542</td>\n",
       "      <td>0.960469</td>\n",
       "      <td>0.958646</td>\n",
       "      <td>0.960074</td>\n",
       "      <td>0.004193</td>\n",
       "      <td>100</td>\n",
       "    </tr>\n",
       "    <tr>\n",
       "      <th>10</th>\n",
       "      <td>0.349562</td>\n",
       "      <td>0.045889</td>\n",
       "      <td>0.015735</td>\n",
       "      <td>0.008208</td>\n",
       "      <td>0.082338</td>\n",
       "      <td>{'C': 0.08233797718320979}</td>\n",
       "      <td>0.962000</td>\n",
       "      <td>0.967349</td>\n",
       "      <td>0.954943</td>\n",
       "      <td>0.961462</td>\n",
       "      <td>0.959433</td>\n",
       "      <td>0.961037</td>\n",
       "      <td>0.004016</td>\n",
       "      <td>99</td>\n",
       "    </tr>\n",
       "    <tr>\n",
       "      <th>98</th>\n",
       "      <td>0.397482</td>\n",
       "      <td>0.052807</td>\n",
       "      <td>0.013315</td>\n",
       "      <td>0.005191</td>\n",
       "      <td>0.101677</td>\n",
       "      <td>{'C': 0.10167650697638075}</td>\n",
       "      <td>0.962099</td>\n",
       "      <td>0.967475</td>\n",
       "      <td>0.955163</td>\n",
       "      <td>0.961613</td>\n",
       "      <td>0.959566</td>\n",
       "      <td>0.961183</td>\n",
       "      <td>0.003987</td>\n",
       "      <td>98</td>\n",
       "    </tr>\n",
       "    <tr>\n",
       "      <th>42</th>\n",
       "      <td>0.375170</td>\n",
       "      <td>0.046277</td>\n",
       "      <td>0.011422</td>\n",
       "      <td>0.002756</td>\n",
       "      <td>0.137554</td>\n",
       "      <td>{'C': 0.13755408446087358}</td>\n",
       "      <td>0.962232</td>\n",
       "      <td>0.967616</td>\n",
       "      <td>0.955462</td>\n",
       "      <td>0.961811</td>\n",
       "      <td>0.959706</td>\n",
       "      <td>0.961365</td>\n",
       "      <td>0.003940</td>\n",
       "      <td>97</td>\n",
       "    </tr>\n",
       "    <tr>\n",
       "      <th>58</th>\n",
       "      <td>0.408102</td>\n",
       "      <td>0.080918</td>\n",
       "      <td>0.011763</td>\n",
       "      <td>0.002735</td>\n",
       "      <td>0.180909</td>\n",
       "      <td>{'C': 0.18090915564215226}</td>\n",
       "      <td>0.962303</td>\n",
       "      <td>0.967719</td>\n",
       "      <td>0.955701</td>\n",
       "      <td>0.961930</td>\n",
       "      <td>0.959816</td>\n",
       "      <td>0.961494</td>\n",
       "      <td>0.003898</td>\n",
       "      <td>96</td>\n",
       "    </tr>\n",
       "    <tr>\n",
       "      <th>...</th>\n",
       "      <td>...</td>\n",
       "      <td>...</td>\n",
       "      <td>...</td>\n",
       "      <td>...</td>\n",
       "      <td>...</td>\n",
       "      <td>...</td>\n",
       "      <td>...</td>\n",
       "      <td>...</td>\n",
       "      <td>...</td>\n",
       "      <td>...</td>\n",
       "      <td>...</td>\n",
       "      <td>...</td>\n",
       "      <td>...</td>\n",
       "      <td>...</td>\n",
       "    </tr>\n",
       "    <tr>\n",
       "      <th>1</th>\n",
       "      <td>0.553916</td>\n",
       "      <td>0.074240</td>\n",
       "      <td>0.012201</td>\n",
       "      <td>0.002789</td>\n",
       "      <td>3.80286</td>\n",
       "      <td>{'C': 3.8028572256396647}</td>\n",
       "      <td>0.962708</td>\n",
       "      <td>0.968389</td>\n",
       "      <td>0.956652</td>\n",
       "      <td>0.962017</td>\n",
       "      <td>0.960447</td>\n",
       "      <td>0.962042</td>\n",
       "      <td>0.003803</td>\n",
       "      <td>2</td>\n",
       "    </tr>\n",
       "    <tr>\n",
       "      <th>34</th>\n",
       "      <td>0.451665</td>\n",
       "      <td>0.092593</td>\n",
       "      <td>0.012936</td>\n",
       "      <td>0.001691</td>\n",
       "      <td>3.86253</td>\n",
       "      <td>{'C': 3.8625281322982374}</td>\n",
       "      <td>0.962709</td>\n",
       "      <td>0.968388</td>\n",
       "      <td>0.956649</td>\n",
       "      <td>0.962019</td>\n",
       "      <td>0.960447</td>\n",
       "      <td>0.962042</td>\n",
       "      <td>0.003804</td>\n",
       "      <td>3</td>\n",
       "    </tr>\n",
       "    <tr>\n",
       "      <th>50</th>\n",
       "      <td>0.537376</td>\n",
       "      <td>0.136078</td>\n",
       "      <td>0.013254</td>\n",
       "      <td>0.004744</td>\n",
       "      <td>3.87834</td>\n",
       "      <td>{'C': 3.8783385110582342}</td>\n",
       "      <td>0.962709</td>\n",
       "      <td>0.968387</td>\n",
       "      <td>0.956652</td>\n",
       "      <td>0.962019</td>\n",
       "      <td>0.960449</td>\n",
       "      <td>0.962043</td>\n",
       "      <td>0.003803</td>\n",
       "      <td>1</td>\n",
       "    </tr>\n",
       "    <tr>\n",
       "      <th>11</th>\n",
       "      <td>0.542682</td>\n",
       "      <td>0.102528</td>\n",
       "      <td>0.014036</td>\n",
       "      <td>0.000457</td>\n",
       "      <td>3.87964</td>\n",
       "      <td>{'C': 3.8796394086479773}</td>\n",
       "      <td>0.962705</td>\n",
       "      <td>0.968389</td>\n",
       "      <td>0.956641</td>\n",
       "      <td>0.962018</td>\n",
       "      <td>0.960449</td>\n",
       "      <td>0.962040</td>\n",
       "      <td>0.003806</td>\n",
       "      <td>7</td>\n",
       "    </tr>\n",
       "    <tr>\n",
       "      <th>69</th>\n",
       "      <td>0.567891</td>\n",
       "      <td>0.187088</td>\n",
       "      <td>0.011811</td>\n",
       "      <td>0.000920</td>\n",
       "      <td>3.94755</td>\n",
       "      <td>{'C': 3.947547746402069}</td>\n",
       "      <td>0.962702</td>\n",
       "      <td>0.968393</td>\n",
       "      <td>0.956641</td>\n",
       "      <td>0.962020</td>\n",
       "      <td>0.960447</td>\n",
       "      <td>0.962041</td>\n",
       "      <td>0.003808</td>\n",
       "      <td>6</td>\n",
       "    </tr>\n",
       "  </tbody>\n",
       "</table>\n",
       "<p>100 rows × 14 columns</p>\n",
       "</div>"
      ],
      "text/plain": [
       "    mean_fit_time  std_fit_time  mean_score_time  std_score_time    param_C  \\\n",
       "72       0.327374      0.006836         0.011249        0.002206  0.0220885   \n",
       "10       0.349562      0.045889         0.015735        0.008208   0.082338   \n",
       "98       0.397482      0.052807         0.013315        0.005191   0.101677   \n",
       "42       0.375170      0.046277         0.011422        0.002756   0.137554   \n",
       "58       0.408102      0.080918         0.011763        0.002735   0.180909   \n",
       "..            ...           ...              ...             ...        ...   \n",
       "1        0.553916      0.074240         0.012201        0.002789    3.80286   \n",
       "34       0.451665      0.092593         0.012936        0.001691    3.86253   \n",
       "50       0.537376      0.136078         0.013254        0.004744    3.87834   \n",
       "11       0.542682      0.102528         0.014036        0.000457    3.87964   \n",
       "69       0.567891      0.187088         0.011811        0.000920    3.94755   \n",
       "\n",
       "                         params  split0_test_score  split1_test_score  \\\n",
       "72  {'C': 0.022088468494409597}           0.961174           0.966541   \n",
       "10   {'C': 0.08233797718320979}           0.962000           0.967349   \n",
       "98   {'C': 0.10167650697638075}           0.962099           0.967475   \n",
       "42   {'C': 0.13755408446087358}           0.962232           0.967616   \n",
       "58   {'C': 0.18090915564215226}           0.962303           0.967719   \n",
       "..                          ...                ...                ...   \n",
       "1     {'C': 3.8028572256396647}           0.962708           0.968389   \n",
       "34    {'C': 3.8625281322982374}           0.962709           0.968388   \n",
       "50    {'C': 3.8783385110582342}           0.962709           0.968387   \n",
       "11    {'C': 3.8796394086479773}           0.962705           0.968389   \n",
       "69     {'C': 3.947547746402069}           0.962702           0.968393   \n",
       "\n",
       "    split2_test_score  split3_test_score  split4_test_score  mean_test_score  \\\n",
       "72           0.953542           0.960469           0.958646         0.960074   \n",
       "10           0.954943           0.961462           0.959433         0.961037   \n",
       "98           0.955163           0.961613           0.959566         0.961183   \n",
       "42           0.955462           0.961811           0.959706         0.961365   \n",
       "58           0.955701           0.961930           0.959816         0.961494   \n",
       "..                ...                ...                ...              ...   \n",
       "1            0.956652           0.962017           0.960447         0.962042   \n",
       "34           0.956649           0.962019           0.960447         0.962042   \n",
       "50           0.956652           0.962019           0.960449         0.962043   \n",
       "11           0.956641           0.962018           0.960449         0.962040   \n",
       "69           0.956641           0.962020           0.960447         0.962041   \n",
       "\n",
       "    std_test_score  rank_test_score  \n",
       "72        0.004193              100  \n",
       "10        0.004016               99  \n",
       "98        0.003987               98  \n",
       "42        0.003940               97  \n",
       "58        0.003898               96  \n",
       "..             ...              ...  \n",
       "1         0.003803                2  \n",
       "34        0.003804                3  \n",
       "50        0.003803                1  \n",
       "11        0.003806                7  \n",
       "69        0.003808                6  \n",
       "\n",
       "[100 rows x 14 columns]"
      ]
     },
     "execution_count": 105,
     "metadata": {},
     "output_type": "execute_result"
    }
   ],
   "source": [
    "results = pd.DataFrame.from_dict(best_model.cv_results_)\n",
    "results=results.sort_values('param_C')\n",
    "results"
   ]
  },
  {
   "cell_type": "code",
   "execution_count": 106,
   "metadata": {},
   "outputs": [
    {
     "data": {
      "image/png": "[encoded data removed]",
      "text/plain": [
       "<Figure size 432x288 with 1 Axes>"
      ]
     },
     "metadata": {
      "needs_background": "light"
     },
     "output_type": "display_data"
    }
   ],
   "source": [
    "print_graph(results, 'param_C', 'mean_test_score', 'Hyperparameter - C', 'Test score')"
   ]
  },
  {
   "cell_type": "code",
   "execution_count": 107,
   "metadata": {},
   "outputs": [
    {
     "name": "stderr",
     "output_type": "stream",
     "text": [
      "[Parallel(n_jobs=-1)]: Using backend LokyBackend with 8 concurrent workers.\n",
      "[Parallel(n_jobs=-1)]: Done   1 out of   1 | elapsed:    0.5s finished\n"
     ]
    },
    {
     "data": {
      "text/plain": [
       "LogisticRegression(C=3.8783385110582342, class_weight='balanced', n_jobs=-1,\n",
       "                   random_state=42, verbose=2)"
      ]
     },
     "execution_count": 107,
     "metadata": {},
     "output_type": "execute_result"
    }
   ],
   "source": [
    "model = LogisticRegression(C=best_c,verbose=verbose,n_jobs=-1,random_state=random_state,class_weight='balanced',solver='lbfgs')\n",
    "model.fit(train_df_rc,y_train)"
   ]
  },
  {
   "cell_type": "code",
   "execution_count": 108,
   "metadata": {},
   "outputs": [],
   "source": [
    "predictions = model.predict_proba(test_df_rc)[:,1]\n",
    "save_submission(predictions, 'lr_rc.csv')"
   ]
  },
  {
   "cell_type": "code",
   "execution_count": null,
   "metadata": {},
   "outputs": [],
   "source": []
  },
  {
   "cell_type": "markdown",
   "metadata": {},
   "source": [
    "## 4.4 Random Forest with response encoding"
   ]
  },
  {
   "cell_type": "code",
   "execution_count": 109,
   "metadata": {},
   "outputs": [
    {
     "name": "stdout",
     "output_type": "stream",
     "text": [
      "Fitting 5 folds for each of 100 candidates, totalling 500 fits\n"
     ]
    },
    {
     "name": "stderr",
     "output_type": "stream",
     "text": [
      "[Parallel(n_jobs=-1)]: Using backend LokyBackend with 8 concurrent workers.\n",
      "[Parallel(n_jobs=-1)]: Done  25 tasks      | elapsed:   18.6s\n",
      "[Parallel(n_jobs=-1)]: Done 146 tasks      | elapsed:  2.9min\n",
      "[Parallel(n_jobs=-1)]: Done 349 tasks      | elapsed:  6.8min\n",
      "[Parallel(n_jobs=-1)]: Done 500 out of 500 | elapsed: 10.1min finished\n"
     ]
    }
   ],
   "source": [
    "rfc = RandomForestClassifier(random_state=random_state,class_weight='balanced',n_jobs=-1)\n",
    "clf = RandomizedSearchCV(rfc,get_rf_params(),random_state=random_state,cv=cv,verbose=verbose,n_iter=100,scoring=scoring,n_jobs=-1)\n",
    "best_model = clf.fit(train_df_rc,y_train)"
   ]
  },
  {
   "cell_type": "code",
   "execution_count": 110,
   "metadata": {},
   "outputs": [
    {
     "data": {
      "text/html": [
       "<div>\n",
       "<style scoped>\n",
       "    .dataframe tbody tr th:only-of-type {\n",
       "        vertical-align: middle;\n",
       "    }\n",
       "\n",
       "    .dataframe tbody tr th {\n",
       "        vertical-align: top;\n",
       "    }\n",
       "\n",
       "    .dataframe thead th {\n",
       "        text-align: right;\n",
       "    }\n",
       "</style>\n",
       "<table border=\"1\" class=\"dataframe\">\n",
       "  <thead>\n",
       "    <tr style=\"text-align: right;\">\n",
       "      <th></th>\n",
       "      <th>param_n_estimators</th>\n",
       "      <th>param_max_depth</th>\n",
       "      <th>param_max_features</th>\n",
       "      <th>param_min_samples_split</th>\n",
       "      <th>mean_test_score</th>\n",
       "    </tr>\n",
       "  </thead>\n",
       "  <tbody>\n",
       "    <tr>\n",
       "      <th>68</th>\n",
       "      <td>1000</td>\n",
       "      <td>10</td>\n",
       "      <td>4</td>\n",
       "      <td>20</td>\n",
       "      <td>0.978213</td>\n",
       "    </tr>\n",
       "    <tr>\n",
       "      <th>26</th>\n",
       "      <td>700</td>\n",
       "      <td>12</td>\n",
       "      <td>4</td>\n",
       "      <td>20</td>\n",
       "      <td>0.978080</td>\n",
       "    </tr>\n",
       "    <tr>\n",
       "      <th>64</th>\n",
       "      <td>700</td>\n",
       "      <td>10</td>\n",
       "      <td>5</td>\n",
       "      <td>7</td>\n",
       "      <td>0.977829</td>\n",
       "    </tr>\n",
       "    <tr>\n",
       "      <th>82</th>\n",
       "      <td>700</td>\n",
       "      <td>20</td>\n",
       "      <td>5</td>\n",
       "      <td>20</td>\n",
       "      <td>0.977748</td>\n",
       "    </tr>\n",
       "    <tr>\n",
       "      <th>41</th>\n",
       "      <td>500</td>\n",
       "      <td>10</td>\n",
       "      <td>3</td>\n",
       "      <td>7</td>\n",
       "      <td>0.977430</td>\n",
       "    </tr>\n",
       "    <tr>\n",
       "      <th>96</th>\n",
       "      <td>100</td>\n",
       "      <td>10</td>\n",
       "      <td>3</td>\n",
       "      <td>10</td>\n",
       "      <td>0.977397</td>\n",
       "    </tr>\n",
       "    <tr>\n",
       "      <th>87</th>\n",
       "      <td>200</td>\n",
       "      <td>10</td>\n",
       "      <td>5</td>\n",
       "      <td>2</td>\n",
       "      <td>0.977377</td>\n",
       "    </tr>\n",
       "    <tr>\n",
       "      <th>11</th>\n",
       "      <td>1000</td>\n",
       "      <td>15</td>\n",
       "      <td>3</td>\n",
       "      <td>7</td>\n",
       "      <td>0.977211</td>\n",
       "    </tr>\n",
       "    <tr>\n",
       "      <th>85</th>\n",
       "      <td>1000</td>\n",
       "      <td>20</td>\n",
       "      <td>3</td>\n",
       "      <td>7</td>\n",
       "      <td>0.977043</td>\n",
       "    </tr>\n",
       "    <tr>\n",
       "      <th>25</th>\n",
       "      <td>700</td>\n",
       "      <td>15</td>\n",
       "      <td>4</td>\n",
       "      <td>7</td>\n",
       "      <td>0.976876</td>\n",
       "    </tr>\n",
       "  </tbody>\n",
       "</table>\n",
       "</div>"
      ],
      "text/plain": [
       "   param_n_estimators param_max_depth param_max_features  \\\n",
       "68               1000              10                  4   \n",
       "26                700              12                  4   \n",
       "64                700              10                  5   \n",
       "82                700              20                  5   \n",
       "41                500              10                  3   \n",
       "96                100              10                  3   \n",
       "87                200              10                  5   \n",
       "11               1000              15                  3   \n",
       "85               1000              20                  3   \n",
       "25                700              15                  4   \n",
       "\n",
       "   param_min_samples_split  mean_test_score  \n",
       "68                      20         0.978213  \n",
       "26                      20         0.978080  \n",
       "64                       7         0.977829  \n",
       "82                      20         0.977748  \n",
       "41                       7         0.977430  \n",
       "96                      10         0.977397  \n",
       "87                       2         0.977377  \n",
       "11                       7         0.977211  \n",
       "85                       7         0.977043  \n",
       "25                       7         0.976876  "
      ]
     },
     "execution_count": 110,
     "metadata": {},
     "output_type": "execute_result"
    }
   ],
   "source": [
    "results = pd.DataFrame(best_model.cv_results_)\n",
    "results.sort_values('mean_test_score',ascending=False,inplace=True)\n",
    "param_keys=['param_'+str(each) for each in get_rf_params().keys()]\n",
    "param_keys.append('mean_test_score')\n",
    "results[param_keys].head(10)"
   ]
  },
  {
   "cell_type": "code",
   "execution_count": 111,
   "metadata": {},
   "outputs": [
    {
     "data": {
      "text/plain": [
       "(1000, 4, 10, 20)"
      ]
     },
     "execution_count": 111,
     "metadata": {},
     "output_type": "execute_result"
    }
   ],
   "source": [
    "n_estimators=clf.best_params_['n_estimators']\n",
    "max_features=clf.best_params_['max_features']\n",
    "max_depth=clf.best_params_['max_depth']\n",
    "min_samples_split=clf.best_params_['min_samples_split']\n",
    "n_estimators,max_features,max_depth,min_samples_split"
   ]
  },
  {
   "cell_type": "code",
   "execution_count": 112,
   "metadata": {},
   "outputs": [
    {
     "data": {
      "text/plain": [
       "RandomForestClassifier(class_weight='balanced', max_depth=10, max_features=4,\n",
       "                       min_samples_split=20, n_estimators=1000, n_jobs=-1,\n",
       "                       random_state=42)"
      ]
     },
     "execution_count": 112,
     "metadata": {},
     "output_type": "execute_result"
    }
   ],
   "source": [
    "model=RandomForestClassifier(n_estimators=n_estimators,max_depth=max_depth,max_features=max_features,\n",
    "                             min_samples_split=min_samples_split,\n",
    "                             random_state=random_state,class_weight='balanced',n_jobs=-1)\n",
    "\n",
    "model.fit(train_df_rc,y_train)"
   ]
  },
  {
   "cell_type": "code",
   "execution_count": 113,
   "metadata": {},
   "outputs": [
    {
     "data": {
      "image/png": "[encoded data removed]",
      "text/plain": [
       "<Figure size 432x288 with 1 Axes>"
      ]
     },
     "metadata": {
      "needs_background": "light"
     },
     "output_type": "display_data"
    }
   ],
   "source": [
    "features=train_df_rc.columns\n",
    "importance=model.feature_importances_\n",
    "features=pd.DataFrame({'features':features,'value':importance})\n",
    "features=features.sort_values('value',ascending=False)\n",
    "sns.barplot('value','features',data=features);\n",
    "plt.title('Feature Importance');"
   ]
  },
  {
   "cell_type": "code",
   "execution_count": 114,
   "metadata": {},
   "outputs": [],
   "source": [
    "predictions = model.predict_proba(test_df_rc)[:,1]\n",
    "save_submission(predictions, 'rf_rc.csv')"
   ]
  },
  {
   "cell_type": "code",
   "execution_count": null,
   "metadata": {},
   "outputs": [],
   "source": []
  },
  {
   "cell_type": "markdown",
   "metadata": {},
   "source": [
    "## 4.5 Xgboost with response encoding"
   ]
  },
  {
   "cell_type": "code",
   "execution_count": 115,
   "metadata": {},
   "outputs": [
    {
     "name": "stdout",
     "output_type": "stream",
     "text": [
      "Fitting 5 folds for each of 100 candidates, totalling 500 fits\n"
     ]
    },
    {
     "name": "stderr",
     "output_type": "stream",
     "text": [
      "[Parallel(n_jobs=-1)]: Using backend LokyBackend with 8 concurrent workers.\n",
      "[Parallel(n_jobs=-1)]: Done  25 tasks      | elapsed:    6.8s\n",
      "[Parallel(n_jobs=-1)]: Done 146 tasks      | elapsed:  1.8min\n",
      "[Parallel(n_jobs=-1)]: Done 349 tasks      | elapsed:  4.5min\n",
      "[Parallel(n_jobs=-1)]: Done 500 out of 500 | elapsed:  7.5min finished\n"
     ]
    }
   ],
   "source": [
    "xgb = XGBClassifier()\n",
    "clf = RandomizedSearchCV(xgb,get_xgb_params(),random_state=random_state,cv=cv,verbose=verbose,n_iter=100,scoring=scoring,n_jobs=-1)\n",
    "best_model=clf.fit(train_df_rc,y_train)"
   ]
  },
  {
   "cell_type": "code",
   "execution_count": 116,
   "metadata": {},
   "outputs": [
    {
     "data": {
      "text/html": [
       "<div>\n",
       "<style scoped>\n",
       "    .dataframe tbody tr th:only-of-type {\n",
       "        vertical-align: middle;\n",
       "    }\n",
       "\n",
       "    .dataframe tbody tr th {\n",
       "        vertical-align: top;\n",
       "    }\n",
       "\n",
       "    .dataframe thead th {\n",
       "        text-align: right;\n",
       "    }\n",
       "</style>\n",
       "<table border=\"1\" class=\"dataframe\">\n",
       "  <thead>\n",
       "    <tr style=\"text-align: right;\">\n",
       "      <th></th>\n",
       "      <th>param_n_estimators</th>\n",
       "      <th>param_learning_rate</th>\n",
       "      <th>param_subsample</th>\n",
       "      <th>param_max_depth</th>\n",
       "      <th>param_colsample_bytree</th>\n",
       "      <th>param_min_child_weight</th>\n",
       "      <th>mean_test_score</th>\n",
       "    </tr>\n",
       "  </thead>\n",
       "  <tbody>\n",
       "    <tr>\n",
       "      <th>1</th>\n",
       "      <td>200</td>\n",
       "      <td>0.0699849</td>\n",
       "      <td>0.601115</td>\n",
       "      <td>5</td>\n",
       "      <td>0.445833</td>\n",
       "      <td>4</td>\n",
       "      <td>0.980332</td>\n",
       "    </tr>\n",
       "    <tr>\n",
       "      <th>28</th>\n",
       "      <td>500</td>\n",
       "      <td>0.0141713</td>\n",
       "      <td>0.222108</td>\n",
       "      <td>5</td>\n",
       "      <td>0.860731</td>\n",
       "      <td>1</td>\n",
       "      <td>0.980097</td>\n",
       "    </tr>\n",
       "    <tr>\n",
       "      <th>7</th>\n",
       "      <td>500</td>\n",
       "      <td>0.017959</td>\n",
       "      <td>0.808397</td>\n",
       "      <td>3</td>\n",
       "      <td>0.450499</td>\n",
       "      <td>4</td>\n",
       "      <td>0.980070</td>\n",
       "    </tr>\n",
       "    <tr>\n",
       "      <th>98</th>\n",
       "      <td>50</td>\n",
       "      <td>0.220131</td>\n",
       "      <td>0.777147</td>\n",
       "      <td>6</td>\n",
       "      <td>0.591889</td>\n",
       "      <td>3</td>\n",
       "      <td>0.979997</td>\n",
       "    </tr>\n",
       "    <tr>\n",
       "      <th>41</th>\n",
       "      <td>20</td>\n",
       "      <td>0.34312</td>\n",
       "      <td>0.996254</td>\n",
       "      <td>6</td>\n",
       "      <td>0.817222</td>\n",
       "      <td>1</td>\n",
       "      <td>0.979949</td>\n",
       "    </tr>\n",
       "    <tr>\n",
       "      <th>58</th>\n",
       "      <td>50</td>\n",
       "      <td>0.454461</td>\n",
       "      <td>0.708911</td>\n",
       "      <td>3</td>\n",
       "      <td>0.877373</td>\n",
       "      <td>1</td>\n",
       "      <td>0.979929</td>\n",
       "    </tr>\n",
       "    <tr>\n",
       "      <th>33</th>\n",
       "      <td>100</td>\n",
       "      <td>0.153737</td>\n",
       "      <td>0.447783</td>\n",
       "      <td>4</td>\n",
       "      <td>0.908266</td>\n",
       "      <td>1</td>\n",
       "      <td>0.979679</td>\n",
       "    </tr>\n",
       "    <tr>\n",
       "      <th>74</th>\n",
       "      <td>20</td>\n",
       "      <td>0.432195</td>\n",
       "      <td>0.763364</td>\n",
       "      <td>6</td>\n",
       "      <td>0.855461</td>\n",
       "      <td>4</td>\n",
       "      <td>0.979671</td>\n",
       "    </tr>\n",
       "    <tr>\n",
       "      <th>94</th>\n",
       "      <td>20</td>\n",
       "      <td>0.591191</td>\n",
       "      <td>0.618218</td>\n",
       "      <td>3</td>\n",
       "      <td>0.705831</td>\n",
       "      <td>2</td>\n",
       "      <td>0.979554</td>\n",
       "    </tr>\n",
       "    <tr>\n",
       "      <th>88</th>\n",
       "      <td>200</td>\n",
       "      <td>0.307937</td>\n",
       "      <td>0.895523</td>\n",
       "      <td>3</td>\n",
       "      <td>0.534327</td>\n",
       "      <td>2</td>\n",
       "      <td>0.979545</td>\n",
       "    </tr>\n",
       "  </tbody>\n",
       "</table>\n",
       "</div>"
      ],
      "text/plain": [
       "   param_n_estimators param_learning_rate param_subsample param_max_depth  \\\n",
       "1                 200           0.0699849        0.601115               5   \n",
       "28                500           0.0141713        0.222108               5   \n",
       "7                 500            0.017959        0.808397               3   \n",
       "98                 50            0.220131        0.777147               6   \n",
       "41                 20             0.34312        0.996254               6   \n",
       "58                 50            0.454461        0.708911               3   \n",
       "33                100            0.153737        0.447783               4   \n",
       "74                 20            0.432195        0.763364               6   \n",
       "94                 20            0.591191        0.618218               3   \n",
       "88                200            0.307937        0.895523               3   \n",
       "\n",
       "   param_colsample_bytree param_min_child_weight  mean_test_score  \n",
       "1                0.445833                      4         0.980332  \n",
       "28               0.860731                      1         0.980097  \n",
       "7                0.450499                      4         0.980070  \n",
       "98               0.591889                      3         0.979997  \n",
       "41               0.817222                      1         0.979949  \n",
       "58               0.877373                      1         0.979929  \n",
       "33               0.908266                      1         0.979679  \n",
       "74               0.855461                      4         0.979671  \n",
       "94               0.705831                      2         0.979554  \n",
       "88               0.534327                      2         0.979545  "
      ]
     },
     "execution_count": 116,
     "metadata": {},
     "output_type": "execute_result"
    }
   ],
   "source": [
    "results = pd.DataFrame(best_model.cv_results_)\n",
    "results.sort_values('mean_test_score',ascending=False,inplace=True)\n",
    "param_keys=['param_'+str(each) for each in get_xgb_params().keys()]\n",
    "param_keys.append('mean_test_score')\n",
    "results[param_keys].head(10)"
   ]
  },
  {
   "cell_type": "code",
   "execution_count": 117,
   "metadata": {},
   "outputs": [
    {
     "data": {
      "text/plain": [
       "(0.44583275285359114, 0.06998494949080172, 5, 4, 200, 0.6011150117432088)"
      ]
     },
     "execution_count": 117,
     "metadata": {},
     "output_type": "execute_result"
    }
   ],
   "source": [
    "colsample_bytree = clf.best_params_['colsample_bytree']\n",
    "learning_rate=clf.best_params_['learning_rate']\n",
    "max_depth=clf.best_params_['max_depth']\n",
    "min_child_weight=clf.best_params_['min_child_weight']\n",
    "n_estimators=clf.best_params_['n_estimators']\n",
    "subsample=clf.best_params_['subsample']\n",
    "colsample_bytree,learning_rate,max_depth,min_child_weight,n_estimators,subsample"
   ]
  },
  {
   "cell_type": "code",
   "execution_count": 118,
   "metadata": {},
   "outputs": [
    {
     "data": {
      "text/plain": [
       "XGBClassifier(base_score=0.5, booster='gbtree', colsample_bylevel=1,\n",
       "              colsample_bynode=1, colsample_bytree=0.44583275285359114, gamma=0,\n",
       "              gpu_id=-1, importance_type='gain', interaction_constraints='',\n",
       "              learning_rate=0.06998494949080172, max_delta_step=0, max_depth=5,\n",
       "              min_child_weight=4, missing=nan, monotone_constraints='()',\n",
       "              n_estimators=200, n_jobs=-1, num_parallel_tree=1, random_state=0,\n",
       "              reg_alpha=0, reg_lambda=1, scale_pos_weight=1,\n",
       "              subsample=0.6011150117432088, tree_method='exact',\n",
       "              validate_parameters=1, verbosity=None)"
      ]
     },
     "execution_count": 118,
     "metadata": {},
     "output_type": "execute_result"
    }
   ],
   "source": [
    "model = XGBClassifier(colsample_bytree=colsample_bytree,learning_rate=learning_rate,max_depth=max_depth,\n",
    "                     min_child_weight=min_child_weight,n_estimators=n_estimators,subsample=subsample,n_jobs=-1)\n",
    "\n",
    "model.fit(train_df_rc,y_train)"
   ]
  },
  {
   "cell_type": "code",
   "execution_count": 119,
   "metadata": {},
   "outputs": [
    {
     "data": {
      "image/png": "[encoded data removed]",
      "text/plain": [
       "<Figure size 432x288 with 1 Axes>"
      ]
     },
     "metadata": {
      "needs_background": "light"
     },
     "output_type": "display_data"
    }
   ],
   "source": [
    "features=train_df_rc.columns\n",
    "importance=model.feature_importances_\n",
    "features=pd.DataFrame({'features':features,'value':importance})\n",
    "features=features.sort_values('value',ascending=False)\n",
    "sns.barplot('value','features',data=features);\n",
    "plt.title('Feature Importance');"
   ]
  },
  {
   "cell_type": "code",
   "execution_count": 120,
   "metadata": {},
   "outputs": [],
   "source": [
    "predictions = model.predict_proba(test_df_rc)[:,1]\n",
    "save_submission(predictions, 'xgb_rc.csv')"
   ]
  },
  {
   "cell_type": "code",
   "execution_count": null,
   "metadata": {},
   "outputs": [],
   "source": []
  },
  {
   "cell_type": "code",
   "execution_count": null,
   "metadata": {},
   "outputs": [],
   "source": []
  },
  {
   "cell_type": "code",
   "execution_count": null,
   "metadata": {},
   "outputs": [],
   "source": []
  },
  {
   "cell_type": "markdown",
   "metadata": {},
   "source": [
    "# 5 Build model on SVD feature"
   ]
  },
  {
   "cell_type": "code",
   "execution_count": 122,
   "metadata": {},
   "outputs": [],
   "source": [
    "train_svd = pd.read_csv('data/train_svd.csv')\n",
    "test_svd = pd.read_csv('data/test_svd.csv')"
   ]
  },
  {
   "cell_type": "code",
   "execution_count": 123,
   "metadata": {},
   "outputs": [
    {
     "data": {
      "text/plain": [
       "((32769, 72), (58921, 72), (32769,))"
      ]
     },
     "execution_count": 123,
     "metadata": {},
     "output_type": "execute_result"
    }
   ],
   "source": [
    "train_svd.shape, test_svd.shape, y_train.shape"
   ]
  },
  {
   "cell_type": "markdown",
   "metadata": {},
   "source": [
    "## 5.1 KNN with SVD"
   ]
  },
  {
   "cell_type": "code",
   "execution_count": 124,
   "metadata": {},
   "outputs": [
    {
     "name": "stdout",
     "output_type": "stream",
     "text": [
      "Fitting 5 folds for each of 10 candidates, totalling 50 fits\n"
     ]
    },
    {
     "name": "stderr",
     "output_type": "stream",
     "text": [
      "[Parallel(n_jobs=-1)]: Using backend LokyBackend with 8 concurrent workers.\n",
      "[Parallel(n_jobs=-1)]: Done  25 tasks      | elapsed:   17.7s\n",
      "[Parallel(n_jobs=-1)]: Done  50 out of  50 | elapsed:   34.5s finished\n"
     ]
    }
   ],
   "source": [
    "parameters={'n_neighbors':np.arange(1,100, 5)}\n",
    "clf = RandomizedSearchCV(KNeighborsClassifier(n_jobs=-1),parameters,random_state=random_state,cv=cv,verbose=verbose,scoring=scoring,n_jobs=-1)\n",
    "best_model = clf.fit(train_svd,y_train)"
   ]
  },
  {
   "cell_type": "code",
   "execution_count": 125,
   "metadata": {},
   "outputs": [
    {
     "data": {
      "text/html": [
       "<div>\n",
       "<style scoped>\n",
       "    .dataframe tbody tr th:only-of-type {\n",
       "        vertical-align: middle;\n",
       "    }\n",
       "\n",
       "    .dataframe tbody tr th {\n",
       "        vertical-align: top;\n",
       "    }\n",
       "\n",
       "    .dataframe thead th {\n",
       "        text-align: right;\n",
       "    }\n",
       "</style>\n",
       "<table border=\"1\" class=\"dataframe\">\n",
       "  <thead>\n",
       "    <tr style=\"text-align: right;\">\n",
       "      <th></th>\n",
       "      <th>mean_fit_time</th>\n",
       "      <th>std_fit_time</th>\n",
       "      <th>mean_score_time</th>\n",
       "      <th>std_score_time</th>\n",
       "      <th>param_n_neighbors</th>\n",
       "      <th>params</th>\n",
       "      <th>split0_test_score</th>\n",
       "      <th>split1_test_score</th>\n",
       "      <th>split2_test_score</th>\n",
       "      <th>split3_test_score</th>\n",
       "      <th>split4_test_score</th>\n",
       "      <th>mean_test_score</th>\n",
       "      <th>std_test_score</th>\n",
       "      <th>rank_test_score</th>\n",
       "    </tr>\n",
       "  </thead>\n",
       "  <tbody>\n",
       "    <tr>\n",
       "      <th>0</th>\n",
       "      <td>0.456659</td>\n",
       "      <td>0.018893</td>\n",
       "      <td>0.814999</td>\n",
       "      <td>0.094421</td>\n",
       "      <td>1</td>\n",
       "      <td>{'n_neighbors': 1}</td>\n",
       "      <td>0.683686</td>\n",
       "      <td>0.708752</td>\n",
       "      <td>0.711678</td>\n",
       "      <td>0.695199</td>\n",
       "      <td>0.688302</td>\n",
       "      <td>0.697523</td>\n",
       "      <td>0.011030</td>\n",
       "      <td>10</td>\n",
       "    </tr>\n",
       "    <tr>\n",
       "      <th>3</th>\n",
       "      <td>1.847875</td>\n",
       "      <td>0.670771</td>\n",
       "      <td>1.563348</td>\n",
       "      <td>0.189923</td>\n",
       "      <td>6</td>\n",
       "      <td>{'n_neighbors': 6}</td>\n",
       "      <td>0.774836</td>\n",
       "      <td>0.790142</td>\n",
       "      <td>0.790174</td>\n",
       "      <td>0.802106</td>\n",
       "      <td>0.796821</td>\n",
       "      <td>0.790816</td>\n",
       "      <td>0.009162</td>\n",
       "      <td>1</td>\n",
       "    </tr>\n",
       "    <tr>\n",
       "      <th>7</th>\n",
       "      <td>1.630743</td>\n",
       "      <td>0.761278</td>\n",
       "      <td>2.304946</td>\n",
       "      <td>0.578605</td>\n",
       "      <td>16</td>\n",
       "      <td>{'n_neighbors': 16}</td>\n",
       "      <td>0.775776</td>\n",
       "      <td>0.805809</td>\n",
       "      <td>0.785608</td>\n",
       "      <td>0.791553</td>\n",
       "      <td>0.781162</td>\n",
       "      <td>0.787981</td>\n",
       "      <td>0.010312</td>\n",
       "      <td>2</td>\n",
       "    </tr>\n",
       "    <tr>\n",
       "      <th>5</th>\n",
       "      <td>2.093098</td>\n",
       "      <td>0.828599</td>\n",
       "      <td>2.896172</td>\n",
       "      <td>0.737450</td>\n",
       "      <td>26</td>\n",
       "      <td>{'n_neighbors': 26}</td>\n",
       "      <td>0.767621</td>\n",
       "      <td>0.787773</td>\n",
       "      <td>0.778761</td>\n",
       "      <td>0.774628</td>\n",
       "      <td>0.773609</td>\n",
       "      <td>0.776478</td>\n",
       "      <td>0.006677</td>\n",
       "      <td>3</td>\n",
       "    </tr>\n",
       "    <tr>\n",
       "      <th>4</th>\n",
       "      <td>1.432842</td>\n",
       "      <td>0.548565</td>\n",
       "      <td>3.511169</td>\n",
       "      <td>0.441891</td>\n",
       "      <td>41</td>\n",
       "      <td>{'n_neighbors': 41}</td>\n",
       "      <td>0.756356</td>\n",
       "      <td>0.776811</td>\n",
       "      <td>0.769727</td>\n",
       "      <td>0.761724</td>\n",
       "      <td>0.757368</td>\n",
       "      <td>0.764398</td>\n",
       "      <td>0.007794</td>\n",
       "      <td>4</td>\n",
       "    </tr>\n",
       "    <tr>\n",
       "      <th>6</th>\n",
       "      <td>1.243584</td>\n",
       "      <td>0.194949</td>\n",
       "      <td>4.611563</td>\n",
       "      <td>0.199207</td>\n",
       "      <td>56</td>\n",
       "      <td>{'n_neighbors': 56}</td>\n",
       "      <td>0.748039</td>\n",
       "      <td>0.760013</td>\n",
       "      <td>0.760727</td>\n",
       "      <td>0.752137</td>\n",
       "      <td>0.751543</td>\n",
       "      <td>0.754492</td>\n",
       "      <td>0.005005</td>\n",
       "      <td>5</td>\n",
       "    </tr>\n",
       "    <tr>\n",
       "      <th>2</th>\n",
       "      <td>2.660249</td>\n",
       "      <td>0.570107</td>\n",
       "      <td>4.373269</td>\n",
       "      <td>0.521148</td>\n",
       "      <td>76</td>\n",
       "      <td>{'n_neighbors': 76}</td>\n",
       "      <td>0.732281</td>\n",
       "      <td>0.737831</td>\n",
       "      <td>0.753871</td>\n",
       "      <td>0.732209</td>\n",
       "      <td>0.742187</td>\n",
       "      <td>0.739676</td>\n",
       "      <td>0.008021</td>\n",
       "      <td>6</td>\n",
       "    </tr>\n",
       "    <tr>\n",
       "      <th>9</th>\n",
       "      <td>2.578894</td>\n",
       "      <td>0.476510</td>\n",
       "      <td>3.798244</td>\n",
       "      <td>0.735977</td>\n",
       "      <td>81</td>\n",
       "      <td>{'n_neighbors': 81}</td>\n",
       "      <td>0.730612</td>\n",
       "      <td>0.731773</td>\n",
       "      <td>0.751814</td>\n",
       "      <td>0.731879</td>\n",
       "      <td>0.743131</td>\n",
       "      <td>0.737842</td>\n",
       "      <td>0.008341</td>\n",
       "      <td>7</td>\n",
       "    </tr>\n",
       "    <tr>\n",
       "      <th>1</th>\n",
       "      <td>1.136795</td>\n",
       "      <td>0.882508</td>\n",
       "      <td>4.522303</td>\n",
       "      <td>0.451833</td>\n",
       "      <td>86</td>\n",
       "      <td>{'n_neighbors': 86}</td>\n",
       "      <td>0.728424</td>\n",
       "      <td>0.728917</td>\n",
       "      <td>0.747933</td>\n",
       "      <td>0.731289</td>\n",
       "      <td>0.745360</td>\n",
       "      <td>0.736385</td>\n",
       "      <td>0.008474</td>\n",
       "      <td>8</td>\n",
       "    </tr>\n",
       "    <tr>\n",
       "      <th>8</th>\n",
       "      <td>1.592410</td>\n",
       "      <td>0.775914</td>\n",
       "      <td>5.041160</td>\n",
       "      <td>0.284380</td>\n",
       "      <td>91</td>\n",
       "      <td>{'n_neighbors': 91}</td>\n",
       "      <td>0.724298</td>\n",
       "      <td>0.725631</td>\n",
       "      <td>0.742431</td>\n",
       "      <td>0.728516</td>\n",
       "      <td>0.744969</td>\n",
       "      <td>0.733169</td>\n",
       "      <td>0.008743</td>\n",
       "      <td>9</td>\n",
       "    </tr>\n",
       "  </tbody>\n",
       "</table>\n",
       "</div>"
      ],
      "text/plain": [
       "   mean_fit_time  std_fit_time  mean_score_time  std_score_time  \\\n",
       "0       0.456659      0.018893         0.814999        0.094421   \n",
       "3       1.847875      0.670771         1.563348        0.189923   \n",
       "7       1.630743      0.761278         2.304946        0.578605   \n",
       "5       2.093098      0.828599         2.896172        0.737450   \n",
       "4       1.432842      0.548565         3.511169        0.441891   \n",
       "6       1.243584      0.194949         4.611563        0.199207   \n",
       "2       2.660249      0.570107         4.373269        0.521148   \n",
       "9       2.578894      0.476510         3.798244        0.735977   \n",
       "1       1.136795      0.882508         4.522303        0.451833   \n",
       "8       1.592410      0.775914         5.041160        0.284380   \n",
       "\n",
       "  param_n_neighbors               params  split0_test_score  \\\n",
       "0                 1   {'n_neighbors': 1}           0.683686   \n",
       "3                 6   {'n_neighbors': 6}           0.774836   \n",
       "7                16  {'n_neighbors': 16}           0.775776   \n",
       "5                26  {'n_neighbors': 26}           0.767621   \n",
       "4                41  {'n_neighbors': 41}           0.756356   \n",
       "6                56  {'n_neighbors': 56}           0.748039   \n",
       "2                76  {'n_neighbors': 76}           0.732281   \n",
       "9                81  {'n_neighbors': 81}           0.730612   \n",
       "1                86  {'n_neighbors': 86}           0.728424   \n",
       "8                91  {'n_neighbors': 91}           0.724298   \n",
       "\n",
       "   split1_test_score  split2_test_score  split3_test_score  split4_test_score  \\\n",
       "0           0.708752           0.711678           0.695199           0.688302   \n",
       "3           0.790142           0.790174           0.802106           0.796821   \n",
       "7           0.805809           0.785608           0.791553           0.781162   \n",
       "5           0.787773           0.778761           0.774628           0.773609   \n",
       "4           0.776811           0.769727           0.761724           0.757368   \n",
       "6           0.760013           0.760727           0.752137           0.751543   \n",
       "2           0.737831           0.753871           0.732209           0.742187   \n",
       "9           0.731773           0.751814           0.731879           0.743131   \n",
       "1           0.728917           0.747933           0.731289           0.745360   \n",
       "8           0.725631           0.742431           0.728516           0.744969   \n",
       "\n",
       "   mean_test_score  std_test_score  rank_test_score  \n",
       "0         0.697523        0.011030               10  \n",
       "3         0.790816        0.009162                1  \n",
       "7         0.787981        0.010312                2  \n",
       "5         0.776478        0.006677                3  \n",
       "4         0.764398        0.007794                4  \n",
       "6         0.754492        0.005005                5  \n",
       "2         0.739676        0.008021                6  \n",
       "9         0.737842        0.008341                7  \n",
       "1         0.736385        0.008474                8  \n",
       "8         0.733169        0.008743                9  "
      ]
     },
     "execution_count": 125,
     "metadata": {},
     "output_type": "execute_result"
    }
   ],
   "source": [
    "results = pd.DataFrame.from_dict(best_model.cv_results_)\n",
    "results=results.sort_values('param_n_neighbors')\n",
    "results"
   ]
  },
  {
   "cell_type": "code",
   "execution_count": 126,
   "metadata": {},
   "outputs": [
    {
     "data": {
      "image/png": "[encoded data removed]",
      "text/plain": [
       "<Figure size 432x288 with 1 Axes>"
      ]
     },
     "metadata": {
      "needs_background": "light"
     },
     "output_type": "display_data"
    }
   ],
   "source": [
    "print_graph(results, 'param_n_neighbors', 'mean_test_score', 'Hyperparameter - No. of neighbors', 'Test score')  "
   ]
  },
  {
   "cell_type": "code",
   "execution_count": 127,
   "metadata": {},
   "outputs": [
    {
     "data": {
      "text/plain": [
       "6"
      ]
     },
     "execution_count": 127,
     "metadata": {},
     "output_type": "execute_result"
    }
   ],
   "source": [
    "best_c=best_model.best_params_['n_neighbors']\n",
    "best_c"
   ]
  },
  {
   "cell_type": "code",
   "execution_count": 128,
   "metadata": {},
   "outputs": [
    {
     "data": {
      "text/plain": [
       "KNeighborsClassifier(n_jobs=-1, n_neighbors=6)"
      ]
     },
     "execution_count": 128,
     "metadata": {},
     "output_type": "execute_result"
    }
   ],
   "source": [
    "model = KNeighborsClassifier(n_neighbors=best_c,n_jobs=-1)\n",
    "model.fit(train_svd,y_train)"
   ]
  },
  {
   "cell_type": "code",
   "execution_count": 129,
   "metadata": {},
   "outputs": [],
   "source": [
    "predictions = model.predict_proba(test_svd)[:,1]\n",
    "save_submission(predictions, \"knn_svd.csv\")"
   ]
  },
  {
   "cell_type": "code",
   "execution_count": null,
   "metadata": {},
   "outputs": [],
   "source": []
  },
  {
   "cell_type": "markdown",
   "metadata": {},
   "source": [
    "## 5.2 SVM with SVD"
   ]
  },
  {
   "cell_type": "code",
   "execution_count": 130,
   "metadata": {},
   "outputs": [
    {
     "name": "stdout",
     "output_type": "stream",
     "text": [
      "Fitting 5 folds for each of 10 candidates, totalling 50 fits\n"
     ]
    },
    {
     "name": "stderr",
     "output_type": "stream",
     "text": [
      "[Parallel(n_jobs=-1)]: Using backend LokyBackend with 8 concurrent workers.\n",
      "[Parallel(n_jobs=-1)]: Done  25 tasks      | elapsed:  1.2min\n",
      "[Parallel(n_jobs=-1)]: Done  50 out of  50 | elapsed:  2.2min finished\n"
     ]
    },
    {
     "name": "stdout",
     "output_type": "stream",
     "text": [
      "[LibLinear]"
     ]
    }
   ],
   "source": [
    "C_val = uniform(loc=0, scale=4)\n",
    "model= LinearSVC(verbose=verbose,random_state=random_state,class_weight='balanced',max_iter=2000)\n",
    "parameters={'C':C_val}\n",
    "clf = RandomizedSearchCV(model,parameters,random_state=random_state,cv=cv,verbose=verbose,scoring=scoring,n_jobs=-1)\n",
    "best_model = clf.fit(train_svd,y_train)"
   ]
  },
  {
   "cell_type": "code",
   "execution_count": 131,
   "metadata": {},
   "outputs": [
    {
     "data": {
      "text/plain": [
       "3.8028572256396647"
      ]
     },
     "execution_count": 131,
     "metadata": {},
     "output_type": "execute_result"
    }
   ],
   "source": [
    "best_c=best_model.best_params_['C']\n",
    "best_c"
   ]
  },
  {
   "cell_type": "code",
   "execution_count": 132,
   "metadata": {},
   "outputs": [
    {
     "data": {
      "text/html": [
       "<div>\n",
       "<style scoped>\n",
       "    .dataframe tbody tr th:only-of-type {\n",
       "        vertical-align: middle;\n",
       "    }\n",
       "\n",
       "    .dataframe tbody tr th {\n",
       "        vertical-align: top;\n",
       "    }\n",
       "\n",
       "    .dataframe thead th {\n",
       "        text-align: right;\n",
       "    }\n",
       "</style>\n",
       "<table border=\"1\" class=\"dataframe\">\n",
       "  <thead>\n",
       "    <tr style=\"text-align: right;\">\n",
       "      <th></th>\n",
       "      <th>mean_fit_time</th>\n",
       "      <th>std_fit_time</th>\n",
       "      <th>mean_score_time</th>\n",
       "      <th>std_score_time</th>\n",
       "      <th>param_C</th>\n",
       "      <th>params</th>\n",
       "      <th>split0_test_score</th>\n",
       "      <th>split1_test_score</th>\n",
       "      <th>split2_test_score</th>\n",
       "      <th>split3_test_score</th>\n",
       "      <th>split4_test_score</th>\n",
       "      <th>mean_test_score</th>\n",
       "      <th>std_test_score</th>\n",
       "      <th>rank_test_score</th>\n",
       "    </tr>\n",
       "  </thead>\n",
       "  <tbody>\n",
       "    <tr>\n",
       "      <th>6</th>\n",
       "      <td>2.228692</td>\n",
       "      <td>0.068384</td>\n",
       "      <td>0.011507</td>\n",
       "      <td>0.000900</td>\n",
       "      <td>0.232334</td>\n",
       "      <td>{'C': 0.23233444867279784}</td>\n",
       "      <td>0.634839</td>\n",
       "      <td>0.636558</td>\n",
       "      <td>0.625390</td>\n",
       "      <td>0.631673</td>\n",
       "      <td>0.648453</td>\n",
       "      <td>0.635383</td>\n",
       "      <td>0.007565</td>\n",
       "      <td>10</td>\n",
       "    </tr>\n",
       "    <tr>\n",
       "      <th>5</th>\n",
       "      <td>5.231323</td>\n",
       "      <td>0.229664</td>\n",
       "      <td>0.012772</td>\n",
       "      <td>0.001769</td>\n",
       "      <td>0.623978</td>\n",
       "      <td>{'C': 0.6239780813448106}</td>\n",
       "      <td>0.640705</td>\n",
       "      <td>0.639460</td>\n",
       "      <td>0.626744</td>\n",
       "      <td>0.635352</td>\n",
       "      <td>0.651394</td>\n",
       "      <td>0.638731</td>\n",
       "      <td>0.007999</td>\n",
       "      <td>9</td>\n",
       "    </tr>\n",
       "    <tr>\n",
       "      <th>4</th>\n",
       "      <td>5.203339</td>\n",
       "      <td>0.126696</td>\n",
       "      <td>0.012281</td>\n",
       "      <td>0.002006</td>\n",
       "      <td>0.624075</td>\n",
       "      <td>{'C': 0.6240745617697461}</td>\n",
       "      <td>0.640705</td>\n",
       "      <td>0.639463</td>\n",
       "      <td>0.626747</td>\n",
       "      <td>0.635353</td>\n",
       "      <td>0.651395</td>\n",
       "      <td>0.638732</td>\n",
       "      <td>0.007998</td>\n",
       "      <td>8</td>\n",
       "    </tr>\n",
       "    <tr>\n",
       "      <th>0</th>\n",
       "      <td>13.784890</td>\n",
       "      <td>0.838090</td>\n",
       "      <td>0.011745</td>\n",
       "      <td>0.000778</td>\n",
       "      <td>1.49816</td>\n",
       "      <td>{'C': 1.49816047538945}</td>\n",
       "      <td>0.645319</td>\n",
       "      <td>0.641522</td>\n",
       "      <td>0.628096</td>\n",
       "      <td>0.639863</td>\n",
       "      <td>0.652860</td>\n",
       "      <td>0.641532</td>\n",
       "      <td>0.008075</td>\n",
       "      <td>7</td>\n",
       "    </tr>\n",
       "    <tr>\n",
       "      <th>3</th>\n",
       "      <td>23.684437</td>\n",
       "      <td>0.270787</td>\n",
       "      <td>0.011281</td>\n",
       "      <td>0.000265</td>\n",
       "      <td>2.39463</td>\n",
       "      <td>{'C': 2.3946339367881464}</td>\n",
       "      <td>0.646977</td>\n",
       "      <td>0.641498</td>\n",
       "      <td>0.628038</td>\n",
       "      <td>0.641603</td>\n",
       "      <td>0.653376</td>\n",
       "      <td>0.642298</td>\n",
       "      <td>0.008356</td>\n",
       "      <td>6</td>\n",
       "    </tr>\n",
       "    <tr>\n",
       "      <th>8</th>\n",
       "      <td>24.014088</td>\n",
       "      <td>0.459591</td>\n",
       "      <td>0.011044</td>\n",
       "      <td>0.001283</td>\n",
       "      <td>2.40446</td>\n",
       "      <td>{'C': 2.404460046972835}</td>\n",
       "      <td>0.646977</td>\n",
       "      <td>0.641494</td>\n",
       "      <td>0.628043</td>\n",
       "      <td>0.641614</td>\n",
       "      <td>0.653371</td>\n",
       "      <td>0.642300</td>\n",
       "      <td>0.008353</td>\n",
       "      <td>5</td>\n",
       "    </tr>\n",
       "    <tr>\n",
       "      <th>9</th>\n",
       "      <td>24.360260</td>\n",
       "      <td>2.584804</td>\n",
       "      <td>0.007434</td>\n",
       "      <td>0.001772</td>\n",
       "      <td>2.83229</td>\n",
       "      <td>{'C': 2.832290311184182}</td>\n",
       "      <td>0.647186</td>\n",
       "      <td>0.641545</td>\n",
       "      <td>0.627889</td>\n",
       "      <td>0.641841</td>\n",
       "      <td>0.653459</td>\n",
       "      <td>0.642384</td>\n",
       "      <td>0.008448</td>\n",
       "      <td>4</td>\n",
       "    </tr>\n",
       "    <tr>\n",
       "      <th>2</th>\n",
       "      <td>29.104267</td>\n",
       "      <td>1.682526</td>\n",
       "      <td>0.011510</td>\n",
       "      <td>0.001007</td>\n",
       "      <td>2.92798</td>\n",
       "      <td>{'C': 2.9279757672456204}</td>\n",
       "      <td>0.647245</td>\n",
       "      <td>0.641560</td>\n",
       "      <td>0.627827</td>\n",
       "      <td>0.641863</td>\n",
       "      <td>0.653489</td>\n",
       "      <td>0.642397</td>\n",
       "      <td>0.008483</td>\n",
       "      <td>3</td>\n",
       "    </tr>\n",
       "    <tr>\n",
       "      <th>7</th>\n",
       "      <td>35.642798</td>\n",
       "      <td>1.644549</td>\n",
       "      <td>0.012067</td>\n",
       "      <td>0.000464</td>\n",
       "      <td>3.4647</td>\n",
       "      <td>{'C': 3.4647045830997407}</td>\n",
       "      <td>0.647549</td>\n",
       "      <td>0.641669</td>\n",
       "      <td>0.627698</td>\n",
       "      <td>0.642045</td>\n",
       "      <td>0.653490</td>\n",
       "      <td>0.642490</td>\n",
       "      <td>0.008559</td>\n",
       "      <td>2</td>\n",
       "    </tr>\n",
       "    <tr>\n",
       "      <th>1</th>\n",
       "      <td>38.825137</td>\n",
       "      <td>1.242134</td>\n",
       "      <td>0.028646</td>\n",
       "      <td>0.032143</td>\n",
       "      <td>3.80286</td>\n",
       "      <td>{'C': 3.8028572256396647}</td>\n",
       "      <td>0.647759</td>\n",
       "      <td>0.641743</td>\n",
       "      <td>0.627645</td>\n",
       "      <td>0.642088</td>\n",
       "      <td>0.653549</td>\n",
       "      <td>0.642557</td>\n",
       "      <td>0.008615</td>\n",
       "      <td>1</td>\n",
       "    </tr>\n",
       "  </tbody>\n",
       "</table>\n",
       "</div>"
      ],
      "text/plain": [
       "   mean_fit_time  std_fit_time  mean_score_time  std_score_time   param_C  \\\n",
       "6       2.228692      0.068384         0.011507        0.000900  0.232334   \n",
       "5       5.231323      0.229664         0.012772        0.001769  0.623978   \n",
       "4       5.203339      0.126696         0.012281        0.002006  0.624075   \n",
       "0      13.784890      0.838090         0.011745        0.000778   1.49816   \n",
       "3      23.684437      0.270787         0.011281        0.000265   2.39463   \n",
       "8      24.014088      0.459591         0.011044        0.001283   2.40446   \n",
       "9      24.360260      2.584804         0.007434        0.001772   2.83229   \n",
       "2      29.104267      1.682526         0.011510        0.001007   2.92798   \n",
       "7      35.642798      1.644549         0.012067        0.000464    3.4647   \n",
       "1      38.825137      1.242134         0.028646        0.032143   3.80286   \n",
       "\n",
       "                       params  split0_test_score  split1_test_score  \\\n",
       "6  {'C': 0.23233444867279784}           0.634839           0.636558   \n",
       "5   {'C': 0.6239780813448106}           0.640705           0.639460   \n",
       "4   {'C': 0.6240745617697461}           0.640705           0.639463   \n",
       "0     {'C': 1.49816047538945}           0.645319           0.641522   \n",
       "3   {'C': 2.3946339367881464}           0.646977           0.641498   \n",
       "8    {'C': 2.404460046972835}           0.646977           0.641494   \n",
       "9    {'C': 2.832290311184182}           0.647186           0.641545   \n",
       "2   {'C': 2.9279757672456204}           0.647245           0.641560   \n",
       "7   {'C': 3.4647045830997407}           0.647549           0.641669   \n",
       "1   {'C': 3.8028572256396647}           0.647759           0.641743   \n",
       "\n",
       "   split2_test_score  split3_test_score  split4_test_score  mean_test_score  \\\n",
       "6           0.625390           0.631673           0.648453         0.635383   \n",
       "5           0.626744           0.635352           0.651394         0.638731   \n",
       "4           0.626747           0.635353           0.651395         0.638732   \n",
       "0           0.628096           0.639863           0.652860         0.641532   \n",
       "3           0.628038           0.641603           0.653376         0.642298   \n",
       "8           0.628043           0.641614           0.653371         0.642300   \n",
       "9           0.627889           0.641841           0.653459         0.642384   \n",
       "2           0.627827           0.641863           0.653489         0.642397   \n",
       "7           0.627698           0.642045           0.653490         0.642490   \n",
       "1           0.627645           0.642088           0.653549         0.642557   \n",
       "\n",
       "   std_test_score  rank_test_score  \n",
       "6        0.007565               10  \n",
       "5        0.007999                9  \n",
       "4        0.007998                8  \n",
       "0        0.008075                7  \n",
       "3        0.008356                6  \n",
       "8        0.008353                5  \n",
       "9        0.008448                4  \n",
       "2        0.008483                3  \n",
       "7        0.008559                2  \n",
       "1        0.008615                1  "
      ]
     },
     "execution_count": 132,
     "metadata": {},
     "output_type": "execute_result"
    }
   ],
   "source": [
    "results = pd.DataFrame.from_dict(best_model.cv_results_)\n",
    "results=results.sort_values('param_C')\n",
    "results"
   ]
  },
  {
   "cell_type": "code",
   "execution_count": 133,
   "metadata": {},
   "outputs": [
    {
     "data": {
      "image/png": "[encoded data removed]",
      "text/plain": [
       "<Figure size 432x288 with 1 Axes>"
      ]
     },
     "metadata": {
      "needs_background": "light"
     },
     "output_type": "display_data"
    }
   ],
   "source": [
    "print_graph(results, 'param_C', 'mean_test_score', 'Hyperparameter - C', 'Test score')"
   ]
  },
  {
   "cell_type": "code",
   "execution_count": 134,
   "metadata": {},
   "outputs": [
    {
     "name": "stdout",
     "output_type": "stream",
     "text": [
      "[LibLinear][LibLinear][LibLinear][LibLinear][LibLinear]"
     ]
    },
    {
     "data": {
      "text/plain": [
       "CalibratedClassifierCV(base_estimator=LinearSVC(C=3.8028572256396647,\n",
       "                                                class_weight='balanced',\n",
       "                                                max_iter=2000, random_state=42,\n",
       "                                                verbose=2))"
      ]
     },
     "execution_count": 134,
     "metadata": {},
     "output_type": "execute_result"
    }
   ],
   "source": [
    "#https://stackoverflow.com/questions/26478000/converting-linearsvcs-decision-function-to-probabilities-scikit-learn-python\n",
    "model = LinearSVC(C=best_c,verbose=verbose,random_state=random_state,class_weight='balanced',max_iter=2000)\n",
    "model = CalibratedClassifierCV(model)\n",
    "model.fit(train_svd,y_train)"
   ]
  },
  {
   "cell_type": "code",
   "execution_count": 135,
   "metadata": {},
   "outputs": [],
   "source": [
    "predictions = model.predict_proba(test_svd)[:,1]\n",
    "save_submission(predictions, 'svm_svd.csv')"
   ]
  },
  {
   "cell_type": "code",
   "execution_count": null,
   "metadata": {},
   "outputs": [],
   "source": []
  },
  {
   "cell_type": "markdown",
   "metadata": {},
   "source": [
    "## 5.3 Logistic Regression with SVD"
   ]
  },
  {
   "cell_type": "code",
   "execution_count": 136,
   "metadata": {},
   "outputs": [
    {
     "name": "stdout",
     "output_type": "stream",
     "text": [
      "Fitting 5 folds for each of 100 candidates, totalling 500 fits\n"
     ]
    },
    {
     "name": "stderr",
     "output_type": "stream",
     "text": [
      "[Parallel(n_jobs=-1)]: Using backend LokyBackend with 8 concurrent workers.\n",
      "[Parallel(n_jobs=-1)]: Done  25 tasks      | elapsed:   13.7s\n",
      "[Parallel(n_jobs=-1)]: Done 146 tasks      | elapsed:  1.2min\n",
      "[Parallel(n_jobs=-1)]: Done 349 tasks      | elapsed:  3.0min\n",
      "[Parallel(n_jobs=-1)]: Done 500 out of 500 | elapsed:  4.4min finished\n",
      "[Parallel(n_jobs=-1)]: Using backend LokyBackend with 8 concurrent workers.\n",
      "[Parallel(n_jobs=-1)]: Done   1 out of   1 | elapsed:    8.9s finished\n"
     ]
    }
   ],
   "source": [
    "C_val = uniform(loc=0, scale=4)\n",
    "lr= LogisticRegression(verbose=verbose,random_state=random_state,class_weight='balanced',solver='lbfgs',max_iter=500,n_jobs=-1)\n",
    "parameters={'C':C_val}\n",
    "clf = RandomizedSearchCV(lr,parameters,random_state=random_state,cv=cv,verbose=verbose,n_iter=100,scoring=scoring,n_jobs=-1)\n",
    "best_model = clf.fit(train_svd,y_train)"
   ]
  },
  {
   "cell_type": "code",
   "execution_count": 137,
   "metadata": {},
   "outputs": [
    {
     "data": {
      "text/plain": [
       "3.947547746402069"
      ]
     },
     "execution_count": 137,
     "metadata": {},
     "output_type": "execute_result"
    }
   ],
   "source": [
    "best_c=best_model.best_params_['C']\n",
    "best_c"
   ]
  },
  {
   "cell_type": "code",
   "execution_count": 138,
   "metadata": {},
   "outputs": [
    {
     "data": {
      "text/html": [
       "<div>\n",
       "<style scoped>\n",
       "    .dataframe tbody tr th:only-of-type {\n",
       "        vertical-align: middle;\n",
       "    }\n",
       "\n",
       "    .dataframe tbody tr th {\n",
       "        vertical-align: top;\n",
       "    }\n",
       "\n",
       "    .dataframe thead th {\n",
       "        text-align: right;\n",
       "    }\n",
       "</style>\n",
       "<table border=\"1\" class=\"dataframe\">\n",
       "  <thead>\n",
       "    <tr style=\"text-align: right;\">\n",
       "      <th></th>\n",
       "      <th>mean_fit_time</th>\n",
       "      <th>std_fit_time</th>\n",
       "      <th>mean_score_time</th>\n",
       "      <th>std_score_time</th>\n",
       "      <th>param_C</th>\n",
       "      <th>params</th>\n",
       "      <th>split0_test_score</th>\n",
       "      <th>split1_test_score</th>\n",
       "      <th>split2_test_score</th>\n",
       "      <th>split3_test_score</th>\n",
       "      <th>split4_test_score</th>\n",
       "      <th>mean_test_score</th>\n",
       "      <th>std_test_score</th>\n",
       "      <th>rank_test_score</th>\n",
       "    </tr>\n",
       "  </thead>\n",
       "  <tbody>\n",
       "    <tr>\n",
       "      <th>72</th>\n",
       "      <td>0.793597</td>\n",
       "      <td>0.100696</td>\n",
       "      <td>0.025810</td>\n",
       "      <td>0.007258</td>\n",
       "      <td>0.0220885</td>\n",
       "      <td>{'C': 0.022088468494409597}</td>\n",
       "      <td>0.604873</td>\n",
       "      <td>0.600333</td>\n",
       "      <td>0.602393</td>\n",
       "      <td>0.608164</td>\n",
       "      <td>0.630087</td>\n",
       "      <td>0.609170</td>\n",
       "      <td>0.010780</td>\n",
       "      <td>100</td>\n",
       "    </tr>\n",
       "    <tr>\n",
       "      <th>10</th>\n",
       "      <td>1.219796</td>\n",
       "      <td>0.131475</td>\n",
       "      <td>0.019476</td>\n",
       "      <td>0.004521</td>\n",
       "      <td>0.082338</td>\n",
       "      <td>{'C': 0.08233797718320979}</td>\n",
       "      <td>0.618172</td>\n",
       "      <td>0.619258</td>\n",
       "      <td>0.615257</td>\n",
       "      <td>0.617055</td>\n",
       "      <td>0.637928</td>\n",
       "      <td>0.621534</td>\n",
       "      <td>0.008303</td>\n",
       "      <td>99</td>\n",
       "    </tr>\n",
       "    <tr>\n",
       "      <th>98</th>\n",
       "      <td>1.471026</td>\n",
       "      <td>0.167066</td>\n",
       "      <td>0.027469</td>\n",
       "      <td>0.004389</td>\n",
       "      <td>0.101677</td>\n",
       "      <td>{'C': 0.10167650697638075}</td>\n",
       "      <td>0.619889</td>\n",
       "      <td>0.622181</td>\n",
       "      <td>0.615896</td>\n",
       "      <td>0.618293</td>\n",
       "      <td>0.639096</td>\n",
       "      <td>0.623071</td>\n",
       "      <td>0.008271</td>\n",
       "      <td>98</td>\n",
       "    </tr>\n",
       "    <tr>\n",
       "      <th>42</th>\n",
       "      <td>1.658208</td>\n",
       "      <td>0.109603</td>\n",
       "      <td>0.024324</td>\n",
       "      <td>0.005244</td>\n",
       "      <td>0.137554</td>\n",
       "      <td>{'C': 0.13755408446087358}</td>\n",
       "      <td>0.621979</td>\n",
       "      <td>0.625304</td>\n",
       "      <td>0.617100</td>\n",
       "      <td>0.620475</td>\n",
       "      <td>0.640221</td>\n",
       "      <td>0.625016</td>\n",
       "      <td>0.008047</td>\n",
       "      <td>97</td>\n",
       "    </tr>\n",
       "    <tr>\n",
       "      <th>58</th>\n",
       "      <td>1.761590</td>\n",
       "      <td>0.074261</td>\n",
       "      <td>0.027399</td>\n",
       "      <td>0.006468</td>\n",
       "      <td>0.180909</td>\n",
       "      <td>{'C': 0.18090915564215226}</td>\n",
       "      <td>0.624074</td>\n",
       "      <td>0.627986</td>\n",
       "      <td>0.618850</td>\n",
       "      <td>0.621867</td>\n",
       "      <td>0.641453</td>\n",
       "      <td>0.626846</td>\n",
       "      <td>0.007888</td>\n",
       "      <td>96</td>\n",
       "    </tr>\n",
       "    <tr>\n",
       "      <th>...</th>\n",
       "      <td>...</td>\n",
       "      <td>...</td>\n",
       "      <td>...</td>\n",
       "      <td>...</td>\n",
       "      <td>...</td>\n",
       "      <td>...</td>\n",
       "      <td>...</td>\n",
       "      <td>...</td>\n",
       "      <td>...</td>\n",
       "      <td>...</td>\n",
       "      <td>...</td>\n",
       "      <td>...</td>\n",
       "      <td>...</td>\n",
       "      <td>...</td>\n",
       "    </tr>\n",
       "    <tr>\n",
       "      <th>1</th>\n",
       "      <td>5.302916</td>\n",
       "      <td>0.098177</td>\n",
       "      <td>0.023990</td>\n",
       "      <td>0.008429</td>\n",
       "      <td>3.80286</td>\n",
       "      <td>{'C': 3.8028572256396647}</td>\n",
       "      <td>0.639070</td>\n",
       "      <td>0.639976</td>\n",
       "      <td>0.625161</td>\n",
       "      <td>0.635001</td>\n",
       "      <td>0.650478</td>\n",
       "      <td>0.637937</td>\n",
       "      <td>0.008180</td>\n",
       "      <td>5</td>\n",
       "    </tr>\n",
       "    <tr>\n",
       "      <th>34</th>\n",
       "      <td>6.140913</td>\n",
       "      <td>0.473590</td>\n",
       "      <td>0.021449</td>\n",
       "      <td>0.000513</td>\n",
       "      <td>3.86253</td>\n",
       "      <td>{'C': 3.8625281322982374}</td>\n",
       "      <td>0.639170</td>\n",
       "      <td>0.640006</td>\n",
       "      <td>0.625275</td>\n",
       "      <td>0.635038</td>\n",
       "      <td>0.650431</td>\n",
       "      <td>0.637984</td>\n",
       "      <td>0.008132</td>\n",
       "      <td>3</td>\n",
       "    </tr>\n",
       "    <tr>\n",
       "      <th>50</th>\n",
       "      <td>6.031093</td>\n",
       "      <td>0.278328</td>\n",
       "      <td>0.022983</td>\n",
       "      <td>0.004762</td>\n",
       "      <td>3.87834</td>\n",
       "      <td>{'C': 3.8783385110582342}</td>\n",
       "      <td>0.639168</td>\n",
       "      <td>0.639948</td>\n",
       "      <td>0.625290</td>\n",
       "      <td>0.635046</td>\n",
       "      <td>0.650405</td>\n",
       "      <td>0.637972</td>\n",
       "      <td>0.008115</td>\n",
       "      <td>4</td>\n",
       "    </tr>\n",
       "    <tr>\n",
       "      <th>11</th>\n",
       "      <td>5.032520</td>\n",
       "      <td>0.376563</td>\n",
       "      <td>0.021294</td>\n",
       "      <td>0.004814</td>\n",
       "      <td>3.87964</td>\n",
       "      <td>{'C': 3.8796394086479773}</td>\n",
       "      <td>0.639160</td>\n",
       "      <td>0.640000</td>\n",
       "      <td>0.625241</td>\n",
       "      <td>0.635060</td>\n",
       "      <td>0.650471</td>\n",
       "      <td>0.637987</td>\n",
       "      <td>0.008152</td>\n",
       "      <td>2</td>\n",
       "    </tr>\n",
       "    <tr>\n",
       "      <th>69</th>\n",
       "      <td>6.273370</td>\n",
       "      <td>0.433093</td>\n",
       "      <td>0.028800</td>\n",
       "      <td>0.011047</td>\n",
       "      <td>3.94755</td>\n",
       "      <td>{'C': 3.947547746402069}</td>\n",
       "      <td>0.639300</td>\n",
       "      <td>0.640069</td>\n",
       "      <td>0.625346</td>\n",
       "      <td>0.635105</td>\n",
       "      <td>0.650567</td>\n",
       "      <td>0.638077</td>\n",
       "      <td>0.008153</td>\n",
       "      <td>1</td>\n",
       "    </tr>\n",
       "  </tbody>\n",
       "</table>\n",
       "<p>100 rows × 14 columns</p>\n",
       "</div>"
      ],
      "text/plain": [
       "    mean_fit_time  std_fit_time  mean_score_time  std_score_time    param_C  \\\n",
       "72       0.793597      0.100696         0.025810        0.007258  0.0220885   \n",
       "10       1.219796      0.131475         0.019476        0.004521   0.082338   \n",
       "98       1.471026      0.167066         0.027469        0.004389   0.101677   \n",
       "42       1.658208      0.109603         0.024324        0.005244   0.137554   \n",
       "58       1.761590      0.074261         0.027399        0.006468   0.180909   \n",
       "..            ...           ...              ...             ...        ...   \n",
       "1        5.302916      0.098177         0.023990        0.008429    3.80286   \n",
       "34       6.140913      0.473590         0.021449        0.000513    3.86253   \n",
       "50       6.031093      0.278328         0.022983        0.004762    3.87834   \n",
       "11       5.032520      0.376563         0.021294        0.004814    3.87964   \n",
       "69       6.273370      0.433093         0.028800        0.011047    3.94755   \n",
       "\n",
       "                         params  split0_test_score  split1_test_score  \\\n",
       "72  {'C': 0.022088468494409597}           0.604873           0.600333   \n",
       "10   {'C': 0.08233797718320979}           0.618172           0.619258   \n",
       "98   {'C': 0.10167650697638075}           0.619889           0.622181   \n",
       "42   {'C': 0.13755408446087358}           0.621979           0.625304   \n",
       "58   {'C': 0.18090915564215226}           0.624074           0.627986   \n",
       "..                          ...                ...                ...   \n",
       "1     {'C': 3.8028572256396647}           0.639070           0.639976   \n",
       "34    {'C': 3.8625281322982374}           0.639170           0.640006   \n",
       "50    {'C': 3.8783385110582342}           0.639168           0.639948   \n",
       "11    {'C': 3.8796394086479773}           0.639160           0.640000   \n",
       "69     {'C': 3.947547746402069}           0.639300           0.640069   \n",
       "\n",
       "    split2_test_score  split3_test_score  split4_test_score  mean_test_score  \\\n",
       "72           0.602393           0.608164           0.630087         0.609170   \n",
       "10           0.615257           0.617055           0.637928         0.621534   \n",
       "98           0.615896           0.618293           0.639096         0.623071   \n",
       "42           0.617100           0.620475           0.640221         0.625016   \n",
       "58           0.618850           0.621867           0.641453         0.626846   \n",
       "..                ...                ...                ...              ...   \n",
       "1            0.625161           0.635001           0.650478         0.637937   \n",
       "34           0.625275           0.635038           0.650431         0.637984   \n",
       "50           0.625290           0.635046           0.650405         0.637972   \n",
       "11           0.625241           0.635060           0.650471         0.637987   \n",
       "69           0.625346           0.635105           0.650567         0.638077   \n",
       "\n",
       "    std_test_score  rank_test_score  \n",
       "72        0.010780              100  \n",
       "10        0.008303               99  \n",
       "98        0.008271               98  \n",
       "42        0.008047               97  \n",
       "58        0.007888               96  \n",
       "..             ...              ...  \n",
       "1         0.008180                5  \n",
       "34        0.008132                3  \n",
       "50        0.008115                4  \n",
       "11        0.008152                2  \n",
       "69        0.008153                1  \n",
       "\n",
       "[100 rows x 14 columns]"
      ]
     },
     "execution_count": 138,
     "metadata": {},
     "output_type": "execute_result"
    }
   ],
   "source": [
    "results = pd.DataFrame.from_dict(best_model.cv_results_)\n",
    "results=results.sort_values('param_C')\n",
    "results"
   ]
  },
  {
   "cell_type": "code",
   "execution_count": 139,
   "metadata": {},
   "outputs": [
    {
     "data": {
      "image/png": "[encoded data removed]",
      "text/plain": [
       "<Figure size 432x288 with 1 Axes>"
      ]
     },
     "metadata": {
      "needs_background": "light"
     },
     "output_type": "display_data"
    }
   ],
   "source": [
    "print_graph(results, 'param_C', 'mean_test_score', 'Hyperparameter - C', 'Test score')"
   ]
  },
  {
   "cell_type": "code",
   "execution_count": 140,
   "metadata": {},
   "outputs": [
    {
     "name": "stderr",
     "output_type": "stream",
     "text": [
      "[Parallel(n_jobs=-1)]: Using backend LokyBackend with 8 concurrent workers.\n",
      "[Parallel(n_jobs=-1)]: Done   1 out of   1 | elapsed:    3.0s finished\n"
     ]
    },
    {
     "data": {
      "text/plain": [
       "LogisticRegression(C=3.947547746402069, class_weight='balanced', n_jobs=-1,\n",
       "                   random_state=42, verbose=2)"
      ]
     },
     "execution_count": 140,
     "metadata": {},
     "output_type": "execute_result"
    }
   ],
   "source": [
    "model = LogisticRegression(C=best_c,verbose=verbose,n_jobs=-1,random_state=random_state,class_weight='balanced',solver='lbfgs')\n",
    "model.fit(train_svd,y_train)"
   ]
  },
  {
   "cell_type": "code",
   "execution_count": 141,
   "metadata": {},
   "outputs": [],
   "source": [
    "predictions = model.predict_proba(test_svd)[:,1]\n",
    "save_submission(predictions, 'lr_svd.csv')"
   ]
  },
  {
   "cell_type": "code",
   "execution_count": null,
   "metadata": {},
   "outputs": [],
   "source": []
  },
  {
   "cell_type": "markdown",
   "metadata": {},
   "source": [
    "## 5.4 Random Forest with SVD"
   ]
  },
  {
   "cell_type": "code",
   "execution_count": 142,
   "metadata": {},
   "outputs": [
    {
     "name": "stdout",
     "output_type": "stream",
     "text": [
      "Fitting 5 folds for each of 100 candidates, totalling 500 fits\n"
     ]
    },
    {
     "name": "stderr",
     "output_type": "stream",
     "text": [
      "[Parallel(n_jobs=-1)]: Using backend LokyBackend with 8 concurrent workers.\n",
      "[Parallel(n_jobs=-1)]: Done  25 tasks      | elapsed:   35.9s\n",
      "/home/auw-mayank/.local/lib/python3.6/site-packages/joblib/externals/loky/process_executor.py:691: UserWarning: A worker stopped while some jobs were given to the executor. This can be caused by a too short worker timeout or by a memory leak.\n",
      "  \"timeout or by a memory leak.\", UserWarning\n",
      "[Parallel(n_jobs=-1)]: Done 146 tasks      | elapsed:  6.9min\n",
      "[Parallel(n_jobs=-1)]: Done 349 tasks      | elapsed: 16.7min\n",
      "[Parallel(n_jobs=-1)]: Done 500 out of 500 | elapsed: 24.6min finished\n"
     ]
    }
   ],
   "source": [
    "rfc = RandomForestClassifier(random_state=random_state,class_weight='balanced',n_jobs=-1)\n",
    "clf = RandomizedSearchCV(rfc,get_rf_params(),random_state=random_state,cv=cv,verbose=verbose,n_iter=100,scoring=scoring,n_jobs=-1)\n",
    "best_model = clf.fit(train_svd,y_train)"
   ]
  },
  {
   "cell_type": "code",
   "execution_count": 143,
   "metadata": {},
   "outputs": [
    {
     "data": {
      "text/html": [
       "<div>\n",
       "<style scoped>\n",
       "    .dataframe tbody tr th:only-of-type {\n",
       "        vertical-align: middle;\n",
       "    }\n",
       "\n",
       "    .dataframe tbody tr th {\n",
       "        vertical-align: top;\n",
       "    }\n",
       "\n",
       "    .dataframe thead th {\n",
       "        text-align: right;\n",
       "    }\n",
       "</style>\n",
       "<table border=\"1\" class=\"dataframe\">\n",
       "  <thead>\n",
       "    <tr style=\"text-align: right;\">\n",
       "      <th></th>\n",
       "      <th>param_n_estimators</th>\n",
       "      <th>param_max_depth</th>\n",
       "      <th>param_max_features</th>\n",
       "      <th>param_min_samples_split</th>\n",
       "      <th>mean_test_score</th>\n",
       "    </tr>\n",
       "  </thead>\n",
       "  <tbody>\n",
       "    <tr>\n",
       "      <th>84</th>\n",
       "      <td>1000</td>\n",
       "      <td>25</td>\n",
       "      <td>5</td>\n",
       "      <td>2</td>\n",
       "      <td>0.854766</td>\n",
       "    </tr>\n",
       "    <tr>\n",
       "      <th>20</th>\n",
       "      <td>1000</td>\n",
       "      <td>25</td>\n",
       "      <td>3</td>\n",
       "      <td>2</td>\n",
       "      <td>0.852342</td>\n",
       "    </tr>\n",
       "    <tr>\n",
       "      <th>33</th>\n",
       "      <td>700</td>\n",
       "      <td>25</td>\n",
       "      <td>4</td>\n",
       "      <td>2</td>\n",
       "      <td>0.852278</td>\n",
       "    </tr>\n",
       "    <tr>\n",
       "      <th>22</th>\n",
       "      <td>200</td>\n",
       "      <td>25</td>\n",
       "      <td>4</td>\n",
       "      <td>10</td>\n",
       "      <td>0.851746</td>\n",
       "    </tr>\n",
       "    <tr>\n",
       "      <th>78</th>\n",
       "      <td>700</td>\n",
       "      <td>25</td>\n",
       "      <td>2</td>\n",
       "      <td>7</td>\n",
       "      <td>0.851114</td>\n",
       "    </tr>\n",
       "    <tr>\n",
       "      <th>85</th>\n",
       "      <td>1000</td>\n",
       "      <td>20</td>\n",
       "      <td>3</td>\n",
       "      <td>7</td>\n",
       "      <td>0.850986</td>\n",
       "    </tr>\n",
       "    <tr>\n",
       "      <th>62</th>\n",
       "      <td>500</td>\n",
       "      <td>25</td>\n",
       "      <td>3</td>\n",
       "      <td>5</td>\n",
       "      <td>0.850904</td>\n",
       "    </tr>\n",
       "    <tr>\n",
       "      <th>82</th>\n",
       "      <td>700</td>\n",
       "      <td>20</td>\n",
       "      <td>5</td>\n",
       "      <td>20</td>\n",
       "      <td>0.850789</td>\n",
       "    </tr>\n",
       "    <tr>\n",
       "      <th>79</th>\n",
       "      <td>500</td>\n",
       "      <td>25</td>\n",
       "      <td>1</td>\n",
       "      <td>10</td>\n",
       "      <td>0.848939</td>\n",
       "    </tr>\n",
       "    <tr>\n",
       "      <th>92</th>\n",
       "      <td>500</td>\n",
       "      <td>20</td>\n",
       "      <td>3</td>\n",
       "      <td>2</td>\n",
       "      <td>0.848604</td>\n",
       "    </tr>\n",
       "  </tbody>\n",
       "</table>\n",
       "</div>"
      ],
      "text/plain": [
       "   param_n_estimators param_max_depth param_max_features  \\\n",
       "84               1000              25                  5   \n",
       "20               1000              25                  3   \n",
       "33                700              25                  4   \n",
       "22                200              25                  4   \n",
       "78                700              25                  2   \n",
       "85               1000              20                  3   \n",
       "62                500              25                  3   \n",
       "82                700              20                  5   \n",
       "79                500              25                  1   \n",
       "92                500              20                  3   \n",
       "\n",
       "   param_min_samples_split  mean_test_score  \n",
       "84                       2         0.854766  \n",
       "20                       2         0.852342  \n",
       "33                       2         0.852278  \n",
       "22                      10         0.851746  \n",
       "78                       7         0.851114  \n",
       "85                       7         0.850986  \n",
       "62                       5         0.850904  \n",
       "82                      20         0.850789  \n",
       "79                      10         0.848939  \n",
       "92                       2         0.848604  "
      ]
     },
     "execution_count": 143,
     "metadata": {},
     "output_type": "execute_result"
    }
   ],
   "source": [
    "results = pd.DataFrame(best_model.cv_results_)\n",
    "results.sort_values('mean_test_score',ascending=False,inplace=True)\n",
    "param_keys=['param_'+str(each) for each in get_rf_params().keys()]\n",
    "param_keys.append('mean_test_score')\n",
    "results[param_keys].head(10)"
   ]
  },
  {
   "cell_type": "code",
   "execution_count": 144,
   "metadata": {},
   "outputs": [
    {
     "data": {
      "text/plain": [
       "(1000, 5, 25, 2)"
      ]
     },
     "execution_count": 144,
     "metadata": {},
     "output_type": "execute_result"
    }
   ],
   "source": [
    "n_estimators=clf.best_params_['n_estimators']\n",
    "max_features=clf.best_params_['max_features']\n",
    "max_depth=clf.best_params_['max_depth']\n",
    "min_samples_split=clf.best_params_['min_samples_split']\n",
    "n_estimators,max_features,max_depth,min_samples_split"
   ]
  },
  {
   "cell_type": "code",
   "execution_count": 145,
   "metadata": {},
   "outputs": [
    {
     "data": {
      "text/plain": [
       "RandomForestClassifier(class_weight='balanced', max_depth=25, max_features=5,\n",
       "                       n_estimators=1000, n_jobs=-1, random_state=42)"
      ]
     },
     "execution_count": 145,
     "metadata": {},
     "output_type": "execute_result"
    }
   ],
   "source": [
    "model=RandomForestClassifier(n_estimators=n_estimators,max_depth=max_depth,max_features=max_features,\n",
    "                             min_samples_split=min_samples_split,\n",
    "                             random_state=random_state,class_weight='balanced',n_jobs=-1)\n",
    "\n",
    "model.fit(train_svd,y_train)"
   ]
  },
  {
   "cell_type": "code",
   "execution_count": 147,
   "metadata": {},
   "outputs": [
    {
     "data": {
      "image/png": "[encoded data removed]",
      "text/plain": [
       "<Figure size 432x288 with 1 Axes>"
      ]
     },
     "metadata": {
      "needs_background": "light"
     },
     "output_type": "display_data"
    }
   ],
   "source": [
    "features=train_svd.columns\n",
    "importance=model.feature_importances_\n",
    "features=pd.DataFrame({'features':features,'value':importance})\n",
    "features=features.sort_values('value',ascending=False)\n",
    "sns.barplot('value','features',data=features);\n",
    "plt.title('Feature Importance');"
   ]
  },
  {
   "cell_type": "code",
   "execution_count": 148,
   "metadata": {},
   "outputs": [],
   "source": [
    "predictions = model.predict_proba(test_svd)[:,1]\n",
    "save_submission(predictions, 'rf_svd.csv')"
   ]
  },
  {
   "cell_type": "code",
   "execution_count": null,
   "metadata": {},
   "outputs": [],
   "source": []
  },
  {
   "cell_type": "markdown",
   "metadata": {},
   "source": [
    "## 5.5 Xgboost with SVD"
   ]
  },
  {
   "cell_type": "code",
   "execution_count": 149,
   "metadata": {},
   "outputs": [
    {
     "name": "stdout",
     "output_type": "stream",
     "text": [
      "Fitting 5 folds for each of 100 candidates, totalling 500 fits\n"
     ]
    },
    {
     "name": "stderr",
     "output_type": "stream",
     "text": [
      "[Parallel(n_jobs=-1)]: Using backend LokyBackend with 8 concurrent workers.\n",
      "[Parallel(n_jobs=-1)]: Done  25 tasks      | elapsed:   53.4s\n",
      "[Parallel(n_jobs=-1)]: Done 146 tasks      | elapsed: 10.4min\n",
      "[Parallel(n_jobs=-1)]: Done 349 tasks      | elapsed: 29.7min\n",
      "[Parallel(n_jobs=-1)]: Done 500 out of 500 | elapsed: 53.5min finished\n"
     ]
    }
   ],
   "source": [
    "xgb = XGBClassifier()\n",
    "clf = RandomizedSearchCV(xgb,get_xgb_params(),random_state=random_state,cv=cv,verbose=verbose,n_iter=100,scoring=scoring,n_jobs=-1)\n",
    "best_model=clf.fit(train_svd,y_train)"
   ]
  },
  {
   "cell_type": "code",
   "execution_count": 150,
   "metadata": {},
   "outputs": [
    {
     "data": {
      "text/html": [
       "<div>\n",
       "<style scoped>\n",
       "    .dataframe tbody tr th:only-of-type {\n",
       "        vertical-align: middle;\n",
       "    }\n",
       "\n",
       "    .dataframe tbody tr th {\n",
       "        vertical-align: top;\n",
       "    }\n",
       "\n",
       "    .dataframe thead th {\n",
       "        text-align: right;\n",
       "    }\n",
       "</style>\n",
       "<table border=\"1\" class=\"dataframe\">\n",
       "  <thead>\n",
       "    <tr style=\"text-align: right;\">\n",
       "      <th></th>\n",
       "      <th>param_n_estimators</th>\n",
       "      <th>param_learning_rate</th>\n",
       "      <th>param_subsample</th>\n",
       "      <th>param_max_depth</th>\n",
       "      <th>param_colsample_bytree</th>\n",
       "      <th>param_min_child_weight</th>\n",
       "      <th>mean_test_score</th>\n",
       "    </tr>\n",
       "  </thead>\n",
       "  <tbody>\n",
       "    <tr>\n",
       "      <th>62</th>\n",
       "      <td>500</td>\n",
       "      <td>0.0663892</td>\n",
       "      <td>0.328153</td>\n",
       "      <td>9</td>\n",
       "      <td>0.375583</td>\n",
       "      <td>3</td>\n",
       "      <td>0.857269</td>\n",
       "    </tr>\n",
       "    <tr>\n",
       "      <th>18</th>\n",
       "      <td>1000</td>\n",
       "      <td>0.048135</td>\n",
       "      <td>0.665922</td>\n",
       "      <td>9</td>\n",
       "      <td>0.330898</td>\n",
       "      <td>2</td>\n",
       "      <td>0.856856</td>\n",
       "    </tr>\n",
       "    <tr>\n",
       "      <th>96</th>\n",
       "      <td>500</td>\n",
       "      <td>0.0979629</td>\n",
       "      <td>0.98664</td>\n",
       "      <td>7</td>\n",
       "      <td>0.891897</td>\n",
       "      <td>1</td>\n",
       "      <td>0.856098</td>\n",
       "    </tr>\n",
       "    <tr>\n",
       "      <th>44</th>\n",
       "      <td>1000</td>\n",
       "      <td>0.060484</td>\n",
       "      <td>0.606429</td>\n",
       "      <td>6</td>\n",
       "      <td>0.642032</td>\n",
       "      <td>2</td>\n",
       "      <td>0.855896</td>\n",
       "    </tr>\n",
       "    <tr>\n",
       "      <th>8</th>\n",
       "      <td>750</td>\n",
       "      <td>0.0686033</td>\n",
       "      <td>0.683264</td>\n",
       "      <td>6</td>\n",
       "      <td>0.304614</td>\n",
       "      <td>4</td>\n",
       "      <td>0.855817</td>\n",
       "    </tr>\n",
       "    <tr>\n",
       "      <th>97</th>\n",
       "      <td>750</td>\n",
       "      <td>0.232385</td>\n",
       "      <td>0.907694</td>\n",
       "      <td>6</td>\n",
       "      <td>0.374271</td>\n",
       "      <td>1</td>\n",
       "      <td>0.853594</td>\n",
       "    </tr>\n",
       "    <tr>\n",
       "      <th>49</th>\n",
       "      <td>500</td>\n",
       "      <td>0.160277</td>\n",
       "      <td>0.393098</td>\n",
       "      <td>8</td>\n",
       "      <td>0.636333</td>\n",
       "      <td>2</td>\n",
       "      <td>0.848866</td>\n",
       "    </tr>\n",
       "    <tr>\n",
       "      <th>80</th>\n",
       "      <td>1000</td>\n",
       "      <td>0.385564</td>\n",
       "      <td>0.905351</td>\n",
       "      <td>3</td>\n",
       "      <td>0.820639</td>\n",
       "      <td>1</td>\n",
       "      <td>0.848727</td>\n",
       "    </tr>\n",
       "    <tr>\n",
       "      <th>53</th>\n",
       "      <td>200</td>\n",
       "      <td>0.540096</td>\n",
       "      <td>0.928319</td>\n",
       "      <td>6</td>\n",
       "      <td>0.27956</td>\n",
       "      <td>1</td>\n",
       "      <td>0.847864</td>\n",
       "    </tr>\n",
       "    <tr>\n",
       "      <th>78</th>\n",
       "      <td>1000</td>\n",
       "      <td>0.576551</td>\n",
       "      <td>0.94023</td>\n",
       "      <td>6</td>\n",
       "      <td>0.943892</td>\n",
       "      <td>4</td>\n",
       "      <td>0.844565</td>\n",
       "    </tr>\n",
       "  </tbody>\n",
       "</table>\n",
       "</div>"
      ],
      "text/plain": [
       "   param_n_estimators param_learning_rate param_subsample param_max_depth  \\\n",
       "62                500           0.0663892        0.328153               9   \n",
       "18               1000            0.048135        0.665922               9   \n",
       "96                500           0.0979629         0.98664               7   \n",
       "44               1000            0.060484        0.606429               6   \n",
       "8                 750           0.0686033        0.683264               6   \n",
       "97                750            0.232385        0.907694               6   \n",
       "49                500            0.160277        0.393098               8   \n",
       "80               1000            0.385564        0.905351               3   \n",
       "53                200            0.540096        0.928319               6   \n",
       "78               1000            0.576551         0.94023               6   \n",
       "\n",
       "   param_colsample_bytree param_min_child_weight  mean_test_score  \n",
       "62               0.375583                      3         0.857269  \n",
       "18               0.330898                      2         0.856856  \n",
       "96               0.891897                      1         0.856098  \n",
       "44               0.642032                      2         0.855896  \n",
       "8                0.304614                      4         0.855817  \n",
       "97               0.374271                      1         0.853594  \n",
       "49               0.636333                      2         0.848866  \n",
       "80               0.820639                      1         0.848727  \n",
       "53                0.27956                      1         0.847864  \n",
       "78               0.943892                      4         0.844565  "
      ]
     },
     "execution_count": 150,
     "metadata": {},
     "output_type": "execute_result"
    }
   ],
   "source": [
    "results = pd.DataFrame(best_model.cv_results_)\n",
    "results.sort_values('mean_test_score',ascending=False,inplace=True)\n",
    "param_keys=['param_'+str(each) for each in get_xgb_params().keys()]\n",
    "param_keys.append('mean_test_score')\n",
    "results[param_keys].head(10)"
   ]
  },
  {
   "cell_type": "code",
   "execution_count": 151,
   "metadata": {},
   "outputs": [
    {
     "data": {
      "text/plain": [
       "(0.375582952639944, 0.06638916390452139, 9, 3, 500, 0.32815266747473193)"
      ]
     },
     "execution_count": 151,
     "metadata": {},
     "output_type": "execute_result"
    }
   ],
   "source": [
    "colsample_bytree = clf.best_params_['colsample_bytree']\n",
    "learning_rate=clf.best_params_['learning_rate']\n",
    "max_depth=clf.best_params_['max_depth']\n",
    "min_child_weight=clf.best_params_['min_child_weight']\n",
    "n_estimators=clf.best_params_['n_estimators']\n",
    "subsample=clf.best_params_['subsample']\n",
    "colsample_bytree,learning_rate,max_depth,min_child_weight,n_estimators,subsample"
   ]
  },
  {
   "cell_type": "code",
   "execution_count": 152,
   "metadata": {},
   "outputs": [
    {
     "data": {
      "text/plain": [
       "XGBClassifier(base_score=0.5, booster='gbtree', colsample_bylevel=1,\n",
       "              colsample_bynode=1, colsample_bytree=0.375582952639944, gamma=0,\n",
       "              gpu_id=-1, importance_type='gain', interaction_constraints='',\n",
       "              learning_rate=0.06638916390452139, max_delta_step=0, max_depth=9,\n",
       "              min_child_weight=3, missing=nan, monotone_constraints='()',\n",
       "              n_estimators=500, n_jobs=-1, num_parallel_tree=1, random_state=0,\n",
       "              reg_alpha=0, reg_lambda=1, scale_pos_weight=1,\n",
       "              subsample=0.32815266747473193, tree_method='exact',\n",
       "              validate_parameters=1, verbosity=None)"
      ]
     },
     "execution_count": 152,
     "metadata": {},
     "output_type": "execute_result"
    }
   ],
   "source": [
    "model = XGBClassifier(colsample_bytree=colsample_bytree,learning_rate=learning_rate,max_depth=max_depth,\n",
    "                     min_child_weight=min_child_weight,n_estimators=n_estimators,subsample=subsample,n_jobs=-1)\n",
    "\n",
    "model.fit(train_svd,y_train)"
   ]
  },
  {
   "cell_type": "code",
   "execution_count": 153,
   "metadata": {},
   "outputs": [
    {
     "data": {
      "image/png": "[encoded data removed]",
      "text/plain": [
       "<Figure size 432x288 with 1 Axes>"
      ]
     },
     "metadata": {
      "needs_background": "light"
     },
     "output_type": "display_data"
    }
   ],
   "source": [
    "features=train_svd.columns\n",
    "importance=model.feature_importances_\n",
    "features=pd.DataFrame({'features':features,'value':importance})\n",
    "features=features.sort_values('value',ascending=False)\n",
    "sns.barplot('value','features',data=features);\n",
    "plt.title('Feature Importance');"
   ]
  },
  {
   "cell_type": "code",
   "execution_count": 154,
   "metadata": {},
   "outputs": [],
   "source": [
    "predictions = model.predict_proba(test_svd)[:,1]\n",
    "save_submission(predictions, 'xgb_svd.csv')"
   ]
  },
  {
   "cell_type": "code",
   "execution_count": null,
   "metadata": {},
   "outputs": [],
   "source": []
  },
  {
   "cell_type": "code",
   "execution_count": null,
   "metadata": {},
   "outputs": [],
   "source": []
  },
  {
   "cell_type": "code",
   "execution_count": null,
   "metadata": {},
   "outputs": [],
   "source": []
  }
 ],
 "metadata": {
  "kernelspec": {
   "display_name": "Python 3",
   "language": "python",
   "name": "python3"
  },
  "language_info": {
   "codemirror_mode": {
    "name": "ipython",
    "version": 3
   },
   "file_extension": ".py",
   "mimetype": "text/x-python",
   "name": "python",
   "nbconvert_exporter": "python",
   "pygments_lexer": "ipython3",
   "version": "3.6.9"
  }
 },
 "nbformat": 4,
 "nbformat_minor": 4
}
