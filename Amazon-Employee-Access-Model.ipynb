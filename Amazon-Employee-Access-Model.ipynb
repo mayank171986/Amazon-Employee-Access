{
 "cells": [
  {
   "cell_type": "code",
   "execution_count": 1,
   "metadata": {},
   "outputs": [],
   "source": [
    "# import warnings\n",
    "# warnings.filterwarnings('ignore')"
   ]
  },
  {
   "cell_type": "code",
   "execution_count": 2,
   "metadata": {},
   "outputs": [],
   "source": [
    "# import libraries\n",
    "import pandas as pd\n",
    "import numpy as np\n",
    "import seaborn as sns\n",
    "import matplotlib.pyplot as plt\n",
    "from scipy import sparse\n",
    "%matplotlib inline\n",
    "\n",
    "from sklearn.model_selection import RandomizedSearchCV\n",
    "from scipy.stats import uniform\n",
    "from sklearn.neighbors import KNeighborsClassifier\n",
    "from sklearn.svm import LinearSVC\n",
    "from sklearn.calibration import CalibratedClassifierCV\n",
    "from sklearn.linear_model import LogisticRegression\n",
    "from sklearn.ensemble import RandomForestClassifier\n",
    "from xgboost import XGBClassifier\n",
    "from catboost import CatBoostClassifier\n",
    "import pickle"
   ]
  },
  {
   "cell_type": "markdown",
   "metadata": {},
   "source": [
    "# Amazon Employee Access Challenge"
   ]
  },
  {
   "cell_type": "code",
   "execution_count": 3,
   "metadata": {},
   "outputs": [],
   "source": [
    "train = pd.read_csv('data/train.csv')\n",
    "test = pd.read_csv('data/test.csv')"
   ]
  },
  {
   "cell_type": "code",
   "execution_count": 4,
   "metadata": {},
   "outputs": [
    {
     "data": {
      "text/plain": [
       "(32769, 10)"
      ]
     },
     "execution_count": 4,
     "metadata": {},
     "output_type": "execute_result"
    }
   ],
   "source": [
    "train.shape"
   ]
  },
  {
   "cell_type": "code",
   "execution_count": 5,
   "metadata": {},
   "outputs": [
    {
     "data": {
      "text/plain": [
       "(58921, 10)"
      ]
     },
     "execution_count": 5,
     "metadata": {},
     "output_type": "execute_result"
    }
   ],
   "source": [
    "test.shape"
   ]
  },
  {
   "cell_type": "code",
   "execution_count": 6,
   "metadata": {},
   "outputs": [],
   "source": [
    "y_train = train['ACTION']"
   ]
  },
  {
   "cell_type": "code",
   "execution_count": 7,
   "metadata": {},
   "outputs": [
    {
     "data": {
      "text/plain": [
       "(32769,)"
      ]
     },
     "execution_count": 7,
     "metadata": {},
     "output_type": "execute_result"
    }
   ],
   "source": [
    "y_train.shape"
   ]
  },
  {
   "cell_type": "code",
   "execution_count": 8,
   "metadata": {},
   "outputs": [
    {
     "data": {
      "text/plain": [
       "(32769, 9)"
      ]
     },
     "execution_count": 8,
     "metadata": {},
     "output_type": "execute_result"
    }
   ],
   "source": [
    "train_data = train.drop('ACTION', axis=1)\n",
    "train_data.shape"
   ]
  },
  {
   "cell_type": "code",
   "execution_count": 9,
   "metadata": {},
   "outputs": [
    {
     "data": {
      "text/plain": [
       "(58921, 9)"
      ]
     },
     "execution_count": 9,
     "metadata": {},
     "output_type": "execute_result"
    }
   ],
   "source": [
    "test_data = test.drop('id', axis=1)\n",
    "test_data.shape"
   ]
  },
  {
   "cell_type": "markdown",
   "metadata": {},
   "source": [
    "## Common Variables"
   ]
  },
  {
   "cell_type": "code",
   "execution_count": 10,
   "metadata": {},
   "outputs": [],
   "source": [
    "# define variables\n",
    "random_state = 42\n",
    "cv = 5\n",
    "scoring = 'roc_auc'\n",
    "verbose=2"
   ]
  },
  {
   "cell_type": "markdown",
   "metadata": {},
   "source": [
    "## Common functions"
   ]
  },
  {
   "cell_type": "code",
   "execution_count": 11,
   "metadata": {},
   "outputs": [],
   "source": [
    "def save_submission(predictions, filename):\n",
    "    '''\n",
    "    Save predictions into csv file\n",
    "    '''\n",
    "    global test\n",
    "    submission = pd.DataFrame()\n",
    "    submission[\"Id\"] = test[\"id\"]\n",
    "    submission[\"ACTION\"] = predictions\n",
    "    filepath = \"result/sampleSubmission_\"+filename\n",
    "    submission.to_csv(filepath, index = False)"
   ]
  },
  {
   "cell_type": "code",
   "execution_count": 12,
   "metadata": {},
   "outputs": [],
   "source": [
    "def print_graph(results, param1, param2, xlabel, ylabel, title='Plot showing the ROC_AUC score for various hyper parameter values'):\n",
    "    '''\n",
    "    Plot the graph\n",
    "    '''\n",
    "    plt.plot(results[param1],results[param2]);\n",
    "    plt.grid();\n",
    "    plt.xlabel(xlabel);\n",
    "    plt.ylabel(ylabel);\n",
    "    plt.title(title);  "
   ]
  },
  {
   "cell_type": "code",
   "execution_count": 13,
   "metadata": {},
   "outputs": [],
   "source": [
    "def get_rf_params():\n",
    "    '''\n",
    "    Return dictionary of parameters for random forest\n",
    "    '''\n",
    "    params = {\n",
    "         'n_estimators':[10,20,50,100,200,500,700,1000],\n",
    "         'max_depth':[1,2,5,10,12,15,20,25],\n",
    "         'max_features':[1,2,3,4,5],\n",
    "         'min_samples_split':[2,5,7,10,20]\n",
    "    }\n",
    "\n",
    "    return params"
   ]
  },
  {
   "cell_type": "code",
   "execution_count": 14,
   "metadata": {},
   "outputs": [],
   "source": [
    "def get_xgb_params():\n",
    "    '''\n",
    "    Return dictionary of parameters for xgboost\n",
    "    '''\n",
    "    params = {\n",
    "        'n_estimators': [10,20,50,100,200,500,750,1000],\n",
    "        'learning_rate': uniform(0.01, 0.6),\n",
    "        'subsample': uniform(),\n",
    "        'max_depth': [3, 4, 5, 6, 7, 8, 9],\n",
    "        'colsample_bytree': uniform(),\n",
    "        'min_child_weight': [1, 2, 3, 4]\n",
    "    }\n",
    "    \n",
    "    return params"
   ]
  },
  {
   "cell_type": "markdown",
   "metadata": {},
   "source": [
    "### We will try following models\n",
    "\n",
    "1. KNN\n",
    "2. SVM\n",
    "3. Logistic Regression\n",
    "4. Random Forest\n",
    "5. Xgboost"
   ]
  },
  {
   "cell_type": "markdown",
   "metadata": {},
   "source": [
    "## Build Models on the raw data"
   ]
  },
  {
   "cell_type": "markdown",
   "metadata": {},
   "source": [
    "## 1.1 KNN with raw features"
   ]
  },
  {
   "cell_type": "code",
   "execution_count": 15,
   "metadata": {},
   "outputs": [
    {
     "name": "stdout",
     "output_type": "stream",
     "text": [
      "Fitting 5 folds for each of 10 candidates, totalling 50 fits\n"
     ]
    },
    {
     "name": "stderr",
     "output_type": "stream",
     "text": [
      "[Parallel(n_jobs=-1)]: Using backend LokyBackend with 8 concurrent workers.\n",
      "[Parallel(n_jobs=-1)]: Done  25 tasks      | elapsed:    5.2s\n",
      "[Parallel(n_jobs=-1)]: Done  50 out of  50 | elapsed:    8.8s finished\n"
     ]
    }
   ],
   "source": [
    "parameters={'n_neighbors':np.arange(1,100, 5)}\n",
    "clf = RandomizedSearchCV(KNeighborsClassifier(n_jobs=-1),parameters,random_state=random_state,cv=cv,verbose=verbose,scoring=scoring,n_jobs=-1)\n",
    "best_model = clf.fit(train_data,y_train)"
   ]
  },
  {
   "cell_type": "code",
   "execution_count": 16,
   "metadata": {},
   "outputs": [
    {
     "data": {
      "text/html": [
       "<div>\n",
       "<style scoped>\n",
       "    .dataframe tbody tr th:only-of-type {\n",
       "        vertical-align: middle;\n",
       "    }\n",
       "\n",
       "    .dataframe tbody tr th {\n",
       "        vertical-align: top;\n",
       "    }\n",
       "\n",
       "    .dataframe thead th {\n",
       "        text-align: right;\n",
       "    }\n",
       "</style>\n",
       "<table border=\"1\" class=\"dataframe\">\n",
       "  <thead>\n",
       "    <tr style=\"text-align: right;\">\n",
       "      <th></th>\n",
       "      <th>mean_fit_time</th>\n",
       "      <th>std_fit_time</th>\n",
       "      <th>mean_score_time</th>\n",
       "      <th>std_score_time</th>\n",
       "      <th>param_n_neighbors</th>\n",
       "      <th>params</th>\n",
       "      <th>split0_test_score</th>\n",
       "      <th>split1_test_score</th>\n",
       "      <th>split2_test_score</th>\n",
       "      <th>split3_test_score</th>\n",
       "      <th>split4_test_score</th>\n",
       "      <th>mean_test_score</th>\n",
       "      <th>std_test_score</th>\n",
       "      <th>rank_test_score</th>\n",
       "    </tr>\n",
       "  </thead>\n",
       "  <tbody>\n",
       "    <tr>\n",
       "      <th>0</th>\n",
       "      <td>0.083934</td>\n",
       "      <td>0.007898</td>\n",
       "      <td>0.265385</td>\n",
       "      <td>0.036920</td>\n",
       "      <td>1</td>\n",
       "      <td>{'n_neighbors': 1}</td>\n",
       "      <td>0.613536</td>\n",
       "      <td>0.648565</td>\n",
       "      <td>0.631839</td>\n",
       "      <td>0.616312</td>\n",
       "      <td>0.612884</td>\n",
       "      <td>0.624627</td>\n",
       "      <td>0.013821</td>\n",
       "      <td>10</td>\n",
       "    </tr>\n",
       "    <tr>\n",
       "      <th>3</th>\n",
       "      <td>0.240013</td>\n",
       "      <td>0.066697</td>\n",
       "      <td>0.500296</td>\n",
       "      <td>0.106391</td>\n",
       "      <td>6</td>\n",
       "      <td>{'n_neighbors': 6}</td>\n",
       "      <td>0.685658</td>\n",
       "      <td>0.705307</td>\n",
       "      <td>0.671377</td>\n",
       "      <td>0.682735</td>\n",
       "      <td>0.677139</td>\n",
       "      <td>0.684443</td>\n",
       "      <td>0.011522</td>\n",
       "      <td>1</td>\n",
       "    </tr>\n",
       "    <tr>\n",
       "      <th>7</th>\n",
       "      <td>0.226630</td>\n",
       "      <td>0.185183</td>\n",
       "      <td>0.727930</td>\n",
       "      <td>0.213502</td>\n",
       "      <td>16</td>\n",
       "      <td>{'n_neighbors': 16}</td>\n",
       "      <td>0.682882</td>\n",
       "      <td>0.704267</td>\n",
       "      <td>0.671898</td>\n",
       "      <td>0.671661</td>\n",
       "      <td>0.688662</td>\n",
       "      <td>0.683874</td>\n",
       "      <td>0.012103</td>\n",
       "      <td>3</td>\n",
       "    </tr>\n",
       "    <tr>\n",
       "      <th>5</th>\n",
       "      <td>0.243259</td>\n",
       "      <td>0.052800</td>\n",
       "      <td>0.871988</td>\n",
       "      <td>0.100550</td>\n",
       "      <td>26</td>\n",
       "      <td>{'n_neighbors': 26}</td>\n",
       "      <td>0.680836</td>\n",
       "      <td>0.702799</td>\n",
       "      <td>0.657414</td>\n",
       "      <td>0.686912</td>\n",
       "      <td>0.692020</td>\n",
       "      <td>0.683996</td>\n",
       "      <td>0.015120</td>\n",
       "      <td>2</td>\n",
       "    </tr>\n",
       "    <tr>\n",
       "      <th>4</th>\n",
       "      <td>0.183503</td>\n",
       "      <td>0.043958</td>\n",
       "      <td>0.783068</td>\n",
       "      <td>0.125342</td>\n",
       "      <td>41</td>\n",
       "      <td>{'n_neighbors': 41}</td>\n",
       "      <td>0.679090</td>\n",
       "      <td>0.686315</td>\n",
       "      <td>0.660415</td>\n",
       "      <td>0.675779</td>\n",
       "      <td>0.679274</td>\n",
       "      <td>0.676175</td>\n",
       "      <td>0.008596</td>\n",
       "      <td>4</td>\n",
       "    </tr>\n",
       "    <tr>\n",
       "      <th>6</th>\n",
       "      <td>0.228750</td>\n",
       "      <td>0.048025</td>\n",
       "      <td>1.059379</td>\n",
       "      <td>0.235010</td>\n",
       "      <td>56</td>\n",
       "      <td>{'n_neighbors': 56}</td>\n",
       "      <td>0.669826</td>\n",
       "      <td>0.680233</td>\n",
       "      <td>0.649829</td>\n",
       "      <td>0.677367</td>\n",
       "      <td>0.678156</td>\n",
       "      <td>0.671082</td>\n",
       "      <td>0.011194</td>\n",
       "      <td>5</td>\n",
       "    </tr>\n",
       "    <tr>\n",
       "      <th>2</th>\n",
       "      <td>0.311753</td>\n",
       "      <td>0.040799</td>\n",
       "      <td>1.216632</td>\n",
       "      <td>0.265773</td>\n",
       "      <td>76</td>\n",
       "      <td>{'n_neighbors': 76}</td>\n",
       "      <td>0.661127</td>\n",
       "      <td>0.666859</td>\n",
       "      <td>0.647729</td>\n",
       "      <td>0.665512</td>\n",
       "      <td>0.667682</td>\n",
       "      <td>0.661782</td>\n",
       "      <td>0.007381</td>\n",
       "      <td>6</td>\n",
       "    </tr>\n",
       "    <tr>\n",
       "      <th>9</th>\n",
       "      <td>0.270957</td>\n",
       "      <td>0.199804</td>\n",
       "      <td>0.948423</td>\n",
       "      <td>0.458374</td>\n",
       "      <td>81</td>\n",
       "      <td>{'n_neighbors': 81}</td>\n",
       "      <td>0.659469</td>\n",
       "      <td>0.661851</td>\n",
       "      <td>0.645727</td>\n",
       "      <td>0.664603</td>\n",
       "      <td>0.666253</td>\n",
       "      <td>0.659580</td>\n",
       "      <td>0.007305</td>\n",
       "      <td>7</td>\n",
       "    </tr>\n",
       "    <tr>\n",
       "      <th>1</th>\n",
       "      <td>0.168152</td>\n",
       "      <td>0.078784</td>\n",
       "      <td>1.293272</td>\n",
       "      <td>0.219475</td>\n",
       "      <td>86</td>\n",
       "      <td>{'n_neighbors': 86}</td>\n",
       "      <td>0.660093</td>\n",
       "      <td>0.657713</td>\n",
       "      <td>0.645470</td>\n",
       "      <td>0.665596</td>\n",
       "      <td>0.662302</td>\n",
       "      <td>0.658235</td>\n",
       "      <td>0.006890</td>\n",
       "      <td>8</td>\n",
       "    </tr>\n",
       "    <tr>\n",
       "      <th>8</th>\n",
       "      <td>0.108329</td>\n",
       "      <td>0.024517</td>\n",
       "      <td>1.590826</td>\n",
       "      <td>0.059955</td>\n",
       "      <td>91</td>\n",
       "      <td>{'n_neighbors': 91}</td>\n",
       "      <td>0.658300</td>\n",
       "      <td>0.655825</td>\n",
       "      <td>0.644015</td>\n",
       "      <td>0.663598</td>\n",
       "      <td>0.660646</td>\n",
       "      <td>0.656477</td>\n",
       "      <td>0.006740</td>\n",
       "      <td>9</td>\n",
       "    </tr>\n",
       "  </tbody>\n",
       "</table>\n",
       "</div>"
      ],
      "text/plain": [
       "   mean_fit_time  std_fit_time  mean_score_time  std_score_time  \\\n",
       "0       0.083934      0.007898         0.265385        0.036920   \n",
       "3       0.240013      0.066697         0.500296        0.106391   \n",
       "7       0.226630      0.185183         0.727930        0.213502   \n",
       "5       0.243259      0.052800         0.871988        0.100550   \n",
       "4       0.183503      0.043958         0.783068        0.125342   \n",
       "6       0.228750      0.048025         1.059379        0.235010   \n",
       "2       0.311753      0.040799         1.216632        0.265773   \n",
       "9       0.270957      0.199804         0.948423        0.458374   \n",
       "1       0.168152      0.078784         1.293272        0.219475   \n",
       "8       0.108329      0.024517         1.590826        0.059955   \n",
       "\n",
       "  param_n_neighbors               params  split0_test_score  \\\n",
       "0                 1   {'n_neighbors': 1}           0.613536   \n",
       "3                 6   {'n_neighbors': 6}           0.685658   \n",
       "7                16  {'n_neighbors': 16}           0.682882   \n",
       "5                26  {'n_neighbors': 26}           0.680836   \n",
       "4                41  {'n_neighbors': 41}           0.679090   \n",
       "6                56  {'n_neighbors': 56}           0.669826   \n",
       "2                76  {'n_neighbors': 76}           0.661127   \n",
       "9                81  {'n_neighbors': 81}           0.659469   \n",
       "1                86  {'n_neighbors': 86}           0.660093   \n",
       "8                91  {'n_neighbors': 91}           0.658300   \n",
       "\n",
       "   split1_test_score  split2_test_score  split3_test_score  split4_test_score  \\\n",
       "0           0.648565           0.631839           0.616312           0.612884   \n",
       "3           0.705307           0.671377           0.682735           0.677139   \n",
       "7           0.704267           0.671898           0.671661           0.688662   \n",
       "5           0.702799           0.657414           0.686912           0.692020   \n",
       "4           0.686315           0.660415           0.675779           0.679274   \n",
       "6           0.680233           0.649829           0.677367           0.678156   \n",
       "2           0.666859           0.647729           0.665512           0.667682   \n",
       "9           0.661851           0.645727           0.664603           0.666253   \n",
       "1           0.657713           0.645470           0.665596           0.662302   \n",
       "8           0.655825           0.644015           0.663598           0.660646   \n",
       "\n",
       "   mean_test_score  std_test_score  rank_test_score  \n",
       "0         0.624627        0.013821               10  \n",
       "3         0.684443        0.011522                1  \n",
       "7         0.683874        0.012103                3  \n",
       "5         0.683996        0.015120                2  \n",
       "4         0.676175        0.008596                4  \n",
       "6         0.671082        0.011194                5  \n",
       "2         0.661782        0.007381                6  \n",
       "9         0.659580        0.007305                7  \n",
       "1         0.658235        0.006890                8  \n",
       "8         0.656477        0.006740                9  "
      ]
     },
     "execution_count": 16,
     "metadata": {},
     "output_type": "execute_result"
    }
   ],
   "source": [
    "results = pd.DataFrame.from_dict(best_model.cv_results_)\n",
    "results=results.sort_values('param_n_neighbors')\n",
    "results"
   ]
  },
  {
   "cell_type": "code",
   "execution_count": 17,
   "metadata": {},
   "outputs": [
    {
     "data": {
      "image/png": "[encoded data removed]",
      "text/plain": [
       "<Figure size 432x288 with 1 Axes>"
      ]
     },
     "metadata": {
      "needs_background": "light"
     },
     "output_type": "display_data"
    }
   ],
   "source": [
    "print_graph(results, 'param_n_neighbors', 'mean_test_score', 'Hyperparameter - No. of neighbors', 'Test score')  "
   ]
  },
  {
   "cell_type": "code",
   "execution_count": 18,
   "metadata": {},
   "outputs": [
    {
     "data": {
      "text/plain": [
       "6"
      ]
     },
     "execution_count": 18,
     "metadata": {},
     "output_type": "execute_result"
    }
   ],
   "source": [
    "best_c=best_model.best_params_['n_neighbors']\n",
    "best_c"
   ]
  },
  {
   "cell_type": "code",
   "execution_count": 19,
   "metadata": {},
   "outputs": [
    {
     "data": {
      "text/plain": [
       "KNeighborsClassifier(n_jobs=-1, n_neighbors=6)"
      ]
     },
     "execution_count": 19,
     "metadata": {},
     "output_type": "execute_result"
    }
   ],
   "source": [
    "model = KNeighborsClassifier(n_neighbors=best_c,n_jobs=-1)\n",
    "model.fit(train_data,y_train)"
   ]
  },
  {
   "cell_type": "code",
   "execution_count": 20,
   "metadata": {},
   "outputs": [],
   "source": [
    "predictions = model.predict_proba(test_data)[:,1]\n",
    "save_submission(predictions, \"knn_raw.csv\")"
   ]
  },
  {
   "cell_type": "markdown",
   "metadata": {},
   "source": [
    "![knn-raw](images/knn-raw-new.png)"
   ]
  },
  {
   "cell_type": "markdown",
   "metadata": {},
   "source": [
    "## 1.2 SVM with raw feature"
   ]
  },
  {
   "cell_type": "code",
   "execution_count": 21,
   "metadata": {},
   "outputs": [
    {
     "name": "stdout",
     "output_type": "stream",
     "text": [
      "Fitting 5 folds for each of 10 candidates, totalling 50 fits\n"
     ]
    },
    {
     "name": "stderr",
     "output_type": "stream",
     "text": [
      "[Parallel(n_jobs=-1)]: Using backend LokyBackend with 8 concurrent workers.\n",
      "[Parallel(n_jobs=-1)]: Done  25 tasks      | elapsed:  1.3min\n",
      "[Parallel(n_jobs=-1)]: Done  50 out of  50 | elapsed:  2.0min finished\n"
     ]
    },
    {
     "name": "stdout",
     "output_type": "stream",
     "text": [
      "[LibLinear]"
     ]
    },
    {
     "name": "stderr",
     "output_type": "stream",
     "text": [
      "/home/auw-mayank/.local/lib/python3.6/site-packages/sklearn/svm/_base.py:977: ConvergenceWarning: Liblinear failed to converge, increase the number of iterations.\n",
      "  \"the number of iterations.\", ConvergenceWarning)\n"
     ]
    }
   ],
   "source": [
    "C_val = uniform(loc=0, scale=4)\n",
    "model= LinearSVC(verbose=verbose,random_state=random_state,class_weight='balanced',max_iter=2000)\n",
    "parameters={'C':C_val}\n",
    "clf = RandomizedSearchCV(model,parameters,random_state=random_state,cv=cv,verbose=verbose,scoring=scoring,n_jobs=-1)\n",
    "best_model = clf.fit(train_data,y_train)"
   ]
  },
  {
   "cell_type": "code",
   "execution_count": 22,
   "metadata": {},
   "outputs": [
    {
     "data": {
      "text/plain": [
       "1.49816047538945"
      ]
     },
     "execution_count": 22,
     "metadata": {},
     "output_type": "execute_result"
    }
   ],
   "source": [
    "best_c=best_model.best_params_['C']\n",
    "best_c"
   ]
  },
  {
   "cell_type": "code",
   "execution_count": 23,
   "metadata": {},
   "outputs": [
    {
     "data": {
      "text/html": [
       "<div>\n",
       "<style scoped>\n",
       "    .dataframe tbody tr th:only-of-type {\n",
       "        vertical-align: middle;\n",
       "    }\n",
       "\n",
       "    .dataframe tbody tr th {\n",
       "        vertical-align: top;\n",
       "    }\n",
       "\n",
       "    .dataframe thead th {\n",
       "        text-align: right;\n",
       "    }\n",
       "</style>\n",
       "<table border=\"1\" class=\"dataframe\">\n",
       "  <thead>\n",
       "    <tr style=\"text-align: right;\">\n",
       "      <th></th>\n",
       "      <th>mean_fit_time</th>\n",
       "      <th>std_fit_time</th>\n",
       "      <th>mean_score_time</th>\n",
       "      <th>std_score_time</th>\n",
       "      <th>param_C</th>\n",
       "      <th>params</th>\n",
       "      <th>split0_test_score</th>\n",
       "      <th>split1_test_score</th>\n",
       "      <th>split2_test_score</th>\n",
       "      <th>split3_test_score</th>\n",
       "      <th>split4_test_score</th>\n",
       "      <th>mean_test_score</th>\n",
       "      <th>std_test_score</th>\n",
       "      <th>rank_test_score</th>\n",
       "    </tr>\n",
       "  </thead>\n",
       "  <tbody>\n",
       "    <tr>\n",
       "      <th>6</th>\n",
       "      <td>18.684481</td>\n",
       "      <td>0.499781</td>\n",
       "      <td>0.009284</td>\n",
       "      <td>0.000217</td>\n",
       "      <td>0.232334</td>\n",
       "      <td>{'C': 0.23233444867279784}</td>\n",
       "      <td>0.521784</td>\n",
       "      <td>0.511453</td>\n",
       "      <td>0.513316</td>\n",
       "      <td>0.491307</td>\n",
       "      <td>0.518961</td>\n",
       "      <td>0.511364</td>\n",
       "      <td>0.010699</td>\n",
       "      <td>1</td>\n",
       "    </tr>\n",
       "    <tr>\n",
       "      <th>5</th>\n",
       "      <td>19.870518</td>\n",
       "      <td>0.305372</td>\n",
       "      <td>0.009752</td>\n",
       "      <td>0.000904</td>\n",
       "      <td>0.623978</td>\n",
       "      <td>{'C': 0.6239780813448106}</td>\n",
       "      <td>0.521784</td>\n",
       "      <td>0.511453</td>\n",
       "      <td>0.513316</td>\n",
       "      <td>0.491307</td>\n",
       "      <td>0.518961</td>\n",
       "      <td>0.511364</td>\n",
       "      <td>0.010699</td>\n",
       "      <td>1</td>\n",
       "    </tr>\n",
       "    <tr>\n",
       "      <th>4</th>\n",
       "      <td>19.918902</td>\n",
       "      <td>0.358008</td>\n",
       "      <td>0.011202</td>\n",
       "      <td>0.001661</td>\n",
       "      <td>0.624075</td>\n",
       "      <td>{'C': 0.6240745617697461}</td>\n",
       "      <td>0.521784</td>\n",
       "      <td>0.511453</td>\n",
       "      <td>0.513316</td>\n",
       "      <td>0.491307</td>\n",
       "      <td>0.518961</td>\n",
       "      <td>0.511364</td>\n",
       "      <td>0.010699</td>\n",
       "      <td>1</td>\n",
       "    </tr>\n",
       "    <tr>\n",
       "      <th>0</th>\n",
       "      <td>19.442288</td>\n",
       "      <td>0.216182</td>\n",
       "      <td>0.009220</td>\n",
       "      <td>0.000190</td>\n",
       "      <td>1.49816</td>\n",
       "      <td>{'C': 1.49816047538945}</td>\n",
       "      <td>0.521784</td>\n",
       "      <td>0.511453</td>\n",
       "      <td>0.513316</td>\n",
       "      <td>0.491307</td>\n",
       "      <td>0.518961</td>\n",
       "      <td>0.511364</td>\n",
       "      <td>0.010699</td>\n",
       "      <td>1</td>\n",
       "    </tr>\n",
       "    <tr>\n",
       "      <th>3</th>\n",
       "      <td>19.357509</td>\n",
       "      <td>0.560751</td>\n",
       "      <td>0.009917</td>\n",
       "      <td>0.000562</td>\n",
       "      <td>2.39463</td>\n",
       "      <td>{'C': 2.3946339367881464}</td>\n",
       "      <td>0.521784</td>\n",
       "      <td>0.511453</td>\n",
       "      <td>0.513316</td>\n",
       "      <td>0.491307</td>\n",
       "      <td>0.518961</td>\n",
       "      <td>0.511364</td>\n",
       "      <td>0.010699</td>\n",
       "      <td>1</td>\n",
       "    </tr>\n",
       "    <tr>\n",
       "      <th>8</th>\n",
       "      <td>18.831271</td>\n",
       "      <td>0.356759</td>\n",
       "      <td>0.008356</td>\n",
       "      <td>0.001407</td>\n",
       "      <td>2.40446</td>\n",
       "      <td>{'C': 2.404460046972835}</td>\n",
       "      <td>0.521784</td>\n",
       "      <td>0.511453</td>\n",
       "      <td>0.513316</td>\n",
       "      <td>0.491307</td>\n",
       "      <td>0.518961</td>\n",
       "      <td>0.511364</td>\n",
       "      <td>0.010699</td>\n",
       "      <td>1</td>\n",
       "    </tr>\n",
       "    <tr>\n",
       "      <th>9</th>\n",
       "      <td>14.130057</td>\n",
       "      <td>5.223100</td>\n",
       "      <td>0.006211</td>\n",
       "      <td>0.001171</td>\n",
       "      <td>2.83229</td>\n",
       "      <td>{'C': 2.832290311184182}</td>\n",
       "      <td>0.521784</td>\n",
       "      <td>0.511453</td>\n",
       "      <td>0.513316</td>\n",
       "      <td>0.491307</td>\n",
       "      <td>0.518961</td>\n",
       "      <td>0.511364</td>\n",
       "      <td>0.010699</td>\n",
       "      <td>1</td>\n",
       "    </tr>\n",
       "    <tr>\n",
       "      <th>2</th>\n",
       "      <td>18.946967</td>\n",
       "      <td>0.453250</td>\n",
       "      <td>0.009577</td>\n",
       "      <td>0.000543</td>\n",
       "      <td>2.92798</td>\n",
       "      <td>{'C': 2.9279757672456204}</td>\n",
       "      <td>0.521784</td>\n",
       "      <td>0.511453</td>\n",
       "      <td>0.513316</td>\n",
       "      <td>0.491307</td>\n",
       "      <td>0.518961</td>\n",
       "      <td>0.511364</td>\n",
       "      <td>0.010699</td>\n",
       "      <td>1</td>\n",
       "    </tr>\n",
       "    <tr>\n",
       "      <th>7</th>\n",
       "      <td>18.603018</td>\n",
       "      <td>0.394303</td>\n",
       "      <td>0.009629</td>\n",
       "      <td>0.000678</td>\n",
       "      <td>3.4647</td>\n",
       "      <td>{'C': 3.4647045830997407}</td>\n",
       "      <td>0.521784</td>\n",
       "      <td>0.511453</td>\n",
       "      <td>0.513316</td>\n",
       "      <td>0.491307</td>\n",
       "      <td>0.518961</td>\n",
       "      <td>0.511364</td>\n",
       "      <td>0.010699</td>\n",
       "      <td>1</td>\n",
       "    </tr>\n",
       "    <tr>\n",
       "      <th>1</th>\n",
       "      <td>19.380741</td>\n",
       "      <td>0.234885</td>\n",
       "      <td>0.009244</td>\n",
       "      <td>0.000622</td>\n",
       "      <td>3.80286</td>\n",
       "      <td>{'C': 3.8028572256396647}</td>\n",
       "      <td>0.521784</td>\n",
       "      <td>0.511453</td>\n",
       "      <td>0.513316</td>\n",
       "      <td>0.491307</td>\n",
       "      <td>0.518961</td>\n",
       "      <td>0.511364</td>\n",
       "      <td>0.010699</td>\n",
       "      <td>1</td>\n",
       "    </tr>\n",
       "  </tbody>\n",
       "</table>\n",
       "</div>"
      ],
      "text/plain": [
       "   mean_fit_time  std_fit_time  mean_score_time  std_score_time   param_C  \\\n",
       "6      18.684481      0.499781         0.009284        0.000217  0.232334   \n",
       "5      19.870518      0.305372         0.009752        0.000904  0.623978   \n",
       "4      19.918902      0.358008         0.011202        0.001661  0.624075   \n",
       "0      19.442288      0.216182         0.009220        0.000190   1.49816   \n",
       "3      19.357509      0.560751         0.009917        0.000562   2.39463   \n",
       "8      18.831271      0.356759         0.008356        0.001407   2.40446   \n",
       "9      14.130057      5.223100         0.006211        0.001171   2.83229   \n",
       "2      18.946967      0.453250         0.009577        0.000543   2.92798   \n",
       "7      18.603018      0.394303         0.009629        0.000678    3.4647   \n",
       "1      19.380741      0.234885         0.009244        0.000622   3.80286   \n",
       "\n",
       "                       params  split0_test_score  split1_test_score  \\\n",
       "6  {'C': 0.23233444867279784}           0.521784           0.511453   \n",
       "5   {'C': 0.6239780813448106}           0.521784           0.511453   \n",
       "4   {'C': 0.6240745617697461}           0.521784           0.511453   \n",
       "0     {'C': 1.49816047538945}           0.521784           0.511453   \n",
       "3   {'C': 2.3946339367881464}           0.521784           0.511453   \n",
       "8    {'C': 2.404460046972835}           0.521784           0.511453   \n",
       "9    {'C': 2.832290311184182}           0.521784           0.511453   \n",
       "2   {'C': 2.9279757672456204}           0.521784           0.511453   \n",
       "7   {'C': 3.4647045830997407}           0.521784           0.511453   \n",
       "1   {'C': 3.8028572256396647}           0.521784           0.511453   \n",
       "\n",
       "   split2_test_score  split3_test_score  split4_test_score  mean_test_score  \\\n",
       "6           0.513316           0.491307           0.518961         0.511364   \n",
       "5           0.513316           0.491307           0.518961         0.511364   \n",
       "4           0.513316           0.491307           0.518961         0.511364   \n",
       "0           0.513316           0.491307           0.518961         0.511364   \n",
       "3           0.513316           0.491307           0.518961         0.511364   \n",
       "8           0.513316           0.491307           0.518961         0.511364   \n",
       "9           0.513316           0.491307           0.518961         0.511364   \n",
       "2           0.513316           0.491307           0.518961         0.511364   \n",
       "7           0.513316           0.491307           0.518961         0.511364   \n",
       "1           0.513316           0.491307           0.518961         0.511364   \n",
       "\n",
       "   std_test_score  rank_test_score  \n",
       "6        0.010699                1  \n",
       "5        0.010699                1  \n",
       "4        0.010699                1  \n",
       "0        0.010699                1  \n",
       "3        0.010699                1  \n",
       "8        0.010699                1  \n",
       "9        0.010699                1  \n",
       "2        0.010699                1  \n",
       "7        0.010699                1  \n",
       "1        0.010699                1  "
      ]
     },
     "execution_count": 23,
     "metadata": {},
     "output_type": "execute_result"
    }
   ],
   "source": [
    "results = pd.DataFrame.from_dict(best_model.cv_results_)\n",
    "results=results.sort_values('param_C')\n",
    "results"
   ]
  },
  {
   "cell_type": "code",
   "execution_count": 24,
   "metadata": {},
   "outputs": [
    {
     "data": {
      "image/png": "[encoded data removed]",
      "text/plain": [
       "<Figure size 432x288 with 1 Axes>"
      ]
     },
     "metadata": {
      "needs_background": "light"
     },
     "output_type": "display_data"
    }
   ],
   "source": [
    "print_graph(results, 'param_C', 'mean_test_score', 'Hyperparameter - C', 'Test score')"
   ]
  },
  {
   "cell_type": "code",
   "execution_count": 25,
   "metadata": {},
   "outputs": [
    {
     "name": "stdout",
     "output_type": "stream",
     "text": [
      "[LibLinear]"
     ]
    },
    {
     "name": "stderr",
     "output_type": "stream",
     "text": [
      "/home/auw-mayank/.local/lib/python3.6/site-packages/sklearn/svm/_base.py:977: ConvergenceWarning: Liblinear failed to converge, increase the number of iterations.\n",
      "  \"the number of iterations.\", ConvergenceWarning)\n"
     ]
    },
    {
     "name": "stdout",
     "output_type": "stream",
     "text": [
      "[LibLinear]"
     ]
    },
    {
     "name": "stderr",
     "output_type": "stream",
     "text": [
      "/home/auw-mayank/.local/lib/python3.6/site-packages/sklearn/svm/_base.py:977: ConvergenceWarning: Liblinear failed to converge, increase the number of iterations.\n",
      "  \"the number of iterations.\", ConvergenceWarning)\n"
     ]
    },
    {
     "name": "stdout",
     "output_type": "stream",
     "text": [
      "[LibLinear]"
     ]
    },
    {
     "name": "stderr",
     "output_type": "stream",
     "text": [
      "/home/auw-mayank/.local/lib/python3.6/site-packages/sklearn/svm/_base.py:977: ConvergenceWarning: Liblinear failed to converge, increase the number of iterations.\n",
      "  \"the number of iterations.\", ConvergenceWarning)\n"
     ]
    },
    {
     "name": "stdout",
     "output_type": "stream",
     "text": [
      "[LibLinear]"
     ]
    },
    {
     "name": "stderr",
     "output_type": "stream",
     "text": [
      "/home/auw-mayank/.local/lib/python3.6/site-packages/sklearn/svm/_base.py:977: ConvergenceWarning: Liblinear failed to converge, increase the number of iterations.\n",
      "  \"the number of iterations.\", ConvergenceWarning)\n"
     ]
    },
    {
     "name": "stdout",
     "output_type": "stream",
     "text": [
      "[LibLinear]"
     ]
    },
    {
     "name": "stderr",
     "output_type": "stream",
     "text": [
      "/home/auw-mayank/.local/lib/python3.6/site-packages/sklearn/svm/_base.py:977: ConvergenceWarning: Liblinear failed to converge, increase the number of iterations.\n",
      "  \"the number of iterations.\", ConvergenceWarning)\n"
     ]
    },
    {
     "data": {
      "text/plain": [
       "CalibratedClassifierCV(base_estimator=LinearSVC(C=1.49816047538945,\n",
       "                                                class_weight='balanced',\n",
       "                                                max_iter=2000, random_state=42,\n",
       "                                                verbose=2))"
      ]
     },
     "execution_count": 25,
     "metadata": {},
     "output_type": "execute_result"
    }
   ],
   "source": [
    "#https://stackoverflow.com/questions/26478000/converting-linearsvcs-decision-function-to-probabilities-scikit-learn-python\n",
    "model = LinearSVC(C=best_c,verbose=verbose,random_state=random_state,class_weight='balanced',max_iter=2000)\n",
    "model = CalibratedClassifierCV(model)\n",
    "model.fit(train_data,y_train)"
   ]
  },
  {
   "cell_type": "code",
   "execution_count": 26,
   "metadata": {},
   "outputs": [],
   "source": [
    "predictions = model.predict_proba(test_data)[:,1]\n",
    "save_submission(predictions, 'svm_raw.csv')"
   ]
  },
  {
   "cell_type": "markdown",
   "metadata": {},
   "source": [
    "![svm-raw](images/svm-raw.png)"
   ]
  },
  {
   "cell_type": "markdown",
   "metadata": {},
   "source": [
    "## 1.3 Logistic Regression with Raw Feature"
   ]
  },
  {
   "cell_type": "code",
   "execution_count": 27,
   "metadata": {},
   "outputs": [
    {
     "name": "stdout",
     "output_type": "stream",
     "text": [
      "Fitting 5 folds for each of 100 candidates, totalling 500 fits\n"
     ]
    },
    {
     "name": "stderr",
     "output_type": "stream",
     "text": [
      "[Parallel(n_jobs=-1)]: Using backend LokyBackend with 8 concurrent workers.\n",
      "[Parallel(n_jobs=-1)]: Done  25 tasks      | elapsed:    1.2s\n",
      "[Parallel(n_jobs=-1)]: Done 146 tasks      | elapsed:    6.1s\n",
      "[Parallel(n_jobs=-1)]: Done 349 tasks      | elapsed:   14.3s\n",
      "[Parallel(n_jobs=-1)]: Done 500 out of 500 | elapsed:   20.5s finished\n",
      "[Parallel(n_jobs=-1)]: Using backend LokyBackend with 8 concurrent workers.\n",
      "[Parallel(n_jobs=-1)]: Done   1 out of   1 | elapsed:    0.3s finished\n"
     ]
    }
   ],
   "source": [
    "C_val = uniform(loc=0, scale=4)\n",
    "lr= LogisticRegression(verbose=verbose,random_state=random_state,class_weight='balanced',solver='lbfgs',max_iter=500,n_jobs=-1)\n",
    "parameters={'C':C_val}\n",
    "clf = RandomizedSearchCV(lr,parameters,random_state=random_state,cv=cv,verbose=verbose,n_iter=100,scoring=scoring,n_jobs=-1)\n",
    "best_model = clf.fit(train_data,y_train)"
   ]
  },
  {
   "cell_type": "code",
   "execution_count": 28,
   "metadata": {},
   "outputs": [
    {
     "data": {
      "text/plain": [
       "1.49816047538945"
      ]
     },
     "execution_count": 28,
     "metadata": {},
     "output_type": "execute_result"
    }
   ],
   "source": [
    "best_c=best_model.best_params_['C']\n",
    "best_c"
   ]
  },
  {
   "cell_type": "code",
   "execution_count": 29,
   "metadata": {},
   "outputs": [
    {
     "data": {
      "text/html": [
       "<div>\n",
       "<style scoped>\n",
       "    .dataframe tbody tr th:only-of-type {\n",
       "        vertical-align: middle;\n",
       "    }\n",
       "\n",
       "    .dataframe tbody tr th {\n",
       "        vertical-align: top;\n",
       "    }\n",
       "\n",
       "    .dataframe thead th {\n",
       "        text-align: right;\n",
       "    }\n",
       "</style>\n",
       "<table border=\"1\" class=\"dataframe\">\n",
       "  <thead>\n",
       "    <tr style=\"text-align: right;\">\n",
       "      <th></th>\n",
       "      <th>mean_fit_time</th>\n",
       "      <th>std_fit_time</th>\n",
       "      <th>mean_score_time</th>\n",
       "      <th>std_score_time</th>\n",
       "      <th>param_C</th>\n",
       "      <th>params</th>\n",
       "      <th>split0_test_score</th>\n",
       "      <th>split1_test_score</th>\n",
       "      <th>split2_test_score</th>\n",
       "      <th>split3_test_score</th>\n",
       "      <th>split4_test_score</th>\n",
       "      <th>mean_test_score</th>\n",
       "      <th>std_test_score</th>\n",
       "      <th>rank_test_score</th>\n",
       "    </tr>\n",
       "  </thead>\n",
       "  <tbody>\n",
       "    <tr>\n",
       "      <th>72</th>\n",
       "      <td>0.305453</td>\n",
       "      <td>0.042840</td>\n",
       "      <td>0.007123</td>\n",
       "      <td>0.001411</td>\n",
       "      <td>0.0220885</td>\n",
       "      <td>{'C': 0.022088468494409597}</td>\n",
       "      <td>0.519329</td>\n",
       "      <td>0.548037</td>\n",
       "      <td>0.516881</td>\n",
       "      <td>0.53325</td>\n",
       "      <td>0.498591</td>\n",
       "      <td>0.523217</td>\n",
       "      <td>0.016604</td>\n",
       "      <td>1</td>\n",
       "    </tr>\n",
       "    <tr>\n",
       "      <th>10</th>\n",
       "      <td>0.299544</td>\n",
       "      <td>0.043052</td>\n",
       "      <td>0.009865</td>\n",
       "      <td>0.001636</td>\n",
       "      <td>0.082338</td>\n",
       "      <td>{'C': 0.08233797718320979}</td>\n",
       "      <td>0.519328</td>\n",
       "      <td>0.548037</td>\n",
       "      <td>0.516881</td>\n",
       "      <td>0.53325</td>\n",
       "      <td>0.498591</td>\n",
       "      <td>0.523217</td>\n",
       "      <td>0.016604</td>\n",
       "      <td>99</td>\n",
       "    </tr>\n",
       "    <tr>\n",
       "      <th>98</th>\n",
       "      <td>0.324737</td>\n",
       "      <td>0.029356</td>\n",
       "      <td>0.009632</td>\n",
       "      <td>0.001840</td>\n",
       "      <td>0.101677</td>\n",
       "      <td>{'C': 0.10167650697638075}</td>\n",
       "      <td>0.519328</td>\n",
       "      <td>0.548037</td>\n",
       "      <td>0.516881</td>\n",
       "      <td>0.53325</td>\n",
       "      <td>0.498591</td>\n",
       "      <td>0.523217</td>\n",
       "      <td>0.016604</td>\n",
       "      <td>99</td>\n",
       "    </tr>\n",
       "    <tr>\n",
       "      <th>42</th>\n",
       "      <td>0.322684</td>\n",
       "      <td>0.047769</td>\n",
       "      <td>0.008097</td>\n",
       "      <td>0.001223</td>\n",
       "      <td>0.137554</td>\n",
       "      <td>{'C': 0.13755408446087358}</td>\n",
       "      <td>0.519329</td>\n",
       "      <td>0.548037</td>\n",
       "      <td>0.516881</td>\n",
       "      <td>0.53325</td>\n",
       "      <td>0.498591</td>\n",
       "      <td>0.523217</td>\n",
       "      <td>0.016604</td>\n",
       "      <td>1</td>\n",
       "    </tr>\n",
       "    <tr>\n",
       "      <th>58</th>\n",
       "      <td>0.312479</td>\n",
       "      <td>0.040692</td>\n",
       "      <td>0.010287</td>\n",
       "      <td>0.003491</td>\n",
       "      <td>0.180909</td>\n",
       "      <td>{'C': 0.18090915564215226}</td>\n",
       "      <td>0.519329</td>\n",
       "      <td>0.548037</td>\n",
       "      <td>0.516881</td>\n",
       "      <td>0.53325</td>\n",
       "      <td>0.498591</td>\n",
       "      <td>0.523217</td>\n",
       "      <td>0.016604</td>\n",
       "      <td>1</td>\n",
       "    </tr>\n",
       "    <tr>\n",
       "      <th>...</th>\n",
       "      <td>...</td>\n",
       "      <td>...</td>\n",
       "      <td>...</td>\n",
       "      <td>...</td>\n",
       "      <td>...</td>\n",
       "      <td>...</td>\n",
       "      <td>...</td>\n",
       "      <td>...</td>\n",
       "      <td>...</td>\n",
       "      <td>...</td>\n",
       "      <td>...</td>\n",
       "      <td>...</td>\n",
       "      <td>...</td>\n",
       "      <td>...</td>\n",
       "    </tr>\n",
       "    <tr>\n",
       "      <th>1</th>\n",
       "      <td>0.330116</td>\n",
       "      <td>0.064433</td>\n",
       "      <td>0.008579</td>\n",
       "      <td>0.001581</td>\n",
       "      <td>3.80286</td>\n",
       "      <td>{'C': 3.8028572256396647}</td>\n",
       "      <td>0.519329</td>\n",
       "      <td>0.548037</td>\n",
       "      <td>0.516881</td>\n",
       "      <td>0.53325</td>\n",
       "      <td>0.498591</td>\n",
       "      <td>0.523217</td>\n",
       "      <td>0.016604</td>\n",
       "      <td>1</td>\n",
       "    </tr>\n",
       "    <tr>\n",
       "      <th>34</th>\n",
       "      <td>0.307352</td>\n",
       "      <td>0.038496</td>\n",
       "      <td>0.009020</td>\n",
       "      <td>0.000806</td>\n",
       "      <td>3.86253</td>\n",
       "      <td>{'C': 3.8625281322982374}</td>\n",
       "      <td>0.519329</td>\n",
       "      <td>0.548037</td>\n",
       "      <td>0.516881</td>\n",
       "      <td>0.53325</td>\n",
       "      <td>0.498591</td>\n",
       "      <td>0.523217</td>\n",
       "      <td>0.016604</td>\n",
       "      <td>1</td>\n",
       "    </tr>\n",
       "    <tr>\n",
       "      <th>50</th>\n",
       "      <td>0.286139</td>\n",
       "      <td>0.050608</td>\n",
       "      <td>0.008554</td>\n",
       "      <td>0.001624</td>\n",
       "      <td>3.87834</td>\n",
       "      <td>{'C': 3.8783385110582342}</td>\n",
       "      <td>0.519329</td>\n",
       "      <td>0.548037</td>\n",
       "      <td>0.516881</td>\n",
       "      <td>0.53325</td>\n",
       "      <td>0.498591</td>\n",
       "      <td>0.523217</td>\n",
       "      <td>0.016604</td>\n",
       "      <td>1</td>\n",
       "    </tr>\n",
       "    <tr>\n",
       "      <th>11</th>\n",
       "      <td>0.311766</td>\n",
       "      <td>0.046068</td>\n",
       "      <td>0.009899</td>\n",
       "      <td>0.002444</td>\n",
       "      <td>3.87964</td>\n",
       "      <td>{'C': 3.8796394086479773}</td>\n",
       "      <td>0.519329</td>\n",
       "      <td>0.548037</td>\n",
       "      <td>0.516881</td>\n",
       "      <td>0.53325</td>\n",
       "      <td>0.498591</td>\n",
       "      <td>0.523217</td>\n",
       "      <td>0.016604</td>\n",
       "      <td>1</td>\n",
       "    </tr>\n",
       "    <tr>\n",
       "      <th>69</th>\n",
       "      <td>0.288068</td>\n",
       "      <td>0.053532</td>\n",
       "      <td>0.009172</td>\n",
       "      <td>0.001290</td>\n",
       "      <td>3.94755</td>\n",
       "      <td>{'C': 3.947547746402069}</td>\n",
       "      <td>0.519329</td>\n",
       "      <td>0.548037</td>\n",
       "      <td>0.516881</td>\n",
       "      <td>0.53325</td>\n",
       "      <td>0.498591</td>\n",
       "      <td>0.523217</td>\n",
       "      <td>0.016604</td>\n",
       "      <td>1</td>\n",
       "    </tr>\n",
       "  </tbody>\n",
       "</table>\n",
       "<p>100 rows × 14 columns</p>\n",
       "</div>"
      ],
      "text/plain": [
       "    mean_fit_time  std_fit_time  mean_score_time  std_score_time    param_C  \\\n",
       "72       0.305453      0.042840         0.007123        0.001411  0.0220885   \n",
       "10       0.299544      0.043052         0.009865        0.001636   0.082338   \n",
       "98       0.324737      0.029356         0.009632        0.001840   0.101677   \n",
       "42       0.322684      0.047769         0.008097        0.001223   0.137554   \n",
       "58       0.312479      0.040692         0.010287        0.003491   0.180909   \n",
       "..            ...           ...              ...             ...        ...   \n",
       "1        0.330116      0.064433         0.008579        0.001581    3.80286   \n",
       "34       0.307352      0.038496         0.009020        0.000806    3.86253   \n",
       "50       0.286139      0.050608         0.008554        0.001624    3.87834   \n",
       "11       0.311766      0.046068         0.009899        0.002444    3.87964   \n",
       "69       0.288068      0.053532         0.009172        0.001290    3.94755   \n",
       "\n",
       "                         params  split0_test_score  split1_test_score  \\\n",
       "72  {'C': 0.022088468494409597}           0.519329           0.548037   \n",
       "10   {'C': 0.08233797718320979}           0.519328           0.548037   \n",
       "98   {'C': 0.10167650697638075}           0.519328           0.548037   \n",
       "42   {'C': 0.13755408446087358}           0.519329           0.548037   \n",
       "58   {'C': 0.18090915564215226}           0.519329           0.548037   \n",
       "..                          ...                ...                ...   \n",
       "1     {'C': 3.8028572256396647}           0.519329           0.548037   \n",
       "34    {'C': 3.8625281322982374}           0.519329           0.548037   \n",
       "50    {'C': 3.8783385110582342}           0.519329           0.548037   \n",
       "11    {'C': 3.8796394086479773}           0.519329           0.548037   \n",
       "69     {'C': 3.947547746402069}           0.519329           0.548037   \n",
       "\n",
       "    split2_test_score  split3_test_score  split4_test_score  mean_test_score  \\\n",
       "72           0.516881            0.53325           0.498591         0.523217   \n",
       "10           0.516881            0.53325           0.498591         0.523217   \n",
       "98           0.516881            0.53325           0.498591         0.523217   \n",
       "42           0.516881            0.53325           0.498591         0.523217   \n",
       "58           0.516881            0.53325           0.498591         0.523217   \n",
       "..                ...                ...                ...              ...   \n",
       "1            0.516881            0.53325           0.498591         0.523217   \n",
       "34           0.516881            0.53325           0.498591         0.523217   \n",
       "50           0.516881            0.53325           0.498591         0.523217   \n",
       "11           0.516881            0.53325           0.498591         0.523217   \n",
       "69           0.516881            0.53325           0.498591         0.523217   \n",
       "\n",
       "    std_test_score  rank_test_score  \n",
       "72        0.016604                1  \n",
       "10        0.016604               99  \n",
       "98        0.016604               99  \n",
       "42        0.016604                1  \n",
       "58        0.016604                1  \n",
       "..             ...              ...  \n",
       "1         0.016604                1  \n",
       "34        0.016604                1  \n",
       "50        0.016604                1  \n",
       "11        0.016604                1  \n",
       "69        0.016604                1  \n",
       "\n",
       "[100 rows x 14 columns]"
      ]
     },
     "execution_count": 29,
     "metadata": {},
     "output_type": "execute_result"
    }
   ],
   "source": [
    "results = pd.DataFrame.from_dict(best_model.cv_results_)\n",
    "results=results.sort_values('param_C')\n",
    "results"
   ]
  },
  {
   "cell_type": "code",
   "execution_count": 30,
   "metadata": {},
   "outputs": [
    {
     "data": {
      "image/png": "[encoded data removed]",
      "text/plain": [
       "<Figure size 432x288 with 1 Axes>"
      ]
     },
     "metadata": {
      "needs_background": "light"
     },
     "output_type": "display_data"
    }
   ],
   "source": [
    "print_graph(results, 'param_C', 'mean_test_score', 'Hyperparameter - C', 'Test score')"
   ]
  },
  {
   "cell_type": "code",
   "execution_count": 31,
   "metadata": {},
   "outputs": [
    {
     "name": "stderr",
     "output_type": "stream",
     "text": [
      "[Parallel(n_jobs=-1)]: Using backend LokyBackend with 8 concurrent workers.\n",
      "[Parallel(n_jobs=-1)]: Done   1 out of   1 | elapsed:    0.3s finished\n"
     ]
    },
    {
     "data": {
      "text/plain": [
       "LogisticRegression(C=1.49816047538945, class_weight='balanced', n_jobs=-1,\n",
       "                   random_state=42, verbose=2)"
      ]
     },
     "execution_count": 31,
     "metadata": {},
     "output_type": "execute_result"
    }
   ],
   "source": [
    "model = LogisticRegression(C=best_c,verbose=verbose,n_jobs=-1,random_state=random_state,class_weight='balanced',solver='lbfgs')\n",
    "model.fit(train_data,y_train)"
   ]
  },
  {
   "cell_type": "code",
   "execution_count": 32,
   "metadata": {},
   "outputs": [],
   "source": [
    "predictions = model.predict_proba(test_data)[:,1]\n",
    "save_submission(predictions, 'lr_raw.csv')"
   ]
  },
  {
   "cell_type": "markdown",
   "metadata": {},
   "source": [
    "![lr-raw](images/lr-raw.png)"
   ]
  },
  {
   "cell_type": "markdown",
   "metadata": {},
   "source": [
    "## 1.4 Random Forest with Raw Feature"
   ]
  },
  {
   "cell_type": "code",
   "execution_count": 33,
   "metadata": {},
   "outputs": [
    {
     "name": "stdout",
     "output_type": "stream",
     "text": [
      "Fitting 5 folds for each of 100 candidates, totalling 500 fits\n"
     ]
    },
    {
     "name": "stderr",
     "output_type": "stream",
     "text": [
      "[Parallel(n_jobs=-1)]: Using backend LokyBackend with 8 concurrent workers.\n",
      "[Parallel(n_jobs=-1)]: Done  25 tasks      | elapsed:   21.1s\n",
      "/home/auw-mayank/.local/lib/python3.6/site-packages/joblib/externals/loky/process_executor.py:691: UserWarning: A worker stopped while some jobs were given to the executor. This can be caused by a too short worker timeout or by a memory leak.\n",
      "  \"timeout or by a memory leak.\", UserWarning\n",
      "[Parallel(n_jobs=-1)]: Done 146 tasks      | elapsed:  4.6min\n",
      "[Parallel(n_jobs=-1)]: Done 349 tasks      | elapsed: 10.3min\n",
      "[Parallel(n_jobs=-1)]: Done 500 out of 500 | elapsed: 15.1min finished\n"
     ]
    }
   ],
   "source": [
    "rfc = RandomForestClassifier(random_state=random_state,class_weight='balanced',n_jobs=-1)\n",
    "clf = RandomizedSearchCV(rfc,get_rf_params(),random_state=random_state,cv=cv,verbose=verbose,n_iter=100,scoring=scoring,n_jobs=-1)\n",
    "best_model = clf.fit(train_data,y_train)"
   ]
  },
  {
   "cell_type": "code",
   "execution_count": 34,
   "metadata": {},
   "outputs": [
    {
     "data": {
      "text/html": [
       "<div>\n",
       "<style scoped>\n",
       "    .dataframe tbody tr th:only-of-type {\n",
       "        vertical-align: middle;\n",
       "    }\n",
       "\n",
       "    .dataframe tbody tr th {\n",
       "        vertical-align: top;\n",
       "    }\n",
       "\n",
       "    .dataframe thead th {\n",
       "        text-align: right;\n",
       "    }\n",
       "</style>\n",
       "<table border=\"1\" class=\"dataframe\">\n",
       "  <thead>\n",
       "    <tr style=\"text-align: right;\">\n",
       "      <th></th>\n",
       "      <th>param_n_estimators</th>\n",
       "      <th>param_max_depth</th>\n",
       "      <th>param_max_features</th>\n",
       "      <th>param_min_samples_split</th>\n",
       "      <th>mean_test_score</th>\n",
       "    </tr>\n",
       "  </thead>\n",
       "  <tbody>\n",
       "    <tr>\n",
       "      <th>78</th>\n",
       "      <td>700</td>\n",
       "      <td>25</td>\n",
       "      <td>2</td>\n",
       "      <td>7</td>\n",
       "      <td>0.864035</td>\n",
       "    </tr>\n",
       "    <tr>\n",
       "      <th>62</th>\n",
       "      <td>500</td>\n",
       "      <td>25</td>\n",
       "      <td>3</td>\n",
       "      <td>5</td>\n",
       "      <td>0.862868</td>\n",
       "    </tr>\n",
       "    <tr>\n",
       "      <th>79</th>\n",
       "      <td>500</td>\n",
       "      <td>25</td>\n",
       "      <td>1</td>\n",
       "      <td>10</td>\n",
       "      <td>0.861580</td>\n",
       "    </tr>\n",
       "    <tr>\n",
       "      <th>55</th>\n",
       "      <td>200</td>\n",
       "      <td>25</td>\n",
       "      <td>2</td>\n",
       "      <td>5</td>\n",
       "      <td>0.860777</td>\n",
       "    </tr>\n",
       "    <tr>\n",
       "      <th>22</th>\n",
       "      <td>200</td>\n",
       "      <td>25</td>\n",
       "      <td>4</td>\n",
       "      <td>10</td>\n",
       "      <td>0.860643</td>\n",
       "    </tr>\n",
       "    <tr>\n",
       "      <th>20</th>\n",
       "      <td>1000</td>\n",
       "      <td>25</td>\n",
       "      <td>3</td>\n",
       "      <td>2</td>\n",
       "      <td>0.860468</td>\n",
       "    </tr>\n",
       "    <tr>\n",
       "      <th>85</th>\n",
       "      <td>1000</td>\n",
       "      <td>20</td>\n",
       "      <td>3</td>\n",
       "      <td>7</td>\n",
       "      <td>0.860057</td>\n",
       "    </tr>\n",
       "    <tr>\n",
       "      <th>33</th>\n",
       "      <td>700</td>\n",
       "      <td>25</td>\n",
       "      <td>4</td>\n",
       "      <td>2</td>\n",
       "      <td>0.859027</td>\n",
       "    </tr>\n",
       "    <tr>\n",
       "      <th>84</th>\n",
       "      <td>1000</td>\n",
       "      <td>25</td>\n",
       "      <td>5</td>\n",
       "      <td>2</td>\n",
       "      <td>0.858752</td>\n",
       "    </tr>\n",
       "    <tr>\n",
       "      <th>27</th>\n",
       "      <td>50</td>\n",
       "      <td>25</td>\n",
       "      <td>2</td>\n",
       "      <td>10</td>\n",
       "      <td>0.858280</td>\n",
       "    </tr>\n",
       "  </tbody>\n",
       "</table>\n",
       "</div>"
      ],
      "text/plain": [
       "   param_n_estimators param_max_depth param_max_features  \\\n",
       "78                700              25                  2   \n",
       "62                500              25                  3   \n",
       "79                500              25                  1   \n",
       "55                200              25                  2   \n",
       "22                200              25                  4   \n",
       "20               1000              25                  3   \n",
       "85               1000              20                  3   \n",
       "33                700              25                  4   \n",
       "84               1000              25                  5   \n",
       "27                 50              25                  2   \n",
       "\n",
       "   param_min_samples_split  mean_test_score  \n",
       "78                       7         0.864035  \n",
       "62                       5         0.862868  \n",
       "79                      10         0.861580  \n",
       "55                       5         0.860777  \n",
       "22                      10         0.860643  \n",
       "20                       2         0.860468  \n",
       "85                       7         0.860057  \n",
       "33                       2         0.859027  \n",
       "84                       2         0.858752  \n",
       "27                      10         0.858280  "
      ]
     },
     "execution_count": 34,
     "metadata": {},
     "output_type": "execute_result"
    }
   ],
   "source": [
    "results = pd.DataFrame(best_model.cv_results_)\n",
    "results.sort_values('mean_test_score',ascending=False,inplace=True)\n",
    "param_keys=['param_'+str(each) for each in get_rf_params().keys()]\n",
    "param_keys.append('mean_test_score')\n",
    "results[param_keys].head(10)"
   ]
  },
  {
   "cell_type": "code",
   "execution_count": 35,
   "metadata": {},
   "outputs": [
    {
     "data": {
      "text/plain": [
       "(700, 2, 25, 7)"
      ]
     },
     "execution_count": 35,
     "metadata": {},
     "output_type": "execute_result"
    }
   ],
   "source": [
    "n_estimators=clf.best_params_['n_estimators']\n",
    "max_features=clf.best_params_['max_features']\n",
    "max_depth=clf.best_params_['max_depth']\n",
    "min_samples_split=clf.best_params_['min_samples_split']\n",
    "n_estimators,max_features,max_depth,min_samples_split"
   ]
  },
  {
   "cell_type": "code",
   "execution_count": 36,
   "metadata": {},
   "outputs": [
    {
     "data": {
      "text/plain": [
       "RandomForestClassifier(class_weight='balanced', max_depth=25, max_features=2,\n",
       "                       min_samples_split=7, n_estimators=700, n_jobs=-1,\n",
       "                       random_state=42)"
      ]
     },
     "execution_count": 36,
     "metadata": {},
     "output_type": "execute_result"
    }
   ],
   "source": [
    "model=RandomForestClassifier(n_estimators=n_estimators,max_depth=max_depth,max_features=max_features,\n",
    "                             min_samples_split=min_samples_split,\n",
    "                             random_state=random_state,class_weight='balanced',n_jobs=-1)\n",
    "\n",
    "model.fit(train_data,y_train)"
   ]
  },
  {
   "cell_type": "code",
   "execution_count": 37,
   "metadata": {},
   "outputs": [
    {
     "data": {
      "image/png": "[encoded data removed]",
      "text/plain": [
       "<Figure size 432x288 with 1 Axes>"
      ]
     },
     "metadata": {
      "needs_background": "light"
     },
     "output_type": "display_data"
    }
   ],
   "source": [
    "features=train_data.columns\n",
    "importance=model.feature_importances_\n",
    "features=pd.DataFrame({'features':features,'value':importance})\n",
    "features=features.sort_values('value',ascending=False)\n",
    "sns.barplot('value','features',data=features);\n",
    "plt.title('Feature Importance');"
   ]
  },
  {
   "cell_type": "markdown",
   "metadata": {},
   "source": [
    "## Features Observations:\n",
    "\n",
    "1. MGR_ID is the most important feature followed by RESOURCE and ROLE_DEPTNAME"
   ]
  },
  {
   "cell_type": "code",
   "execution_count": 38,
   "metadata": {},
   "outputs": [],
   "source": [
    "predictions = model.predict_proba(test_data)[:,1]\n",
    "save_submission(predictions, 'rf_raw.csv')"
   ]
  },
  {
   "cell_type": "markdown",
   "metadata": {},
   "source": [
    "![rf-raw](images/rf-raw.png)"
   ]
  },
  {
   "cell_type": "markdown",
   "metadata": {},
   "source": [
    "## 1.5 Xgboost with Raw Feature"
   ]
  },
  {
   "cell_type": "code",
   "execution_count": 39,
   "metadata": {},
   "outputs": [
    {
     "name": "stdout",
     "output_type": "stream",
     "text": [
      "Fitting 5 folds for each of 100 candidates, totalling 500 fits\n"
     ]
    },
    {
     "name": "stderr",
     "output_type": "stream",
     "text": [
      "[Parallel(n_jobs=-1)]: Using backend LokyBackend with 8 concurrent workers.\n",
      "[Parallel(n_jobs=-1)]: Done  25 tasks      | elapsed:    7.2s\n",
      "[Parallel(n_jobs=-1)]: Done 146 tasks      | elapsed:  1.5min\n",
      "[Parallel(n_jobs=-1)]: Done 349 tasks      | elapsed:  4.1min\n",
      "[Parallel(n_jobs=-1)]: Done 500 out of 500 | elapsed:  6.9min finished\n"
     ]
    }
   ],
   "source": [
    "xgb = XGBClassifier()\n",
    "clf = RandomizedSearchCV(xgb,get_xgb_params(),random_state=random_state,cv=cv,verbose=verbose,n_iter=100,scoring=scoring,n_jobs=-1)\n",
    "best_model=clf.fit(train_data,y_train)"
   ]
  },
  {
   "cell_type": "code",
   "execution_count": 40,
   "metadata": {},
   "outputs": [
    {
     "data": {
      "text/html": [
       "<div>\n",
       "<style scoped>\n",
       "    .dataframe tbody tr th:only-of-type {\n",
       "        vertical-align: middle;\n",
       "    }\n",
       "\n",
       "    .dataframe tbody tr th {\n",
       "        vertical-align: top;\n",
       "    }\n",
       "\n",
       "    .dataframe thead th {\n",
       "        text-align: right;\n",
       "    }\n",
       "</style>\n",
       "<table border=\"1\" class=\"dataframe\">\n",
       "  <thead>\n",
       "    <tr style=\"text-align: right;\">\n",
       "      <th></th>\n",
       "      <th>param_n_estimators</th>\n",
       "      <th>param_learning_rate</th>\n",
       "      <th>param_subsample</th>\n",
       "      <th>param_max_depth</th>\n",
       "      <th>param_colsample_bytree</th>\n",
       "      <th>param_min_child_weight</th>\n",
       "      <th>mean_test_score</th>\n",
       "    </tr>\n",
       "  </thead>\n",
       "  <tbody>\n",
       "    <tr>\n",
       "      <th>18</th>\n",
       "      <td>1000</td>\n",
       "      <td>0.048135</td>\n",
       "      <td>0.665922</td>\n",
       "      <td>9</td>\n",
       "      <td>0.330898</td>\n",
       "      <td>2</td>\n",
       "      <td>0.859879</td>\n",
       "    </tr>\n",
       "    <tr>\n",
       "      <th>44</th>\n",
       "      <td>1000</td>\n",
       "      <td>0.060484</td>\n",
       "      <td>0.606429</td>\n",
       "      <td>6</td>\n",
       "      <td>0.642032</td>\n",
       "      <td>2</td>\n",
       "      <td>0.855594</td>\n",
       "    </tr>\n",
       "    <tr>\n",
       "      <th>97</th>\n",
       "      <td>750</td>\n",
       "      <td>0.232385</td>\n",
       "      <td>0.907694</td>\n",
       "      <td>6</td>\n",
       "      <td>0.374271</td>\n",
       "      <td>1</td>\n",
       "      <td>0.855062</td>\n",
       "    </tr>\n",
       "    <tr>\n",
       "      <th>96</th>\n",
       "      <td>500</td>\n",
       "      <td>0.0979629</td>\n",
       "      <td>0.98664</td>\n",
       "      <td>7</td>\n",
       "      <td>0.891897</td>\n",
       "      <td>1</td>\n",
       "      <td>0.854603</td>\n",
       "    </tr>\n",
       "    <tr>\n",
       "      <th>62</th>\n",
       "      <td>500</td>\n",
       "      <td>0.0663892</td>\n",
       "      <td>0.328153</td>\n",
       "      <td>9</td>\n",
       "      <td>0.375583</td>\n",
       "      <td>3</td>\n",
       "      <td>0.851305</td>\n",
       "    </tr>\n",
       "    <tr>\n",
       "      <th>49</th>\n",
       "      <td>500</td>\n",
       "      <td>0.160277</td>\n",
       "      <td>0.393098</td>\n",
       "      <td>8</td>\n",
       "      <td>0.636333</td>\n",
       "      <td>2</td>\n",
       "      <td>0.851109</td>\n",
       "    </tr>\n",
       "    <tr>\n",
       "      <th>84</th>\n",
       "      <td>200</td>\n",
       "      <td>0.571989</td>\n",
       "      <td>0.967581</td>\n",
       "      <td>6</td>\n",
       "      <td>0.348337</td>\n",
       "      <td>1</td>\n",
       "      <td>0.850137</td>\n",
       "    </tr>\n",
       "    <tr>\n",
       "      <th>53</th>\n",
       "      <td>200</td>\n",
       "      <td>0.540096</td>\n",
       "      <td>0.928319</td>\n",
       "      <td>6</td>\n",
       "      <td>0.27956</td>\n",
       "      <td>1</td>\n",
       "      <td>0.849858</td>\n",
       "    </tr>\n",
       "    <tr>\n",
       "      <th>86</th>\n",
       "      <td>1000</td>\n",
       "      <td>0.475848</td>\n",
       "      <td>0.858413</td>\n",
       "      <td>9</td>\n",
       "      <td>0.372018</td>\n",
       "      <td>2</td>\n",
       "      <td>0.849704</td>\n",
       "    </tr>\n",
       "    <tr>\n",
       "      <th>8</th>\n",
       "      <td>750</td>\n",
       "      <td>0.0686033</td>\n",
       "      <td>0.683264</td>\n",
       "      <td>6</td>\n",
       "      <td>0.304614</td>\n",
       "      <td>4</td>\n",
       "      <td>0.846364</td>\n",
       "    </tr>\n",
       "  </tbody>\n",
       "</table>\n",
       "</div>"
      ],
      "text/plain": [
       "   param_n_estimators param_learning_rate param_subsample param_max_depth  \\\n",
       "18               1000            0.048135        0.665922               9   \n",
       "44               1000            0.060484        0.606429               6   \n",
       "97                750            0.232385        0.907694               6   \n",
       "96                500           0.0979629         0.98664               7   \n",
       "62                500           0.0663892        0.328153               9   \n",
       "49                500            0.160277        0.393098               8   \n",
       "84                200            0.571989        0.967581               6   \n",
       "53                200            0.540096        0.928319               6   \n",
       "86               1000            0.475848        0.858413               9   \n",
       "8                 750           0.0686033        0.683264               6   \n",
       "\n",
       "   param_colsample_bytree param_min_child_weight  mean_test_score  \n",
       "18               0.330898                      2         0.859879  \n",
       "44               0.642032                      2         0.855594  \n",
       "97               0.374271                      1         0.855062  \n",
       "96               0.891897                      1         0.854603  \n",
       "62               0.375583                      3         0.851305  \n",
       "49               0.636333                      2         0.851109  \n",
       "84               0.348337                      1         0.850137  \n",
       "53                0.27956                      1         0.849858  \n",
       "86               0.372018                      2         0.849704  \n",
       "8                0.304614                      4         0.846364  "
      ]
     },
     "execution_count": 40,
     "metadata": {},
     "output_type": "execute_result"
    }
   ],
   "source": [
    "results = pd.DataFrame(best_model.cv_results_)\n",
    "results.sort_values('mean_test_score',ascending=False,inplace=True)\n",
    "param_keys=['param_'+str(each) for each in get_xgb_params().keys()]\n",
    "param_keys.append('mean_test_score')\n",
    "results[param_keys].head(10)"
   ]
  },
  {
   "cell_type": "code",
   "execution_count": 41,
   "metadata": {},
   "outputs": [
    {
     "data": {
      "text/plain": [
       "(0.3308980248526492, 0.04813501017161418, 9, 2, 1000, 0.6659223566174967)"
      ]
     },
     "execution_count": 41,
     "metadata": {},
     "output_type": "execute_result"
    }
   ],
   "source": [
    "colsample_bytree = clf.best_params_['colsample_bytree']\n",
    "learning_rate=clf.best_params_['learning_rate']\n",
    "max_depth=clf.best_params_['max_depth']\n",
    "min_child_weight=clf.best_params_['min_child_weight']\n",
    "n_estimators=clf.best_params_['n_estimators']\n",
    "subsample=clf.best_params_['subsample']\n",
    "colsample_bytree,learning_rate,max_depth,min_child_weight,n_estimators,subsample"
   ]
  },
  {
   "cell_type": "code",
   "execution_count": 42,
   "metadata": {},
   "outputs": [
    {
     "data": {
      "text/plain": [
       "XGBClassifier(base_score=0.5, booster='gbtree', colsample_bylevel=1,\n",
       "              colsample_bynode=1, colsample_bytree=0.3308980248526492, gamma=0,\n",
       "              gpu_id=-1, importance_type='gain', interaction_constraints='',\n",
       "              learning_rate=0.04813501017161418, max_delta_step=0, max_depth=9,\n",
       "              min_child_weight=2, missing=nan, monotone_constraints='()',\n",
       "              n_estimators=1000, n_jobs=-1, num_parallel_tree=1, random_state=0,\n",
       "              reg_alpha=0, reg_lambda=1, scale_pos_weight=1,\n",
       "              subsample=0.6659223566174967, tree_method='exact',\n",
       "              validate_parameters=1, verbosity=None)"
      ]
     },
     "execution_count": 42,
     "metadata": {},
     "output_type": "execute_result"
    }
   ],
   "source": [
    "model = XGBClassifier(colsample_bytree=colsample_bytree,learning_rate=learning_rate,max_depth=max_depth,\n",
    "                     min_child_weight=min_child_weight,n_estimators=n_estimators,subsample=subsample,n_jobs=-1)\n",
    "\n",
    "model.fit(train_data,y_train)"
   ]
  },
  {
   "cell_type": "code",
   "execution_count": 43,
   "metadata": {},
   "outputs": [
    {
     "data": {
      "image/png": "[encoded data removed]",
      "text/plain": [
       "<Figure size 432x288 with 1 Axes>"
      ]
     },
     "metadata": {
      "needs_background": "light"
     },
     "output_type": "display_data"
    }
   ],
   "source": [
    "features=train_data.columns\n",
    "importance=model.feature_importances_\n",
    "features=pd.DataFrame({'features':features,'value':importance})\n",
    "features=features.sort_values('value',ascending=False)\n",
    "sns.barplot('value','features',data=features);\n",
    "plt.title('Feature Importance');"
   ]
  },
  {
   "cell_type": "code",
   "execution_count": 44,
   "metadata": {},
   "outputs": [],
   "source": [
    "predictions = model.predict_proba(test_data)[:,1]\n",
    "save_submission(predictions, 'xgb_raw.csv')"
   ]
  },
  {
   "cell_type": "markdown",
   "metadata": {},
   "source": [
    "![xgb-raw](images/xgb-raw.png)"
   ]
  },
  {
   "cell_type": "markdown",
   "metadata": {},
   "source": [
    "![kaggle-submission-raw](images/kaggle-submission-raw.png)"
   ]
  },
  {
   "cell_type": "code",
   "execution_count": 45,
   "metadata": {},
   "outputs": [
    {
     "name": "stdout",
     "output_type": "stream",
     "text": [
      "+---------------------+---------+---------------+--------------+\n",
      "|        Model        | Feature | Private Score | Public Score |\n",
      "+---------------------+---------+---------------+--------------+\n",
      "|         KNN         |   Raw   |    0.67224    |   0.68148    |\n",
      "|         SVM         |   Raw   |    0.50286    |    0.5139    |\n",
      "| Logistic Regression |   Raw   |    0.53857    |   0.53034    |\n",
      "|    Random Forest    |   Raw   |    0.87269    |   0.87567    |\n",
      "|       Xgboost       |   Raw   |    0.86988    |   0.87909    |\n",
      "+---------------------+---------+---------------+--------------+\n"
     ]
    }
   ],
   "source": [
    "from prettytable import PrettyTable\n",
    "\n",
    "x = PrettyTable(['Model', 'Feature', 'Private Score', 'Public Score'])\n",
    "x.add_row(['KNN','Raw', 0.67224, 0.68148])\n",
    "x.add_row(['SVM', 'Raw', 0.50286, 0.51390])\n",
    "x.add_row(['Logistic Regression', 'Raw', 0.53857, 0.53034])\n",
    "x.add_row(['Random Forest', 'Raw', 0.87269, 0.87567])\n",
    "x.add_row(['Xgboost', 'Raw', 0.86988, 0.87909])\n",
    "\n",
    "print(x)"
   ]
  },
  {
   "cell_type": "markdown",
   "metadata": {},
   "source": [
    "# Observations:\n",
    "\n",
    "1. Xgboost perform best on the raw features\n",
    "2. Random forest also perform good on raw features\n",
    "3. Tree based models performs better than linear models for raw features"
   ]
  },
  {
   "cell_type": "markdown",
   "metadata": {},
   "source": [
    "## Build model on one hot encoded features"
   ]
  },
  {
   "cell_type": "markdown",
   "metadata": {},
   "source": [
    "### 2.1 KNN with one hot encoded features"
   ]
  },
  {
   "cell_type": "code",
   "execution_count": 46,
   "metadata": {},
   "outputs": [
    {
     "data": {
      "text/plain": [
       "((32769, 4500), (58921, 4500), (32769,))"
      ]
     },
     "execution_count": 46,
     "metadata": {},
     "output_type": "execute_result"
    }
   ],
   "source": [
    "train_ohe = sparse.load_npz('data/train_ohe.npz')\n",
    "test_ohe = sparse.load_npz('data/test_ohe.npz')\n",
    "\n",
    "train_ohe.shape, test_ohe.shape, y_train.shape"
   ]
  },
  {
   "cell_type": "code",
   "execution_count": 47,
   "metadata": {},
   "outputs": [
    {
     "name": "stdout",
     "output_type": "stream",
     "text": [
      "Fitting 5 folds for each of 10 candidates, totalling 50 fits\n"
     ]
    },
    {
     "name": "stderr",
     "output_type": "stream",
     "text": [
      "[Parallel(n_jobs=4)]: Using backend LokyBackend with 4 concurrent workers.\n",
      "[Parallel(n_jobs=4)]: Done  33 tasks      | elapsed:  2.4min\n",
      "[Parallel(n_jobs=4)]: Done  50 out of  50 | elapsed:  3.2min finished\n"
     ]
    }
   ],
   "source": [
    "parameters={'n_neighbors':np.arange(1,100, 5)}\n",
    "clf = RandomizedSearchCV(KNeighborsClassifier(n_jobs=-1),parameters,random_state=random_state,cv=cv,verbose=verbose,scoring=scoring,n_jobs=4)\n",
    "best_model = clf.fit(train_ohe,y_train)"
   ]
  },
  {
   "cell_type": "code",
   "execution_count": 48,
   "metadata": {},
   "outputs": [
    {
     "data": {
      "text/html": [
       "<div>\n",
       "<style scoped>\n",
       "    .dataframe tbody tr th:only-of-type {\n",
       "        vertical-align: middle;\n",
       "    }\n",
       "\n",
       "    .dataframe tbody tr th {\n",
       "        vertical-align: top;\n",
       "    }\n",
       "\n",
       "    .dataframe thead th {\n",
       "        text-align: right;\n",
       "    }\n",
       "</style>\n",
       "<table border=\"1\" class=\"dataframe\">\n",
       "  <thead>\n",
       "    <tr style=\"text-align: right;\">\n",
       "      <th></th>\n",
       "      <th>mean_fit_time</th>\n",
       "      <th>std_fit_time</th>\n",
       "      <th>mean_score_time</th>\n",
       "      <th>std_score_time</th>\n",
       "      <th>param_n_neighbors</th>\n",
       "      <th>params</th>\n",
       "      <th>split0_test_score</th>\n",
       "      <th>split1_test_score</th>\n",
       "      <th>split2_test_score</th>\n",
       "      <th>split3_test_score</th>\n",
       "      <th>split4_test_score</th>\n",
       "      <th>mean_test_score</th>\n",
       "      <th>std_test_score</th>\n",
       "      <th>rank_test_score</th>\n",
       "    </tr>\n",
       "  </thead>\n",
       "  <tbody>\n",
       "    <tr>\n",
       "      <th>0</th>\n",
       "      <td>0.008579</td>\n",
       "      <td>0.000699</td>\n",
       "      <td>12.889389</td>\n",
       "      <td>1.630046</td>\n",
       "      <td>1</td>\n",
       "      <td>{'n_neighbors': 1}</td>\n",
       "      <td>0.637669</td>\n",
       "      <td>0.648976</td>\n",
       "      <td>0.623238</td>\n",
       "      <td>0.636597</td>\n",
       "      <td>0.657423</td>\n",
       "      <td>0.640781</td>\n",
       "      <td>0.011654</td>\n",
       "      <td>10</td>\n",
       "    </tr>\n",
       "    <tr>\n",
       "      <th>3</th>\n",
       "      <td>0.218653</td>\n",
       "      <td>0.141987</td>\n",
       "      <td>13.355838</td>\n",
       "      <td>1.399583</td>\n",
       "      <td>6</td>\n",
       "      <td>{'n_neighbors': 6}</td>\n",
       "      <td>0.772541</td>\n",
       "      <td>0.817724</td>\n",
       "      <td>0.780078</td>\n",
       "      <td>0.764374</td>\n",
       "      <td>0.793066</td>\n",
       "      <td>0.785556</td>\n",
       "      <td>0.018651</td>\n",
       "      <td>7</td>\n",
       "    </tr>\n",
       "    <tr>\n",
       "      <th>7</th>\n",
       "      <td>0.014216</td>\n",
       "      <td>0.010986</td>\n",
       "      <td>11.480899</td>\n",
       "      <td>0.587346</td>\n",
       "      <td>16</td>\n",
       "      <td>{'n_neighbors': 16}</td>\n",
       "      <td>0.799350</td>\n",
       "      <td>0.826579</td>\n",
       "      <td>0.798793</td>\n",
       "      <td>0.807640</td>\n",
       "      <td>0.819408</td>\n",
       "      <td>0.810354</td>\n",
       "      <td>0.011021</td>\n",
       "      <td>1</td>\n",
       "    </tr>\n",
       "    <tr>\n",
       "      <th>5</th>\n",
       "      <td>0.007408</td>\n",
       "      <td>0.000506</td>\n",
       "      <td>11.399296</td>\n",
       "      <td>0.072001</td>\n",
       "      <td>26</td>\n",
       "      <td>{'n_neighbors': 26}</td>\n",
       "      <td>0.797242</td>\n",
       "      <td>0.823686</td>\n",
       "      <td>0.803639</td>\n",
       "      <td>0.801732</td>\n",
       "      <td>0.815795</td>\n",
       "      <td>0.808419</td>\n",
       "      <td>0.009798</td>\n",
       "      <td>2</td>\n",
       "    </tr>\n",
       "    <tr>\n",
       "      <th>4</th>\n",
       "      <td>0.029331</td>\n",
       "      <td>0.037009</td>\n",
       "      <td>11.730860</td>\n",
       "      <td>0.352833</td>\n",
       "      <td>41</td>\n",
       "      <td>{'n_neighbors': 41}</td>\n",
       "      <td>0.793851</td>\n",
       "      <td>0.818524</td>\n",
       "      <td>0.801002</td>\n",
       "      <td>0.788353</td>\n",
       "      <td>0.802746</td>\n",
       "      <td>0.800895</td>\n",
       "      <td>0.010209</td>\n",
       "      <td>3</td>\n",
       "    </tr>\n",
       "    <tr>\n",
       "      <th>6</th>\n",
       "      <td>0.017152</td>\n",
       "      <td>0.013375</td>\n",
       "      <td>12.010613</td>\n",
       "      <td>0.940570</td>\n",
       "      <td>56</td>\n",
       "      <td>{'n_neighbors': 56}</td>\n",
       "      <td>0.786070</td>\n",
       "      <td>0.817701</td>\n",
       "      <td>0.795020</td>\n",
       "      <td>0.780427</td>\n",
       "      <td>0.797255</td>\n",
       "      <td>0.795294</td>\n",
       "      <td>0.012744</td>\n",
       "      <td>4</td>\n",
       "    </tr>\n",
       "    <tr>\n",
       "      <th>2</th>\n",
       "      <td>0.325559</td>\n",
       "      <td>0.159848</td>\n",
       "      <td>31.339497</td>\n",
       "      <td>13.256170</td>\n",
       "      <td>76</td>\n",
       "      <td>{'n_neighbors': 76}</td>\n",
       "      <td>0.787624</td>\n",
       "      <td>0.812770</td>\n",
       "      <td>0.781610</td>\n",
       "      <td>0.774486</td>\n",
       "      <td>0.792079</td>\n",
       "      <td>0.789714</td>\n",
       "      <td>0.012955</td>\n",
       "      <td>5</td>\n",
       "    </tr>\n",
       "    <tr>\n",
       "      <th>9</th>\n",
       "      <td>0.013539</td>\n",
       "      <td>0.006507</td>\n",
       "      <td>9.540637</td>\n",
       "      <td>2.054831</td>\n",
       "      <td>81</td>\n",
       "      <td>{'n_neighbors': 81}</td>\n",
       "      <td>0.784840</td>\n",
       "      <td>0.807796</td>\n",
       "      <td>0.781348</td>\n",
       "      <td>0.773990</td>\n",
       "      <td>0.789062</td>\n",
       "      <td>0.787407</td>\n",
       "      <td>0.011329</td>\n",
       "      <td>6</td>\n",
       "    </tr>\n",
       "    <tr>\n",
       "      <th>1</th>\n",
       "      <td>0.103347</td>\n",
       "      <td>0.155776</td>\n",
       "      <td>24.211115</td>\n",
       "      <td>9.506957</td>\n",
       "      <td>86</td>\n",
       "      <td>{'n_neighbors': 86}</td>\n",
       "      <td>0.781589</td>\n",
       "      <td>0.804704</td>\n",
       "      <td>0.778055</td>\n",
       "      <td>0.770839</td>\n",
       "      <td>0.784661</td>\n",
       "      <td>0.783969</td>\n",
       "      <td>0.011344</td>\n",
       "      <td>8</td>\n",
       "    </tr>\n",
       "    <tr>\n",
       "      <th>8</th>\n",
       "      <td>0.016657</td>\n",
       "      <td>0.008175</td>\n",
       "      <td>11.831052</td>\n",
       "      <td>0.749635</td>\n",
       "      <td>91</td>\n",
       "      <td>{'n_neighbors': 91}</td>\n",
       "      <td>0.776625</td>\n",
       "      <td>0.803739</td>\n",
       "      <td>0.776098</td>\n",
       "      <td>0.768254</td>\n",
       "      <td>0.785209</td>\n",
       "      <td>0.781985</td>\n",
       "      <td>0.012129</td>\n",
       "      <td>9</td>\n",
       "    </tr>\n",
       "  </tbody>\n",
       "</table>\n",
       "</div>"
      ],
      "text/plain": [
       "   mean_fit_time  std_fit_time  mean_score_time  std_score_time  \\\n",
       "0       0.008579      0.000699        12.889389        1.630046   \n",
       "3       0.218653      0.141987        13.355838        1.399583   \n",
       "7       0.014216      0.010986        11.480899        0.587346   \n",
       "5       0.007408      0.000506        11.399296        0.072001   \n",
       "4       0.029331      0.037009        11.730860        0.352833   \n",
       "6       0.017152      0.013375        12.010613        0.940570   \n",
       "2       0.325559      0.159848        31.339497       13.256170   \n",
       "9       0.013539      0.006507         9.540637        2.054831   \n",
       "1       0.103347      0.155776        24.211115        9.506957   \n",
       "8       0.016657      0.008175        11.831052        0.749635   \n",
       "\n",
       "  param_n_neighbors               params  split0_test_score  \\\n",
       "0                 1   {'n_neighbors': 1}           0.637669   \n",
       "3                 6   {'n_neighbors': 6}           0.772541   \n",
       "7                16  {'n_neighbors': 16}           0.799350   \n",
       "5                26  {'n_neighbors': 26}           0.797242   \n",
       "4                41  {'n_neighbors': 41}           0.793851   \n",
       "6                56  {'n_neighbors': 56}           0.786070   \n",
       "2                76  {'n_neighbors': 76}           0.787624   \n",
       "9                81  {'n_neighbors': 81}           0.784840   \n",
       "1                86  {'n_neighbors': 86}           0.781589   \n",
       "8                91  {'n_neighbors': 91}           0.776625   \n",
       "\n",
       "   split1_test_score  split2_test_score  split3_test_score  split4_test_score  \\\n",
       "0           0.648976           0.623238           0.636597           0.657423   \n",
       "3           0.817724           0.780078           0.764374           0.793066   \n",
       "7           0.826579           0.798793           0.807640           0.819408   \n",
       "5           0.823686           0.803639           0.801732           0.815795   \n",
       "4           0.818524           0.801002           0.788353           0.802746   \n",
       "6           0.817701           0.795020           0.780427           0.797255   \n",
       "2           0.812770           0.781610           0.774486           0.792079   \n",
       "9           0.807796           0.781348           0.773990           0.789062   \n",
       "1           0.804704           0.778055           0.770839           0.784661   \n",
       "8           0.803739           0.776098           0.768254           0.785209   \n",
       "\n",
       "   mean_test_score  std_test_score  rank_test_score  \n",
       "0         0.640781        0.011654               10  \n",
       "3         0.785556        0.018651                7  \n",
       "7         0.810354        0.011021                1  \n",
       "5         0.808419        0.009798                2  \n",
       "4         0.800895        0.010209                3  \n",
       "6         0.795294        0.012744                4  \n",
       "2         0.789714        0.012955                5  \n",
       "9         0.787407        0.011329                6  \n",
       "1         0.783969        0.011344                8  \n",
       "8         0.781985        0.012129                9  "
      ]
     },
     "execution_count": 48,
     "metadata": {},
     "output_type": "execute_result"
    }
   ],
   "source": [
    "results = pd.DataFrame.from_dict(best_model.cv_results_)\n",
    "results=results.sort_values('param_n_neighbors')\n",
    "results"
   ]
  },
  {
   "cell_type": "code",
   "execution_count": 49,
   "metadata": {},
   "outputs": [
    {
     "data": {
      "image/png": "[encoded data removed]",
      "text/plain": [
       "<Figure size 432x288 with 1 Axes>"
      ]
     },
     "metadata": {
      "needs_background": "light"
     },
     "output_type": "display_data"
    }
   ],
   "source": [
    "print_graph(results, 'param_n_neighbors', 'mean_test_score', 'Hyperparameter - No. of neighbors', 'Test score')  "
   ]
  },
  {
   "cell_type": "code",
   "execution_count": 50,
   "metadata": {},
   "outputs": [
    {
     "data": {
      "text/plain": [
       "16"
      ]
     },
     "execution_count": 50,
     "metadata": {},
     "output_type": "execute_result"
    }
   ],
   "source": [
    "best_c=best_model.best_params_['n_neighbors']\n",
    "best_c"
   ]
  },
  {
   "cell_type": "code",
   "execution_count": 51,
   "metadata": {},
   "outputs": [
    {
     "data": {
      "text/plain": [
       "KNeighborsClassifier(n_jobs=-1, n_neighbors=16)"
      ]
     },
     "execution_count": 51,
     "metadata": {},
     "output_type": "execute_result"
    }
   ],
   "source": [
    "model = KNeighborsClassifier(n_neighbors=best_c,n_jobs=-1)\n",
    "model.fit(train_ohe,y_train)"
   ]
  },
  {
   "cell_type": "code",
   "execution_count": 52,
   "metadata": {},
   "outputs": [],
   "source": [
    "predictions = model.predict_proba(test_ohe)[:,1]\n",
    "save_submission(predictions, \"knn_ohe.csv\")"
   ]
  },
  {
   "cell_type": "markdown",
   "metadata": {},
   "source": [
    "![knn-ohe](images/knn-ohe.png)"
   ]
  },
  {
   "cell_type": "markdown",
   "metadata": {},
   "source": [
    "## 2.2 SVM with one hot encoded features"
   ]
  },
  {
   "cell_type": "code",
   "execution_count": 53,
   "metadata": {},
   "outputs": [
    {
     "name": "stdout",
     "output_type": "stream",
     "text": [
      "Fitting 5 folds for each of 10 candidates, totalling 50 fits\n"
     ]
    },
    {
     "name": "stderr",
     "output_type": "stream",
     "text": [
      "[Parallel(n_jobs=-1)]: Using backend LokyBackend with 8 concurrent workers.\n",
      "[Parallel(n_jobs=-1)]: Done  25 tasks      | elapsed:   31.0s\n",
      "[Parallel(n_jobs=-1)]: Done  50 out of  50 | elapsed:   41.7s finished\n"
     ]
    },
    {
     "name": "stdout",
     "output_type": "stream",
     "text": [
      "[LibLinear]"
     ]
    }
   ],
   "source": [
    "C_val = uniform(loc=0, scale=4)\n",
    "model= LinearSVC(verbose=verbose,random_state=random_state,class_weight='balanced',max_iter=2000)\n",
    "parameters={'C':C_val}\n",
    "clf = RandomizedSearchCV(model,parameters,random_state=random_state,cv=cv,verbose=verbose,scoring=scoring,n_jobs=-1)\n",
    "best_model = clf.fit(train_ohe,y_train)"
   ]
  },
  {
   "cell_type": "code",
   "execution_count": 54,
   "metadata": {},
   "outputs": [
    {
     "data": {
      "text/plain": [
       "0.23233444867279784"
      ]
     },
     "execution_count": 54,
     "metadata": {},
     "output_type": "execute_result"
    }
   ],
   "source": [
    "best_c=best_model.best_params_['C']\n",
    "best_c"
   ]
  },
  {
   "cell_type": "code",
   "execution_count": 55,
   "metadata": {},
   "outputs": [
    {
     "data": {
      "text/html": [
       "<div>\n",
       "<style scoped>\n",
       "    .dataframe tbody tr th:only-of-type {\n",
       "        vertical-align: middle;\n",
       "    }\n",
       "\n",
       "    .dataframe tbody tr th {\n",
       "        vertical-align: top;\n",
       "    }\n",
       "\n",
       "    .dataframe thead th {\n",
       "        text-align: right;\n",
       "    }\n",
       "</style>\n",
       "<table border=\"1\" class=\"dataframe\">\n",
       "  <thead>\n",
       "    <tr style=\"text-align: right;\">\n",
       "      <th></th>\n",
       "      <th>mean_fit_time</th>\n",
       "      <th>std_fit_time</th>\n",
       "      <th>mean_score_time</th>\n",
       "      <th>std_score_time</th>\n",
       "      <th>param_C</th>\n",
       "      <th>params</th>\n",
       "      <th>split0_test_score</th>\n",
       "      <th>split1_test_score</th>\n",
       "      <th>split2_test_score</th>\n",
       "      <th>split3_test_score</th>\n",
       "      <th>split4_test_score</th>\n",
       "      <th>mean_test_score</th>\n",
       "      <th>std_test_score</th>\n",
       "      <th>rank_test_score</th>\n",
       "    </tr>\n",
       "  </thead>\n",
       "  <tbody>\n",
       "    <tr>\n",
       "      <th>6</th>\n",
       "      <td>1.730894</td>\n",
       "      <td>0.069332</td>\n",
       "      <td>0.005605</td>\n",
       "      <td>0.000029</td>\n",
       "      <td>0.232334</td>\n",
       "      <td>{'C': 0.23233444867279784}</td>\n",
       "      <td>0.875975</td>\n",
       "      <td>0.877388</td>\n",
       "      <td>0.868423</td>\n",
       "      <td>0.854196</td>\n",
       "      <td>0.876759</td>\n",
       "      <td>0.870548</td>\n",
       "      <td>0.008795</td>\n",
       "      <td>1</td>\n",
       "    </tr>\n",
       "    <tr>\n",
       "      <th>5</th>\n",
       "      <td>3.315943</td>\n",
       "      <td>0.201073</td>\n",
       "      <td>0.005879</td>\n",
       "      <td>0.000622</td>\n",
       "      <td>0.623978</td>\n",
       "      <td>{'C': 0.6239780813448106}</td>\n",
       "      <td>0.863449</td>\n",
       "      <td>0.867204</td>\n",
       "      <td>0.859359</td>\n",
       "      <td>0.839469</td>\n",
       "      <td>0.866949</td>\n",
       "      <td>0.859286</td>\n",
       "      <td>0.010310</td>\n",
       "      <td>2</td>\n",
       "    </tr>\n",
       "    <tr>\n",
       "      <th>4</th>\n",
       "      <td>3.583880</td>\n",
       "      <td>0.365580</td>\n",
       "      <td>0.005711</td>\n",
       "      <td>0.000297</td>\n",
       "      <td>0.624075</td>\n",
       "      <td>{'C': 0.6240745617697461}</td>\n",
       "      <td>0.863445</td>\n",
       "      <td>0.867202</td>\n",
       "      <td>0.859356</td>\n",
       "      <td>0.839466</td>\n",
       "      <td>0.866949</td>\n",
       "      <td>0.859284</td>\n",
       "      <td>0.010310</td>\n",
       "      <td>3</td>\n",
       "    </tr>\n",
       "    <tr>\n",
       "      <th>0</th>\n",
       "      <td>5.492834</td>\n",
       "      <td>0.287928</td>\n",
       "      <td>0.006418</td>\n",
       "      <td>0.000139</td>\n",
       "      <td>1.49816</td>\n",
       "      <td>{'C': 1.49816047538945}</td>\n",
       "      <td>0.853168</td>\n",
       "      <td>0.859763</td>\n",
       "      <td>0.849378</td>\n",
       "      <td>0.826701</td>\n",
       "      <td>0.858361</td>\n",
       "      <td>0.849474</td>\n",
       "      <td>0.011976</td>\n",
       "      <td>4</td>\n",
       "    </tr>\n",
       "    <tr>\n",
       "      <th>3</th>\n",
       "      <td>4.961631</td>\n",
       "      <td>0.298074</td>\n",
       "      <td>0.005662</td>\n",
       "      <td>0.000146</td>\n",
       "      <td>2.39463</td>\n",
       "      <td>{'C': 2.3946339367881464}</td>\n",
       "      <td>0.847499</td>\n",
       "      <td>0.855500</td>\n",
       "      <td>0.843579</td>\n",
       "      <td>0.820130</td>\n",
       "      <td>0.854114</td>\n",
       "      <td>0.844165</td>\n",
       "      <td>0.012780</td>\n",
       "      <td>5</td>\n",
       "    </tr>\n",
       "    <tr>\n",
       "      <th>8</th>\n",
       "      <td>4.833444</td>\n",
       "      <td>0.644881</td>\n",
       "      <td>0.004830</td>\n",
       "      <td>0.000888</td>\n",
       "      <td>2.40446</td>\n",
       "      <td>{'C': 2.404460046972835}</td>\n",
       "      <td>0.847479</td>\n",
       "      <td>0.855422</td>\n",
       "      <td>0.843511</td>\n",
       "      <td>0.820026</td>\n",
       "      <td>0.854117</td>\n",
       "      <td>0.844111</td>\n",
       "      <td>0.012805</td>\n",
       "      <td>6</td>\n",
       "    </tr>\n",
       "    <tr>\n",
       "      <th>9</th>\n",
       "      <td>3.986315</td>\n",
       "      <td>0.360801</td>\n",
       "      <td>0.003652</td>\n",
       "      <td>0.000362</td>\n",
       "      <td>2.83229</td>\n",
       "      <td>{'C': 2.832290311184182}</td>\n",
       "      <td>0.845397</td>\n",
       "      <td>0.853960</td>\n",
       "      <td>0.841066</td>\n",
       "      <td>0.817675</td>\n",
       "      <td>0.852844</td>\n",
       "      <td>0.842189</td>\n",
       "      <td>0.013150</td>\n",
       "      <td>7</td>\n",
       "    </tr>\n",
       "    <tr>\n",
       "      <th>2</th>\n",
       "      <td>4.873211</td>\n",
       "      <td>0.174700</td>\n",
       "      <td>0.006166</td>\n",
       "      <td>0.000985</td>\n",
       "      <td>2.92798</td>\n",
       "      <td>{'C': 2.9279757672456204}</td>\n",
       "      <td>0.845317</td>\n",
       "      <td>0.853648</td>\n",
       "      <td>0.840564</td>\n",
       "      <td>0.817211</td>\n",
       "      <td>0.852536</td>\n",
       "      <td>0.841855</td>\n",
       "      <td>0.013222</td>\n",
       "      <td>8</td>\n",
       "    </tr>\n",
       "    <tr>\n",
       "      <th>7</th>\n",
       "      <td>4.817450</td>\n",
       "      <td>0.265487</td>\n",
       "      <td>0.005635</td>\n",
       "      <td>0.000099</td>\n",
       "      <td>3.4647</td>\n",
       "      <td>{'C': 3.4647045830997407}</td>\n",
       "      <td>0.843165</td>\n",
       "      <td>0.852070</td>\n",
       "      <td>0.838012</td>\n",
       "      <td>0.815041</td>\n",
       "      <td>0.851000</td>\n",
       "      <td>0.839857</td>\n",
       "      <td>0.013443</td>\n",
       "      <td>9</td>\n",
       "    </tr>\n",
       "    <tr>\n",
       "      <th>1</th>\n",
       "      <td>4.685154</td>\n",
       "      <td>0.254005</td>\n",
       "      <td>0.006274</td>\n",
       "      <td>0.000241</td>\n",
       "      <td>3.80286</td>\n",
       "      <td>{'C': 3.8028572256396647}</td>\n",
       "      <td>0.841944</td>\n",
       "      <td>0.851182</td>\n",
       "      <td>0.836607</td>\n",
       "      <td>0.813757</td>\n",
       "      <td>0.850197</td>\n",
       "      <td>0.838738</td>\n",
       "      <td>0.013602</td>\n",
       "      <td>10</td>\n",
       "    </tr>\n",
       "  </tbody>\n",
       "</table>\n",
       "</div>"
      ],
      "text/plain": [
       "   mean_fit_time  std_fit_time  mean_score_time  std_score_time   param_C  \\\n",
       "6       1.730894      0.069332         0.005605        0.000029  0.232334   \n",
       "5       3.315943      0.201073         0.005879        0.000622  0.623978   \n",
       "4       3.583880      0.365580         0.005711        0.000297  0.624075   \n",
       "0       5.492834      0.287928         0.006418        0.000139   1.49816   \n",
       "3       4.961631      0.298074         0.005662        0.000146   2.39463   \n",
       "8       4.833444      0.644881         0.004830        0.000888   2.40446   \n",
       "9       3.986315      0.360801         0.003652        0.000362   2.83229   \n",
       "2       4.873211      0.174700         0.006166        0.000985   2.92798   \n",
       "7       4.817450      0.265487         0.005635        0.000099    3.4647   \n",
       "1       4.685154      0.254005         0.006274        0.000241   3.80286   \n",
       "\n",
       "                       params  split0_test_score  split1_test_score  \\\n",
       "6  {'C': 0.23233444867279784}           0.875975           0.877388   \n",
       "5   {'C': 0.6239780813448106}           0.863449           0.867204   \n",
       "4   {'C': 0.6240745617697461}           0.863445           0.867202   \n",
       "0     {'C': 1.49816047538945}           0.853168           0.859763   \n",
       "3   {'C': 2.3946339367881464}           0.847499           0.855500   \n",
       "8    {'C': 2.404460046972835}           0.847479           0.855422   \n",
       "9    {'C': 2.832290311184182}           0.845397           0.853960   \n",
       "2   {'C': 2.9279757672456204}           0.845317           0.853648   \n",
       "7   {'C': 3.4647045830997407}           0.843165           0.852070   \n",
       "1   {'C': 3.8028572256396647}           0.841944           0.851182   \n",
       "\n",
       "   split2_test_score  split3_test_score  split4_test_score  mean_test_score  \\\n",
       "6           0.868423           0.854196           0.876759         0.870548   \n",
       "5           0.859359           0.839469           0.866949         0.859286   \n",
       "4           0.859356           0.839466           0.866949         0.859284   \n",
       "0           0.849378           0.826701           0.858361         0.849474   \n",
       "3           0.843579           0.820130           0.854114         0.844165   \n",
       "8           0.843511           0.820026           0.854117         0.844111   \n",
       "9           0.841066           0.817675           0.852844         0.842189   \n",
       "2           0.840564           0.817211           0.852536         0.841855   \n",
       "7           0.838012           0.815041           0.851000         0.839857   \n",
       "1           0.836607           0.813757           0.850197         0.838738   \n",
       "\n",
       "   std_test_score  rank_test_score  \n",
       "6        0.008795                1  \n",
       "5        0.010310                2  \n",
       "4        0.010310                3  \n",
       "0        0.011976                4  \n",
       "3        0.012780                5  \n",
       "8        0.012805                6  \n",
       "9        0.013150                7  \n",
       "2        0.013222                8  \n",
       "7        0.013443                9  \n",
       "1        0.013602               10  "
      ]
     },
     "execution_count": 55,
     "metadata": {},
     "output_type": "execute_result"
    }
   ],
   "source": [
    "results = pd.DataFrame.from_dict(best_model.cv_results_)\n",
    "results=results.sort_values('param_C')\n",
    "results"
   ]
  },
  {
   "cell_type": "code",
   "execution_count": 56,
   "metadata": {},
   "outputs": [
    {
     "data": {
      "image/png": "[encoded data removed]",
      "text/plain": [
       "<Figure size 432x288 with 1 Axes>"
      ]
     },
     "metadata": {
      "needs_background": "light"
     },
     "output_type": "display_data"
    }
   ],
   "source": [
    "print_graph(results, 'param_C', 'mean_test_score', 'Hyperparameter - C', 'Test score')"
   ]
  },
  {
   "cell_type": "code",
   "execution_count": 57,
   "metadata": {},
   "outputs": [
    {
     "name": "stdout",
     "output_type": "stream",
     "text": [
      "[LibLinear][LibLinear][LibLinear][LibLinear][LibLinear]"
     ]
    },
    {
     "data": {
      "text/plain": [
       "CalibratedClassifierCV(base_estimator=LinearSVC(C=0.23233444867279784,\n",
       "                                                class_weight='balanced',\n",
       "                                                max_iter=2000, random_state=42,\n",
       "                                                verbose=2))"
      ]
     },
     "execution_count": 57,
     "metadata": {},
     "output_type": "execute_result"
    }
   ],
   "source": [
    "#https://stackoverflow.com/questions/26478000/converting-linearsvcs-decision-function-to-probabilities-scikit-learn-python\n",
    "model = LinearSVC(C=best_c,verbose=verbose,random_state=random_state,class_weight='balanced',max_iter=2000)\n",
    "model = CalibratedClassifierCV(model)\n",
    "model.fit(train_ohe,y_train)"
   ]
  },
  {
   "cell_type": "code",
   "execution_count": 58,
   "metadata": {},
   "outputs": [],
   "source": [
    "predictions = model.predict_proba(test_ohe)[:,1]\n",
    "save_submission(predictions, 'svm_ohe.csv')"
   ]
  },
  {
   "cell_type": "markdown",
   "metadata": {},
   "source": [
    "![svm-ohe](images/svm-ohe.png)"
   ]
  },
  {
   "cell_type": "markdown",
   "metadata": {},
   "source": [
    "## 2.3 Logistic Regression with one hot encoded features"
   ]
  },
  {
   "cell_type": "code",
   "execution_count": 59,
   "metadata": {},
   "outputs": [
    {
     "name": "stdout",
     "output_type": "stream",
     "text": [
      "Fitting 5 folds for each of 100 candidates, totalling 500 fits\n"
     ]
    },
    {
     "name": "stderr",
     "output_type": "stream",
     "text": [
      "[Parallel(n_jobs=-1)]: Using backend LokyBackend with 8 concurrent workers.\n",
      "[Parallel(n_jobs=-1)]: Done  25 tasks      | elapsed:    7.2s\n",
      "[Parallel(n_jobs=-1)]: Done 146 tasks      | elapsed:   32.8s\n",
      "[Parallel(n_jobs=-1)]: Done 349 tasks      | elapsed:  1.4min\n",
      "[Parallel(n_jobs=-1)]: Done 500 out of 500 | elapsed:  2.0min finished\n",
      "[Parallel(n_jobs=-1)]: Using backend LokyBackend with 8 concurrent workers.\n",
      "[Parallel(n_jobs=-1)]: Done   1 out of   1 | elapsed:    0.8s finished\n"
     ]
    }
   ],
   "source": [
    "C_val = uniform(loc=0, scale=4)\n",
    "lr= LogisticRegression(verbose=verbose,random_state=random_state,class_weight='balanced',solver='lbfgs',max_iter=500,n_jobs=-1)\n",
    "parameters={'C':C_val}\n",
    "clf = RandomizedSearchCV(lr,parameters,random_state=random_state,cv=cv,verbose=verbose,n_iter=100,scoring=scoring,n_jobs=-1)\n",
    "best_model = clf.fit(train_ohe,y_train)"
   ]
  },
  {
   "cell_type": "code",
   "execution_count": 60,
   "metadata": {},
   "outputs": [
    {
     "data": {
      "text/plain": [
       "0.6820964947491661"
      ]
     },
     "execution_count": 60,
     "metadata": {},
     "output_type": "execute_result"
    }
   ],
   "source": [
    "best_c=best_model.best_params_['C']\n",
    "best_c"
   ]
  },
  {
   "cell_type": "code",
   "execution_count": 61,
   "metadata": {},
   "outputs": [
    {
     "data": {
      "text/html": [
       "<div>\n",
       "<style scoped>\n",
       "    .dataframe tbody tr th:only-of-type {\n",
       "        vertical-align: middle;\n",
       "    }\n",
       "\n",
       "    .dataframe tbody tr th {\n",
       "        vertical-align: top;\n",
       "    }\n",
       "\n",
       "    .dataframe thead th {\n",
       "        text-align: right;\n",
       "    }\n",
       "</style>\n",
       "<table border=\"1\" class=\"dataframe\">\n",
       "  <thead>\n",
       "    <tr style=\"text-align: right;\">\n",
       "      <th></th>\n",
       "      <th>mean_fit_time</th>\n",
       "      <th>std_fit_time</th>\n",
       "      <th>mean_score_time</th>\n",
       "      <th>std_score_time</th>\n",
       "      <th>param_C</th>\n",
       "      <th>params</th>\n",
       "      <th>split0_test_score</th>\n",
       "      <th>split1_test_score</th>\n",
       "      <th>split2_test_score</th>\n",
       "      <th>split3_test_score</th>\n",
       "      <th>split4_test_score</th>\n",
       "      <th>mean_test_score</th>\n",
       "      <th>std_test_score</th>\n",
       "      <th>rank_test_score</th>\n",
       "    </tr>\n",
       "  </thead>\n",
       "  <tbody>\n",
       "    <tr>\n",
       "      <th>72</th>\n",
       "      <td>0.439680</td>\n",
       "      <td>0.041474</td>\n",
       "      <td>0.006678</td>\n",
       "      <td>0.000959</td>\n",
       "      <td>0.0220885</td>\n",
       "      <td>{'C': 0.022088468494409597}</td>\n",
       "      <td>0.829685</td>\n",
       "      <td>0.826673</td>\n",
       "      <td>0.806216</td>\n",
       "      <td>0.819296</td>\n",
       "      <td>0.846943</td>\n",
       "      <td>0.825763</td>\n",
       "      <td>0.013332</td>\n",
       "      <td>100</td>\n",
       "    </tr>\n",
       "    <tr>\n",
       "      <th>10</th>\n",
       "      <td>0.650064</td>\n",
       "      <td>0.051074</td>\n",
       "      <td>0.006208</td>\n",
       "      <td>0.001374</td>\n",
       "      <td>0.082338</td>\n",
       "      <td>{'C': 0.08233797718320979}</td>\n",
       "      <td>0.865434</td>\n",
       "      <td>0.864914</td>\n",
       "      <td>0.844665</td>\n",
       "      <td>0.850616</td>\n",
       "      <td>0.871585</td>\n",
       "      <td>0.859443</td>\n",
       "      <td>0.010095</td>\n",
       "      <td>99</td>\n",
       "    </tr>\n",
       "    <tr>\n",
       "      <th>98</th>\n",
       "      <td>0.776743</td>\n",
       "      <td>0.046280</td>\n",
       "      <td>0.006456</td>\n",
       "      <td>0.000961</td>\n",
       "      <td>0.101677</td>\n",
       "      <td>{'C': 0.10167650697638075}</td>\n",
       "      <td>0.869131</td>\n",
       "      <td>0.868748</td>\n",
       "      <td>0.848990</td>\n",
       "      <td>0.854158</td>\n",
       "      <td>0.874163</td>\n",
       "      <td>0.863038</td>\n",
       "      <td>0.009692</td>\n",
       "      <td>98</td>\n",
       "    </tr>\n",
       "    <tr>\n",
       "      <th>42</th>\n",
       "      <td>0.886947</td>\n",
       "      <td>0.055574</td>\n",
       "      <td>0.008943</td>\n",
       "      <td>0.003785</td>\n",
       "      <td>0.137554</td>\n",
       "      <td>{'C': 0.13755408446087358}</td>\n",
       "      <td>0.873619</td>\n",
       "      <td>0.873387</td>\n",
       "      <td>0.854562</td>\n",
       "      <td>0.858294</td>\n",
       "      <td>0.877240</td>\n",
       "      <td>0.867420</td>\n",
       "      <td>0.009155</td>\n",
       "      <td>97</td>\n",
       "    </tr>\n",
       "    <tr>\n",
       "      <th>58</th>\n",
       "      <td>0.928974</td>\n",
       "      <td>0.072238</td>\n",
       "      <td>0.006947</td>\n",
       "      <td>0.000977</td>\n",
       "      <td>0.180909</td>\n",
       "      <td>{'C': 0.18090915564215226}</td>\n",
       "      <td>0.876668</td>\n",
       "      <td>0.876799</td>\n",
       "      <td>0.858603</td>\n",
       "      <td>0.861092</td>\n",
       "      <td>0.879451</td>\n",
       "      <td>0.870523</td>\n",
       "      <td>0.008808</td>\n",
       "      <td>88</td>\n",
       "    </tr>\n",
       "    <tr>\n",
       "      <th>...</th>\n",
       "      <td>...</td>\n",
       "      <td>...</td>\n",
       "      <td>...</td>\n",
       "      <td>...</td>\n",
       "      <td>...</td>\n",
       "      <td>...</td>\n",
       "      <td>...</td>\n",
       "      <td>...</td>\n",
       "      <td>...</td>\n",
       "      <td>...</td>\n",
       "      <td>...</td>\n",
       "      <td>...</td>\n",
       "      <td>...</td>\n",
       "      <td>...</td>\n",
       "    </tr>\n",
       "    <tr>\n",
       "      <th>1</th>\n",
       "      <td>2.534207</td>\n",
       "      <td>0.214963</td>\n",
       "      <td>0.006663</td>\n",
       "      <td>0.000782</td>\n",
       "      <td>3.80286</td>\n",
       "      <td>{'C': 3.8028572256396647}</td>\n",
       "      <td>0.875063</td>\n",
       "      <td>0.877224</td>\n",
       "      <td>0.867324</td>\n",
       "      <td>0.852923</td>\n",
       "      <td>0.878666</td>\n",
       "      <td>0.870240</td>\n",
       "      <td>0.009502</td>\n",
       "      <td>92</td>\n",
       "    </tr>\n",
       "    <tr>\n",
       "      <th>34</th>\n",
       "      <td>2.376340</td>\n",
       "      <td>0.051137</td>\n",
       "      <td>0.006265</td>\n",
       "      <td>0.000269</td>\n",
       "      <td>3.86253</td>\n",
       "      <td>{'C': 3.8625281322982374}</td>\n",
       "      <td>0.874952</td>\n",
       "      <td>0.877128</td>\n",
       "      <td>0.867242</td>\n",
       "      <td>0.852755</td>\n",
       "      <td>0.878560</td>\n",
       "      <td>0.870127</td>\n",
       "      <td>0.009524</td>\n",
       "      <td>93</td>\n",
       "    </tr>\n",
       "    <tr>\n",
       "      <th>50</th>\n",
       "      <td>2.498738</td>\n",
       "      <td>0.052591</td>\n",
       "      <td>0.007061</td>\n",
       "      <td>0.000964</td>\n",
       "      <td>3.87834</td>\n",
       "      <td>{'C': 3.8783385110582342}</td>\n",
       "      <td>0.874918</td>\n",
       "      <td>0.877105</td>\n",
       "      <td>0.867222</td>\n",
       "      <td>0.852722</td>\n",
       "      <td>0.878531</td>\n",
       "      <td>0.870099</td>\n",
       "      <td>0.009525</td>\n",
       "      <td>94</td>\n",
       "    </tr>\n",
       "    <tr>\n",
       "      <th>11</th>\n",
       "      <td>2.401271</td>\n",
       "      <td>0.107580</td>\n",
       "      <td>0.006628</td>\n",
       "      <td>0.001671</td>\n",
       "      <td>3.87964</td>\n",
       "      <td>{'C': 3.8796394086479773}</td>\n",
       "      <td>0.874916</td>\n",
       "      <td>0.877106</td>\n",
       "      <td>0.867214</td>\n",
       "      <td>0.852707</td>\n",
       "      <td>0.878524</td>\n",
       "      <td>0.870093</td>\n",
       "      <td>0.009530</td>\n",
       "      <td>95</td>\n",
       "    </tr>\n",
       "    <tr>\n",
       "      <th>69</th>\n",
       "      <td>2.674097</td>\n",
       "      <td>0.153710</td>\n",
       "      <td>0.007042</td>\n",
       "      <td>0.000979</td>\n",
       "      <td>3.94755</td>\n",
       "      <td>{'C': 3.947547746402069}</td>\n",
       "      <td>0.874764</td>\n",
       "      <td>0.876979</td>\n",
       "      <td>0.867087</td>\n",
       "      <td>0.852542</td>\n",
       "      <td>0.878435</td>\n",
       "      <td>0.869961</td>\n",
       "      <td>0.009548</td>\n",
       "      <td>96</td>\n",
       "    </tr>\n",
       "  </tbody>\n",
       "</table>\n",
       "<p>100 rows × 14 columns</p>\n",
       "</div>"
      ],
      "text/plain": [
       "    mean_fit_time  std_fit_time  mean_score_time  std_score_time    param_C  \\\n",
       "72       0.439680      0.041474         0.006678        0.000959  0.0220885   \n",
       "10       0.650064      0.051074         0.006208        0.001374   0.082338   \n",
       "98       0.776743      0.046280         0.006456        0.000961   0.101677   \n",
       "42       0.886947      0.055574         0.008943        0.003785   0.137554   \n",
       "58       0.928974      0.072238         0.006947        0.000977   0.180909   \n",
       "..            ...           ...              ...             ...        ...   \n",
       "1        2.534207      0.214963         0.006663        0.000782    3.80286   \n",
       "34       2.376340      0.051137         0.006265        0.000269    3.86253   \n",
       "50       2.498738      0.052591         0.007061        0.000964    3.87834   \n",
       "11       2.401271      0.107580         0.006628        0.001671    3.87964   \n",
       "69       2.674097      0.153710         0.007042        0.000979    3.94755   \n",
       "\n",
       "                         params  split0_test_score  split1_test_score  \\\n",
       "72  {'C': 0.022088468494409597}           0.829685           0.826673   \n",
       "10   {'C': 0.08233797718320979}           0.865434           0.864914   \n",
       "98   {'C': 0.10167650697638075}           0.869131           0.868748   \n",
       "42   {'C': 0.13755408446087358}           0.873619           0.873387   \n",
       "58   {'C': 0.18090915564215226}           0.876668           0.876799   \n",
       "..                          ...                ...                ...   \n",
       "1     {'C': 3.8028572256396647}           0.875063           0.877224   \n",
       "34    {'C': 3.8625281322982374}           0.874952           0.877128   \n",
       "50    {'C': 3.8783385110582342}           0.874918           0.877105   \n",
       "11    {'C': 3.8796394086479773}           0.874916           0.877106   \n",
       "69     {'C': 3.947547746402069}           0.874764           0.876979   \n",
       "\n",
       "    split2_test_score  split3_test_score  split4_test_score  mean_test_score  \\\n",
       "72           0.806216           0.819296           0.846943         0.825763   \n",
       "10           0.844665           0.850616           0.871585         0.859443   \n",
       "98           0.848990           0.854158           0.874163         0.863038   \n",
       "42           0.854562           0.858294           0.877240         0.867420   \n",
       "58           0.858603           0.861092           0.879451         0.870523   \n",
       "..                ...                ...                ...              ...   \n",
       "1            0.867324           0.852923           0.878666         0.870240   \n",
       "34           0.867242           0.852755           0.878560         0.870127   \n",
       "50           0.867222           0.852722           0.878531         0.870099   \n",
       "11           0.867214           0.852707           0.878524         0.870093   \n",
       "69           0.867087           0.852542           0.878435         0.869961   \n",
       "\n",
       "    std_test_score  rank_test_score  \n",
       "72        0.013332              100  \n",
       "10        0.010095               99  \n",
       "98        0.009692               98  \n",
       "42        0.009155               97  \n",
       "58        0.008808               88  \n",
       "..             ...              ...  \n",
       "1         0.009502               92  \n",
       "34        0.009524               93  \n",
       "50        0.009525               94  \n",
       "11        0.009530               95  \n",
       "69        0.009548               96  \n",
       "\n",
       "[100 rows x 14 columns]"
      ]
     },
     "execution_count": 61,
     "metadata": {},
     "output_type": "execute_result"
    }
   ],
   "source": [
    "results = pd.DataFrame.from_dict(best_model.cv_results_)\n",
    "results=results.sort_values('param_C')\n",
    "results"
   ]
  },
  {
   "cell_type": "code",
   "execution_count": 62,
   "metadata": {},
   "outputs": [
    {
     "data": {
      "image/png": "[encoded data removed]",
      "text/plain": [
       "<Figure size 432x288 with 1 Axes>"
      ]
     },
     "metadata": {
      "needs_background": "light"
     },
     "output_type": "display_data"
    }
   ],
   "source": [
    "print_graph(results, 'param_C', 'mean_test_score', 'Hyperparameter - C', 'Test score')"
   ]
  },
  {
   "cell_type": "code",
   "execution_count": 63,
   "metadata": {},
   "outputs": [
    {
     "name": "stderr",
     "output_type": "stream",
     "text": [
      "[Parallel(n_jobs=-1)]: Using backend LokyBackend with 8 concurrent workers.\n",
      "[Parallel(n_jobs=-1)]: Done   1 out of   1 | elapsed:    0.5s finished\n"
     ]
    },
    {
     "data": {
      "text/plain": [
       "LogisticRegression(C=0.6820964947491661, class_weight='balanced', n_jobs=-1,\n",
       "                   random_state=42, verbose=2)"
      ]
     },
     "execution_count": 63,
     "metadata": {},
     "output_type": "execute_result"
    }
   ],
   "source": [
    "model = LogisticRegression(C=best_c,verbose=verbose,n_jobs=-1,random_state=random_state,class_weight='balanced',solver='lbfgs')\n",
    "model.fit(train_ohe,y_train)"
   ]
  },
  {
   "cell_type": "code",
   "execution_count": 64,
   "metadata": {},
   "outputs": [],
   "source": [
    "predictions = model.predict_proba(test_ohe)[:,1]\n",
    "save_submission(predictions, 'lr_ohe.csv')"
   ]
  },
  {
   "cell_type": "markdown",
   "metadata": {},
   "source": [
    "![lr-ohe](images/lr-ohe.png)"
   ]
  },
  {
   "cell_type": "markdown",
   "metadata": {},
   "source": [
    "## 2.4 Random Forest with one hot encoded features"
   ]
  },
  {
   "cell_type": "code",
   "execution_count": 65,
   "metadata": {},
   "outputs": [
    {
     "name": "stdout",
     "output_type": "stream",
     "text": [
      "Fitting 5 folds for each of 100 candidates, totalling 500 fits\n"
     ]
    },
    {
     "name": "stderr",
     "output_type": "stream",
     "text": [
      "[Parallel(n_jobs=-1)]: Using backend LokyBackend with 8 concurrent workers.\n",
      "[Parallel(n_jobs=-1)]: Done  25 tasks      | elapsed:    9.8s\n",
      "[Parallel(n_jobs=-1)]: Done 146 tasks      | elapsed:  1.6min\n",
      "[Parallel(n_jobs=-1)]: Done 349 tasks      | elapsed:  3.6min\n",
      "[Parallel(n_jobs=-1)]: Done 500 out of 500 | elapsed:  5.3min finished\n"
     ]
    }
   ],
   "source": [
    "rfc = RandomForestClassifier(random_state=random_state,class_weight='balanced',n_jobs=-1)\n",
    "clf = RandomizedSearchCV(rfc,get_rf_params(),random_state=random_state,cv=cv,verbose=verbose,n_iter=100,scoring=scoring,n_jobs=-1)\n",
    "best_model = clf.fit(train_ohe,y_train)"
   ]
  },
  {
   "cell_type": "code",
   "execution_count": 66,
   "metadata": {},
   "outputs": [
    {
     "data": {
      "text/html": [
       "<div>\n",
       "<style scoped>\n",
       "    .dataframe tbody tr th:only-of-type {\n",
       "        vertical-align: middle;\n",
       "    }\n",
       "\n",
       "    .dataframe tbody tr th {\n",
       "        vertical-align: top;\n",
       "    }\n",
       "\n",
       "    .dataframe thead th {\n",
       "        text-align: right;\n",
       "    }\n",
       "</style>\n",
       "<table border=\"1\" class=\"dataframe\">\n",
       "  <thead>\n",
       "    <tr style=\"text-align: right;\">\n",
       "      <th></th>\n",
       "      <th>param_n_estimators</th>\n",
       "      <th>param_max_depth</th>\n",
       "      <th>param_max_features</th>\n",
       "      <th>param_min_samples_split</th>\n",
       "      <th>mean_test_score</th>\n",
       "    </tr>\n",
       "  </thead>\n",
       "  <tbody>\n",
       "    <tr>\n",
       "      <th>78</th>\n",
       "      <td>700</td>\n",
       "      <td>25</td>\n",
       "      <td>2</td>\n",
       "      <td>7</td>\n",
       "      <td>0.860722</td>\n",
       "    </tr>\n",
       "    <tr>\n",
       "      <th>85</th>\n",
       "      <td>1000</td>\n",
       "      <td>20</td>\n",
       "      <td>3</td>\n",
       "      <td>7</td>\n",
       "      <td>0.855874</td>\n",
       "    </tr>\n",
       "    <tr>\n",
       "      <th>62</th>\n",
       "      <td>500</td>\n",
       "      <td>25</td>\n",
       "      <td>3</td>\n",
       "      <td>5</td>\n",
       "      <td>0.851481</td>\n",
       "    </tr>\n",
       "    <tr>\n",
       "      <th>6</th>\n",
       "      <td>500</td>\n",
       "      <td>20</td>\n",
       "      <td>2</td>\n",
       "      <td>5</td>\n",
       "      <td>0.850966</td>\n",
       "    </tr>\n",
       "    <tr>\n",
       "      <th>11</th>\n",
       "      <td>1000</td>\n",
       "      <td>15</td>\n",
       "      <td>3</td>\n",
       "      <td>7</td>\n",
       "      <td>0.849860</td>\n",
       "    </tr>\n",
       "    <tr>\n",
       "      <th>25</th>\n",
       "      <td>700</td>\n",
       "      <td>15</td>\n",
       "      <td>4</td>\n",
       "      <td>7</td>\n",
       "      <td>0.842645</td>\n",
       "    </tr>\n",
       "    <tr>\n",
       "      <th>19</th>\n",
       "      <td>700</td>\n",
       "      <td>15</td>\n",
       "      <td>4</td>\n",
       "      <td>5</td>\n",
       "      <td>0.841873</td>\n",
       "    </tr>\n",
       "    <tr>\n",
       "      <th>22</th>\n",
       "      <td>200</td>\n",
       "      <td>25</td>\n",
       "      <td>4</td>\n",
       "      <td>10</td>\n",
       "      <td>0.840912</td>\n",
       "    </tr>\n",
       "    <tr>\n",
       "      <th>79</th>\n",
       "      <td>500</td>\n",
       "      <td>25</td>\n",
       "      <td>1</td>\n",
       "      <td>10</td>\n",
       "      <td>0.840153</td>\n",
       "    </tr>\n",
       "    <tr>\n",
       "      <th>82</th>\n",
       "      <td>700</td>\n",
       "      <td>20</td>\n",
       "      <td>5</td>\n",
       "      <td>20</td>\n",
       "      <td>0.839475</td>\n",
       "    </tr>\n",
       "  </tbody>\n",
       "</table>\n",
       "</div>"
      ],
      "text/plain": [
       "   param_n_estimators param_max_depth param_max_features  \\\n",
       "78                700              25                  2   \n",
       "85               1000              20                  3   \n",
       "62                500              25                  3   \n",
       "6                 500              20                  2   \n",
       "11               1000              15                  3   \n",
       "25                700              15                  4   \n",
       "19                700              15                  4   \n",
       "22                200              25                  4   \n",
       "79                500              25                  1   \n",
       "82                700              20                  5   \n",
       "\n",
       "   param_min_samples_split  mean_test_score  \n",
       "78                       7         0.860722  \n",
       "85                       7         0.855874  \n",
       "62                       5         0.851481  \n",
       "6                        5         0.850966  \n",
       "11                       7         0.849860  \n",
       "25                       7         0.842645  \n",
       "19                       5         0.841873  \n",
       "22                      10         0.840912  \n",
       "79                      10         0.840153  \n",
       "82                      20         0.839475  "
      ]
     },
     "execution_count": 66,
     "metadata": {},
     "output_type": "execute_result"
    }
   ],
   "source": [
    "results = pd.DataFrame(best_model.cv_results_)\n",
    "results.sort_values('mean_test_score',ascending=False,inplace=True)\n",
    "param_keys=['param_'+str(each) for each in get_rf_params().keys()]\n",
    "param_keys.append('mean_test_score')\n",
    "results[param_keys].head(10)"
   ]
  },
  {
   "cell_type": "code",
   "execution_count": 67,
   "metadata": {},
   "outputs": [
    {
     "data": {
      "text/plain": [
       "(700, 2, 25, 7)"
      ]
     },
     "execution_count": 67,
     "metadata": {},
     "output_type": "execute_result"
    }
   ],
   "source": [
    "n_estimators=clf.best_params_['n_estimators']\n",
    "max_features=clf.best_params_['max_features']\n",
    "max_depth=clf.best_params_['max_depth']\n",
    "min_samples_split=clf.best_params_['min_samples_split']\n",
    "n_estimators,max_features,max_depth,min_samples_split"
   ]
  },
  {
   "cell_type": "code",
   "execution_count": 68,
   "metadata": {},
   "outputs": [
    {
     "data": {
      "text/plain": [
       "RandomForestClassifier(class_weight='balanced', max_depth=25, max_features=2,\n",
       "                       min_samples_split=7, n_estimators=700, n_jobs=-1,\n",
       "                       random_state=42)"
      ]
     },
     "execution_count": 68,
     "metadata": {},
     "output_type": "execute_result"
    }
   ],
   "source": [
    "model=RandomForestClassifier(n_estimators=n_estimators,max_depth=max_depth,max_features=max_features,\n",
    "                             min_samples_split=min_samples_split,\n",
    "                             random_state=random_state,class_weight='balanced',n_jobs=-1)\n",
    "\n",
    "model.fit(train_ohe,y_train)"
   ]
  },
  {
   "cell_type": "code",
   "execution_count": 69,
   "metadata": {},
   "outputs": [],
   "source": [
    "# features=train_ohe.columns\n",
    "# importance=model.feature_importances_\n",
    "# features=pd.DataFrame({'features':features,'value':importance})\n",
    "# features=features.sort_values('value',ascending=False)\n",
    "# sns.barplot('value','features',data=features);\n",
    "# plt.title('Feature Importance');"
   ]
  },
  {
   "cell_type": "code",
   "execution_count": 70,
   "metadata": {},
   "outputs": [],
   "source": [
    "predictions = model.predict_proba(test_ohe)[:,1]\n",
    "save_submission(predictions, 'rf_ohe.csv')"
   ]
  },
  {
   "cell_type": "markdown",
   "metadata": {},
   "source": [
    "![rf-ohe](images/rf-ohe.png)"
   ]
  },
  {
   "cell_type": "markdown",
   "metadata": {},
   "source": [
    "## 2.5 Xgboost with one hot encoded features"
   ]
  },
  {
   "cell_type": "code",
   "execution_count": 71,
   "metadata": {},
   "outputs": [
    {
     "name": "stdout",
     "output_type": "stream",
     "text": [
      "Fitting 5 folds for each of 100 candidates, totalling 500 fits\n"
     ]
    },
    {
     "name": "stderr",
     "output_type": "stream",
     "text": [
      "[Parallel(n_jobs=-1)]: Using backend LokyBackend with 8 concurrent workers.\n",
      "[Parallel(n_jobs=-1)]: Done  25 tasks      | elapsed:    8.0s\n",
      "[Parallel(n_jobs=-1)]: Done 146 tasks      | elapsed:  1.6min\n",
      "[Parallel(n_jobs=-1)]: Done 349 tasks      | elapsed:  4.3min\n",
      "[Parallel(n_jobs=-1)]: Done 500 out of 500 | elapsed:  7.1min finished\n"
     ]
    }
   ],
   "source": [
    "xgb = XGBClassifier()\n",
    "clf = RandomizedSearchCV(xgb,get_xgb_params(),random_state=random_state,cv=cv,verbose=verbose,n_iter=100,scoring=scoring,n_jobs=-1)\n",
    "best_model=clf.fit(train_ohe,y_train)"
   ]
  },
  {
   "cell_type": "code",
   "execution_count": 72,
   "metadata": {},
   "outputs": [
    {
     "data": {
      "text/html": [
       "<div>\n",
       "<style scoped>\n",
       "    .dataframe tbody tr th:only-of-type {\n",
       "        vertical-align: middle;\n",
       "    }\n",
       "\n",
       "    .dataframe tbody tr th {\n",
       "        vertical-align: top;\n",
       "    }\n",
       "\n",
       "    .dataframe thead th {\n",
       "        text-align: right;\n",
       "    }\n",
       "</style>\n",
       "<table border=\"1\" class=\"dataframe\">\n",
       "  <thead>\n",
       "    <tr style=\"text-align: right;\">\n",
       "      <th></th>\n",
       "      <th>param_n_estimators</th>\n",
       "      <th>param_learning_rate</th>\n",
       "      <th>param_subsample</th>\n",
       "      <th>param_max_depth</th>\n",
       "      <th>param_colsample_bytree</th>\n",
       "      <th>param_min_child_weight</th>\n",
       "      <th>mean_test_score</th>\n",
       "    </tr>\n",
       "  </thead>\n",
       "  <tbody>\n",
       "    <tr>\n",
       "      <th>97</th>\n",
       "      <td>750</td>\n",
       "      <td>0.232385</td>\n",
       "      <td>0.907694</td>\n",
       "      <td>6</td>\n",
       "      <td>0.374271</td>\n",
       "      <td>1</td>\n",
       "      <td>0.846718</td>\n",
       "    </tr>\n",
       "    <tr>\n",
       "      <th>80</th>\n",
       "      <td>1000</td>\n",
       "      <td>0.385564</td>\n",
       "      <td>0.905351</td>\n",
       "      <td>3</td>\n",
       "      <td>0.820639</td>\n",
       "      <td>1</td>\n",
       "      <td>0.845197</td>\n",
       "    </tr>\n",
       "    <tr>\n",
       "      <th>86</th>\n",
       "      <td>1000</td>\n",
       "      <td>0.475848</td>\n",
       "      <td>0.858413</td>\n",
       "      <td>9</td>\n",
       "      <td>0.372018</td>\n",
       "      <td>2</td>\n",
       "      <td>0.843883</td>\n",
       "    </tr>\n",
       "    <tr>\n",
       "      <th>84</th>\n",
       "      <td>200</td>\n",
       "      <td>0.571989</td>\n",
       "      <td>0.967581</td>\n",
       "      <td>6</td>\n",
       "      <td>0.348337</td>\n",
       "      <td>1</td>\n",
       "      <td>0.841967</td>\n",
       "    </tr>\n",
       "    <tr>\n",
       "      <th>14</th>\n",
       "      <td>200</td>\n",
       "      <td>0.374221</td>\n",
       "      <td>0.802197</td>\n",
       "      <td>7</td>\n",
       "      <td>0.965255</td>\n",
       "      <td>1</td>\n",
       "      <td>0.841475</td>\n",
       "    </tr>\n",
       "    <tr>\n",
       "      <th>50</th>\n",
       "      <td>500</td>\n",
       "      <td>0.388683</td>\n",
       "      <td>0.645103</td>\n",
       "      <td>4</td>\n",
       "      <td>0.892047</td>\n",
       "      <td>1</td>\n",
       "      <td>0.837885</td>\n",
       "    </tr>\n",
       "    <tr>\n",
       "      <th>53</th>\n",
       "      <td>200</td>\n",
       "      <td>0.540096</td>\n",
       "      <td>0.928319</td>\n",
       "      <td>6</td>\n",
       "      <td>0.27956</td>\n",
       "      <td>1</td>\n",
       "      <td>0.836996</td>\n",
       "    </tr>\n",
       "    <tr>\n",
       "      <th>92</th>\n",
       "      <td>200</td>\n",
       "      <td>0.478778</td>\n",
       "      <td>0.49442</td>\n",
       "      <td>9</td>\n",
       "      <td>0.946195</td>\n",
       "      <td>1</td>\n",
       "      <td>0.835709</td>\n",
       "    </tr>\n",
       "    <tr>\n",
       "      <th>96</th>\n",
       "      <td>500</td>\n",
       "      <td>0.0979629</td>\n",
       "      <td>0.98664</td>\n",
       "      <td>7</td>\n",
       "      <td>0.891897</td>\n",
       "      <td>1</td>\n",
       "      <td>0.835223</td>\n",
       "    </tr>\n",
       "    <tr>\n",
       "      <th>22</th>\n",
       "      <td>1000</td>\n",
       "      <td>0.391846</td>\n",
       "      <td>0.695516</td>\n",
       "      <td>6</td>\n",
       "      <td>0.0314292</td>\n",
       "      <td>1</td>\n",
       "      <td>0.833849</td>\n",
       "    </tr>\n",
       "  </tbody>\n",
       "</table>\n",
       "</div>"
      ],
      "text/plain": [
       "   param_n_estimators param_learning_rate param_subsample param_max_depth  \\\n",
       "97                750            0.232385        0.907694               6   \n",
       "80               1000            0.385564        0.905351               3   \n",
       "86               1000            0.475848        0.858413               9   \n",
       "84                200            0.571989        0.967581               6   \n",
       "14                200            0.374221        0.802197               7   \n",
       "50                500            0.388683        0.645103               4   \n",
       "53                200            0.540096        0.928319               6   \n",
       "92                200            0.478778         0.49442               9   \n",
       "96                500           0.0979629         0.98664               7   \n",
       "22               1000            0.391846        0.695516               6   \n",
       "\n",
       "   param_colsample_bytree param_min_child_weight  mean_test_score  \n",
       "97               0.374271                      1         0.846718  \n",
       "80               0.820639                      1         0.845197  \n",
       "86               0.372018                      2         0.843883  \n",
       "84               0.348337                      1         0.841967  \n",
       "14               0.965255                      1         0.841475  \n",
       "50               0.892047                      1         0.837885  \n",
       "53                0.27956                      1         0.836996  \n",
       "92               0.946195                      1         0.835709  \n",
       "96               0.891897                      1         0.835223  \n",
       "22              0.0314292                      1         0.833849  "
      ]
     },
     "execution_count": 72,
     "metadata": {},
     "output_type": "execute_result"
    }
   ],
   "source": [
    "results = pd.DataFrame(best_model.cv_results_)\n",
    "results.sort_values('mean_test_score',ascending=False,inplace=True)\n",
    "param_keys=['param_'+str(each) for each in get_xgb_params().keys()]\n",
    "param_keys.append('mean_test_score')\n",
    "results[param_keys].head(10)"
   ]
  },
  {
   "cell_type": "code",
   "execution_count": 73,
   "metadata": {},
   "outputs": [
    {
     "data": {
      "text/plain": [
       "(0.3742707957561203, 0.23238528824013455, 6, 1, 750, 0.9076937063485463)"
      ]
     },
     "execution_count": 73,
     "metadata": {},
     "output_type": "execute_result"
    }
   ],
   "source": [
    "colsample_bytree = clf.best_params_['colsample_bytree']\n",
    "learning_rate=clf.best_params_['learning_rate']\n",
    "max_depth=clf.best_params_['max_depth']\n",
    "min_child_weight=clf.best_params_['min_child_weight']\n",
    "n_estimators=clf.best_params_['n_estimators']\n",
    "subsample=clf.best_params_['subsample']\n",
    "colsample_bytree,learning_rate,max_depth,min_child_weight,n_estimators,subsample"
   ]
  },
  {
   "cell_type": "code",
   "execution_count": 74,
   "metadata": {},
   "outputs": [
    {
     "data": {
      "text/plain": [
       "XGBClassifier(base_score=0.5, booster='gbtree', colsample_bylevel=1,\n",
       "              colsample_bynode=1, colsample_bytree=0.3742707957561203, gamma=0,\n",
       "              gpu_id=-1, importance_type='gain', interaction_constraints='',\n",
       "              learning_rate=0.23238528824013455, max_delta_step=0, max_depth=6,\n",
       "              min_child_weight=1, missing=nan, monotone_constraints='()',\n",
       "              n_estimators=750, n_jobs=-1, num_parallel_tree=1, random_state=0,\n",
       "              reg_alpha=0, reg_lambda=1, scale_pos_weight=1,\n",
       "              subsample=0.9076937063485463, tree_method='exact',\n",
       "              validate_parameters=1, verbosity=None)"
      ]
     },
     "execution_count": 74,
     "metadata": {},
     "output_type": "execute_result"
    }
   ],
   "source": [
    "model = XGBClassifier(colsample_bytree=colsample_bytree,learning_rate=learning_rate,max_depth=max_depth,\n",
    "                     min_child_weight=min_child_weight,n_estimators=n_estimators,subsample=subsample,n_jobs=-1)\n",
    "\n",
    "model.fit(train_ohe,y_train)"
   ]
  },
  {
   "cell_type": "code",
   "execution_count": 75,
   "metadata": {},
   "outputs": [],
   "source": [
    "# features=train_ohe.columns\n",
    "# importance=model.feature_importances_\n",
    "# features=pd.DataFrame({'features':features,'value':importance})\n",
    "# features=features.sort_values('value',ascending=False)\n",
    "# sns.barplot('value','features',data=features);\n",
    "# plt.title('Feature Importance');"
   ]
  },
  {
   "cell_type": "code",
   "execution_count": 76,
   "metadata": {},
   "outputs": [],
   "source": [
    "predictions = model.predict_proba(test_ohe)[:,1]\n",
    "save_submission(predictions, 'xgb_ohe.csv')"
   ]
  },
  {
   "cell_type": "markdown",
   "metadata": {},
   "source": [
    "![xgb-ohe](images/xgb-ohe.png)"
   ]
  },
  {
   "cell_type": "markdown",
   "metadata": {},
   "source": [
    "![kaggle-submission-ohe](images/kaggle-submission-ohe.png)"
   ]
  },
  {
   "cell_type": "code",
   "execution_count": 77,
   "metadata": {},
   "outputs": [
    {
     "name": "stdout",
     "output_type": "stream",
     "text": [
      "+---------------------+---------+---------------+--------------+\n",
      "|        Model        | Feature | Private Score | Public Score |\n",
      "+---------------------+---------+---------------+--------------+\n",
      "|         KNN         |   ohe   |    0.81657    |   0.81723    |\n",
      "|         SVM         |   ohe   |    0.87249    |   0.87955    |\n",
      "| Logistic Regression |   ohe   |    0.87436    |   0.88167    |\n",
      "|    Random Forest    |   ohe   |    0.84541    |   0.84997    |\n",
      "|       Xgboost       |   ohe   |    0.84717    |   0.85102    |\n",
      "+---------------------+---------+---------------+--------------+\n"
     ]
    }
   ],
   "source": [
    "from prettytable import PrettyTable\n",
    "\n",
    "x = PrettyTable(['Model', 'Feature', 'Private Score', 'Public Score'])\n",
    "x.add_row(['KNN','ohe', 0.81657, 0.81723])\n",
    "x.add_row(['SVM', 'ohe', 0.87249, 0.87955])\n",
    "x.add_row(['Logistic Regression', 'ohe', 0.87436, 0.88167])\n",
    "x.add_row(['Random Forest', 'ohe', 0.84541, 0.84997])\n",
    "x.add_row(['Xgboost', 'ohe', 0.84717, 0.85102])\n",
    "\n",
    "print(x)"
   ]
  },
  {
   "cell_type": "markdown",
   "metadata": {},
   "source": [
    "# Observations:\n",
    "\n",
    "1. One hot encoding features performs better than other encoding technique\n",
    "2. Linear models (Logistic Regression and SVM) performs better on higher dimension"
   ]
  },
  {
   "cell_type": "markdown",
   "metadata": {},
   "source": [
    "# 3 Build Model on frequency encoding feature"
   ]
  },
  {
   "cell_type": "markdown",
   "metadata": {},
   "source": [
    "## 3.1 KNN with frequency encoding"
   ]
  },
  {
   "cell_type": "code",
   "execution_count": 78,
   "metadata": {},
   "outputs": [],
   "source": [
    "train_df_fc = pd.read_csv('data/train_df_fc.csv')\n",
    "test_df_fc = pd.read_csv('data/test_df_fc.csv')"
   ]
  },
  {
   "cell_type": "code",
   "execution_count": 79,
   "metadata": {},
   "outputs": [
    {
     "data": {
      "text/plain": [
       "((32769, 9), (58921, 9), (32769,))"
      ]
     },
     "execution_count": 79,
     "metadata": {},
     "output_type": "execute_result"
    }
   ],
   "source": [
    "train_df_fc.shape, test_df_fc.shape, y_train.shape"
   ]
  },
  {
   "cell_type": "code",
   "execution_count": 80,
   "metadata": {},
   "outputs": [
    {
     "name": "stdout",
     "output_type": "stream",
     "text": [
      "Fitting 5 folds for each of 10 candidates, totalling 50 fits\n"
     ]
    },
    {
     "name": "stderr",
     "output_type": "stream",
     "text": [
      "[Parallel(n_jobs=-1)]: Using backend LokyBackend with 8 concurrent workers.\n",
      "[Parallel(n_jobs=-1)]: Done  25 tasks      | elapsed:    5.8s\n",
      "[Parallel(n_jobs=-1)]: Done  50 out of  50 | elapsed:   10.4s finished\n"
     ]
    }
   ],
   "source": [
    "parameters={'n_neighbors':np.arange(1,100, 5)}\n",
    "clf = RandomizedSearchCV(KNeighborsClassifier(n_jobs=-1),parameters,random_state=random_state,cv=cv,verbose=verbose,scoring=scoring,n_jobs=-1)\n",
    "best_model = clf.fit(train_df_fc,y_train)"
   ]
  },
  {
   "cell_type": "code",
   "execution_count": 81,
   "metadata": {},
   "outputs": [
    {
     "data": {
      "text/html": [
       "<div>\n",
       "<style scoped>\n",
       "    .dataframe tbody tr th:only-of-type {\n",
       "        vertical-align: middle;\n",
       "    }\n",
       "\n",
       "    .dataframe tbody tr th {\n",
       "        vertical-align: top;\n",
       "    }\n",
       "\n",
       "    .dataframe thead th {\n",
       "        text-align: right;\n",
       "    }\n",
       "</style>\n",
       "<table border=\"1\" class=\"dataframe\">\n",
       "  <thead>\n",
       "    <tr style=\"text-align: right;\">\n",
       "      <th></th>\n",
       "      <th>mean_fit_time</th>\n",
       "      <th>std_fit_time</th>\n",
       "      <th>mean_score_time</th>\n",
       "      <th>std_score_time</th>\n",
       "      <th>param_n_neighbors</th>\n",
       "      <th>params</th>\n",
       "      <th>split0_test_score</th>\n",
       "      <th>split1_test_score</th>\n",
       "      <th>split2_test_score</th>\n",
       "      <th>split3_test_score</th>\n",
       "      <th>split4_test_score</th>\n",
       "      <th>mean_test_score</th>\n",
       "      <th>std_test_score</th>\n",
       "      <th>rank_test_score</th>\n",
       "    </tr>\n",
       "  </thead>\n",
       "  <tbody>\n",
       "    <tr>\n",
       "      <th>0</th>\n",
       "      <td>1.245504</td>\n",
       "      <td>0.191884</td>\n",
       "      <td>0.444588</td>\n",
       "      <td>0.057236</td>\n",
       "      <td>1</td>\n",
       "      <td>{'n_neighbors': 1}</td>\n",
       "      <td>0.689830</td>\n",
       "      <td>0.699702</td>\n",
       "      <td>0.672487</td>\n",
       "      <td>0.691981</td>\n",
       "      <td>0.683082</td>\n",
       "      <td>0.687416</td>\n",
       "      <td>0.009157</td>\n",
       "      <td>10</td>\n",
       "    </tr>\n",
       "    <tr>\n",
       "      <th>3</th>\n",
       "      <td>0.966955</td>\n",
       "      <td>0.192374</td>\n",
       "      <td>0.425104</td>\n",
       "      <td>0.082150</td>\n",
       "      <td>6</td>\n",
       "      <td>{'n_neighbors': 6}</td>\n",
       "      <td>0.782603</td>\n",
       "      <td>0.801378</td>\n",
       "      <td>0.779351</td>\n",
       "      <td>0.785807</td>\n",
       "      <td>0.789640</td>\n",
       "      <td>0.787756</td>\n",
       "      <td>0.007617</td>\n",
       "      <td>2</td>\n",
       "    </tr>\n",
       "    <tr>\n",
       "      <th>7</th>\n",
       "      <td>0.915347</td>\n",
       "      <td>0.088786</td>\n",
       "      <td>0.510648</td>\n",
       "      <td>0.062272</td>\n",
       "      <td>16</td>\n",
       "      <td>{'n_neighbors': 16}</td>\n",
       "      <td>0.780617</td>\n",
       "      <td>0.810798</td>\n",
       "      <td>0.788244</td>\n",
       "      <td>0.793029</td>\n",
       "      <td>0.784501</td>\n",
       "      <td>0.791438</td>\n",
       "      <td>0.010514</td>\n",
       "      <td>1</td>\n",
       "    </tr>\n",
       "    <tr>\n",
       "      <th>5</th>\n",
       "      <td>0.910787</td>\n",
       "      <td>0.067158</td>\n",
       "      <td>0.587300</td>\n",
       "      <td>0.075423</td>\n",
       "      <td>26</td>\n",
       "      <td>{'n_neighbors': 26}</td>\n",
       "      <td>0.784436</td>\n",
       "      <td>0.799879</td>\n",
       "      <td>0.773578</td>\n",
       "      <td>0.792340</td>\n",
       "      <td>0.781795</td>\n",
       "      <td>0.786406</td>\n",
       "      <td>0.009016</td>\n",
       "      <td>3</td>\n",
       "    </tr>\n",
       "    <tr>\n",
       "      <th>4</th>\n",
       "      <td>0.867675</td>\n",
       "      <td>0.145174</td>\n",
       "      <td>0.647190</td>\n",
       "      <td>0.063128</td>\n",
       "      <td>41</td>\n",
       "      <td>{'n_neighbors': 41}</td>\n",
       "      <td>0.764873</td>\n",
       "      <td>0.782251</td>\n",
       "      <td>0.762178</td>\n",
       "      <td>0.783043</td>\n",
       "      <td>0.763852</td>\n",
       "      <td>0.771240</td>\n",
       "      <td>0.009357</td>\n",
       "      <td>4</td>\n",
       "    </tr>\n",
       "    <tr>\n",
       "      <th>6</th>\n",
       "      <td>0.877225</td>\n",
       "      <td>0.208047</td>\n",
       "      <td>0.709570</td>\n",
       "      <td>0.113621</td>\n",
       "      <td>56</td>\n",
       "      <td>{'n_neighbors': 56}</td>\n",
       "      <td>0.749887</td>\n",
       "      <td>0.769348</td>\n",
       "      <td>0.757223</td>\n",
       "      <td>0.767120</td>\n",
       "      <td>0.757640</td>\n",
       "      <td>0.760244</td>\n",
       "      <td>0.007118</td>\n",
       "      <td>5</td>\n",
       "    </tr>\n",
       "    <tr>\n",
       "      <th>2</th>\n",
       "      <td>0.947447</td>\n",
       "      <td>0.128830</td>\n",
       "      <td>0.768725</td>\n",
       "      <td>0.107211</td>\n",
       "      <td>76</td>\n",
       "      <td>{'n_neighbors': 76}</td>\n",
       "      <td>0.735012</td>\n",
       "      <td>0.749768</td>\n",
       "      <td>0.748032</td>\n",
       "      <td>0.750562</td>\n",
       "      <td>0.756848</td>\n",
       "      <td>0.748045</td>\n",
       "      <td>0.007165</td>\n",
       "      <td>6</td>\n",
       "    </tr>\n",
       "    <tr>\n",
       "      <th>9</th>\n",
       "      <td>0.934347</td>\n",
       "      <td>0.100315</td>\n",
       "      <td>0.597521</td>\n",
       "      <td>0.257969</td>\n",
       "      <td>81</td>\n",
       "      <td>{'n_neighbors': 81}</td>\n",
       "      <td>0.733258</td>\n",
       "      <td>0.745024</td>\n",
       "      <td>0.744657</td>\n",
       "      <td>0.746431</td>\n",
       "      <td>0.756481</td>\n",
       "      <td>0.745170</td>\n",
       "      <td>0.007372</td>\n",
       "      <td>7</td>\n",
       "    </tr>\n",
       "    <tr>\n",
       "      <th>1</th>\n",
       "      <td>1.011318</td>\n",
       "      <td>0.326486</td>\n",
       "      <td>0.772521</td>\n",
       "      <td>0.073501</td>\n",
       "      <td>86</td>\n",
       "      <td>{'n_neighbors': 86}</td>\n",
       "      <td>0.731535</td>\n",
       "      <td>0.740285</td>\n",
       "      <td>0.741123</td>\n",
       "      <td>0.741903</td>\n",
       "      <td>0.755343</td>\n",
       "      <td>0.742038</td>\n",
       "      <td>0.007632</td>\n",
       "      <td>8</td>\n",
       "    </tr>\n",
       "    <tr>\n",
       "      <th>8</th>\n",
       "      <td>0.832900</td>\n",
       "      <td>0.196410</td>\n",
       "      <td>0.861454</td>\n",
       "      <td>0.065058</td>\n",
       "      <td>91</td>\n",
       "      <td>{'n_neighbors': 91}</td>\n",
       "      <td>0.730638</td>\n",
       "      <td>0.735961</td>\n",
       "      <td>0.738581</td>\n",
       "      <td>0.739851</td>\n",
       "      <td>0.753802</td>\n",
       "      <td>0.739767</td>\n",
       "      <td>0.007697</td>\n",
       "      <td>9</td>\n",
       "    </tr>\n",
       "  </tbody>\n",
       "</table>\n",
       "</div>"
      ],
      "text/plain": [
       "   mean_fit_time  std_fit_time  mean_score_time  std_score_time  \\\n",
       "0       1.245504      0.191884         0.444588        0.057236   \n",
       "3       0.966955      0.192374         0.425104        0.082150   \n",
       "7       0.915347      0.088786         0.510648        0.062272   \n",
       "5       0.910787      0.067158         0.587300        0.075423   \n",
       "4       0.867675      0.145174         0.647190        0.063128   \n",
       "6       0.877225      0.208047         0.709570        0.113621   \n",
       "2       0.947447      0.128830         0.768725        0.107211   \n",
       "9       0.934347      0.100315         0.597521        0.257969   \n",
       "1       1.011318      0.326486         0.772521        0.073501   \n",
       "8       0.832900      0.196410         0.861454        0.065058   \n",
       "\n",
       "  param_n_neighbors               params  split0_test_score  \\\n",
       "0                 1   {'n_neighbors': 1}           0.689830   \n",
       "3                 6   {'n_neighbors': 6}           0.782603   \n",
       "7                16  {'n_neighbors': 16}           0.780617   \n",
       "5                26  {'n_neighbors': 26}           0.784436   \n",
       "4                41  {'n_neighbors': 41}           0.764873   \n",
       "6                56  {'n_neighbors': 56}           0.749887   \n",
       "2                76  {'n_neighbors': 76}           0.735012   \n",
       "9                81  {'n_neighbors': 81}           0.733258   \n",
       "1                86  {'n_neighbors': 86}           0.731535   \n",
       "8                91  {'n_neighbors': 91}           0.730638   \n",
       "\n",
       "   split1_test_score  split2_test_score  split3_test_score  split4_test_score  \\\n",
       "0           0.699702           0.672487           0.691981           0.683082   \n",
       "3           0.801378           0.779351           0.785807           0.789640   \n",
       "7           0.810798           0.788244           0.793029           0.784501   \n",
       "5           0.799879           0.773578           0.792340           0.781795   \n",
       "4           0.782251           0.762178           0.783043           0.763852   \n",
       "6           0.769348           0.757223           0.767120           0.757640   \n",
       "2           0.749768           0.748032           0.750562           0.756848   \n",
       "9           0.745024           0.744657           0.746431           0.756481   \n",
       "1           0.740285           0.741123           0.741903           0.755343   \n",
       "8           0.735961           0.738581           0.739851           0.753802   \n",
       "\n",
       "   mean_test_score  std_test_score  rank_test_score  \n",
       "0         0.687416        0.009157               10  \n",
       "3         0.787756        0.007617                2  \n",
       "7         0.791438        0.010514                1  \n",
       "5         0.786406        0.009016                3  \n",
       "4         0.771240        0.009357                4  \n",
       "6         0.760244        0.007118                5  \n",
       "2         0.748045        0.007165                6  \n",
       "9         0.745170        0.007372                7  \n",
       "1         0.742038        0.007632                8  \n",
       "8         0.739767        0.007697                9  "
      ]
     },
     "execution_count": 81,
     "metadata": {},
     "output_type": "execute_result"
    }
   ],
   "source": [
    "results = pd.DataFrame.from_dict(best_model.cv_results_)\n",
    "results=results.sort_values('param_n_neighbors')\n",
    "results"
   ]
  },
  {
   "cell_type": "code",
   "execution_count": 82,
   "metadata": {},
   "outputs": [
    {
     "data": {
      "image/png": "[encoded data removed]",
      "text/plain": [
       "<Figure size 432x288 with 1 Axes>"
      ]
     },
     "metadata": {
      "needs_background": "light"
     },
     "output_type": "display_data"
    }
   ],
   "source": [
    "print_graph(results, 'param_n_neighbors', 'mean_test_score', 'Hyperparameter - No. of neighbors', 'Test score')  "
   ]
  },
  {
   "cell_type": "code",
   "execution_count": 83,
   "metadata": {},
   "outputs": [
    {
     "data": {
      "text/plain": [
       "16"
      ]
     },
     "execution_count": 83,
     "metadata": {},
     "output_type": "execute_result"
    }
   ],
   "source": [
    "best_c=best_model.best_params_['n_neighbors']\n",
    "best_c"
   ]
  },
  {
   "cell_type": "code",
   "execution_count": 84,
   "metadata": {},
   "outputs": [
    {
     "data": {
      "text/plain": [
       "KNeighborsClassifier(n_jobs=-1, n_neighbors=16)"
      ]
     },
     "execution_count": 84,
     "metadata": {},
     "output_type": "execute_result"
    }
   ],
   "source": [
    "model = KNeighborsClassifier(n_neighbors=best_c,n_jobs=-1)\n",
    "model.fit(train_df_fc,y_train)"
   ]
  },
  {
   "cell_type": "code",
   "execution_count": 85,
   "metadata": {},
   "outputs": [],
   "source": [
    "predictions = model.predict_proba(test_df_fc)[:,1]\n",
    "save_submission(predictions, \"knn_fc.csv\")"
   ]
  },
  {
   "cell_type": "markdown",
   "metadata": {},
   "source": [
    "![knn-fc](images/knn-fc.png)"
   ]
  },
  {
   "cell_type": "markdown",
   "metadata": {},
   "source": [
    "## 3.2 SVM with frequency encoding"
   ]
  },
  {
   "cell_type": "code",
   "execution_count": 86,
   "metadata": {},
   "outputs": [
    {
     "name": "stdout",
     "output_type": "stream",
     "text": [
      "Fitting 5 folds for each of 10 candidates, totalling 50 fits\n"
     ]
    },
    {
     "name": "stderr",
     "output_type": "stream",
     "text": [
      "[Parallel(n_jobs=-1)]: Using backend LokyBackend with 8 concurrent workers.\n",
      "[Parallel(n_jobs=-1)]: Done  25 tasks      | elapsed:   17.8s\n",
      "[Parallel(n_jobs=-1)]: Done  50 out of  50 | elapsed:   31.9s finished\n"
     ]
    },
    {
     "name": "stdout",
     "output_type": "stream",
     "text": [
      "[LibLinear]"
     ]
    }
   ],
   "source": [
    "C_val = uniform(loc=0, scale=4)\n",
    "model= LinearSVC(verbose=verbose,random_state=random_state,class_weight='balanced',max_iter=2000)\n",
    "parameters={'C':C_val}\n",
    "clf = RandomizedSearchCV(model,parameters,random_state=random_state,cv=cv,verbose=verbose,scoring=scoring,n_jobs=-1)\n",
    "best_model = clf.fit(train_df_fc,y_train)"
   ]
  },
  {
   "cell_type": "code",
   "execution_count": 87,
   "metadata": {},
   "outputs": [
    {
     "data": {
      "text/plain": [
       "3.4647045830997407"
      ]
     },
     "execution_count": 87,
     "metadata": {},
     "output_type": "execute_result"
    }
   ],
   "source": [
    "best_c=best_model.best_params_['C']\n",
    "best_c"
   ]
  },
  {
   "cell_type": "code",
   "execution_count": 88,
   "metadata": {},
   "outputs": [
    {
     "data": {
      "text/html": [
       "<div>\n",
       "<style scoped>\n",
       "    .dataframe tbody tr th:only-of-type {\n",
       "        vertical-align: middle;\n",
       "    }\n",
       "\n",
       "    .dataframe tbody tr th {\n",
       "        vertical-align: top;\n",
       "    }\n",
       "\n",
       "    .dataframe thead th {\n",
       "        text-align: right;\n",
       "    }\n",
       "</style>\n",
       "<table border=\"1\" class=\"dataframe\">\n",
       "  <thead>\n",
       "    <tr style=\"text-align: right;\">\n",
       "      <th></th>\n",
       "      <th>mean_fit_time</th>\n",
       "      <th>std_fit_time</th>\n",
       "      <th>mean_score_time</th>\n",
       "      <th>std_score_time</th>\n",
       "      <th>param_C</th>\n",
       "      <th>params</th>\n",
       "      <th>split0_test_score</th>\n",
       "      <th>split1_test_score</th>\n",
       "      <th>split2_test_score</th>\n",
       "      <th>split3_test_score</th>\n",
       "      <th>split4_test_score</th>\n",
       "      <th>mean_test_score</th>\n",
       "      <th>std_test_score</th>\n",
       "      <th>rank_test_score</th>\n",
       "    </tr>\n",
       "  </thead>\n",
       "  <tbody>\n",
       "    <tr>\n",
       "      <th>6</th>\n",
       "      <td>0.707697</td>\n",
       "      <td>0.038330</td>\n",
       "      <td>0.009112</td>\n",
       "      <td>0.000330</td>\n",
       "      <td>0.232334</td>\n",
       "      <td>{'C': 0.23233444867279784}</td>\n",
       "      <td>0.596242</td>\n",
       "      <td>0.592806</td>\n",
       "      <td>0.589267</td>\n",
       "      <td>0.589870</td>\n",
       "      <td>0.616262</td>\n",
       "      <td>0.596889</td>\n",
       "      <td>0.009998</td>\n",
       "      <td>10</td>\n",
       "    </tr>\n",
       "    <tr>\n",
       "      <th>5</th>\n",
       "      <td>1.619894</td>\n",
       "      <td>0.069040</td>\n",
       "      <td>0.009326</td>\n",
       "      <td>0.000816</td>\n",
       "      <td>0.623978</td>\n",
       "      <td>{'C': 0.6239780813448106}</td>\n",
       "      <td>0.598835</td>\n",
       "      <td>0.598629</td>\n",
       "      <td>0.594103</td>\n",
       "      <td>0.590754</td>\n",
       "      <td>0.618887</td>\n",
       "      <td>0.600242</td>\n",
       "      <td>0.009797</td>\n",
       "      <td>8</td>\n",
       "    </tr>\n",
       "    <tr>\n",
       "      <th>4</th>\n",
       "      <td>1.579539</td>\n",
       "      <td>0.025513</td>\n",
       "      <td>0.008887</td>\n",
       "      <td>0.000250</td>\n",
       "      <td>0.624075</td>\n",
       "      <td>{'C': 0.6240745617697461}</td>\n",
       "      <td>0.598836</td>\n",
       "      <td>0.598628</td>\n",
       "      <td>0.594102</td>\n",
       "      <td>0.590755</td>\n",
       "      <td>0.618887</td>\n",
       "      <td>0.600242</td>\n",
       "      <td>0.009797</td>\n",
       "      <td>9</td>\n",
       "    </tr>\n",
       "    <tr>\n",
       "      <th>0</th>\n",
       "      <td>3.577643</td>\n",
       "      <td>0.097967</td>\n",
       "      <td>0.009332</td>\n",
       "      <td>0.000580</td>\n",
       "      <td>1.49816</td>\n",
       "      <td>{'C': 1.49816047538945}</td>\n",
       "      <td>0.599720</td>\n",
       "      <td>0.603314</td>\n",
       "      <td>0.596806</td>\n",
       "      <td>0.590896</td>\n",
       "      <td>0.619533</td>\n",
       "      <td>0.602054</td>\n",
       "      <td>0.009639</td>\n",
       "      <td>7</td>\n",
       "    </tr>\n",
       "    <tr>\n",
       "      <th>3</th>\n",
       "      <td>5.732613</td>\n",
       "      <td>0.118254</td>\n",
       "      <td>0.009076</td>\n",
       "      <td>0.000258</td>\n",
       "      <td>2.39463</td>\n",
       "      <td>{'C': 2.3946339367881464}</td>\n",
       "      <td>0.599911</td>\n",
       "      <td>0.604767</td>\n",
       "      <td>0.597368</td>\n",
       "      <td>0.590228</td>\n",
       "      <td>0.619655</td>\n",
       "      <td>0.602386</td>\n",
       "      <td>0.009829</td>\n",
       "      <td>5</td>\n",
       "    </tr>\n",
       "    <tr>\n",
       "      <th>8</th>\n",
       "      <td>5.664490</td>\n",
       "      <td>0.136819</td>\n",
       "      <td>0.009409</td>\n",
       "      <td>0.001280</td>\n",
       "      <td>2.40446</td>\n",
       "      <td>{'C': 2.404460046972835}</td>\n",
       "      <td>0.599903</td>\n",
       "      <td>0.604776</td>\n",
       "      <td>0.597367</td>\n",
       "      <td>0.590224</td>\n",
       "      <td>0.619659</td>\n",
       "      <td>0.602386</td>\n",
       "      <td>0.009832</td>\n",
       "      <td>6</td>\n",
       "    </tr>\n",
       "    <tr>\n",
       "      <th>9</th>\n",
       "      <td>5.364426</td>\n",
       "      <td>0.630964</td>\n",
       "      <td>0.005462</td>\n",
       "      <td>0.000641</td>\n",
       "      <td>2.83229</td>\n",
       "      <td>{'C': 2.832290311184182}</td>\n",
       "      <td>0.600041</td>\n",
       "      <td>0.605195</td>\n",
       "      <td>0.597402</td>\n",
       "      <td>0.590054</td>\n",
       "      <td>0.619668</td>\n",
       "      <td>0.602472</td>\n",
       "      <td>0.009889</td>\n",
       "      <td>4</td>\n",
       "    </tr>\n",
       "    <tr>\n",
       "      <th>2</th>\n",
       "      <td>6.995208</td>\n",
       "      <td>0.140802</td>\n",
       "      <td>0.009158</td>\n",
       "      <td>0.000407</td>\n",
       "      <td>2.92798</td>\n",
       "      <td>{'C': 2.9279757672456204}</td>\n",
       "      <td>0.600091</td>\n",
       "      <td>0.605287</td>\n",
       "      <td>0.597393</td>\n",
       "      <td>0.590013</td>\n",
       "      <td>0.619653</td>\n",
       "      <td>0.602487</td>\n",
       "      <td>0.009897</td>\n",
       "      <td>3</td>\n",
       "    </tr>\n",
       "    <tr>\n",
       "      <th>7</th>\n",
       "      <td>8.412424</td>\n",
       "      <td>0.706659</td>\n",
       "      <td>0.009016</td>\n",
       "      <td>0.000114</td>\n",
       "      <td>3.4647</td>\n",
       "      <td>{'C': 3.4647045830997407}</td>\n",
       "      <td>0.600137</td>\n",
       "      <td>0.605531</td>\n",
       "      <td>0.597598</td>\n",
       "      <td>0.589721</td>\n",
       "      <td>0.619510</td>\n",
       "      <td>0.602500</td>\n",
       "      <td>0.009914</td>\n",
       "      <td>1</td>\n",
       "    </tr>\n",
       "    <tr>\n",
       "      <th>1</th>\n",
       "      <td>9.626733</td>\n",
       "      <td>0.661829</td>\n",
       "      <td>0.008899</td>\n",
       "      <td>0.000069</td>\n",
       "      <td>3.80286</td>\n",
       "      <td>{'C': 3.8028572256396647}</td>\n",
       "      <td>0.600128</td>\n",
       "      <td>0.605674</td>\n",
       "      <td>0.597598</td>\n",
       "      <td>0.589540</td>\n",
       "      <td>0.619514</td>\n",
       "      <td>0.602491</td>\n",
       "      <td>0.009972</td>\n",
       "      <td>2</td>\n",
       "    </tr>\n",
       "  </tbody>\n",
       "</table>\n",
       "</div>"
      ],
      "text/plain": [
       "   mean_fit_time  std_fit_time  mean_score_time  std_score_time   param_C  \\\n",
       "6       0.707697      0.038330         0.009112        0.000330  0.232334   \n",
       "5       1.619894      0.069040         0.009326        0.000816  0.623978   \n",
       "4       1.579539      0.025513         0.008887        0.000250  0.624075   \n",
       "0       3.577643      0.097967         0.009332        0.000580   1.49816   \n",
       "3       5.732613      0.118254         0.009076        0.000258   2.39463   \n",
       "8       5.664490      0.136819         0.009409        0.001280   2.40446   \n",
       "9       5.364426      0.630964         0.005462        0.000641   2.83229   \n",
       "2       6.995208      0.140802         0.009158        0.000407   2.92798   \n",
       "7       8.412424      0.706659         0.009016        0.000114    3.4647   \n",
       "1       9.626733      0.661829         0.008899        0.000069   3.80286   \n",
       "\n",
       "                       params  split0_test_score  split1_test_score  \\\n",
       "6  {'C': 0.23233444867279784}           0.596242           0.592806   \n",
       "5   {'C': 0.6239780813448106}           0.598835           0.598629   \n",
       "4   {'C': 0.6240745617697461}           0.598836           0.598628   \n",
       "0     {'C': 1.49816047538945}           0.599720           0.603314   \n",
       "3   {'C': 2.3946339367881464}           0.599911           0.604767   \n",
       "8    {'C': 2.404460046972835}           0.599903           0.604776   \n",
       "9    {'C': 2.832290311184182}           0.600041           0.605195   \n",
       "2   {'C': 2.9279757672456204}           0.600091           0.605287   \n",
       "7   {'C': 3.4647045830997407}           0.600137           0.605531   \n",
       "1   {'C': 3.8028572256396647}           0.600128           0.605674   \n",
       "\n",
       "   split2_test_score  split3_test_score  split4_test_score  mean_test_score  \\\n",
       "6           0.589267           0.589870           0.616262         0.596889   \n",
       "5           0.594103           0.590754           0.618887         0.600242   \n",
       "4           0.594102           0.590755           0.618887         0.600242   \n",
       "0           0.596806           0.590896           0.619533         0.602054   \n",
       "3           0.597368           0.590228           0.619655         0.602386   \n",
       "8           0.597367           0.590224           0.619659         0.602386   \n",
       "9           0.597402           0.590054           0.619668         0.602472   \n",
       "2           0.597393           0.590013           0.619653         0.602487   \n",
       "7           0.597598           0.589721           0.619510         0.602500   \n",
       "1           0.597598           0.589540           0.619514         0.602491   \n",
       "\n",
       "   std_test_score  rank_test_score  \n",
       "6        0.009998               10  \n",
       "5        0.009797                8  \n",
       "4        0.009797                9  \n",
       "0        0.009639                7  \n",
       "3        0.009829                5  \n",
       "8        0.009832                6  \n",
       "9        0.009889                4  \n",
       "2        0.009897                3  \n",
       "7        0.009914                1  \n",
       "1        0.009972                2  "
      ]
     },
     "execution_count": 88,
     "metadata": {},
     "output_type": "execute_result"
    }
   ],
   "source": [
    "results = pd.DataFrame.from_dict(best_model.cv_results_)\n",
    "results=results.sort_values('param_C')\n",
    "results"
   ]
  },
  {
   "cell_type": "code",
   "execution_count": 89,
   "metadata": {},
   "outputs": [
    {
     "data": {
      "image/png": "[encoded data removed]",
      "text/plain": [
       "<Figure size 432x288 with 1 Axes>"
      ]
     },
     "metadata": {
      "needs_background": "light"
     },
     "output_type": "display_data"
    }
   ],
   "source": [
    "print_graph(results, 'param_C', 'mean_test_score', 'Hyperparameter - C', 'Test score')"
   ]
  },
  {
   "cell_type": "code",
   "execution_count": 90,
   "metadata": {},
   "outputs": [
    {
     "name": "stdout",
     "output_type": "stream",
     "text": [
      "[LibLinear][LibLinear][LibLinear][LibLinear][LibLinear]"
     ]
    },
    {
     "data": {
      "text/plain": [
       "CalibratedClassifierCV(base_estimator=LinearSVC(C=3.4647045830997407,\n",
       "                                                class_weight='balanced',\n",
       "                                                max_iter=2000, random_state=42,\n",
       "                                                verbose=2))"
      ]
     },
     "execution_count": 90,
     "metadata": {},
     "output_type": "execute_result"
    }
   ],
   "source": [
    "#https://stackoverflow.com/questions/26478000/converting-linearsvcs-decision-function-to-probabilities-scikit-learn-python\n",
    "model = LinearSVC(C=best_c,verbose=verbose,random_state=random_state,class_weight='balanced',max_iter=2000)\n",
    "model = CalibratedClassifierCV(model)\n",
    "model.fit(train_df_fc,y_train)"
   ]
  },
  {
   "cell_type": "code",
   "execution_count": 91,
   "metadata": {},
   "outputs": [],
   "source": [
    "predictions = model.predict_proba(test_df_fc)[:,1]\n",
    "save_submission(predictions, 'svm_fc.csv')"
   ]
  },
  {
   "cell_type": "markdown",
   "metadata": {},
   "source": [
    "![svm-fc](images/svm-fc.png)"
   ]
  },
  {
   "cell_type": "markdown",
   "metadata": {},
   "source": [
    "## 3.3 Logistic Regression with frequency encoding"
   ]
  },
  {
   "cell_type": "code",
   "execution_count": 92,
   "metadata": {},
   "outputs": [
    {
     "name": "stdout",
     "output_type": "stream",
     "text": [
      "Fitting 5 folds for each of 100 candidates, totalling 500 fits\n"
     ]
    },
    {
     "name": "stderr",
     "output_type": "stream",
     "text": [
      "[Parallel(n_jobs=-1)]: Using backend LokyBackend with 8 concurrent workers.\n",
      "[Parallel(n_jobs=-1)]: Done  25 tasks      | elapsed:    1.7s\n",
      "[Parallel(n_jobs=-1)]: Done 146 tasks      | elapsed:    8.3s\n",
      "[Parallel(n_jobs=-1)]: Done 349 tasks      | elapsed:   20.2s\n",
      "[Parallel(n_jobs=-1)]: Done 500 out of 500 | elapsed:   29.2s finished\n",
      "[Parallel(n_jobs=-1)]: Using backend LokyBackend with 8 concurrent workers.\n",
      "[Parallel(n_jobs=-1)]: Done   1 out of   1 | elapsed:    0.4s finished\n"
     ]
    }
   ],
   "source": [
    "C_val = uniform(loc=0, scale=4)\n",
    "lr= LogisticRegression(verbose=verbose,random_state=random_state,class_weight='balanced',solver='lbfgs',max_iter=500,n_jobs=-1)\n",
    "parameters={'C':C_val}\n",
    "clf = RandomizedSearchCV(lr,parameters,random_state=random_state,cv=cv,verbose=verbose,n_iter=100,scoring=scoring,n_jobs=-1)\n",
    "best_model = clf.fit(train_df_fc,y_train)"
   ]
  },
  {
   "cell_type": "code",
   "execution_count": 93,
   "metadata": {},
   "outputs": [
    {
     "data": {
      "text/plain": [
       "3.947547746402069"
      ]
     },
     "execution_count": 93,
     "metadata": {},
     "output_type": "execute_result"
    }
   ],
   "source": [
    "best_c=best_model.best_params_['C']\n",
    "best_c"
   ]
  },
  {
   "cell_type": "code",
   "execution_count": 94,
   "metadata": {},
   "outputs": [
    {
     "data": {
      "text/html": [
       "<div>\n",
       "<style scoped>\n",
       "    .dataframe tbody tr th:only-of-type {\n",
       "        vertical-align: middle;\n",
       "    }\n",
       "\n",
       "    .dataframe tbody tr th {\n",
       "        vertical-align: top;\n",
       "    }\n",
       "\n",
       "    .dataframe thead th {\n",
       "        text-align: right;\n",
       "    }\n",
       "</style>\n",
       "<table border=\"1\" class=\"dataframe\">\n",
       "  <thead>\n",
       "    <tr style=\"text-align: right;\">\n",
       "      <th></th>\n",
       "      <th>mean_fit_time</th>\n",
       "      <th>std_fit_time</th>\n",
       "      <th>mean_score_time</th>\n",
       "      <th>std_score_time</th>\n",
       "      <th>param_C</th>\n",
       "      <th>params</th>\n",
       "      <th>split0_test_score</th>\n",
       "      <th>split1_test_score</th>\n",
       "      <th>split2_test_score</th>\n",
       "      <th>split3_test_score</th>\n",
       "      <th>split4_test_score</th>\n",
       "      <th>mean_test_score</th>\n",
       "      <th>std_test_score</th>\n",
       "      <th>rank_test_score</th>\n",
       "    </tr>\n",
       "  </thead>\n",
       "  <tbody>\n",
       "    <tr>\n",
       "      <th>72</th>\n",
       "      <td>0.182546</td>\n",
       "      <td>0.056575</td>\n",
       "      <td>0.010424</td>\n",
       "      <td>0.001924</td>\n",
       "      <td>0.0220885</td>\n",
       "      <td>{'C': 0.022088468494409597}</td>\n",
       "      <td>0.572784</td>\n",
       "      <td>0.564601</td>\n",
       "      <td>0.561810</td>\n",
       "      <td>0.579600</td>\n",
       "      <td>0.592248</td>\n",
       "      <td>0.574209</td>\n",
       "      <td>0.010978</td>\n",
       "      <td>100</td>\n",
       "    </tr>\n",
       "    <tr>\n",
       "      <th>10</th>\n",
       "      <td>0.230978</td>\n",
       "      <td>0.011034</td>\n",
       "      <td>0.010079</td>\n",
       "      <td>0.002740</td>\n",
       "      <td>0.082338</td>\n",
       "      <td>{'C': 0.08233797718320979}</td>\n",
       "      <td>0.576081</td>\n",
       "      <td>0.570211</td>\n",
       "      <td>0.569417</td>\n",
       "      <td>0.584004</td>\n",
       "      <td>0.590101</td>\n",
       "      <td>0.577963</td>\n",
       "      <td>0.008006</td>\n",
       "      <td>99</td>\n",
       "    </tr>\n",
       "    <tr>\n",
       "      <th>98</th>\n",
       "      <td>0.246538</td>\n",
       "      <td>0.040240</td>\n",
       "      <td>0.008149</td>\n",
       "      <td>0.000789</td>\n",
       "      <td>0.101677</td>\n",
       "      <td>{'C': 0.10167650697638075}</td>\n",
       "      <td>0.578311</td>\n",
       "      <td>0.571484</td>\n",
       "      <td>0.571928</td>\n",
       "      <td>0.586633</td>\n",
       "      <td>0.590390</td>\n",
       "      <td>0.579749</td>\n",
       "      <td>0.007644</td>\n",
       "      <td>98</td>\n",
       "    </tr>\n",
       "    <tr>\n",
       "      <th>42</th>\n",
       "      <td>0.264855</td>\n",
       "      <td>0.051649</td>\n",
       "      <td>0.007584</td>\n",
       "      <td>0.001100</td>\n",
       "      <td>0.137554</td>\n",
       "      <td>{'C': 0.13755408446087358}</td>\n",
       "      <td>0.581972</td>\n",
       "      <td>0.574516</td>\n",
       "      <td>0.576192</td>\n",
       "      <td>0.590778</td>\n",
       "      <td>0.591770</td>\n",
       "      <td>0.583046</td>\n",
       "      <td>0.007166</td>\n",
       "      <td>97</td>\n",
       "    </tr>\n",
       "    <tr>\n",
       "      <th>58</th>\n",
       "      <td>0.294973</td>\n",
       "      <td>0.058159</td>\n",
       "      <td>0.009848</td>\n",
       "      <td>0.001887</td>\n",
       "      <td>0.180909</td>\n",
       "      <td>{'C': 0.18090915564215226}</td>\n",
       "      <td>0.586059</td>\n",
       "      <td>0.577597</td>\n",
       "      <td>0.579853</td>\n",
       "      <td>0.593481</td>\n",
       "      <td>0.593861</td>\n",
       "      <td>0.586170</td>\n",
       "      <td>0.006723</td>\n",
       "      <td>96</td>\n",
       "    </tr>\n",
       "    <tr>\n",
       "      <th>...</th>\n",
       "      <td>...</td>\n",
       "      <td>...</td>\n",
       "      <td>...</td>\n",
       "      <td>...</td>\n",
       "      <td>...</td>\n",
       "      <td>...</td>\n",
       "      <td>...</td>\n",
       "      <td>...</td>\n",
       "      <td>...</td>\n",
       "      <td>...</td>\n",
       "      <td>...</td>\n",
       "      <td>...</td>\n",
       "      <td>...</td>\n",
       "      <td>...</td>\n",
       "    </tr>\n",
       "    <tr>\n",
       "      <th>1</th>\n",
       "      <td>0.544588</td>\n",
       "      <td>0.077972</td>\n",
       "      <td>0.010987</td>\n",
       "      <td>0.002171</td>\n",
       "      <td>3.80286</td>\n",
       "      <td>{'C': 3.8028572256396647}</td>\n",
       "      <td>0.597920</td>\n",
       "      <td>0.597220</td>\n",
       "      <td>0.592827</td>\n",
       "      <td>0.590501</td>\n",
       "      <td>0.618289</td>\n",
       "      <td>0.599351</td>\n",
       "      <td>0.009860</td>\n",
       "      <td>5</td>\n",
       "    </tr>\n",
       "    <tr>\n",
       "      <th>34</th>\n",
       "      <td>0.517311</td>\n",
       "      <td>0.047540</td>\n",
       "      <td>0.010529</td>\n",
       "      <td>0.004522</td>\n",
       "      <td>3.86253</td>\n",
       "      <td>{'C': 3.8625281322982374}</td>\n",
       "      <td>0.597984</td>\n",
       "      <td>0.597303</td>\n",
       "      <td>0.592888</td>\n",
       "      <td>0.590481</td>\n",
       "      <td>0.618319</td>\n",
       "      <td>0.599395</td>\n",
       "      <td>0.009862</td>\n",
       "      <td>4</td>\n",
       "    </tr>\n",
       "    <tr>\n",
       "      <th>50</th>\n",
       "      <td>0.546014</td>\n",
       "      <td>0.078366</td>\n",
       "      <td>0.011045</td>\n",
       "      <td>0.001893</td>\n",
       "      <td>3.87834</td>\n",
       "      <td>{'C': 3.8783385110582342}</td>\n",
       "      <td>0.597974</td>\n",
       "      <td>0.597336</td>\n",
       "      <td>0.592937</td>\n",
       "      <td>0.590487</td>\n",
       "      <td>0.618339</td>\n",
       "      <td>0.599415</td>\n",
       "      <td>0.009861</td>\n",
       "      <td>3</td>\n",
       "    </tr>\n",
       "    <tr>\n",
       "      <th>11</th>\n",
       "      <td>0.487671</td>\n",
       "      <td>0.048548</td>\n",
       "      <td>0.010200</td>\n",
       "      <td>0.002548</td>\n",
       "      <td>3.87964</td>\n",
       "      <td>{'C': 3.8796394086479773}</td>\n",
       "      <td>0.598001</td>\n",
       "      <td>0.597354</td>\n",
       "      <td>0.592944</td>\n",
       "      <td>0.590463</td>\n",
       "      <td>0.618329</td>\n",
       "      <td>0.599418</td>\n",
       "      <td>0.009859</td>\n",
       "      <td>2</td>\n",
       "    </tr>\n",
       "    <tr>\n",
       "      <th>69</th>\n",
       "      <td>0.589011</td>\n",
       "      <td>0.053345</td>\n",
       "      <td>0.010957</td>\n",
       "      <td>0.001444</td>\n",
       "      <td>3.94755</td>\n",
       "      <td>{'C': 3.947547746402069}</td>\n",
       "      <td>0.598011</td>\n",
       "      <td>0.597441</td>\n",
       "      <td>0.593020</td>\n",
       "      <td>0.590436</td>\n",
       "      <td>0.618358</td>\n",
       "      <td>0.599453</td>\n",
       "      <td>0.009861</td>\n",
       "      <td>1</td>\n",
       "    </tr>\n",
       "  </tbody>\n",
       "</table>\n",
       "<p>100 rows × 14 columns</p>\n",
       "</div>"
      ],
      "text/plain": [
       "    mean_fit_time  std_fit_time  mean_score_time  std_score_time    param_C  \\\n",
       "72       0.182546      0.056575         0.010424        0.001924  0.0220885   \n",
       "10       0.230978      0.011034         0.010079        0.002740   0.082338   \n",
       "98       0.246538      0.040240         0.008149        0.000789   0.101677   \n",
       "42       0.264855      0.051649         0.007584        0.001100   0.137554   \n",
       "58       0.294973      0.058159         0.009848        0.001887   0.180909   \n",
       "..            ...           ...              ...             ...        ...   \n",
       "1        0.544588      0.077972         0.010987        0.002171    3.80286   \n",
       "34       0.517311      0.047540         0.010529        0.004522    3.86253   \n",
       "50       0.546014      0.078366         0.011045        0.001893    3.87834   \n",
       "11       0.487671      0.048548         0.010200        0.002548    3.87964   \n",
       "69       0.589011      0.053345         0.010957        0.001444    3.94755   \n",
       "\n",
       "                         params  split0_test_score  split1_test_score  \\\n",
       "72  {'C': 0.022088468494409597}           0.572784           0.564601   \n",
       "10   {'C': 0.08233797718320979}           0.576081           0.570211   \n",
       "98   {'C': 0.10167650697638075}           0.578311           0.571484   \n",
       "42   {'C': 0.13755408446087358}           0.581972           0.574516   \n",
       "58   {'C': 0.18090915564215226}           0.586059           0.577597   \n",
       "..                          ...                ...                ...   \n",
       "1     {'C': 3.8028572256396647}           0.597920           0.597220   \n",
       "34    {'C': 3.8625281322982374}           0.597984           0.597303   \n",
       "50    {'C': 3.8783385110582342}           0.597974           0.597336   \n",
       "11    {'C': 3.8796394086479773}           0.598001           0.597354   \n",
       "69     {'C': 3.947547746402069}           0.598011           0.597441   \n",
       "\n",
       "    split2_test_score  split3_test_score  split4_test_score  mean_test_score  \\\n",
       "72           0.561810           0.579600           0.592248         0.574209   \n",
       "10           0.569417           0.584004           0.590101         0.577963   \n",
       "98           0.571928           0.586633           0.590390         0.579749   \n",
       "42           0.576192           0.590778           0.591770         0.583046   \n",
       "58           0.579853           0.593481           0.593861         0.586170   \n",
       "..                ...                ...                ...              ...   \n",
       "1            0.592827           0.590501           0.618289         0.599351   \n",
       "34           0.592888           0.590481           0.618319         0.599395   \n",
       "50           0.592937           0.590487           0.618339         0.599415   \n",
       "11           0.592944           0.590463           0.618329         0.599418   \n",
       "69           0.593020           0.590436           0.618358         0.599453   \n",
       "\n",
       "    std_test_score  rank_test_score  \n",
       "72        0.010978              100  \n",
       "10        0.008006               99  \n",
       "98        0.007644               98  \n",
       "42        0.007166               97  \n",
       "58        0.006723               96  \n",
       "..             ...              ...  \n",
       "1         0.009860                5  \n",
       "34        0.009862                4  \n",
       "50        0.009861                3  \n",
       "11        0.009859                2  \n",
       "69        0.009861                1  \n",
       "\n",
       "[100 rows x 14 columns]"
      ]
     },
     "execution_count": 94,
     "metadata": {},
     "output_type": "execute_result"
    }
   ],
   "source": [
    "results = pd.DataFrame.from_dict(best_model.cv_results_)\n",
    "results=results.sort_values('param_C')\n",
    "results"
   ]
  },
  {
   "cell_type": "code",
   "execution_count": 95,
   "metadata": {},
   "outputs": [
    {
     "data": {
      "image/png": "[encoded data removed]",
      "text/plain": [
       "<Figure size 432x288 with 1 Axes>"
      ]
     },
     "metadata": {
      "needs_background": "light"
     },
     "output_type": "display_data"
    }
   ],
   "source": [
    "print_graph(results, 'param_C', 'mean_test_score', 'Hyperparameter - C', 'Test score')"
   ]
  },
  {
   "cell_type": "code",
   "execution_count": 96,
   "metadata": {},
   "outputs": [
    {
     "name": "stderr",
     "output_type": "stream",
     "text": [
      "[Parallel(n_jobs=-1)]: Using backend LokyBackend with 8 concurrent workers.\n",
      "[Parallel(n_jobs=-1)]: Done   1 out of   1 | elapsed:    0.5s finished\n"
     ]
    },
    {
     "data": {
      "text/plain": [
       "LogisticRegression(C=3.947547746402069, class_weight='balanced', n_jobs=-1,\n",
       "                   random_state=42, verbose=2)"
      ]
     },
     "execution_count": 96,
     "metadata": {},
     "output_type": "execute_result"
    }
   ],
   "source": [
    "model = LogisticRegression(C=best_c,verbose=verbose,n_jobs=-1,random_state=random_state,class_weight='balanced',solver='lbfgs')\n",
    "model.fit(train_df_fc,y_train)"
   ]
  },
  {
   "cell_type": "code",
   "execution_count": 97,
   "metadata": {},
   "outputs": [],
   "source": [
    "predictions = model.predict_proba(test_df_fc)[:,1]\n",
    "save_submission(predictions, 'lr_fc.csv')"
   ]
  },
  {
   "cell_type": "markdown",
   "metadata": {},
   "source": [
    "![lr-fc](images/lr-fc.png)"
   ]
  },
  {
   "cell_type": "markdown",
   "metadata": {},
   "source": [
    "## 3.4 Random Forest with frequency encoding"
   ]
  },
  {
   "cell_type": "code",
   "execution_count": 98,
   "metadata": {},
   "outputs": [
    {
     "name": "stdout",
     "output_type": "stream",
     "text": [
      "Fitting 5 folds for each of 100 candidates, totalling 500 fits\n"
     ]
    },
    {
     "name": "stderr",
     "output_type": "stream",
     "text": [
      "[Parallel(n_jobs=-1)]: Using backend LokyBackend with 8 concurrent workers.\n",
      "[Parallel(n_jobs=-1)]: Done  25 tasks      | elapsed:   18.9s\n",
      "[Parallel(n_jobs=-1)]: Done 146 tasks      | elapsed:  3.5min\n",
      "[Parallel(n_jobs=-1)]: Done 349 tasks      | elapsed:  8.3min\n",
      "/home/auw-mayank/.local/lib/python3.6/site-packages/joblib/externals/loky/process_executor.py:691: UserWarning: A worker stopped while some jobs were given to the executor. This can be caused by a too short worker timeout or by a memory leak.\n",
      "  \"timeout or by a memory leak.\", UserWarning\n",
      "[Parallel(n_jobs=-1)]: Done 500 out of 500 | elapsed: 12.3min finished\n"
     ]
    }
   ],
   "source": [
    "rfc = RandomForestClassifier(random_state=random_state,class_weight='balanced',n_jobs=-1)\n",
    "clf = RandomizedSearchCV(rfc,get_rf_params(),random_state=random_state,cv=cv,verbose=verbose,n_iter=100,scoring=scoring,n_jobs=-1)\n",
    "best_model = clf.fit(train_df_fc,y_train)"
   ]
  },
  {
   "cell_type": "code",
   "execution_count": 99,
   "metadata": {},
   "outputs": [
    {
     "data": {
      "text/html": [
       "<div>\n",
       "<style scoped>\n",
       "    .dataframe tbody tr th:only-of-type {\n",
       "        vertical-align: middle;\n",
       "    }\n",
       "\n",
       "    .dataframe tbody tr th {\n",
       "        vertical-align: top;\n",
       "    }\n",
       "\n",
       "    .dataframe thead th {\n",
       "        text-align: right;\n",
       "    }\n",
       "</style>\n",
       "<table border=\"1\" class=\"dataframe\">\n",
       "  <thead>\n",
       "    <tr style=\"text-align: right;\">\n",
       "      <th></th>\n",
       "      <th>param_n_estimators</th>\n",
       "      <th>param_max_depth</th>\n",
       "      <th>param_max_features</th>\n",
       "      <th>param_min_samples_split</th>\n",
       "      <th>mean_test_score</th>\n",
       "    </tr>\n",
       "  </thead>\n",
       "  <tbody>\n",
       "    <tr>\n",
       "      <th>78</th>\n",
       "      <td>700</td>\n",
       "      <td>25</td>\n",
       "      <td>2</td>\n",
       "      <td>7</td>\n",
       "      <td>0.865455</td>\n",
       "    </tr>\n",
       "    <tr>\n",
       "      <th>79</th>\n",
       "      <td>500</td>\n",
       "      <td>25</td>\n",
       "      <td>1</td>\n",
       "      <td>10</td>\n",
       "      <td>0.863705</td>\n",
       "    </tr>\n",
       "    <tr>\n",
       "      <th>85</th>\n",
       "      <td>1000</td>\n",
       "      <td>20</td>\n",
       "      <td>3</td>\n",
       "      <td>7</td>\n",
       "      <td>0.863124</td>\n",
       "    </tr>\n",
       "    <tr>\n",
       "      <th>55</th>\n",
       "      <td>200</td>\n",
       "      <td>25</td>\n",
       "      <td>2</td>\n",
       "      <td>5</td>\n",
       "      <td>0.862765</td>\n",
       "    </tr>\n",
       "    <tr>\n",
       "      <th>27</th>\n",
       "      <td>50</td>\n",
       "      <td>25</td>\n",
       "      <td>2</td>\n",
       "      <td>10</td>\n",
       "      <td>0.862614</td>\n",
       "    </tr>\n",
       "    <tr>\n",
       "      <th>62</th>\n",
       "      <td>500</td>\n",
       "      <td>25</td>\n",
       "      <td>3</td>\n",
       "      <td>5</td>\n",
       "      <td>0.862305</td>\n",
       "    </tr>\n",
       "    <tr>\n",
       "      <th>22</th>\n",
       "      <td>200</td>\n",
       "      <td>25</td>\n",
       "      <td>4</td>\n",
       "      <td>10</td>\n",
       "      <td>0.862144</td>\n",
       "    </tr>\n",
       "    <tr>\n",
       "      <th>6</th>\n",
       "      <td>500</td>\n",
       "      <td>20</td>\n",
       "      <td>2</td>\n",
       "      <td>5</td>\n",
       "      <td>0.860599</td>\n",
       "    </tr>\n",
       "    <tr>\n",
       "      <th>76</th>\n",
       "      <td>50</td>\n",
       "      <td>25</td>\n",
       "      <td>1</td>\n",
       "      <td>5</td>\n",
       "      <td>0.859857</td>\n",
       "    </tr>\n",
       "    <tr>\n",
       "      <th>84</th>\n",
       "      <td>1000</td>\n",
       "      <td>25</td>\n",
       "      <td>5</td>\n",
       "      <td>2</td>\n",
       "      <td>0.859026</td>\n",
       "    </tr>\n",
       "  </tbody>\n",
       "</table>\n",
       "</div>"
      ],
      "text/plain": [
       "   param_n_estimators param_max_depth param_max_features  \\\n",
       "78                700              25                  2   \n",
       "79                500              25                  1   \n",
       "85               1000              20                  3   \n",
       "55                200              25                  2   \n",
       "27                 50              25                  2   \n",
       "62                500              25                  3   \n",
       "22                200              25                  4   \n",
       "6                 500              20                  2   \n",
       "76                 50              25                  1   \n",
       "84               1000              25                  5   \n",
       "\n",
       "   param_min_samples_split  mean_test_score  \n",
       "78                       7         0.865455  \n",
       "79                      10         0.863705  \n",
       "85                       7         0.863124  \n",
       "55                       5         0.862765  \n",
       "27                      10         0.862614  \n",
       "62                       5         0.862305  \n",
       "22                      10         0.862144  \n",
       "6                        5         0.860599  \n",
       "76                       5         0.859857  \n",
       "84                       2         0.859026  "
      ]
     },
     "execution_count": 99,
     "metadata": {},
     "output_type": "execute_result"
    }
   ],
   "source": [
    "results = pd.DataFrame(best_model.cv_results_)\n",
    "results.sort_values('mean_test_score',ascending=False,inplace=True)\n",
    "param_keys=['param_'+str(each) for each in get_rf_params().keys()]\n",
    "param_keys.append('mean_test_score')\n",
    "results[param_keys].head(10)"
   ]
  },
  {
   "cell_type": "code",
   "execution_count": 100,
   "metadata": {},
   "outputs": [
    {
     "data": {
      "text/plain": [
       "(700, 2, 25, 7)"
      ]
     },
     "execution_count": 100,
     "metadata": {},
     "output_type": "execute_result"
    }
   ],
   "source": [
    "n_estimators=clf.best_params_['n_estimators']\n",
    "max_features=clf.best_params_['max_features']\n",
    "max_depth=clf.best_params_['max_depth']\n",
    "min_samples_split=clf.best_params_['min_samples_split']\n",
    "n_estimators,max_features,max_depth,min_samples_split"
   ]
  },
  {
   "cell_type": "code",
   "execution_count": 101,
   "metadata": {},
   "outputs": [
    {
     "data": {
      "text/plain": [
       "RandomForestClassifier(class_weight='balanced', max_depth=25, max_features=2,\n",
       "                       min_samples_split=7, n_estimators=700, n_jobs=-1,\n",
       "                       random_state=42)"
      ]
     },
     "execution_count": 101,
     "metadata": {},
     "output_type": "execute_result"
    }
   ],
   "source": [
    "model=RandomForestClassifier(n_estimators=n_estimators,max_depth=max_depth,max_features=max_features,\n",
    "                             min_samples_split=min_samples_split,\n",
    "                             random_state=random_state,class_weight='balanced',n_jobs=-1)\n",
    "\n",
    "model.fit(train_df_fc,y_train)"
   ]
  },
  {
   "cell_type": "code",
   "execution_count": 103,
   "metadata": {},
   "outputs": [
    {
     "data": {
      "image/png": "[encoded data removed]",
      "text/plain": [
       "<Figure size 432x288 with 1 Axes>"
      ]
     },
     "metadata": {
      "needs_background": "light"
     },
     "output_type": "display_data"
    }
   ],
   "source": [
    "features=train_df_fc.columns\n",
    "importance=model.feature_importances_\n",
    "features=pd.DataFrame({'features':features,'value':importance})\n",
    "features=features.sort_values('value',ascending=False)\n",
    "sns.barplot('value','features',data=features);\n",
    "plt.title('Feature Importance');"
   ]
  },
  {
   "cell_type": "code",
   "execution_count": 106,
   "metadata": {},
   "outputs": [],
   "source": [
    "predictions = model.predict_proba(test_df_fc)[:,1]\n",
    "save_submission(predictions, 'rf_fc.csv')"
   ]
  },
  {
   "cell_type": "markdown",
   "metadata": {},
   "source": [
    "![rf-fc](images/rf-fc.png)"
   ]
  },
  {
   "cell_type": "markdown",
   "metadata": {},
   "source": [
    "## 3.5 Xgboost with frequency encoding"
   ]
  },
  {
   "cell_type": "code",
   "execution_count": 107,
   "metadata": {},
   "outputs": [
    {
     "name": "stdout",
     "output_type": "stream",
     "text": [
      "Fitting 5 folds for each of 100 candidates, totalling 500 fits\n"
     ]
    },
    {
     "name": "stderr",
     "output_type": "stream",
     "text": [
      "[Parallel(n_jobs=-1)]: Using backend LokyBackend with 8 concurrent workers.\n",
      "[Parallel(n_jobs=-1)]: Done  25 tasks      | elapsed:    8.5s\n",
      "[Parallel(n_jobs=-1)]: Done 146 tasks      | elapsed:  1.6min\n",
      "[Parallel(n_jobs=-1)]: Done 349 tasks      | elapsed:  4.4min\n",
      "[Parallel(n_jobs=-1)]: Done 500 out of 500 | elapsed:  7.3min finished\n"
     ]
    }
   ],
   "source": [
    "xgb = XGBClassifier()\n",
    "clf = RandomizedSearchCV(xgb,get_xgb_params(),random_state=random_state,cv=cv,verbose=verbose,n_iter=100,scoring=scoring,n_jobs=-1)\n",
    "best_model=clf.fit(train_df_fc,y_train)"
   ]
  },
  {
   "cell_type": "code",
   "execution_count": 108,
   "metadata": {},
   "outputs": [
    {
     "data": {
      "text/html": [
       "<div>\n",
       "<style scoped>\n",
       "    .dataframe tbody tr th:only-of-type {\n",
       "        vertical-align: middle;\n",
       "    }\n",
       "\n",
       "    .dataframe tbody tr th {\n",
       "        vertical-align: top;\n",
       "    }\n",
       "\n",
       "    .dataframe thead th {\n",
       "        text-align: right;\n",
       "    }\n",
       "</style>\n",
       "<table border=\"1\" class=\"dataframe\">\n",
       "  <thead>\n",
       "    <tr style=\"text-align: right;\">\n",
       "      <th></th>\n",
       "      <th>param_n_estimators</th>\n",
       "      <th>param_learning_rate</th>\n",
       "      <th>param_subsample</th>\n",
       "      <th>param_max_depth</th>\n",
       "      <th>param_colsample_bytree</th>\n",
       "      <th>param_min_child_weight</th>\n",
       "      <th>mean_test_score</th>\n",
       "    </tr>\n",
       "  </thead>\n",
       "  <tbody>\n",
       "    <tr>\n",
       "      <th>18</th>\n",
       "      <td>1000</td>\n",
       "      <td>0.048135</td>\n",
       "      <td>0.665922</td>\n",
       "      <td>9</td>\n",
       "      <td>0.330898</td>\n",
       "      <td>2</td>\n",
       "      <td>0.858830</td>\n",
       "    </tr>\n",
       "    <tr>\n",
       "      <th>96</th>\n",
       "      <td>500</td>\n",
       "      <td>0.0979629</td>\n",
       "      <td>0.98664</td>\n",
       "      <td>7</td>\n",
       "      <td>0.891897</td>\n",
       "      <td>1</td>\n",
       "      <td>0.857160</td>\n",
       "    </tr>\n",
       "    <tr>\n",
       "      <th>44</th>\n",
       "      <td>1000</td>\n",
       "      <td>0.060484</td>\n",
       "      <td>0.606429</td>\n",
       "      <td>6</td>\n",
       "      <td>0.642032</td>\n",
       "      <td>2</td>\n",
       "      <td>0.854864</td>\n",
       "    </tr>\n",
       "    <tr>\n",
       "      <th>97</th>\n",
       "      <td>750</td>\n",
       "      <td>0.232385</td>\n",
       "      <td>0.907694</td>\n",
       "      <td>6</td>\n",
       "      <td>0.374271</td>\n",
       "      <td>1</td>\n",
       "      <td>0.854471</td>\n",
       "    </tr>\n",
       "    <tr>\n",
       "      <th>86</th>\n",
       "      <td>1000</td>\n",
       "      <td>0.475848</td>\n",
       "      <td>0.858413</td>\n",
       "      <td>9</td>\n",
       "      <td>0.372018</td>\n",
       "      <td>2</td>\n",
       "      <td>0.852575</td>\n",
       "    </tr>\n",
       "    <tr>\n",
       "      <th>53</th>\n",
       "      <td>200</td>\n",
       "      <td>0.540096</td>\n",
       "      <td>0.928319</td>\n",
       "      <td>6</td>\n",
       "      <td>0.27956</td>\n",
       "      <td>1</td>\n",
       "      <td>0.851643</td>\n",
       "    </tr>\n",
       "    <tr>\n",
       "      <th>84</th>\n",
       "      <td>200</td>\n",
       "      <td>0.571989</td>\n",
       "      <td>0.967581</td>\n",
       "      <td>6</td>\n",
       "      <td>0.348337</td>\n",
       "      <td>1</td>\n",
       "      <td>0.850900</td>\n",
       "    </tr>\n",
       "    <tr>\n",
       "      <th>49</th>\n",
       "      <td>500</td>\n",
       "      <td>0.160277</td>\n",
       "      <td>0.393098</td>\n",
       "      <td>8</td>\n",
       "      <td>0.636333</td>\n",
       "      <td>2</td>\n",
       "      <td>0.850151</td>\n",
       "    </tr>\n",
       "    <tr>\n",
       "      <th>62</th>\n",
       "      <td>500</td>\n",
       "      <td>0.0663892</td>\n",
       "      <td>0.328153</td>\n",
       "      <td>9</td>\n",
       "      <td>0.375583</td>\n",
       "      <td>3</td>\n",
       "      <td>0.848839</td>\n",
       "    </tr>\n",
       "    <tr>\n",
       "      <th>14</th>\n",
       "      <td>200</td>\n",
       "      <td>0.374221</td>\n",
       "      <td>0.802197</td>\n",
       "      <td>7</td>\n",
       "      <td>0.965255</td>\n",
       "      <td>1</td>\n",
       "      <td>0.846264</td>\n",
       "    </tr>\n",
       "  </tbody>\n",
       "</table>\n",
       "</div>"
      ],
      "text/plain": [
       "   param_n_estimators param_learning_rate param_subsample param_max_depth  \\\n",
       "18               1000            0.048135        0.665922               9   \n",
       "96                500           0.0979629         0.98664               7   \n",
       "44               1000            0.060484        0.606429               6   \n",
       "97                750            0.232385        0.907694               6   \n",
       "86               1000            0.475848        0.858413               9   \n",
       "53                200            0.540096        0.928319               6   \n",
       "84                200            0.571989        0.967581               6   \n",
       "49                500            0.160277        0.393098               8   \n",
       "62                500           0.0663892        0.328153               9   \n",
       "14                200            0.374221        0.802197               7   \n",
       "\n",
       "   param_colsample_bytree param_min_child_weight  mean_test_score  \n",
       "18               0.330898                      2         0.858830  \n",
       "96               0.891897                      1         0.857160  \n",
       "44               0.642032                      2         0.854864  \n",
       "97               0.374271                      1         0.854471  \n",
       "86               0.372018                      2         0.852575  \n",
       "53                0.27956                      1         0.851643  \n",
       "84               0.348337                      1         0.850900  \n",
       "49               0.636333                      2         0.850151  \n",
       "62               0.375583                      3         0.848839  \n",
       "14               0.965255                      1         0.846264  "
      ]
     },
     "execution_count": 108,
     "metadata": {},
     "output_type": "execute_result"
    }
   ],
   "source": [
    "results = pd.DataFrame(best_model.cv_results_)\n",
    "results.sort_values('mean_test_score',ascending=False,inplace=True)\n",
    "param_keys=['param_'+str(each) for each in get_xgb_params().keys()]\n",
    "param_keys.append('mean_test_score')\n",
    "results[param_keys].head(10)"
   ]
  },
  {
   "cell_type": "code",
   "execution_count": 109,
   "metadata": {},
   "outputs": [
    {
     "data": {
      "text/plain": [
       "(0.3308980248526492, 0.04813501017161418, 9, 2, 1000, 0.6659223566174967)"
      ]
     },
     "execution_count": 109,
     "metadata": {},
     "output_type": "execute_result"
    }
   ],
   "source": [
    "colsample_bytree = clf.best_params_['colsample_bytree']\n",
    "learning_rate=clf.best_params_['learning_rate']\n",
    "max_depth=clf.best_params_['max_depth']\n",
    "min_child_weight=clf.best_params_['min_child_weight']\n",
    "n_estimators=clf.best_params_['n_estimators']\n",
    "subsample=clf.best_params_['subsample']\n",
    "colsample_bytree,learning_rate,max_depth,min_child_weight,n_estimators,subsample"
   ]
  },
  {
   "cell_type": "code",
   "execution_count": 110,
   "metadata": {},
   "outputs": [
    {
     "data": {
      "text/plain": [
       "XGBClassifier(base_score=0.5, booster='gbtree', colsample_bylevel=1,\n",
       "              colsample_bynode=1, colsample_bytree=0.3308980248526492, gamma=0,\n",
       "              gpu_id=-1, importance_type='gain', interaction_constraints='',\n",
       "              learning_rate=0.04813501017161418, max_delta_step=0, max_depth=9,\n",
       "              min_child_weight=2, missing=nan, monotone_constraints='()',\n",
       "              n_estimators=1000, n_jobs=-1, num_parallel_tree=1, random_state=0,\n",
       "              reg_alpha=0, reg_lambda=1, scale_pos_weight=1,\n",
       "              subsample=0.6659223566174967, tree_method='exact',\n",
       "              validate_parameters=1, verbosity=None)"
      ]
     },
     "execution_count": 110,
     "metadata": {},
     "output_type": "execute_result"
    }
   ],
   "source": [
    "model = XGBClassifier(colsample_bytree=colsample_bytree,learning_rate=learning_rate,max_depth=max_depth,\n",
    "                     min_child_weight=min_child_weight,n_estimators=n_estimators,subsample=subsample,n_jobs=-1)\n",
    "\n",
    "model.fit(train_df_fc,y_train)"
   ]
  },
  {
   "cell_type": "code",
   "execution_count": 111,
   "metadata": {},
   "outputs": [
    {
     "data": {
      "image/png": "[encoded data removed]",
      "text/plain": [
       "<Figure size 432x288 with 1 Axes>"
      ]
     },
     "metadata": {
      "needs_background": "light"
     },
     "output_type": "display_data"
    }
   ],
   "source": [
    "features=train_df_fc.columns\n",
    "importance=model.feature_importances_\n",
    "features=pd.DataFrame({'features':features,'value':importance})\n",
    "features=features.sort_values('value',ascending=False)\n",
    "sns.barplot('value','features',data=features);\n",
    "plt.title('Feature Importance');"
   ]
  },
  {
   "cell_type": "code",
   "execution_count": 112,
   "metadata": {},
   "outputs": [],
   "source": [
    "predictions = model.predict_proba(test_df_fc)[:,1]\n",
    "save_submission(predictions, 'xgb_fc.csv')"
   ]
  },
  {
   "cell_type": "markdown",
   "metadata": {},
   "source": [
    "![xgb-fc](images/xgb-fc.png)"
   ]
  },
  {
   "cell_type": "markdown",
   "metadata": {},
   "source": [
    "![kaggle-submission-fc](images/kaggle-submission-fc.png)"
   ]
  },
  {
   "cell_type": "code",
   "execution_count": 113,
   "metadata": {},
   "outputs": [
    {
     "name": "stdout",
     "output_type": "stream",
     "text": [
      "+---------------------+---------+---------------+--------------+\n",
      "|        Model        | Feature | Private Score | Public Score |\n",
      "+---------------------+---------+---------------+--------------+\n",
      "|         KNN         |    fc   |    0.79715    |   0.79125    |\n",
      "|         SVM         |    fc   |    0.60085    |    0.5955    |\n",
      "| Logistic Regression |    fc   |    0.59896    |   0.59778    |\n",
      "|    Random Forest    |    fc   |    0.87299    |   0.87616    |\n",
      "|       Xgboost       |    fc   |    0.86987    |   0.86944    |\n",
      "+---------------------+---------+---------------+--------------+\n"
     ]
    }
   ],
   "source": [
    "from prettytable import PrettyTable\n",
    "\n",
    "x = PrettyTable(['Model', 'Feature', 'Private Score', 'Public Score'])\n",
    "x.add_row(['KNN','fc', 0.79715, 0.79125])\n",
    "x.add_row(['SVM', 'fc', 0.60085, 0.59550])\n",
    "x.add_row(['Logistic Regression', 'fc', 0.59896, 0.59778])\n",
    "x.add_row(['Random Forest', 'fc', 0.87299, 0.87616])\n",
    "x.add_row(['Xgboost', 'fc', 0.86987, 0.86944])\n",
    "\n",
    "print(x)"
   ]
  },
  {
   "cell_type": "markdown",
   "metadata": {},
   "source": [
    "# Observations:\n",
    "\n",
    "1. Tree based models performs better for this feature than linear models\n",
    "2. KNN is doing good for every feature"
   ]
  },
  {
   "cell_type": "markdown",
   "metadata": {},
   "source": [
    "# 4 Build Model using response encoding feature"
   ]
  },
  {
   "cell_type": "code",
   "execution_count": 114,
   "metadata": {},
   "outputs": [],
   "source": [
    "train_df_rc = pd.read_csv('data/train_df_rc.csv')\n",
    "test_df_rc = pd.read_csv('data/test_df_rc.csv')"
   ]
  },
  {
   "cell_type": "code",
   "execution_count": 115,
   "metadata": {},
   "outputs": [
    {
     "data": {
      "text/plain": [
       "((32769, 9), (58921, 9), (32769,))"
      ]
     },
     "execution_count": 115,
     "metadata": {},
     "output_type": "execute_result"
    }
   ],
   "source": [
    "train_df_rc.shape, test_df_rc.shape, y_train.shape"
   ]
  },
  {
   "cell_type": "markdown",
   "metadata": {},
   "source": [
    "## 4.1 KNN with response encoding"
   ]
  },
  {
   "cell_type": "code",
   "execution_count": 116,
   "metadata": {},
   "outputs": [
    {
     "name": "stdout",
     "output_type": "stream",
     "text": [
      "Fitting 5 folds for each of 10 candidates, totalling 50 fits\n"
     ]
    },
    {
     "name": "stderr",
     "output_type": "stream",
     "text": [
      "[Parallel(n_jobs=-1)]: Using backend LokyBackend with 8 concurrent workers.\n",
      "[Parallel(n_jobs=-1)]: Done  25 tasks      | elapsed:    5.2s\n",
      "[Parallel(n_jobs=-1)]: Done  50 out of  50 | elapsed:   10.7s finished\n"
     ]
    }
   ],
   "source": [
    "parameters={'n_neighbors':np.arange(1,100, 5)}\n",
    "clf = RandomizedSearchCV(KNeighborsClassifier(n_jobs=-1),parameters,random_state=random_state,cv=cv,verbose=verbose,scoring=scoring,n_jobs=-1)\n",
    "best_model = clf.fit(train_df_rc,y_train)"
   ]
  },
  {
   "cell_type": "code",
   "execution_count": 117,
   "metadata": {},
   "outputs": [
    {
     "data": {
      "text/html": [
       "<div>\n",
       "<style scoped>\n",
       "    .dataframe tbody tr th:only-of-type {\n",
       "        vertical-align: middle;\n",
       "    }\n",
       "\n",
       "    .dataframe tbody tr th {\n",
       "        vertical-align: top;\n",
       "    }\n",
       "\n",
       "    .dataframe thead th {\n",
       "        text-align: right;\n",
       "    }\n",
       "</style>\n",
       "<table border=\"1\" class=\"dataframe\">\n",
       "  <thead>\n",
       "    <tr style=\"text-align: right;\">\n",
       "      <th></th>\n",
       "      <th>mean_fit_time</th>\n",
       "      <th>std_fit_time</th>\n",
       "      <th>mean_score_time</th>\n",
       "      <th>std_score_time</th>\n",
       "      <th>param_n_neighbors</th>\n",
       "      <th>params</th>\n",
       "      <th>split0_test_score</th>\n",
       "      <th>split1_test_score</th>\n",
       "      <th>split2_test_score</th>\n",
       "      <th>split3_test_score</th>\n",
       "      <th>split4_test_score</th>\n",
       "      <th>mean_test_score</th>\n",
       "      <th>std_test_score</th>\n",
       "      <th>rank_test_score</th>\n",
       "    </tr>\n",
       "  </thead>\n",
       "  <tbody>\n",
       "    <tr>\n",
       "      <th>0</th>\n",
       "      <td>0.087703</td>\n",
       "      <td>0.003754</td>\n",
       "      <td>0.270912</td>\n",
       "      <td>0.118324</td>\n",
       "      <td>1</td>\n",
       "      <td>{'n_neighbors': 1}</td>\n",
       "      <td>0.785764</td>\n",
       "      <td>0.803724</td>\n",
       "      <td>0.775463</td>\n",
       "      <td>0.779148</td>\n",
       "      <td>0.764597</td>\n",
       "      <td>0.781739</td>\n",
       "      <td>0.012958</td>\n",
       "      <td>10</td>\n",
       "    </tr>\n",
       "    <tr>\n",
       "      <th>3</th>\n",
       "      <td>0.161678</td>\n",
       "      <td>0.063581</td>\n",
       "      <td>0.749612</td>\n",
       "      <td>0.191282</td>\n",
       "      <td>6</td>\n",
       "      <td>{'n_neighbors': 6}</td>\n",
       "      <td>0.913267</td>\n",
       "      <td>0.929281</td>\n",
       "      <td>0.912042</td>\n",
       "      <td>0.938589</td>\n",
       "      <td>0.930850</td>\n",
       "      <td>0.924806</td>\n",
       "      <td>0.010417</td>\n",
       "      <td>9</td>\n",
       "    </tr>\n",
       "    <tr>\n",
       "      <th>7</th>\n",
       "      <td>0.365460</td>\n",
       "      <td>0.149200</td>\n",
       "      <td>1.097595</td>\n",
       "      <td>0.234131</td>\n",
       "      <td>16</td>\n",
       "      <td>{'n_neighbors': 16}</td>\n",
       "      <td>0.947662</td>\n",
       "      <td>0.957579</td>\n",
       "      <td>0.950075</td>\n",
       "      <td>0.960931</td>\n",
       "      <td>0.948791</td>\n",
       "      <td>0.953008</td>\n",
       "      <td>0.005266</td>\n",
       "      <td>8</td>\n",
       "    </tr>\n",
       "    <tr>\n",
       "      <th>5</th>\n",
       "      <td>0.274667</td>\n",
       "      <td>0.128723</td>\n",
       "      <td>1.106008</td>\n",
       "      <td>0.062541</td>\n",
       "      <td>26</td>\n",
       "      <td>{'n_neighbors': 26}</td>\n",
       "      <td>0.960510</td>\n",
       "      <td>0.965995</td>\n",
       "      <td>0.956449</td>\n",
       "      <td>0.965414</td>\n",
       "      <td>0.956676</td>\n",
       "      <td>0.961009</td>\n",
       "      <td>0.004101</td>\n",
       "      <td>7</td>\n",
       "    </tr>\n",
       "    <tr>\n",
       "      <th>4</th>\n",
       "      <td>0.196924</td>\n",
       "      <td>0.091312</td>\n",
       "      <td>1.247186</td>\n",
       "      <td>0.043935</td>\n",
       "      <td>41</td>\n",
       "      <td>{'n_neighbors': 41}</td>\n",
       "      <td>0.967694</td>\n",
       "      <td>0.970531</td>\n",
       "      <td>0.961577</td>\n",
       "      <td>0.970235</td>\n",
       "      <td>0.962889</td>\n",
       "      <td>0.966585</td>\n",
       "      <td>0.003711</td>\n",
       "      <td>6</td>\n",
       "    </tr>\n",
       "    <tr>\n",
       "      <th>6</th>\n",
       "      <td>0.121391</td>\n",
       "      <td>0.037696</td>\n",
       "      <td>1.616742</td>\n",
       "      <td>0.078125</td>\n",
       "      <td>56</td>\n",
       "      <td>{'n_neighbors': 56}</td>\n",
       "      <td>0.968329</td>\n",
       "      <td>0.971504</td>\n",
       "      <td>0.963187</td>\n",
       "      <td>0.970208</td>\n",
       "      <td>0.966776</td>\n",
       "      <td>0.968001</td>\n",
       "      <td>0.002896</td>\n",
       "      <td>5</td>\n",
       "    </tr>\n",
       "    <tr>\n",
       "      <th>2</th>\n",
       "      <td>0.257782</td>\n",
       "      <td>0.047633</td>\n",
       "      <td>1.718469</td>\n",
       "      <td>0.251959</td>\n",
       "      <td>76</td>\n",
       "      <td>{'n_neighbors': 76}</td>\n",
       "      <td>0.969092</td>\n",
       "      <td>0.970238</td>\n",
       "      <td>0.965122</td>\n",
       "      <td>0.970237</td>\n",
       "      <td>0.968003</td>\n",
       "      <td>0.968538</td>\n",
       "      <td>0.001900</td>\n",
       "      <td>3</td>\n",
       "    </tr>\n",
       "    <tr>\n",
       "      <th>9</th>\n",
       "      <td>0.259518</td>\n",
       "      <td>0.169725</td>\n",
       "      <td>1.463110</td>\n",
       "      <td>0.571909</td>\n",
       "      <td>81</td>\n",
       "      <td>{'n_neighbors': 81}</td>\n",
       "      <td>0.969085</td>\n",
       "      <td>0.970350</td>\n",
       "      <td>0.964951</td>\n",
       "      <td>0.969905</td>\n",
       "      <td>0.967942</td>\n",
       "      <td>0.968447</td>\n",
       "      <td>0.001930</td>\n",
       "      <td>4</td>\n",
       "    </tr>\n",
       "    <tr>\n",
       "      <th>1</th>\n",
       "      <td>0.166987</td>\n",
       "      <td>0.110239</td>\n",
       "      <td>2.083340</td>\n",
       "      <td>0.073632</td>\n",
       "      <td>86</td>\n",
       "      <td>{'n_neighbors': 86}</td>\n",
       "      <td>0.968902</td>\n",
       "      <td>0.971091</td>\n",
       "      <td>0.965033</td>\n",
       "      <td>0.969832</td>\n",
       "      <td>0.967886</td>\n",
       "      <td>0.968549</td>\n",
       "      <td>0.002051</td>\n",
       "      <td>2</td>\n",
       "    </tr>\n",
       "    <tr>\n",
       "      <th>8</th>\n",
       "      <td>0.215055</td>\n",
       "      <td>0.138284</td>\n",
       "      <td>2.578594</td>\n",
       "      <td>0.120702</td>\n",
       "      <td>91</td>\n",
       "      <td>{'n_neighbors': 91}</td>\n",
       "      <td>0.968775</td>\n",
       "      <td>0.970906</td>\n",
       "      <td>0.964625</td>\n",
       "      <td>0.970507</td>\n",
       "      <td>0.968111</td>\n",
       "      <td>0.968585</td>\n",
       "      <td>0.002237</td>\n",
       "      <td>1</td>\n",
       "    </tr>\n",
       "  </tbody>\n",
       "</table>\n",
       "</div>"
      ],
      "text/plain": [
       "   mean_fit_time  std_fit_time  mean_score_time  std_score_time  \\\n",
       "0       0.087703      0.003754         0.270912        0.118324   \n",
       "3       0.161678      0.063581         0.749612        0.191282   \n",
       "7       0.365460      0.149200         1.097595        0.234131   \n",
       "5       0.274667      0.128723         1.106008        0.062541   \n",
       "4       0.196924      0.091312         1.247186        0.043935   \n",
       "6       0.121391      0.037696         1.616742        0.078125   \n",
       "2       0.257782      0.047633         1.718469        0.251959   \n",
       "9       0.259518      0.169725         1.463110        0.571909   \n",
       "1       0.166987      0.110239         2.083340        0.073632   \n",
       "8       0.215055      0.138284         2.578594        0.120702   \n",
       "\n",
       "  param_n_neighbors               params  split0_test_score  \\\n",
       "0                 1   {'n_neighbors': 1}           0.785764   \n",
       "3                 6   {'n_neighbors': 6}           0.913267   \n",
       "7                16  {'n_neighbors': 16}           0.947662   \n",
       "5                26  {'n_neighbors': 26}           0.960510   \n",
       "4                41  {'n_neighbors': 41}           0.967694   \n",
       "6                56  {'n_neighbors': 56}           0.968329   \n",
       "2                76  {'n_neighbors': 76}           0.969092   \n",
       "9                81  {'n_neighbors': 81}           0.969085   \n",
       "1                86  {'n_neighbors': 86}           0.968902   \n",
       "8                91  {'n_neighbors': 91}           0.968775   \n",
       "\n",
       "   split1_test_score  split2_test_score  split3_test_score  split4_test_score  \\\n",
       "0           0.803724           0.775463           0.779148           0.764597   \n",
       "3           0.929281           0.912042           0.938589           0.930850   \n",
       "7           0.957579           0.950075           0.960931           0.948791   \n",
       "5           0.965995           0.956449           0.965414           0.956676   \n",
       "4           0.970531           0.961577           0.970235           0.962889   \n",
       "6           0.971504           0.963187           0.970208           0.966776   \n",
       "2           0.970238           0.965122           0.970237           0.968003   \n",
       "9           0.970350           0.964951           0.969905           0.967942   \n",
       "1           0.971091           0.965033           0.969832           0.967886   \n",
       "8           0.970906           0.964625           0.970507           0.968111   \n",
       "\n",
       "   mean_test_score  std_test_score  rank_test_score  \n",
       "0         0.781739        0.012958               10  \n",
       "3         0.924806        0.010417                9  \n",
       "7         0.953008        0.005266                8  \n",
       "5         0.961009        0.004101                7  \n",
       "4         0.966585        0.003711                6  \n",
       "6         0.968001        0.002896                5  \n",
       "2         0.968538        0.001900                3  \n",
       "9         0.968447        0.001930                4  \n",
       "1         0.968549        0.002051                2  \n",
       "8         0.968585        0.002237                1  "
      ]
     },
     "execution_count": 117,
     "metadata": {},
     "output_type": "execute_result"
    }
   ],
   "source": [
    "results = pd.DataFrame.from_dict(best_model.cv_results_)\n",
    "results=results.sort_values('param_n_neighbors')\n",
    "results"
   ]
  },
  {
   "cell_type": "code",
   "execution_count": 118,
   "metadata": {},
   "outputs": [
    {
     "data": {
      "image/png": "[encoded data removed]",
      "text/plain": [
       "<Figure size 432x288 with 1 Axes>"
      ]
     },
     "metadata": {
      "needs_background": "light"
     },
     "output_type": "display_data"
    }
   ],
   "source": [
    "print_graph(results, 'param_n_neighbors', 'mean_test_score', 'Hyperparameter - No. of neighbors', 'Test score')  "
   ]
  },
  {
   "cell_type": "code",
   "execution_count": 119,
   "metadata": {},
   "outputs": [
    {
     "data": {
      "text/plain": [
       "91"
      ]
     },
     "execution_count": 119,
     "metadata": {},
     "output_type": "execute_result"
    }
   ],
   "source": [
    "best_c=best_model.best_params_['n_neighbors']\n",
    "best_c"
   ]
  },
  {
   "cell_type": "code",
   "execution_count": 120,
   "metadata": {},
   "outputs": [
    {
     "data": {
      "text/plain": [
       "KNeighborsClassifier(n_jobs=-1, n_neighbors=91)"
      ]
     },
     "execution_count": 120,
     "metadata": {},
     "output_type": "execute_result"
    }
   ],
   "source": [
    "model = KNeighborsClassifier(n_neighbors=best_c,n_jobs=-1)\n",
    "model.fit(train_df_rc,y_train)"
   ]
  },
  {
   "cell_type": "code",
   "execution_count": 121,
   "metadata": {},
   "outputs": [],
   "source": [
    "predictions = model.predict_proba(test_df_rc)[:,1]\n",
    "save_submission(predictions, \"knn_rc.csv\")"
   ]
  },
  {
   "cell_type": "markdown",
   "metadata": {},
   "source": [
    "![knn-rc](images/knn-rc.png)"
   ]
  },
  {
   "cell_type": "markdown",
   "metadata": {},
   "source": [
    "## 4.2 SVM with response encoding"
   ]
  },
  {
   "cell_type": "code",
   "execution_count": 122,
   "metadata": {},
   "outputs": [
    {
     "name": "stdout",
     "output_type": "stream",
     "text": [
      "Fitting 5 folds for each of 10 candidates, totalling 50 fits\n"
     ]
    },
    {
     "name": "stderr",
     "output_type": "stream",
     "text": [
      "[Parallel(n_jobs=-1)]: Using backend LokyBackend with 8 concurrent workers.\n",
      "[Parallel(n_jobs=-1)]: Done  25 tasks      | elapsed:   59.3s\n",
      "[Parallel(n_jobs=-1)]: Done  50 out of  50 | elapsed:  1.6min finished\n"
     ]
    },
    {
     "name": "stdout",
     "output_type": "stream",
     "text": [
      "[LibLinear]"
     ]
    }
   ],
   "source": [
    "C_val = uniform(loc=0, scale=4)\n",
    "model= LinearSVC(verbose=verbose,random_state=random_state,class_weight='balanced',max_iter=2000)\n",
    "parameters={'C':C_val}\n",
    "clf = RandomizedSearchCV(model,parameters,random_state=random_state,cv=cv,verbose=verbose,scoring=scoring,n_jobs=-1)\n",
    "best_model = clf.fit(train_df_rc,y_train)"
   ]
  },
  {
   "cell_type": "code",
   "execution_count": 123,
   "metadata": {},
   "outputs": [
    {
     "data": {
      "text/plain": [
       "0.23233444867279784"
      ]
     },
     "execution_count": 123,
     "metadata": {},
     "output_type": "execute_result"
    }
   ],
   "source": [
    "best_c=best_model.best_params_['C']\n",
    "best_c"
   ]
  },
  {
   "cell_type": "code",
   "execution_count": 124,
   "metadata": {},
   "outputs": [
    {
     "data": {
      "text/html": [
       "<div>\n",
       "<style scoped>\n",
       "    .dataframe tbody tr th:only-of-type {\n",
       "        vertical-align: middle;\n",
       "    }\n",
       "\n",
       "    .dataframe tbody tr th {\n",
       "        vertical-align: top;\n",
       "    }\n",
       "\n",
       "    .dataframe thead th {\n",
       "        text-align: right;\n",
       "    }\n",
       "</style>\n",
       "<table border=\"1\" class=\"dataframe\">\n",
       "  <thead>\n",
       "    <tr style=\"text-align: right;\">\n",
       "      <th></th>\n",
       "      <th>mean_fit_time</th>\n",
       "      <th>std_fit_time</th>\n",
       "      <th>mean_score_time</th>\n",
       "      <th>std_score_time</th>\n",
       "      <th>param_C</th>\n",
       "      <th>params</th>\n",
       "      <th>split0_test_score</th>\n",
       "      <th>split1_test_score</th>\n",
       "      <th>split2_test_score</th>\n",
       "      <th>split3_test_score</th>\n",
       "      <th>split4_test_score</th>\n",
       "      <th>mean_test_score</th>\n",
       "      <th>std_test_score</th>\n",
       "      <th>rank_test_score</th>\n",
       "    </tr>\n",
       "  </thead>\n",
       "  <tbody>\n",
       "    <tr>\n",
       "      <th>6</th>\n",
       "      <td>3.726326</td>\n",
       "      <td>0.130475</td>\n",
       "      <td>0.009511</td>\n",
       "      <td>0.000833</td>\n",
       "      <td>0.232334</td>\n",
       "      <td>{'C': 0.23233444867279784}</td>\n",
       "      <td>0.962693</td>\n",
       "      <td>0.968227</td>\n",
       "      <td>0.956840</td>\n",
       "      <td>0.961949</td>\n",
       "      <td>0.960551</td>\n",
       "      <td>0.962052</td>\n",
       "      <td>0.003687</td>\n",
       "      <td>1</td>\n",
       "    </tr>\n",
       "    <tr>\n",
       "      <th>5</th>\n",
       "      <td>9.815611</td>\n",
       "      <td>0.452051</td>\n",
       "      <td>0.009016</td>\n",
       "      <td>0.000450</td>\n",
       "      <td>0.623978</td>\n",
       "      <td>{'C': 0.6239780813448106}</td>\n",
       "      <td>0.962731</td>\n",
       "      <td>0.968228</td>\n",
       "      <td>0.956767</td>\n",
       "      <td>0.961982</td>\n",
       "      <td>0.960510</td>\n",
       "      <td>0.962044</td>\n",
       "      <td>0.003713</td>\n",
       "      <td>3</td>\n",
       "    </tr>\n",
       "    <tr>\n",
       "      <th>4</th>\n",
       "      <td>9.402443</td>\n",
       "      <td>0.604710</td>\n",
       "      <td>0.009335</td>\n",
       "      <td>0.000597</td>\n",
       "      <td>0.624075</td>\n",
       "      <td>{'C': 0.6240745617697461}</td>\n",
       "      <td>0.962731</td>\n",
       "      <td>0.968228</td>\n",
       "      <td>0.956767</td>\n",
       "      <td>0.961982</td>\n",
       "      <td>0.960510</td>\n",
       "      <td>0.962044</td>\n",
       "      <td>0.003713</td>\n",
       "      <td>2</td>\n",
       "    </tr>\n",
       "    <tr>\n",
       "      <th>0</th>\n",
       "      <td>20.009992</td>\n",
       "      <td>0.735768</td>\n",
       "      <td>0.009698</td>\n",
       "      <td>0.000943</td>\n",
       "      <td>1.49816</td>\n",
       "      <td>{'C': 1.49816047538945}</td>\n",
       "      <td>0.962746</td>\n",
       "      <td>0.968237</td>\n",
       "      <td>0.956698</td>\n",
       "      <td>0.962003</td>\n",
       "      <td>0.960470</td>\n",
       "      <td>0.962031</td>\n",
       "      <td>0.003739</td>\n",
       "      <td>5</td>\n",
       "    </tr>\n",
       "    <tr>\n",
       "      <th>3</th>\n",
       "      <td>19.451480</td>\n",
       "      <td>0.384670</td>\n",
       "      <td>0.013516</td>\n",
       "      <td>0.008621</td>\n",
       "      <td>2.39463</td>\n",
       "      <td>{'C': 2.3946339367881464}</td>\n",
       "      <td>0.962758</td>\n",
       "      <td>0.968233</td>\n",
       "      <td>0.956696</td>\n",
       "      <td>0.962007</td>\n",
       "      <td>0.960461</td>\n",
       "      <td>0.962031</td>\n",
       "      <td>0.003739</td>\n",
       "      <td>4</td>\n",
       "    </tr>\n",
       "    <tr>\n",
       "      <th>8</th>\n",
       "      <td>17.116975</td>\n",
       "      <td>1.498897</td>\n",
       "      <td>0.008659</td>\n",
       "      <td>0.001653</td>\n",
       "      <td>2.40446</td>\n",
       "      <td>{'C': 2.404460046972835}</td>\n",
       "      <td>0.962758</td>\n",
       "      <td>0.968232</td>\n",
       "      <td>0.956696</td>\n",
       "      <td>0.962007</td>\n",
       "      <td>0.960461</td>\n",
       "      <td>0.962031</td>\n",
       "      <td>0.003739</td>\n",
       "      <td>6</td>\n",
       "    </tr>\n",
       "    <tr>\n",
       "      <th>9</th>\n",
       "      <td>14.348889</td>\n",
       "      <td>1.305182</td>\n",
       "      <td>0.005841</td>\n",
       "      <td>0.001067</td>\n",
       "      <td>2.83229</td>\n",
       "      <td>{'C': 2.832290311184182}</td>\n",
       "      <td>0.962760</td>\n",
       "      <td>0.968226</td>\n",
       "      <td>0.956688</td>\n",
       "      <td>0.962006</td>\n",
       "      <td>0.960461</td>\n",
       "      <td>0.962028</td>\n",
       "      <td>0.003740</td>\n",
       "      <td>7</td>\n",
       "    </tr>\n",
       "    <tr>\n",
       "      <th>2</th>\n",
       "      <td>19.717969</td>\n",
       "      <td>0.395682</td>\n",
       "      <td>0.010328</td>\n",
       "      <td>0.002716</td>\n",
       "      <td>2.92798</td>\n",
       "      <td>{'C': 2.9279757672456204}</td>\n",
       "      <td>0.962761</td>\n",
       "      <td>0.968228</td>\n",
       "      <td>0.956687</td>\n",
       "      <td>0.962003</td>\n",
       "      <td>0.960458</td>\n",
       "      <td>0.962027</td>\n",
       "      <td>0.003741</td>\n",
       "      <td>9</td>\n",
       "    </tr>\n",
       "    <tr>\n",
       "      <th>7</th>\n",
       "      <td>18.970401</td>\n",
       "      <td>0.625358</td>\n",
       "      <td>0.009083</td>\n",
       "      <td>0.000206</td>\n",
       "      <td>3.4647</td>\n",
       "      <td>{'C': 3.4647045830997407}</td>\n",
       "      <td>0.962761</td>\n",
       "      <td>0.968228</td>\n",
       "      <td>0.956687</td>\n",
       "      <td>0.962009</td>\n",
       "      <td>0.960453</td>\n",
       "      <td>0.962028</td>\n",
       "      <td>0.003741</td>\n",
       "      <td>8</td>\n",
       "    </tr>\n",
       "    <tr>\n",
       "      <th>1</th>\n",
       "      <td>20.206970</td>\n",
       "      <td>0.710743</td>\n",
       "      <td>0.009152</td>\n",
       "      <td>0.000238</td>\n",
       "      <td>3.80286</td>\n",
       "      <td>{'C': 3.8028572256396647}</td>\n",
       "      <td>0.962760</td>\n",
       "      <td>0.968227</td>\n",
       "      <td>0.956680</td>\n",
       "      <td>0.962013</td>\n",
       "      <td>0.960450</td>\n",
       "      <td>0.962026</td>\n",
       "      <td>0.003743</td>\n",
       "      <td>10</td>\n",
       "    </tr>\n",
       "  </tbody>\n",
       "</table>\n",
       "</div>"
      ],
      "text/plain": [
       "   mean_fit_time  std_fit_time  mean_score_time  std_score_time   param_C  \\\n",
       "6       3.726326      0.130475         0.009511        0.000833  0.232334   \n",
       "5       9.815611      0.452051         0.009016        0.000450  0.623978   \n",
       "4       9.402443      0.604710         0.009335        0.000597  0.624075   \n",
       "0      20.009992      0.735768         0.009698        0.000943   1.49816   \n",
       "3      19.451480      0.384670         0.013516        0.008621   2.39463   \n",
       "8      17.116975      1.498897         0.008659        0.001653   2.40446   \n",
       "9      14.348889      1.305182         0.005841        0.001067   2.83229   \n",
       "2      19.717969      0.395682         0.010328        0.002716   2.92798   \n",
       "7      18.970401      0.625358         0.009083        0.000206    3.4647   \n",
       "1      20.206970      0.710743         0.009152        0.000238   3.80286   \n",
       "\n",
       "                       params  split0_test_score  split1_test_score  \\\n",
       "6  {'C': 0.23233444867279784}           0.962693           0.968227   \n",
       "5   {'C': 0.6239780813448106}           0.962731           0.968228   \n",
       "4   {'C': 0.6240745617697461}           0.962731           0.968228   \n",
       "0     {'C': 1.49816047538945}           0.962746           0.968237   \n",
       "3   {'C': 2.3946339367881464}           0.962758           0.968233   \n",
       "8    {'C': 2.404460046972835}           0.962758           0.968232   \n",
       "9    {'C': 2.832290311184182}           0.962760           0.968226   \n",
       "2   {'C': 2.9279757672456204}           0.962761           0.968228   \n",
       "7   {'C': 3.4647045830997407}           0.962761           0.968228   \n",
       "1   {'C': 3.8028572256396647}           0.962760           0.968227   \n",
       "\n",
       "   split2_test_score  split3_test_score  split4_test_score  mean_test_score  \\\n",
       "6           0.956840           0.961949           0.960551         0.962052   \n",
       "5           0.956767           0.961982           0.960510         0.962044   \n",
       "4           0.956767           0.961982           0.960510         0.962044   \n",
       "0           0.956698           0.962003           0.960470         0.962031   \n",
       "3           0.956696           0.962007           0.960461         0.962031   \n",
       "8           0.956696           0.962007           0.960461         0.962031   \n",
       "9           0.956688           0.962006           0.960461         0.962028   \n",
       "2           0.956687           0.962003           0.960458         0.962027   \n",
       "7           0.956687           0.962009           0.960453         0.962028   \n",
       "1           0.956680           0.962013           0.960450         0.962026   \n",
       "\n",
       "   std_test_score  rank_test_score  \n",
       "6        0.003687                1  \n",
       "5        0.003713                3  \n",
       "4        0.003713                2  \n",
       "0        0.003739                5  \n",
       "3        0.003739                4  \n",
       "8        0.003739                6  \n",
       "9        0.003740                7  \n",
       "2        0.003741                9  \n",
       "7        0.003741                8  \n",
       "1        0.003743               10  "
      ]
     },
     "execution_count": 124,
     "metadata": {},
     "output_type": "execute_result"
    }
   ],
   "source": [
    "results = pd.DataFrame.from_dict(best_model.cv_results_)\n",
    "results=results.sort_values('param_C')\n",
    "results"
   ]
  },
  {
   "cell_type": "code",
   "execution_count": 125,
   "metadata": {},
   "outputs": [
    {
     "data": {
      "image/png": "[encoded data removed]",
      "text/plain": [
       "<Figure size 432x288 with 1 Axes>"
      ]
     },
     "metadata": {
      "needs_background": "light"
     },
     "output_type": "display_data"
    }
   ],
   "source": [
    "print_graph(results, 'param_C', 'mean_test_score', 'Hyperparameter - C', 'Test score')"
   ]
  },
  {
   "cell_type": "code",
   "execution_count": 126,
   "metadata": {},
   "outputs": [
    {
     "name": "stdout",
     "output_type": "stream",
     "text": [
      "[LibLinear][LibLinear][LibLinear][LibLinear][LibLinear]"
     ]
    },
    {
     "data": {
      "text/plain": [
       "CalibratedClassifierCV(base_estimator=LinearSVC(C=0.23233444867279784,\n",
       "                                                class_weight='balanced',\n",
       "                                                max_iter=2000, random_state=42,\n",
       "                                                verbose=2))"
      ]
     },
     "execution_count": 126,
     "metadata": {},
     "output_type": "execute_result"
    }
   ],
   "source": [
    "#https://stackoverflow.com/questions/26478000/converting-linearsvcs-decision-function-to-probabilities-scikit-learn-python\n",
    "model = LinearSVC(C=best_c,verbose=verbose,random_state=random_state,class_weight='balanced',max_iter=2000)\n",
    "model = CalibratedClassifierCV(model)\n",
    "model.fit(train_df_rc,y_train)"
   ]
  },
  {
   "cell_type": "code",
   "execution_count": 127,
   "metadata": {},
   "outputs": [],
   "source": [
    "predictions = model.predict_proba(test_df_rc)[:,1]\n",
    "save_submission(predictions, 'svm_rc.csv')"
   ]
  },
  {
   "cell_type": "markdown",
   "metadata": {},
   "source": [
    "![svm-rc](images/svm-rc.png)"
   ]
  },
  {
   "cell_type": "markdown",
   "metadata": {},
   "source": [
    "## 4.3 Logistic Regression with response encoding"
   ]
  },
  {
   "cell_type": "code",
   "execution_count": 128,
   "metadata": {},
   "outputs": [
    {
     "name": "stdout",
     "output_type": "stream",
     "text": [
      "Fitting 5 folds for each of 100 candidates, totalling 500 fits\n"
     ]
    },
    {
     "name": "stderr",
     "output_type": "stream",
     "text": [
      "[Parallel(n_jobs=-1)]: Using backend LokyBackend with 8 concurrent workers.\n",
      "[Parallel(n_jobs=-1)]: Done  25 tasks      | elapsed:    1.8s\n",
      "[Parallel(n_jobs=-1)]: Done 146 tasks      | elapsed:    9.9s\n",
      "[Parallel(n_jobs=-1)]: Done 349 tasks      | elapsed:   24.2s\n",
      "[Parallel(n_jobs=-1)]: Done 500 out of 500 | elapsed:   34.9s finished\n",
      "[Parallel(n_jobs=-1)]: Using backend LokyBackend with 8 concurrent workers.\n",
      "[Parallel(n_jobs=-1)]: Done   1 out of   1 | elapsed:    0.5s finished\n"
     ]
    }
   ],
   "source": [
    "C_val = uniform(loc=0, scale=4)\n",
    "lr= LogisticRegression(verbose=verbose,random_state=random_state,class_weight='balanced',solver='lbfgs',max_iter=500,n_jobs=-1)\n",
    "parameters={'C':C_val}\n",
    "clf = RandomizedSearchCV(lr,parameters,random_state=random_state,cv=cv,verbose=verbose,n_iter=100,scoring=scoring,n_jobs=-1)\n",
    "best_model = clf.fit(train_df_rc,y_train)"
   ]
  },
  {
   "cell_type": "code",
   "execution_count": 129,
   "metadata": {},
   "outputs": [
    {
     "data": {
      "text/plain": [
       "3.8783385110582342"
      ]
     },
     "execution_count": 129,
     "metadata": {},
     "output_type": "execute_result"
    }
   ],
   "source": [
    "best_c=best_model.best_params_['C']\n",
    "best_c"
   ]
  },
  {
   "cell_type": "code",
   "execution_count": 130,
   "metadata": {},
   "outputs": [
    {
     "data": {
      "text/html": [
       "<div>\n",
       "<style scoped>\n",
       "    .dataframe tbody tr th:only-of-type {\n",
       "        vertical-align: middle;\n",
       "    }\n",
       "\n",
       "    .dataframe tbody tr th {\n",
       "        vertical-align: top;\n",
       "    }\n",
       "\n",
       "    .dataframe thead th {\n",
       "        text-align: right;\n",
       "    }\n",
       "</style>\n",
       "<table border=\"1\" class=\"dataframe\">\n",
       "  <thead>\n",
       "    <tr style=\"text-align: right;\">\n",
       "      <th></th>\n",
       "      <th>mean_fit_time</th>\n",
       "      <th>std_fit_time</th>\n",
       "      <th>mean_score_time</th>\n",
       "      <th>std_score_time</th>\n",
       "      <th>param_C</th>\n",
       "      <th>params</th>\n",
       "      <th>split0_test_score</th>\n",
       "      <th>split1_test_score</th>\n",
       "      <th>split2_test_score</th>\n",
       "      <th>split3_test_score</th>\n",
       "      <th>split4_test_score</th>\n",
       "      <th>mean_test_score</th>\n",
       "      <th>std_test_score</th>\n",
       "      <th>rank_test_score</th>\n",
       "    </tr>\n",
       "  </thead>\n",
       "  <tbody>\n",
       "    <tr>\n",
       "      <th>72</th>\n",
       "      <td>0.419037</td>\n",
       "      <td>0.018913</td>\n",
       "      <td>0.014351</td>\n",
       "      <td>0.004590</td>\n",
       "      <td>0.0220885</td>\n",
       "      <td>{'C': 0.022088468494409597}</td>\n",
       "      <td>0.961174</td>\n",
       "      <td>0.966541</td>\n",
       "      <td>0.953542</td>\n",
       "      <td>0.960469</td>\n",
       "      <td>0.958646</td>\n",
       "      <td>0.960074</td>\n",
       "      <td>0.004193</td>\n",
       "      <td>100</td>\n",
       "    </tr>\n",
       "    <tr>\n",
       "      <th>10</th>\n",
       "      <td>0.377327</td>\n",
       "      <td>0.053768</td>\n",
       "      <td>0.012779</td>\n",
       "      <td>0.002567</td>\n",
       "      <td>0.082338</td>\n",
       "      <td>{'C': 0.08233797718320979}</td>\n",
       "      <td>0.962000</td>\n",
       "      <td>0.967349</td>\n",
       "      <td>0.954943</td>\n",
       "      <td>0.961462</td>\n",
       "      <td>0.959433</td>\n",
       "      <td>0.961037</td>\n",
       "      <td>0.004016</td>\n",
       "      <td>99</td>\n",
       "    </tr>\n",
       "    <tr>\n",
       "      <th>98</th>\n",
       "      <td>0.375209</td>\n",
       "      <td>0.049318</td>\n",
       "      <td>0.010560</td>\n",
       "      <td>0.000751</td>\n",
       "      <td>0.101677</td>\n",
       "      <td>{'C': 0.10167650697638075}</td>\n",
       "      <td>0.962099</td>\n",
       "      <td>0.967475</td>\n",
       "      <td>0.955163</td>\n",
       "      <td>0.961613</td>\n",
       "      <td>0.959566</td>\n",
       "      <td>0.961183</td>\n",
       "      <td>0.003987</td>\n",
       "      <td>98</td>\n",
       "    </tr>\n",
       "    <tr>\n",
       "      <th>42</th>\n",
       "      <td>0.392769</td>\n",
       "      <td>0.045860</td>\n",
       "      <td>0.014432</td>\n",
       "      <td>0.004220</td>\n",
       "      <td>0.137554</td>\n",
       "      <td>{'C': 0.13755408446087358}</td>\n",
       "      <td>0.962232</td>\n",
       "      <td>0.967616</td>\n",
       "      <td>0.955462</td>\n",
       "      <td>0.961811</td>\n",
       "      <td>0.959706</td>\n",
       "      <td>0.961365</td>\n",
       "      <td>0.003940</td>\n",
       "      <td>97</td>\n",
       "    </tr>\n",
       "    <tr>\n",
       "      <th>58</th>\n",
       "      <td>0.438569</td>\n",
       "      <td>0.077177</td>\n",
       "      <td>0.013336</td>\n",
       "      <td>0.003642</td>\n",
       "      <td>0.180909</td>\n",
       "      <td>{'C': 0.18090915564215226}</td>\n",
       "      <td>0.962303</td>\n",
       "      <td>0.967719</td>\n",
       "      <td>0.955701</td>\n",
       "      <td>0.961930</td>\n",
       "      <td>0.959816</td>\n",
       "      <td>0.961494</td>\n",
       "      <td>0.003898</td>\n",
       "      <td>96</td>\n",
       "    </tr>\n",
       "    <tr>\n",
       "      <th>...</th>\n",
       "      <td>...</td>\n",
       "      <td>...</td>\n",
       "      <td>...</td>\n",
       "      <td>...</td>\n",
       "      <td>...</td>\n",
       "      <td>...</td>\n",
       "      <td>...</td>\n",
       "      <td>...</td>\n",
       "      <td>...</td>\n",
       "      <td>...</td>\n",
       "      <td>...</td>\n",
       "      <td>...</td>\n",
       "      <td>...</td>\n",
       "      <td>...</td>\n",
       "    </tr>\n",
       "    <tr>\n",
       "      <th>1</th>\n",
       "      <td>0.506320</td>\n",
       "      <td>0.115184</td>\n",
       "      <td>0.009774</td>\n",
       "      <td>0.001500</td>\n",
       "      <td>3.80286</td>\n",
       "      <td>{'C': 3.8028572256396647}</td>\n",
       "      <td>0.962708</td>\n",
       "      <td>0.968389</td>\n",
       "      <td>0.956652</td>\n",
       "      <td>0.962017</td>\n",
       "      <td>0.960447</td>\n",
       "      <td>0.962042</td>\n",
       "      <td>0.003803</td>\n",
       "      <td>2</td>\n",
       "    </tr>\n",
       "    <tr>\n",
       "      <th>34</th>\n",
       "      <td>0.435505</td>\n",
       "      <td>0.063518</td>\n",
       "      <td>0.010841</td>\n",
       "      <td>0.001308</td>\n",
       "      <td>3.86253</td>\n",
       "      <td>{'C': 3.8625281322982374}</td>\n",
       "      <td>0.962709</td>\n",
       "      <td>0.968388</td>\n",
       "      <td>0.956649</td>\n",
       "      <td>0.962019</td>\n",
       "      <td>0.960447</td>\n",
       "      <td>0.962042</td>\n",
       "      <td>0.003804</td>\n",
       "      <td>3</td>\n",
       "    </tr>\n",
       "    <tr>\n",
       "      <th>50</th>\n",
       "      <td>0.560126</td>\n",
       "      <td>0.144761</td>\n",
       "      <td>0.012199</td>\n",
       "      <td>0.003007</td>\n",
       "      <td>3.87834</td>\n",
       "      <td>{'C': 3.8783385110582342}</td>\n",
       "      <td>0.962709</td>\n",
       "      <td>0.968387</td>\n",
       "      <td>0.956652</td>\n",
       "      <td>0.962019</td>\n",
       "      <td>0.960449</td>\n",
       "      <td>0.962043</td>\n",
       "      <td>0.003803</td>\n",
       "      <td>1</td>\n",
       "    </tr>\n",
       "    <tr>\n",
       "      <th>11</th>\n",
       "      <td>0.493065</td>\n",
       "      <td>0.118567</td>\n",
       "      <td>0.013844</td>\n",
       "      <td>0.004191</td>\n",
       "      <td>3.87964</td>\n",
       "      <td>{'C': 3.8796394086479773}</td>\n",
       "      <td>0.962705</td>\n",
       "      <td>0.968389</td>\n",
       "      <td>0.956641</td>\n",
       "      <td>0.962018</td>\n",
       "      <td>0.960449</td>\n",
       "      <td>0.962040</td>\n",
       "      <td>0.003806</td>\n",
       "      <td>7</td>\n",
       "    </tr>\n",
       "    <tr>\n",
       "      <th>69</th>\n",
       "      <td>0.649569</td>\n",
       "      <td>0.209739</td>\n",
       "      <td>0.016016</td>\n",
       "      <td>0.005468</td>\n",
       "      <td>3.94755</td>\n",
       "      <td>{'C': 3.947547746402069}</td>\n",
       "      <td>0.962702</td>\n",
       "      <td>0.968393</td>\n",
       "      <td>0.956641</td>\n",
       "      <td>0.962020</td>\n",
       "      <td>0.960447</td>\n",
       "      <td>0.962041</td>\n",
       "      <td>0.003808</td>\n",
       "      <td>6</td>\n",
       "    </tr>\n",
       "  </tbody>\n",
       "</table>\n",
       "<p>100 rows × 14 columns</p>\n",
       "</div>"
      ],
      "text/plain": [
       "    mean_fit_time  std_fit_time  mean_score_time  std_score_time    param_C  \\\n",
       "72       0.419037      0.018913         0.014351        0.004590  0.0220885   \n",
       "10       0.377327      0.053768         0.012779        0.002567   0.082338   \n",
       "98       0.375209      0.049318         0.010560        0.000751   0.101677   \n",
       "42       0.392769      0.045860         0.014432        0.004220   0.137554   \n",
       "58       0.438569      0.077177         0.013336        0.003642   0.180909   \n",
       "..            ...           ...              ...             ...        ...   \n",
       "1        0.506320      0.115184         0.009774        0.001500    3.80286   \n",
       "34       0.435505      0.063518         0.010841        0.001308    3.86253   \n",
       "50       0.560126      0.144761         0.012199        0.003007    3.87834   \n",
       "11       0.493065      0.118567         0.013844        0.004191    3.87964   \n",
       "69       0.649569      0.209739         0.016016        0.005468    3.94755   \n",
       "\n",
       "                         params  split0_test_score  split1_test_score  \\\n",
       "72  {'C': 0.022088468494409597}           0.961174           0.966541   \n",
       "10   {'C': 0.08233797718320979}           0.962000           0.967349   \n",
       "98   {'C': 0.10167650697638075}           0.962099           0.967475   \n",
       "42   {'C': 0.13755408446087358}           0.962232           0.967616   \n",
       "58   {'C': 0.18090915564215226}           0.962303           0.967719   \n",
       "..                          ...                ...                ...   \n",
       "1     {'C': 3.8028572256396647}           0.962708           0.968389   \n",
       "34    {'C': 3.8625281322982374}           0.962709           0.968388   \n",
       "50    {'C': 3.8783385110582342}           0.962709           0.968387   \n",
       "11    {'C': 3.8796394086479773}           0.962705           0.968389   \n",
       "69     {'C': 3.947547746402069}           0.962702           0.968393   \n",
       "\n",
       "    split2_test_score  split3_test_score  split4_test_score  mean_test_score  \\\n",
       "72           0.953542           0.960469           0.958646         0.960074   \n",
       "10           0.954943           0.961462           0.959433         0.961037   \n",
       "98           0.955163           0.961613           0.959566         0.961183   \n",
       "42           0.955462           0.961811           0.959706         0.961365   \n",
       "58           0.955701           0.961930           0.959816         0.961494   \n",
       "..                ...                ...                ...              ...   \n",
       "1            0.956652           0.962017           0.960447         0.962042   \n",
       "34           0.956649           0.962019           0.960447         0.962042   \n",
       "50           0.956652           0.962019           0.960449         0.962043   \n",
       "11           0.956641           0.962018           0.960449         0.962040   \n",
       "69           0.956641           0.962020           0.960447         0.962041   \n",
       "\n",
       "    std_test_score  rank_test_score  \n",
       "72        0.004193              100  \n",
       "10        0.004016               99  \n",
       "98        0.003987               98  \n",
       "42        0.003940               97  \n",
       "58        0.003898               96  \n",
       "..             ...              ...  \n",
       "1         0.003803                2  \n",
       "34        0.003804                3  \n",
       "50        0.003803                1  \n",
       "11        0.003806                7  \n",
       "69        0.003808                6  \n",
       "\n",
       "[100 rows x 14 columns]"
      ]
     },
     "execution_count": 130,
     "metadata": {},
     "output_type": "execute_result"
    }
   ],
   "source": [
    "results = pd.DataFrame.from_dict(best_model.cv_results_)\n",
    "results=results.sort_values('param_C')\n",
    "results"
   ]
  },
  {
   "cell_type": "code",
   "execution_count": 131,
   "metadata": {},
   "outputs": [
    {
     "data": {
      "image/png": "[encoded data removed]",
      "text/plain": [
       "<Figure size 432x288 with 1 Axes>"
      ]
     },
     "metadata": {
      "needs_background": "light"
     },
     "output_type": "display_data"
    }
   ],
   "source": [
    "print_graph(results, 'param_C', 'mean_test_score', 'Hyperparameter - C', 'Test score')"
   ]
  },
  {
   "cell_type": "code",
   "execution_count": 132,
   "metadata": {},
   "outputs": [
    {
     "name": "stderr",
     "output_type": "stream",
     "text": [
      "[Parallel(n_jobs=-1)]: Using backend LokyBackend with 8 concurrent workers.\n",
      "[Parallel(n_jobs=-1)]: Done   1 out of   1 | elapsed:    0.4s finished\n"
     ]
    },
    {
     "data": {
      "text/plain": [
       "LogisticRegression(C=3.8783385110582342, class_weight='balanced', n_jobs=-1,\n",
       "                   random_state=42, verbose=2)"
      ]
     },
     "execution_count": 132,
     "metadata": {},
     "output_type": "execute_result"
    }
   ],
   "source": [
    "model = LogisticRegression(C=best_c,verbose=verbose,n_jobs=-1,random_state=random_state,class_weight='balanced',solver='lbfgs')\n",
    "model.fit(train_df_rc,y_train)"
   ]
  },
  {
   "cell_type": "code",
   "execution_count": 133,
   "metadata": {},
   "outputs": [],
   "source": [
    "predictions = model.predict_proba(test_df_rc)[:,1]\n",
    "save_submission(predictions, 'lr_rc.csv')"
   ]
  },
  {
   "cell_type": "markdown",
   "metadata": {},
   "source": [
    "![lr-rc](images/lr-rc.png)"
   ]
  },
  {
   "cell_type": "markdown",
   "metadata": {},
   "source": [
    "## 4.4 Random Forest with response encoding"
   ]
  },
  {
   "cell_type": "code",
   "execution_count": 134,
   "metadata": {},
   "outputs": [
    {
     "name": "stdout",
     "output_type": "stream",
     "text": [
      "Fitting 5 folds for each of 100 candidates, totalling 500 fits\n"
     ]
    },
    {
     "name": "stderr",
     "output_type": "stream",
     "text": [
      "[Parallel(n_jobs=-1)]: Using backend LokyBackend with 8 concurrent workers.\n",
      "[Parallel(n_jobs=-1)]: Done  25 tasks      | elapsed:   19.0s\n",
      "[Parallel(n_jobs=-1)]: Done 146 tasks      | elapsed:  3.0min\n",
      "[Parallel(n_jobs=-1)]: Done 349 tasks      | elapsed:  7.0min\n",
      "[Parallel(n_jobs=-1)]: Done 500 out of 500 | elapsed: 10.3min finished\n"
     ]
    }
   ],
   "source": [
    "rfc = RandomForestClassifier(random_state=random_state,class_weight='balanced',n_jobs=-1)\n",
    "clf = RandomizedSearchCV(rfc,get_rf_params(),random_state=random_state,cv=cv,verbose=verbose,n_iter=100,scoring=scoring,n_jobs=-1)\n",
    "best_model = clf.fit(train_df_rc,y_train)"
   ]
  },
  {
   "cell_type": "code",
   "execution_count": 135,
   "metadata": {},
   "outputs": [
    {
     "data": {
      "text/html": [
       "<div>\n",
       "<style scoped>\n",
       "    .dataframe tbody tr th:only-of-type {\n",
       "        vertical-align: middle;\n",
       "    }\n",
       "\n",
       "    .dataframe tbody tr th {\n",
       "        vertical-align: top;\n",
       "    }\n",
       "\n",
       "    .dataframe thead th {\n",
       "        text-align: right;\n",
       "    }\n",
       "</style>\n",
       "<table border=\"1\" class=\"dataframe\">\n",
       "  <thead>\n",
       "    <tr style=\"text-align: right;\">\n",
       "      <th></th>\n",
       "      <th>param_n_estimators</th>\n",
       "      <th>param_max_depth</th>\n",
       "      <th>param_max_features</th>\n",
       "      <th>param_min_samples_split</th>\n",
       "      <th>mean_test_score</th>\n",
       "    </tr>\n",
       "  </thead>\n",
       "  <tbody>\n",
       "    <tr>\n",
       "      <th>68</th>\n",
       "      <td>1000</td>\n",
       "      <td>10</td>\n",
       "      <td>4</td>\n",
       "      <td>20</td>\n",
       "      <td>0.978213</td>\n",
       "    </tr>\n",
       "    <tr>\n",
       "      <th>26</th>\n",
       "      <td>700</td>\n",
       "      <td>12</td>\n",
       "      <td>4</td>\n",
       "      <td>20</td>\n",
       "      <td>0.978080</td>\n",
       "    </tr>\n",
       "    <tr>\n",
       "      <th>64</th>\n",
       "      <td>700</td>\n",
       "      <td>10</td>\n",
       "      <td>5</td>\n",
       "      <td>7</td>\n",
       "      <td>0.977829</td>\n",
       "    </tr>\n",
       "    <tr>\n",
       "      <th>82</th>\n",
       "      <td>700</td>\n",
       "      <td>20</td>\n",
       "      <td>5</td>\n",
       "      <td>20</td>\n",
       "      <td>0.977748</td>\n",
       "    </tr>\n",
       "    <tr>\n",
       "      <th>41</th>\n",
       "      <td>500</td>\n",
       "      <td>10</td>\n",
       "      <td>3</td>\n",
       "      <td>7</td>\n",
       "      <td>0.977430</td>\n",
       "    </tr>\n",
       "    <tr>\n",
       "      <th>96</th>\n",
       "      <td>100</td>\n",
       "      <td>10</td>\n",
       "      <td>3</td>\n",
       "      <td>10</td>\n",
       "      <td>0.977397</td>\n",
       "    </tr>\n",
       "    <tr>\n",
       "      <th>87</th>\n",
       "      <td>200</td>\n",
       "      <td>10</td>\n",
       "      <td>5</td>\n",
       "      <td>2</td>\n",
       "      <td>0.977377</td>\n",
       "    </tr>\n",
       "    <tr>\n",
       "      <th>11</th>\n",
       "      <td>1000</td>\n",
       "      <td>15</td>\n",
       "      <td>3</td>\n",
       "      <td>7</td>\n",
       "      <td>0.977211</td>\n",
       "    </tr>\n",
       "    <tr>\n",
       "      <th>85</th>\n",
       "      <td>1000</td>\n",
       "      <td>20</td>\n",
       "      <td>3</td>\n",
       "      <td>7</td>\n",
       "      <td>0.977043</td>\n",
       "    </tr>\n",
       "    <tr>\n",
       "      <th>25</th>\n",
       "      <td>700</td>\n",
       "      <td>15</td>\n",
       "      <td>4</td>\n",
       "      <td>7</td>\n",
       "      <td>0.976876</td>\n",
       "    </tr>\n",
       "  </tbody>\n",
       "</table>\n",
       "</div>"
      ],
      "text/plain": [
       "   param_n_estimators param_max_depth param_max_features  \\\n",
       "68               1000              10                  4   \n",
       "26                700              12                  4   \n",
       "64                700              10                  5   \n",
       "82                700              20                  5   \n",
       "41                500              10                  3   \n",
       "96                100              10                  3   \n",
       "87                200              10                  5   \n",
       "11               1000              15                  3   \n",
       "85               1000              20                  3   \n",
       "25                700              15                  4   \n",
       "\n",
       "   param_min_samples_split  mean_test_score  \n",
       "68                      20         0.978213  \n",
       "26                      20         0.978080  \n",
       "64                       7         0.977829  \n",
       "82                      20         0.977748  \n",
       "41                       7         0.977430  \n",
       "96                      10         0.977397  \n",
       "87                       2         0.977377  \n",
       "11                       7         0.977211  \n",
       "85                       7         0.977043  \n",
       "25                       7         0.976876  "
      ]
     },
     "execution_count": 135,
     "metadata": {},
     "output_type": "execute_result"
    }
   ],
   "source": [
    "results = pd.DataFrame(best_model.cv_results_)\n",
    "results.sort_values('mean_test_score',ascending=False,inplace=True)\n",
    "param_keys=['param_'+str(each) for each in get_rf_params().keys()]\n",
    "param_keys.append('mean_test_score')\n",
    "results[param_keys].head(10)"
   ]
  },
  {
   "cell_type": "code",
   "execution_count": 136,
   "metadata": {},
   "outputs": [
    {
     "data": {
      "text/plain": [
       "(1000, 4, 10, 20)"
      ]
     },
     "execution_count": 136,
     "metadata": {},
     "output_type": "execute_result"
    }
   ],
   "source": [
    "n_estimators=clf.best_params_['n_estimators']\n",
    "max_features=clf.best_params_['max_features']\n",
    "max_depth=clf.best_params_['max_depth']\n",
    "min_samples_split=clf.best_params_['min_samples_split']\n",
    "n_estimators,max_features,max_depth,min_samples_split"
   ]
  },
  {
   "cell_type": "code",
   "execution_count": 137,
   "metadata": {},
   "outputs": [
    {
     "data": {
      "text/plain": [
       "RandomForestClassifier(class_weight='balanced', max_depth=10, max_features=4,\n",
       "                       min_samples_split=20, n_estimators=1000, n_jobs=-1,\n",
       "                       random_state=42)"
      ]
     },
     "execution_count": 137,
     "metadata": {},
     "output_type": "execute_result"
    }
   ],
   "source": [
    "model=RandomForestClassifier(n_estimators=n_estimators,max_depth=max_depth,max_features=max_features,\n",
    "                             min_samples_split=min_samples_split,\n",
    "                             random_state=random_state,class_weight='balanced',n_jobs=-1)\n",
    "\n",
    "model.fit(train_df_rc,y_train)"
   ]
  },
  {
   "cell_type": "code",
   "execution_count": 138,
   "metadata": {},
   "outputs": [
    {
     "data": {
      "image/png": "[encoded data removed]",
      "text/plain": [
       "<Figure size 432x288 with 1 Axes>"
      ]
     },
     "metadata": {
      "needs_background": "light"
     },
     "output_type": "display_data"
    }
   ],
   "source": [
    "features=train_df_rc.columns\n",
    "importance=model.feature_importances_\n",
    "features=pd.DataFrame({'features':features,'value':importance})\n",
    "features=features.sort_values('value',ascending=False)\n",
    "sns.barplot('value','features',data=features);\n",
    "plt.title('Feature Importance');"
   ]
  },
  {
   "cell_type": "code",
   "execution_count": 139,
   "metadata": {},
   "outputs": [],
   "source": [
    "predictions = model.predict_proba(test_df_rc)[:,1]\n",
    "save_submission(predictions, 'rf_rc.csv')"
   ]
  },
  {
   "cell_type": "markdown",
   "metadata": {},
   "source": [
    "![rf-rc](images/rf-rc.png)"
   ]
  },
  {
   "cell_type": "markdown",
   "metadata": {},
   "source": [
    "## 4.5 Xgboost with response encoding"
   ]
  },
  {
   "cell_type": "code",
   "execution_count": 140,
   "metadata": {},
   "outputs": [
    {
     "name": "stdout",
     "output_type": "stream",
     "text": [
      "Fitting 5 folds for each of 100 candidates, totalling 500 fits\n"
     ]
    },
    {
     "name": "stderr",
     "output_type": "stream",
     "text": [
      "[Parallel(n_jobs=-1)]: Using backend LokyBackend with 8 concurrent workers.\n",
      "[Parallel(n_jobs=-1)]: Done  25 tasks      | elapsed:    7.3s\n",
      "[Parallel(n_jobs=-1)]: Done 146 tasks      | elapsed:  1.5min\n",
      "[Parallel(n_jobs=-1)]: Done 349 tasks      | elapsed:  4.0min\n",
      "[Parallel(n_jobs=-1)]: Done 500 out of 500 | elapsed:  6.7min finished\n"
     ]
    }
   ],
   "source": [
    "xgb = XGBClassifier()\n",
    "clf = RandomizedSearchCV(xgb,get_xgb_params(),random_state=random_state,cv=cv,verbose=verbose,n_iter=100,scoring=scoring,n_jobs=-1)\n",
    "best_model=clf.fit(train_df_rc,y_train)"
   ]
  },
  {
   "cell_type": "code",
   "execution_count": 141,
   "metadata": {},
   "outputs": [
    {
     "data": {
      "text/html": [
       "<div>\n",
       "<style scoped>\n",
       "    .dataframe tbody tr th:only-of-type {\n",
       "        vertical-align: middle;\n",
       "    }\n",
       "\n",
       "    .dataframe tbody tr th {\n",
       "        vertical-align: top;\n",
       "    }\n",
       "\n",
       "    .dataframe thead th {\n",
       "        text-align: right;\n",
       "    }\n",
       "</style>\n",
       "<table border=\"1\" class=\"dataframe\">\n",
       "  <thead>\n",
       "    <tr style=\"text-align: right;\">\n",
       "      <th></th>\n",
       "      <th>param_n_estimators</th>\n",
       "      <th>param_learning_rate</th>\n",
       "      <th>param_subsample</th>\n",
       "      <th>param_max_depth</th>\n",
       "      <th>param_colsample_bytree</th>\n",
       "      <th>param_min_child_weight</th>\n",
       "      <th>mean_test_score</th>\n",
       "    </tr>\n",
       "  </thead>\n",
       "  <tbody>\n",
       "    <tr>\n",
       "      <th>1</th>\n",
       "      <td>200</td>\n",
       "      <td>0.0699849</td>\n",
       "      <td>0.601115</td>\n",
       "      <td>5</td>\n",
       "      <td>0.445833</td>\n",
       "      <td>4</td>\n",
       "      <td>0.980332</td>\n",
       "    </tr>\n",
       "    <tr>\n",
       "      <th>28</th>\n",
       "      <td>500</td>\n",
       "      <td>0.0141713</td>\n",
       "      <td>0.222108</td>\n",
       "      <td>5</td>\n",
       "      <td>0.860731</td>\n",
       "      <td>1</td>\n",
       "      <td>0.980097</td>\n",
       "    </tr>\n",
       "    <tr>\n",
       "      <th>7</th>\n",
       "      <td>500</td>\n",
       "      <td>0.017959</td>\n",
       "      <td>0.808397</td>\n",
       "      <td>3</td>\n",
       "      <td>0.450499</td>\n",
       "      <td>4</td>\n",
       "      <td>0.980070</td>\n",
       "    </tr>\n",
       "    <tr>\n",
       "      <th>98</th>\n",
       "      <td>50</td>\n",
       "      <td>0.220131</td>\n",
       "      <td>0.777147</td>\n",
       "      <td>6</td>\n",
       "      <td>0.591889</td>\n",
       "      <td>3</td>\n",
       "      <td>0.979997</td>\n",
       "    </tr>\n",
       "    <tr>\n",
       "      <th>41</th>\n",
       "      <td>20</td>\n",
       "      <td>0.34312</td>\n",
       "      <td>0.996254</td>\n",
       "      <td>6</td>\n",
       "      <td>0.817222</td>\n",
       "      <td>1</td>\n",
       "      <td>0.979949</td>\n",
       "    </tr>\n",
       "    <tr>\n",
       "      <th>58</th>\n",
       "      <td>50</td>\n",
       "      <td>0.454461</td>\n",
       "      <td>0.708911</td>\n",
       "      <td>3</td>\n",
       "      <td>0.877373</td>\n",
       "      <td>1</td>\n",
       "      <td>0.979929</td>\n",
       "    </tr>\n",
       "    <tr>\n",
       "      <th>33</th>\n",
       "      <td>100</td>\n",
       "      <td>0.153737</td>\n",
       "      <td>0.447783</td>\n",
       "      <td>4</td>\n",
       "      <td>0.908266</td>\n",
       "      <td>1</td>\n",
       "      <td>0.979679</td>\n",
       "    </tr>\n",
       "    <tr>\n",
       "      <th>74</th>\n",
       "      <td>20</td>\n",
       "      <td>0.432195</td>\n",
       "      <td>0.763364</td>\n",
       "      <td>6</td>\n",
       "      <td>0.855461</td>\n",
       "      <td>4</td>\n",
       "      <td>0.979671</td>\n",
       "    </tr>\n",
       "    <tr>\n",
       "      <th>94</th>\n",
       "      <td>20</td>\n",
       "      <td>0.591191</td>\n",
       "      <td>0.618218</td>\n",
       "      <td>3</td>\n",
       "      <td>0.705831</td>\n",
       "      <td>2</td>\n",
       "      <td>0.979554</td>\n",
       "    </tr>\n",
       "    <tr>\n",
       "      <th>88</th>\n",
       "      <td>200</td>\n",
       "      <td>0.307937</td>\n",
       "      <td>0.895523</td>\n",
       "      <td>3</td>\n",
       "      <td>0.534327</td>\n",
       "      <td>2</td>\n",
       "      <td>0.979545</td>\n",
       "    </tr>\n",
       "  </tbody>\n",
       "</table>\n",
       "</div>"
      ],
      "text/plain": [
       "   param_n_estimators param_learning_rate param_subsample param_max_depth  \\\n",
       "1                 200           0.0699849        0.601115               5   \n",
       "28                500           0.0141713        0.222108               5   \n",
       "7                 500            0.017959        0.808397               3   \n",
       "98                 50            0.220131        0.777147               6   \n",
       "41                 20             0.34312        0.996254               6   \n",
       "58                 50            0.454461        0.708911               3   \n",
       "33                100            0.153737        0.447783               4   \n",
       "74                 20            0.432195        0.763364               6   \n",
       "94                 20            0.591191        0.618218               3   \n",
       "88                200            0.307937        0.895523               3   \n",
       "\n",
       "   param_colsample_bytree param_min_child_weight  mean_test_score  \n",
       "1                0.445833                      4         0.980332  \n",
       "28               0.860731                      1         0.980097  \n",
       "7                0.450499                      4         0.980070  \n",
       "98               0.591889                      3         0.979997  \n",
       "41               0.817222                      1         0.979949  \n",
       "58               0.877373                      1         0.979929  \n",
       "33               0.908266                      1         0.979679  \n",
       "74               0.855461                      4         0.979671  \n",
       "94               0.705831                      2         0.979554  \n",
       "88               0.534327                      2         0.979545  "
      ]
     },
     "execution_count": 141,
     "metadata": {},
     "output_type": "execute_result"
    }
   ],
   "source": [
    "results = pd.DataFrame(best_model.cv_results_)\n",
    "results.sort_values('mean_test_score',ascending=False,inplace=True)\n",
    "param_keys=['param_'+str(each) for each in get_xgb_params().keys()]\n",
    "param_keys.append('mean_test_score')\n",
    "results[param_keys].head(10)"
   ]
  },
  {
   "cell_type": "code",
   "execution_count": 142,
   "metadata": {},
   "outputs": [
    {
     "data": {
      "text/plain": [
       "(0.44583275285359114, 0.06998494949080172, 5, 4, 200, 0.6011150117432088)"
      ]
     },
     "execution_count": 142,
     "metadata": {},
     "output_type": "execute_result"
    }
   ],
   "source": [
    "colsample_bytree = clf.best_params_['colsample_bytree']\n",
    "learning_rate=clf.best_params_['learning_rate']\n",
    "max_depth=clf.best_params_['max_depth']\n",
    "min_child_weight=clf.best_params_['min_child_weight']\n",
    "n_estimators=clf.best_params_['n_estimators']\n",
    "subsample=clf.best_params_['subsample']\n",
    "colsample_bytree,learning_rate,max_depth,min_child_weight,n_estimators,subsample"
   ]
  },
  {
   "cell_type": "code",
   "execution_count": 143,
   "metadata": {},
   "outputs": [
    {
     "data": {
      "text/plain": [
       "XGBClassifier(base_score=0.5, booster='gbtree', colsample_bylevel=1,\n",
       "              colsample_bynode=1, colsample_bytree=0.44583275285359114, gamma=0,\n",
       "              gpu_id=-1, importance_type='gain', interaction_constraints='',\n",
       "              learning_rate=0.06998494949080172, max_delta_step=0, max_depth=5,\n",
       "              min_child_weight=4, missing=nan, monotone_constraints='()',\n",
       "              n_estimators=200, n_jobs=-1, num_parallel_tree=1, random_state=0,\n",
       "              reg_alpha=0, reg_lambda=1, scale_pos_weight=1,\n",
       "              subsample=0.6011150117432088, tree_method='exact',\n",
       "              validate_parameters=1, verbosity=None)"
      ]
     },
     "execution_count": 143,
     "metadata": {},
     "output_type": "execute_result"
    }
   ],
   "source": [
    "model = XGBClassifier(colsample_bytree=colsample_bytree,learning_rate=learning_rate,max_depth=max_depth,\n",
    "                     min_child_weight=min_child_weight,n_estimators=n_estimators,subsample=subsample,n_jobs=-1)\n",
    "\n",
    "model.fit(train_df_rc,y_train)"
   ]
  },
  {
   "cell_type": "code",
   "execution_count": 144,
   "metadata": {},
   "outputs": [
    {
     "data": {
      "image/png": "[encoded data removed]",
      "text/plain": [
       "<Figure size 432x288 with 1 Axes>"
      ]
     },
     "metadata": {
      "needs_background": "light"
     },
     "output_type": "display_data"
    }
   ],
   "source": [
    "features=train_df_rc.columns\n",
    "importance=model.feature_importances_\n",
    "features=pd.DataFrame({'features':features,'value':importance})\n",
    "features=features.sort_values('value',ascending=False)\n",
    "sns.barplot('value','features',data=features);\n",
    "plt.title('Feature Importance');"
   ]
  },
  {
   "cell_type": "code",
   "execution_count": 145,
   "metadata": {},
   "outputs": [],
   "source": [
    "predictions = model.predict_proba(test_df_rc)[:,1]\n",
    "save_submission(predictions, 'xgb_rc.csv')"
   ]
  },
  {
   "cell_type": "markdown",
   "metadata": {},
   "source": [
    "![xgb-rc](images/xgb-rc.png)"
   ]
  },
  {
   "cell_type": "markdown",
   "metadata": {},
   "source": [
    "![kaggle-submission-rc](images/kaggle-submission-rc.png)"
   ]
  },
  {
   "cell_type": "code",
   "execution_count": 146,
   "metadata": {},
   "outputs": [
    {
     "name": "stdout",
     "output_type": "stream",
     "text": [
      "+---------------------+---------+---------------+--------------+\n",
      "|        Model        | Feature | Private Score | Public Score |\n",
      "+---------------------+---------+---------------+--------------+\n",
      "|         KNN         |    rc   |    0.84352    |   0.85351    |\n",
      "|         SVM         |    rc   |     0.8516    |   0.86031    |\n",
      "| Logistic Regression |    rc   |    0.85322    |    0.8618    |\n",
      "|    Random Forest    |    rc   |    0.83136    |   0.83892    |\n",
      "|       Xgboost       |    rc   |    0.84135    |    0.8419    |\n",
      "+---------------------+---------+---------------+--------------+\n"
     ]
    }
   ],
   "source": [
    "from prettytable import PrettyTable\n",
    "\n",
    "x = PrettyTable(['Model', 'Feature', 'Private Score', 'Public Score'])\n",
    "x.add_row(['KNN','rc', 0.84352, 0.85351])\n",
    "x.add_row(['SVM', 'rc', 0.85160, 0.86031])\n",
    "x.add_row(['Logistic Regression', 'rc', 0.85322, 0.86180])\n",
    "x.add_row(['Random Forest', 'rc', 0.83136, 0.83892])\n",
    "x.add_row(['Xgboost', 'rc', 0.84135, 0.84190])\n",
    "\n",
    "print(x)"
   ]
  },
  {
   "cell_type": "markdown",
   "metadata": {},
   "source": [
    "# Observations:\n",
    "\n",
    "1. Every model performs good for this feature\n",
    "2. Linear models performs better than Tree based models"
   ]
  },
  {
   "cell_type": "markdown",
   "metadata": {},
   "source": [
    "# 5 Build model on SVD feature"
   ]
  },
  {
   "cell_type": "code",
   "execution_count": 147,
   "metadata": {},
   "outputs": [],
   "source": [
    "train_svd = pd.read_csv('data/train_svd.csv')\n",
    "test_svd = pd.read_csv('data/test_svd.csv')"
   ]
  },
  {
   "cell_type": "code",
   "execution_count": 148,
   "metadata": {},
   "outputs": [
    {
     "data": {
      "text/plain": [
       "((32769, 72), (58921, 72), (32769,))"
      ]
     },
     "execution_count": 148,
     "metadata": {},
     "output_type": "execute_result"
    }
   ],
   "source": [
    "train_svd.shape, test_svd.shape, y_train.shape"
   ]
  },
  {
   "cell_type": "markdown",
   "metadata": {},
   "source": [
    "## 5.1 KNN with SVD"
   ]
  },
  {
   "cell_type": "code",
   "execution_count": 149,
   "metadata": {},
   "outputs": [
    {
     "name": "stdout",
     "output_type": "stream",
     "text": [
      "Fitting 5 folds for each of 10 candidates, totalling 50 fits\n"
     ]
    },
    {
     "name": "stderr",
     "output_type": "stream",
     "text": [
      "[Parallel(n_jobs=-1)]: Using backend LokyBackend with 8 concurrent workers.\n",
      "[Parallel(n_jobs=-1)]: Done  25 tasks      | elapsed:   19.0s\n",
      "[Parallel(n_jobs=-1)]: Done  50 out of  50 | elapsed:   38.0s finished\n"
     ]
    }
   ],
   "source": [
    "parameters={'n_neighbors':np.arange(1,100, 5)}\n",
    "clf = RandomizedSearchCV(KNeighborsClassifier(n_jobs=-1),parameters,random_state=random_state,cv=cv,verbose=verbose,scoring=scoring,n_jobs=-1)\n",
    "best_model = clf.fit(train_svd,y_train)"
   ]
  },
  {
   "cell_type": "code",
   "execution_count": 150,
   "metadata": {},
   "outputs": [
    {
     "data": {
      "text/html": [
       "<div>\n",
       "<style scoped>\n",
       "    .dataframe tbody tr th:only-of-type {\n",
       "        vertical-align: middle;\n",
       "    }\n",
       "\n",
       "    .dataframe tbody tr th {\n",
       "        vertical-align: top;\n",
       "    }\n",
       "\n",
       "    .dataframe thead th {\n",
       "        text-align: right;\n",
       "    }\n",
       "</style>\n",
       "<table border=\"1\" class=\"dataframe\">\n",
       "  <thead>\n",
       "    <tr style=\"text-align: right;\">\n",
       "      <th></th>\n",
       "      <th>mean_fit_time</th>\n",
       "      <th>std_fit_time</th>\n",
       "      <th>mean_score_time</th>\n",
       "      <th>std_score_time</th>\n",
       "      <th>param_n_neighbors</th>\n",
       "      <th>params</th>\n",
       "      <th>split0_test_score</th>\n",
       "      <th>split1_test_score</th>\n",
       "      <th>split2_test_score</th>\n",
       "      <th>split3_test_score</th>\n",
       "      <th>split4_test_score</th>\n",
       "      <th>mean_test_score</th>\n",
       "      <th>std_test_score</th>\n",
       "      <th>rank_test_score</th>\n",
       "    </tr>\n",
       "  </thead>\n",
       "  <tbody>\n",
       "    <tr>\n",
       "      <th>0</th>\n",
       "      <td>0.526564</td>\n",
       "      <td>0.011169</td>\n",
       "      <td>1.004034</td>\n",
       "      <td>0.149404</td>\n",
       "      <td>1</td>\n",
       "      <td>{'n_neighbors': 1}</td>\n",
       "      <td>0.683686</td>\n",
       "      <td>0.708752</td>\n",
       "      <td>0.711678</td>\n",
       "      <td>0.695199</td>\n",
       "      <td>0.688302</td>\n",
       "      <td>0.697523</td>\n",
       "      <td>0.011030</td>\n",
       "      <td>10</td>\n",
       "    </tr>\n",
       "    <tr>\n",
       "      <th>3</th>\n",
       "      <td>1.944336</td>\n",
       "      <td>0.551025</td>\n",
       "      <td>1.655248</td>\n",
       "      <td>0.153292</td>\n",
       "      <td>6</td>\n",
       "      <td>{'n_neighbors': 6}</td>\n",
       "      <td>0.774836</td>\n",
       "      <td>0.790142</td>\n",
       "      <td>0.790174</td>\n",
       "      <td>0.802106</td>\n",
       "      <td>0.796821</td>\n",
       "      <td>0.790816</td>\n",
       "      <td>0.009162</td>\n",
       "      <td>1</td>\n",
       "    </tr>\n",
       "    <tr>\n",
       "      <th>7</th>\n",
       "      <td>2.016851</td>\n",
       "      <td>0.954735</td>\n",
       "      <td>3.149633</td>\n",
       "      <td>0.351339</td>\n",
       "      <td>16</td>\n",
       "      <td>{'n_neighbors': 16}</td>\n",
       "      <td>0.775776</td>\n",
       "      <td>0.805809</td>\n",
       "      <td>0.785608</td>\n",
       "      <td>0.791553</td>\n",
       "      <td>0.781162</td>\n",
       "      <td>0.787981</td>\n",
       "      <td>0.010312</td>\n",
       "      <td>2</td>\n",
       "    </tr>\n",
       "    <tr>\n",
       "      <th>5</th>\n",
       "      <td>2.240037</td>\n",
       "      <td>0.818733</td>\n",
       "      <td>3.354217</td>\n",
       "      <td>0.898707</td>\n",
       "      <td>26</td>\n",
       "      <td>{'n_neighbors': 26}</td>\n",
       "      <td>0.767621</td>\n",
       "      <td>0.787773</td>\n",
       "      <td>0.778761</td>\n",
       "      <td>0.774628</td>\n",
       "      <td>0.773609</td>\n",
       "      <td>0.776478</td>\n",
       "      <td>0.006677</td>\n",
       "      <td>3</td>\n",
       "    </tr>\n",
       "    <tr>\n",
       "      <th>4</th>\n",
       "      <td>1.967969</td>\n",
       "      <td>0.228458</td>\n",
       "      <td>3.715187</td>\n",
       "      <td>1.218701</td>\n",
       "      <td>41</td>\n",
       "      <td>{'n_neighbors': 41}</td>\n",
       "      <td>0.756356</td>\n",
       "      <td>0.776811</td>\n",
       "      <td>0.769727</td>\n",
       "      <td>0.761724</td>\n",
       "      <td>0.757368</td>\n",
       "      <td>0.764398</td>\n",
       "      <td>0.007794</td>\n",
       "      <td>4</td>\n",
       "    </tr>\n",
       "    <tr>\n",
       "      <th>6</th>\n",
       "      <td>1.281747</td>\n",
       "      <td>0.189357</td>\n",
       "      <td>5.637847</td>\n",
       "      <td>0.125865</td>\n",
       "      <td>56</td>\n",
       "      <td>{'n_neighbors': 56}</td>\n",
       "      <td>0.748039</td>\n",
       "      <td>0.760013</td>\n",
       "      <td>0.760727</td>\n",
       "      <td>0.752137</td>\n",
       "      <td>0.751543</td>\n",
       "      <td>0.754492</td>\n",
       "      <td>0.005005</td>\n",
       "      <td>5</td>\n",
       "    </tr>\n",
       "    <tr>\n",
       "      <th>2</th>\n",
       "      <td>2.475243</td>\n",
       "      <td>0.578326</td>\n",
       "      <td>5.100802</td>\n",
       "      <td>0.859254</td>\n",
       "      <td>76</td>\n",
       "      <td>{'n_neighbors': 76}</td>\n",
       "      <td>0.732281</td>\n",
       "      <td>0.737831</td>\n",
       "      <td>0.753871</td>\n",
       "      <td>0.732209</td>\n",
       "      <td>0.742187</td>\n",
       "      <td>0.739676</td>\n",
       "      <td>0.008021</td>\n",
       "      <td>6</td>\n",
       "    </tr>\n",
       "    <tr>\n",
       "      <th>9</th>\n",
       "      <td>2.189955</td>\n",
       "      <td>1.122140</td>\n",
       "      <td>3.499732</td>\n",
       "      <td>1.791585</td>\n",
       "      <td>81</td>\n",
       "      <td>{'n_neighbors': 81}</td>\n",
       "      <td>0.730612</td>\n",
       "      <td>0.731773</td>\n",
       "      <td>0.751814</td>\n",
       "      <td>0.731879</td>\n",
       "      <td>0.743131</td>\n",
       "      <td>0.737842</td>\n",
       "      <td>0.008341</td>\n",
       "      <td>7</td>\n",
       "    </tr>\n",
       "    <tr>\n",
       "      <th>1</th>\n",
       "      <td>1.204084</td>\n",
       "      <td>0.808660</td>\n",
       "      <td>5.773037</td>\n",
       "      <td>0.319467</td>\n",
       "      <td>86</td>\n",
       "      <td>{'n_neighbors': 86}</td>\n",
       "      <td>0.728424</td>\n",
       "      <td>0.728917</td>\n",
       "      <td>0.747933</td>\n",
       "      <td>0.731289</td>\n",
       "      <td>0.745360</td>\n",
       "      <td>0.736385</td>\n",
       "      <td>0.008474</td>\n",
       "      <td>8</td>\n",
       "    </tr>\n",
       "    <tr>\n",
       "      <th>8</th>\n",
       "      <td>0.703830</td>\n",
       "      <td>0.153865</td>\n",
       "      <td>7.607220</td>\n",
       "      <td>0.172469</td>\n",
       "      <td>91</td>\n",
       "      <td>{'n_neighbors': 91}</td>\n",
       "      <td>0.724298</td>\n",
       "      <td>0.725631</td>\n",
       "      <td>0.742431</td>\n",
       "      <td>0.728516</td>\n",
       "      <td>0.744969</td>\n",
       "      <td>0.733169</td>\n",
       "      <td>0.008743</td>\n",
       "      <td>9</td>\n",
       "    </tr>\n",
       "  </tbody>\n",
       "</table>\n",
       "</div>"
      ],
      "text/plain": [
       "   mean_fit_time  std_fit_time  mean_score_time  std_score_time  \\\n",
       "0       0.526564      0.011169         1.004034        0.149404   \n",
       "3       1.944336      0.551025         1.655248        0.153292   \n",
       "7       2.016851      0.954735         3.149633        0.351339   \n",
       "5       2.240037      0.818733         3.354217        0.898707   \n",
       "4       1.967969      0.228458         3.715187        1.218701   \n",
       "6       1.281747      0.189357         5.637847        0.125865   \n",
       "2       2.475243      0.578326         5.100802        0.859254   \n",
       "9       2.189955      1.122140         3.499732        1.791585   \n",
       "1       1.204084      0.808660         5.773037        0.319467   \n",
       "8       0.703830      0.153865         7.607220        0.172469   \n",
       "\n",
       "  param_n_neighbors               params  split0_test_score  \\\n",
       "0                 1   {'n_neighbors': 1}           0.683686   \n",
       "3                 6   {'n_neighbors': 6}           0.774836   \n",
       "7                16  {'n_neighbors': 16}           0.775776   \n",
       "5                26  {'n_neighbors': 26}           0.767621   \n",
       "4                41  {'n_neighbors': 41}           0.756356   \n",
       "6                56  {'n_neighbors': 56}           0.748039   \n",
       "2                76  {'n_neighbors': 76}           0.732281   \n",
       "9                81  {'n_neighbors': 81}           0.730612   \n",
       "1                86  {'n_neighbors': 86}           0.728424   \n",
       "8                91  {'n_neighbors': 91}           0.724298   \n",
       "\n",
       "   split1_test_score  split2_test_score  split3_test_score  split4_test_score  \\\n",
       "0           0.708752           0.711678           0.695199           0.688302   \n",
       "3           0.790142           0.790174           0.802106           0.796821   \n",
       "7           0.805809           0.785608           0.791553           0.781162   \n",
       "5           0.787773           0.778761           0.774628           0.773609   \n",
       "4           0.776811           0.769727           0.761724           0.757368   \n",
       "6           0.760013           0.760727           0.752137           0.751543   \n",
       "2           0.737831           0.753871           0.732209           0.742187   \n",
       "9           0.731773           0.751814           0.731879           0.743131   \n",
       "1           0.728917           0.747933           0.731289           0.745360   \n",
       "8           0.725631           0.742431           0.728516           0.744969   \n",
       "\n",
       "   mean_test_score  std_test_score  rank_test_score  \n",
       "0         0.697523        0.011030               10  \n",
       "3         0.790816        0.009162                1  \n",
       "7         0.787981        0.010312                2  \n",
       "5         0.776478        0.006677                3  \n",
       "4         0.764398        0.007794                4  \n",
       "6         0.754492        0.005005                5  \n",
       "2         0.739676        0.008021                6  \n",
       "9         0.737842        0.008341                7  \n",
       "1         0.736385        0.008474                8  \n",
       "8         0.733169        0.008743                9  "
      ]
     },
     "execution_count": 150,
     "metadata": {},
     "output_type": "execute_result"
    }
   ],
   "source": [
    "results = pd.DataFrame.from_dict(best_model.cv_results_)\n",
    "results=results.sort_values('param_n_neighbors')\n",
    "results"
   ]
  },
  {
   "cell_type": "code",
   "execution_count": 151,
   "metadata": {},
   "outputs": [
    {
     "data": {
      "image/png": "[encoded data removed]",
      "text/plain": [
       "<Figure size 432x288 with 1 Axes>"
      ]
     },
     "metadata": {
      "needs_background": "light"
     },
     "output_type": "display_data"
    }
   ],
   "source": [
    "print_graph(results, 'param_n_neighbors', 'mean_test_score', 'Hyperparameter - No. of neighbors', 'Test score')  "
   ]
  },
  {
   "cell_type": "code",
   "execution_count": 152,
   "metadata": {},
   "outputs": [
    {
     "data": {
      "text/plain": [
       "6"
      ]
     },
     "execution_count": 152,
     "metadata": {},
     "output_type": "execute_result"
    }
   ],
   "source": [
    "best_c=best_model.best_params_['n_neighbors']\n",
    "best_c"
   ]
  },
  {
   "cell_type": "code",
   "execution_count": 153,
   "metadata": {},
   "outputs": [
    {
     "data": {
      "text/plain": [
       "KNeighborsClassifier(n_jobs=-1, n_neighbors=6)"
      ]
     },
     "execution_count": 153,
     "metadata": {},
     "output_type": "execute_result"
    }
   ],
   "source": [
    "model = KNeighborsClassifier(n_neighbors=best_c,n_jobs=-1)\n",
    "model.fit(train_svd,y_train)"
   ]
  },
  {
   "cell_type": "code",
   "execution_count": 154,
   "metadata": {},
   "outputs": [],
   "source": [
    "predictions = model.predict_proba(test_svd)[:,1]\n",
    "save_submission(predictions, \"knn_svd.csv\")"
   ]
  },
  {
   "cell_type": "markdown",
   "metadata": {},
   "source": [
    "![knn-svd](images/knn-svd.png)"
   ]
  },
  {
   "cell_type": "markdown",
   "metadata": {},
   "source": [
    "## 5.2 SVM with SVD"
   ]
  },
  {
   "cell_type": "code",
   "execution_count": 155,
   "metadata": {},
   "outputs": [
    {
     "name": "stdout",
     "output_type": "stream",
     "text": [
      "Fitting 5 folds for each of 10 candidates, totalling 50 fits\n"
     ]
    },
    {
     "name": "stderr",
     "output_type": "stream",
     "text": [
      "[Parallel(n_jobs=-1)]: Using backend LokyBackend with 8 concurrent workers.\n",
      "[Parallel(n_jobs=-1)]: Done  25 tasks      | elapsed:  1.5min\n",
      "[Parallel(n_jobs=-1)]: Done  50 out of  50 | elapsed:  2.7min finished\n"
     ]
    },
    {
     "name": "stdout",
     "output_type": "stream",
     "text": [
      "[LibLinear]"
     ]
    }
   ],
   "source": [
    "C_val = uniform(loc=0, scale=4)\n",
    "model= LinearSVC(verbose=verbose,random_state=random_state,class_weight='balanced',max_iter=2000)\n",
    "parameters={'C':C_val}\n",
    "clf = RandomizedSearchCV(model,parameters,random_state=random_state,cv=cv,verbose=verbose,scoring=scoring,n_jobs=-1)\n",
    "best_model = clf.fit(train_svd,y_train)"
   ]
  },
  {
   "cell_type": "code",
   "execution_count": 156,
   "metadata": {},
   "outputs": [
    {
     "data": {
      "text/plain": [
       "3.8028572256396647"
      ]
     },
     "execution_count": 156,
     "metadata": {},
     "output_type": "execute_result"
    }
   ],
   "source": [
    "best_c=best_model.best_params_['C']\n",
    "best_c"
   ]
  },
  {
   "cell_type": "code",
   "execution_count": 157,
   "metadata": {},
   "outputs": [
    {
     "data": {
      "text/html": [
       "<div>\n",
       "<style scoped>\n",
       "    .dataframe tbody tr th:only-of-type {\n",
       "        vertical-align: middle;\n",
       "    }\n",
       "\n",
       "    .dataframe tbody tr th {\n",
       "        vertical-align: top;\n",
       "    }\n",
       "\n",
       "    .dataframe thead th {\n",
       "        text-align: right;\n",
       "    }\n",
       "</style>\n",
       "<table border=\"1\" class=\"dataframe\">\n",
       "  <thead>\n",
       "    <tr style=\"text-align: right;\">\n",
       "      <th></th>\n",
       "      <th>mean_fit_time</th>\n",
       "      <th>std_fit_time</th>\n",
       "      <th>mean_score_time</th>\n",
       "      <th>std_score_time</th>\n",
       "      <th>param_C</th>\n",
       "      <th>params</th>\n",
       "      <th>split0_test_score</th>\n",
       "      <th>split1_test_score</th>\n",
       "      <th>split2_test_score</th>\n",
       "      <th>split3_test_score</th>\n",
       "      <th>split4_test_score</th>\n",
       "      <th>mean_test_score</th>\n",
       "      <th>std_test_score</th>\n",
       "      <th>rank_test_score</th>\n",
       "    </tr>\n",
       "  </thead>\n",
       "  <tbody>\n",
       "    <tr>\n",
       "      <th>6</th>\n",
       "      <td>2.968880</td>\n",
       "      <td>0.150177</td>\n",
       "      <td>0.016558</td>\n",
       "      <td>0.002776</td>\n",
       "      <td>0.232334</td>\n",
       "      <td>{'C': 0.23233444867279784}</td>\n",
       "      <td>0.634839</td>\n",
       "      <td>0.636558</td>\n",
       "      <td>0.625390</td>\n",
       "      <td>0.631673</td>\n",
       "      <td>0.648453</td>\n",
       "      <td>0.635383</td>\n",
       "      <td>0.007565</td>\n",
       "      <td>10</td>\n",
       "    </tr>\n",
       "    <tr>\n",
       "      <th>5</th>\n",
       "      <td>6.587434</td>\n",
       "      <td>0.301619</td>\n",
       "      <td>0.012963</td>\n",
       "      <td>0.000876</td>\n",
       "      <td>0.623978</td>\n",
       "      <td>{'C': 0.6239780813448106}</td>\n",
       "      <td>0.640705</td>\n",
       "      <td>0.639460</td>\n",
       "      <td>0.626744</td>\n",
       "      <td>0.635352</td>\n",
       "      <td>0.651394</td>\n",
       "      <td>0.638731</td>\n",
       "      <td>0.007999</td>\n",
       "      <td>9</td>\n",
       "    </tr>\n",
       "    <tr>\n",
       "      <th>4</th>\n",
       "      <td>6.343227</td>\n",
       "      <td>0.065596</td>\n",
       "      <td>0.012513</td>\n",
       "      <td>0.000442</td>\n",
       "      <td>0.624075</td>\n",
       "      <td>{'C': 0.6240745617697461}</td>\n",
       "      <td>0.640705</td>\n",
       "      <td>0.639463</td>\n",
       "      <td>0.626747</td>\n",
       "      <td>0.635353</td>\n",
       "      <td>0.651395</td>\n",
       "      <td>0.638732</td>\n",
       "      <td>0.007998</td>\n",
       "      <td>8</td>\n",
       "    </tr>\n",
       "    <tr>\n",
       "      <th>0</th>\n",
       "      <td>17.291072</td>\n",
       "      <td>1.080804</td>\n",
       "      <td>0.016185</td>\n",
       "      <td>0.007285</td>\n",
       "      <td>1.49816</td>\n",
       "      <td>{'C': 1.49816047538945}</td>\n",
       "      <td>0.645319</td>\n",
       "      <td>0.641522</td>\n",
       "      <td>0.628096</td>\n",
       "      <td>0.639863</td>\n",
       "      <td>0.652860</td>\n",
       "      <td>0.641532</td>\n",
       "      <td>0.008075</td>\n",
       "      <td>7</td>\n",
       "    </tr>\n",
       "    <tr>\n",
       "      <th>3</th>\n",
       "      <td>29.455153</td>\n",
       "      <td>0.767611</td>\n",
       "      <td>0.015290</td>\n",
       "      <td>0.003827</td>\n",
       "      <td>2.39463</td>\n",
       "      <td>{'C': 2.3946339367881464}</td>\n",
       "      <td>0.646977</td>\n",
       "      <td>0.641498</td>\n",
       "      <td>0.628038</td>\n",
       "      <td>0.641603</td>\n",
       "      <td>0.653376</td>\n",
       "      <td>0.642298</td>\n",
       "      <td>0.008356</td>\n",
       "      <td>6</td>\n",
       "    </tr>\n",
       "    <tr>\n",
       "      <th>8</th>\n",
       "      <td>29.985117</td>\n",
       "      <td>1.952692</td>\n",
       "      <td>0.012303</td>\n",
       "      <td>0.002009</td>\n",
       "      <td>2.40446</td>\n",
       "      <td>{'C': 2.404460046972835}</td>\n",
       "      <td>0.646977</td>\n",
       "      <td>0.641494</td>\n",
       "      <td>0.628043</td>\n",
       "      <td>0.641614</td>\n",
       "      <td>0.653371</td>\n",
       "      <td>0.642300</td>\n",
       "      <td>0.008353</td>\n",
       "      <td>5</td>\n",
       "    </tr>\n",
       "    <tr>\n",
       "      <th>9</th>\n",
       "      <td>27.816009</td>\n",
       "      <td>2.354661</td>\n",
       "      <td>0.007257</td>\n",
       "      <td>0.000748</td>\n",
       "      <td>2.83229</td>\n",
       "      <td>{'C': 2.832290311184182}</td>\n",
       "      <td>0.647186</td>\n",
       "      <td>0.641545</td>\n",
       "      <td>0.627889</td>\n",
       "      <td>0.641841</td>\n",
       "      <td>0.653459</td>\n",
       "      <td>0.642384</td>\n",
       "      <td>0.008448</td>\n",
       "      <td>4</td>\n",
       "    </tr>\n",
       "    <tr>\n",
       "      <th>2</th>\n",
       "      <td>36.411890</td>\n",
       "      <td>2.210566</td>\n",
       "      <td>0.012634</td>\n",
       "      <td>0.000489</td>\n",
       "      <td>2.92798</td>\n",
       "      <td>{'C': 2.9279757672456204}</td>\n",
       "      <td>0.647245</td>\n",
       "      <td>0.641560</td>\n",
       "      <td>0.627827</td>\n",
       "      <td>0.641863</td>\n",
       "      <td>0.653489</td>\n",
       "      <td>0.642397</td>\n",
       "      <td>0.008483</td>\n",
       "      <td>3</td>\n",
       "    </tr>\n",
       "    <tr>\n",
       "      <th>7</th>\n",
       "      <td>44.704208</td>\n",
       "      <td>1.334583</td>\n",
       "      <td>0.012921</td>\n",
       "      <td>0.000702</td>\n",
       "      <td>3.4647</td>\n",
       "      <td>{'C': 3.4647045830997407}</td>\n",
       "      <td>0.647549</td>\n",
       "      <td>0.641669</td>\n",
       "      <td>0.627698</td>\n",
       "      <td>0.642045</td>\n",
       "      <td>0.653490</td>\n",
       "      <td>0.642490</td>\n",
       "      <td>0.008559</td>\n",
       "      <td>2</td>\n",
       "    </tr>\n",
       "    <tr>\n",
       "      <th>1</th>\n",
       "      <td>48.909459</td>\n",
       "      <td>2.384907</td>\n",
       "      <td>0.016626</td>\n",
       "      <td>0.005413</td>\n",
       "      <td>3.80286</td>\n",
       "      <td>{'C': 3.8028572256396647}</td>\n",
       "      <td>0.647759</td>\n",
       "      <td>0.641743</td>\n",
       "      <td>0.627645</td>\n",
       "      <td>0.642088</td>\n",
       "      <td>0.653549</td>\n",
       "      <td>0.642557</td>\n",
       "      <td>0.008615</td>\n",
       "      <td>1</td>\n",
       "    </tr>\n",
       "  </tbody>\n",
       "</table>\n",
       "</div>"
      ],
      "text/plain": [
       "   mean_fit_time  std_fit_time  mean_score_time  std_score_time   param_C  \\\n",
       "6       2.968880      0.150177         0.016558        0.002776  0.232334   \n",
       "5       6.587434      0.301619         0.012963        0.000876  0.623978   \n",
       "4       6.343227      0.065596         0.012513        0.000442  0.624075   \n",
       "0      17.291072      1.080804         0.016185        0.007285   1.49816   \n",
       "3      29.455153      0.767611         0.015290        0.003827   2.39463   \n",
       "8      29.985117      1.952692         0.012303        0.002009   2.40446   \n",
       "9      27.816009      2.354661         0.007257        0.000748   2.83229   \n",
       "2      36.411890      2.210566         0.012634        0.000489   2.92798   \n",
       "7      44.704208      1.334583         0.012921        0.000702    3.4647   \n",
       "1      48.909459      2.384907         0.016626        0.005413   3.80286   \n",
       "\n",
       "                       params  split0_test_score  split1_test_score  \\\n",
       "6  {'C': 0.23233444867279784}           0.634839           0.636558   \n",
       "5   {'C': 0.6239780813448106}           0.640705           0.639460   \n",
       "4   {'C': 0.6240745617697461}           0.640705           0.639463   \n",
       "0     {'C': 1.49816047538945}           0.645319           0.641522   \n",
       "3   {'C': 2.3946339367881464}           0.646977           0.641498   \n",
       "8    {'C': 2.404460046972835}           0.646977           0.641494   \n",
       "9    {'C': 2.832290311184182}           0.647186           0.641545   \n",
       "2   {'C': 2.9279757672456204}           0.647245           0.641560   \n",
       "7   {'C': 3.4647045830997407}           0.647549           0.641669   \n",
       "1   {'C': 3.8028572256396647}           0.647759           0.641743   \n",
       "\n",
       "   split2_test_score  split3_test_score  split4_test_score  mean_test_score  \\\n",
       "6           0.625390           0.631673           0.648453         0.635383   \n",
       "5           0.626744           0.635352           0.651394         0.638731   \n",
       "4           0.626747           0.635353           0.651395         0.638732   \n",
       "0           0.628096           0.639863           0.652860         0.641532   \n",
       "3           0.628038           0.641603           0.653376         0.642298   \n",
       "8           0.628043           0.641614           0.653371         0.642300   \n",
       "9           0.627889           0.641841           0.653459         0.642384   \n",
       "2           0.627827           0.641863           0.653489         0.642397   \n",
       "7           0.627698           0.642045           0.653490         0.642490   \n",
       "1           0.627645           0.642088           0.653549         0.642557   \n",
       "\n",
       "   std_test_score  rank_test_score  \n",
       "6        0.007565               10  \n",
       "5        0.007999                9  \n",
       "4        0.007998                8  \n",
       "0        0.008075                7  \n",
       "3        0.008356                6  \n",
       "8        0.008353                5  \n",
       "9        0.008448                4  \n",
       "2        0.008483                3  \n",
       "7        0.008559                2  \n",
       "1        0.008615                1  "
      ]
     },
     "execution_count": 157,
     "metadata": {},
     "output_type": "execute_result"
    }
   ],
   "source": [
    "results = pd.DataFrame.from_dict(best_model.cv_results_)\n",
    "results=results.sort_values('param_C')\n",
    "results"
   ]
  },
  {
   "cell_type": "code",
   "execution_count": 158,
   "metadata": {},
   "outputs": [
    {
     "data": {
      "image/png": "[encoded data removed]",
      "text/plain": [
       "<Figure size 432x288 with 1 Axes>"
      ]
     },
     "metadata": {
      "needs_background": "light"
     },
     "output_type": "display_data"
    }
   ],
   "source": [
    "print_graph(results, 'param_C', 'mean_test_score', 'Hyperparameter - C', 'Test score')"
   ]
  },
  {
   "cell_type": "code",
   "execution_count": 159,
   "metadata": {},
   "outputs": [
    {
     "name": "stdout",
     "output_type": "stream",
     "text": [
      "[LibLinear][LibLinear][LibLinear][LibLinear][LibLinear]"
     ]
    },
    {
     "data": {
      "text/plain": [
       "CalibratedClassifierCV(base_estimator=LinearSVC(C=3.8028572256396647,\n",
       "                                                class_weight='balanced',\n",
       "                                                max_iter=2000, random_state=42,\n",
       "                                                verbose=2))"
      ]
     },
     "execution_count": 159,
     "metadata": {},
     "output_type": "execute_result"
    }
   ],
   "source": [
    "#https://stackoverflow.com/questions/26478000/converting-linearsvcs-decision-function-to-probabilities-scikit-learn-python\n",
    "model = LinearSVC(C=best_c,verbose=verbose,random_state=random_state,class_weight='balanced',max_iter=2000)\n",
    "model = CalibratedClassifierCV(model)\n",
    "model.fit(train_svd,y_train)"
   ]
  },
  {
   "cell_type": "code",
   "execution_count": 160,
   "metadata": {},
   "outputs": [],
   "source": [
    "predictions = model.predict_proba(test_svd)[:,1]\n",
    "save_submission(predictions, 'svm_svd.csv')"
   ]
  },
  {
   "cell_type": "markdown",
   "metadata": {},
   "source": [
    "![svm-svd](images/svm-svd.png)"
   ]
  },
  {
   "cell_type": "markdown",
   "metadata": {},
   "source": [
    "## 5.3 Logistic Regression with SVD"
   ]
  },
  {
   "cell_type": "code",
   "execution_count": 161,
   "metadata": {},
   "outputs": [
    {
     "name": "stdout",
     "output_type": "stream",
     "text": [
      "Fitting 5 folds for each of 100 candidates, totalling 500 fits\n"
     ]
    },
    {
     "name": "stderr",
     "output_type": "stream",
     "text": [
      "[Parallel(n_jobs=-1)]: Using backend LokyBackend with 8 concurrent workers.\n",
      "[Parallel(n_jobs=-1)]: Done  25 tasks      | elapsed:   18.9s\n",
      "[Parallel(n_jobs=-1)]: Done 146 tasks      | elapsed:  1.4min\n",
      "[Parallel(n_jobs=-1)]: Done 349 tasks      | elapsed:  3.4min\n",
      "[Parallel(n_jobs=-1)]: Done 500 out of 500 | elapsed:  5.1min finished\n",
      "[Parallel(n_jobs=-1)]: Using backend LokyBackend with 8 concurrent workers.\n",
      "[Parallel(n_jobs=-1)]: Done   1 out of   1 | elapsed:   14.7s finished\n"
     ]
    }
   ],
   "source": [
    "C_val = uniform(loc=0, scale=4)\n",
    "lr= LogisticRegression(verbose=verbose,random_state=random_state,class_weight='balanced',solver='lbfgs',max_iter=500,n_jobs=-1)\n",
    "parameters={'C':C_val}\n",
    "clf = RandomizedSearchCV(lr,parameters,random_state=random_state,cv=cv,verbose=verbose,n_iter=100,scoring=scoring,n_jobs=-1)\n",
    "best_model = clf.fit(train_svd,y_train)"
   ]
  },
  {
   "cell_type": "code",
   "execution_count": 162,
   "metadata": {},
   "outputs": [
    {
     "data": {
      "text/plain": [
       "3.947547746402069"
      ]
     },
     "execution_count": 162,
     "metadata": {},
     "output_type": "execute_result"
    }
   ],
   "source": [
    "best_c=best_model.best_params_['C']\n",
    "best_c"
   ]
  },
  {
   "cell_type": "code",
   "execution_count": 163,
   "metadata": {},
   "outputs": [
    {
     "data": {
      "text/html": [
       "<div>\n",
       "<style scoped>\n",
       "    .dataframe tbody tr th:only-of-type {\n",
       "        vertical-align: middle;\n",
       "    }\n",
       "\n",
       "    .dataframe tbody tr th {\n",
       "        vertical-align: top;\n",
       "    }\n",
       "\n",
       "    .dataframe thead th {\n",
       "        text-align: right;\n",
       "    }\n",
       "</style>\n",
       "<table border=\"1\" class=\"dataframe\">\n",
       "  <thead>\n",
       "    <tr style=\"text-align: right;\">\n",
       "      <th></th>\n",
       "      <th>mean_fit_time</th>\n",
       "      <th>std_fit_time</th>\n",
       "      <th>mean_score_time</th>\n",
       "      <th>std_score_time</th>\n",
       "      <th>param_C</th>\n",
       "      <th>params</th>\n",
       "      <th>split0_test_score</th>\n",
       "      <th>split1_test_score</th>\n",
       "      <th>split2_test_score</th>\n",
       "      <th>split3_test_score</th>\n",
       "      <th>split4_test_score</th>\n",
       "      <th>mean_test_score</th>\n",
       "      <th>std_test_score</th>\n",
       "      <th>rank_test_score</th>\n",
       "    </tr>\n",
       "  </thead>\n",
       "  <tbody>\n",
       "    <tr>\n",
       "      <th>72</th>\n",
       "      <td>1.042337</td>\n",
       "      <td>0.102578</td>\n",
       "      <td>0.035350</td>\n",
       "      <td>0.017093</td>\n",
       "      <td>0.0220885</td>\n",
       "      <td>{'C': 0.022088468494409597}</td>\n",
       "      <td>0.604873</td>\n",
       "      <td>0.600333</td>\n",
       "      <td>0.602393</td>\n",
       "      <td>0.608164</td>\n",
       "      <td>0.630087</td>\n",
       "      <td>0.609170</td>\n",
       "      <td>0.010780</td>\n",
       "      <td>100</td>\n",
       "    </tr>\n",
       "    <tr>\n",
       "      <th>10</th>\n",
       "      <td>1.598916</td>\n",
       "      <td>0.145812</td>\n",
       "      <td>0.029739</td>\n",
       "      <td>0.011829</td>\n",
       "      <td>0.082338</td>\n",
       "      <td>{'C': 0.08233797718320979}</td>\n",
       "      <td>0.618172</td>\n",
       "      <td>0.619258</td>\n",
       "      <td>0.615257</td>\n",
       "      <td>0.617055</td>\n",
       "      <td>0.637928</td>\n",
       "      <td>0.621534</td>\n",
       "      <td>0.008303</td>\n",
       "      <td>99</td>\n",
       "    </tr>\n",
       "    <tr>\n",
       "      <th>98</th>\n",
       "      <td>1.946853</td>\n",
       "      <td>0.134926</td>\n",
       "      <td>0.031715</td>\n",
       "      <td>0.005840</td>\n",
       "      <td>0.101677</td>\n",
       "      <td>{'C': 0.10167650697638075}</td>\n",
       "      <td>0.619889</td>\n",
       "      <td>0.622181</td>\n",
       "      <td>0.615896</td>\n",
       "      <td>0.618293</td>\n",
       "      <td>0.639096</td>\n",
       "      <td>0.623071</td>\n",
       "      <td>0.008271</td>\n",
       "      <td>98</td>\n",
       "    </tr>\n",
       "    <tr>\n",
       "      <th>42</th>\n",
       "      <td>1.629183</td>\n",
       "      <td>0.083901</td>\n",
       "      <td>0.022801</td>\n",
       "      <td>0.003346</td>\n",
       "      <td>0.137554</td>\n",
       "      <td>{'C': 0.13755408446087358}</td>\n",
       "      <td>0.621979</td>\n",
       "      <td>0.625304</td>\n",
       "      <td>0.617100</td>\n",
       "      <td>0.620475</td>\n",
       "      <td>0.640221</td>\n",
       "      <td>0.625016</td>\n",
       "      <td>0.008047</td>\n",
       "      <td>97</td>\n",
       "    </tr>\n",
       "    <tr>\n",
       "      <th>58</th>\n",
       "      <td>1.859177</td>\n",
       "      <td>0.136240</td>\n",
       "      <td>0.025097</td>\n",
       "      <td>0.007581</td>\n",
       "      <td>0.180909</td>\n",
       "      <td>{'C': 0.18090915564215226}</td>\n",
       "      <td>0.624074</td>\n",
       "      <td>0.627986</td>\n",
       "      <td>0.618850</td>\n",
       "      <td>0.621867</td>\n",
       "      <td>0.641453</td>\n",
       "      <td>0.626846</td>\n",
       "      <td>0.007888</td>\n",
       "      <td>96</td>\n",
       "    </tr>\n",
       "    <tr>\n",
       "      <th>...</th>\n",
       "      <td>...</td>\n",
       "      <td>...</td>\n",
       "      <td>...</td>\n",
       "      <td>...</td>\n",
       "      <td>...</td>\n",
       "      <td>...</td>\n",
       "      <td>...</td>\n",
       "      <td>...</td>\n",
       "      <td>...</td>\n",
       "      <td>...</td>\n",
       "      <td>...</td>\n",
       "      <td>...</td>\n",
       "      <td>...</td>\n",
       "      <td>...</td>\n",
       "    </tr>\n",
       "    <tr>\n",
       "      <th>1</th>\n",
       "      <td>7.015733</td>\n",
       "      <td>0.438911</td>\n",
       "      <td>0.026228</td>\n",
       "      <td>0.005973</td>\n",
       "      <td>3.80286</td>\n",
       "      <td>{'C': 3.8028572256396647}</td>\n",
       "      <td>0.639070</td>\n",
       "      <td>0.639976</td>\n",
       "      <td>0.625161</td>\n",
       "      <td>0.635001</td>\n",
       "      <td>0.650478</td>\n",
       "      <td>0.637937</td>\n",
       "      <td>0.008180</td>\n",
       "      <td>5</td>\n",
       "    </tr>\n",
       "    <tr>\n",
       "      <th>34</th>\n",
       "      <td>6.146194</td>\n",
       "      <td>0.345854</td>\n",
       "      <td>0.028273</td>\n",
       "      <td>0.008512</td>\n",
       "      <td>3.86253</td>\n",
       "      <td>{'C': 3.8625281322982374}</td>\n",
       "      <td>0.639170</td>\n",
       "      <td>0.640006</td>\n",
       "      <td>0.625275</td>\n",
       "      <td>0.635038</td>\n",
       "      <td>0.650431</td>\n",
       "      <td>0.637984</td>\n",
       "      <td>0.008132</td>\n",
       "      <td>3</td>\n",
       "    </tr>\n",
       "    <tr>\n",
       "      <th>50</th>\n",
       "      <td>6.477816</td>\n",
       "      <td>0.289469</td>\n",
       "      <td>0.026133</td>\n",
       "      <td>0.013208</td>\n",
       "      <td>3.87834</td>\n",
       "      <td>{'C': 3.8783385110582342}</td>\n",
       "      <td>0.639168</td>\n",
       "      <td>0.639948</td>\n",
       "      <td>0.625290</td>\n",
       "      <td>0.635046</td>\n",
       "      <td>0.650405</td>\n",
       "      <td>0.637972</td>\n",
       "      <td>0.008115</td>\n",
       "      <td>4</td>\n",
       "    </tr>\n",
       "    <tr>\n",
       "      <th>11</th>\n",
       "      <td>6.560687</td>\n",
       "      <td>0.689193</td>\n",
       "      <td>0.033242</td>\n",
       "      <td>0.007402</td>\n",
       "      <td>3.87964</td>\n",
       "      <td>{'C': 3.8796394086479773}</td>\n",
       "      <td>0.639160</td>\n",
       "      <td>0.640000</td>\n",
       "      <td>0.625241</td>\n",
       "      <td>0.635060</td>\n",
       "      <td>0.650471</td>\n",
       "      <td>0.637987</td>\n",
       "      <td>0.008152</td>\n",
       "      <td>2</td>\n",
       "    </tr>\n",
       "    <tr>\n",
       "      <th>69</th>\n",
       "      <td>7.289347</td>\n",
       "      <td>0.445322</td>\n",
       "      <td>0.030326</td>\n",
       "      <td>0.003518</td>\n",
       "      <td>3.94755</td>\n",
       "      <td>{'C': 3.947547746402069}</td>\n",
       "      <td>0.639300</td>\n",
       "      <td>0.640069</td>\n",
       "      <td>0.625346</td>\n",
       "      <td>0.635105</td>\n",
       "      <td>0.650567</td>\n",
       "      <td>0.638077</td>\n",
       "      <td>0.008153</td>\n",
       "      <td>1</td>\n",
       "    </tr>\n",
       "  </tbody>\n",
       "</table>\n",
       "<p>100 rows × 14 columns</p>\n",
       "</div>"
      ],
      "text/plain": [
       "    mean_fit_time  std_fit_time  mean_score_time  std_score_time    param_C  \\\n",
       "72       1.042337      0.102578         0.035350        0.017093  0.0220885   \n",
       "10       1.598916      0.145812         0.029739        0.011829   0.082338   \n",
       "98       1.946853      0.134926         0.031715        0.005840   0.101677   \n",
       "42       1.629183      0.083901         0.022801        0.003346   0.137554   \n",
       "58       1.859177      0.136240         0.025097        0.007581   0.180909   \n",
       "..            ...           ...              ...             ...        ...   \n",
       "1        7.015733      0.438911         0.026228        0.005973    3.80286   \n",
       "34       6.146194      0.345854         0.028273        0.008512    3.86253   \n",
       "50       6.477816      0.289469         0.026133        0.013208    3.87834   \n",
       "11       6.560687      0.689193         0.033242        0.007402    3.87964   \n",
       "69       7.289347      0.445322         0.030326        0.003518    3.94755   \n",
       "\n",
       "                         params  split0_test_score  split1_test_score  \\\n",
       "72  {'C': 0.022088468494409597}           0.604873           0.600333   \n",
       "10   {'C': 0.08233797718320979}           0.618172           0.619258   \n",
       "98   {'C': 0.10167650697638075}           0.619889           0.622181   \n",
       "42   {'C': 0.13755408446087358}           0.621979           0.625304   \n",
       "58   {'C': 0.18090915564215226}           0.624074           0.627986   \n",
       "..                          ...                ...                ...   \n",
       "1     {'C': 3.8028572256396647}           0.639070           0.639976   \n",
       "34    {'C': 3.8625281322982374}           0.639170           0.640006   \n",
       "50    {'C': 3.8783385110582342}           0.639168           0.639948   \n",
       "11    {'C': 3.8796394086479773}           0.639160           0.640000   \n",
       "69     {'C': 3.947547746402069}           0.639300           0.640069   \n",
       "\n",
       "    split2_test_score  split3_test_score  split4_test_score  mean_test_score  \\\n",
       "72           0.602393           0.608164           0.630087         0.609170   \n",
       "10           0.615257           0.617055           0.637928         0.621534   \n",
       "98           0.615896           0.618293           0.639096         0.623071   \n",
       "42           0.617100           0.620475           0.640221         0.625016   \n",
       "58           0.618850           0.621867           0.641453         0.626846   \n",
       "..                ...                ...                ...              ...   \n",
       "1            0.625161           0.635001           0.650478         0.637937   \n",
       "34           0.625275           0.635038           0.650431         0.637984   \n",
       "50           0.625290           0.635046           0.650405         0.637972   \n",
       "11           0.625241           0.635060           0.650471         0.637987   \n",
       "69           0.625346           0.635105           0.650567         0.638077   \n",
       "\n",
       "    std_test_score  rank_test_score  \n",
       "72        0.010780              100  \n",
       "10        0.008303               99  \n",
       "98        0.008271               98  \n",
       "42        0.008047               97  \n",
       "58        0.007888               96  \n",
       "..             ...              ...  \n",
       "1         0.008180                5  \n",
       "34        0.008132                3  \n",
       "50        0.008115                4  \n",
       "11        0.008152                2  \n",
       "69        0.008153                1  \n",
       "\n",
       "[100 rows x 14 columns]"
      ]
     },
     "execution_count": 163,
     "metadata": {},
     "output_type": "execute_result"
    }
   ],
   "source": [
    "results = pd.DataFrame.from_dict(best_model.cv_results_)\n",
    "results=results.sort_values('param_C')\n",
    "results"
   ]
  },
  {
   "cell_type": "code",
   "execution_count": 164,
   "metadata": {},
   "outputs": [
    {
     "data": {
      "image/png": "[encoded data removed]",
      "text/plain": [
       "<Figure size 432x288 with 1 Axes>"
      ]
     },
     "metadata": {
      "needs_background": "light"
     },
     "output_type": "display_data"
    }
   ],
   "source": [
    "print_graph(results, 'param_C', 'mean_test_score', 'Hyperparameter - C', 'Test score')"
   ]
  },
  {
   "cell_type": "code",
   "execution_count": 165,
   "metadata": {},
   "outputs": [
    {
     "name": "stderr",
     "output_type": "stream",
     "text": [
      "[Parallel(n_jobs=-1)]: Using backend LokyBackend with 8 concurrent workers.\n",
      "[Parallel(n_jobs=-1)]: Done   1 out of   1 | elapsed:    3.5s finished\n"
     ]
    },
    {
     "data": {
      "text/plain": [
       "LogisticRegression(C=3.947547746402069, class_weight='balanced', n_jobs=-1,\n",
       "                   random_state=42, verbose=2)"
      ]
     },
     "execution_count": 165,
     "metadata": {},
     "output_type": "execute_result"
    }
   ],
   "source": [
    "model = LogisticRegression(C=best_c,verbose=verbose,n_jobs=-1,random_state=random_state,class_weight='balanced',solver='lbfgs')\n",
    "model.fit(train_svd,y_train)"
   ]
  },
  {
   "cell_type": "code",
   "execution_count": 166,
   "metadata": {},
   "outputs": [],
   "source": [
    "predictions = model.predict_proba(test_svd)[:,1]\n",
    "save_submission(predictions, 'lr_svd.csv')"
   ]
  },
  {
   "cell_type": "markdown",
   "metadata": {},
   "source": [
    "![lr-svd](images/lr-svd.png)"
   ]
  },
  {
   "cell_type": "markdown",
   "metadata": {},
   "source": [
    "## 5.4 Random Forest with SVD"
   ]
  },
  {
   "cell_type": "code",
   "execution_count": 167,
   "metadata": {},
   "outputs": [
    {
     "name": "stdout",
     "output_type": "stream",
     "text": [
      "Fitting 5 folds for each of 100 candidates, totalling 500 fits\n"
     ]
    },
    {
     "name": "stderr",
     "output_type": "stream",
     "text": [
      "[Parallel(n_jobs=-1)]: Using backend LokyBackend with 8 concurrent workers.\n",
      "[Parallel(n_jobs=-1)]: Done  25 tasks      | elapsed:   36.2s\n",
      "/home/auw-mayank/.local/lib/python3.6/site-packages/joblib/externals/loky/process_executor.py:691: UserWarning: A worker stopped while some jobs were given to the executor. This can be caused by a too short worker timeout or by a memory leak.\n",
      "  \"timeout or by a memory leak.\", UserWarning\n",
      "[Parallel(n_jobs=-1)]: Done 146 tasks      | elapsed:  6.8min\n",
      "[Parallel(n_jobs=-1)]: Done 349 tasks      | elapsed: 16.5min\n",
      "[Parallel(n_jobs=-1)]: Done 500 out of 500 | elapsed: 24.5min finished\n"
     ]
    }
   ],
   "source": [
    "rfc = RandomForestClassifier(random_state=random_state,class_weight='balanced',n_jobs=-1)\n",
    "clf = RandomizedSearchCV(rfc,get_rf_params(),random_state=random_state,cv=cv,verbose=verbose,n_iter=100,scoring=scoring,n_jobs=-1)\n",
    "best_model = clf.fit(train_svd,y_train)"
   ]
  },
  {
   "cell_type": "code",
   "execution_count": 168,
   "metadata": {},
   "outputs": [
    {
     "data": {
      "text/html": [
       "<div>\n",
       "<style scoped>\n",
       "    .dataframe tbody tr th:only-of-type {\n",
       "        vertical-align: middle;\n",
       "    }\n",
       "\n",
       "    .dataframe tbody tr th {\n",
       "        vertical-align: top;\n",
       "    }\n",
       "\n",
       "    .dataframe thead th {\n",
       "        text-align: right;\n",
       "    }\n",
       "</style>\n",
       "<table border=\"1\" class=\"dataframe\">\n",
       "  <thead>\n",
       "    <tr style=\"text-align: right;\">\n",
       "      <th></th>\n",
       "      <th>param_n_estimators</th>\n",
       "      <th>param_max_depth</th>\n",
       "      <th>param_max_features</th>\n",
       "      <th>param_min_samples_split</th>\n",
       "      <th>mean_test_score</th>\n",
       "    </tr>\n",
       "  </thead>\n",
       "  <tbody>\n",
       "    <tr>\n",
       "      <th>84</th>\n",
       "      <td>1000</td>\n",
       "      <td>25</td>\n",
       "      <td>5</td>\n",
       "      <td>2</td>\n",
       "      <td>0.854766</td>\n",
       "    </tr>\n",
       "    <tr>\n",
       "      <th>20</th>\n",
       "      <td>1000</td>\n",
       "      <td>25</td>\n",
       "      <td>3</td>\n",
       "      <td>2</td>\n",
       "      <td>0.852342</td>\n",
       "    </tr>\n",
       "    <tr>\n",
       "      <th>33</th>\n",
       "      <td>700</td>\n",
       "      <td>25</td>\n",
       "      <td>4</td>\n",
       "      <td>2</td>\n",
       "      <td>0.852278</td>\n",
       "    </tr>\n",
       "    <tr>\n",
       "      <th>22</th>\n",
       "      <td>200</td>\n",
       "      <td>25</td>\n",
       "      <td>4</td>\n",
       "      <td>10</td>\n",
       "      <td>0.851746</td>\n",
       "    </tr>\n",
       "    <tr>\n",
       "      <th>78</th>\n",
       "      <td>700</td>\n",
       "      <td>25</td>\n",
       "      <td>2</td>\n",
       "      <td>7</td>\n",
       "      <td>0.851114</td>\n",
       "    </tr>\n",
       "    <tr>\n",
       "      <th>85</th>\n",
       "      <td>1000</td>\n",
       "      <td>20</td>\n",
       "      <td>3</td>\n",
       "      <td>7</td>\n",
       "      <td>0.850986</td>\n",
       "    </tr>\n",
       "    <tr>\n",
       "      <th>62</th>\n",
       "      <td>500</td>\n",
       "      <td>25</td>\n",
       "      <td>3</td>\n",
       "      <td>5</td>\n",
       "      <td>0.850904</td>\n",
       "    </tr>\n",
       "    <tr>\n",
       "      <th>82</th>\n",
       "      <td>700</td>\n",
       "      <td>20</td>\n",
       "      <td>5</td>\n",
       "      <td>20</td>\n",
       "      <td>0.850789</td>\n",
       "    </tr>\n",
       "    <tr>\n",
       "      <th>79</th>\n",
       "      <td>500</td>\n",
       "      <td>25</td>\n",
       "      <td>1</td>\n",
       "      <td>10</td>\n",
       "      <td>0.848939</td>\n",
       "    </tr>\n",
       "    <tr>\n",
       "      <th>92</th>\n",
       "      <td>500</td>\n",
       "      <td>20</td>\n",
       "      <td>3</td>\n",
       "      <td>2</td>\n",
       "      <td>0.848604</td>\n",
       "    </tr>\n",
       "  </tbody>\n",
       "</table>\n",
       "</div>"
      ],
      "text/plain": [
       "   param_n_estimators param_max_depth param_max_features  \\\n",
       "84               1000              25                  5   \n",
       "20               1000              25                  3   \n",
       "33                700              25                  4   \n",
       "22                200              25                  4   \n",
       "78                700              25                  2   \n",
       "85               1000              20                  3   \n",
       "62                500              25                  3   \n",
       "82                700              20                  5   \n",
       "79                500              25                  1   \n",
       "92                500              20                  3   \n",
       "\n",
       "   param_min_samples_split  mean_test_score  \n",
       "84                       2         0.854766  \n",
       "20                       2         0.852342  \n",
       "33                       2         0.852278  \n",
       "22                      10         0.851746  \n",
       "78                       7         0.851114  \n",
       "85                       7         0.850986  \n",
       "62                       5         0.850904  \n",
       "82                      20         0.850789  \n",
       "79                      10         0.848939  \n",
       "92                       2         0.848604  "
      ]
     },
     "execution_count": 168,
     "metadata": {},
     "output_type": "execute_result"
    }
   ],
   "source": [
    "results = pd.DataFrame(best_model.cv_results_)\n",
    "results.sort_values('mean_test_score',ascending=False,inplace=True)\n",
    "param_keys=['param_'+str(each) for each in get_rf_params().keys()]\n",
    "param_keys.append('mean_test_score')\n",
    "results[param_keys].head(10)"
   ]
  },
  {
   "cell_type": "code",
   "execution_count": 169,
   "metadata": {},
   "outputs": [
    {
     "data": {
      "text/plain": [
       "(1000, 5, 25, 2)"
      ]
     },
     "execution_count": 169,
     "metadata": {},
     "output_type": "execute_result"
    }
   ],
   "source": [
    "n_estimators=clf.best_params_['n_estimators']\n",
    "max_features=clf.best_params_['max_features']\n",
    "max_depth=clf.best_params_['max_depth']\n",
    "min_samples_split=clf.best_params_['min_samples_split']\n",
    "n_estimators,max_features,max_depth,min_samples_split"
   ]
  },
  {
   "cell_type": "code",
   "execution_count": 170,
   "metadata": {},
   "outputs": [
    {
     "data": {
      "text/plain": [
       "RandomForestClassifier(class_weight='balanced', max_depth=25, max_features=5,\n",
       "                       n_estimators=1000, n_jobs=-1, random_state=42)"
      ]
     },
     "execution_count": 170,
     "metadata": {},
     "output_type": "execute_result"
    }
   ],
   "source": [
    "model=RandomForestClassifier(n_estimators=n_estimators,max_depth=max_depth,max_features=max_features,\n",
    "                             min_samples_split=min_samples_split,\n",
    "                             random_state=random_state,class_weight='balanced',n_jobs=-1)\n",
    "\n",
    "model.fit(train_svd,y_train)"
   ]
  },
  {
   "cell_type": "code",
   "execution_count": 171,
   "metadata": {},
   "outputs": [
    {
     "data": {
      "image/png": "[encoded data removed]",
      "text/plain": [
       "<Figure size 432x288 with 1 Axes>"
      ]
     },
     "metadata": {
      "needs_background": "light"
     },
     "output_type": "display_data"
    }
   ],
   "source": [
    "features=train_svd.columns\n",
    "importance=model.feature_importances_\n",
    "features=pd.DataFrame({'features':features,'value':importance})\n",
    "features=features.sort_values('value',ascending=False)\n",
    "sns.barplot('value','features',data=features);\n",
    "plt.title('Feature Importance');"
   ]
  },
  {
   "cell_type": "code",
   "execution_count": 172,
   "metadata": {},
   "outputs": [],
   "source": [
    "predictions = model.predict_proba(test_svd)[:,1]\n",
    "save_submission(predictions, 'rf_svd.csv')"
   ]
  },
  {
   "cell_type": "markdown",
   "metadata": {},
   "source": [
    "![rf-svd](images/rf-svd.png)"
   ]
  },
  {
   "cell_type": "markdown",
   "metadata": {},
   "source": [
    "## 5.5 Xgboost with SVD"
   ]
  },
  {
   "cell_type": "code",
   "execution_count": 173,
   "metadata": {},
   "outputs": [
    {
     "name": "stdout",
     "output_type": "stream",
     "text": [
      "Fitting 5 folds for each of 100 candidates, totalling 500 fits\n"
     ]
    },
    {
     "name": "stderr",
     "output_type": "stream",
     "text": [
      "[Parallel(n_jobs=-1)]: Using backend LokyBackend with 8 concurrent workers.\n",
      "/home/auw-mayank/.local/lib/python3.6/site-packages/joblib/externals/loky/process_executor.py:691: UserWarning: A worker stopped while some jobs were given to the executor. This can be caused by a too short worker timeout or by a memory leak.\n",
      "  \"timeout or by a memory leak.\", UserWarning\n",
      "[Parallel(n_jobs=-1)]: Done  25 tasks      | elapsed:   54.6s\n",
      "[Parallel(n_jobs=-1)]: Done 146 tasks      | elapsed:  9.9min\n",
      "[Parallel(n_jobs=-1)]: Done 349 tasks      | elapsed: 28.0min\n",
      "[Parallel(n_jobs=-1)]: Done 500 out of 500 | elapsed: 50.8min finished\n"
     ]
    }
   ],
   "source": [
    "xgb = XGBClassifier()\n",
    "clf = RandomizedSearchCV(xgb,get_xgb_params(),random_state=random_state,cv=cv,verbose=verbose,n_iter=100,scoring=scoring,n_jobs=-1)\n",
    "best_model=clf.fit(train_svd,y_train)"
   ]
  },
  {
   "cell_type": "code",
   "execution_count": 174,
   "metadata": {},
   "outputs": [
    {
     "data": {
      "text/html": [
       "<div>\n",
       "<style scoped>\n",
       "    .dataframe tbody tr th:only-of-type {\n",
       "        vertical-align: middle;\n",
       "    }\n",
       "\n",
       "    .dataframe tbody tr th {\n",
       "        vertical-align: top;\n",
       "    }\n",
       "\n",
       "    .dataframe thead th {\n",
       "        text-align: right;\n",
       "    }\n",
       "</style>\n",
       "<table border=\"1\" class=\"dataframe\">\n",
       "  <thead>\n",
       "    <tr style=\"text-align: right;\">\n",
       "      <th></th>\n",
       "      <th>param_n_estimators</th>\n",
       "      <th>param_learning_rate</th>\n",
       "      <th>param_subsample</th>\n",
       "      <th>param_max_depth</th>\n",
       "      <th>param_colsample_bytree</th>\n",
       "      <th>param_min_child_weight</th>\n",
       "      <th>mean_test_score</th>\n",
       "    </tr>\n",
       "  </thead>\n",
       "  <tbody>\n",
       "    <tr>\n",
       "      <th>62</th>\n",
       "      <td>500</td>\n",
       "      <td>0.0663892</td>\n",
       "      <td>0.328153</td>\n",
       "      <td>9</td>\n",
       "      <td>0.375583</td>\n",
       "      <td>3</td>\n",
       "      <td>0.857269</td>\n",
       "    </tr>\n",
       "    <tr>\n",
       "      <th>18</th>\n",
       "      <td>1000</td>\n",
       "      <td>0.048135</td>\n",
       "      <td>0.665922</td>\n",
       "      <td>9</td>\n",
       "      <td>0.330898</td>\n",
       "      <td>2</td>\n",
       "      <td>0.856856</td>\n",
       "    </tr>\n",
       "    <tr>\n",
       "      <th>96</th>\n",
       "      <td>500</td>\n",
       "      <td>0.0979629</td>\n",
       "      <td>0.98664</td>\n",
       "      <td>7</td>\n",
       "      <td>0.891897</td>\n",
       "      <td>1</td>\n",
       "      <td>0.856098</td>\n",
       "    </tr>\n",
       "    <tr>\n",
       "      <th>44</th>\n",
       "      <td>1000</td>\n",
       "      <td>0.060484</td>\n",
       "      <td>0.606429</td>\n",
       "      <td>6</td>\n",
       "      <td>0.642032</td>\n",
       "      <td>2</td>\n",
       "      <td>0.855896</td>\n",
       "    </tr>\n",
       "    <tr>\n",
       "      <th>8</th>\n",
       "      <td>750</td>\n",
       "      <td>0.0686033</td>\n",
       "      <td>0.683264</td>\n",
       "      <td>6</td>\n",
       "      <td>0.304614</td>\n",
       "      <td>4</td>\n",
       "      <td>0.855817</td>\n",
       "    </tr>\n",
       "    <tr>\n",
       "      <th>97</th>\n",
       "      <td>750</td>\n",
       "      <td>0.232385</td>\n",
       "      <td>0.907694</td>\n",
       "      <td>6</td>\n",
       "      <td>0.374271</td>\n",
       "      <td>1</td>\n",
       "      <td>0.853594</td>\n",
       "    </tr>\n",
       "    <tr>\n",
       "      <th>49</th>\n",
       "      <td>500</td>\n",
       "      <td>0.160277</td>\n",
       "      <td>0.393098</td>\n",
       "      <td>8</td>\n",
       "      <td>0.636333</td>\n",
       "      <td>2</td>\n",
       "      <td>0.848866</td>\n",
       "    </tr>\n",
       "    <tr>\n",
       "      <th>80</th>\n",
       "      <td>1000</td>\n",
       "      <td>0.385564</td>\n",
       "      <td>0.905351</td>\n",
       "      <td>3</td>\n",
       "      <td>0.820639</td>\n",
       "      <td>1</td>\n",
       "      <td>0.848727</td>\n",
       "    </tr>\n",
       "    <tr>\n",
       "      <th>53</th>\n",
       "      <td>200</td>\n",
       "      <td>0.540096</td>\n",
       "      <td>0.928319</td>\n",
       "      <td>6</td>\n",
       "      <td>0.27956</td>\n",
       "      <td>1</td>\n",
       "      <td>0.847864</td>\n",
       "    </tr>\n",
       "    <tr>\n",
       "      <th>78</th>\n",
       "      <td>1000</td>\n",
       "      <td>0.576551</td>\n",
       "      <td>0.94023</td>\n",
       "      <td>6</td>\n",
       "      <td>0.943892</td>\n",
       "      <td>4</td>\n",
       "      <td>0.844565</td>\n",
       "    </tr>\n",
       "  </tbody>\n",
       "</table>\n",
       "</div>"
      ],
      "text/plain": [
       "   param_n_estimators param_learning_rate param_subsample param_max_depth  \\\n",
       "62                500           0.0663892        0.328153               9   \n",
       "18               1000            0.048135        0.665922               9   \n",
       "96                500           0.0979629         0.98664               7   \n",
       "44               1000            0.060484        0.606429               6   \n",
       "8                 750           0.0686033        0.683264               6   \n",
       "97                750            0.232385        0.907694               6   \n",
       "49                500            0.160277        0.393098               8   \n",
       "80               1000            0.385564        0.905351               3   \n",
       "53                200            0.540096        0.928319               6   \n",
       "78               1000            0.576551         0.94023               6   \n",
       "\n",
       "   param_colsample_bytree param_min_child_weight  mean_test_score  \n",
       "62               0.375583                      3         0.857269  \n",
       "18               0.330898                      2         0.856856  \n",
       "96               0.891897                      1         0.856098  \n",
       "44               0.642032                      2         0.855896  \n",
       "8                0.304614                      4         0.855817  \n",
       "97               0.374271                      1         0.853594  \n",
       "49               0.636333                      2         0.848866  \n",
       "80               0.820639                      1         0.848727  \n",
       "53                0.27956                      1         0.847864  \n",
       "78               0.943892                      4         0.844565  "
      ]
     },
     "execution_count": 174,
     "metadata": {},
     "output_type": "execute_result"
    }
   ],
   "source": [
    "results = pd.DataFrame(best_model.cv_results_)\n",
    "results.sort_values('mean_test_score',ascending=False,inplace=True)\n",
    "param_keys=['param_'+str(each) for each in get_xgb_params().keys()]\n",
    "param_keys.append('mean_test_score')\n",
    "results[param_keys].head(10)"
   ]
  },
  {
   "cell_type": "code",
   "execution_count": 175,
   "metadata": {},
   "outputs": [
    {
     "data": {
      "text/plain": [
       "(0.375582952639944, 0.06638916390452139, 9, 3, 500, 0.32815266747473193)"
      ]
     },
     "execution_count": 175,
     "metadata": {},
     "output_type": "execute_result"
    }
   ],
   "source": [
    "colsample_bytree = clf.best_params_['colsample_bytree']\n",
    "learning_rate=clf.best_params_['learning_rate']\n",
    "max_depth=clf.best_params_['max_depth']\n",
    "min_child_weight=clf.best_params_['min_child_weight']\n",
    "n_estimators=clf.best_params_['n_estimators']\n",
    "subsample=clf.best_params_['subsample']\n",
    "colsample_bytree,learning_rate,max_depth,min_child_weight,n_estimators,subsample"
   ]
  },
  {
   "cell_type": "code",
   "execution_count": 176,
   "metadata": {},
   "outputs": [
    {
     "data": {
      "text/plain": [
       "XGBClassifier(base_score=0.5, booster='gbtree', colsample_bylevel=1,\n",
       "              colsample_bynode=1, colsample_bytree=0.375582952639944, gamma=0,\n",
       "              gpu_id=-1, importance_type='gain', interaction_constraints='',\n",
       "              learning_rate=0.06638916390452139, max_delta_step=0, max_depth=9,\n",
       "              min_child_weight=3, missing=nan, monotone_constraints='()',\n",
       "              n_estimators=500, n_jobs=-1, num_parallel_tree=1, random_state=0,\n",
       "              reg_alpha=0, reg_lambda=1, scale_pos_weight=1,\n",
       "              subsample=0.32815266747473193, tree_method='exact',\n",
       "              validate_parameters=1, verbosity=None)"
      ]
     },
     "execution_count": 176,
     "metadata": {},
     "output_type": "execute_result"
    }
   ],
   "source": [
    "model = XGBClassifier(colsample_bytree=colsample_bytree,learning_rate=learning_rate,max_depth=max_depth,\n",
    "                     min_child_weight=min_child_weight,n_estimators=n_estimators,subsample=subsample,n_jobs=-1)\n",
    "\n",
    "model.fit(train_svd,y_train)"
   ]
  },
  {
   "cell_type": "code",
   "execution_count": 177,
   "metadata": {},
   "outputs": [
    {
     "data": {
      "image/png": "[encoded data removed]",
      "text/plain": [
       "<Figure size 432x288 with 1 Axes>"
      ]
     },
     "metadata": {
      "needs_background": "light"
     },
     "output_type": "display_data"
    }
   ],
   "source": [
    "features=train_svd.columns\n",
    "importance=model.feature_importances_\n",
    "features=pd.DataFrame({'features':features,'value':importance})\n",
    "features=features.sort_values('value',ascending=False)\n",
    "sns.barplot('value','features',data=features);\n",
    "plt.title('Feature Importance');"
   ]
  },
  {
   "cell_type": "code",
   "execution_count": 178,
   "metadata": {},
   "outputs": [],
   "source": [
    "predictions = model.predict_proba(test_svd)[:,1]\n",
    "save_submission(predictions, 'xgb_svd.csv')"
   ]
  },
  {
   "cell_type": "markdown",
   "metadata": {},
   "source": [
    "![xgb-svd](images/xgb-svd.png)"
   ]
  },
  {
   "cell_type": "markdown",
   "metadata": {},
   "source": [
    "![kaggle-submission-svd](images/kaggle-submission-svd.png)"
   ]
  },
  {
   "cell_type": "code",
   "execution_count": 179,
   "metadata": {},
   "outputs": [
    {
     "name": "stdout",
     "output_type": "stream",
     "text": [
      "+---------------------+---------+---------------+--------------+\n",
      "|        Model        | Feature | Private Score | Public Score |\n",
      "+---------------------+---------+---------------+--------------+\n",
      "|         KNN         |   svd   |    0.79245    |   0.78572    |\n",
      "|         SVM         |   svd   |    0.63648    |   0.63806    |\n",
      "| Logistic Regression |   svd   |    0.63255    |   0.63314    |\n",
      "|    Random Forest    |   svd   |    0.87119    |   0.86924    |\n",
      "|       Xgboost       |   svd   |    0.86909    |   0.86664    |\n",
      "+---------------------+---------+---------------+--------------+\n"
     ]
    }
   ],
   "source": [
    "from prettytable import PrettyTable\n",
    "\n",
    "x = PrettyTable(['Model', 'Feature', 'Private Score', 'Public Score'])\n",
    "x.add_row(['KNN','svd', 0.79245, 0.78572])\n",
    "x.add_row(['SVM', 'svd', 0.63648, 0.63806])\n",
    "x.add_row(['Logistic Regression', 'svd', 0.63255, 0.63314])\n",
    "x.add_row(['Random Forest', 'svd', 0.87119, 0.86924])\n",
    "x.add_row(['Xgboost', 'svd', 0.86909, 0.86664])\n",
    "\n",
    "print(x)"
   ]
  },
  {
   "cell_type": "markdown",
   "metadata": {},
   "source": [
    "# Observations:\n",
    "\n",
    "1. Tree based models works better than linear model\n",
    "2. KNN is performing overall good"
   ]
  },
  {
   "cell_type": "markdown",
   "metadata": {},
   "source": [
    "# We have to improve our model to reach into 5-10% on kaggle"
   ]
  },
  {
   "cell_type": "code",
   "execution_count": 180,
   "metadata": {},
   "outputs": [],
   "source": [
    "# https://www.kaggle.com/mitribunskiy/tutorial-catboost-overview"
   ]
  },
  {
   "cell_type": "code",
   "execution_count": 181,
   "metadata": {},
   "outputs": [],
   "source": [
    "# https://www.kaggle.com/prashant111/catboost-classifier-tutorial"
   ]
  },
  {
   "cell_type": "markdown",
   "metadata": {},
   "source": [
    "# https://catboost.ai/\n",
    "\n",
    "## CatBoost is a high-performance open source library for gradient boosting on decision trees\n",
    "\n",
    "\n",
    "### About\n",
    "CatBoost is an algorithm for gradient boosting on decision trees. It is developed by Yandex researchers and engineers, and is used for search, recommendation systems, personal assistant, self-driving cars, weather prediction and many other tasks at Yandex and in other companies, including CERN, Cloudflare, Careem taxi. It is in open-source and can be used by anyone.\n",
    "\n",
    "\n",
    "### Features\n",
    "\n",
    "1. Reduce time spent on parameter tuning, because CatBoost provides great results with default parameters\n",
    "2. Improve your training results with CatBoost that allows you to use non-numeric factors, instead of having to pre-process your data or spend time and effort turning it to numbers. \n",
    "3. Reduce overfitting when constructing your models with a novel gradient-boosting scheme.\n",
    "4. Apply your trained model quickly and efficiently even to latency-critical tasks using CatBoost's model applier"
   ]
  },
  {
   "cell_type": "code",
   "execution_count": 182,
   "metadata": {},
   "outputs": [],
   "source": [
    "params = {\n",
    "            'loss_function':'Logloss',\n",
    "            'eval_metric':'AUC',\n",
    "            'cat_features':list(range(train_data.shape[1])),\n",
    "            'verbose':100,\n",
    "            'random_seed':random_state\n",
    "        }"
   ]
  },
  {
   "cell_type": "code",
   "execution_count": 183,
   "metadata": {},
   "outputs": [
    {
     "name": "stdout",
     "output_type": "stream",
     "text": [
      "Learning rate set to 0.045713\n",
      "0:\ttotal: 99.2ms\tremaining: 1m 39s\n",
      "100:\ttotal: 2.33s\tremaining: 20.7s\n",
      "200:\ttotal: 5.6s\tremaining: 22.3s\n",
      "300:\ttotal: 8.79s\tremaining: 20.4s\n",
      "400:\ttotal: 11.9s\tremaining: 17.8s\n",
      "500:\ttotal: 15.2s\tremaining: 15.2s\n",
      "600:\ttotal: 18.4s\tremaining: 12.2s\n",
      "700:\ttotal: 21.7s\tremaining: 9.27s\n",
      "800:\ttotal: 24.8s\tremaining: 6.16s\n",
      "900:\ttotal: 28s\tremaining: 3.08s\n",
      "999:\ttotal: 31.1s\tremaining: 0us\n"
     ]
    },
    {
     "data": {
      "text/plain": [
       "<catboost.core.CatBoostClassifier at 0x7f361d4d8780>"
      ]
     },
     "execution_count": 183,
     "metadata": {},
     "output_type": "execute_result"
    }
   ],
   "source": [
    "clf= CatBoostClassifier(**params)\n",
    "clf.fit(train_data,y_train)"
   ]
  },
  {
   "cell_type": "code",
   "execution_count": 184,
   "metadata": {},
   "outputs": [],
   "source": [
    "predictions = clf.predict_proba(test_data)[:,1]"
   ]
  },
  {
   "cell_type": "code",
   "execution_count": 185,
   "metadata": {},
   "outputs": [],
   "source": [
    "save_submission(predictions, 'catboost.csv')"
   ]
  },
  {
   "cell_type": "markdown",
   "metadata": {},
   "source": [
    "![catboost](images/catboost.png)"
   ]
  },
  {
   "cell_type": "markdown",
   "metadata": {},
   "source": [
    "## Catboost perform better than all our previous models and it's AUC score is much better than previous models so I am selecting this for predicting future data"
   ]
  },
  {
   "cell_type": "code",
   "execution_count": 186,
   "metadata": {},
   "outputs": [],
   "source": [
    "# Save model on disk\n",
    "pickle.dump(clf, open('models/catboost_model.pkl', 'wb'))"
   ]
  },
  {
   "cell_type": "code",
   "execution_count": null,
   "metadata": {},
   "outputs": [],
   "source": []
  }
 ],
 "metadata": {
  "kernelspec": {
   "display_name": "Python 3",
   "language": "python",
   "name": "python3"
  },
  "language_info": {
   "codemirror_mode": {
    "name": "ipython",
    "version": 3
   },
   "file_extension": ".py",
   "mimetype": "text/x-python",
   "name": "python",
   "nbconvert_exporter": "python",
   "pygments_lexer": "ipython3",
   "version": "3.6.9"
  }
 },
 "nbformat": 4,
 "nbformat_minor": 4
}
